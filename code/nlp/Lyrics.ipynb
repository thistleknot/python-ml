{
 "cells": [
  {
   "cell_type": "code",
   "execution_count": null,
   "id": "f161cddf-0da6-4970-a266-eaa903051820",
   "metadata": {},
   "outputs": [],
   "source": [
    "import requests\n",
    "\n",
    "url = \"https://billboard2.p.rapidapi.com/hot_100\"\n",
    "\n",
    "querystring = {\"date\":\"2023-01-01\"}\n",
    "\n",
    "headers = {\n",
    "\t\"X-RapidAPI-Key\": \"b4f68c5727msh09fd4f93d837b46p16c954jsnfa7519716989\",\n",
    "\t\"X-RapidAPI-Host\": \"billboard2.p.rapidapi.com\"\n",
    "}\n",
    "\n",
    "response = requests.request(\"GET\", url, headers=headers, params=querystring)\n",
    "\n",
    "print(response.text)"
   ]
  },
  {
   "cell_type": "code",
   "execution_count": null,
   "id": "a0070f43-c74a-4966-9d2d-3352ed032b5c",
   "metadata": {},
   "outputs": [],
   "source": [
    "import json"
   ]
  },
  {
   "cell_type": "code",
   "execution_count": null,
   "id": "1ee41772-1e99-40e6-893d-31c1df0ebb71",
   "metadata": {},
   "outputs": [],
   "source": [
    "\n",
    "\n",
    "response_text = response.text\n",
    "\n",
    "\n",
    "data = json.loads(response_text)\n",
    "#print(data)\n",
    "#except json.JSONDecodeError"
   ]
  },
  {
   "cell_type": "code",
   "execution_count": null,
   "id": "54cd04cd-1da5-4ad1-8c5f-f1f6570f86a0",
   "metadata": {},
   "outputs": [],
   "source": [
    "data"
   ]
  },
  {
   "cell_type": "code",
   "execution_count": null,
   "id": "908530ef-3abb-4cd4-aecb-a3f64af5588c",
   "metadata": {},
   "outputs": [],
   "source": [
    "for r in response.text:\n",
    "    print(r)"
   ]
  },
  {
   "cell_type": "code",
   "execution_count": null,
   "id": "c375fe56-6838-429e-b0b5-cdf6b2e74901",
   "metadata": {},
   "outputs": [],
   "source": [
    "import azapi\n",
    "\n",
    "API = azapi.AZlyrics('google', accuracy=0.5)\n",
    "\n",
    "API.artist = 'Tylor Swft'\n",
    "API.title = 'Bad Blods'\n",
    "\n",
    "API.getLyrics(save=True, ext='lrc')\n",
    "\n",
    "print(API.lyrics)\n",
    "\n",
    "# Correct Artist and Title are updated from webpage\n",
    "print(API.title, API.artist)"
   ]
  }
 ],
 "metadata": {
  "kernelspec": {
   "display_name": "Python 3 (ipykernel)",
   "language": "python",
   "name": "python3"
  },
  "language_info": {
   "codemirror_mode": {
    "name": "ipython",
    "version": 3
   },
   "file_extension": ".py",
   "mimetype": "text/x-python",
   "name": "python",
   "nbconvert_exporter": "python",
   "pygments_lexer": "ipython3",
   "version": "3.9.9"
  }
 },
 "nbformat": 4,
 "nbformat_minor": 5
}
