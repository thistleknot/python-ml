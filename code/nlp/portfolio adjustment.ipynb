{
 "cells": [
  {
   "cell_type": "code",
   "execution_count": null,
   "id": "90262e89-7c4e-4e8d-8fc7-8b795a4a8e14",
   "metadata": {},
   "outputs": [],
   "source": [
    "#portfolio adjustment\n",
    "def adjust_weights(original_weights, adhoc_investment):\n",
    "    \"\"\"\n",
    "    Adjusts the original portfolio weights based on the ad-hoc investment.\n",
    "\n",
    "    Args:\n",
    "    original_weights (dict): A dictionary with asset names as keys and their corresponding weights as values.\n",
    "    adhoc_investment (float): The percentage of capital invested in ad-hoc stocks (0 <= adhoc_investment <= 1).\n",
    "\n",
    "    Returns:\n",
    "    dict: A dictionary with the adjusted weights for the original portfolio.\n",
    "    \"\"\"\n",
    "    if not 0 <= adhoc_investment <= 1:\n",
    "        raise ValueError(\"adhoc_investment must be between 0 and 1\")\n",
    "\n",
    "    adjusted_weights = {}\n",
    "    for asset, weight in original_weights.items():\n",
    "        adjusted_weights[asset] = weight * (1 - adhoc_investment)\n",
    "\n",
    "    return adjusted_weights\n",
    "\n",
    "# Example usage:\n",
    "original_weights = {\"Stock_A\": 0.4, \"Stock_B\": 0.3, \"Stock_C\": 0.3}\n",
    "adhoc_investment = 0.25\n",
    "\n",
    "adjusted_weights = adjust_weights(original_weights, adhoc_investment)\n",
    "print(\"Adjusted weights:\", adjusted_weights)\n"
   ]
  }
 ],
 "metadata": {
  "kernelspec": {
   "display_name": "",
   "name": ""
  },
  "language_info": {
   "name": ""
  }
 },
 "nbformat": 4,
 "nbformat_minor": 5
}
