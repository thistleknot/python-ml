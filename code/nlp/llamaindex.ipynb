{
 "cells": [
  {
   "cell_type": "code",
   "execution_count": null,
   "id": "7831d2d5-489a-4f31-aeb5-6c3bd585d1b0",
   "metadata": {},
   "outputs": [],
   "source": [
    "#from llama_index import GPTSimpleVectorIndex, SimpleDirectoryReader\n",
    "from llama_index import GPTSimpleVectorIndex, SimpleDirectoryReader\n"
   ]
  },
  {
   "cell_type": "code",
   "execution_count": null,
   "id": "fb1a33bc-d425-44fd-ac62-dcc54133af98",
   "metadata": {},
   "outputs": [],
   "source": [
    "documents = SimpleDirectoryReader(f'C:\\\\Users\\\\User\\\\Documents\\\\wiki\\\\wiki\\\\data science\\\\nlp\\\\pdfs').load_data()"
   ]
  },
  {
   "cell_type": "code",
   "execution_count": null,
   "id": "93d6ddb2-71f4-4dab-a36b-534e2ac8d14c",
   "metadata": {},
   "outputs": [],
   "source": []
  },
  {
   "cell_type": "code",
   "execution_count": null,
   "id": "44dc45c5-4a3f-456a-a159-89c49135a9b7",
   "metadata": {},
   "outputs": [],
   "source": [
    "index = GPTSimpleVectorIndex.from_documents(documents)"
   ]
  },
  {
   "cell_type": "code",
   "execution_count": null,
   "id": "0a4e0ab3-76dc-4f85-ae1c-98c873894613",
   "metadata": {},
   "outputs": [],
   "source": [
    "UnstructuredReader = download_loader(\"UnstructuredReader\", refresh_cache=True)"
   ]
  },
  {
   "cell_type": "code",
   "execution_count": null,
   "id": "8e64d209-32ec-4f8f-a30b-cbe0a2e91475",
   "metadata": {},
   "outputs": [],
   "source": [
    "loader = UnstructuredReader()\n",
    "doc_set = {}\n",
    "#all_docs = []\n",
    "#years = [2022, 2021, 2020, 2019]\n",
    "nlp_docs = loader.load_data(file=Path(f'C:\\\\Users\\\\User\\\\Documents\\\\wiki\\\\wiki\\\\data science\\\\*.pdf'), split_documents=False)"
   ]
  },
  {
   "cell_type": "code",
   "execution_count": null,
   "id": "d480c986-7502-4b4a-be67-16cd5f5878bd",
   "metadata": {},
   "outputs": [],
   "source": [
    "from llama_index import ServiceContext\n",
    "\n",
    "service_context = ServiceContext.from_defaults(chunk_size_limit=512)"
   ]
  }
 ],
 "metadata": {
  "kernelspec": {
   "display_name": "Python 3 (ipykernel)",
   "language": "python",
   "name": "python3"
  },
  "language_info": {
   "codemirror_mode": {
    "name": "ipython",
    "version": 3
   },
   "file_extension": ".py",
   "mimetype": "text/x-python",
   "name": "python",
   "nbconvert_exporter": "python",
   "pygments_lexer": "ipython3",
   "version": "3.9.9"
  }
 },
 "nbformat": 4,
 "nbformat_minor": 5
}
