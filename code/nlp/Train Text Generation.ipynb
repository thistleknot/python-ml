{
 "cells": [
  {
   "cell_type": "code",
   "execution_count": null,
   "id": "92f38a68-f127-47da-8929-706b843d5e88",
   "metadata": {},
   "outputs": [],
   "source": [
    "from datasets import load_dataset\n",
    "import pandas as pd\n",
    "import numpy as np"
   ]
  },
  {
   "cell_type": "code",
   "execution_count": null,
   "id": "da68385d-6bca-4bee-947b-33f91027ecb9",
   "metadata": {},
   "outputs": [],
   "source": []
  },
  {
   "cell_type": "code",
   "execution_count": null,
   "id": "f0875b3c-d3ab-443b-9a9b-c40a06cbea8b",
   "metadata": {},
   "outputs": [],
   "source": [
    "#load data\n",
    "sciq = load_dataset(\"sciq\")\n",
    "\n",
    "quotes_az = pd.read_csv(r\"H:\\Curated-LLM-Data\\data\\quotes_by_author.csv\",index_col=0)\n",
    "quotes_gracious = pd.read_csv(r\"H:\\Curated-LLM-Data\\data\\graciousquotes.csv\",index_col=0)\n",
    "combined = pd.concat([quotes_az.dropna(),quotes_gracious.dropna()],axis=0).dropna()"
   ]
  },
  {
   "cell_type": "code",
   "execution_count": 24,
   "id": "b89bd82c-7b5c-4484-9df2-cffdb8e2c2d7",
   "metadata": {},
   "outputs": [
    {
     "data": {
      "text/plain": [
       "{'question': 'What type of organism is commonly used in preparation of foods such as cheese and yogurt?',\n",
       " 'distractor3': 'viruses',\n",
       " 'distractor1': 'protozoa',\n",
       " 'distractor2': 'gymnosperms',\n",
       " 'correct_answer': 'mesophilic organisms',\n",
       " 'support': 'Mesophiles grow best in moderate temperature, typically between 25°C and 40°C (77°F and 104°F). Mesophiles are often found living in or on the bodies of humans or other animals. The optimal growth temperature of many pathogenic mesophiles is 37°C (98°F), the normal human body temperature. Mesophilic organisms have important uses in food preparation, including cheese, yogurt, beer and wine.'}"
      ]
     },
     "execution_count": 24,
     "metadata": {},
     "output_type": "execute_result"
    }
   ],
   "source": [
    "sciq['train'][0]"
   ]
  },
  {
   "cell_type": "code",
   "execution_count": 23,
   "id": "1ab7e31d-f446-4728-b304-581e7c23c6ff",
   "metadata": {},
   "outputs": [
    {
     "data": {
      "text/plain": [
       "'What type of organism is commonly used in preparation of foods such as cheese and yogurt?'"
      ]
     },
     "execution_count": 23,
     "metadata": {},
     "output_type": "execute_result"
    }
   ],
   "source": []
  },
  {
   "cell_type": "code",
   "execution_count": 22,
   "id": "c0589906-a3d3-4b52-95c1-2c3b5bab0f09",
   "metadata": {},
   "outputs": [
    {
     "data": {
      "text/plain": [
       "'What type of organism is commonly used in preparation of foods such as cheese and yogurt?'"
      ]
     },
     "execution_count": 22,
     "metadata": {},
     "output_type": "execute_result"
    }
   ],
   "source": []
  },
  {
   "cell_type": "code",
   "execution_count": null,
   "id": "d6d2c33b-84ec-4ebd-b638-65cb46e20036",
   "metadata": {},
   "outputs": [],
   "source": [
    "# Step 1: Install the Transformers library\n",
    "# !pip install transformers\n",
    "\n",
    "# Step 2: Import required libraries\n",
    "import torch\n",
    "from torch.utils.data import Dataset, DataLoader\n",
    "from transformers import GPT2Tokenizer\n",
    "\n",
    "# Step 3: Load the GPT-2 tokenizer\n",
    "tokenizer = GPT2Tokenizer.from_pretrained('gpt2')\n",
    "\n",
    "# Step 4: Create a custom dataset class\n",
    "class QuotesDataset(Dataset):\n",
    "    def __init__(self, df, tokenizer):\n",
    "        self.df = df\n",
    "        self.tokenizer = tokenizer\n",
    "\n",
    "    def __len__(self):\n",
    "        return len(self.df)\n",
    "\n",
    "    def __getitem__(self, idx):\n",
    "        text = self.df.loc[idx, 'text']\n",
    "        encoded_text = self.tokenizer.encode_plus(\n",
    "            text, add_special_tokens=True, return_tensors='pt', truncation=True, max_length=1024\n",
    "        )\n",
    "        return encoded_text['input_ids'].squeeze()\n",
    "\n",
    "# Step 5: Define a function to encode the text\n",
    "def collate_fn(batch):\n",
    "    return torch.nn.utils.rnn.pad_sequence(batch, batch_first=True, padding_value=tokenizer.pad_token_id)\n",
    "\n",
    "# Step 6: Load the dataframe containing the text\n",
    "import pandas as pd\n",
    "data = {'text': ['Quote 1', 'Quote 2', 'Quote 3']}\n",
    "quotes = pd.DataFrame(data)\n",
    "\n",
    "# Step 7: Create a DataLoader\n",
    "dataset = QuotesDataset(quotes, tokenizer)\n",
    "dataloader = DataLoader(dataset, batch_size=4, shuffle=True, collate_fn=collate_fn)\n",
    "\n",
    "# Example: Iterate over the DataLoader\n",
    "for batch in dataloader:\n",
    "    print(batch)\n",
    "    "
   ]
  },
  {
   "cell_type": "code",
   "execution_count": null,
   "id": "6dc0c9e0-8dbc-44e5-9055-df59100e76d6",
   "metadata": {},
   "outputs": [],
   "source": [
    "\n",
    "# Step 1: Import required libraries\n",
    "import torch\n",
    "from torch.utils.data import Dataset, DataLoader\n",
    "from transformers import GPT2Tokenizer, GPT2LMHeadModel, AdamW, get_linear_schedule_with_warmup\n",
    "\n",
    "# Continue from the previous example with the QuotesDataset class, tokenizer, and dataloader\n",
    "\n",
    "# Step 2: Load the GPT-2 model and set it to the training mode\n",
    "model = GPT2LMHeadModel.from_pretrained('gpt2')\n",
    "model.train()\n",
    "model.to('cuda')\n",
    "\n",
    "# Step 3: Define a loss function, optimizer, and learning rate\n",
    "criterion = torch.nn.CrossEntropyLoss()\n",
    "optimizer = AdamW(model.parameters(), lr=5e-5)\n",
    "scheduler = get_linear_schedule_with_warmup(optimizer, num_warmup_steps=0, num_training_steps=len(dataloader)*10)\n",
    "\n",
    "# Step 4: Define the training loop\n",
    "def train(dataloader, model, tokenizer, criterion, optimizer, scheduler, device='cuda'):\n",
    "    model.train()\n",
    "    for epoch in range(10):\n",
    "        print(f\"Epoch {epoch+1}\")\n",
    "        for step, batch in enumerate(dataloader):\n",
    "            batch = batch.to(device)\n",
    "            outputs = model(batch, labels=batch)\n",
    "            loss = outputs[0]\n",
    "            loss.backward()\n",
    "            optimizer.step()\n",
    "            scheduler.step()\n",
    "            optimizer.zero_grad()\n",
    "            if step % 10 == 0:\n",
    "                print(f\"Step {step} - Loss: {loss.item()}\")\n",
    "                \n",
    "# Step 5: Train the model\n",
    "device = torch.device('cuda' if torch.cuda.is_available() else 'cpu')\n",
    "model.to(device)\n",
    "train(dataloader, model, tokenizer, criterion, optimizer, scheduler, device)"
   ]
  }
 ],
 "metadata": {
  "kernelspec": {
   "display_name": "Python 3 (ipykernel)",
   "language": "python",
   "name": "python3"
  },
  "language_info": {
   "codemirror_mode": {
    "name": "ipython",
    "version": 3
   },
   "file_extension": ".py",
   "mimetype": "text/x-python",
   "name": "python",
   "nbconvert_exporter": "python",
   "pygments_lexer": "ipython3",
   "version": "3.9.9"
  }
 },
 "nbformat": 4,
 "nbformat_minor": 5
}
