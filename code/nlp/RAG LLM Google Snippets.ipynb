{
 "cells": [
  {
   "cell_type": "code",
   "execution_count": null,
   "id": "14cb4bcd-d33e-4408-b3e1-c05c15a63c76",
   "metadata": {},
   "outputs": [],
   "source": []
  },
  {
   "cell_type": "code",
   "execution_count": null,
   "id": "16903dac-0594-4df5-8e75-a184c1be7b5c",
   "metadata": {},
   "outputs": [],
   "source": []
  },
  {
   "cell_type": "code",
   "execution_count": null,
   "id": "4c7dc7d7-acee-455b-888b-04240f08141b",
   "metadata": {},
   "outputs": [],
   "source": []
  },
  {
   "cell_type": "code",
   "execution_count": 100,
   "id": "ebef0a91-6241-4c15-8f8d-7dddc95bc7ef",
   "metadata": {},
   "outputs": [
    {
     "name": "stdin",
     "output_type": "stream",
     "text": [
      "Enter your search query:  How has Neoplatonism influenced today's ideas?\n"
     ]
    },
    {
     "data": {
      "application/vnd.jupyter.widget-view+json": {
       "model_id": "f9805f11b1e84ed29bcb8885be17cdd2",
       "version_major": 2,
       "version_minor": 0
      },
      "text/plain": [
       "Updating Embedding:   0%|          | 0/10 [00:00<?, ? docs/s]"
      ]
     },
     "metadata": {},
     "output_type": "display_data"
    },
    {
     "data": {
      "application/vnd.jupyter.widget-view+json": {
       "model_id": "",
       "version_major": 2,
       "version_minor": 0
      },
      "text/plain": [
       "Create embeddings:   0%|          | 0/16 [00:00<?, ? Docs/s]"
      ]
     },
     "metadata": {},
     "output_type": "display_data"
    },
    {
     "data": {
      "application/vnd.jupyter.widget-view+json": {
       "model_id": "",
       "version_major": 2,
       "version_minor": 0
      },
      "text/plain": [
       "Create embeddings:   0%|          | 0/16 [00:00<?, ? Docs/s]"
      ]
     },
     "metadata": {},
     "output_type": "display_data"
    },
    {
     "name": "stdout",
     "output_type": "stream",
     "text": [
      "\"Query: How has Neoplatonism influenced today's ideas?\"\n",
      "'Answers:'\n",
      "[   {   'answer': ' its synthesis of ancient greek philosophy and the '\n",
      "                  'abrahamic traditions andotsotsi'},\n",
      "    {   'answer': ' its synthesis of ancient greek philosophy and the '\n",
      "                  'abrahamic traditions andotsotsis'},\n",
      "    {   'answer': ' its synthesis of ancient greek philosophy and the '\n",
      "                  'abrahamic traditions andotsb.'},\n",
      "    {   'answer': ' its synthesis of ancient greek philosophy and the '\n",
      "                  'abrahamic traditions andotss'},\n",
      "    {   'answer': ' its synthesis of ancient greek philosophy and the '\n",
      "                  'abrahamic traditions andotss.'}]\n"
     ]
    }
   ],
   "source": [
    "from haystack.document_stores.memory import InMemoryDocumentStore\n",
    "from haystack.nodes.retriever.dense import DensePassageRetriever\n",
    "from haystack.nodes.reader import FARMReader\n",
    "from haystack.pipelines import ExtractiveQAPipeline, GenerativeQAPipeline\n",
    "from haystack.utils import print_answers\n",
    "from haystack.nodes import RAGenerator\n",
    "from haystack.nodes import Shaper, PromptNode, PromptTemplate, PromptModel, EmbeddingRetriever\n",
    "from haystack import Pipeline\n",
    "\n",
    "from bs4 import BeautifulSoup\n",
    "import requests, json, lxml\n",
    "\n",
    "headers = {\n",
    "    'User-agent':\n",
    "    'Mozilla/5.0 (Windows NT 10.0; Win64; x64) AppleWebKit/537.36 (KHTML, like Gecko) Chrome/106.0.0.0 Safari/537.36'\n",
    "}\n",
    "\n",
    "query = input(\"Enter your search query: \")\n",
    "\n",
    "# https://requests.readthedocs.io/en/latest/user/quickstart/#passing-parameters-in-urls\n",
    "params = {\n",
    "  'q': query,  # query \n",
    "  'gl': 'us',    # country to search from\n",
    "  'hl': 'en'     # language\n",
    "}\n",
    "\n",
    "# https://requests.readthedocs.io/en/latest/user/quickstart/#timeouts\n",
    "html = requests.get(\"https://www.google.com/search?q=\"+params['q'], headers=headers, params=params, timeout=30)\n",
    "soup = BeautifulSoup(html.text, 'lxml')\n",
    "\n",
    "\n",
    "data = []\n",
    "\n",
    "for result in soup.select('.tF2Cxc'):\n",
    "    title = result.select_one('.DKV0Md').text\n",
    "    link = result.select_one('.yuRUbf a')['href']\n",
    "    try:\n",
    "        snippet = result.select_one('#rso .lyLwlc').text\n",
    "        data.append({\n",
    "           'title': title,\n",
    "           'link': link,\n",
    "           'snippet': snippet\n",
    "        })\n",
    "    except:\n",
    "        pass\n",
    "\n",
    "\n",
    "\n",
    "#print(document_store.get_all_documents())\n",
    "retriever = DensePassageRetriever(\n",
    "    document_store=document_store,\n",
    "    query_embedding_model=\"facebook/dpr-question_encoder-single-nq-base\",\n",
    "    passage_embedding_model=\"facebook/dpr-ctx_encoder-single-nq-base\",\n",
    "    use_gpu=True,\n",
    "    embed_title=True,\n",
    ")\n",
    "\n",
    "    \n",
    "document_store = InMemoryDocumentStore()\n",
    "document_store.delete_documents()\n",
    "# Add search snippets to document store\n",
    "for result in data:\n",
    "    document_store.write_documents([{\n",
    "        \"content\": result[\"snippet\"],\n",
    "        \"meta\": {\n",
    "            \"name\": result[\"title\"],\n",
    "            \"url\": result[\"link\"]\n",
    "        }\n",
    "    }])\n",
    "    \n",
    "# Add documents embeddings to index\n",
    "\n",
    "document_store.update_embeddings(retriever=retriever)    \n",
    "\n",
    "\n",
    "#print(json.dumps(data, indent=2, ensure_ascii=False))\n",
    "\n",
    "# Delete existing documents in documents store\n",
    "\n",
    "# Initialize document store\n",
    "\n",
    "\n",
    "# Initialize RAG Generator\n",
    "generator = RAGenerator(\n",
    "    model_name_or_path=\"facebook/rag-token-nq\",\n",
    "    use_gpu=True,\n",
    "    top_k=5,\n",
    "    max_length=200,\n",
    "    min_length=20,\n",
    "    embed_title=True,\n",
    "    num_beams=5,\n",
    "    retriever=retriever\n",
    ")\n",
    "pipe = GenerativeQAPipeline(generator=generator, retriever=retriever)\n",
    "res = pipe.run(query=query, params={\"Generator\": {\"top_k\": 5}, \"Retriever\": {\"top_k\": 5}})\n",
    "print_answers(res, details=\"minimum\")\n"
   ]
  },
  {
   "cell_type": "code",
   "execution_count": 106,
   "id": "c3d22c0c-8ee5-4472-a019-56a0d2d758e8",
   "metadata": {},
   "outputs": [
    {
     "data": {
      "text/plain": [
       "[{'title': 'Neoplatonism - Stanford Encyclopedia of Philosophy',\n",
       "  'link': 'https://plato.stanford.edu/entries/neoplatonism/',\n",
       "  'snippet': 'by C Wildberg · 2016 · Cited by 57 — It may even be true to say that even more than the writings of Plato and Aristotle themselves Neoplatonic ideas have continued to influence\\xa0...'},\n",
       " {'title': 'Christian Platonism, Neoplatonism and Modern Naturalism',\n",
       "  'link': 'https://credomag.com/2022/01/christian-platonism-neoplatonism-and-modern-naturalism/',\n",
       "  'snippet': 'Jan 12, 2022 — Neoplatonism was the most potent and influential form of Platonism at that time, and it was both a philosophy and a mystical religion. But it\\xa0...'},\n",
       " {'title': 'Neoplatonism',\n",
       "  'link': 'https://www.infoplease.com/encyclopedia/religion/philosophy/concepts/neoplatonism/the-impact-of-neoplatonism',\n",
       "  'snippet': \"The system influenced medieval Jewish and Arab philosophy, and G. W. F. Hegel's metaphysics had Neoplatonic ingredients. Neoplatonic metaphysics and aesthetics\\xa0...\"},\n",
       " {'title': 'Neo-Platonism',\n",
       "  'link': 'https://iep.utm.edu/neoplato/',\n",
       "  'snippet': 'The origins of Neoplatonism can be traced back to the era of Hellenistic syncretism which spawned such movements and schools of thought as Gnosticism and the\\xa0...'},\n",
       " {'title': 'Platonism - Neoplatonism: its nature and history',\n",
       "  'link': 'https://www.britannica.com/topic/Platonism/Neoplatonism-its-nature-and-history',\n",
       "  'snippet': 'Neoplatonism began as a complex (and in some ways ambiguous) philosophy and grew vigorously in a variety of forms over a long period; it is therefore not easy\\xa0...'},\n",
       " {'title': 'Neoplatonism Overview & Facts | What are the Beliefs of ...',\n",
       "  'link': 'https://study.com/academy/lesson/neoplatonism-overview-facts.html',\n",
       "  'snippet': 'Feb 9, 2023 — The greatest influence of Neoplatonism is its synthesis of ancient Greek philosophy and the Abrahamic traditions, including Christianity, Islam,\\xa0...'},\n",
       " {'title': 'Neoplatonism',\n",
       "  'link': 'https://en.wikipedia.org/wiki/Neoplatonism',\n",
       "  'snippet': 'Neoplatonism had an enduring influence on the subsequent history of philosophy. In the Middle Ages, neoplatonic ideas were studied and discussed by\\xa0...'},\n",
       " {'title': 'Neoplatonism: A Mystical Interpretation of Plato',\n",
       "  'link': 'https://www.learnreligions.com/neoplatonism-95836',\n",
       "  'snippet': 'Mar 6, 2019 — While the early Neoplatonists were pagans, many Neoplatonist ideas influenced both mainstream Christian and Gnostic beliefs. Neoplatonist\\xa0...'},\n",
       " {'title': 'The Permanent Influence of Neoplatonism upon Christianity',\n",
       "  'link': 'https://www.journals.uchicago.edu/doi/pdf/10.1086/477376',\n",
       "  'snippet': 'by WR Inge · 1900 · Cited by 29 — may be objected that most of the ideas which the church is said to have borrowed from Neoplatonism are to be found already in the apostle John,\\xa0...'},\n",
       " {'title': 'Glossary Definition: Neoplatonism',\n",
       "  'link': 'https://www.pbs.org/faithandreason/gengloss/neoplat-body.html',\n",
       "  'snippet': \"Neoplatonist ideas are more explicitly religious than those of Plato, and they developed largely to counter dualistic interpretations of Plato's thought. For\\xa0...\"}]"
      ]
     },
     "execution_count": 106,
     "metadata": {},
     "output_type": "execute_result"
    }
   ],
   "source": [
    "data"
   ]
  },
  {
   "cell_type": "code",
   "execution_count": 107,
   "id": "4025d3b4-ca43-4ec2-8995-de932b5d3403",
   "metadata": {},
   "outputs": [
    {
     "data": {
      "text/plain": [
       "{'query': \"How has Neoplatonism influenced today's ideas?\",\n",
       " 'answers': [<Answer {'answer': ' its synthesis of ancient greek philosophy and the abrahamic traditions andotsotsi', 'type': 'generative', 'score': None, 'context': None, 'offsets_in_document': None, 'offsets_in_context': None, 'document_ids': ['4329f558e0539f550094a2ab0b041dd6', 'dddc81fd36339cca63fbb6b0badd7237', '31f1c1a636b528c6b16af98371cb19cf', '55ac2ed0b844950770e21d7103a991f8', '78b591bd14f8dad66f28fd4f049be2ba'], 'meta': {'doc_scores': [0.6971465544966285, 0.6900900149730781, 0.685922565979213, 0.6824336064790444, 0.68232519791714], 'content': ['Feb 9, 2023 — The greatest influence of Neoplatonism is its synthesis of ancient Greek philosophy and the Abrahamic traditions, including Christianity, Islam,\\xa0...', \"The system influenced medieval Jewish and Arab philosophy, and G. W. F. Hegel's metaphysics had Neoplatonic ingredients. Neoplatonic metaphysics and aesthetics\\xa0...\", 'Neoplatonism had an enduring influence on the subsequent history of philosophy. In the Middle Ages, neoplatonic ideas were studied and discussed by\\xa0...', \"Neoplatonist ideas are more explicitly religious than those of Plato, and they developed largely to counter dualistic interpretations of Plato's thought. For\\xa0...\", 'The origins of Neoplatonism can be traced back to the era of Hellenistic syncretism which spawned such movements and schools of thought as Gnosticism and the\\xa0...'], 'titles': ['Neoplatonism Overview & Facts | What are the Beliefs of ...', 'Neoplatonism', 'Neoplatonism', 'Glossary Definition: Neoplatonism', 'Neo-Platonism'], 'doc_metas': [{'name': 'Neoplatonism Overview & Facts | What are the Beliefs of ...', 'url': 'https://study.com/academy/lesson/neoplatonism-overview-facts.html'}, {'name': 'Neoplatonism', 'url': 'https://www.infoplease.com/encyclopedia/religion/philosophy/concepts/neoplatonism/the-impact-of-neoplatonism'}, {'name': 'Neoplatonism', 'url': 'https://en.wikipedia.org/wiki/Neoplatonism'}, {'name': 'Glossary Definition: Neoplatonism', 'url': 'https://www.pbs.org/faithandreason/gengloss/neoplat-body.html'}, {'name': 'Neo-Platonism', 'url': 'https://iep.utm.edu/neoplato/'}], 'prompt': None}}>,\n",
       "  <Answer {'answer': ' its synthesis of ancient greek philosophy and the abrahamic traditions andotsotsis', 'type': 'generative', 'score': None, 'context': None, 'offsets_in_document': None, 'offsets_in_context': None, 'document_ids': ['4329f558e0539f550094a2ab0b041dd6', 'dddc81fd36339cca63fbb6b0badd7237', '31f1c1a636b528c6b16af98371cb19cf', '55ac2ed0b844950770e21d7103a991f8', '78b591bd14f8dad66f28fd4f049be2ba'], 'meta': {'doc_scores': [0.6971465544966285, 0.6900900149730781, 0.685922565979213, 0.6824336064790444, 0.68232519791714], 'content': ['Feb 9, 2023 — The greatest influence of Neoplatonism is its synthesis of ancient Greek philosophy and the Abrahamic traditions, including Christianity, Islam,\\xa0...', \"The system influenced medieval Jewish and Arab philosophy, and G. W. F. Hegel's metaphysics had Neoplatonic ingredients. Neoplatonic metaphysics and aesthetics\\xa0...\", 'Neoplatonism had an enduring influence on the subsequent history of philosophy. In the Middle Ages, neoplatonic ideas were studied and discussed by\\xa0...', \"Neoplatonist ideas are more explicitly religious than those of Plato, and they developed largely to counter dualistic interpretations of Plato's thought. For\\xa0...\", 'The origins of Neoplatonism can be traced back to the era of Hellenistic syncretism which spawned such movements and schools of thought as Gnosticism and the\\xa0...'], 'titles': ['Neoplatonism Overview & Facts | What are the Beliefs of ...', 'Neoplatonism', 'Neoplatonism', 'Glossary Definition: Neoplatonism', 'Neo-Platonism'], 'doc_metas': [{'name': 'Neoplatonism Overview & Facts | What are the Beliefs of ...', 'url': 'https://study.com/academy/lesson/neoplatonism-overview-facts.html'}, {'name': 'Neoplatonism', 'url': 'https://www.infoplease.com/encyclopedia/religion/philosophy/concepts/neoplatonism/the-impact-of-neoplatonism'}, {'name': 'Neoplatonism', 'url': 'https://en.wikipedia.org/wiki/Neoplatonism'}, {'name': 'Glossary Definition: Neoplatonism', 'url': 'https://www.pbs.org/faithandreason/gengloss/neoplat-body.html'}, {'name': 'Neo-Platonism', 'url': 'https://iep.utm.edu/neoplato/'}], 'prompt': None}}>,\n",
       "  <Answer {'answer': ' its synthesis of ancient greek philosophy and the abrahamic traditions andotsb.', 'type': 'generative', 'score': None, 'context': None, 'offsets_in_document': None, 'offsets_in_context': None, 'document_ids': ['4329f558e0539f550094a2ab0b041dd6', 'dddc81fd36339cca63fbb6b0badd7237', '31f1c1a636b528c6b16af98371cb19cf', '55ac2ed0b844950770e21d7103a991f8', '78b591bd14f8dad66f28fd4f049be2ba'], 'meta': {'doc_scores': [0.6971465544966285, 0.6900900149730781, 0.685922565979213, 0.6824336064790444, 0.68232519791714], 'content': ['Feb 9, 2023 — The greatest influence of Neoplatonism is its synthesis of ancient Greek philosophy and the Abrahamic traditions, including Christianity, Islam,\\xa0...', \"The system influenced medieval Jewish and Arab philosophy, and G. W. F. Hegel's metaphysics had Neoplatonic ingredients. Neoplatonic metaphysics and aesthetics\\xa0...\", 'Neoplatonism had an enduring influence on the subsequent history of philosophy. In the Middle Ages, neoplatonic ideas were studied and discussed by\\xa0...', \"Neoplatonist ideas are more explicitly religious than those of Plato, and they developed largely to counter dualistic interpretations of Plato's thought. For\\xa0...\", 'The origins of Neoplatonism can be traced back to the era of Hellenistic syncretism which spawned such movements and schools of thought as Gnosticism and the\\xa0...'], 'titles': ['Neoplatonism Overview & Facts | What are the Beliefs of ...', 'Neoplatonism', 'Neoplatonism', 'Glossary Definition: Neoplatonism', 'Neo-Platonism'], 'doc_metas': [{'name': 'Neoplatonism Overview & Facts | What are the Beliefs of ...', 'url': 'https://study.com/academy/lesson/neoplatonism-overview-facts.html'}, {'name': 'Neoplatonism', 'url': 'https://www.infoplease.com/encyclopedia/religion/philosophy/concepts/neoplatonism/the-impact-of-neoplatonism'}, {'name': 'Neoplatonism', 'url': 'https://en.wikipedia.org/wiki/Neoplatonism'}, {'name': 'Glossary Definition: Neoplatonism', 'url': 'https://www.pbs.org/faithandreason/gengloss/neoplat-body.html'}, {'name': 'Neo-Platonism', 'url': 'https://iep.utm.edu/neoplato/'}], 'prompt': None}}>,\n",
       "  <Answer {'answer': ' its synthesis of ancient greek philosophy and the abrahamic traditions andotss', 'type': 'generative', 'score': None, 'context': None, 'offsets_in_document': None, 'offsets_in_context': None, 'document_ids': ['4329f558e0539f550094a2ab0b041dd6', 'dddc81fd36339cca63fbb6b0badd7237', '31f1c1a636b528c6b16af98371cb19cf', '55ac2ed0b844950770e21d7103a991f8', '78b591bd14f8dad66f28fd4f049be2ba'], 'meta': {'doc_scores': [0.6971465544966285, 0.6900900149730781, 0.685922565979213, 0.6824336064790444, 0.68232519791714], 'content': ['Feb 9, 2023 — The greatest influence of Neoplatonism is its synthesis of ancient Greek philosophy and the Abrahamic traditions, including Christianity, Islam,\\xa0...', \"The system influenced medieval Jewish and Arab philosophy, and G. W. F. Hegel's metaphysics had Neoplatonic ingredients. Neoplatonic metaphysics and aesthetics\\xa0...\", 'Neoplatonism had an enduring influence on the subsequent history of philosophy. In the Middle Ages, neoplatonic ideas were studied and discussed by\\xa0...', \"Neoplatonist ideas are more explicitly religious than those of Plato, and they developed largely to counter dualistic interpretations of Plato's thought. For\\xa0...\", 'The origins of Neoplatonism can be traced back to the era of Hellenistic syncretism which spawned such movements and schools of thought as Gnosticism and the\\xa0...'], 'titles': ['Neoplatonism Overview & Facts | What are the Beliefs of ...', 'Neoplatonism', 'Neoplatonism', 'Glossary Definition: Neoplatonism', 'Neo-Platonism'], 'doc_metas': [{'name': 'Neoplatonism Overview & Facts | What are the Beliefs of ...', 'url': 'https://study.com/academy/lesson/neoplatonism-overview-facts.html'}, {'name': 'Neoplatonism', 'url': 'https://www.infoplease.com/encyclopedia/religion/philosophy/concepts/neoplatonism/the-impact-of-neoplatonism'}, {'name': 'Neoplatonism', 'url': 'https://en.wikipedia.org/wiki/Neoplatonism'}, {'name': 'Glossary Definition: Neoplatonism', 'url': 'https://www.pbs.org/faithandreason/gengloss/neoplat-body.html'}, {'name': 'Neo-Platonism', 'url': 'https://iep.utm.edu/neoplato/'}], 'prompt': None}}>,\n",
       "  <Answer {'answer': ' its synthesis of ancient greek philosophy and the abrahamic traditions andotss.', 'type': 'generative', 'score': None, 'context': None, 'offsets_in_document': None, 'offsets_in_context': None, 'document_ids': ['4329f558e0539f550094a2ab0b041dd6', 'dddc81fd36339cca63fbb6b0badd7237', '31f1c1a636b528c6b16af98371cb19cf', '55ac2ed0b844950770e21d7103a991f8', '78b591bd14f8dad66f28fd4f049be2ba'], 'meta': {'doc_scores': [0.6971465544966285, 0.6900900149730781, 0.685922565979213, 0.6824336064790444, 0.68232519791714], 'content': ['Feb 9, 2023 — The greatest influence of Neoplatonism is its synthesis of ancient Greek philosophy and the Abrahamic traditions, including Christianity, Islam,\\xa0...', \"The system influenced medieval Jewish and Arab philosophy, and G. W. F. Hegel's metaphysics had Neoplatonic ingredients. Neoplatonic metaphysics and aesthetics\\xa0...\", 'Neoplatonism had an enduring influence on the subsequent history of philosophy. In the Middle Ages, neoplatonic ideas were studied and discussed by\\xa0...', \"Neoplatonist ideas are more explicitly religious than those of Plato, and they developed largely to counter dualistic interpretations of Plato's thought. For\\xa0...\", 'The origins of Neoplatonism can be traced back to the era of Hellenistic syncretism which spawned such movements and schools of thought as Gnosticism and the\\xa0...'], 'titles': ['Neoplatonism Overview & Facts | What are the Beliefs of ...', 'Neoplatonism', 'Neoplatonism', 'Glossary Definition: Neoplatonism', 'Neo-Platonism'], 'doc_metas': [{'name': 'Neoplatonism Overview & Facts | What are the Beliefs of ...', 'url': 'https://study.com/academy/lesson/neoplatonism-overview-facts.html'}, {'name': 'Neoplatonism', 'url': 'https://www.infoplease.com/encyclopedia/religion/philosophy/concepts/neoplatonism/the-impact-of-neoplatonism'}, {'name': 'Neoplatonism', 'url': 'https://en.wikipedia.org/wiki/Neoplatonism'}, {'name': 'Glossary Definition: Neoplatonism', 'url': 'https://www.pbs.org/faithandreason/gengloss/neoplat-body.html'}, {'name': 'Neo-Platonism', 'url': 'https://iep.utm.edu/neoplato/'}], 'prompt': None}}>],\n",
       " 'documents': [<Document: {'content': 'Feb 9, 2023 — The greatest influence of Neoplatonism is its synthesis of ancient Greek philosophy and the Abrahamic traditions, including Christianity, Islam,\\xa0...', 'content_type': 'text', 'score': 0.6971465544966285, 'meta': {'name': 'Neoplatonism Overview & Facts | What are the Beliefs of ...', 'url': 'https://study.com/academy/lesson/neoplatonism-overview-facts.html'}, 'id_hash_keys': ['content'], 'embedding': None, 'id': '4329f558e0539f550094a2ab0b041dd6'}>,\n",
       "  <Document: {'content': \"The system influenced medieval Jewish and Arab philosophy, and G. W. F. Hegel's metaphysics had Neoplatonic ingredients. Neoplatonic metaphysics and aesthetics\\xa0...\", 'content_type': 'text', 'score': 0.6900900149730781, 'meta': {'name': 'Neoplatonism', 'url': 'https://www.infoplease.com/encyclopedia/religion/philosophy/concepts/neoplatonism/the-impact-of-neoplatonism'}, 'id_hash_keys': ['content'], 'embedding': None, 'id': 'dddc81fd36339cca63fbb6b0badd7237'}>,\n",
       "  <Document: {'content': 'Neoplatonism had an enduring influence on the subsequent history of philosophy. In the Middle Ages, neoplatonic ideas were studied and discussed by\\xa0...', 'content_type': 'text', 'score': 0.685922565979213, 'meta': {'name': 'Neoplatonism', 'url': 'https://en.wikipedia.org/wiki/Neoplatonism'}, 'id_hash_keys': ['content'], 'embedding': None, 'id': '31f1c1a636b528c6b16af98371cb19cf'}>,\n",
       "  <Document: {'content': \"Neoplatonist ideas are more explicitly religious than those of Plato, and they developed largely to counter dualistic interpretations of Plato's thought. For\\xa0...\", 'content_type': 'text', 'score': 0.6824336064790444, 'meta': {'name': 'Glossary Definition: Neoplatonism', 'url': 'https://www.pbs.org/faithandreason/gengloss/neoplat-body.html'}, 'id_hash_keys': ['content'], 'embedding': None, 'id': '55ac2ed0b844950770e21d7103a991f8'}>,\n",
       "  <Document: {'content': 'The origins of Neoplatonism can be traced back to the era of Hellenistic syncretism which spawned such movements and schools of thought as Gnosticism and the\\xa0...', 'content_type': 'text', 'score': 0.68232519791714, 'meta': {'name': 'Neo-Platonism', 'url': 'https://iep.utm.edu/neoplato/'}, 'id_hash_keys': ['content'], 'embedding': None, 'id': '78b591bd14f8dad66f28fd4f049be2ba'}>],\n",
       " 'root_node': 'Query',\n",
       " 'params': {'Generator': {'top_k': 5}, 'Retriever': {'top_k': 5}},\n",
       " 'node_id': 'Generator'}"
      ]
     },
     "execution_count": 107,
     "metadata": {},
     "output_type": "execute_result"
    }
   ],
   "source": []
  }
 ],
 "metadata": {
  "kernelspec": {
   "display_name": "Python 3 (ipykernel)",
   "language": "python",
   "name": "python3"
  },
  "language_info": {
   "codemirror_mode": {
    "name": "ipython",
    "version": 3
   },
   "file_extension": ".py",
   "mimetype": "text/x-python",
   "name": "python",
   "nbconvert_exporter": "python",
   "pygments_lexer": "ipython3",
   "version": "3.9.9"
  }
 },
 "nbformat": 4,
 "nbformat_minor": 5
}
