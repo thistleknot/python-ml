{
 "cells": [
  {
   "cell_type": "code",
   "execution_count": null,
   "id": "608db03c-65bb-451b-bd23-0ec4b5b37b19",
   "metadata": {},
   "outputs": [],
   "source": [
    "from bokeh.sampledata.autompg import autompg_clean as df\n",
    "from matplotlib.backends.backend_agg import FigureCanvas\n",
    "from matplotlib.figure import Figure\n",
    "from sklearn.ensemble import IsolationForest \n",
    "import holoviews as hv\n",
    "import hvplot.pandas\n",
    "import matplotlib.pyplot as plt \n",
    "import numpy as np\n",
    "import pandas as pd \n",
    "import panel as pn\n",
    "import panel.widgets as pnw\n",
    "from panel.interact import interact, interactive, fixed, interact_manual"
   ]
  },
  {
   "cell_type": "code",
   "execution_count": null,
   "id": "858f788b-a5bc-4c2e-afd9-09a735012215",
   "metadata": {},
   "outputs": [],
   "source": [
    "hv.extension('bokeh')\n",
    "pn.extension('tabulator')\n",
    "PALETTE = [\"#ff6f69\", \"#ffcc5c\", \"#88d8b0\", ]"
   ]
  },
  {
   "cell_type": "code",
   "execution_count": null,
   "id": "dd0c0062-e0f5-4def-b949-37e3f3945951",
   "metadata": {},
   "outputs": [],
   "source": [
    "%matplotlib inline\n",
    "\n",
    "def mpl_plot1(data):\n",
    "    #variable='Poverty'\n",
    "    q_s = data.quantile([.02,.09,.25,.5,.75,.91,.98])\n",
    "\n",
    "    #print(q_s.iloc[:,0].loc[0.5])\n",
    "    #ax2.axvline(x=.5, color='orange', label='axvline - full height')\n",
    "    #ax2.axhline(y=q_s.iloc[:,0].loc[0.5], color='blue', label='axvline - full height')\n",
    "    \n",
    "    #fig = mpf.figure(figsize=(10, 7), style=s)\n",
    "    \n",
    "    fig = plt.figure(figsize=plt.figaspect(2.))\n",
    "    fig.suptitle('A tale of 6 subplots')\n",
    "    #fig = Figure()\n",
    "    #FigureCanvas(fig) # not needed in mpl >= 3.1\n",
    "    ax1 = fig.add_subplot(6,2,1)\n",
    "    ax2 = fig.add_subplot(6,2,2)\n",
    "    ax3 = fig.add_subplot(6,2,3)\n",
    "    ax4 = fig.add_subplot(6,2,4)\n",
    "    ax5 = fig.add_subplot(6,2,5)\n",
    "    \n",
    "    #, sharey=False\n",
    "\n",
    "    data.iloc[:,0].hist(bins=list(q_s.iloc[:,0]),ax=ax1)\n",
    "    q_s.iloc[:,0].plot(ax=ax2)\n",
    "    #print(q_s.iloc[:,0].loc[0.5])\n",
    "    ax2.axvline(x=.5, color='orange', label='axvline - full height')\n",
    "    ax2.axhline(y=q_s.iloc[:,0].loc[0.5], color='blue', label='axvline - full height')\n",
    "    #ax2.axvline(x=data.quantile([.02,.09,.25,.5,.75,.91,.98]).loc[0.5], color='b', label='axvline - full height')\n",
    "    ax3.boxplot(data.iloc[:,0])\n",
    "    ax4.scatter(data.iloc[:,0],data.iloc[:,1])\n",
    "    ax5.plot(data.corr())\n",
    "    \n",
    "    #return data\n",
    "    return fig\n",
    "\n",
    "def find_outliers1(variable='Poverty', compare='Income', view_fn1=mpl_plot1):\n",
    "    #for c in check:\n",
    "    data = df.sort_values(by=variable,ascending=True).copy().set_index('States')[[variable,compare]]\n",
    "    return(view_fn1(data))\n",
    "\n"
   ]
  },
  {
   "cell_type": "code",
   "execution_count": null,
   "id": "9b4220af-e721-4fd6-b729-efdb455cb5d1",
   "metadata": {},
   "outputs": [],
   "source": [
    "%matplotlib inline\n",
    "\n",
    "def return_data(data):\n",
    "    q_s = data.quantile([.02,.09,.25,.5,.75,.91,.98])\n",
    "    return data\n",
    "\n",
    "def filter_data(variable='Poverty', compare='Income', view_fn1=return_data):\n",
    "    #for c in check:\n",
    "    data = df.sort_values(by=compare,ascending=True).copy().set_index('States')[[variable,compare]]\n",
    "    return(view_fn1(data))\n",
    "\n"
   ]
  },
  {
   "cell_type": "code",
   "execution_count": null,
   "id": "433e724d-679a-410f-8980-870e7c613cb0",
   "metadata": {},
   "outputs": [],
   "source": [
    "def f(x):\n",
    "    return x\n",
    "\n",
    "choice = interact(f, x=pnw.Select(name='variable', value='Poverty', \n",
    "                                 options=list(df.columns)[1:]))\n",
    "\n",
    "choice"
   ]
  },
  {
   "cell_type": "code",
   "execution_count": null,
   "id": "97010a2d-c688-4569-ad31-f34d17f3adc5",
   "metadata": {},
   "outputs": [],
   "source": []
  },
  {
   "cell_type": "code",
   "execution_count": null,
   "id": "96f88462-d0cd-40b3-a784-155cf75c4c5d",
   "metadata": {},
   "outputs": [],
   "source": [
    "#ECDF(df[[variable.value]].sort_values(kind=\"quicksort\",by=variable.value, ascending=True,key=abs).reset_index()[[variable.value]])"
   ]
  },
  {
   "cell_type": "code",
   "execution_count": null,
   "id": "243a26cf-c3c2-4d15-b4be-79ccce43c23b",
   "metadata": {},
   "outputs": [],
   "source": [
    "#df[[variable.value]].sort_values(kind=\"quicksort\",by=variable.value, ascending=True,key=abs).reset_index()[[variable.value]]"
   ]
  },
  {
   "cell_type": "code",
   "execution_count": null,
   "id": "186729a2-4e5c-4119-98f0-82e8de2ffbb2",
   "metadata": {},
   "outputs": [],
   "source": []
  },
  {
   "cell_type": "code",
   "execution_count": null,
   "id": "0e4a55c9-4e08-41d2-97f0-ff71e8c6bd4b",
   "metadata": {},
   "outputs": [],
   "source": [
    "df = pd.read_csv(\"https://raw.githubusercontent.com/thistleknot/Python-Stock/master/data/raw/states.csv\") "
   ]
  },
  {
   "cell_type": "code",
   "execution_count": null,
   "id": "9ebcc837-2f6e-479f-974b-feed185b9b98",
   "metadata": {},
   "outputs": [],
   "source": [
    "variable  = pnw.Select(name='variable', value='Poverty', \n",
    "                                 options=list(df.columns)[1:])\n",
    "\n",
    "compare  = pnw.Select(name='scatter compare', value='Income', \n",
    "                                 options=list(df.columns)[1:])\n",
    "\n",
    "quantiles = pn.widgets.RadioButtonGroup(\n",
    "    name='Quantiles', \n",
    "    options=[.02,.09,.25,.5,.75,.91,.98],\n",
    "    button_type='success'\n",
    ")\n",
    "\n",
    "\n",
    "checkbox_group = pn.widgets.CheckBoxGroup(\n",
    "    name='Checkbox Group', options=list(df.columns),\n",
    "    inline=True)\n",
    "'''\n",
    "window  = pnw.IntSlider(name='window', value=10, start=1, end=60)\n",
    "'''\n",
    "\n",
    "reactive_filter = pn.bind(filter_data, variable, compare)\n",
    "\n",
    "widgets2   = pn.Column(\"OGive\", variable, compare)\n",
    "filter2 = pn.Row(reactive_filter, widgets2)\n",
    "\n",
    "filter2"
   ]
  },
  {
   "cell_type": "code",
   "execution_count": null,
   "id": "78898ad4-8068-4484-8281-bebbae28dcd0",
   "metadata": {},
   "outputs": [],
   "source": [
    "\n",
    "'''\n",
    "checkbox_group = pn.widgets.CheckBoxGroup(\n",
    "    name='Checkbox Group', options=list(df.columns),\n",
    "    inline=True)\n",
    "\n",
    "window  = pnw.IntSlider(name='window', value=10, start=1, end=60)\n",
    "'''\n",
    "\n",
    "reactive_outliers1 = pn.bind(find_outliers1, variable, compare)\n",
    "\n",
    "widgets1   = pn.Column(\"OGive\", variable, compare)\n",
    "outliers1 = pn.Row(reactive_outliers1, widgets1)\n",
    "\n",
    "outliers1"
   ]
  },
  {
   "cell_type": "code",
   "execution_count": null,
   "id": "002d9a34-fc13-488d-abca-cc53258b4868",
   "metadata": {},
   "outputs": [],
   "source": [
    "\n",
    "def ipipeline_df(data, variable='Poverty', compare='Income'):\n",
    "    idf = data.interactive()\n",
    "\n",
    "    ipipeline = (\n",
    "        idf\n",
    "    )\n",
    "    \n",
    "    return(ipipeline)\n",
    "    #return(data)"
   ]
  },
  {
   "cell_type": "code",
   "execution_count": null,
   "id": "0950a89d-e2ca-4320-be3a-eb2fb29f4fc0",
   "metadata": {},
   "outputs": [],
   "source": [
    "ipipeline_df(df,variable,compare).pipe(pn.widgets.Tabulator, pagination='remote', page_size=10,sizing_mode='stretch_width')"
   ]
  },
  {
   "cell_type": "code",
   "execution_count": null,
   "id": "5b406538-f8cc-45f6-9aa2-52fb9ead8ecc",
   "metadata": {},
   "outputs": [],
   "source": [
    "df.columns"
   ]
  },
  {
   "cell_type": "code",
   "execution_count": null,
   "id": "595ca3a1-9eb6-437d-a579-2ab058f91c65",
   "metadata": {},
   "outputs": [],
   "source": [
    "variable"
   ]
  },
  {
   "cell_type": "code",
   "execution_count": null,
   "id": "c8eb1b39-32ab-4778-a37a-68d5bbfda761",
   "metadata": {},
   "outputs": [],
   "source": []
  },
  {
   "cell_type": "code",
   "execution_count": null,
   "id": "c813a3cf-1ac1-461f-9190-2e64ff6025e4",
   "metadata": {},
   "outputs": [],
   "source": []
  },
  {
   "cell_type": "code",
   "execution_count": null,
   "id": "aceead14-8a28-4c26-947c-855d57b34973",
   "metadata": {},
   "outputs": [],
   "source": [
    "plt.plot(df[[variable.value]].quantile([.02,.09,.25,.5,.75,.91,.98]))"
   ]
  },
  {
   "cell_type": "code",
   "execution_count": null,
   "id": "e7c7148c-7a86-48dd-a56b-842866d98c0f",
   "metadata": {},
   "outputs": [],
   "source": [
    "from bokeh.plotting import figure\n",
    "\n",
    "p = figure(width=300, height=300)\n",
    "#xs = np.linspace(0, 10)\n",
    "r = p.line(df[variable.value])\n",
    "#p.line(xs, np.sin(xs))\n",
    "\n",
    "\n",
    "#width_slider = pn.widgets.FloatSlider(name='Line Width', start=0.1, end=10)\n",
    "variable.jslink(r.glyph, value='variable')\n",
    "\n",
    "pn.Row(variable, p)"
   ]
  },
  {
   "cell_type": "code",
   "execution_count": null,
   "id": "df7851b7-f306-481c-8499-6aa33e9b9b28",
   "metadata": {},
   "outputs": [],
   "source": [
    "%matplotlib inline\n",
    "\n",
    "def filter_data_idf(variable='Poverty', compare='Income', view_fn1=ipipeline_df):\n",
    "    #for c in check:\n",
    "    data = df.sort_values(by=compare,ascending=True).copy().set_index('States')[[variable,compare]]\n",
    "    return(view_fn1(data, variable, compare))\n",
    "\n"
   ]
  },
  {
   "cell_type": "code",
   "execution_count": null,
   "id": "c5d72492-8627-402a-a711-a91409a5da09",
   "metadata": {},
   "outputs": [],
   "source": [
    "#widgets3   = pn.Column(\"OGive\", variable, compare)\n",
    "#outliers3 = pn.Row(filter_data_idf, widgets3)\n",
    "outliers3 = ipipeline_df(df, variable, compare)"
   ]
  },
  {
   "cell_type": "code",
   "execution_count": null,
   "id": "78772536-4235-4c66-9dcc-96dcf667fc8e",
   "metadata": {},
   "outputs": [],
   "source": [
    "plt.plot(np.array(df[[variable.value]].sort_values(kind=\"quicksort\", by=variable.value, ascending=True,key=abs)[variable.value]))"
   ]
  },
  {
   "cell_type": "code",
   "execution_count": null,
   "id": "cddfcf85-d016-403d-8df4-925a049ddf23",
   "metadata": {},
   "outputs": [],
   "source": [
    "outliers1"
   ]
  },
  {
   "cell_type": "code",
   "execution_count": null,
   "id": "2068097c-e5f9-467b-aef9-cad5789f0c4e",
   "metadata": {},
   "outputs": [],
   "source": [
    "outliers3.pipe(pn.widgets.Tabulator, pagination='remote', page_size=10,sizing_mode='stretch_width')"
   ]
  },
  {
   "cell_type": "code",
   "execution_count": null,
   "id": "9606693e-25a9-423c-b987-83e8d91d51f6",
   "metadata": {},
   "outputs": [],
   "source": [
    "#Layout using Template\n",
    "template = pn.template.FastListTemplate(\n",
    "    title='Interactive DataFrame Dashboards with hvplot .interactive', \n",
    "    #sidebar=[variable, compare,]\n",
    "    sidebar=[filter2],\n",
    "    sidebar_width=600,\n",
    "    main=[outliers1],#, outliers1.panel()],\n",
    "    accent_base_color=\"#88d8b0\",\n",
    "    header_background=\"#88d8b0\",\n",
    ")\n",
    "# template.show()\n",
    "template.servable();"
   ]
  },
  {
   "cell_type": "code",
   "execution_count": 137,
   "id": "ecc02cc7-9d35-4c76-8e02-bbbda5a93c00",
   "metadata": {},
   "outputs": [
    {
     "name": "stdout",
     "output_type": "stream",
     "text": [
      "Launching server at http://localhost:49366\n"
     ]
    },
    {
     "data": {
      "text/plain": [
       "<bokeh.server.server.Server at 0x297bbce3e50>"
      ]
     },
     "execution_count": 137,
     "metadata": {},
     "output_type": "execute_result"
    }
   ],
   "source": [
    "template.show()"
   ]
  },
  {
   "cell_type": "code",
   "execution_count": null,
   "id": "c9585134-e50f-4e52-a422-daa3f41be548",
   "metadata": {},
   "outputs": [],
   "source": [
    "#itable = ipipeline.pipe(pn.widgets.Tabulator, pagination='remote', page_size=10,sizing_mode='stretch_width')"
   ]
  },
  {
   "cell_type": "code",
   "execution_count": null,
   "id": "9b6bc752-ec8f-4c42-9435-df6028c5f684",
   "metadata": {},
   "outputs": [],
   "source": [
    "#itable"
   ]
  }
 ],
 "metadata": {
  "kernelspec": {
   "display_name": "Python 3 (ipykernel)",
   "language": "python",
   "name": "python3"
  },
  "language_info": {
   "codemirror_mode": {
    "name": "ipython",
    "version": 3
   },
   "file_extension": ".py",
   "mimetype": "text/x-python",
   "name": "python",
   "nbconvert_exporter": "python",
   "pygments_lexer": "ipython3",
   "version": "3.10.2"
  }
 },
 "nbformat": 4,
 "nbformat_minor": 5
}
