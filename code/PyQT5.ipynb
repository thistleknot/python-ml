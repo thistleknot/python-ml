{
 "cells": [
  {
   "cell_type": "code",
   "execution_count": 4,
   "id": "0606d864-fbea-4a1c-be8d-a6a38784ba3b",
   "metadata": {},
   "outputs": [],
   "source": [
    "from PyQt5.QtWidgets import QApplication, QWidget\n",
    "import sys\n",
    "\n",
    "app = QApplication(sys.argv)"
   ]
  },
  {
   "cell_type": "code",
   "execution_count": null,
   "id": "0ddf89f2-b943-4999-9307-9014b99edf4c",
   "metadata": {},
   "outputs": [],
   "source": [
    "window = QWidget()\n",
    "window.show()"
   ]
  },
  {
   "cell_type": "code",
   "execution_count": null,
   "id": "a33c681c-af8c-453a-8c83-b7e49b6cda7f",
   "metadata": {},
   "outputs": [],
   "source": [
    "app.exec_()"
   ]
  }
 ],
 "metadata": {
  "kernelspec": {
   "display_name": "Python 3 (ipykernel)",
   "language": "python",
   "name": "python3"
  },
  "language_info": {
   "codemirror_mode": {
    "name": "ipython",
    "version": 3
   },
   "file_extension": ".py",
   "mimetype": "text/x-python",
   "name": "python",
   "nbconvert_exporter": "python",
   "pygments_lexer": "ipython3",
   "version": "3.9.6"
  }
 },
 "nbformat": 4,
 "nbformat_minor": 5
}
