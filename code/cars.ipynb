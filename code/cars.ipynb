{
 "cells": [
  {
   "cell_type": "code",
   "execution_count": 10,
   "id": "133726ea-775d-4636-8066-8d6a599009ab",
   "metadata": {},
   "outputs": [],
   "source": [
    "import pandas as pd\n",
    "from sklearn.preprocessing import StandardScaler\n",
    "from zca import zca\n",
    "import numpy as np\n",
    "from sklearn.linear_model import LinearRegression\n",
    "from statsmodels.stats.outliers_influence import OLSInfluence\n",
    "import statsmodels.api as sm\n",
    "import statsmodels.tools\n",
    "from OLS_LR_DiagnosticPlots.ModelDiagnostics import Plot\n",
    "from sklearn.model_selection import GridSearchCV, KFold, cross_val_score, RepeatedKFold, train_test_split\n",
    "\n",
    "from mlxtend.feature_selection import SequentialFeatureSelector as sfbs\n",
    "from mlxtend.plotting import plot_sequential_feature_selection as plot_sfbs\n",
    "import matplotlib.pyplot as plt\n",
    "from tqdm import tnrange, tqdm_notebook\n",
    "import itertools\n",
    "from sklearn import linear_model\n",
    "from sklearn.metrics import mean_squared_error\n",
    "import sys\n",
    "\n",
    "from ipydatagrid import DataGrid\n",
    "\n",
    "if not sys.warnoptions:\n",
    "    import warnings\n",
    "    warnings.simplefilter(\"ignore\")"
   ]
  },
  {
   "cell_type": "code",
   "execution_count": 2,
   "id": "6e25a5d0-12dc-43ca-b48e-300dbe982c0d",
   "metadata": {},
   "outputs": [],
   "source": [
    "target = 'Price'\n",
    "numCV = 10\n",
    "\n",
    "car_data = pd.read_csv(\"C:\\\\Users\\\\User\\\\Documents\\\\business\\\\cars\\\\cars.csv\")\n",
    "car_data.index = car_data[\"Concat\"]\n",
    "car_data = car_data[set(car_data.columns).difference('Concat')].copy()\n",
    "X = car_data[set(car_data.columns).difference([target,'Concat'])].copy()\n",
    "y = pd.DataFrame(car_data[target])\n"
   ]
  },
  {
   "cell_type": "code",
   "execution_count": null,
   "id": "fc6d613d-3c17-4286-be7f-e1ee7cbf3221",
   "metadata": {},
   "outputs": [],
   "source": []
  },
  {
   "cell_type": "code",
   "execution_count": 3,
   "id": "334bb309-d4fa-45a7-aa55-42499982223d",
   "metadata": {},
   "outputs": [],
   "source": [
    "yscaler = StandardScaler()\n",
    "xscaler = StandardScaler()\n",
    "zca = zca.ZCA()\n",
    "kfold = KFold(n_splits=numCV, shuffle=True)"
   ]
  },
  {
   "cell_type": "code",
   "execution_count": 4,
   "id": "227461fa-c1a5-4e8d-91fd-37275e820204",
   "metadata": {},
   "outputs": [],
   "source": [
    "lr = LinearRegression()\n",
    "\n",
    "#backwards step subset\n",
    "sfbs1 = sfbs(lr, \n",
    "          k_features=len(X.columns), \n",
    "          #forward=True, \n",
    "          floating=True, \n",
    "          scoring='neg_mean_squared_error',\n",
    "          #scoring='accuracy',\n",
    "          n_jobs=-1,\n",
    "          cv=numCV)\n",
    "            \n",
    "sfbs1 = sfbs1.fit(X, y)\n"
   ]
  },
  {
   "cell_type": "code",
   "execution_count": 5,
   "id": "88bc1f9d-e0aa-4a87-b053-4a08f4c061f7",
   "metadata": {},
   "outputs": [
    {
     "data": {
      "image/png": "[encoded data removed]",
      "text/plain": [
       "<Figure size 432x288 with 1 Axes>"
      ]
     },
     "metadata": {
      "needs_background": "light"
     },
     "output_type": "display_data"
    }
   ],
   "source": [
    "fig = plot_sfbs(sfbs1.get_metric_dict(), kind='std_err')\n",
    "\n",
    "plt.title('Sequential Backward Selection (w. StdErr)')\n",
    "plt.grid()\n",
    "plt.show()"
   ]
  },
  {
   "cell_type": "code",
   "execution_count": 6,
   "id": "fc6aaeaa-61ae-4b65-ae92-1d96055c8b9f",
   "metadata": {},
   "outputs": [
    {
     "data": {
      "text/html": [
       "<div>\n",
       "<style scoped>\n",
       "    .dataframe tbody tr th:only-of-type {\n",
       "        vertical-align: middle;\n",
       "    }\n",
       "\n",
       "    .dataframe tbody tr th {\n",
       "        vertical-align: top;\n",
       "    }\n",
       "\n",
       "    .dataframe thead th {\n",
       "        text-align: right;\n",
       "    }\n",
       "</style>\n",
       "<table border=\"1\" class=\"dataframe\">\n",
       "  <thead>\n",
       "    <tr style=\"text-align: right;\">\n",
       "      <th></th>\n",
       "      <th>avg_score</th>\n",
       "      <th>feature_names</th>\n",
       "    </tr>\n",
       "  </thead>\n",
       "  <tbody>\n",
       "    <tr>\n",
       "      <th>1</th>\n",
       "      <td>-674008.016609</td>\n",
       "      <td>(Year,)</td>\n",
       "    </tr>\n",
       "    <tr>\n",
       "      <th>2</th>\n",
       "      <td>-332396.754971</td>\n",
       "      <td>(Year, maintenance)</td>\n",
       "    </tr>\n",
       "    <tr>\n",
       "      <th>3</th>\n",
       "      <td>-338041.11011</td>\n",
       "      <td>(Year, maintenance, Miles)</td>\n",
       "    </tr>\n",
       "    <tr>\n",
       "      <th>4</th>\n",
       "      <td>-359857.087655</td>\n",
       "      <td>(Year, maintenance, Miles, estMPG)</td>\n",
       "    </tr>\n",
       "    <tr>\n",
       "      <th>5</th>\n",
       "      <td>-400456.41928</td>\n",
       "      <td>(Comfort, Year, maintenance, Miles, estMPG)</td>\n",
       "    </tr>\n",
       "  </tbody>\n",
       "</table>\n",
       "</div>"
      ],
      "text/plain": [
       "       avg_score                                feature_names\n",
       "1 -674008.016609                                      (Year,)\n",
       "2 -332396.754971                          (Year, maintenance)\n",
       "3  -338041.11011                   (Year, maintenance, Miles)\n",
       "4 -359857.087655           (Year, maintenance, Miles, estMPG)\n",
       "5  -400456.41928  (Comfort, Year, maintenance, Miles, estMPG)"
      ]
     },
     "execution_count": 6,
     "metadata": {},
     "output_type": "execute_result"
    }
   ],
   "source": [
    "features = list(pd.DataFrame(sfbs1.subsets_).loc['feature_names'].values)\n",
    "ss_position = np.array(pd.DataFrame(pd.DataFrame(sfbs1.subsets_)).loc['avg_score']).argmax()\n",
    "pd.DataFrame(sfbs1.subsets_).T[['avg_score','feature_names']]"
   ]
  },
  {
   "cell_type": "code",
   "execution_count": 7,
   "id": "405d16a0-9735-41bb-9413-3d15dc85c41d",
   "metadata": {},
   "outputs": [],
   "source": [
    "def fit_linear_reg(X,Y,train_i,test_i):\n",
    "    #Fit linear regression model and return RSS and R squared values\n",
    "    model_k = linear_model.LinearRegression(fit_intercept = True)\n",
    "    model_k.fit(X.iloc[train_i],Y.iloc[train_i])\n",
    "    RSS = mean_squared_error(Y.iloc[test_i],model_k.predict(X.iloc[test_i])) * len(Y)\n",
    "    R_squared = model_k.score(X.iloc[test_i],Y.iloc[test_i])\n",
    "    return RSS, R_squared\n",
    "\n",
    "# ransac regression on a dataset with outliers\n",
    "\n",
    "# evaluate a model\n",
    "def evaluate_model(X, y, model):\n",
    "\t# define model evaluation method\n",
    "\tcv = RepeatedKFold(n_splits=10, n_repeats=1, random_state=1)\n",
    "\t# evaluate model\n",
    "\tscores = cross_val_score(model, X, y, scoring='neg_mean_absolute_error', cv=cv, n_jobs=-1)\n",
    "\t# force scores to be positive\n",
    "\treturn absolute(scores)\n",
    "\n",
    "# plot the dataset and the model's line of best fit\n",
    "def plot_best_fit(X, y, model):\n",
    "\t# fut the model on all data\n",
    "\tmodel.fit(X, y)\n",
    "\t# plot the dataset\n",
    "\tpyplot.scatter(X, y)\n",
    "\t# plot the line of best fit\n",
    "\txaxis = arange(X.min(), X.max(), 0.01)\n",
    "\tyaxis = model.predict(xaxis.reshape((len(xaxis), 1)))\n",
    "\tpyplot.plot(xaxis, yaxis, color='r')\n",
    "\t# show the plot\n",
    "\tpyplot.title(type(model).__name__)\n",
    "\tpyplot.show()"
   ]
  },
  {
   "cell_type": "code",
   "execution_count": null,
   "id": "698551e9-b30b-42eb-8f5b-74504eafc593",
   "metadata": {},
   "outputs": [],
   "source": []
  },
  {
   "cell_type": "code",
   "execution_count": null,
   "id": "67f42372-5e39-4065-a4a7-ba892a47c814",
   "metadata": {},
   "outputs": [],
   "source": []
  },
  {
   "cell_type": "code",
   "execution_count": 8,
   "id": "1d20fb55-da21-4baf-bc80-635fac0a5f12",
   "metadata": {},
   "outputs": [],
   "source": [
    "#used for pcorr kfolds as well as best subsets\n",
    "kfold.get_n_splits(car_data.index)\n",
    "\n",
    "train_ = []\n",
    "test_ = []\n",
    "\n",
    "for train_indices, test_indices in kfold.split(car_data.index):\n",
    "    train_.append(train_indices)\n",
    "    test_.append(test_indices)"
   ]
  },
  {
   "cell_type": "code",
   "execution_count": 9,
   "id": "356e45e4-1417-41f1-943c-583dab8b0f93",
   "metadata": {},
   "outputs": [
    {
     "ename": "NameError",
     "evalue": "name 'scaler' is not defined",
     "output_type": "error",
     "traceback": [
      "\u001b[1;31m---------------------------------------------------------------------------\u001b[0m",
      "\u001b[1;31mNameError\u001b[0m                                 Traceback (most recent call last)",
      "\u001b[1;32m~\\AppData\\Local\\Temp/ipykernel_19492/1186605086.py\u001b[0m in \u001b[0;36m<module>\u001b[1;34m\u001b[0m\n\u001b[1;32m----> 1\u001b[1;33m \u001b[0mscaler\u001b[0m\u001b[1;33m.\u001b[0m\u001b[0mfit_transform\u001b[0m\u001b[1;33m(\u001b[0m\u001b[0mX\u001b[0m\u001b[1;33m)\u001b[0m\u001b[1;33m\u001b[0m\u001b[1;33m\u001b[0m\u001b[0m\n\u001b[0m",
      "\u001b[1;31mNameError\u001b[0m: name 'scaler' is not defined"
     ]
    }
   ],
   "source": [
    "scaler.fit_transform(X)"
   ]
  },
  {
   "cell_type": "code",
   "execution_count": null,
   "id": "7ecc31bc-dea4-4f86-a3a0-335a01e249b4",
   "metadata": {},
   "outputs": [],
   "source": [
    "\n",
    "#import random\n",
    "\n",
    "#best subsets using pcorr chosen\n",
    "\n",
    "#Importing tqdm for the progress bar\n",
    "\n",
    "#Initialization variables\n",
    "yscaler.fit(y)\n",
    "Y = pd.DataFrame(yscaler.transform(y))\n",
    "Y.index = y.index\n",
    "Y.columns = y.columns\n",
    "#X = all_data.iloc[:,2:]\n",
    "#Xcolumns = X_train[chosen]\n",
    "xscaler.fit(X)\n",
    "x_scaled = pd.DataFrame(xscaler.transform(X))\n",
    "x_scaled.index = X.index\n",
    "x_scaled.columns = X.columns\n",
    "k = numCV\n",
    "RSS_list, R_squared_list, feature_list = [],[], []\n",
    "numb_features = []\n",
    "\n",
    "#Looping over k = 1 to k = 11 features in X\n",
    "for k in tnrange(1,len(Xcolumns) + 1, desc = 'Loop...'):\n",
    "\n",
    "    #Looping over all possible combinations: from 11 choose k\n",
    "    for combo in itertools.combinations(x_scaled.columns,k):\n",
    "        #display(all_data.iloc[test_index].describe())\n",
    "        tmp_result = []\n",
    "        for it in range(0,len(train_)):\n",
    "            tmp_result.append(fit_linear_reg(Xcolumns[list(combo)],Y,train_[it],test_[it]))   #Store temp result )\n",
    "        \n",
    "        RSS_list.append(np.average(tmp_result,axis=0)[0])                  #Append lists\n",
    "        R_squared_list.append(np.average(tmp_result,axis=0)[1])\n",
    "        feature_list.append(combo)\n",
    "        numb_features.append(len(combo))   \n",
    "\n",
    "#Store in DataFrame\n",
    "df = pd.DataFrame({'numb_features': numb_features,'RSS': RSS_list, 'R_squared':R_squared_list,'features':feature_list})\n",
    "\n",
    "df['min_RSS'] = df.groupby('numb_features')['RSS'].transform(min)\n",
    "df['max_R_squared'] = df.groupby('numb_features')['R_squared'].transform(max)\n",
    "\n",
    "df_min = df[df.groupby('numb_features')['RSS'].transform(min) == df['RSS']]\n",
    "df_max = df[df.groupby('numb_features')['R_squared'].transform(max) == df['R_squared']]\n",
    "\n",
    "df_min\n",
    "\n",
    "\n",
    "CV_parse = list(df_min[(df_min['RSS']<=(np.min(df_min['RSS'])+np.std(df_min['RSS'])))].sort_values(kind=\"quicksort\", ascending=True, by='RSS',key=abs).iloc[0]['features'])"
   ]
  },
  {
   "cell_type": "code",
   "execution_count": null,
   "id": "6beef64d-1905-4915-a855-a8a832fe900c",
   "metadata": {},
   "outputs": [],
   "source": [
    "CV_best = list(df_min['RSS']==(np.min(df_min['RSS'])+np.std(df_min['RSS'])))"
   ]
  },
  {
   "cell_type": "code",
   "execution_count": null,
   "id": "4ad19971-63e8-4cf3-ae79-a284d8484135",
   "metadata": {},
   "outputs": [],
   "source": [
    "df_min.loc[df_min['RSS'].idxmin()]"
   ]
  },
  {
   "cell_type": "code",
   "execution_count": null,
   "id": "4e36c346-f47a-49bf-89d0-e92b31a917c7",
   "metadata": {},
   "outputs": [],
   "source": [
    "CV_parse"
   ]
  },
  {
   "cell_type": "code",
   "execution_count": null,
   "id": "26ef6d12-c93d-474c-b1f9-6e6d3c265f3d",
   "metadata": {},
   "outputs": [],
   "source": []
  },
  {
   "cell_type": "code",
   "execution_count": null,
   "id": "8270e036-7b9e-4df9-b429-ad1932478c47",
   "metadata": {},
   "outputs": [],
   "source": [
    "#zca.fit(X)\n",
    "#yscaler.fit(y)\n",
    "#xscaler.fit(X)\n",
    "zca_X = pd.DataFrame(zca.fit_transform(x_scaled[CV_parse]),columns=x_scaled[CV_parse].columns)\n",
    "y_scaled = Y\n",
    "#y_scaled = pd.DataFrame(yscaler.transform(np.array(y).reshape(-1, 1)))\n",
    "#y_scaled.index = y.index\n",
    "#x_scaled = pd.DataFrame(xscaler.transform(X))\n",
    "#x_scaled.index = X.index\n",
    "#x_scaled.columns = X.columns"
   ]
  },
  {
   "cell_type": "code",
   "execution_count": null,
   "id": "762d4b71-93e0-4bba-84a0-946bf40c1bd9",
   "metadata": {},
   "outputs": [],
   "source": []
  },
  {
   "cell_type": "code",
   "execution_count": null,
   "id": "27557e72-6997-4128-8fd1-981c65861eb1",
   "metadata": {},
   "outputs": [],
   "source": [
    "#model = LinearRegression()\n",
    "#model.fit(zca_X, y_scaled)\n",
    "\n",
    "X_trainwConstant = statsmodels.tools.tools.add_constant(x_scaled[CV_parse])\n",
    "#y_ = data_set_wConstant[target]\n",
    "#results = model.fit(X, y)\n",
    "model = sm.OLS(y_scaled,X_trainwConstant)\n",
    "results = model.fit()\n",
    "fitted = results.predict(X_trainwConstant)\n",
    "results.summary()"
   ]
  },
  {
   "cell_type": "code",
   "execution_count": null,
   "id": "c550b95c-264d-4af6-ab66-d435f0f28daf",
   "metadata": {},
   "outputs": [],
   "source": [
    "linear_plot = Plot.LinearRegressionResidualPlot(X_trainwConstant.values, y_scaled.values)\n",
    "lm = linear_plot.fit()\n",
    "summary, diag_res = linear_plot.diagnostic_plots(lm)\n",
    "print(\"Summary of Regression\\n:{}\".format(summary))\n",
    "print(\"Diagnostic Tests of Regression\\n:{}\".format(diag_res))\n",
    "car_data"
   ]
  }
 ],
 "metadata": {
  "kernelspec": {
   "display_name": "Python 3 (ipykernel)",
   "language": "python",
   "name": "python3"
  },
  "language_info": {
   "codemirror_mode": {
    "name": "ipython",
    "version": 3
   },
   "file_extension": ".py",
   "mimetype": "text/x-python",
   "name": "python",
   "nbconvert_exporter": "python",
   "pygments_lexer": "ipython3",
   "version": "3.9.6"
  }
 },
 "nbformat": 4,
 "nbformat_minor": 5
}
