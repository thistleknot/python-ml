{
 "cells": [
  {
   "cell_type": "code",
   "execution_count": null,
   "id": "133726ea-775d-4636-8066-8d6a599009ab",
   "metadata": {},
   "outputs": [],
   "source": [
    "import pandas as pd\n",
    "from sklearn.preprocessing import StandardScaler\n",
    "from zca import zca\n",
    "import numpy as np\n",
    "from sklearn.linear_model import LinearRegression\n",
    "from statsmodels.stats.outliers_influence import OLSInfluence\n",
    "import statsmodels.api as sm\n",
    "import statsmodels.tools\n",
    "from OLS_LR_DiagnosticPlots.ModelDiagnostics import Plot\n",
    "from sklearn.model_selection import GridSearchCV, KFold, cross_val_score, RepeatedKFold, train_test_split\n",
    "\n",
    "from mlxtend.feature_selection import SequentialFeatureSelector as sfbs\n",
    "from mlxtend.plotting import plot_sequential_feature_selection as plot_sfbs\n",
    "import matplotlib.pyplot as plt\n",
    "from tqdm import tnrange, tqdm_notebook\n",
    "import itertools\n",
    "from sklearn import linear_model\n",
    "from sklearn.metrics import mean_squared_error\n",
    "import sys\n",
    "\n",
    "if not sys.warnoptions:\n",
    "    import warnings\n",
    "    warnings.simplefilter(\"ignore\")"
   ]
  },
  {
   "cell_type": "code",
   "execution_count": null,
   "id": "6e25a5d0-12dc-43ca-b48e-300dbe982c0d",
   "metadata": {},
   "outputs": [],
   "source": [
    "target = 'Price'\n",
    "numCV = 10\n",
    "\n",
    "car_data = pd.read_csv(\"C:\\\\Users\\\\User\\\\Documents\\\\business\\\\cars\\\\cars.csv\")\n",
    "car_data.index = car_data[\"Concat\"]\n",
    "car_data = car_data[set(car_data.columns).difference('Concat')].copy()\n",
    "X = car_data[set(car_data.columns).difference([target,'Concat'])].copy()\n",
    "y = pd.DataFrame(car_data[target])\n"
   ]
  },
  {
   "cell_type": "code",
   "execution_count": null,
   "id": "fc6d613d-3c17-4286-be7f-e1ee7cbf3221",
   "metadata": {},
   "outputs": [],
   "source": []
  },
  {
   "cell_type": "code",
   "execution_count": null,
   "id": "334bb309-d4fa-45a7-aa55-42499982223d",
   "metadata": {},
   "outputs": [],
   "source": [
    "yscaler = StandardScaler()\n",
    "xscaler = StandardScaler()\n",
    "zca = zca.ZCA()\n",
    "kfold = KFold(n_splits=numCV, shuffle=True)"
   ]
  },
  {
   "cell_type": "code",
   "execution_count": null,
   "id": "227461fa-c1a5-4e8d-91fd-37275e820204",
   "metadata": {},
   "outputs": [],
   "source": [
    "lr = LinearRegression()\n",
    "\n",
    "#backwards step subset\n",
    "sfbs1 = sfbs(lr, \n",
    "          k_features=len(X.columns), \n",
    "          #forward=True, \n",
    "          floating=True, \n",
    "          scoring='neg_mean_squared_error',\n",
    "          #scoring='accuracy',\n",
    "          n_jobs=-1,\n",
    "          cv=numCV)\n",
    "            \n",
    "sfbs1 = sfbs1.fit(X, y)\n"
   ]
  },
  {
   "cell_type": "code",
   "execution_count": null,
   "id": "88bc1f9d-e0aa-4a87-b053-4a08f4c061f7",
   "metadata": {},
   "outputs": [],
   "source": [
    "fig = plot_sfbs(sfbs1.get_metric_dict(), kind='std_err')\n",
    "\n",
    "plt.title('Sequential Backward Selection (w. StdErr)')\n",
    "plt.grid()\n",
    "plt.show()"
   ]
  },
  {
   "cell_type": "code",
   "execution_count": null,
   "id": "fc6aaeaa-61ae-4b65-ae92-1d96055c8b9f",
   "metadata": {},
   "outputs": [],
   "source": [
    "features = list(pd.DataFrame(sfbs1.subsets_).loc['feature_names'].values)\n",
    "ss_position = np.array(pd.DataFrame(pd.DataFrame(sfbs1.subsets_)).loc['avg_score']).argmax()\n",
    "pd.DataFrame(sfbs1.subsets_).T[['avg_score','feature_names']]"
   ]
  },
  {
   "cell_type": "code",
   "execution_count": null,
   "id": "405d16a0-9735-41bb-9413-3d15dc85c41d",
   "metadata": {},
   "outputs": [],
   "source": [
    "def fit_linear_reg(X,Y,train_i,test_i):\n",
    "    #Fit linear regression model and return RSS and R squared values\n",
    "    model_k = linear_model.LinearRegression(fit_intercept = True)\n",
    "    model_k.fit(X.iloc[train_i],Y.iloc[train_i])\n",
    "    RSS = mean_squared_error(Y.iloc[test_i],model_k.predict(X.iloc[test_i])) * len(Y)\n",
    "    R_squared = model_k.score(X.iloc[test_i],Y.iloc[test_i])\n",
    "    return RSS, R_squared\n",
    "\n",
    "# ransac regression on a dataset with outliers\n",
    "\n",
    "# evaluate a model\n",
    "def evaluate_model(X, y, model):\n",
    "\t# define model evaluation method\n",
    "\tcv = RepeatedKFold(n_splits=10, n_repeats=1, random_state=1)\n",
    "\t# evaluate model\n",
    "\tscores = cross_val_score(model, X, y, scoring='neg_mean_absolute_error', cv=cv, n_jobs=-1)\n",
    "\t# force scores to be positive\n",
    "\treturn absolute(scores)\n",
    "\n",
    "# plot the dataset and the model's line of best fit\n",
    "def plot_best_fit(X, y, model):\n",
    "\t# fut the model on all data\n",
    "\tmodel.fit(X, y)\n",
    "\t# plot the dataset\n",
    "\tpyplot.scatter(X, y)\n",
    "\t# plot the line of best fit\n",
    "\txaxis = arange(X.min(), X.max(), 0.01)\n",
    "\tyaxis = model.predict(xaxis.reshape((len(xaxis), 1)))\n",
    "\tpyplot.plot(xaxis, yaxis, color='r')\n",
    "\t# show the plot\n",
    "\tpyplot.title(type(model).__name__)\n",
    "\tpyplot.show()"
   ]
  },
  {
   "cell_type": "code",
   "execution_count": null,
   "id": "698551e9-b30b-42eb-8f5b-74504eafc593",
   "metadata": {},
   "outputs": [],
   "source": []
  },
  {
   "cell_type": "code",
   "execution_count": null,
   "id": "67f42372-5e39-4065-a4a7-ba892a47c814",
   "metadata": {},
   "outputs": [],
   "source": []
  },
  {
   "cell_type": "code",
   "execution_count": null,
   "id": "1d20fb55-da21-4baf-bc80-635fac0a5f12",
   "metadata": {},
   "outputs": [],
   "source": [
    "#used for pcorr kfolds as well as best subsets\n",
    "kfold.get_n_splits(car_data.index)\n",
    "\n",
    "train_ = []\n",
    "test_ = []\n",
    "\n",
    "for train_indices, test_indices in kfold.split(car_data.index):\n",
    "    train_.append(train_indices)\n",
    "    test_.append(test_indices)"
   ]
  },
  {
   "cell_type": "code",
   "execution_count": 108,
   "id": "356e45e4-1417-41f1-943c-583dab8b0f93",
   "metadata": {},
   "outputs": [
    {
     "data": {
      "text/plain": [
       "array([[-0.58834841, -0.09349519, -0.76837607, -1.24871068, -0.21838916],\n",
       "       [-0.58834841, -0.60867278, -0.26726124,  0.79463407,  0.29877847],\n",
       "       [ 0.39223227, -0.85910634, -0.14198253,  0.45407661,  1.47514145],\n",
       "       [ 1.37281295,  0.73651315, -1.52004831, -0.90815322,  0.49106285],\n",
       "       [-1.56892908, -0.92350353,  0.73496842,  1.13519152, -0.79052789],\n",
       "       [-0.58834841, -0.66591474,  0.86024712, -1.58926813, -0.65321459],\n",
       "       [-0.58834841, -0.74462243,  1.61191937,  0.45407661, -0.62858974],\n",
       "       [-1.56892908, -0.84479585,  1.98775549,  0.11351915, -0.07654453],\n",
       "       [-0.58834841,  0.14262787,  0.23385359, -0.2270383 , -0.21838916],\n",
       "       [ 1.37281295,  0.54332155, -1.14421219,  0.45407661, -0.58918083],\n",
       "       [-0.58834841, -0.12211617,  0.86024712, -0.2270383 , -0.21838916],\n",
       "       [ 0.39223227,  1.9385942 , -0.14198253,  1.13519152, -1.24823886],\n",
       "       [ 1.37281295,  1.47350332, -0.76837607,  1.81630644, -0.75510106],\n",
       "       [ 0.39223227,  1.51643478, -1.14421219, -0.56759576,  2.89226041],\n",
       "       [ 1.37281295, -1.48876784, -0.39253995, -1.58926813,  0.23932181]])"
      ]
     },
     "execution_count": 108,
     "metadata": {},
     "output_type": "execute_result"
    }
   ],
   "source": [
    "scaler.fit_transform(X)"
   ]
  },
  {
   "cell_type": "code",
   "execution_count": 111,
   "id": "7ecc31bc-dea4-4f86-a3a0-335a01e249b4",
   "metadata": {},
   "outputs": [
    {
     "data": {
      "application/vnd.jupyter.widget-view+json": {
       "model_id": "4d4a303e67dc499aaaceb0218d0bedf1",
       "version_major": 2,
       "version_minor": 0
      },
      "text/plain": [
       "Loop...:   0%|          | 0/15 [00:00<?, ?it/s]"
      ]
     },
     "metadata": {},
     "output_type": "display_data"
    }
   ],
   "source": [
    "\n",
    "#import random\n",
    "\n",
    "#best subsets using pcorr chosen\n",
    "\n",
    "#Importing tqdm for the progress bar\n",
    "\n",
    "#Initialization variables\n",
    "yscaler.fit(y)\n",
    "Y = pd.DataFrame(yscaler.transform(y))\n",
    "Y.index = y.index\n",
    "Y.columns = y.columns\n",
    "#X = all_data.iloc[:,2:]\n",
    "#Xcolumns = X_train[chosen]\n",
    "xscaler.fit(X)\n",
    "Xcolumns = pd.DataFrame(xscaler.transform(X))\n",
    "Xcolumns.index = X.index\n",
    "Xcolumns.columns = X.columns\n",
    "k = numCV\n",
    "RSS_list, R_squared_list, feature_list = [],[], []\n",
    "numb_features = []\n",
    "\n",
    "#Looping over k = 1 to k = 11 features in X\n",
    "for k in tnrange(1,len(Xcolumns) + 1, desc = 'Loop...'):\n",
    "\n",
    "    #Looping over all possible combinations: from 11 choose k\n",
    "    for combo in itertools.combinations(Xcolumns,k):\n",
    "        #display(all_data.iloc[test_index].describe())\n",
    "        tmp_result = []\n",
    "        for it in range(0,len(train_)):\n",
    "            tmp_result.append(fit_linear_reg(Xcolumns[list(combo)],Y,train_[it],test_[it]))   #Store temp result )\n",
    "        \n",
    "        RSS_list.append(np.average(tmp_result,axis=0)[0])                  #Append lists\n",
    "        R_squared_list.append(np.average(tmp_result,axis=0)[1])\n",
    "        feature_list.append(combo)\n",
    "        numb_features.append(len(combo))   \n",
    "\n",
    "#Store in DataFrame\n",
    "df = pd.DataFrame({'numb_features': numb_features,'RSS': RSS_list, 'R_squared':R_squared_list,'features':feature_list})\n",
    "\n",
    "df['min_RSS'] = df.groupby('numb_features')['RSS'].transform(min)\n",
    "df['max_R_squared'] = df.groupby('numb_features')['R_squared'].transform(max)\n",
    "\n",
    "df_min = df[df.groupby('numb_features')['RSS'].transform(min) == df['RSS']]\n",
    "df_max = df[df.groupby('numb_features')['R_squared'].transform(max) == df['R_squared']]\n",
    "\n",
    "df_min\n",
    "\n",
    "\n",
    "CV_parse = list(df_min[(df_min['RSS']<=(np.min(df_min['RSS'])+np.std(df_min['RSS'])))].sort_values(kind=\"quicksort\", ascending=True, by='RSS',key=abs).iloc[0]['features'])"
   ]
  },
  {
   "cell_type": "code",
   "execution_count": 112,
   "id": "6beef64d-1905-4915-a855-a8a832fe900c",
   "metadata": {},
   "outputs": [],
   "source": [
    "CV_best = list(df_min['RSS']==(np.min(df_min['RSS'])+np.std(df_min['RSS'])))"
   ]
  },
  {
   "cell_type": "code",
   "execution_count": 113,
   "id": "4ad19971-63e8-4cf3-ae79-a284d8484135",
   "metadata": {},
   "outputs": [
    {
     "data": {
      "text/plain": [
       "numb_features                      2\n",
       "RSS                         6.804927\n",
       "R_squared                        NaN\n",
       "features         (maintenance, Year)\n",
       "min_RSS                     6.804927\n",
       "max_R_squared                    NaN\n",
       "Name: 10, dtype: object"
      ]
     },
     "execution_count": 113,
     "metadata": {},
     "output_type": "execute_result"
    }
   ],
   "source": [
    "df_min.loc[df_min['RSS'].idxmin()]"
   ]
  },
  {
   "cell_type": "code",
   "execution_count": 114,
   "id": "4e36c346-f47a-49bf-89d0-e92b31a917c7",
   "metadata": {},
   "outputs": [
    {
     "data": {
      "text/plain": [
       "['maintenance', 'Year']"
      ]
     },
     "execution_count": 114,
     "metadata": {},
     "output_type": "execute_result"
    }
   ],
   "source": [
    "CV_parse"
   ]
  },
  {
   "cell_type": "code",
   "execution_count": null,
   "id": "8270e036-7b9e-4df9-b429-ad1932478c47",
   "metadata": {},
   "outputs": [],
   "source": [
    "#zca.fit(X)\n",
    "yscaler.fit(y)\n",
    "xscaler.fit(X)\n",
    "zca_X = pd.DataFrame(zca.fit_transform(X),columns=X.columns)\n",
    "y_scaled = pd.DataFrame(yscaler.transform(np.array(y).reshape(-1, 1)))\n",
    "y_scaled.index = y.index\n",
    "x_scaled = pd.DataFrame(xscaler.transform(X))\n",
    "x_scaled.index = X.index\n",
    "x_scaled.columns = X.columns"
   ]
  },
  {
   "cell_type": "code",
   "execution_count": null,
   "id": "762d4b71-93e0-4bba-84a0-946bf40c1bd9",
   "metadata": {},
   "outputs": [],
   "source": []
  },
  {
   "cell_type": "code",
   "execution_count": null,
   "id": "27557e72-6997-4128-8fd1-981c65861eb1",
   "metadata": {},
   "outputs": [],
   "source": [
    "#model = LinearRegression()\n",
    "#model.fit(zca_X, y_scaled)\n",
    "\n",
    "data_set_wConstant = statsmodels.tools.tools.add_constant(x_scaled)\n",
    "#y_ = data_set_wConstant[target]\n",
    "X_trainwConstant = data_set_wConstant\n",
    "#results = model.fit(X, y)\n",
    "model = sm.OLS(y_scaled,x_scaled)\n",
    "results = model.fit()\n",
    "fitted = results.predict(x_scaled)\n",
    "results.summary()"
   ]
  },
  {
   "cell_type": "code",
   "execution_count": null,
   "id": "c550b95c-264d-4af6-ab66-d435f0f28daf",
   "metadata": {},
   "outputs": [],
   "source": [
    "linear_plot = Plot.LinearRegressionResidualPlot(X_trainwConstant.values, y_scaled.values)\n",
    "lm = linear_plot.fit()\n",
    "summary, diag_res = linear_plot.diagnostic_plots(lm)\n",
    "print(\"Summary of Regression\\n:{}\".format(summary))\n",
    "print(\"Diagnostic Tests of Regression\\n:{}\".format(diag_res))\n",
    "car_data"
   ]
  }
 ],
 "metadata": {
  "kernelspec": {
   "display_name": "Python 3 (ipykernel)",
   "language": "python",
   "name": "python3"
  },
  "language_info": {
   "codemirror_mode": {
    "name": "ipython",
    "version": 3
   },
   "file_extension": ".py",
   "mimetype": "text/x-python",
   "name": "python",
   "nbconvert_exporter": "python",
   "pygments_lexer": "ipython3",
   "version": "3.9.6"
  }
 },
 "nbformat": 4,
 "nbformat_minor": 5
}
