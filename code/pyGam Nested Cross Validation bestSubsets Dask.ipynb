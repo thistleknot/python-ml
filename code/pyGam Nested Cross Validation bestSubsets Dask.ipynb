{
 "cells": [
  {
   "cell_type": "code",
   "execution_count": null,
   "id": "21837827-a151-4377-9023-b0435398870c",
   "metadata": {},
   "outputs": [],
   "source": [
    "\n",
    "from matplotlib import pyplot\n",
    "import matplotlib.pyplot as plt\n",
    "\n",
    "from mlxtend.feature_selection import SequentialFeatureSelector as SFS\n",
    "from mlxtend.plotting import plot_sequential_feature_selection as plot_sfs\n",
    "\n",
    "from numpy import *\n",
    "\n",
    "import numpy as np\n",
    "from numpy import mean\n",
    "from numpy import absolute\n",
    "from numpy import arange\n",
    "from numpy import mean\n",
    "from numpy import std\n",
    "from numpy.random import seed\n",
    "\n",
    "from OLS_LR_DiagnosticPlots.ModelDiagnostics import Plot\n",
    "\n",
    "import pandas as pd  \n",
    "from pandas import read_csv\n",
    "\n",
    "import pygam\n",
    "from pygam import ExpectileGAM\n",
    "from pygam import LinearGAM\n",
    "from pygam import LogisticGAM\n",
    "from pygam.datasets import mcycle\n",
    "\n",
    "from random import randint\n",
    "from random import random\n",
    "from random import seed\n",
    "\n",
    "import seaborn as sns\n",
    "\n",
    "import scipy\n",
    "from scipy import stats # For in-built method to get PCC\n",
    "\n",
    "from sklearn.datasets import make_classification\n",
    "from sklearn.model_selection import KFold\n",
    "from sklearn.model_selection import GridSearchCV\n",
    "from sklearn.ensemble import RandomForestClassifier\n",
    "from sklearn.metrics import accuracy_score\n",
    "import sklearn\n",
    "#from sklearn.datasets import load_breast_cancer\n",
    "import sklearn.linear_model\n",
    "from sklearn import linear_model\n",
    "from sklearn.base import BaseEstimator, TransformerMixin\n",
    "from sklearn.compose import TransformedTargetRegressor\n",
    "from sklearn.datasets import load_boston\n",
    "from sklearn.datasets import make_regression\n",
    "from sklearn.decomposition import PCA\n",
    "from sklearn.ensemble import RandomForestRegressor, IsolationForest\n",
    "from sklearn.linear_model import ElasticNet, ElasticNetCV, LinearRegression\n",
    "from sklearn.linear_model import RANSACRegressor\n",
    "from sklearn.metrics import accuracy_score as acc\n",
    "from sklearn.metrics import mean_squared_error\n",
    "from sklearn.model_selection import GridSearchCV, KFold, cross_val_score, RepeatedKFold, train_test_split\n",
    "from sklearn.pipeline import FeatureUnion, Pipeline, make_pipeline\n",
    "from sklearn.pipeline import Pipeline\n",
    "from sklearn.preprocessing import *\n",
    "\n",
    "import statsmodels.api as sm\n",
    "import statsmodels.tools\n",
    "from statsmodels.stats.outliers_influence import OLSInfluence\n",
    "\n",
    "from tqdm import tnrange, tqdm_notebook\n",
    "#from zca import zca\n",
    "\n",
    "import itertools\n",
    "import matplotlib.pyplot as plt\n",
    "import mlxtend\n",
    "import numpy as np\n",
    "import pandas as pd\n",
    "import pingouin as pg\n",
    "\n",
    "import random\n",
    "\n",
    "import sys\n",
    "\n",
    "#if not sys.warnoptions:\n",
    "#    import warnings\n",
    "#    warnings.simplefilter(\"ignore\")\n",
    "\n",
    "import warnings\n",
    "warnings.filterwarnings('ignore')\n",
    "\n",
    "from dask.distributed import Client\n",
    "from dask.distributed import as_completed"
   ]
  },
  {
   "cell_type": "code",
   "execution_count": null,
   "id": "dcaa266a-56c8-480c-bffd-7b103de65d7b",
   "metadata": {},
   "outputs": [],
   "source": [
    "#!/usr/bin/python\n",
    "# -*- coding: utf-8 -*-\n",
    "\n",
    "# ------------------------------------\n",
    "# file: zca.py\n",
    "# date: Thu May 21 15:47 2015\n",
    "# author:\n",
    "# Maarten Versteegh\n",
    "# github.com/mwv\n",
    "# maartenversteegh AT gmail DOT com\n",
    "#\n",
    "# Licensed under GPLv3\n",
    "# ------------------------------------\n",
    "\"\"\"zca: ZCA whitening with a sklearn-like interface\n",
    "\n",
    "\"\"\"\n",
    "\n",
    "from __future__ import division\n",
    "\n",
    "import numpy as np\n",
    "from scipy import linalg\n",
    "\n",
    "from sklearn.base import TransformerMixin, BaseEstimator\n",
    "from sklearn.utils.validation import check_is_fitted\n",
    "from sklearn.utils import check_array, as_float_array\n",
    "\n",
    "class ZCA(BaseEstimator, TransformerMixin):\n",
    "    def __init__(self, regularization=1e-6, copy=False):\n",
    "        self.regularization = regularization\n",
    "        self.copy = copy\n",
    "\n",
    "    def fit(self, X, y=None):\n",
    "        \"\"\"Compute the mean, whitening and dewhitening matrices.\n",
    "\n",
    "        Parameters\n",
    "        ----------\n",
    "        X : array-like with shape [n_samples, n_features]\n",
    "            The data used to compute the mean, whitening and dewhitening\n",
    "            matrices.\n",
    "        \"\"\"\n",
    "        X = check_array(X, accept_sparse=None, copy=self.copy,\n",
    "                        ensure_2d=True)\n",
    "        X = as_float_array(X, copy=self.copy)\n",
    "        self.mean_ = X.mean(axis=0)\n",
    "        X_ = X - self.mean_\n",
    "        cov = np.dot(X_.T, X_) / (X_.shape[0]-1)\n",
    "        U, S, _ = linalg.svd(cov)\n",
    "        s = np.sqrt(S.clip(self.regularization))\n",
    "        s_inv = np.diag(1./s)\n",
    "        s = np.diag(s)\n",
    "        self.whiten_ = np.dot(np.dot(U, s_inv), U.T)\n",
    "        self.dewhiten_ = np.dot(np.dot(U, s), U.T)\n",
    "        return self\n",
    "\n",
    "    def transform(self, X, y=None, copy=None):\n",
    "        \"\"\"Perform ZCA whitening\n",
    "\n",
    "        Parameters\n",
    "        ----------\n",
    "        X : array-like with shape [n_samples, n_features]\n",
    "            The data to whiten along the features axis.\n",
    "        \"\"\"\n",
    "        check_is_fitted(self, 'mean_')\n",
    "        X = as_float_array(X, copy=self.copy)\n",
    "        return np.dot(X - self.mean_, self.whiten_.T)\n",
    "\n",
    "    def inverse_transform(self, X, copy=None):\n",
    "        \"\"\"Undo the ZCA transform and rotate back to the original\n",
    "        representation\n",
    "\n",
    "        Parameters\n",
    "        ----------\n",
    "        X : array-like with shape [n_samples, n_features]\n",
    "            The data to rotate back.\n",
    "        \"\"\"\n",
    "        check_is_fitted(self, 'mean_')\n",
    "        X = as_float_array(X, copy=self.copy)\n",
    "        return np.dot(X, self.dewhiten_) + self.mean_\n"
   ]
  },
  {
   "cell_type": "code",
   "execution_count": null,
   "id": "6710bda9-380a-4f65-b6ec-3f0d397a6e2b",
   "metadata": {},
   "outputs": [],
   "source": [
    "#np.array(X.iloc[:, 0:])"
   ]
  },
  {
   "cell_type": "code",
   "execution_count": null,
   "id": "eda21a98-f8a8-4a6b-b47c-4b803edf7eef",
   "metadata": {},
   "outputs": [],
   "source": [
    "\n",
    "df = pd.read_csv(\"https://raw.githubusercontent.com/thistleknot/Python-Stock/master/data/raw/states.csv\").set_index('States')\n",
    "\n",
    "target = \"Poverty\"\n",
    "y = df[[target]]\n",
    "X = df.loc[:, ~df.columns.isin([\"States\",target])].copy()\n",
    "\n",
    "df.describe()"
   ]
  },
  {
   "cell_type": "code",
   "execution_count": null,
   "id": "6b54d937-bc1b-4237-baf6-e2ae63b59b94",
   "metadata": {},
   "outputs": [],
   "source": []
  },
  {
   "cell_type": "code",
   "execution_count": null,
   "id": "7109f392-3603-47b7-ba28-431c2648785f",
   "metadata": {},
   "outputs": [],
   "source": []
  },
  {
   "cell_type": "code",
   "execution_count": null,
   "id": "ac5ced4e-29dc-4360-afb9-772295e9461a",
   "metadata": {},
   "outputs": [],
   "source": [
    "from tqdm import tnrange, tqdm_notebook\n",
    "\n",
    "#inner_cv = KFold(n_splits=5, shuffle=True, random_state=0)\n",
    "#outer_cv = KFold(n_splits=3, shuffle=True, random_state=0)\n",
    "\n",
    "k_=2\n",
    "\n",
    "cv_outer = KFold(n_splits=k_+1, shuffle=True, random_state=1)\n",
    "cv_inner = KFold(n_splits=k_+3, shuffle=True, random_state=1)\n",
    "\n",
    "#Initialization variables\n",
    "\n",
    "k = len(X.columns)\n",
    "\n",
    "terms = list()\n",
    "#Looping over k = 1 to k = 11 features in X\n",
    "for k in tnrange(1,len(X.columns) + 1, desc = 'Loop...'):\n",
    "\n",
    "    #Looping over all possible combinations: from 11 choose k\n",
    "    for combo in itertools.combinations(X.columns,k):\n",
    "        terms.append(list(combo))\n",
    "        "
   ]
  },
  {
   "cell_type": "code",
   "execution_count": null,
   "id": "1175bf9e-a7a2-4981-b592-445b015b753b",
   "metadata": {},
   "outputs": [],
   "source": []
  },
  {
   "cell_type": "code",
   "execution_count": null,
   "id": "fd9923cd-73a8-4b75-9f46-9c977e2edaf1",
   "metadata": {},
   "outputs": [],
   "source": []
  },
  {
   "cell_type": "code",
   "execution_count": null,
   "id": "2be0e048-2696-4b73-ac8f-e2b159e44c93",
   "metadata": {},
   "outputs": [],
   "source": [
    "\n",
    "def process_term(npa_):\n",
    "    t=npa_[0]\n",
    "    X=npa_[1]\n",
    "    y=npa_[2]\n",
    "    \n",
    "    #print(t)\n",
    "\n",
    "    #print(t)\n",
    "    subX = X[t]\n",
    "    \n",
    "    outer_results = list()\n",
    "    \n",
    "    for trainv_ix, test_ix in cv_outer.split(subX):\n",
    "        # split data\n",
    "        X_trainv, X_test = subX.iloc[trainv_ix], subX.iloc[test_ix, :]\n",
    "        y_trainv, y_test = y.iloc[trainv_ix], y.iloc[test_ix]\n",
    "\n",
    "        inner_results = list()\n",
    "        inner_models = list()\n",
    "        \n",
    "        #good juncture to fork locally\n",
    "        for train_ix, valid_ix in cv_inner.split(X_trainv):\n",
    "            # split data\n",
    "            X_train, X_valid = X_trainv.iloc[train_ix, :], X_trainv.iloc[valid_ix, :]\n",
    "            y_train, y_valid = y_trainv.iloc[train_ix], y_trainv.iloc[valid_ix]\n",
    "\n",
    "            gam = LinearGAM().fit(X_train[t],y_train)\n",
    "            inner_models.append(gam)\n",
    "            \n",
    "            yhat = gam.predict(X_valid[t])\n",
    "            # evaluate the model\n",
    "            acc = np.mean(abs(y_valid.values.ravel()-yhat))\n",
    "            # store the result\n",
    "            inner_results.append(acc)\n",
    "            # report progress\n",
    "            #print('>acc=%.3f, est=%.3f, cfg=%s' % (acc, result.best_score_, result.best_params_))\n",
    "            # summarize the estimated performance of the model\n",
    "        \n",
    "        #good juncture to fork locally\n",
    "        model_scores = list()\n",
    "        \n",
    "        #test inner model as ansemble\n",
    "        for m in inner_models:\n",
    "            model_scores.append(np.mean(abs(m.predict(X_test)-y_test.values.ravel())))\n",
    "            \n",
    "        #average internal model results and report as outer_result which*\n",
    "        outer_results.append(np.mean(np.abs(model_scores)))\n",
    "\n",
    "        #print('I Accuracy: %.3f (%.3f)' % (mean(inner_results), std(inner_results)))\n",
    "        \n",
    "    #*will in turn be averaged over all folds to determine that combination of term's outer score (real world performance, which will be our model evaluating metric).\n",
    "    score = [t,mean(outer_results), std(outer_results)]\n",
    "    \n",
    "    #print('O Accuracy: %.3f (%.3f)' % (score[0], score[1]))\n",
    "    return(score)\n"
   ]
  },
  {
   "cell_type": "code",
   "execution_count": null,
   "id": "509f1f4d-05ad-44e1-9df4-19251a4dd6af",
   "metadata": {},
   "outputs": [],
   "source": [
    "termlengths = [len(t) for t in terms]"
   ]
  },
  {
   "cell_type": "code",
   "execution_count": 86,
   "id": "ff8be82c-4b3c-4a2a-aa3e-2e4ff8a59373",
   "metadata": {},
   "outputs": [],
   "source": [
    "\n",
    "outer_scores = pd.DataFrame()\n",
    "\n",
    "for i in range(1,max(termlengths)):\n",
    "    #print(i)\n",
    "    subset = np.array(terms)[[np.array(termlengths)==i]]\n",
    "    #print(subset)\n",
    "    \n",
    "    npa = []\n",
    "\n",
    "    for t in range(0,len(subset)):\n",
    "        npa.append([subset[t],X,y])\n",
    "    #print(npa)\n",
    "\n",
    "    client = Client('192.168.3.100:8786')\n",
    "    #client.restart()\n",
    "\n",
    "    future = client.map(process_term, npa)\n",
    "\n",
    "    results = client.gather(future)\n",
    "\n",
    "    #print(results)\n",
    "    outer_scores = pd.concat([outer_scores,pd.DataFrame(results,columns=['terms','OCV','OCVStd']).sort_values(by='OCV')],axis=0)\n",
    "    #print()\n",
    "    #good juncture to fork\n"
   ]
  },
  {
   "cell_type": "code",
   "execution_count": 100,
   "id": "0ced85a6-b5d9-4d3e-a690-6b9189462495",
   "metadata": {},
   "outputs": [
    {
     "data": {
      "text/html": [
       "<div>\n",
       "<style scoped>\n",
       "    .dataframe tbody tr th:only-of-type {\n",
       "        vertical-align: middle;\n",
       "    }\n",
       "\n",
       "    .dataframe tbody tr th {\n",
       "        vertical-align: top;\n",
       "    }\n",
       "\n",
       "    .dataframe thead th {\n",
       "        text-align: right;\n",
       "    }\n",
       "</style>\n",
       "<table border=\"1\" class=\"dataframe\">\n",
       "  <thead>\n",
       "    <tr style=\"text-align: right;\">\n",
       "      <th></th>\n",
       "      <th>terms</th>\n",
       "      <th>OCV</th>\n",
       "      <th>OCVStd</th>\n",
       "    </tr>\n",
       "  </thead>\n",
       "  <tbody>\n",
       "    <tr>\n",
       "      <th>7</th>\n",
       "      <td>[Income]</td>\n",
       "      <td>2.402604</td>\n",
       "      <td>0.141434</td>\n",
       "    </tr>\n",
       "    <tr>\n",
       "      <th>3</th>\n",
       "      <td>[Doctors]</td>\n",
       "      <td>2.486585</td>\n",
       "      <td>0.115376</td>\n",
       "    </tr>\n",
       "    <tr>\n",
       "      <th>5</th>\n",
       "      <td>[University]</td>\n",
       "      <td>2.496580</td>\n",
       "      <td>0.167188</td>\n",
       "    </tr>\n",
       "    <tr>\n",
       "      <th>0</th>\n",
       "      <td>[Infant Mort]</td>\n",
       "      <td>2.535410</td>\n",
       "      <td>0.157540</td>\n",
       "    </tr>\n",
       "    <tr>\n",
       "      <th>6</th>\n",
       "      <td>[Unemployed]</td>\n",
       "      <td>2.581967</td>\n",
       "      <td>0.128151</td>\n",
       "    </tr>\n",
       "    <tr>\n",
       "      <th>...</th>\n",
       "      <td>...</td>\n",
       "      <td>...</td>\n",
       "      <td>...</td>\n",
       "    </tr>\n",
       "    <tr>\n",
       "      <th>6</th>\n",
       "      <td>[Infant Mort, White, Doctors, Traf Deaths, Uni...</td>\n",
       "      <td>2.895162</td>\n",
       "      <td>0.641506</td>\n",
       "    </tr>\n",
       "    <tr>\n",
       "      <th>3</th>\n",
       "      <td>[Infant Mort, White, Crime, Doctors, Traf Deat...</td>\n",
       "      <td>2.945030</td>\n",
       "      <td>0.604611</td>\n",
       "    </tr>\n",
       "    <tr>\n",
       "      <th>2</th>\n",
       "      <td>[Infant Mort, White, Crime, Doctors, Traf Deat...</td>\n",
       "      <td>2.954832</td>\n",
       "      <td>0.665354</td>\n",
       "    </tr>\n",
       "    <tr>\n",
       "      <th>5</th>\n",
       "      <td>[Infant Mort, White, Crime, Traf Deaths, Unive...</td>\n",
       "      <td>2.978578</td>\n",
       "      <td>0.662007</td>\n",
       "    </tr>\n",
       "    <tr>\n",
       "      <th>1</th>\n",
       "      <td>[Infant Mort, White, Crime, Doctors, Traf Deat...</td>\n",
       "      <td>3.065136</td>\n",
       "      <td>0.659825</td>\n",
       "    </tr>\n",
       "  </tbody>\n",
       "</table>\n",
       "<p>510 rows × 3 columns</p>\n",
       "</div>"
      ],
      "text/plain": [
       "                                                terms       OCV    OCVStd\n",
       "7                                            [Income]  2.402604  0.141434\n",
       "3                                           [Doctors]  2.486585  0.115376\n",
       "5                                        [University]  2.496580  0.167188\n",
       "0                                       [Infant Mort]  2.535410  0.157540\n",
       "6                                        [Unemployed]  2.581967  0.128151\n",
       "..                                                ...       ...       ...\n",
       "6   [Infant Mort, White, Doctors, Traf Deaths, Uni...  2.895162  0.641506\n",
       "3   [Infant Mort, White, Crime, Doctors, Traf Deat...  2.945030  0.604611\n",
       "2   [Infant Mort, White, Crime, Doctors, Traf Deat...  2.954832  0.665354\n",
       "5   [Infant Mort, White, Crime, Traf Deaths, Unive...  2.978578  0.662007\n",
       "1   [Infant Mort, White, Crime, Doctors, Traf Deat...  3.065136  0.659825\n",
       "\n",
       "[510 rows x 3 columns]"
      ]
     },
     "execution_count": 100,
     "metadata": {},
     "output_type": "execute_result"
    }
   ],
   "source": [
    "outer_scores"
   ]
  },
  {
   "cell_type": "code",
   "execution_count": null,
   "id": "7c395b68-a1f8-46ac-a06f-35acec2e8469",
   "metadata": {},
   "outputs": [],
   "source": []
  },
  {
   "cell_type": "code",
   "execution_count": null,
   "id": "0d9fb69a-5539-4c7c-b866-ce667b1677ae",
   "metadata": {},
   "outputs": [],
   "source": []
  },
  {
   "cell_type": "code",
   "execution_count": null,
   "id": "5420e3eb-69c3-48f9-9dbb-89edd414cfea",
   "metadata": {},
   "outputs": [],
   "source": []
  },
  {
   "cell_type": "code",
   "execution_count": 87,
   "id": "a89eafe2-1fbb-4a8a-a5e5-351ebc257659",
   "metadata": {},
   "outputs": [
    {
     "data": {
      "text/plain": [
       "[<matplotlib.lines.Line2D at 0x7fd899190130>]"
      ]
     },
     "execution_count": 87,
     "metadata": {},
     "output_type": "execute_result"
    },
    {
     "data": {
      "image/png": "[encoded data removed]",
      "text/plain": [
       "<Figure size 432x288 with 1 Axes>"
      ]
     },
     "metadata": {
      "needs_background": "light"
     },
     "output_type": "display_data"
    }
   ],
   "source": [
    "plt.plot(outer_scores['OCV'].reset_index()['OCV'])"
   ]
  },
  {
   "cell_type": "code",
   "execution_count": 88,
   "id": "47ac110e-e050-46f9-9aa3-c739f84abbf5",
   "metadata": {},
   "outputs": [
    {
     "data": {
      "text/plain": [
       "[<matplotlib.lines.Line2D at 0x7fd898e67f70>]"
      ]
     },
     "execution_count": 88,
     "metadata": {},
     "output_type": "execute_result"
    },
    {
     "data": {
      "image/png": "[encoded data removed]",
      "text/plain": [
       "<Figure size 432x288 with 1 Axes>"
      ]
     },
     "metadata": {
      "needs_background": "light"
     },
     "output_type": "display_data"
    }
   ],
   "source": [
    "plt.plot(outer_scores['OCVStd'].reset_index()['OCVStd'])"
   ]
  },
  {
   "cell_type": "code",
   "execution_count": 89,
   "id": "0bee1225-1777-4dc9-ba31-6d8f856e073d",
   "metadata": {},
   "outputs": [
    {
     "data": {
      "text/plain": [
       "['Doctors', 'University', 'Income']"
      ]
     },
     "execution_count": 89,
     "metadata": {},
     "output_type": "execute_result"
    }
   ],
   "source": [
    "best_terms = outer_scores.iloc[np.argmin(outer_scores['OCV'])]['terms']\n",
    "best_terms"
   ]
  },
  {
   "cell_type": "code",
   "execution_count": null,
   "id": "bff2ff96-7ca6-440c-83aa-f08fcbb82c90",
   "metadata": {},
   "outputs": [],
   "source": []
  },
  {
   "cell_type": "code",
   "execution_count": 90,
   "id": "8467dc91-5256-47dd-8ecd-54410df64e3f",
   "metadata": {},
   "outputs": [],
   "source": [
    "min_scores = pd.DataFrame()\n",
    "for i in range(1,max(termlengths)):\n",
    "    min_scores = pd.concat([min_scores,pd.DataFrame(outer_scores.iloc[np.array([len(t) for t in outer_scores['terms']])==i].iloc[np.argmin(outer_scores.iloc[np.array([len(t) for t in outer_scores['terms']])==i]['OCV'])]).T],axis=0)"
   ]
  },
  {
   "cell_type": "code",
   "execution_count": 91,
   "id": "3ba90992-2d6b-4f6c-8365-a5bf2ac31f14",
   "metadata": {},
   "outputs": [
    {
     "data": {
      "text/plain": [
       "[<matplotlib.lines.Line2D at 0x7fd94c47f910>]"
      ]
     },
     "execution_count": 91,
     "metadata": {},
     "output_type": "execute_result"
    },
    {
     "data": {
      "image/png": "[encoded data removed]",
      "text/plain": [
       "<Figure size 432x288 with 1 Axes>"
      ]
     },
     "metadata": {
      "needs_background": "light"
     },
     "output_type": "display_data"
    }
   ],
   "source": [
    "plt.plot(min_scores.reset_index()['OCV'])"
   ]
  },
  {
   "cell_type": "code",
   "execution_count": 92,
   "id": "5655f5a7-234c-44a2-a72d-76d2c4fc83e8",
   "metadata": {},
   "outputs": [],
   "source": [
    "zca = ZCA()\n",
    "#zca.fit(X[best_terms])\n",
    "final_gam = LinearGAM().fit(zca.fit_transform(X[best_terms]),y)"
   ]
  },
  {
   "cell_type": "code",
   "execution_count": null,
   "id": "9d5a1b01-d621-4b49-bd39-b30d8924325c",
   "metadata": {},
   "outputs": [],
   "source": []
  },
  {
   "cell_type": "code",
   "execution_count": null,
   "id": "8b794f6d-c052-4e18-9778-0d52bfc95787",
   "metadata": {},
   "outputs": [],
   "source": []
  },
  {
   "cell_type": "code",
   "execution_count": 93,
   "id": "665fc06e-a7e4-486f-83c4-7792dacfabf8",
   "metadata": {},
   "outputs": [
    {
     "data": {
      "text/plain": [
       "{'n_samples': 50,\n",
       " 'm_features': 3,\n",
       " 'edof_per_coef': array([0.43413643, 0.45022252, 0.58970679, 0.43619635, 0.51780166,\n",
       "        0.60722596, 0.59774582, 0.65696742, 0.63925967, 0.60310846,\n",
       "        0.68771963, 0.40309429, 0.33173627, 0.61384968, 0.44660851,\n",
       "        0.59106201, 0.28053887, 0.52757471, 0.38461989, 0.24583211,\n",
       "        0.34264714, 0.28671732, 0.22441709, 0.38397598, 0.36521527,\n",
       "        0.37922657, 0.34399462, 0.47113546, 0.33987148, 0.39590667,\n",
       "        0.52053448, 0.29275209, 0.27310499, 0.27175242, 0.2526172 ,\n",
       "        0.07183358, 0.17219739, 0.16935385, 0.16313378, 0.21994826,\n",
       "        0.18365309, 0.12674782, 0.13391589, 0.07997287, 0.06613992,\n",
       "        0.08397716, 0.10860812, 0.18678545, 0.13644287, 0.10427455]),\n",
       " 'edof': 17.19586041166911,\n",
       " 'scale': 2.090007713695283,\n",
       " 'cov': array([[ 0.06434237, -0.05887894, -0.09429515, ...,  0.04254752,\n",
       "          0.0030518 ,  0.00504604],\n",
       "        [-0.05887894,  0.16374224,  0.22854551, ...,  0.00297693,\n",
       "         -0.03753423,  0.00057858],\n",
       "        [-0.09429515,  0.22854551,  0.39355216, ..., -0.02352848,\n",
       "         -0.06824612,  0.0011282 ],\n",
       "        ...,\n",
       "        [ 0.04254752,  0.00297693, -0.02352848, ...,  0.21452627,\n",
       "         -0.03290984,  0.00924737],\n",
       "        [ 0.0030518 , -0.03753423, -0.06824612, ..., -0.03290984,\n",
       "          0.15164651,  0.03756523],\n",
       "        [ 0.00504604,  0.00057858,  0.0011282 , ...,  0.00924737,\n",
       "          0.03756523,  0.07380197]]),\n",
       " 'se': array([0.25365798, 0.40465076, 0.62733736, 0.60556139, 0.55601724,\n",
       "        0.52741646, 0.50228033, 0.4996422 , 0.49853188, 0.56403652,\n",
       "        0.56010786, 0.5392969 , 0.48424252, 0.56482023, 0.65210185,\n",
       "        0.61740343, 0.51751907, 0.46024598, 0.33476028, 0.28304166,\n",
       "        0.30981922, 0.4465039 , 0.59984298, 0.53018369, 0.48847726,\n",
       "        0.47921074, 0.49963973, 0.50259805, 0.48394663, 0.49651867,\n",
       "        0.48265116, 0.52500341, 0.58249318, 0.65600841, 0.666112  ,\n",
       "        0.37294083, 0.1559577 , 0.34389494, 0.32562471, 0.23110644,\n",
       "        0.13482638, 0.57216433, 0.70525987, 0.5963975 , 0.53651163,\n",
       "        0.54473954, 0.52283696, 0.47865856, 0.51582016, 0.60273082,\n",
       "        0.55112728, 0.50910593, 0.60011211, 0.71015196, 0.67031257,\n",
       "        0.62378694, 0.61252414, 0.66089671, 0.46316981, 0.38941816,\n",
       "        0.27166518]),\n",
       " 'AIC': 217.69805245658193,\n",
       " 'AICc': 240.37586142644722,\n",
       " 'pseudo_r2': OrderedDict([('explained_deviance', 0.8380127603888107),\n",
       "              ('McFadden', 0.6906768039077394),\n",
       "              ('McFadden_adj', 0.17830976922970343)]),\n",
       " 'GCV': 5.100143139035222,\n",
       " 'UBRE': None,\n",
       " 'loglikelihood': -90.65316581662185,\n",
       " 'deviance': 32.80413958833089,\n",
       " 'p_values': [4.977488066160163e-08,\n",
       "  3.697583797956927e-05,\n",
       "  6.990827442487912e-07,\n",
       "  1.1102230246251565e-16]}"
      ]
     },
     "execution_count": 93,
     "metadata": {},
     "output_type": "execute_result"
    }
   ],
   "source": [
    "final_gam.statistics_"
   ]
  },
  {
   "cell_type": "code",
   "execution_count": 94,
   "id": "f3f8d45c-621f-43e9-8b82-0197774d2d70",
   "metadata": {},
   "outputs": [
    {
     "data": {
      "text/plain": [
       "array([-0.89720474, -0.15869302,  0.02329855, -0.05367448,  0.39068701,\n",
       "        1.4132768 ,  1.69143277,  1.01583149,  0.66382994,  1.4041878 ,\n",
       "        1.4324092 ,  0.73889646,  0.28369011,  0.10560116,  0.32585286,\n",
       "        0.77153761,  1.11057877,  0.95282106,  0.16097236, -1.37851935,\n",
       "       -1.54876597,  1.01121912,  2.22112337,  1.72247747,  0.61653745,\n",
       "        0.11218743,  0.74045807,  1.91044268,  1.924561  ,  1.58894378,\n",
       "        0.68649064, -0.22004123, -0.37358186, -0.19614051, -0.12811397,\n",
       "       -0.0160049 ,  0.11031742,  0.14477474,  0.01394771, -0.32402007,\n",
       "        0.64192746,  4.95960081,  6.45996855,  5.41190035,  3.59165824,\n",
       "        1.60612506,  0.76109818,  0.85181581,  0.74886063,  0.11901664,\n",
       "        0.04717489, -0.4797709 , -1.00331347, -1.14005373, -1.79097498,\n",
       "       -2.35839831, -2.92955802, -3.33967929, -2.43246707,  0.27188153,\n",
       "        9.99681237])"
      ]
     },
     "execution_count": 94,
     "metadata": {},
     "output_type": "execute_result"
    }
   ],
   "source": [
    "final_gam.coef_"
   ]
  },
  {
   "cell_type": "code",
   "execution_count": 95,
   "id": "4ca91abe-9447-456f-8a1c-729acf579a9a",
   "metadata": {},
   "outputs": [
    {
     "name": "stdout",
     "output_type": "stream",
     "text": [
      "LinearGAM                                                                                                 \n",
      "=============================================== ==========================================================\n",
      "Distribution:                        NormalDist Effective DoF:                                     17.1959\n",
      "Link Function:                     IdentityLink Log Likelihood:                                   -90.6532\n",
      "Number of Samples:                           50 AIC:                                              217.6981\n",
      "                                                AICc:                                             240.3759\n",
      "                                                GCV:                                                5.1001\n",
      "                                                Scale:                                                2.09\n",
      "                                                Pseudo R-Squared:                                    0.838\n",
      "==========================================================================================================\n",
      "Feature Function                  Lambda               Rank         EDoF         P > x        Sig. Code   \n",
      "================================= ==================== ============ ============ ============ ============\n",
      "s(0)                              [0.6]                20                        4.98e-08     ***         \n",
      "s(1)                              [0.6]                20                        3.70e-05     ***         \n",
      "s(2)                              [0.6]                20                        6.99e-07     ***         \n",
      "intercept                                              1                         1.11e-16     ***         \n",
      "==========================================================================================================\n",
      "Significance codes:  0 '***' 0.001 '**' 0.01 '*' 0.05 '.' 0.1 ' ' 1\n",
      "\n",
      "WARNING: Fitting splines and a linear function to a feature introduces a model identifiability problem\n",
      "         which can cause p-values to appear significant when they are not.\n",
      "\n",
      "WARNING: p-values calculated in this manner behave correctly for un-penalized models or models with\n",
      "         known smoothing parameters, but when smoothing parameters have been estimated, the p-values\n",
      "         are typically lower than they should be, meaning that the tests reject the null too readily.\n"
     ]
    }
   ],
   "source": [
    "final_gam.summary()"
   ]
  },
  {
   "cell_type": "code",
   "execution_count": 96,
   "id": "494cdff0-3082-46cc-ae47-3ed1152129b8",
   "metadata": {},
   "outputs": [
    {
     "data": {
      "text/plain": [
       "0.9197672590752645"
      ]
     },
     "execution_count": 96,
     "metadata": {},
     "output_type": "execute_result"
    }
   ],
   "source": [
    "np.mean(np.abs(final_gam.predict(zca.transform(X[best_terms]))-y.values.ravel()))"
   ]
  },
  {
   "cell_type": "code",
   "execution_count": null,
   "id": "e5b998ef-e9c1-43fe-a379-cf790c25a780",
   "metadata": {},
   "outputs": [],
   "source": []
  },
  {
   "cell_type": "code",
   "execution_count": 97,
   "id": "f536e1e2-0127-4d6d-b36c-e8e099353033",
   "metadata": {},
   "outputs": [],
   "source": [
    "prediction_interval = pd.DataFrame(final_gam.prediction_intervals(zca.transform(X[best_terms])),columns=['lower','upper'])\n",
    "yhat = pd.DataFrame(final_gam.predict(zca.transform(X[best_terms])),columns=['center'])\n",
    "prediction_set = pd.concat([prediction_interval['lower'],yhat,prediction_interval['upper']],axis=1)\n",
    "prediction_set.index = y.index\n",
    "prediction_set.sort_values(kind=\"quicksort\", ascending=True,by='center',inplace=True)\n",
    "#plt.plot()\n",
    "#plt.plot(prediction_interval['upper'])\n",
    "#plt.show()"
   ]
  },
  {
   "cell_type": "code",
   "execution_count": 98,
   "id": "95cb1a21-63fb-43a1-894a-2ebbb5ce745d",
   "metadata": {},
   "outputs": [
    {
     "data": {
      "image/png": "[encoded data removed]",
      "text/plain": [
       "<Figure size 432x288 with 1 Axes>"
      ]
     },
     "metadata": {
      "needs_background": "light"
     },
     "output_type": "display_data"
    }
   ],
   "source": [
    "plt.plot(prediction_set['lower'])\n",
    "plt.plot(prediction_set['center'])\n",
    "plt.plot(prediction_set['upper'])\n",
    "plt.xticks(rotation = 45)\n",
    "plt.show()"
   ]
  },
  {
   "cell_type": "code",
   "execution_count": 99,
   "id": "cb6981d2-b231-4eed-b66b-9541c3bbc51c",
   "metadata": {},
   "outputs": [
    {
     "data": {
      "text/plain": [
       "<Figure size 432x288 with 0 Axes>"
      ]
     },
     "metadata": {},
     "output_type": "display_data"
    },
    {
     "data": {
      "image/png": "[encoded data removed]",
      "text/plain": [
       "<Figure size 432x288 with 3 Axes>"
      ]
     },
     "metadata": {
      "needs_background": "light"
     },
     "output_type": "display_data"
    }
   ],
   "source": [
    "if len(best_terms)>1:\n",
    "    plt.figure();\n",
    "    fig, axs = plt.subplots(1,len(best_terms));\n",
    "\n",
    "    titles = best_terms\n",
    "    for i, ax in enumerate(axs):\n",
    "        XX = final_gam.generate_X_grid(term=i)\n",
    "        ax.plot(XX[:, i], final_gam.partial_dependence(term=i, X=XX))\n",
    "        ax.plot(XX[:, i], final_gam.partial_dependence(term=i, X=XX, width=.95)[1], c='r', ls='--')\n",
    "        ax.set_title(titles[i]);\n",
    "else:\n",
    "    XX = final_gam.generate_X_grid(term=0)\n",
    "    \n",
    "    fig, axs = plt.subplots(1,len(best_terms));\n",
    "\n",
    "    titles = best_terms\n",
    "\n",
    "    axs.plot(XX[:, 0], final_gam.partial_dependence(term=0, X=XX))\n",
    "    axs.plot(XX[:, 0], final_gam.partial_dependence(term=0, X=XX, width=.95)[1], c='r', ls='--')\n",
    "    axs.set_title(best_terms[0]);"
   ]
  }
 ],
 "metadata": {
  "kernelspec": {
   "display_name": "Python 3 (ipykernel)",
   "language": "python",
   "name": "python3"
  },
  "language_info": {
   "codemirror_mode": {
    "name": "ipython",
    "version": 3
   },
   "file_extension": ".py",
   "mimetype": "text/x-python",
   "name": "python",
   "nbconvert_exporter": "python",
   "pygments_lexer": "ipython3",
   "version": "3.9.9"
  }
 },
 "nbformat": 4,
 "nbformat_minor": 5
}
