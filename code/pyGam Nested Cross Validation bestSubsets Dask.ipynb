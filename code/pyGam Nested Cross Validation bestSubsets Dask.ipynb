{
 "cells": [
  {
   "cell_type": "code",
   "execution_count": 1,
   "id": "21837827-a151-4377-9023-b0435398870c",
   "metadata": {},
   "outputs": [],
   "source": [
    "\n",
    "from matplotlib import pyplot\n",
    "import matplotlib.pyplot as plt\n",
    "\n",
    "from mlxtend.feature_selection import SequentialFeatureSelector as SFS\n",
    "from mlxtend.plotting import plot_sequential_feature_selection as plot_sfs\n",
    "\n",
    "from numpy import *\n",
    "\n",
    "import numpy as np\n",
    "from numpy import mean\n",
    "from numpy import absolute\n",
    "from numpy import arange\n",
    "from numpy import mean\n",
    "from numpy import std\n",
    "from numpy.random import seed\n",
    "\n",
    "from OLS_LR_DiagnosticPlots.ModelDiagnostics import Plot\n",
    "\n",
    "import pandas as pd  \n",
    "from pandas import read_csv\n",
    "\n",
    "import pygam\n",
    "from pygam import ExpectileGAM\n",
    "from pygam import LinearGAM\n",
    "from pygam import LogisticGAM\n",
    "from pygam.datasets import mcycle\n",
    "\n",
    "from random import randint\n",
    "from random import random\n",
    "from random import seed\n",
    "\n",
    "import seaborn as sns\n",
    "\n",
    "import scipy\n",
    "from scipy import stats # For in-built method to get PCC\n",
    "\n",
    "from sklearn.datasets import make_classification\n",
    "from sklearn.model_selection import KFold\n",
    "from sklearn.model_selection import GridSearchCV\n",
    "from sklearn.ensemble import RandomForestClassifier\n",
    "from sklearn.metrics import accuracy_score\n",
    "import sklearn\n",
    "#from sklearn.datasets import load_breast_cancer\n",
    "import sklearn.linear_model\n",
    "from sklearn import linear_model\n",
    "from sklearn.base import BaseEstimator, TransformerMixin\n",
    "from sklearn.compose import TransformedTargetRegressor\n",
    "from sklearn.datasets import load_boston\n",
    "from sklearn.datasets import make_regression\n",
    "from sklearn.decomposition import PCA\n",
    "from sklearn.ensemble import RandomForestRegressor, IsolationForest\n",
    "from sklearn.linear_model import ElasticNet, ElasticNetCV, LinearRegression\n",
    "from sklearn.linear_model import RANSACRegressor\n",
    "from sklearn.metrics import accuracy_score as acc\n",
    "from sklearn.metrics import mean_squared_error\n",
    "from sklearn.model_selection import GridSearchCV, KFold, cross_val_score, RepeatedKFold, train_test_split\n",
    "from sklearn.pipeline import FeatureUnion, Pipeline, make_pipeline\n",
    "from sklearn.pipeline import Pipeline\n",
    "from sklearn.preprocessing import *\n",
    "\n",
    "import statsmodels.api as sm\n",
    "import statsmodels.tools\n",
    "from statsmodels.stats.outliers_influence import OLSInfluence\n",
    "\n",
    "from tqdm import tnrange, tqdm_notebook\n",
    "#from zca import zca\n",
    "\n",
    "import itertools\n",
    "import matplotlib.pyplot as plt\n",
    "import mlxtend\n",
    "import numpy as np\n",
    "import pandas as pd\n",
    "import pingouin as pg\n",
    "\n",
    "import random\n",
    "\n",
    "import sys\n",
    "\n",
    "#if not sys.warnoptions:\n",
    "#    import warnings\n",
    "#    warnings.simplefilter(\"ignore\")\n",
    "\n",
    "import warnings\n",
    "warnings.filterwarnings('ignore')\n",
    "\n",
    "from dask.distributed import Client\n",
    "from dask.distributed import as_completed"
   ]
  },
  {
   "cell_type": "code",
   "execution_count": 2,
   "id": "dcaa266a-56c8-480c-bffd-7b103de65d7b",
   "metadata": {},
   "outputs": [],
   "source": [
    "#!/usr/bin/python\n",
    "# -*- coding: utf-8 -*-\n",
    "\n",
    "# ------------------------------------\n",
    "# file: zca.py\n",
    "# date: Thu May 21 15:47 2015\n",
    "# author:\n",
    "# Maarten Versteegh\n",
    "# github.com/mwv\n",
    "# maartenversteegh AT gmail DOT com\n",
    "#\n",
    "# Licensed under GPLv3\n",
    "# ------------------------------------\n",
    "\"\"\"zca: ZCA whitening with a sklearn-like interface\n",
    "\n",
    "\"\"\"\n",
    "\n",
    "from __future__ import division\n",
    "\n",
    "import numpy as np\n",
    "from scipy import linalg\n",
    "\n",
    "from sklearn.base import TransformerMixin, BaseEstimator\n",
    "from sklearn.utils.validation import check_is_fitted\n",
    "from sklearn.utils import check_array, as_float_array\n",
    "\n",
    "class ZCA(BaseEstimator, TransformerMixin):\n",
    "    def __init__(self, regularization=1e-6, copy=False):\n",
    "        self.regularization = regularization\n",
    "        self.copy = copy\n",
    "\n",
    "    def fit(self, X, y=None):\n",
    "        \"\"\"Compute the mean, whitening and dewhitening matrices.\n",
    "\n",
    "        Parameters\n",
    "        ----------\n",
    "        X : array-like with shape [n_samples, n_features]\n",
    "            The data used to compute the mean, whitening and dewhitening\n",
    "            matrices.\n",
    "        \"\"\"\n",
    "        X = check_array(X, accept_sparse=None, copy=self.copy,\n",
    "                        ensure_2d=True)\n",
    "        X = as_float_array(X, copy=self.copy)\n",
    "        self.mean_ = X.mean(axis=0)\n",
    "        X_ = X - self.mean_\n",
    "        cov = np.dot(X_.T, X_) / (X_.shape[0]-1)\n",
    "        U, S, _ = linalg.svd(cov)\n",
    "        s = np.sqrt(S.clip(self.regularization))\n",
    "        s_inv = np.diag(1./s)\n",
    "        s = np.diag(s)\n",
    "        self.whiten_ = np.dot(np.dot(U, s_inv), U.T)\n",
    "        self.dewhiten_ = np.dot(np.dot(U, s), U.T)\n",
    "        return self\n",
    "\n",
    "    def transform(self, X, y=None, copy=None):\n",
    "        \"\"\"Perform ZCA whitening\n",
    "\n",
    "        Parameters\n",
    "        ----------\n",
    "        X : array-like with shape [n_samples, n_features]\n",
    "            The data to whiten along the features axis.\n",
    "        \"\"\"\n",
    "        check_is_fitted(self, 'mean_')\n",
    "        X = as_float_array(X, copy=self.copy)\n",
    "        return np.dot(X - self.mean_, self.whiten_.T)\n",
    "\n",
    "    def inverse_transform(self, X, copy=None):\n",
    "        \"\"\"Undo the ZCA transform and rotate back to the original\n",
    "        representation\n",
    "\n",
    "        Parameters\n",
    "        ----------\n",
    "        X : array-like with shape [n_samples, n_features]\n",
    "            The data to rotate back.\n",
    "        \"\"\"\n",
    "        check_is_fitted(self, 'mean_')\n",
    "        X = as_float_array(X, copy=self.copy)\n",
    "        return np.dot(X, self.dewhiten_) + self.mean_\n"
   ]
  },
  {
   "cell_type": "code",
   "execution_count": 3,
   "id": "6710bda9-380a-4f65-b6ec-3f0d397a6e2b",
   "metadata": {},
   "outputs": [],
   "source": [
    "#np.array(X.iloc[:, 0:])"
   ]
  },
  {
   "cell_type": "code",
   "execution_count": 4,
   "id": "eda21a98-f8a8-4a6b-b47c-4b803edf7eef",
   "metadata": {},
   "outputs": [
    {
     "data": {
      "text/html": [
       "<div>\n",
       "<style scoped>\n",
       "    .dataframe tbody tr th:only-of-type {\n",
       "        vertical-align: middle;\n",
       "    }\n",
       "\n",
       "    .dataframe tbody tr th {\n",
       "        vertical-align: top;\n",
       "    }\n",
       "\n",
       "    .dataframe thead th {\n",
       "        text-align: right;\n",
       "    }\n",
       "</style>\n",
       "<table border=\"1\" class=\"dataframe\">\n",
       "  <thead>\n",
       "    <tr style=\"text-align: right;\">\n",
       "      <th></th>\n",
       "      <th>Poverty</th>\n",
       "      <th>Infant Mort</th>\n",
       "      <th>White</th>\n",
       "      <th>Crime</th>\n",
       "      <th>Doctors</th>\n",
       "      <th>Traf Deaths</th>\n",
       "      <th>University</th>\n",
       "      <th>Unemployed</th>\n",
       "      <th>Income</th>\n",
       "      <th>Population</th>\n",
       "    </tr>\n",
       "  </thead>\n",
       "  <tbody>\n",
       "    <tr>\n",
       "      <th>count</th>\n",
       "      <td>50.000000</td>\n",
       "      <td>50.000000</td>\n",
       "      <td>50.00000</td>\n",
       "      <td>50.000000</td>\n",
       "      <td>50.000000</td>\n",
       "      <td>50.00000</td>\n",
       "      <td>50.000000</td>\n",
       "      <td>50.000000</td>\n",
       "      <td>50.000000</td>\n",
       "      <td>5.000000e+01</td>\n",
       "    </tr>\n",
       "    <tr>\n",
       "      <th>mean</th>\n",
       "      <td>12.732000</td>\n",
       "      <td>6.830000</td>\n",
       "      <td>81.96200</td>\n",
       "      <td>407.480000</td>\n",
       "      <td>260.276000</td>\n",
       "      <td>1.40440</td>\n",
       "      <td>26.940000</td>\n",
       "      <td>5.270000</td>\n",
       "      <td>51985.100000</td>\n",
       "      <td>6.016154e+06</td>\n",
       "    </tr>\n",
       "    <tr>\n",
       "      <th>std</th>\n",
       "      <td>2.939002</td>\n",
       "      <td>1.338786</td>\n",
       "      <td>11.97458</td>\n",
       "      <td>183.633868</td>\n",
       "      <td>64.363415</td>\n",
       "      <td>0.38654</td>\n",
       "      <td>4.761152</td>\n",
       "      <td>1.253933</td>\n",
       "      <td>8592.657934</td>\n",
       "      <td>6.663772e+06</td>\n",
       "    </tr>\n",
       "    <tr>\n",
       "      <th>min</th>\n",
       "      <td>7.600000</td>\n",
       "      <td>4.700000</td>\n",
       "      <td>29.70000</td>\n",
       "      <td>118.000000</td>\n",
       "      <td>168.800000</td>\n",
       "      <td>0.76000</td>\n",
       "      <td>17.100000</td>\n",
       "      <td>3.000000</td>\n",
       "      <td>37790.000000</td>\n",
       "      <td>5.232260e+05</td>\n",
       "    </tr>\n",
       "    <tr>\n",
       "      <th>25%</th>\n",
       "      <td>10.450000</td>\n",
       "      <td>5.725000</td>\n",
       "      <td>76.15000</td>\n",
       "      <td>278.250000</td>\n",
       "      <td>218.425000</td>\n",
       "      <td>1.14000</td>\n",
       "      <td>24.025000</td>\n",
       "      <td>4.400000</td>\n",
       "      <td>46161.250000</td>\n",
       "      <td>1.779632e+06</td>\n",
       "    </tr>\n",
       "    <tr>\n",
       "      <th>50%</th>\n",
       "      <td>12.400000</td>\n",
       "      <td>6.850000</td>\n",
       "      <td>84.55000</td>\n",
       "      <td>345.500000</td>\n",
       "      <td>249.050000</td>\n",
       "      <td>1.37500</td>\n",
       "      <td>26.200000</td>\n",
       "      <td>5.300000</td>\n",
       "      <td>50173.000000</td>\n",
       "      <td>4.313980e+06</td>\n",
       "    </tr>\n",
       "    <tr>\n",
       "      <th>75%</th>\n",
       "      <td>14.700000</td>\n",
       "      <td>7.750000</td>\n",
       "      <td>89.85000</td>\n",
       "      <td>520.000000</td>\n",
       "      <td>274.800000</td>\n",
       "      <td>1.62000</td>\n",
       "      <td>29.825000</td>\n",
       "      <td>6.275000</td>\n",
       "      <td>56903.000000</td>\n",
       "      <td>6.490796e+06</td>\n",
       "    </tr>\n",
       "    <tr>\n",
       "      <th>max</th>\n",
       "      <td>21.200000</td>\n",
       "      <td>10.600000</td>\n",
       "      <td>96.40000</td>\n",
       "      <td>788.000000</td>\n",
       "      <td>469.000000</td>\n",
       "      <td>2.45000</td>\n",
       "      <td>38.100000</td>\n",
       "      <td>8.400000</td>\n",
       "      <td>70545.000000</td>\n",
       "      <td>3.618591e+07</td>\n",
       "    </tr>\n",
       "  </tbody>\n",
       "</table>\n",
       "</div>"
      ],
      "text/plain": [
       "         Poverty  Infant Mort     White       Crime     Doctors  Traf Deaths  \\\n",
       "count  50.000000    50.000000  50.00000   50.000000   50.000000     50.00000   \n",
       "mean   12.732000     6.830000  81.96200  407.480000  260.276000      1.40440   \n",
       "std     2.939002     1.338786  11.97458  183.633868   64.363415      0.38654   \n",
       "min     7.600000     4.700000  29.70000  118.000000  168.800000      0.76000   \n",
       "25%    10.450000     5.725000  76.15000  278.250000  218.425000      1.14000   \n",
       "50%    12.400000     6.850000  84.55000  345.500000  249.050000      1.37500   \n",
       "75%    14.700000     7.750000  89.85000  520.000000  274.800000      1.62000   \n",
       "max    21.200000    10.600000  96.40000  788.000000  469.000000      2.45000   \n",
       "\n",
       "       University  Unemployed        Income    Population  \n",
       "count   50.000000   50.000000     50.000000  5.000000e+01  \n",
       "mean    26.940000    5.270000  51985.100000  6.016154e+06  \n",
       "std      4.761152    1.253933   8592.657934  6.663772e+06  \n",
       "min     17.100000    3.000000  37790.000000  5.232260e+05  \n",
       "25%     24.025000    4.400000  46161.250000  1.779632e+06  \n",
       "50%     26.200000    5.300000  50173.000000  4.313980e+06  \n",
       "75%     29.825000    6.275000  56903.000000  6.490796e+06  \n",
       "max     38.100000    8.400000  70545.000000  3.618591e+07  "
      ]
     },
     "execution_count": 4,
     "metadata": {},
     "output_type": "execute_result"
    }
   ],
   "source": [
    "\n",
    "df = pd.read_csv(\"https://raw.githubusercontent.com/thistleknot/Python-Stock/master/data/raw/states.csv\").set_index('States')\n",
    "\n",
    "target = \"Poverty\"\n",
    "y = df[[target]]\n",
    "X = df.loc[:, ~df.columns.isin([\"States\",target])].copy()\n",
    "\n",
    "df.describe()"
   ]
  },
  {
   "cell_type": "code",
   "execution_count": null,
   "id": "6b54d937-bc1b-4237-baf6-e2ae63b59b94",
   "metadata": {},
   "outputs": [],
   "source": []
  },
  {
   "cell_type": "code",
   "execution_count": null,
   "id": "7109f392-3603-47b7-ba28-431c2648785f",
   "metadata": {},
   "outputs": [],
   "source": []
  },
  {
   "cell_type": "code",
   "execution_count": 5,
   "id": "ac5ced4e-29dc-4360-afb9-772295e9461a",
   "metadata": {},
   "outputs": [
    {
     "data": {
      "application/vnd.jupyter.widget-view+json": {
       "model_id": "af60ab45f97c4debb8a96832448cbde4",
       "version_major": 2,
       "version_minor": 0
      },
      "text/plain": [
       "Loop...:   0%|          | 0/9 [00:00<?, ?it/s]"
      ]
     },
     "metadata": {},
     "output_type": "display_data"
    }
   ],
   "source": [
    "from tqdm import tnrange, tqdm_notebook\n",
    "\n",
    "#inner_cv = KFold(n_splits=5, shuffle=True, random_state=0)\n",
    "#outer_cv = KFold(n_splits=3, shuffle=True, random_state=0)\n",
    "\n",
    "k_=10\n",
    "\n",
    "cv_outer = KFold(n_splits=k_, shuffle=True, random_state=1)\n",
    "cv_inner = KFold(n_splits=k_, shuffle=True, random_state=1)\n",
    "\n",
    "#Initialization variables\n",
    "\n",
    "k = len(X.columns)\n",
    "\n",
    "terms = list()\n",
    "#Looping over k = 1 to k = 11 features in X\n",
    "for k in tnrange(1,len(X.columns) + 1, desc = 'Loop...'):\n",
    "\n",
    "    #Looping over all possible combinations: from 11 choose k\n",
    "    for combo in itertools.combinations(X.columns,k):\n",
    "        terms.append(list(combo))\n",
    "        "
   ]
  },
  {
   "cell_type": "code",
   "execution_count": null,
   "id": "1175bf9e-a7a2-4981-b592-445b015b753b",
   "metadata": {},
   "outputs": [],
   "source": []
  },
  {
   "cell_type": "code",
   "execution_count": null,
   "id": "fd9923cd-73a8-4b75-9f46-9c977e2edaf1",
   "metadata": {},
   "outputs": [],
   "source": []
  },
  {
   "cell_type": "code",
   "execution_count": 6,
   "id": "2be0e048-2696-4b73-ac8f-e2b159e44c93",
   "metadata": {},
   "outputs": [],
   "source": [
    "\n",
    "def process_term(npa_):\n",
    "    t=npa_[0]\n",
    "    X=npa_[1]\n",
    "    y=npa_[2]\n",
    "    \n",
    "    #print(t)\n",
    "\n",
    "    #print(t)\n",
    "    subX = X[t]\n",
    "    \n",
    "    outer_results = list()\n",
    "    \n",
    "    for trainv_ix, test_ix in cv_outer.split(subX):\n",
    "        # split data\n",
    "        X_trainv, X_test = subX.iloc[trainv_ix], subX.iloc[test_ix, :]\n",
    "        y_trainv, y_test = y.iloc[trainv_ix], y.iloc[test_ix]\n",
    "\n",
    "        inner_results = list()\n",
    "        inner_models = list()\n",
    "        \n",
    "        #good juncture to fork locally\n",
    "        for train_ix, valid_ix in cv_inner.split(X_trainv):\n",
    "            # split data\n",
    "            X_train, X_valid = X_trainv.iloc[train_ix, :], X_trainv.iloc[valid_ix, :]\n",
    "            y_train, y_valid = y_trainv.iloc[train_ix], y_trainv.iloc[valid_ix]\n",
    "\n",
    "            gam = LinearGAM().fit(X_train[t],y_train)\n",
    "            inner_models.append(gam)\n",
    "            \n",
    "            yhat = gam.predict(X_valid[t])\n",
    "            # evaluate the model\n",
    "            acc = np.mean(abs(y_valid.values.ravel()-yhat))\n",
    "            # store the result\n",
    "            inner_results.append(acc)\n",
    "            # report progress\n",
    "            #print('>acc=%.3f, est=%.3f, cfg=%s' % (acc, result.best_score_, result.best_params_))\n",
    "            # summarize the estimated performance of the model\n",
    "        \n",
    "        #good juncture to fork locally\n",
    "        model_scores = list()\n",
    "        \n",
    "        #test inner model as ansemble\n",
    "        for m in inner_models:\n",
    "            model_scores.append(np.mean(abs(m.predict(X_test)-y_test.values.ravel())))\n",
    "            \n",
    "        #average internal model results and report as outer_result which*\n",
    "        outer_results.append(np.mean(np.abs(model_scores)))\n",
    "\n",
    "        #print('I Accuracy: %.3f (%.3f)' % (mean(inner_results), std(inner_results)))\n",
    "        \n",
    "    #*will in turn be averaged over all folds to determine that combination of term's outer score (real world performance, which will be our model evaluating metric).\n",
    "    score = [t,mean(outer_results), std(outer_results)]\n",
    "    \n",
    "    #print('O Accuracy: %.3f (%.3f)' % (score[0], score[1]))\n",
    "    return(score)\n"
   ]
  },
  {
   "cell_type": "code",
   "execution_count": 7,
   "id": "509f1f4d-05ad-44e1-9df4-19251a4dd6af",
   "metadata": {},
   "outputs": [],
   "source": [
    "termlengths = [len(t) for t in terms]"
   ]
  },
  {
   "cell_type": "code",
   "execution_count": 8,
   "id": "ff8be82c-4b3c-4a2a-aa3e-2e4ff8a59373",
   "metadata": {},
   "outputs": [],
   "source": [
    "\n",
    "outer_scores = pd.DataFrame()\n",
    "\n",
    "for i in range(1,max(termlengths)):\n",
    "    #print(i)\n",
    "    subset = np.array(terms)[[np.array(termlengths)==i]]\n",
    "    #print(subset)\n",
    "    \n",
    "    npa = []\n",
    "\n",
    "    for t in range(0,len(subset)):\n",
    "        npa.append([subset[t],X,y])\n",
    "    #print(npa)\n",
    "\n",
    "    client = Client('192.168.3.100:8786')\n",
    "    #client.restart()\n",
    "\n",
    "    future = client.map(process_term, npa)\n",
    "\n",
    "    results = client.gather(future)\n",
    "\n",
    "    #print(results)\n",
    "    outer_scores = pd.concat([outer_scores,pd.DataFrame(results,columns=['terms','OCV','OCVStd']).sort_values(by='OCV')],axis=0)\n",
    "    #print()\n",
    "    #good juncture to fork\n"
   ]
  },
  {
   "cell_type": "code",
   "execution_count": 9,
   "id": "0ced85a6-b5d9-4d3e-a690-6b9189462495",
   "metadata": {},
   "outputs": [
    {
     "data": {
      "text/html": [
       "<div>\n",
       "<style scoped>\n",
       "    .dataframe tbody tr th:only-of-type {\n",
       "        vertical-align: middle;\n",
       "    }\n",
       "\n",
       "    .dataframe tbody tr th {\n",
       "        vertical-align: top;\n",
       "    }\n",
       "\n",
       "    .dataframe thead th {\n",
       "        text-align: right;\n",
       "    }\n",
       "</style>\n",
       "<table border=\"1\" class=\"dataframe\">\n",
       "  <thead>\n",
       "    <tr style=\"text-align: right;\">\n",
       "      <th></th>\n",
       "      <th>terms</th>\n",
       "      <th>OCV</th>\n",
       "      <th>OCVStd</th>\n",
       "    </tr>\n",
       "  </thead>\n",
       "  <tbody>\n",
       "    <tr>\n",
       "      <th>7</th>\n",
       "      <td>[Income]</td>\n",
       "      <td>1.286990</td>\n",
       "      <td>0.330296</td>\n",
       "    </tr>\n",
       "    <tr>\n",
       "      <th>5</th>\n",
       "      <td>[University]</td>\n",
       "      <td>1.754233</td>\n",
       "      <td>0.478622</td>\n",
       "    </tr>\n",
       "    <tr>\n",
       "      <th>4</th>\n",
       "      <td>[Traf Deaths]</td>\n",
       "      <td>1.779350</td>\n",
       "      <td>0.521725</td>\n",
       "    </tr>\n",
       "    <tr>\n",
       "      <th>0</th>\n",
       "      <td>[Infant Mort]</td>\n",
       "      <td>2.036558</td>\n",
       "      <td>0.637444</td>\n",
       "    </tr>\n",
       "    <tr>\n",
       "      <th>2</th>\n",
       "      <td>[Crime]</td>\n",
       "      <td>2.471386</td>\n",
       "      <td>0.845308</td>\n",
       "    </tr>\n",
       "    <tr>\n",
       "      <th>...</th>\n",
       "      <td>...</td>\n",
       "      <td>...</td>\n",
       "      <td>...</td>\n",
       "    </tr>\n",
       "    <tr>\n",
       "      <th>8</th>\n",
       "      <td>[White, Crime, Doctors, Traf Deaths, Universit...</td>\n",
       "      <td>2.195733</td>\n",
       "      <td>0.775526</td>\n",
       "    </tr>\n",
       "    <tr>\n",
       "      <th>5</th>\n",
       "      <td>[Infant Mort, White, Crime, Traf Deaths, Unive...</td>\n",
       "      <td>2.209183</td>\n",
       "      <td>0.872746</td>\n",
       "    </tr>\n",
       "    <tr>\n",
       "      <th>3</th>\n",
       "      <td>[Infant Mort, White, Crime, Doctors, Traf Deat...</td>\n",
       "      <td>2.217193</td>\n",
       "      <td>0.831854</td>\n",
       "    </tr>\n",
       "    <tr>\n",
       "      <th>7</th>\n",
       "      <td>[Infant Mort, Crime, Doctors, Traf Deaths, Uni...</td>\n",
       "      <td>2.222169</td>\n",
       "      <td>0.787406</td>\n",
       "    </tr>\n",
       "    <tr>\n",
       "      <th>1</th>\n",
       "      <td>[Infant Mort, White, Crime, Doctors, Traf Deat...</td>\n",
       "      <td>2.297747</td>\n",
       "      <td>0.929194</td>\n",
       "    </tr>\n",
       "  </tbody>\n",
       "</table>\n",
       "<p>510 rows × 3 columns</p>\n",
       "</div>"
      ],
      "text/plain": [
       "                                                terms       OCV    OCVStd\n",
       "7                                            [Income]  1.286990  0.330296\n",
       "5                                        [University]  1.754233  0.478622\n",
       "4                                       [Traf Deaths]  1.779350  0.521725\n",
       "0                                       [Infant Mort]  2.036558  0.637444\n",
       "2                                             [Crime]  2.471386  0.845308\n",
       "..                                                ...       ...       ...\n",
       "8   [White, Crime, Doctors, Traf Deaths, Universit...  2.195733  0.775526\n",
       "5   [Infant Mort, White, Crime, Traf Deaths, Unive...  2.209183  0.872746\n",
       "3   [Infant Mort, White, Crime, Doctors, Traf Deat...  2.217193  0.831854\n",
       "7   [Infant Mort, Crime, Doctors, Traf Deaths, Uni...  2.222169  0.787406\n",
       "1   [Infant Mort, White, Crime, Doctors, Traf Deat...  2.297747  0.929194\n",
       "\n",
       "[510 rows x 3 columns]"
      ]
     },
     "execution_count": 9,
     "metadata": {},
     "output_type": "execute_result"
    }
   ],
   "source": [
    "outer_scores"
   ]
  },
  {
   "cell_type": "code",
   "execution_count": null,
   "id": "7c395b68-a1f8-46ac-a06f-35acec2e8469",
   "metadata": {},
   "outputs": [],
   "source": []
  },
  {
   "cell_type": "code",
   "execution_count": null,
   "id": "0d9fb69a-5539-4c7c-b866-ce667b1677ae",
   "metadata": {},
   "outputs": [],
   "source": []
  },
  {
   "cell_type": "code",
   "execution_count": null,
   "id": "5420e3eb-69c3-48f9-9dbb-89edd414cfea",
   "metadata": {},
   "outputs": [],
   "source": []
  },
  {
   "cell_type": "code",
   "execution_count": 10,
   "id": "a89eafe2-1fbb-4a8a-a5e5-351ebc257659",
   "metadata": {},
   "outputs": [
    {
     "data": {
      "text/plain": [
       "[<matplotlib.lines.Line2D at 0x7f3f20339670>]"
      ]
     },
     "execution_count": 10,
     "metadata": {},
     "output_type": "execute_result"
    },
    {
     "data": {
      "image/png": "[encoded data removed]",
      "text/plain": [
       "<Figure size 432x288 with 1 Axes>"
      ]
     },
     "metadata": {
      "needs_background": "light"
     },
     "output_type": "display_data"
    }
   ],
   "source": [
    "plt.plot(outer_scores['OCV'].reset_index()['OCV'])"
   ]
  },
  {
   "cell_type": "code",
   "execution_count": 11,
   "id": "47ac110e-e050-46f9-9aa3-c739f84abbf5",
   "metadata": {},
   "outputs": [
    {
     "data": {
      "text/plain": [
       "[<matplotlib.lines.Line2D at 0x7f3f202914c0>]"
      ]
     },
     "execution_count": 11,
     "metadata": {},
     "output_type": "execute_result"
    },
    {
     "data": {
      "image/png": "[encoded data removed]",
      "text/plain": [
       "<Figure size 432x288 with 1 Axes>"
      ]
     },
     "metadata": {
      "needs_background": "light"
     },
     "output_type": "display_data"
    }
   ],
   "source": [
    "plt.plot(outer_scores['OCVStd'].reset_index()['OCVStd'])"
   ]
  },
  {
   "cell_type": "code",
   "execution_count": 12,
   "id": "0bee1225-1777-4dc9-ba31-6d8f856e073d",
   "metadata": {},
   "outputs": [
    {
     "data": {
      "text/plain": [
       "['Income', 'Population']"
      ]
     },
     "execution_count": 12,
     "metadata": {},
     "output_type": "execute_result"
    }
   ],
   "source": [
    "best_terms = outer_scores.iloc[np.argmin(outer_scores['OCV'])]['terms']\n",
    "best_terms"
   ]
  },
  {
   "cell_type": "code",
   "execution_count": null,
   "id": "bff2ff96-7ca6-440c-83aa-f08fcbb82c90",
   "metadata": {},
   "outputs": [],
   "source": []
  },
  {
   "cell_type": "code",
   "execution_count": 13,
   "id": "8467dc91-5256-47dd-8ecd-54410df64e3f",
   "metadata": {},
   "outputs": [],
   "source": [
    "min_scores = pd.DataFrame()\n",
    "for i in range(1,max(termlengths)):\n",
    "    min_scores = pd.concat([min_scores,pd.DataFrame(outer_scores.iloc[np.array([len(t) for t in outer_scores['terms']])==i].iloc[np.argmin(outer_scores.iloc[np.array([len(t) for t in outer_scores['terms']])==i]['OCV'])]).T],axis=0)"
   ]
  },
  {
   "cell_type": "code",
   "execution_count": 14,
   "id": "2bb4035a-e2de-46a8-86c5-5e102c82ee69",
   "metadata": {},
   "outputs": [],
   "source": [
    "minterms = []\n",
    "for i in min_scores.reset_index()['terms'].values:\n",
    "    minterms.append(i)"
   ]
  },
  {
   "cell_type": "code",
   "execution_count": 15,
   "id": "12443702-448f-498a-969f-ead360674269",
   "metadata": {},
   "outputs": [
    {
     "data": {
      "text/plain": [
       "[['Income'],\n",
       " ['Income', 'Population'],\n",
       " ['Traf Deaths', 'University', 'Income'],\n",
       " ['Infant Mort', 'Traf Deaths', 'University', 'Income'],\n",
       " ['Infant Mort', 'Crime', 'Doctors', 'Unemployed', 'Income'],\n",
       " ['Infant Mort',\n",
       "  'Doctors',\n",
       "  'Traf Deaths',\n",
       "  'University',\n",
       "  'Unemployed',\n",
       "  'Income'],\n",
       " ['Infant Mort',\n",
       "  'Crime',\n",
       "  'Doctors',\n",
       "  'Traf Deaths',\n",
       "  'University',\n",
       "  'Unemployed',\n",
       "  'Income'],\n",
       " ['Infant Mort',\n",
       "  'White',\n",
       "  'Crime',\n",
       "  'Doctors',\n",
       "  'Traf Deaths',\n",
       "  'University',\n",
       "  'Unemployed',\n",
       "  'Income']]"
      ]
     },
     "execution_count": 15,
     "metadata": {},
     "output_type": "execute_result"
    }
   ],
   "source": [
    "minterms"
   ]
  },
  {
   "cell_type": "code",
   "execution_count": 16,
   "id": "3ba90992-2d6b-4f6c-8365-a5bf2ac31f14",
   "metadata": {},
   "outputs": [
    {
     "data": {
      "image/png": "[encoded data removed]",
      "text/plain": [
       "<Figure size 432x288 with 1 Axes>"
      ]
     },
     "metadata": {
      "needs_background": "light"
     },
     "output_type": "display_data"
    }
   ],
   "source": [
    "#lt.plot(min_scores.reset_index()['OCV'])\n",
    "ax= plt.subplot()\n",
    "#plt.plot(np.array(minterms), min_scores.reset_index()['OCV'])\n",
    "plt.plot(min_scores.reset_index()['OCV'])\n",
    "plt.xticks(range(0,len(min_scores)),minterms, rotation=45)\n",
    "# Function to avoid overlapping\n",
    "\n",
    "#plt.setp(ax.get_xticklabels(), rotation=30, ha='right')\n",
    "\n",
    "# Display Chart\n",
    "\n",
    "plt.show()\n"
   ]
  },
  {
   "cell_type": "code",
   "execution_count": 17,
   "id": "5655f5a7-234c-44a2-a72d-76d2c4fc83e8",
   "metadata": {},
   "outputs": [],
   "source": [
    "zca = ZCA()\n",
    "#zca.fit(X[best_terms])\n",
    "final_gam = LinearGAM().fit(zca.fit_transform(X[best_terms]),y)"
   ]
  },
  {
   "cell_type": "code",
   "execution_count": null,
   "id": "9d5a1b01-d621-4b49-bd39-b30d8924325c",
   "metadata": {},
   "outputs": [],
   "source": []
  },
  {
   "cell_type": "code",
   "execution_count": null,
   "id": "8b794f6d-c052-4e18-9778-0d52bfc95787",
   "metadata": {},
   "outputs": [],
   "source": []
  },
  {
   "cell_type": "code",
   "execution_count": 18,
   "id": "665fc06e-a7e4-486f-83c4-7792dacfabf8",
   "metadata": {},
   "outputs": [
    {
     "data": {
      "text/plain": [
       "{'n_samples': 50,\n",
       " 'm_features': 2,\n",
       " 'edof_per_coef': array([7.78279649e-01, 2.68520402e-01, 2.90773888e-01, 5.36161408e-01,\n",
       "        3.98070146e-01, 6.61618058e-01, 4.37512294e-01, 6.66323385e-01,\n",
       "        4.75351561e-01, 5.92761838e-01, 6.90612333e-01, 6.14668287e-01,\n",
       "        3.71177238e-01, 3.17085491e-01, 5.78343914e-01, 2.67860998e-01,\n",
       "        4.46221206e-01, 5.94465690e-01, 4.38685193e-01, 1.37199274e-01,\n",
       "        7.34020587e-01, 2.93849391e-01, 3.03352459e-01, 3.33347881e-01,\n",
       "        2.56837618e-01, 4.46859086e-01, 6.16385196e-01, 2.26468986e-01,\n",
       "        2.32174610e-01, 1.82937390e-01, 1.46615809e-01, 6.07239532e-01,\n",
       "        1.05296579e-25, 1.59653184e-24, 1.80195347e-25, 6.98641392e-26,\n",
       "        2.20947885e-25, 5.55002680e-24, 5.83889969e-26, 5.34509593e-26,\n",
       "        2.21985952e-24]),\n",
       " 'edof': 13.941780795794731,\n",
       " 'scale': 1.2308262104184722,\n",
       " 'cov': array([[ 1.33179428,  0.66724748,  0.0761027 , ...,  0.01358173,\n",
       "          0.01510804,  0.08308439],\n",
       "        [ 0.66724748,  0.41511038,  0.1733793 , ...,  0.00839476,\n",
       "          0.00435756,  0.05837685],\n",
       "        [ 0.0761027 ,  0.1733793 ,  0.23955236, ...,  0.00415494,\n",
       "         -0.00481528,  0.03472119],\n",
       "        ...,\n",
       "        [ 0.01358173,  0.00839476,  0.00415494, ...,  0.92941346,\n",
       "          1.26471395,  0.11740522],\n",
       "        [ 0.01510804,  0.00435756, -0.00481528, ...,  1.26471395,\n",
       "          1.84530112,  0.07529958],\n",
       "        [ 0.08308439,  0.05837685,  0.03472119, ...,  0.11740522,\n",
       "          0.07529958,  0.16209014]]),\n",
       " 'se': array([1.15403392, 0.6442906 , 0.48944087, 0.50544381, 0.41626373,\n",
       "        0.38332289, 0.39144696, 0.38857867, 0.41635247, 0.46623563,\n",
       "        0.44184609, 0.40553705, 0.48435237, 0.60164924, 0.61244615,\n",
       "        0.62890178, 0.58590212, 0.47924404, 0.64217628, 1.29694109,\n",
       "        0.87243332, 0.48217193, 0.49853866, 0.50329381, 0.51004949,\n",
       "        0.54402333, 0.55407075, 0.65364211, 0.71007321, 0.75047185,\n",
       "        0.69134338, 0.57997095, 0.74267838, 0.94075129, 0.97204517,\n",
       "        0.86219067, 0.7113844 , 0.70938041, 0.96406092, 1.35841861,\n",
       "        0.40260419]),\n",
       " 'AIC': 171.84192769850748,\n",
       " 'AICc': 185.82965810315318,\n",
       " 'pseudo_r2': OrderedDict([('explained_deviance', 0.8951411054265233),\n",
       "              ('McFadden', 0.3620953756368893),\n",
       "              ('McFadden_adj', 0.5667815973412542)]),\n",
       " 'GCV': 2.388350979793195,\n",
       " 'UBRE': None,\n",
       " 'loglikelihood': -70.97918305345901,\n",
       " 'deviance': 36.058219204205265,\n",
       " 'p_values': [9.631739850135546e-12,\n",
       "  0.0001489684739771624,\n",
       "  1.1102230246251565e-16]}"
      ]
     },
     "execution_count": 18,
     "metadata": {},
     "output_type": "execute_result"
    }
   ],
   "source": [
    "final_gam.statistics_"
   ]
  },
  {
   "cell_type": "code",
   "execution_count": 19,
   "id": "f3f8d45c-621f-43e9-8b82-0197774d2d70",
   "metadata": {},
   "outputs": [
    {
     "data": {
      "text/plain": [
       "array([ 9.36139925e+00,  7.49520110e+00,  5.95450342e+00,  5.01830244e+00,\n",
       "        4.06157957e+00,  2.22214148e+00,  1.01189921e+00,  6.63773463e-01,\n",
       "        2.90415381e-01, -1.22945427e-01, -3.13435250e-01, -8.95159964e-01,\n",
       "       -1.57578401e+00, -2.25228795e+00, -2.67418752e+00, -2.63738715e+00,\n",
       "       -2.34711078e+00, -2.58202699e+00, -3.61032505e+00, -4.78468521e+00,\n",
       "       -2.49293107e+00, -1.49458901e+00, -6.60846985e-01, -3.33067108e-01,\n",
       "       -4.59841920e-03,  4.75202626e-01,  2.96578487e-01, -3.31157192e-01,\n",
       "       -7.06554190e-01, -5.66597813e-01,  2.91918668e-01,  1.25612760e+00,\n",
       "        1.97536556e+00,  2.40145529e+00,  2.56160037e+00,  2.50897058e+00,\n",
       "        2.29675970e+00,  1.97816147e+00,  1.60636958e+00,  1.22571207e+00,\n",
       "        1.22838802e+01])"
      ]
     },
     "execution_count": 19,
     "metadata": {},
     "output_type": "execute_result"
    }
   ],
   "source": [
    "final_gam.coef_"
   ]
  },
  {
   "cell_type": "code",
   "execution_count": 20,
   "id": "4ca91abe-9447-456f-8a1c-729acf579a9a",
   "metadata": {},
   "outputs": [
    {
     "name": "stdout",
     "output_type": "stream",
     "text": [
      "LinearGAM                                                                                                 \n",
      "=============================================== ==========================================================\n",
      "Distribution:                        NormalDist Effective DoF:                                     13.9418\n",
      "Link Function:                     IdentityLink Log Likelihood:                                   -70.9792\n",
      "Number of Samples:                           50 AIC:                                              171.8419\n",
      "                                                AICc:                                             185.8297\n",
      "                                                GCV:                                                2.3884\n",
      "                                                Scale:                                              1.2308\n",
      "                                                Pseudo R-Squared:                                   0.8951\n",
      "==========================================================================================================\n",
      "Feature Function                  Lambda               Rank         EDoF         P > x        Sig. Code   \n",
      "================================= ==================== ============ ============ ============ ============\n",
      "s(0)                              [0.6]                20           9.6          9.63e-12     ***         \n",
      "s(1)                              [0.6]                20           4.4          1.49e-04     ***         \n",
      "intercept                                              1            0.0          1.11e-16     ***         \n",
      "==========================================================================================================\n",
      "Significance codes:  0 '***' 0.001 '**' 0.01 '*' 0.05 '.' 0.1 ' ' 1\n",
      "\n",
      "WARNING: Fitting splines and a linear function to a feature introduces a model identifiability problem\n",
      "         which can cause p-values to appear significant when they are not.\n",
      "\n",
      "WARNING: p-values calculated in this manner behave correctly for un-penalized models or models with\n",
      "         known smoothing parameters, but when smoothing parameters have been estimated, the p-values\n",
      "         are typically lower than they should be, meaning that the tests reject the null too readily.\n"
     ]
    }
   ],
   "source": [
    "final_gam.summary()"
   ]
  },
  {
   "cell_type": "code",
   "execution_count": 21,
   "id": "494cdff0-3082-46cc-ae47-3ed1152129b8",
   "metadata": {},
   "outputs": [
    {
     "data": {
      "text/plain": [
       "0.7637747597549732"
      ]
     },
     "execution_count": 21,
     "metadata": {},
     "output_type": "execute_result"
    }
   ],
   "source": [
    "np.mean(np.abs(final_gam.predict(zca.transform(X[best_terms]))-y.values.ravel()))"
   ]
  },
  {
   "cell_type": "code",
   "execution_count": null,
   "id": "e5b998ef-e9c1-43fe-a379-cf790c25a780",
   "metadata": {},
   "outputs": [],
   "source": []
  },
  {
   "cell_type": "code",
   "execution_count": 22,
   "id": "f536e1e2-0127-4d6d-b36c-e8e099353033",
   "metadata": {},
   "outputs": [],
   "source": [
    "prediction_interval = pd.DataFrame(final_gam.prediction_intervals(zca.transform(X[best_terms])),columns=['lower','upper'])\n",
    "yhat = pd.DataFrame(final_gam.predict(zca.transform(X[best_terms])),columns=['center'])\n",
    "prediction_set = pd.concat([prediction_interval['lower'],yhat,prediction_interval['upper']],axis=1)\n",
    "prediction_set.index = y.index\n",
    "prediction_set.sort_values(kind=\"quicksort\", ascending=True,by='center',inplace=True)\n",
    "#plt.plot()\n",
    "#plt.plot(prediction_interval['upper'])\n",
    "#plt.show()"
   ]
  },
  {
   "cell_type": "code",
   "execution_count": 23,
   "id": "95cb1a21-63fb-43a1-894a-2ebbb5ce745d",
   "metadata": {},
   "outputs": [
    {
     "data": {
      "image/png": "[encoded data removed]",
      "text/plain": [
       "<Figure size 432x288 with 1 Axes>"
      ]
     },
     "metadata": {
      "needs_background": "light"
     },
     "output_type": "display_data"
    }
   ],
   "source": [
    "plt.plot(prediction_set['lower'])\n",
    "plt.plot(prediction_set['center'])\n",
    "plt.plot(prediction_set['upper'])\n",
    "plt.xticks(rotation = 45)\n",
    "plt.show()"
   ]
  },
  {
   "cell_type": "code",
   "execution_count": 24,
   "id": "cb6981d2-b231-4eed-b66b-9541c3bbc51c",
   "metadata": {},
   "outputs": [
    {
     "data": {
      "text/plain": [
       "<Figure size 432x288 with 0 Axes>"
      ]
     },
     "metadata": {},
     "output_type": "display_data"
    },
    {
     "data": {
      "image/png": "[encoded data removed]",
      "text/plain": [
       "<Figure size 432x288 with 2 Axes>"
      ]
     },
     "metadata": {
      "needs_background": "light"
     },
     "output_type": "display_data"
    }
   ],
   "source": [
    "if len(best_terms)>1:\n",
    "    plt.figure();\n",
    "    fig, axs = plt.subplots(1,len(best_terms));\n",
    "\n",
    "    titles = best_terms\n",
    "    for i, ax in enumerate(axs):\n",
    "        XX = final_gam.generate_X_grid(term=i)\n",
    "        ax.plot(XX[:, i], final_gam.partial_dependence(term=i, X=XX))\n",
    "        ax.plot(XX[:, i], final_gam.partial_dependence(term=i, X=XX, width=.95)[1], c='r', ls='--')\n",
    "        ax.set_title(titles[i]);\n",
    "else:\n",
    "    XX = final_gam.generate_X_grid(term=0)\n",
    "    \n",
    "    fig, axs = plt.subplots(1,len(best_terms));\n",
    "\n",
    "    titles = best_terms\n",
    "\n",
    "    axs.plot(XX[:, 0], final_gam.partial_dependence(term=0, X=XX))\n",
    "    axs.plot(XX[:, 0], final_gam.partial_dependence(term=0, X=XX, width=.95)[1], c='r', ls='--')\n",
    "    axs.set_title(best_terms[0]);"
   ]
  }
 ],
 "metadata": {
  "kernelspec": {
   "display_name": "Python 3 (ipykernel)",
   "language": "python",
   "name": "python3"
  },
  "language_info": {
   "codemirror_mode": {
    "name": "ipython",
    "version": 3
   },
   "file_extension": ".py",
   "mimetype": "text/x-python",
   "name": "python",
   "nbconvert_exporter": "python",
   "pygments_lexer": "ipython3",
   "version": "3.9.9"
  }
 },
 "nbformat": 4,
 "nbformat_minor": 5
}
