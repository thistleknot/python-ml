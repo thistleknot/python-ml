{
 "cells": [
  {
   "cell_type": "code",
   "execution_count": null,
   "id": "21837827-a151-4377-9023-b0435398870c",
   "metadata": {},
   "outputs": [],
   "source": [
    "\n",
    "from matplotlib import pyplot\n",
    "import matplotlib.pyplot as plt\n",
    "\n",
    "from mlxtend.feature_selection import SequentialFeatureSelector as SFS\n",
    "from mlxtend.plotting import plot_sequential_feature_selection as plot_sfs\n",
    "\n",
    "from numpy import *\n",
    "\n",
    "import numpy as np\n",
    "from numpy import mean\n",
    "from numpy import absolute\n",
    "from numpy import arange\n",
    "from numpy import mean\n",
    "from numpy import std\n",
    "from numpy.random import seed\n",
    "\n",
    "from OLS_LR_DiagnosticPlots.ModelDiagnostics import Plot\n",
    "\n",
    "import pandas as pd  \n",
    "from pandas import read_csv\n",
    "\n",
    "import pygam\n",
    "from pygam import ExpectileGAM\n",
    "from pygam import LinearGAM\n",
    "from pygam import LogisticGAM\n",
    "from pygam.datasets import mcycle\n",
    "\n",
    "from random import randint\n",
    "from random import random\n",
    "from random import seed\n",
    "\n",
    "import seaborn as sns\n",
    "\n",
    "import scipy\n",
    "from scipy import stats # For in-built method to get PCC\n",
    "\n",
    "from sklearn.datasets import make_classification\n",
    "from sklearn.model_selection import KFold\n",
    "from sklearn.model_selection import GridSearchCV\n",
    "from sklearn.ensemble import RandomForestClassifier\n",
    "from sklearn.metrics import accuracy_score\n",
    "import sklearn\n",
    "#from sklearn.datasets import load_breast_cancer\n",
    "import sklearn.linear_model\n",
    "from sklearn import linear_model\n",
    "from sklearn.base import BaseEstimator, TransformerMixin\n",
    "from sklearn.compose import TransformedTargetRegressor\n",
    "from sklearn.datasets import load_boston\n",
    "from sklearn.datasets import make_regression\n",
    "from sklearn.decomposition import PCA\n",
    "from sklearn.ensemble import RandomForestRegressor, IsolationForest\n",
    "from sklearn.linear_model import ElasticNet, ElasticNetCV, LinearRegression\n",
    "from sklearn.linear_model import RANSACRegressor\n",
    "from sklearn.metrics import accuracy_score as acc\n",
    "from sklearn.metrics import mean_squared_error\n",
    "from sklearn.model_selection import GridSearchCV, KFold, cross_val_score, RepeatedKFold, train_test_split\n",
    "from sklearn.pipeline import FeatureUnion, Pipeline, make_pipeline\n",
    "from sklearn.pipeline import Pipeline\n",
    "from sklearn.preprocessing import *\n",
    "\n",
    "import statsmodels.api as sm\n",
    "import statsmodels.tools\n",
    "from statsmodels.stats.outliers_influence import OLSInfluence\n",
    "\n",
    "from tqdm import tnrange, tqdm_notebook\n",
    "#from zca import zca\n",
    "\n",
    "import itertools\n",
    "import matplotlib.pyplot as plt\n",
    "import mlxtend\n",
    "import numpy as np\n",
    "import pandas as pd\n",
    "import pingouin as pg\n",
    "\n",
    "import random\n",
    "\n",
    "import sys\n",
    "\n",
    "#if not sys.warnoptions:\n",
    "#    import warnings\n",
    "#    warnings.simplefilter(\"ignore\")\n",
    "\n",
    "import warnings\n",
    "warnings.filterwarnings('ignore')\n",
    "\n",
    "from dask.distributed import Client\n",
    "from dask.distributed import as_completed"
   ]
  },
  {
   "cell_type": "code",
   "execution_count": null,
   "id": "dcaa266a-56c8-480c-bffd-7b103de65d7b",
   "metadata": {},
   "outputs": [],
   "source": [
    "#!/usr/bin/python\n",
    "# -*- coding: utf-8 -*-\n",
    "\n",
    "# ------------------------------------\n",
    "# file: zca.py\n",
    "# date: Thu May 21 15:47 2015\n",
    "# author:\n",
    "# Maarten Versteegh\n",
    "# github.com/mwv\n",
    "# maartenversteegh AT gmail DOT com\n",
    "#\n",
    "# Licensed under GPLv3\n",
    "# ------------------------------------\n",
    "\"\"\"zca: ZCA whitening with a sklearn-like interface\n",
    "\n",
    "\"\"\"\n",
    "\n",
    "from __future__ import division\n",
    "\n",
    "import numpy as np\n",
    "from scipy import linalg\n",
    "\n",
    "from sklearn.base import TransformerMixin, BaseEstimator\n",
    "from sklearn.utils.validation import check_is_fitted\n",
    "from sklearn.utils import check_array, as_float_array\n",
    "\n",
    "class ZCA(BaseEstimator, TransformerMixin):\n",
    "    def __init__(self, regularization=1e-6, copy=False):\n",
    "        self.regularization = regularization\n",
    "        self.copy = copy\n",
    "\n",
    "    def fit(self, X, y=None):\n",
    "        \"\"\"Compute the mean, whitening and dewhitening matrices.\n",
    "\n",
    "        Parameters\n",
    "        ----------\n",
    "        X : array-like with shape [n_samples, n_features]\n",
    "            The data used to compute the mean, whitening and dewhitening\n",
    "            matrices.\n",
    "        \"\"\"\n",
    "        X = check_array(X, accept_sparse=None, copy=self.copy,\n",
    "                        ensure_2d=True)\n",
    "        X = as_float_array(X, copy=self.copy)\n",
    "        self.mean_ = X.mean(axis=0)\n",
    "        X_ = X - self.mean_\n",
    "        cov = np.dot(X_.T, X_) / (X_.shape[0]-1)\n",
    "        U, S, _ = linalg.svd(cov)\n",
    "        s = np.sqrt(S.clip(self.regularization))\n",
    "        s_inv = np.diag(1./s)\n",
    "        s = np.diag(s)\n",
    "        self.whiten_ = np.dot(np.dot(U, s_inv), U.T)\n",
    "        self.dewhiten_ = np.dot(np.dot(U, s), U.T)\n",
    "        return self\n",
    "\n",
    "    def transform(self, X, y=None, copy=None):\n",
    "        \"\"\"Perform ZCA whitening\n",
    "\n",
    "        Parameters\n",
    "        ----------\n",
    "        X : array-like with shape [n_samples, n_features]\n",
    "            The data to whiten along the features axis.\n",
    "        \"\"\"\n",
    "        check_is_fitted(self, 'mean_')\n",
    "        X = as_float_array(X, copy=self.copy)\n",
    "        return np.dot(X - self.mean_, self.whiten_.T)\n",
    "\n",
    "    def inverse_transform(self, X, copy=None):\n",
    "        \"\"\"Undo the ZCA transform and rotate back to the original\n",
    "        representation\n",
    "\n",
    "        Parameters\n",
    "        ----------\n",
    "        X : array-like with shape [n_samples, n_features]\n",
    "            The data to rotate back.\n",
    "        \"\"\"\n",
    "        check_is_fitted(self, 'mean_')\n",
    "        X = as_float_array(X, copy=self.copy)\n",
    "        return np.dot(X, self.dewhiten_) + self.mean_\n"
   ]
  },
  {
   "cell_type": "code",
   "execution_count": null,
   "id": "6710bda9-380a-4f65-b6ec-3f0d397a6e2b",
   "metadata": {},
   "outputs": [],
   "source": [
    "#np.array(X.iloc[:, 0:])"
   ]
  },
  {
   "cell_type": "code",
   "execution_count": null,
   "id": "eda21a98-f8a8-4a6b-b47c-4b803edf7eef",
   "metadata": {},
   "outputs": [],
   "source": [
    "\n",
    "df = pd.read_csv(\"https://raw.githubusercontent.com/thistleknot/Python-Stock/master/data/raw/states.csv\").set_index('States')\n",
    "\n",
    "target = \"Poverty\"\n",
    "y = df[[target]]\n",
    "X = df.loc[:, ~df.columns.isin([\"States\",target])].copy()\n",
    "\n",
    "df.describe()"
   ]
  },
  {
   "cell_type": "code",
   "execution_count": null,
   "id": "6b54d937-bc1b-4237-baf6-e2ae63b59b94",
   "metadata": {},
   "outputs": [],
   "source": []
  },
  {
   "cell_type": "code",
   "execution_count": null,
   "id": "7109f392-3603-47b7-ba28-431c2648785f",
   "metadata": {},
   "outputs": [],
   "source": []
  },
  {
   "cell_type": "code",
   "execution_count": 115,
   "id": "ac5ced4e-29dc-4360-afb9-772295e9461a",
   "metadata": {},
   "outputs": [
    {
     "data": {
      "application/vnd.jupyter.widget-view+json": {
       "model_id": "bc5871db05214ab5899670dda25b853e",
       "version_major": 2,
       "version_minor": 0
      },
      "text/plain": [
       "Loop...:   0%|          | 0/9 [00:00<?, ?it/s]"
      ]
     },
     "metadata": {},
     "output_type": "display_data"
    }
   ],
   "source": [
    "from tqdm import tnrange, tqdm_notebook\n",
    "\n",
    "#inner_cv = KFold(n_splits=5, shuffle=True, random_state=0)\n",
    "#outer_cv = KFold(n_splits=3, shuffle=True, random_state=0)\n",
    "\n",
    "k_=10\n",
    "\n",
    "cv_outer = KFold(n_splits=k_, shuffle=True, random_state=1)\n",
    "cv_inner = KFold(n_splits=k_, shuffle=True, random_state=1)\n",
    "\n",
    "#Initialization variables\n",
    "\n",
    "k = len(X.columns)\n",
    "\n",
    "terms = list()\n",
    "#Looping over k = 1 to k = 11 features in X\n",
    "for k in tnrange(1,len(X.columns) + 1, desc = 'Loop...'):\n",
    "\n",
    "    #Looping over all possible combinations: from 11 choose k\n",
    "    for combo in itertools.combinations(X.columns,k):\n",
    "        terms.append(list(combo))\n",
    "        "
   ]
  },
  {
   "cell_type": "code",
   "execution_count": null,
   "id": "1175bf9e-a7a2-4981-b592-445b015b753b",
   "metadata": {},
   "outputs": [],
   "source": []
  },
  {
   "cell_type": "code",
   "execution_count": null,
   "id": "fd9923cd-73a8-4b75-9f46-9c977e2edaf1",
   "metadata": {},
   "outputs": [],
   "source": []
  },
  {
   "cell_type": "code",
   "execution_count": 116,
   "id": "2be0e048-2696-4b73-ac8f-e2b159e44c93",
   "metadata": {},
   "outputs": [],
   "source": [
    "\n",
    "def process_term(npa_):\n",
    "    t=npa_[0]\n",
    "    X=npa_[1]\n",
    "    y=npa_[2]\n",
    "    \n",
    "    #print(t)\n",
    "\n",
    "    #print(t)\n",
    "    subX = X[t]\n",
    "    \n",
    "    outer_results = list()\n",
    "    \n",
    "    for trainv_ix, test_ix in cv_outer.split(subX):\n",
    "        # split data\n",
    "        X_trainv, X_test = subX.iloc[trainv_ix], subX.iloc[test_ix, :]\n",
    "        y_trainv, y_test = y.iloc[trainv_ix], y.iloc[test_ix]\n",
    "\n",
    "        inner_results = list()\n",
    "        inner_models = list()\n",
    "        \n",
    "        #good juncture to fork locally\n",
    "        for train_ix, valid_ix in cv_inner.split(X_trainv):\n",
    "            # split data\n",
    "            X_train, X_valid = X_trainv.iloc[train_ix, :], X_trainv.iloc[valid_ix, :]\n",
    "            y_train, y_valid = y_trainv.iloc[train_ix], y_trainv.iloc[valid_ix]\n",
    "\n",
    "            gam = LinearGAM().fit(X_train[t],y_train)\n",
    "            inner_models.append(gam)\n",
    "            \n",
    "            yhat = gam.predict(X_valid[t])\n",
    "            # evaluate the model\n",
    "            acc = np.mean(abs(y_valid.values.ravel()-yhat))\n",
    "            # store the result\n",
    "            inner_results.append(acc)\n",
    "            # report progress\n",
    "            #print('>acc=%.3f, est=%.3f, cfg=%s' % (acc, result.best_score_, result.best_params_))\n",
    "            # summarize the estimated performance of the model\n",
    "        \n",
    "        #good juncture to fork locally\n",
    "        model_scores = list()\n",
    "        \n",
    "        #test inner model as ansemble\n",
    "        for m in inner_models:\n",
    "            model_scores.append(np.mean(abs(m.predict(X_test)-y_test.values.ravel())))\n",
    "            \n",
    "        #average internal model results and report as outer_result which*\n",
    "        outer_results.append(np.mean(np.abs(model_scores)))\n",
    "\n",
    "        #print('I Accuracy: %.3f (%.3f)' % (mean(inner_results), std(inner_results)))\n",
    "        \n",
    "    #*will in turn be averaged over all folds to determine that combination of term's outer score (real world performance, which will be our model evaluating metric).\n",
    "    score = [t,mean(outer_results), std(outer_results)]\n",
    "    \n",
    "    #print('O Accuracy: %.3f (%.3f)' % (score[0], score[1]))\n",
    "    return(score)\n"
   ]
  },
  {
   "cell_type": "code",
   "execution_count": 117,
   "id": "509f1f4d-05ad-44e1-9df4-19251a4dd6af",
   "metadata": {},
   "outputs": [],
   "source": [
    "termlengths = [len(t) for t in terms]"
   ]
  },
  {
   "cell_type": "code",
   "execution_count": 118,
   "id": "ff8be82c-4b3c-4a2a-aa3e-2e4ff8a59373",
   "metadata": {},
   "outputs": [],
   "source": [
    "\n",
    "outer_scores = pd.DataFrame()\n",
    "\n",
    "for i in range(1,max(termlengths)):\n",
    "    #print(i)\n",
    "    subset = np.array(terms)[[np.array(termlengths)==i]]\n",
    "    #print(subset)\n",
    "    \n",
    "    npa = []\n",
    "\n",
    "    for t in range(0,len(subset)):\n",
    "        npa.append([subset[t],X,y])\n",
    "    #print(npa)\n",
    "\n",
    "    client = Client('192.168.3.100:8786')\n",
    "    #client.restart()\n",
    "\n",
    "    future = client.map(process_term, npa)\n",
    "\n",
    "    results = client.gather(future)\n",
    "\n",
    "    #print(results)\n",
    "    outer_scores = pd.concat([outer_scores,pd.DataFrame(results,columns=['terms','OCV','OCVStd']).sort_values(by='OCV')],axis=0)\n",
    "    #print()\n",
    "    #good juncture to fork\n"
   ]
  },
  {
   "cell_type": "code",
   "execution_count": 119,
   "id": "0ced85a6-b5d9-4d3e-a690-6b9189462495",
   "metadata": {},
   "outputs": [
    {
     "data": {
      "text/html": [
       "<div>\n",
       "<style scoped>\n",
       "    .dataframe tbody tr th:only-of-type {\n",
       "        vertical-align: middle;\n",
       "    }\n",
       "\n",
       "    .dataframe tbody tr th {\n",
       "        vertical-align: top;\n",
       "    }\n",
       "\n",
       "    .dataframe thead th {\n",
       "        text-align: right;\n",
       "    }\n",
       "</style>\n",
       "<table border=\"1\" class=\"dataframe\">\n",
       "  <thead>\n",
       "    <tr style=\"text-align: right;\">\n",
       "      <th></th>\n",
       "      <th>terms</th>\n",
       "      <th>OCV</th>\n",
       "      <th>OCVStd</th>\n",
       "    </tr>\n",
       "  </thead>\n",
       "  <tbody>\n",
       "    <tr>\n",
       "      <th>7</th>\n",
       "      <td>[Income]</td>\n",
       "      <td>1.331429</td>\n",
       "      <td>0.284844</td>\n",
       "    </tr>\n",
       "    <tr>\n",
       "      <th>5</th>\n",
       "      <td>[University]</td>\n",
       "      <td>1.805923</td>\n",
       "      <td>0.292706</td>\n",
       "    </tr>\n",
       "    <tr>\n",
       "      <th>4</th>\n",
       "      <td>[Traf Deaths]</td>\n",
       "      <td>1.825717</td>\n",
       "      <td>0.478274</td>\n",
       "    </tr>\n",
       "    <tr>\n",
       "      <th>0</th>\n",
       "      <td>[Infant Mort]</td>\n",
       "      <td>2.131348</td>\n",
       "      <td>0.568356</td>\n",
       "    </tr>\n",
       "    <tr>\n",
       "      <th>8</th>\n",
       "      <td>[Population]</td>\n",
       "      <td>2.529776</td>\n",
       "      <td>0.654598</td>\n",
       "    </tr>\n",
       "    <tr>\n",
       "      <th>...</th>\n",
       "      <td>...</td>\n",
       "      <td>...</td>\n",
       "      <td>...</td>\n",
       "    </tr>\n",
       "    <tr>\n",
       "      <th>5</th>\n",
       "      <td>[Infant Mort, White, Crime, Traf Deaths, Unive...</td>\n",
       "      <td>2.255635</td>\n",
       "      <td>0.474920</td>\n",
       "    </tr>\n",
       "    <tr>\n",
       "      <th>7</th>\n",
       "      <td>[Infant Mort, Crime, Doctors, Traf Deaths, Uni...</td>\n",
       "      <td>2.256105</td>\n",
       "      <td>0.463053</td>\n",
       "    </tr>\n",
       "    <tr>\n",
       "      <th>8</th>\n",
       "      <td>[White, Crime, Doctors, Traf Deaths, Universit...</td>\n",
       "      <td>2.269566</td>\n",
       "      <td>0.406098</td>\n",
       "    </tr>\n",
       "    <tr>\n",
       "      <th>3</th>\n",
       "      <td>[Infant Mort, White, Crime, Doctors, Traf Deat...</td>\n",
       "      <td>2.284952</td>\n",
       "      <td>0.429357</td>\n",
       "    </tr>\n",
       "    <tr>\n",
       "      <th>1</th>\n",
       "      <td>[Infant Mort, White, Crime, Doctors, Traf Deat...</td>\n",
       "      <td>2.297423</td>\n",
       "      <td>0.389524</td>\n",
       "    </tr>\n",
       "  </tbody>\n",
       "</table>\n",
       "<p>510 rows × 3 columns</p>\n",
       "</div>"
      ],
      "text/plain": [
       "                                                terms       OCV    OCVStd\n",
       "7                                            [Income]  1.331429  0.284844\n",
       "5                                        [University]  1.805923  0.292706\n",
       "4                                       [Traf Deaths]  1.825717  0.478274\n",
       "0                                       [Infant Mort]  2.131348  0.568356\n",
       "8                                        [Population]  2.529776  0.654598\n",
       "..                                                ...       ...       ...\n",
       "5   [Infant Mort, White, Crime, Traf Deaths, Unive...  2.255635  0.474920\n",
       "7   [Infant Mort, Crime, Doctors, Traf Deaths, Uni...  2.256105  0.463053\n",
       "8   [White, Crime, Doctors, Traf Deaths, Universit...  2.269566  0.406098\n",
       "3   [Infant Mort, White, Crime, Doctors, Traf Deat...  2.284952  0.429357\n",
       "1   [Infant Mort, White, Crime, Doctors, Traf Deat...  2.297423  0.389524\n",
       "\n",
       "[510 rows x 3 columns]"
      ]
     },
     "execution_count": 119,
     "metadata": {},
     "output_type": "execute_result"
    }
   ],
   "source": [
    "outer_scores"
   ]
  },
  {
   "cell_type": "code",
   "execution_count": null,
   "id": "7c395b68-a1f8-46ac-a06f-35acec2e8469",
   "metadata": {},
   "outputs": [],
   "source": []
  },
  {
   "cell_type": "code",
   "execution_count": null,
   "id": "0d9fb69a-5539-4c7c-b866-ce667b1677ae",
   "metadata": {},
   "outputs": [],
   "source": []
  },
  {
   "cell_type": "code",
   "execution_count": null,
   "id": "5420e3eb-69c3-48f9-9dbb-89edd414cfea",
   "metadata": {},
   "outputs": [],
   "source": []
  },
  {
   "cell_type": "code",
   "execution_count": 120,
   "id": "a89eafe2-1fbb-4a8a-a5e5-351ebc257659",
   "metadata": {},
   "outputs": [
    {
     "data": {
      "text/plain": [
       "[<matplotlib.lines.Line2D at 0x7fd8997308e0>]"
      ]
     },
     "execution_count": 120,
     "metadata": {},
     "output_type": "execute_result"
    },
    {
     "data": {
      "image/png": "[encoded data removed]",
      "text/plain": [
       "<Figure size 432x288 with 1 Axes>"
      ]
     },
     "metadata": {
      "needs_background": "light"
     },
     "output_type": "display_data"
    }
   ],
   "source": [
    "plt.plot(outer_scores['OCV'].reset_index()['OCV'])"
   ]
  },
  {
   "cell_type": "code",
   "execution_count": 121,
   "id": "47ac110e-e050-46f9-9aa3-c739f84abbf5",
   "metadata": {},
   "outputs": [
    {
     "data": {
      "text/plain": [
       "[<matplotlib.lines.Line2D at 0x7fd8992f0eb0>]"
      ]
     },
     "execution_count": 121,
     "metadata": {},
     "output_type": "execute_result"
    },
    {
     "data": {
      "image/png": "[encoded data removed]",
      "text/plain": [
       "<Figure size 432x288 with 1 Axes>"
      ]
     },
     "metadata": {
      "needs_background": "light"
     },
     "output_type": "display_data"
    }
   ],
   "source": [
    "plt.plot(outer_scores['OCVStd'].reset_index()['OCVStd'])"
   ]
  },
  {
   "cell_type": "code",
   "execution_count": 122,
   "id": "0bee1225-1777-4dc9-ba31-6d8f856e073d",
   "metadata": {},
   "outputs": [
    {
     "data": {
      "text/plain": [
       "['Income']"
      ]
     },
     "execution_count": 122,
     "metadata": {},
     "output_type": "execute_result"
    }
   ],
   "source": [
    "best_terms = outer_scores.iloc[np.argmin(outer_scores['OCV'])]['terms']\n",
    "best_terms"
   ]
  },
  {
   "cell_type": "code",
   "execution_count": null,
   "id": "bff2ff96-7ca6-440c-83aa-f08fcbb82c90",
   "metadata": {},
   "outputs": [],
   "source": []
  },
  {
   "cell_type": "code",
   "execution_count": 123,
   "id": "8467dc91-5256-47dd-8ecd-54410df64e3f",
   "metadata": {},
   "outputs": [],
   "source": [
    "min_scores = pd.DataFrame()\n",
    "for i in range(1,max(termlengths)):\n",
    "    min_scores = pd.concat([min_scores,pd.DataFrame(outer_scores.iloc[np.array([len(t) for t in outer_scores['terms']])==i].iloc[np.argmin(outer_scores.iloc[np.array([len(t) for t in outer_scores['terms']])==i]['OCV'])]).T],axis=0)"
   ]
  },
  {
   "cell_type": "code",
   "execution_count": 164,
   "id": "2bb4035a-e2de-46a8-86c5-5e102c82ee69",
   "metadata": {},
   "outputs": [],
   "source": [
    "minterms = []\n",
    "for i in min_scores.reset_index()['terms'].values:\n",
    "    minterms.append(i)"
   ]
  },
  {
   "cell_type": "code",
   "execution_count": 165,
   "id": "12443702-448f-498a-969f-ead360674269",
   "metadata": {},
   "outputs": [
    {
     "data": {
      "text/plain": [
       "[['Income'],\n",
       " ['University', 'Income'],\n",
       " ['Infant Mort', 'University', 'Income'],\n",
       " ['Infant Mort', 'Traf Deaths', 'University', 'Income'],\n",
       " ['Infant Mort', 'White', 'Crime', 'University', 'Income'],\n",
       " ['Infant Mort', 'White', 'Crime', 'University', 'Unemployed', 'Income'],\n",
       " ['Infant Mort',\n",
       "  'White',\n",
       "  'Crime',\n",
       "  'Doctors',\n",
       "  'University',\n",
       "  'Unemployed',\n",
       "  'Income'],\n",
       " ['Infant Mort',\n",
       "  'White',\n",
       "  'Crime',\n",
       "  'Doctors',\n",
       "  'Traf Deaths',\n",
       "  'University',\n",
       "  'Unemployed',\n",
       "  'Income']]"
      ]
     },
     "execution_count": 165,
     "metadata": {},
     "output_type": "execute_result"
    }
   ],
   "source": [
    "minterms"
   ]
  },
  {
   "cell_type": "code",
   "execution_count": 174,
   "id": "3ba90992-2d6b-4f6c-8365-a5bf2ac31f14",
   "metadata": {},
   "outputs": [
    {
     "data": {
      "image/png": "[encoded data removed]",
      "text/plain": [
       "<Figure size 432x288 with 1 Axes>"
      ]
     },
     "metadata": {
      "needs_background": "light"
     },
     "output_type": "display_data"
    }
   ],
   "source": [
    "#lt.plot(min_scores.reset_index()['OCV'])\n",
    "ax= plt.subplot()\n",
    "#plt.plot(np.array(minterms), min_scores.reset_index()['OCV'])\n",
    "plt.plot(min_scores.reset_index()['OCV'])\n",
    "plt.xticks(range(0,len(min_scores)),minterms, rotation=45)\n",
    "# Function to avoid overlapping\n",
    "\n",
    "#plt.setp(ax.get_xticklabels(), rotation=30, ha='right')\n",
    "\n",
    "# Display Chart\n",
    "\n",
    "plt.show()\n"
   ]
  },
  {
   "cell_type": "code",
   "execution_count": 125,
   "id": "5655f5a7-234c-44a2-a72d-76d2c4fc83e8",
   "metadata": {},
   "outputs": [],
   "source": [
    "zca = ZCA()\n",
    "#zca.fit(X[best_terms])\n",
    "final_gam = LinearGAM().fit(zca.fit_transform(X[best_terms]),y)"
   ]
  },
  {
   "cell_type": "code",
   "execution_count": null,
   "id": "9d5a1b01-d621-4b49-bd39-b30d8924325c",
   "metadata": {},
   "outputs": [],
   "source": []
  },
  {
   "cell_type": "code",
   "execution_count": null,
   "id": "8b794f6d-c052-4e18-9778-0d52bfc95787",
   "metadata": {},
   "outputs": [],
   "source": []
  },
  {
   "cell_type": "code",
   "execution_count": 126,
   "id": "665fc06e-a7e4-486f-83c4-7792dacfabf8",
   "metadata": {},
   "outputs": [
    {
     "data": {
      "text/plain": [
       "{'n_samples': 50,\n",
       " 'm_features': 1,\n",
       " 'edof_per_coef': array([8.17818277e-01, 2.35044066e-01, 2.69002686e-01, 5.52321999e-01,\n",
       "        3.37941714e-01, 5.42949551e-01, 4.89487050e-01, 5.90511095e-01,\n",
       "        4.49035469e-01, 2.30135450e-01, 6.74121155e-01, 4.39241231e-01,\n",
       "        2.25092319e-01, 4.59224498e-01, 3.84804845e-01, 3.30181379e-01,\n",
       "        4.88178774e-01, 4.28807304e-01, 6.25072436e-01, 1.75458329e-03,\n",
       "        2.87106720e-24]),\n",
       " 'edof': 8.5707258798464,\n",
       " 'scale': 2.131342151550498,\n",
       " 'cov': array([[ 2.11849338e+00,  1.03906336e+00,  8.27256391e-02,\n",
       "         -3.80522364e-01, -3.13485336e-01, -1.33466333e-01,\n",
       "         -8.55982531e-02, -1.17010121e-01, -1.41438776e-01,\n",
       "         -1.45268527e-01, -1.39044035e-01, -1.40464007e-01,\n",
       "         -1.59474912e-01, -1.82188602e-01, -1.89712687e-01,\n",
       "         -1.79110384e-01, -1.64169323e-01, -1.73622036e-01,\n",
       "         -2.18250331e-01, -2.69832741e-01,  1.07623681e-01],\n",
       "        [ 1.03906336e+00,  6.41582537e-01,  2.60031559e-01,\n",
       "         -2.04374179e-02, -1.24786899e-01, -1.06969532e-01,\n",
       "         -7.46938156e-02, -7.11939064e-02, -8.31721706e-02,\n",
       "         -9.00775858e-02, -8.76660233e-02, -9.06348373e-02,\n",
       "         -1.09558082e-01, -1.31925796e-01, -1.39283378e-01,\n",
       "         -1.28678191e-01, -1.13772127e-01, -1.23245272e-01,\n",
       "         -1.67877207e-01, -2.19460360e-01,  5.72448882e-02],\n",
       "        [ 8.27256391e-02,  2.60031559e-01,  3.82042177e-01,\n",
       "          3.02204036e-01,  6.37623094e-02, -7.40877093e-02,\n",
       "         -6.52093416e-02, -3.01407385e-02, -2.90754315e-02,\n",
       "         -3.83804152e-02, -3.96760890e-02, -4.43015635e-02,\n",
       "         -6.31938045e-02, -8.52142584e-02, -9.23904664e-02,\n",
       "         -8.17719154e-02, -6.68976679e-02, -7.63919690e-02,\n",
       "         -1.21029015e-01, -1.72614427e-01,  1.03909067e-02],\n",
       "        [-3.80522364e-01, -2.04374179e-02,  3.02204036e-01,\n",
       "          4.15848543e-01,  2.27640510e-01,  5.24238355e-03,\n",
       "         -4.64612699e-02, -9.47989498e-03,  4.18553519e-03,\n",
       "         -2.37064703e-03, -5.49009349e-03, -1.19692304e-02,\n",
       "         -3.12375931e-02, -5.30184774e-02, -5.99677436e-02,\n",
       "         -4.92642287e-02, -3.43877053e-02, -4.39012884e-02,\n",
       "         -8.85525879e-02, -1.40150722e-01, -2.20902656e-02],\n",
       "        [-3.13485336e-01, -1.24786899e-01,  6.37623094e-02,\n",
       "          2.27640510e-01,  2.89269690e-01,  1.61919596e-01,\n",
       "          2.05156984e-02, -1.02680021e-02,  3.41713186e-03,\n",
       "          9.82976734e-03,  1.12647060e-02,  4.10329133e-03,\n",
       "         -1.62659187e-02, -3.83094807e-02, -4.51157364e-02,\n",
       "         -3.42120537e-02, -1.92436098e-02, -2.87540298e-02,\n",
       "         -7.34314788e-02, -1.25059199e-01, -3.72090482e-02],\n",
       "        [-1.33466333e-01, -1.06969532e-01, -7.40877093e-02,\n",
       "          5.24238355e-03,  1.61919596e-01,  2.72332053e-01,\n",
       "          1.67218553e-01,  1.70035534e-02, -2.34063009e-02,\n",
       "         -7.61946487e-03,  1.03247283e-02,  1.10208253e-02,\n",
       "         -9.33848075e-03, -3.30080406e-02, -4.07101908e-02,\n",
       "         -2.99044992e-02, -1.47967061e-02, -2.42037283e-02,\n",
       "         -6.88507404e-02, -1.20461328e-01, -4.17613736e-02],\n",
       "        [-8.55982531e-02, -7.46938156e-02, -6.52093416e-02,\n",
       "         -4.64612699e-02,  2.05156984e-02,  1.67218553e-01,\n",
       "          2.55677681e-01,  1.39555239e-01, -5.00232127e-03,\n",
       "         -3.88033253e-02, -1.03999451e-02,  1.22895349e-02,\n",
       "         -7.70864547e-04, -2.63753481e-02, -3.71457045e-02,\n",
       "         -2.79961903e-02, -1.32247221e-02, -2.24103446e-02,\n",
       "         -6.67917061e-02, -1.18142383e-01, -4.37688402e-02],\n",
       "        [-1.17010121e-01, -7.11939064e-02, -3.01407385e-02,\n",
       "         -9.47989498e-03, -1.02680021e-02,  1.70035534e-02,\n",
       "          1.39555239e-01,  2.35098382e-01,  1.37455907e-01,\n",
       "          9.99243754e-03, -1.77882003e-02, -1.96664676e-03,\n",
       "         -5.14144578e-03, -2.53967184e-02, -3.59846331e-02,\n",
       "         -2.86746260e-02, -1.50955817e-02, -2.45063177e-02,\n",
       "         -6.86737432e-02, -1.19749674e-01, -4.19647324e-02],\n",
       "        [-1.41438776e-01, -8.31721706e-02, -2.90754315e-02,\n",
       "          4.18553519e-03,  3.41713186e-03, -2.34063009e-02,\n",
       "         -5.00232127e-03,  1.37455907e-01,  2.72624764e-01,\n",
       "          2.23790328e-01,  8.25652821e-02, -1.88466255e-02,\n",
       "         -5.27321098e-02, -5.80202739e-02, -5.10519715e-02,\n",
       "         -3.54381107e-02, -2.07482143e-02, -3.16737579e-02,\n",
       "         -7.73256995e-02, -1.29811862e-01, -3.37046692e-02],\n",
       "        [-1.45268527e-01, -9.00775858e-02, -3.83804152e-02,\n",
       "         -2.37064703e-03,  9.82976734e-03, -7.61946487e-03,\n",
       "         -3.88033253e-02,  9.99243754e-03,  2.23790328e-01,\n",
       "          3.80075352e-01,  2.63089916e-01,  3.49678699e-02,\n",
       "         -9.96226973e-02, -1.17905939e-01, -8.68553825e-02,\n",
       "         -4.64876338e-02, -2.17795631e-02, -3.32699168e-02,\n",
       "         -8.26072422e-02, -1.39114790e-01, -2.84174568e-02],\n",
       "        [-1.39044035e-01, -8.76660233e-02, -3.96760890e-02,\n",
       "         -5.49009349e-03,  1.12647060e-02,  1.03247283e-02,\n",
       "         -1.03999451e-02, -1.77882003e-02,  8.25652821e-02,\n",
       "          2.63089916e-01,  3.32680489e-01,  1.72927856e-01,\n",
       "         -3.78610758e-02, -1.25638662e-01, -1.12981185e-01,\n",
       "         -6.03687084e-02, -2.25928380e-02, -2.90289837e-02,\n",
       "         -7.86535274e-02, -1.36292158e-01, -3.06285520e-02],\n",
       "        [-1.40464007e-01, -9.06348373e-02, -4.43015635e-02,\n",
       "         -1.19692304e-02,  4.10329133e-03,  1.10208253e-02,\n",
       "          1.22895349e-02, -1.96664676e-03, -1.88466255e-02,\n",
       "          3.49678699e-02,  1.72927856e-01,  2.64358673e-01,\n",
       "          1.86267522e-01,  2.65642677e-02, -6.55258803e-02,\n",
       "         -7.44552962e-02, -4.77189445e-02, -4.23130611e-02,\n",
       "         -7.84801428e-02, -1.22962447e-01, -2.71388443e-02],\n",
       "        [-1.59474912e-01, -1.09558082e-01, -6.31938045e-02,\n",
       "         -3.12375931e-02, -1.62659187e-02, -9.33848075e-03,\n",
       "         -7.70864547e-04, -5.14144578e-03, -5.27321098e-02,\n",
       "         -9.96226973e-02, -3.78610758e-02,  1.86267522e-01,\n",
       "          3.66044672e-01,  3.18442813e-01,  1.31861792e-01,\n",
       "         -3.10361742e-02, -8.55532430e-02, -8.77735177e-02,\n",
       "         -1.01523025e-01, -1.19599679e-01, -8.06582407e-03],\n",
       "        [-1.82188602e-01, -1.31925796e-01, -8.52142584e-02,\n",
       "         -5.30184774e-02, -3.83094807e-02, -3.30080406e-02,\n",
       "         -2.63753481e-02, -2.53967184e-02, -5.80202739e-02,\n",
       "         -1.17905939e-01, -1.25638662e-01,  2.65642677e-02,\n",
       "          3.18442813e-01,  5.11700934e-01,  3.97173570e-01,\n",
       "          1.40821473e-01, -4.34829697e-02, -1.21490335e-01,\n",
       "         -1.55157231e-01, -1.83318864e-01,  1.42520416e-02],\n",
       "        [-1.89712687e-01, -1.39283378e-01, -9.23904664e-02,\n",
       "         -5.99677436e-02, -4.51157364e-02, -4.07101908e-02,\n",
       "         -3.71457045e-02, -3.59846331e-02, -5.10519715e-02,\n",
       "         -8.68553825e-02, -1.12981185e-01, -6.55258803e-02,\n",
       "          1.31861792e-01,  3.97173570e-01,  5.30250856e-01,\n",
       "          4.24503882e-01,  1.62040846e-01, -7.27959743e-02,\n",
       "         -2.27613593e-01, -3.67150460e-01,  2.15459143e-02],\n",
       "        [-1.79110384e-01, -1.28678191e-01, -8.17719154e-02,\n",
       "         -4.92642287e-02, -3.42120537e-02, -2.99044992e-02,\n",
       "         -2.79961903e-02, -2.86746260e-02, -3.54381107e-02,\n",
       "         -4.64876338e-02, -6.03687084e-02, -7.44552962e-02,\n",
       "         -3.10361742e-02,  1.40821473e-01,  4.24503882e-01,\n",
       "          5.81690405e-01,  4.35013046e-01,  9.86769008e-02,\n",
       "         -2.55350982e-01, -6.07045229e-01,  1.09114323e-02],\n",
       "        [-1.64169323e-01, -1.13772127e-01, -6.68976679e-02,\n",
       "         -3.43877053e-02, -1.92436098e-02, -1.47967061e-02,\n",
       "         -1.32247221e-02, -1.50955817e-02, -2.07482143e-02,\n",
       "         -2.17795631e-02, -2.25928380e-02, -4.77189445e-02,\n",
       "         -8.55532430e-02, -4.34829697e-02,  1.62040846e-01,\n",
       "          4.35013046e-01,  5.51868624e-01,  3.31583611e-01,\n",
       "         -1.42530903e-01, -6.58510686e-01, -3.99871825e-03],\n",
       "        [-1.73622036e-01, -1.23245272e-01, -7.63919690e-02,\n",
       "         -4.39012884e-02, -2.87540298e-02, -2.42037283e-02,\n",
       "         -2.24103446e-02, -2.45063177e-02, -3.16737579e-02,\n",
       "         -3.32699168e-02, -2.90289837e-02, -4.23130611e-02,\n",
       "         -8.77735177e-02, -1.21490335e-01, -7.27959743e-02,\n",
       "          9.86769008e-02,  3.31583611e-01,  4.00846348e-01,\n",
       "          1.89126152e-01, -7.93733726e-02,  5.47908843e-03],\n",
       "        [-2.18250331e-01, -1.67877207e-01, -1.21029015e-01,\n",
       "         -8.85525879e-02, -7.34314788e-02, -6.88507404e-02,\n",
       "         -6.67917061e-02, -6.86737432e-02, -7.73256995e-02,\n",
       "         -8.26072422e-02, -7.86535274e-02, -7.84801428e-02,\n",
       "         -1.01523025e-01, -1.55157231e-01, -2.27613593e-01,\n",
       "         -2.55350982e-01, -1.42530903e-01,  1.89126152e-01,\n",
       "          6.97434673e-01,  1.23625377e+00,  5.01154705e-02],\n",
       "        [-2.69832741e-01, -2.19460360e-01, -1.72614427e-01,\n",
       "         -1.40150722e-01, -1.25059199e-01, -1.20461328e-01,\n",
       "         -1.18142383e-01, -1.19749674e-01, -1.29811862e-01,\n",
       "         -1.39114790e-01, -1.36292158e-01, -1.22962447e-01,\n",
       "         -1.19599679e-01, -1.83318864e-01, -3.67150460e-01,\n",
       "         -6.07045229e-01, -6.58510686e-01, -7.93733726e-02,\n",
       "          1.23625377e+00,  2.69409933e+00,  1.01702807e-01],\n",
       "        [ 1.07623681e-01,  5.72448882e-02,  1.03909067e-02,\n",
       "         -2.20902656e-02, -3.72090482e-02, -4.17613736e-02,\n",
       "         -4.37688402e-02, -4.19647324e-02, -3.37046692e-02,\n",
       "         -2.84174568e-02, -3.06285520e-02, -2.71388443e-02,\n",
       "         -8.06582407e-03,  1.42520416e-02,  2.15459143e-02,\n",
       "          1.09114323e-02, -3.99871825e-03,  5.47908843e-03,\n",
       "          5.01154705e-02,  1.01702807e-01,  6.05179096e-02]]),\n",
       " 'se': array([1.45550451, 0.80098847, 0.6180956 , 0.6448632 , 0.53783798,\n",
       "        0.52185444, 0.50564581, 0.48486945, 0.52213481, 0.61650252,\n",
       "        0.57678461, 0.51415822, 0.60501626, 0.71533274, 0.72818326,\n",
       "        0.76268631, 0.74287861, 0.63312428, 0.83512554, 1.64137117,\n",
       "        0.24600388]),\n",
       " 'AIC': 206.148610146613,\n",
       " 'AICc': 211.28030592364973,\n",
       " 'pseudo_r2': OrderedDict([('explained_deviance', 0.7913757623402038),\n",
       "              ('McFadden', 0.7172117795373526),\n",
       "              ('McFadden_adj', 0.21704714816109194)]),\n",
       " 'GCV': 3.0573194766892304,\n",
       " 'UBRE': None,\n",
       " 'loglikelihood': -93.5035791934601,\n",
       " 'deviance': 41.4292741201536,\n",
       " 'p_values': [2.1923547421920375e-09, 1.1102230246251565e-16]}"
      ]
     },
     "execution_count": 126,
     "metadata": {},
     "output_type": "execute_result"
    }
   ],
   "source": [
    "final_gam.statistics_"
   ]
  },
  {
   "cell_type": "code",
   "execution_count": 127,
   "id": "f3f8d45c-621f-43e9-8b82-0197774d2d70",
   "metadata": {},
   "outputs": [
    {
     "data": {
      "text/plain": [
       "array([ 8.30238742,  6.92406032,  5.79344852,  4.98253528,  3.81146336,\n",
       "        1.93879594,  1.08139811,  1.08082771,  0.44375646, -0.78254811,\n",
       "       -0.7186911 , -0.85135375, -0.89133961, -0.98097632, -1.99895074,\n",
       "       -2.70056134, -2.88305093, -3.13533251, -3.51992829, -3.9441272 ,\n",
       "       11.95181347])"
      ]
     },
     "execution_count": 127,
     "metadata": {},
     "output_type": "execute_result"
    }
   ],
   "source": [
    "final_gam.coef_"
   ]
  },
  {
   "cell_type": "code",
   "execution_count": 128,
   "id": "4ca91abe-9447-456f-8a1c-729acf579a9a",
   "metadata": {},
   "outputs": [
    {
     "name": "stdout",
     "output_type": "stream",
     "text": [
      "LinearGAM                                                                                                 \n",
      "=============================================== ==========================================================\n",
      "Distribution:                        NormalDist Effective DoF:                                      8.5707\n",
      "Link Function:                     IdentityLink Log Likelihood:                                   -93.5036\n",
      "Number of Samples:                           50 AIC:                                              206.1486\n",
      "                                                AICc:                                             211.2803\n",
      "                                                GCV:                                                3.0573\n",
      "                                                Scale:                                              2.1313\n",
      "                                                Pseudo R-Squared:                                   0.7914\n",
      "==========================================================================================================\n",
      "Feature Function                  Lambda               Rank         EDoF         P > x        Sig. Code   \n",
      "================================= ==================== ============ ============ ============ ============\n",
      "s(0)                              [0.6]                20           8.6          2.19e-09     ***         \n",
      "intercept                                              1            0.0          1.11e-16     ***         \n",
      "==========================================================================================================\n",
      "Significance codes:  0 '***' 0.001 '**' 0.01 '*' 0.05 '.' 0.1 ' ' 1\n",
      "\n",
      "WARNING: Fitting splines and a linear function to a feature introduces a model identifiability problem\n",
      "         which can cause p-values to appear significant when they are not.\n",
      "\n",
      "WARNING: p-values calculated in this manner behave correctly for un-penalized models or models with\n",
      "         known smoothing parameters, but when smoothing parameters have been estimated, the p-values\n",
      "         are typically lower than they should be, meaning that the tests reject the null too readily.\n"
     ]
    }
   ],
   "source": [
    "final_gam.summary()"
   ]
  },
  {
   "cell_type": "code",
   "execution_count": 129,
   "id": "494cdff0-3082-46cc-ae47-3ed1152129b8",
   "metadata": {},
   "outputs": [
    {
     "data": {
      "text/plain": [
       "1.0781345203274741"
      ]
     },
     "execution_count": 129,
     "metadata": {},
     "output_type": "execute_result"
    }
   ],
   "source": [
    "np.mean(np.abs(final_gam.predict(zca.transform(X[best_terms]))-y.values.ravel()))"
   ]
  },
  {
   "cell_type": "code",
   "execution_count": null,
   "id": "e5b998ef-e9c1-43fe-a379-cf790c25a780",
   "metadata": {},
   "outputs": [],
   "source": []
  },
  {
   "cell_type": "code",
   "execution_count": 130,
   "id": "f536e1e2-0127-4d6d-b36c-e8e099353033",
   "metadata": {},
   "outputs": [],
   "source": [
    "prediction_interval = pd.DataFrame(final_gam.prediction_intervals(zca.transform(X[best_terms])),columns=['lower','upper'])\n",
    "yhat = pd.DataFrame(final_gam.predict(zca.transform(X[best_terms])),columns=['center'])\n",
    "prediction_set = pd.concat([prediction_interval['lower'],yhat,prediction_interval['upper']],axis=1)\n",
    "prediction_set.index = y.index\n",
    "prediction_set.sort_values(kind=\"quicksort\", ascending=True,by='center',inplace=True)\n",
    "#plt.plot()\n",
    "#plt.plot(prediction_interval['upper'])\n",
    "#plt.show()"
   ]
  },
  {
   "cell_type": "code",
   "execution_count": 131,
   "id": "95cb1a21-63fb-43a1-894a-2ebbb5ce745d",
   "metadata": {},
   "outputs": [
    {
     "data": {
      "image/png": "[encoded data removed]",
      "text/plain": [
       "<Figure size 432x288 with 1 Axes>"
      ]
     },
     "metadata": {
      "needs_background": "light"
     },
     "output_type": "display_data"
    }
   ],
   "source": [
    "plt.plot(prediction_set['lower'])\n",
    "plt.plot(prediction_set['center'])\n",
    "plt.plot(prediction_set['upper'])\n",
    "plt.xticks(rotation = 45)\n",
    "plt.show()"
   ]
  },
  {
   "cell_type": "code",
   "execution_count": 132,
   "id": "cb6981d2-b231-4eed-b66b-9541c3bbc51c",
   "metadata": {},
   "outputs": [
    {
     "data": {
      "image/png": "[encoded data removed]",
      "text/plain": [
       "<Figure size 432x288 with 1 Axes>"
      ]
     },
     "metadata": {
      "needs_background": "light"
     },
     "output_type": "display_data"
    }
   ],
   "source": [
    "if len(best_terms)>1:\n",
    "    plt.figure();\n",
    "    fig, axs = plt.subplots(1,len(best_terms));\n",
    "\n",
    "    titles = best_terms\n",
    "    for i, ax in enumerate(axs):\n",
    "        XX = final_gam.generate_X_grid(term=i)\n",
    "        ax.plot(XX[:, i], final_gam.partial_dependence(term=i, X=XX))\n",
    "        ax.plot(XX[:, i], final_gam.partial_dependence(term=i, X=XX, width=.95)[1], c='r', ls='--')\n",
    "        ax.set_title(titles[i]);\n",
    "else:\n",
    "    XX = final_gam.generate_X_grid(term=0)\n",
    "    \n",
    "    fig, axs = plt.subplots(1,len(best_terms));\n",
    "\n",
    "    titles = best_terms\n",
    "\n",
    "    axs.plot(XX[:, 0], final_gam.partial_dependence(term=0, X=XX))\n",
    "    axs.plot(XX[:, 0], final_gam.partial_dependence(term=0, X=XX, width=.95)[1], c='r', ls='--')\n",
    "    axs.set_title(best_terms[0]);"
   ]
  }
 ],
 "metadata": {
  "kernelspec": {
   "display_name": "Python 3 (ipykernel)",
   "language": "python",
   "name": "python3"
  },
  "language_info": {
   "codemirror_mode": {
    "name": "ipython",
    "version": 3
   },
   "file_extension": ".py",
   "mimetype": "text/x-python",
   "name": "python",
   "nbconvert_exporter": "python",
   "pygments_lexer": "ipython3",
   "version": "3.9.9"
  }
 },
 "nbformat": 4,
 "nbformat_minor": 5
}
