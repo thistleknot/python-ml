{
 "cells": [
  {
   "cell_type": "code",
   "execution_count": null,
   "id": "93784aae-6ba6-462a-917c-5224bd302f17",
   "metadata": {},
   "outputs": [],
   "source": []
  },
  {
   "cell_type": "code",
   "execution_count": null,
   "id": "8cb3b5cc-79a7-45cf-bd43-0c660b88b139",
   "metadata": {},
   "outputs": [],
   "source": []
  },
  {
   "cell_type": "code",
   "execution_count": 3,
   "id": "94a6adb5-1eb6-495d-b8c7-6a1df3bbb8c4",
   "metadata": {},
   "outputs": [
    {
     "name": "stderr",
     "output_type": "stream",
     "text": [
      "Found cached dataset newsgroup (C:/Users/User/.cache/huggingface/datasets/newsgroup/18828_sci.med/3.0.0/8ea0c9dc025ecfbfd96a2c1e22caa1e1281f361946dac08205448d66f78398f5)\n"
     ]
    },
    {
     "data": {
      "application/vnd.jupyter.widget-view+json": {
       "model_id": "8a8f3ba204214b0486e1b67b2f8e6ae8",
       "version_major": 2,
       "version_minor": 0
      },
      "text/plain": [
       "  0%|          | 0/1 [00:00<?, ?it/s]"
      ]
     },
     "metadata": {},
     "output_type": "display_data"
    },
    {
     "name": "stderr",
     "output_type": "stream",
     "text": [
      "100%|██████████████████████████████████████████████████████████████████████████████████| 10/10 [01:08<00:00,  6.83s/it]"
     ]
    },
    {
     "name": "stdout",
     "output_type": "stream",
     "text": [
      "Document 370: similarity=0.6450185179710388\n",
      "Document 328: similarity=0.6336482167243958\n",
      "Document 29: similarity=0.6287679076194763\n",
      "Document 522: similarity=0.6277146935462952\n",
      "Document 687: similarity=0.6246711611747742\n",
      "Document 877: similarity=0.6216592788696289\n",
      "Document 677: similarity=0.6158846616744995\n",
      "Document 792: similarity=0.614966630935669\n",
      "Document 593: similarity=0.613290011882782\n",
      "Document 604: similarity=0.6129668951034546\n"
     ]
    },
    {
     "name": "stderr",
     "output_type": "stream",
     "text": [
      "\n",
      "C:\\Users\\User\\AppData\\Local\\Temp\\ipykernel_16024\\1816783665.py:46: DeprecationWarning: Call to deprecated `docvecs` (The `docvecs` property has been renamed `dv`.).\n",
      "  sims = d2v_model.docvecs.most_similar(positive=[d2v_model.infer_vector(tokenizer(query))])\n"
     ]
    }
   ],
   "source": [
    "\n",
    "import numpy as np\n",
    "from gensim.models.doc2vec import Doc2Vec, TaggedDocument\n",
    "from gensim.models import KeyedVectors\n",
    "import gensim\n",
    "from datasets import load_dataset\n",
    "from tqdm import tqdm\n",
    "\n",
    "tokenizer = gensim.utils.simple_preprocess\n",
    "\n",
    "\n",
    "#dataset = load_dataset(\"wikitext\", \"wikitext-2-raw-v1\", split=\"train\")\n",
    "#dataset = load_dataset(\"conceptofmind/wikitext-103-v1-clean\")\n",
    "\n",
    "dataset = load_dataset(\"newsgroup\",'18828_sci.med')\n",
    "\n",
    "# Tokenize the text\n",
    "docs = [tokenizer(doc['text']) for doc in dataset['train']]\n",
    "\n",
    "# Create a list of TaggedDocument objects\n",
    "#tagged_docs = [TaggedDocument(doc, [i+len(docs)]) for i, doc in enumerate(docs)]\n",
    "tagged_docs = [TaggedDocument(doc, [i]) for i, doc in enumerate(docs)]\n",
    "\n",
    "# Load pre-trained Word2Vec model\n",
    "#https://github.com/3Top/word2vec-api#where-to-get-a-pretrained-models\n",
    "# Initialize Doc2Vec model with pre-trained Word2Vec embeddings\n",
    "w2v_model = KeyedVectors.load_word2vec_format('H:\\\\GoogleNews-vectors-negative300.bin\\\\GoogleNews-vectors-negative300.bin', binary=True)\n",
    "if(False):\n",
    "    w2v_file_prefix = 'h:\\\\structured_linear_cbow_50d\\\\words50'  # prefix of file names\n",
    "    w2v_model = KeyedVectors.load_word2vec_format(w2v_file_prefix + '.vocab', binary=False)\n",
    "    w2v_model.vectors = np.load(w2v_file_prefix + '.npy')\n",
    "\n",
    "d2v_model = Doc2Vec(vector_size=300, min_count=1, dm=1)\n",
    "d2v_model.build_vocab(tagged_docs)\n",
    "#https://stackoverflow.com/questions/67707418/index-out-of-bounds-error-with-gensim-4-0-1-word2vec-model\n",
    "d2v_model.wv.vectors_lockf = np.ones(len(d2v_model.wv))\n",
    "d2v_model.wv.intersect_word2vec_format('H:\\\\GoogleNews-vectors-negative300.bin\\\\GoogleNews-vectors-negative300.bin', binary=True, lockf=1.0)\n",
    "#d2v_model.wv.intersect_word2vec_format(w2v_model, binary=False, lockf=1.0)\n",
    "\n",
    "# Train Doc2Vec\n",
    "#model on new data\n",
    "for epoch in tqdm(range(d2v_model.epochs)):\n",
    "    d2v_model.train(tagged_docs, total_examples=d2v_model.corpus_count, epochs=20)\n",
    "\n",
    "# Find the most similar documents to a query\n",
    "query = \"artificial intelligence\"\n",
    "sims = d2v_model.docvecs.most_similar(positive=[d2v_model.infer_vector(tokenizer(query))])\n",
    "\n",
    "\n",
    "# Print the results\n",
    "for i, sim in sims:\n",
    "    print(f\"Document {i}: similarity={sim}\")\n",
    "    print(docs[i])\n",
    "    "
   ]
  },
  {
   "cell_type": "code",
   "execution_count": 4,
   "id": "715c58be-a8e3-439a-92c5-34aadf9ea309",
   "metadata": {},
   "outputs": [
    {
     "name": "stdout",
     "output_type": "stream",
     "text": [
      "Document 370: similarity=0.6450185179710388\n",
      "['from', 'matthews', 'oswego', 'edu', 'harry', 'matthews', 'subject', 're', 'need', 'info', 'on', 'circumcision', 'medical', 'cons', 'and', 'pros', 'bullshit']\n",
      "Document 328: similarity=0.6336482167243958\n",
      "['from', 'wsun', 'jeeves', 'ucsd', 'edu', 'fiberman', 'subject', 'erythromycin', 'is', 'erythromycin', 'effective', 'in', 'treating', 'pneumonia', 'fm']\n",
      "Document 29: similarity=0.6287679076194763\n",
      "['from', 'stephen', 'mont', 'cs', 'missouri', 'edu', 'stephen', 'montgomery', 'smith', 'subject', 'earwax', 'what', 'is', 'the', 'healthiest', 'way', 'to', 'deal', 'with', 'earwax', 'should', 'one', 'just', 'leave', 'it', 'in', 'your', 'ear', 'and', 'not', 'mess', 'with', 'it', 'or', 'should', 'you', 'clean', 'it', 'out', 'every', 'so', 'often', 'can', 'cleaning', 'it', 'out', 'damage', 'your', 'eardrums', 'are', 'there', 'any', 'tubes', 'in', 'your', 'ear', 'that', 'might', 'get', 'blocked', 'stephen']\n",
      "Document 522: similarity=0.6277146935462952\n",
      "['from', 'pk', 'wvnvms', 'wvnet', 'edu', 'subject', 'help', 'for', 'kidney', 'stones', 'my', 'girlfriend', 'is', 'in', 'pain', 'from', 'kidney', 'stones', 'she', 'says', 'that', 'because', 'she', 'has', 'no', 'medical', 'insurance', 'she', 'cannot', 'get', 'them', 'removed', 'my', 'question', 'is', 'there', 'any', 'way', 'she', 'can', 'treat', 'them', 'herself', 'or', 'at', 'least', 'mitigate', 'their', 'effects', 'any', 'help', 'is', 'deeply', 'appreciated', 'advice', 'referral', 'to', 'literature', 'etc', 'thank', 'you', 'dave', 'carvell', 'pk', 'wvnvms', 'wvnet', 'edu']\n",
      "Document 687: similarity=0.6246711611747742\n",
      "['from', 'help', 'dcs', 'dc', 'len', 'ramirez', 'subject', 're', 'krillean', 'photography', 'very', 'good']\n",
      "Document 877: similarity=0.6216592788696289\n",
      "['from', 'mmm', 'cup', 'portal', 'com', 'mark', 'robert', 'thorson', 'subject', 're', 'we', 'can', 'supply', 'you', 'with', 'the', 'transplantants', 'other', 'harvested', 'to', 'order']\n",
      "Document 677: similarity=0.6158846616744995\n",
      "['from', 'rick', 'ysub', 'ysu', 'edu', 'rick', 'marsico', 'subject', 'proventil', 'inhaler', 'does', 'the', 'proventil', 'inhaler', 'for', 'asthma', 'relief', 'fall', 'into', 'the', 'steroid', 'or', 'nonsteroid', 'category', 'looking', 'at', 'the', 'product', 'literature', 'it', 'not', 'clear', 'rick', 'ysu', 'edu']\n",
      "Document 792: similarity=0.614966630935669\n",
      "['from', 'mmatusev', 'radford', 'vak', 'ed', 'edu', 'melissa', 'matusevich', 'subject', 'foreskin', 'troubles', 'what', 'can', 'be', 'done', 'short', 'of', 'circumcision', 'for', 'an', 'adult', 'male', 'whose', 'foreskin', 'will', 'not', 'retract']\n",
      "Document 593: similarity=0.613290011882782\n",
      "['from', 'lawrence', 'curcio', 'lc', 'andrew', 'cmu', 'edu', 'subject', 'analgesics', 'with', 'diuretics', 'sometimes', 'see', 'otc', 'preparations', 'for', 'muscle', 'aches', 'back', 'aches', 'that', 'combine', 'aspirin', 'with', 'diuretic', 'the', 'idea', 'seems', 'to', 'be', 'to', 'reduce', 'inflammation', 'by', 'getting', 'rid', 'of', 'fluid', 'does', 'this', 'actually', 'work', 'thanks', 'larry']\n",
      "Document 604: similarity=0.6129668951034546\n",
      "['from', 'rousseaua', 'immunex', 'com', 'subject', 're', 'lactose', 'intolerance', 'in', 'article', 'ng', 'husc', 'harvard', 'edu', 'ng', 'husc', 'harvard', 'edu', 'ho', 'leung', 'ng', 'writes', 'when', 'was', 'kid', 'in', 'primary', 'school', 'used', 'to', 'drink', 'tons', 'of', 'milk', 'without', 'any', 'problems', 'however', 'nowadays', 'can', 'hardly', 'drink', 'any', 'at', 'all', 'without', 'experiencing', 'some', 'discomfort', 'what', 'could', 'be', 'responsible', 'for', 'the', 'change', 'ho', 'leung', 'ng', 'ng', 'husc', 'harvard', 'edu']\n"
     ]
    }
   ],
   "source": []
  },
  {
   "cell_type": "code",
   "execution_count": null,
   "id": "58b3505f-0f83-4709-a0dd-c203a48dc62e",
   "metadata": {},
   "outputs": [],
   "source": []
  },
  {
   "cell_type": "code",
   "execution_count": null,
   "id": "3086314e-9d9f-40c3-8928-ae55efe4f30e",
   "metadata": {},
   "outputs": [],
   "source": []
  },
  {
   "cell_type": "code",
   "execution_count": null,
   "id": "a29e529c-93c3-4014-9141-2342c130daef",
   "metadata": {},
   "outputs": [],
   "source": []
  },
  {
   "cell_type": "code",
   "execution_count": null,
   "id": "3c45926e-2880-476a-94bd-3f20af629f62",
   "metadata": {},
   "outputs": [],
   "source": []
  },
  {
   "cell_type": "code",
   "execution_count": null,
   "id": "09f3db27-0744-4e48-becd-431a261f842a",
   "metadata": {},
   "outputs": [],
   "source": []
  },
  {
   "cell_type": "code",
   "execution_count": null,
   "id": "861bb63b-3cb5-4146-a9b4-798753ac6520",
   "metadata": {},
   "outputs": [],
   "source": []
  },
  {
   "cell_type": "code",
   "execution_count": null,
   "id": "074be13a-6420-4cfd-8c53-935843c03a7d",
   "metadata": {},
   "outputs": [],
   "source": []
  },
  {
   "cell_type": "code",
   "execution_count": null,
   "id": "a111a55f-16bb-480e-9ef9-f78f5e3d43eb",
   "metadata": {},
   "outputs": [],
   "source": []
  },
  {
   "cell_type": "code",
   "execution_count": null,
   "id": "ce31ad5e-6f05-4300-9925-003fc355e5c8",
   "metadata": {},
   "outputs": [],
   "source": []
  },
  {
   "cell_type": "code",
   "execution_count": null,
   "id": "782953ec-e473-4ae7-9583-e8461f3018dc",
   "metadata": {},
   "outputs": [],
   "source": []
  },
  {
   "cell_type": "code",
   "execution_count": null,
   "id": "ecb88133-121c-435a-8749-7f3cd1b2c8d2",
   "metadata": {},
   "outputs": [],
   "source": []
  },
  {
   "cell_type": "code",
   "execution_count": null,
   "id": "e8596ecb-8fcc-4ed9-bc17-e0a5fdfa8101",
   "metadata": {},
   "outputs": [],
   "source": []
  },
  {
   "cell_type": "code",
   "execution_count": null,
   "id": "bde9e377-f08c-4c86-8601-c748dbf50b73",
   "metadata": {},
   "outputs": [],
   "source": []
  },
  {
   "cell_type": "code",
   "execution_count": null,
   "id": "d7b44e9b-4810-44a5-b89d-0f5a6d4c5194",
   "metadata": {},
   "outputs": [],
   "source": []
  },
  {
   "cell_type": "code",
   "execution_count": null,
   "id": "2968e563-91b9-452d-af76-364fa0789f8f",
   "metadata": {},
   "outputs": [],
   "source": []
  },
  {
   "cell_type": "code",
   "execution_count": null,
   "id": "b3838dcf-5b6f-4d3b-abb5-fee4675ae03d",
   "metadata": {},
   "outputs": [],
   "source": []
  },
  {
   "cell_type": "code",
   "execution_count": null,
   "id": "4311a9dc-6068-4024-bb2e-8ddab21f275e",
   "metadata": {},
   "outputs": [],
   "source": []
  }
 ],
 "metadata": {
  "kernelspec": {
   "display_name": "Python 3 (ipykernel)",
   "language": "python",
   "name": "python3"
  },
  "language_info": {
   "codemirror_mode": {
    "name": "ipython",
    "version": 3
   },
   "file_extension": ".py",
   "mimetype": "text/x-python",
   "name": "python",
   "nbconvert_exporter": "python",
   "pygments_lexer": "ipython3",
   "version": "3.9.9"
  }
 },
 "nbformat": 4,
 "nbformat_minor": 5
}
