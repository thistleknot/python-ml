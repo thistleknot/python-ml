{
 "cells": [
  {
   "cell_type": "code",
   "execution_count": 1,
   "id": "92de849c-fc6a-4fb9-ac6f-186d17b2b923",
   "metadata": {},
   "outputs": [],
   "source": [
    "# automatic nested cross-validation of regression of 'Linear Regression using Step Forward Feature Selection' contrasted with 'Elastic Net' using pipelines as well as ZCA whitening to scale variables..\n",
    "\n",
    "#https://machinelearningmastery.com/nested-cross-validation-for-machine-learning-with-python/\n",
    "#https://machinelearningmastery.com/elastic-net-regression-in-python/\n",
    "#https://github.com/rasbt/mlxtend/issues/41\n",
    "#https://github.com/rasbt/mlxtend/issues/69"
   ]
  },
  {
   "cell_type": "code",
   "execution_count": 2,
   "id": "bbb1adca-d35a-4671-9667-bffad54974e3",
   "metadata": {},
   "outputs": [],
   "source": [
    "from abc import ABC, abstractmethod\n",
    "\n",
    "import itertools\n",
    "\n",
    "import matplotlib.pyplot as plt\n",
    "\n",
    "from mlxtend.feature_selection import SequentialFeatureSelector as SFS\n",
    "\n",
    "from numpy import arange\n",
    "from numpy import mean\n",
    "from numpy import std\n",
    "import numpy as np\n",
    "\n",
    "import os\n",
    "\n",
    "import pandas as pd\n",
    "\n",
    "from random import sample\n",
    "\n",
    "import random\n",
    "\n",
    "import re\n",
    "\n",
    "#from sklearn.datasets import make_classification\n",
    "from sklearn import linear_model\n",
    "from sklearn.datasets import make_regression\n",
    "from sklearn.linear_model import ElasticNet\n",
    "from sklearn.linear_model import ElasticNetCV\n",
    "from sklearn.metrics import mean_squared_error \n",
    "from sklearn.model_selection import cross_val_score\n",
    "from sklearn.model_selection import GridSearchCV\n",
    "from sklearn.model_selection import KFold\n",
    "from sklearn.model_selection import RepeatedKFold\n",
    "from sklearn.pipeline import Pipeline\n",
    "#from sklearn.preprocessing import StandardScaler\n",
    "\n",
    "import statsmodels.api as sm\n",
    "\n",
    "import sys\n",
    "\n",
    "if not sys.warnoptions:\n",
    "    import warnings\n",
    "    warnings.simplefilter(\"ignore\")\n",
    "    warnings.filterwarnings('ignore')"
   ]
  },
  {
   "cell_type": "code",
   "execution_count": 3,
   "id": "dc685d3a-564a-4092-a219-9eef11441886",
   "metadata": {
    "tags": []
   },
   "outputs": [],
   "source": [
    "#!/usr/bin/python\n",
    "# -*- coding: utf-8 -*-\n",
    "\n",
    "# ------------------------------------\n",
    "# file: zca.py\n",
    "# date: Thu May 21 15:47 2015\n",
    "# author:\n",
    "# Maarten Versteegh\n",
    "# github.com/mwv\n",
    "# maartenversteegh AT gmail DOT com\n",
    "#\n",
    "# Licensed under GPLv3\n",
    "# ------------------------------------\n",
    "\"\"\"zca: ZCA whitening with a sklearn-like interface\n",
    "\n",
    "\"\"\"\n",
    "\n",
    "from __future__ import division\n",
    "\n",
    "import numpy as np\n",
    "from scipy import linalg\n",
    "\n",
    "from sklearn.base import TransformerMixin, BaseEstimator\n",
    "from sklearn.utils.validation import check_is_fitted\n",
    "from sklearn.utils import check_array, as_float_array\n",
    "\n",
    "class ZCA(BaseEstimator, TransformerMixin):\n",
    "    def __init__(self, regularization=1e-6, copy=False):\n",
    "        self.regularization = regularization\n",
    "        self.copy = copy\n",
    "\n",
    "    def fit(self, X, y=None):\n",
    "        \"\"\"Compute the mean, whitening and dewhitening matrices.\n",
    "\n",
    "        Parameters\n",
    "        ----------\n",
    "        X : array-like with shape [n_samples, n_features]\n",
    "            The data used to compute the mean, whitening and dewhitening\n",
    "            matrices.\n",
    "        \"\"\"\n",
    "        X = check_array(X, accept_sparse=None, copy=self.copy,\n",
    "                        ensure_2d=True)\n",
    "        X = as_float_array(X, copy=self.copy)\n",
    "        self.mean_ = X.mean(axis=0)\n",
    "        X_ = X - self.mean_\n",
    "        cov = np.dot(X_.T, X_) / (X_.shape[0]-1)\n",
    "        U, S, _ = linalg.svd(cov)\n",
    "        s = np.sqrt(S.clip(self.regularization))\n",
    "        s_inv = np.diag(1./s)\n",
    "        s = np.diag(s)\n",
    "        self.whiten_ = np.dot(np.dot(U, s_inv), U.T)\n",
    "        self.dewhiten_ = np.dot(np.dot(U, s), U.T)\n",
    "        return self\n",
    "\n",
    "    def transform(self, X, y=None, copy=None):\n",
    "        \"\"\"Perform ZCA whitening\n",
    "\n",
    "        Parameters\n",
    "        ----------\n",
    "        X : array-like with shape [n_samples, n_features]\n",
    "            The data to whiten along the features axis.\n",
    "        \"\"\"\n",
    "        check_is_fitted(self, 'mean_')\n",
    "        X = as_float_array(X, copy=self.copy)\n",
    "        return np.dot(X - self.mean_, self.whiten_.T)\n",
    "\n",
    "    def inverse_transform(self, X, copy=None):\n",
    "        \"\"\"Undo the ZCA transform and rotate back to the original\n",
    "        representation\n",
    "\n",
    "        Parameters\n",
    "        ----------\n",
    "        X : array-like with shape [n_samples, n_features]\n",
    "            The data to rotate back.\n",
    "        \"\"\"\n",
    "        check_is_fitted(self, 'mean_')\n",
    "        X = as_float_array(X, copy=self.copy)\n",
    "        return np.dot(X, self.dewhiten_) + self.mean_\n"
   ]
  },
  {
   "cell_type": "code",
   "execution_count": 4,
   "id": "53dae0be-aa5b-41a6-ac79-03045466367a",
   "metadata": {},
   "outputs": [],
   "source": [
    "def read_data():\n",
    "    df = pd.read_csv(\"https://raw.githubusercontent.com/thistleknot/Python-Stock/master/data/raw/states.csv\").set_index('States')\n",
    "    return(df)"
   ]
  },
  {
   "cell_type": "code",
   "execution_count": 5,
   "id": "a98ab490-94f1-49b3-97f0-d4d0e3e331c6",
   "metadata": {},
   "outputs": [
    {
     "name": "stdout",
     "output_type": "stream",
     "text": [
      "3\n"
     ]
    }
   ],
   "source": [
    "independent = 'Poverty'\n",
    "outer_k = 10\n",
    "inner_k = 10\n",
    "random_st = random.sample(list(np.arange(0,10,1)),1)[0]\n",
    "print(random_st)\n",
    "\n",
    "# configure the cross-validation procedure\n",
    "cv_inner = KFold(n_splits=inner_k, shuffle=True, random_state=random_st)\n",
    "cv_outer = KFold(n_splits=outer_k, shuffle=True, random_state=random_st)"
   ]
  },
  {
   "cell_type": "code",
   "execution_count": 6,
   "id": "1f0f0f45-3357-492d-86de-7aabd366e6d0",
   "metadata": {},
   "outputs": [],
   "source": [
    "# create dataset\n",
    "y = read_data()[[independent]]\n",
    "X = read_data()[(read_data().columns).difference([independent]).values]"
   ]
  },
  {
   "cell_type": "code",
   "execution_count": 7,
   "id": "9a486e8c-f677-4363-9c23-b5af018984de",
   "metadata": {},
   "outputs": [],
   "source": [
    "scores = list()"
   ]
  },
  {
   "cell_type": "code",
   "execution_count": null,
   "id": "c8ab64fb-89be-40c3-9ca9-cd3665261f98",
   "metadata": {},
   "outputs": [],
   "source": []
  },
  {
   "cell_type": "code",
   "execution_count": 8,
   "id": "0d8de5bb-80cc-4fd0-8a4a-a99398958da5",
   "metadata": {},
   "outputs": [],
   "source": [
    "\"\"\"\n",
    "class model(ABC):\n",
    " \n",
    "    @abstractmethod\n",
    "    def setEstimators(self):\n",
    "        estimators_ENetCV = []\n",
    "        estimators_ENetCV.append(('standardize', ZCA()))\n",
    "\n",
    "        pass\n",
    "\"\"\"\n",
    "\n",
    "class regression_model():\n",
    "    def __init__(self,estimators):\n",
    "        self.estimators = estimators\n",
    "        \n",
    "        # define search\n",
    "        self.search = Pipeline(self.estimators)\n",
    "        \n",
    "        # execute the nested cross-validation\n",
    "        self.scores = cross_val_score(self.search, X, y, scoring='neg_mean_squared_error', cv=cv_outer, n_jobs=-1)\n",
    "        # report performance\n",
    "        self.score = [(mean(self.scores), std(self.scores))]\n",
    "        \n",
    "    def score(self):\n",
    "        \n",
    "        return(self.score)"
   ]
  },
  {
   "cell_type": "code",
   "execution_count": null,
   "id": "536149b2-1c2d-4693-a1ed-727fed9989ad",
   "metadata": {},
   "outputs": [],
   "source": []
  },
  {
   "cell_type": "code",
   "execution_count": 9,
   "id": "89602861-d308-493a-81d0-56f81882fd0b",
   "metadata": {},
   "outputs": [],
   "source": [
    "#elastic\n",
    "\n",
    "# define the model\n",
    "\n",
    "estimators_ENetCV = []\n",
    "estimators_ENetCV.append(('standardize', ZCA()))\n",
    "estimators_ENetCV.append(('ElasticNetCV', ElasticNetCV(cv=cv_inner, n_alphas=100, random_state=random_st,fit_intercept=1)))\n",
    "\n",
    "elastic_score = regression_model(estimators_ENetCV)\n",
    "scores.append(['ElasticNetCV',elastic_score])"
   ]
  },
  {
   "cell_type": "code",
   "execution_count": null,
   "id": "968f22a3-0984-4197-a5c8-8cf1399eaf5d",
   "metadata": {},
   "outputs": [],
   "source": []
  },
  {
   "cell_type": "code",
   "execution_count": 10,
   "id": "f4576646-4d1e-45d4-a88d-294930236c41",
   "metadata": {},
   "outputs": [],
   "source": [
    "#linear\n",
    "\n",
    "# define the model\n",
    "\n",
    "linear_enet = ElasticNetCV(cv=cv_inner,alphas=[0], l1_ratio=0,fit_intercept = True)\n",
    "\n",
    "sfs = SFS(linear_enet, \n",
    "          k_features=len(X.columns), \n",
    "          forward=True, \n",
    "          floating=True, \n",
    "          scoring='neg_mean_squared_error',\n",
    "          cv=cv_inner)\n",
    "\n",
    "estimators_linear = []\n",
    "estimators_linear.append(('standardize', ZCA()))\n",
    "estimators_linear.append(('SFS', sfs))\n",
    "estimators_linear.append(('linear_enet', linear_enet))\n",
    "\n",
    "linear_score = regression_model(estimators_linear)\n",
    "scores.append(['linear_enet',linear_score])"
   ]
  },
  {
   "cell_type": "code",
   "execution_count": 11,
   "id": "6e0f34a3-2ea8-4596-80c9-9feec99bc316",
   "metadata": {},
   "outputs": [
    {
     "name": "stdout",
     "output_type": "stream",
     "text": [
      "Model:  ElasticNetCV\n",
      "Accuracy: -2.234 (1.896)\n",
      "Model:  linear_enet\n",
      "Accuracy: -2.385 (1.936)\n"
     ]
    }
   ],
   "source": [
    "for s in range(0,len(scores)):\n",
    "    print('Model: ', scores[s][0])\n",
    "    print('Accuracy: %.3f (%.3f)' % (scores[s][1].score[0][0], scores[s][1].score[0][1]))\n"
   ]
  },
  {
   "cell_type": "code",
   "execution_count": null,
   "id": "f10e344b-9664-4243-be07-ab3ce9213b22",
   "metadata": {},
   "outputs": [],
   "source": []
  },
  {
   "cell_type": "code",
   "execution_count": null,
   "id": "4357f490-8d11-4f01-939d-484ba53e1c4a",
   "metadata": {},
   "outputs": [],
   "source": []
  },
  {
   "cell_type": "code",
   "execution_count": null,
   "id": "26b7802e-911b-4813-8448-1df9921800df",
   "metadata": {},
   "outputs": [],
   "source": []
  },
  {
   "cell_type": "code",
   "execution_count": 12,
   "id": "dfb4054d-4436-4f13-abac-6280e877a5cc",
   "metadata": {},
   "outputs": [
    {
     "name": "stdout",
     "output_type": "stream",
     "text": [
      "ElasticNetCV\n"
     ]
    }
   ],
   "source": [
    "#step 1\n",
    "best_model = [item[0] for item in scores][np.argmin(np.abs([item[1].score[0][0] for item in scores]))]\n",
    "print(best_model)"
   ]
  },
  {
   "cell_type": "code",
   "execution_count": 14,
   "id": "80cbc8c4-4317-4ba2-994a-0de66048561e",
   "metadata": {},
   "outputs": [
    {
     "data": {
      "image/png": "[encoded data removed]",
      "text/plain": [
       "<Figure size 432x288 with 1 Axes>"
      ]
     },
     "metadata": {
      "needs_background": "light"
     },
     "output_type": "display_data"
    },
    {
     "name": "stdout",
     "output_type": "stream",
     "text": [
      "1.1449365449516835\n"
     ]
    },
    {
     "data": {
      "image/png": "[encoded data removed]",
      "text/plain": [
       "<Figure size 432x288 with 1 Axes>"
      ]
     },
     "metadata": {
      "needs_background": "light"
     },
     "output_type": "display_data"
    },
    {
     "name": "stdout",
     "output_type": "stream",
     "text": [
      "1.1449365449516835\n"
     ]
    }
   ],
   "source": [
    "\n",
    "\n",
    "if(best_model=='ElasticNetCV'):\n",
    "    zca = ZCA()\n",
    "    zca.fit(X)\n",
    "    \n",
    "    #Step 2: inner-procedure is applied to the entire dataset.\n",
    "    final_model_est = Pipeline(estimators_ENetCV)\n",
    "    final_model_est.fit(X,y)\n",
    "    #final_model_est = ElasticNetCV(alphas=[final_model_est.named_steps['ElasticNetCV'].alpha_], l1_ratio=final_model_est.named_steps['ElasticNetCV'].l1_ratio,fit_intercept=True)\n",
    "    \n",
    "    #final_model_est.fit(zca.transform(X), y)\n",
    "    \n",
    "    #step 3: hyperparameters found during this final search are then used to configure a final model.\n",
    "    estimators_final = []\n",
    "    #estimators_final.append(('standardize', ZCA()))\n",
    "    estimators_final.append(('ElasticNet', ElasticNetCV(cv=cv_inner,alphas=[final_model_est.named_steps['ElasticNetCV'].alpha_], l1_ratio=final_model_est.named_steps['ElasticNetCV'].l1_ratio,fit_intercept=True)))\n",
    "    final_model = Pipeline(estimators_final)\n",
    "    \n",
    "    final_model.fit(zca.transform(X),y)    \n",
    "    \n",
    "    #step 4: final model is fit on the entire dataset.\n",
    "    plt.scatter(final_model.predict(zca.transform(X)),y)\n",
    "    plt.show()\n",
    "    print(mean_squared_error(y, final_model.predict(zca.transform(X)), squared=True))\n",
    "    \n",
    "    #Step 2: inner-procedure is applied to the entire dataset.\n",
    "    final_model_est = Pipeline(estimators_ENetCV)\n",
    "    final_model_est.fit(X,y)\n",
    "    #final_model_est = ElasticNetCV(alphas=[final_model_est.named_steps['ElasticNetCV'].alpha_], l1_ratio=final_model_est.named_steps['ElasticNetCV'].l1_ratio,fit_intercept=True)\n",
    "    \n",
    "    #final_model_est.fit(zca.transform(X), y)\n",
    "    \n",
    "    #step 3: hyperparameters found during this final search are then used to configure a final model.\n",
    "    estimators_final = []\n",
    "    #estimators_final.append(('standardize', ZCA()))\n",
    "    estimators_final.append(('ElasticNet', ElasticNetCV(cv=cv_inner,alphas=[final_model_est.named_steps['ElasticNetCV'].alpha_], l1_ratio=final_model_est.named_steps['ElasticNetCV'].l1_ratio,fit_intercept=True)))\n",
    "    final_model = Pipeline(estimators_final)\n",
    "    \n",
    "    final_model.fit(final_model_est.named_steps['standardize'].transform(X),y)    \n",
    "    \n",
    "    #step 4: final model is fit on the entire dataset.\n",
    "    plt.scatter(final_model.predict(final_model_est.named_steps['standardize'].transform(X)),y)\n",
    "    plt.show()\n",
    "    print(mean_squared_error(y, final_model.predict(final_model_est.named_steps['standardize'].transform(X)), squared=True))\n",
    "        \n",
    "elif(best_model=='linear_enet'):\n",
    "    final_model_est = Pipeline(estimators_linear)\n",
    "    \n",
    "    final_model_est.fit(X,y)\n",
    "    \n",
    "    bestSFS=X.columns[pd.Series(pd.DataFrame(final_model_est.named_steps['SFS'].subsets_).iloc[:,np.argmin(np.abs(pd.DataFrame(final_model_est.named_steps['SFS'].subsets_).loc['avg_score']))-1].feature_idx).to_list()]\n",
    "    \n",
    "    #Step 2: inner-procedure is applied to the entire dataset.\n",
    "    #step 3: hyperparameters found during this final search are then used to configure a final model.\n",
    "    #no need to derive hyper parm's\n",
    "    final_model = ElasticNetCV(cv=cv_inner,alphas=[0], l1_ratio=0,fit_intercept=True)\n",
    "    \n",
    "    zca = ZCA()\n",
    "    zca.fit(X[bestSFS])\n",
    "    \n",
    "    final_model.fit(zca.transform(X[bestSFS]), y)\n",
    "    \n",
    "    #final_model.fit(zca.transform(X),y)    \n",
    "    \n",
    "    #step 4: final model is fit on the entire dataset.\n",
    "    plt.scatter(final_model.predict(zca.transform(X[bestSFS])),y)\n",
    "    plt.show()\n",
    "    print(mean_squared_error(y, final_model.predict(zca.transform(X[bestSFS])), squared=True))\n"
   ]
  },
  {
   "cell_type": "code",
   "execution_count": null,
   "id": "419990a6-c118-4dfd-89b1-e6aaf7a31e3e",
   "metadata": {},
   "outputs": [],
   "source": []
  }
 ],
 "metadata": {
  "kernelspec": {
   "display_name": "Python 3 (ipykernel)",
   "language": "python",
   "name": "python3"
  },
  "language_info": {
   "codemirror_mode": {
    "name": "ipython",
    "version": 3
   },
   "file_extension": ".py",
   "mimetype": "text/x-python",
   "name": "python",
   "nbconvert_exporter": "python",
   "pygments_lexer": "ipython3",
   "version": "3.9.7"
  }
 },
 "nbformat": 4,
 "nbformat_minor": 5
}
