{
 "cells": [
  {
   "cell_type": "code",
   "execution_count": 108,
   "id": "e2f310ed-1623-4823-a674-cc5a9c35878e",
   "metadata": {},
   "outputs": [],
   "source": [
    "#https://towardsdatascience.com/introduction-to-markov-chain-programming-8ddbe0ac1c84#:~:text=Markov%20Chain%20is%20a%20mathematical,predicting%20the%20next%20day's%20weather.\n",
    "#alternative library PyDTMC\n",
    "#https://pypi.org/project/PyDTMC/\n",
    "import numpy as np\n",
    "import random as rm"
   ]
  },
  {
   "cell_type": "code",
   "execution_count": 109,
   "id": "6abdb80f-c925-4c0b-bb79-14899c6d4886",
   "metadata": {},
   "outputs": [],
   "source": [
    "states = [\"sunny\", \"rainy\"]\n",
    "transitions = [[\"SS\", \"SR\"],[\"RS\", \"RR\"]]\n",
    "T = [[0.9, 0.1],[0.5, 0.5]]"
   ]
  },
  {
   "cell_type": "code",
   "execution_count": 110,
   "id": "cb460300-9216-4a7c-8c64-993d856914ee",
   "metadata": {},
   "outputs": [],
   "source": [
    "def weather_forecast(n_days, weather_today=\"sunny\"):\n",
    "    weather_list = [weather_today]\n",
    "    n = 0\n",
    "    prob = 1.0    \n",
    "    while n != n_days:\n",
    "        if weather_today == \"sunny\":\n",
    "            change = np.random.choice(transitions[0], p=T[0])\n",
    "            if change == \"SS\":\n",
    "                prob = prob * T[0][0]\n",
    "                weather_list.append(states[0])\n",
    "            else:\n",
    "                prob = prob * T[0][1]\n",
    "                weather_list.append(states[1])        \n",
    "                \n",
    "        else:\n",
    "            change = np.random.choice(transitions[1], p=T[1])\n",
    "            if change == \"RS\":\n",
    "                prob = prob * T[1][0]\n",
    "                weather_list.append(states[0])\n",
    "            else:\n",
    "                prob = prob * T[1][1]\n",
    "                weather_list.append(states[1])        \n",
    "        n = n + 1        \n",
    "    return weather_list"
   ]
  },
  {
   "cell_type": "code",
   "execution_count": 111,
   "id": "736194da-89ba-4db5-823a-e562041a55b1",
   "metadata": {},
   "outputs": [
    {
     "data": {
      "text/plain": [
       "[<matplotlib.lines.Line2D at 0x7fccda670f70>]"
      ]
     },
     "execution_count": 111,
     "metadata": {},
     "output_type": "execute_result"
    },
    {
     "data": {
      "image/png": "[encoded data removed]",
      "text/plain": [
       "<Figure size 432x288 with 1 Axes>"
      ]
     },
     "metadata": {
      "needs_background": "light"
     },
     "output_type": "display_data"
    }
   ],
   "source": [
    "ndays = 5\n",
    "prediction = np.zeros(shape=(ndays+1))\n",
    "tests = 10000\n",
    "\n",
    "import matplotlib.pyplot as plt\n",
    "\n",
    "for i in range(0,tests):\n",
    "    future_weathers = weather_forecast(n_days = ndays)\n",
    "    prediction += np.where(np.array(future_weathers)=='sunny',1,0)\n",
    "    \n",
    "plt.plot(prediction/tests)\n"
   ]
  }
 ],
 "metadata": {
  "kernelspec": {
   "display_name": "Python 3 (ipykernel)",
   "language": "python",
   "name": "python3"
  },
  "language_info": {
   "codemirror_mode": {
    "name": "ipython",
    "version": 3
   },
   "file_extension": ".py",
   "mimetype": "text/x-python",
   "name": "python",
   "nbconvert_exporter": "python",
   "pygments_lexer": "ipython3",
   "version": "3.9.6"
  }
 },
 "nbformat": 4,
 "nbformat_minor": 5
}
