{
 "cells": [
  {
   "cell_type": "code",
   "execution_count": null,
   "id": "48bae016-f55d-4384-8a33-8becdd47105d",
   "metadata": {},
   "outputs": [],
   "source": [
    "import pmdarima as pm\n",
    "from pmdarima.model_selection import train_test_split\n",
    "import pandas as pd\n",
    "import numpy as np\n",
    "import matplotlib.pyplot as plt\n",
    "from statsmodels.tsa.arima.model import ARIMA"
   ]
  },
  {
   "cell_type": "code",
   "execution_count": null,
   "id": "919ca253-a0a9-4f27-94c9-e7e528164c1f",
   "metadata": {},
   "outputs": [],
   "source": [
    "#y = pm.datasets.load_wineind()\n",
    "y = pd.read_csv(\"C:\\\\Users\\\\User\\\\Documents\\\\wiki\\\\wiki\\\\Excel\\\\LACondos.csv\",index_col=\"Date\")"
   ]
  },
  {
   "cell_type": "code",
   "execution_count": null,
   "id": "38e684b6-f767-408c-9f15-bbb8745b72a5",
   "metadata": {},
   "outputs": [],
   "source": [
    "model = ARIMA(y, order=(4,1,2),const)\n",
    "model_fit = model.fit()\n"
   ]
  },
  {
   "cell_type": "code",
   "execution_count": null,
   "id": "855295c3-f249-4a27-beea-707d1ce04993",
   "metadata": {},
   "outputs": [],
   "source": [
    "model = pm.auto_arima(y, seasonal=True, m=12,with_intercept=1)"
   ]
  },
  {
   "cell_type": "code",
   "execution_count": null,
   "id": "71c716cb-696d-4bc8-8b54-7ac2f09f1078",
   "metadata": {},
   "outputs": [],
   "source": [
    "model_fit.k_constant"
   ]
  },
  {
   "cell_type": "code",
   "execution_count": null,
   "id": "79dad0f3-676f-4215-82a5-049f57b5ceb1",
   "metadata": {},
   "outputs": [],
   "source": [
    "model."
   ]
  },
  {
   "cell_type": "code",
   "execution_count": null,
   "id": "ec4bf0b3-0d81-4213-94dc-fbaff3f1538c",
   "metadata": {},
   "outputs": [],
   "source": [
    "p = .7\n",
    "n = int((len(y))*p)\n",
    "\n",
    "train, test = train_test_split(y, train_size=.7)\n",
    "\n",
    "\n",
    "#model = pm.auto_arima(train, seasonal=True, m=12,with_intercept=1)\n",
    "model =pm.arima(y, seasonal=True, m=12,with_intercept=1)\n"
   ]
  },
  {
   "cell_type": "code",
   "execution_count": null,
   "id": "9b7156ea-7842-45ed-b894-65a627c24341",
   "metadata": {},
   "outputs": [],
   "source": [
    "model"
   ]
  },
  {
   "cell_type": "code",
   "execution_count": null,
   "id": "0fb84697-5f8d-41fb-bc83-a78dd14f131a",
   "metadata": {},
   "outputs": [],
   "source": [
    "model.with_intercept"
   ]
  },
  {
   "cell_type": "code",
   "execution_count": null,
   "id": "89195eb0-25ed-4411-bd1a-17e3ab14e328",
   "metadata": {},
   "outputs": [],
   "source": [
    "# make the forecasts\n",
    "forecasts = model.predict(test.shape[0])  # predict N steps into the future"
   ]
  },
  {
   "cell_type": "code",
   "execution_count": null,
   "id": "601a0239-fd9c-4029-be2b-0271c4fce3ed",
   "metadata": {},
   "outputs": [],
   "source": [
    "forecasts"
   ]
  },
  {
   "cell_type": "code",
   "execution_count": null,
   "id": "0a19f66f-08a9-4c5c-b359-18c309ca2ee9",
   "metadata": {},
   "outputs": [],
   "source": [
    "plt.figure(figsize  = (8,8))\n",
    "plt.title('Forecast result and Test data')\n",
    "# Visualize the forecasts (blue=train, green=forecasts)\n",
    "x = np.arange(y.shape[0])\n",
    "plt.plot(x[:len(train)], train, c='blue')\n",
    "plt.plot(x[len(train):], forecasts, c='green', label = 'ARIMA Forecast')\n",
    "plt.plot(x[len(train):], test, c='red', label = 'Test Data')\n",
    "plt.legend()\n",
    "plt.show()\n"
   ]
  }
 ],
 "metadata": {
  "kernelspec": {
   "display_name": "Python 3 (ipykernel)",
   "language": "python",
   "name": "python3"
  },
  "language_info": {
   "codemirror_mode": {
    "name": "ipython",
    "version": 3
   },
   "file_extension": ".py",
   "mimetype": "text/x-python",
   "name": "python",
   "nbconvert_exporter": "python",
   "pygments_lexer": "ipython3",
   "version": "3.9.7"
  }
 },
 "nbformat": 4,
 "nbformat_minor": 5
}
