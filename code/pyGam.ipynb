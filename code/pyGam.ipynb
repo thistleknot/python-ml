{
 "cells": [
  {
   "cell_type": "code",
   "execution_count": null,
   "id": "21837827-a151-4377-9023-b0435398870c",
   "metadata": {},
   "outputs": [],
   "source": [
    "\n",
    "from matplotlib import pyplot\n",
    "import matplotlib.pyplot as plt\n",
    "\n",
    "from mlxtend.feature_selection import SequentialFeatureSelector as SFS\n",
    "from mlxtend.plotting import plot_sequential_feature_selection as plot_sfs\n",
    "\n",
    "from numpy import *\n",
    "\n",
    "import numpy as np\n",
    "from numpy import mean\n",
    "from numpy import absolute\n",
    "from numpy import arange\n",
    "from numpy import mean\n",
    "from numpy import std\n",
    "from numpy.random import seed\n",
    "\n",
    "from OLS_LR_DiagnosticPlots.ModelDiagnostics import Plot\n",
    "\n",
    "import pandas as pd  \n",
    "from pandas import read_csv\n",
    "\n",
    "import pygam\n",
    "from pygam import ExpectileGAM\n",
    "from pygam import LinearGAM\n",
    "from pygam import LogisticGAM\n",
    "from pygam.datasets import mcycle\n",
    "\n",
    "from random import randint\n",
    "from random import random\n",
    "from random import seed\n",
    "\n",
    "import seaborn as sns\n",
    "\n",
    "import scipy\n",
    "from scipy import stats # For in-built method to get PCC\n",
    "\n",
    "from sklearn.datasets import make_classification\n",
    "from sklearn.model_selection import KFold\n",
    "from sklearn.model_selection import GridSearchCV\n",
    "from sklearn.ensemble import RandomForestClassifier\n",
    "from sklearn.metrics import accuracy_score\n",
    "import sklearn\n",
    "#from sklearn.datasets import load_breast_cancer\n",
    "import sklearn.linear_model\n",
    "from sklearn import linear_model\n",
    "from sklearn.base import BaseEstimator, TransformerMixin\n",
    "from sklearn.compose import TransformedTargetRegressor\n",
    "from sklearn.datasets import load_boston\n",
    "from sklearn.datasets import make_regression\n",
    "from sklearn.decomposition import PCA\n",
    "from sklearn.ensemble import RandomForestRegressor, IsolationForest\n",
    "from sklearn.linear_model import ElasticNet, ElasticNetCV, LinearRegression\n",
    "from sklearn.linear_model import RANSACRegressor\n",
    "from sklearn.metrics import accuracy_score as acc\n",
    "from sklearn.metrics import mean_squared_error\n",
    "from sklearn.model_selection import GridSearchCV, KFold, cross_val_score, RepeatedKFold, train_test_split\n",
    "from sklearn.pipeline import FeatureUnion, Pipeline, make_pipeline\n",
    "from sklearn.pipeline import Pipeline\n",
    "from sklearn.preprocessing import *\n",
    "\n",
    "import statsmodels.api as sm\n",
    "import statsmodels.tools\n",
    "from statsmodels.stats.outliers_influence import OLSInfluence\n",
    "\n",
    "from tqdm import tnrange, tqdm_notebook\n",
    "from zca import zca\n",
    "\n",
    "import itertools\n",
    "import matplotlib.pyplot as plt\n",
    "import mlxtend\n",
    "import numpy as np\n",
    "import pandas as pd\n",
    "import pingouin as pg\n",
    "\n",
    "import random\n",
    "\n",
    "import sys\n",
    "\n",
    "#if not sys.warnoptions:\n",
    "#    import warnings\n",
    "#    warnings.simplefilter(\"ignore\")\n",
    "\n",
    "import warnings\n",
    "warnings.filterwarnings('ignore')\n"
   ]
  },
  {
   "cell_type": "code",
   "execution_count": null,
   "id": "dcaa266a-56c8-480c-bffd-7b103de65d7b",
   "metadata": {},
   "outputs": [],
   "source": [
    "#!/usr/bin/python\n",
    "# -*- coding: utf-8 -*-\n",
    "\n",
    "# ------------------------------------\n",
    "# file: zca.py\n",
    "# date: Thu May 21 15:47 2015\n",
    "# author:\n",
    "# Maarten Versteegh\n",
    "# github.com/mwv\n",
    "# maartenversteegh AT gmail DOT com\n",
    "#\n",
    "# Licensed under GPLv3\n",
    "# ------------------------------------\n",
    "\"\"\"zca: ZCA whitening with a sklearn-like interface\n",
    "\n",
    "\"\"\"\n",
    "\n",
    "from __future__ import division\n",
    "\n",
    "import numpy as np\n",
    "from scipy import linalg\n",
    "\n",
    "from sklearn.base import TransformerMixin, BaseEstimator\n",
    "from sklearn.utils.validation import check_is_fitted\n",
    "from sklearn.utils import check_array, as_float_array\n",
    "\n",
    "class ZCA(BaseEstimator, TransformerMixin):\n",
    "    def __init__(self, regularization=1e-6, copy=False):\n",
    "        self.regularization = regularization\n",
    "        self.copy = copy\n",
    "\n",
    "    def fit(self, X, y=None):\n",
    "        \"\"\"Compute the mean, whitening and dewhitening matrices.\n",
    "\n",
    "        Parameters\n",
    "        ----------\n",
    "        X : array-like with shape [n_samples, n_features]\n",
    "            The data used to compute the mean, whitening and dewhitening\n",
    "            matrices.\n",
    "        \"\"\"\n",
    "        X = check_array(X, accept_sparse=None, copy=self.copy,\n",
    "                        ensure_2d=True)\n",
    "        X = as_float_array(X, copy=self.copy)\n",
    "        self.mean_ = X.mean(axis=0)\n",
    "        X_ = X - self.mean_\n",
    "        cov = np.dot(X_.T, X_) / (X_.shape[0]-1)\n",
    "        U, S, _ = linalg.svd(cov)\n",
    "        s = np.sqrt(S.clip(self.regularization))\n",
    "        s_inv = np.diag(1./s)\n",
    "        s = np.diag(s)\n",
    "        self.whiten_ = np.dot(np.dot(U, s_inv), U.T)\n",
    "        self.dewhiten_ = np.dot(np.dot(U, s), U.T)\n",
    "        return self\n",
    "\n",
    "    def transform(self, X, y=None, copy=None):\n",
    "        \"\"\"Perform ZCA whitening\n",
    "\n",
    "        Parameters\n",
    "        ----------\n",
    "        X : array-like with shape [n_samples, n_features]\n",
    "            The data to whiten along the features axis.\n",
    "        \"\"\"\n",
    "        check_is_fitted(self, 'mean_')\n",
    "        X = as_float_array(X, copy=self.copy)\n",
    "        return np.dot(X - self.mean_, self.whiten_.T)\n",
    "\n",
    "    def inverse_transform(self, X, copy=None):\n",
    "        \"\"\"Undo the ZCA transform and rotate back to the original\n",
    "        representation\n",
    "\n",
    "        Parameters\n",
    "        ----------\n",
    "        X : array-like with shape [n_samples, n_features]\n",
    "            The data to rotate back.\n",
    "        \"\"\"\n",
    "        check_is_fitted(self, 'mean_')\n",
    "        X = as_float_array(X, copy=self.copy)\n",
    "        return np.dot(X, self.dewhiten_) + self.mean_\n"
   ]
  },
  {
   "cell_type": "code",
   "execution_count": null,
   "id": "6710bda9-380a-4f65-b6ec-3f0d397a6e2b",
   "metadata": {},
   "outputs": [],
   "source": [
    "#np.array(X.iloc[:, 0:])"
   ]
  },
  {
   "cell_type": "code",
   "execution_count": null,
   "id": "eda21a98-f8a8-4a6b-b47c-4b803edf7eef",
   "metadata": {},
   "outputs": [],
   "source": [
    "\n",
    "df = pd.read_csv(\"https://raw.githubusercontent.com/thistleknot/Python-Stock/master/data/raw/states.csv\").set_index('States')\n",
    "\n",
    "target = \"Poverty\"\n",
    "y = df[[target]]\n",
    "X = df.loc[:, ~df.columns.isin([\"States\",target])].copy()\n",
    "\n",
    "df.describe()"
   ]
  },
  {
   "cell_type": "code",
   "execution_count": null,
   "id": "6b54d937-bc1b-4237-baf6-e2ae63b59b94",
   "metadata": {},
   "outputs": [],
   "source": []
  },
  {
   "cell_type": "code",
   "execution_count": null,
   "id": "7109f392-3603-47b7-ba28-431c2648785f",
   "metadata": {},
   "outputs": [],
   "source": []
  },
  {
   "cell_type": "code",
   "execution_count": null,
   "id": "ac5ced4e-29dc-4360-afb9-772295e9461a",
   "metadata": {},
   "outputs": [],
   "source": []
  },
  {
   "cell_type": "code",
   "execution_count": null,
   "id": "1175bf9e-a7a2-4981-b592-445b015b753b",
   "metadata": {},
   "outputs": [],
   "source": [
    "from tqdm import tnrange, tqdm_notebook\n",
    "\n",
    "inner_cv = KFold(n_splits=3, shuffle=True, random_state=0)\n",
    "outer_cv = KFold(n_splits=2, shuffle=True, random_state=0)\n",
    "\n",
    "cv_outer = KFold(n_splits=2, shuffle=True, random_state=1)\n",
    "cv_inner = KFold(n_splits=3, shuffle=True, random_state=1)\n",
    "\n",
    "#Initialization variables\n",
    "\n",
    "k = len(X.columns)\n",
    "\n",
    "terms = list()\n",
    "#Looping over k = 1 to k = 11 features in X\n",
    "for k in tnrange(1,len(X.columns) + 1, desc = 'Loop...'):\n",
    "\n",
    "    #Looping over all possible combinations: from 11 choose k\n",
    "    for combo in itertools.combinations(X.columns,k):\n",
    "        terms.append(list(combo))\n",
    "        \n",
    "outer_scores = []        \n",
    "\n",
    "#good juncture to fork\n",
    "for t_ in tnrange(0,len(terms), desc = 'Loop...'):\n",
    "    t=terms[t_]\n",
    "    print(t)\n",
    "\n",
    "    subX = X[t]\n",
    "    \n",
    "    outer_results = list()\n",
    "    \n",
    "    for trainv_ix, test_ix in cv_outer.split(subX):\n",
    "        # split data\n",
    "        X_trainv, X_test = subX.iloc[trainv_ix], subX.iloc[test_ix, :]\n",
    "        y_trainv, y_test = y.iloc[trainv_ix], y.iloc[test_ix]\n",
    "\n",
    "        inner_results = list()\n",
    "        inner_models = list()\n",
    "        \n",
    "        #good juncture to fork locally\n",
    "        for train_ix, valid_ix in cv_inner.split(X_trainv):\n",
    "            # split data\n",
    "            X_train, X_valid = X_trainv.iloc[train_ix, :], X_trainv.iloc[valid_ix, :]\n",
    "            y_train, y_valid = y_trainv.iloc[train_ix], y_trainv.iloc[valid_ix]\n",
    "\n",
    "            gam = LinearGAM().fit(X_train[t],y_train)\n",
    "            inner_models.append(gam)\n",
    "            \n",
    "            yhat = gam.predict(X_valid[t])\n",
    "            # evaluate the model\n",
    "            acc = np.mean(abs(y_valid.values.ravel()-yhat))\n",
    "            # store the result\n",
    "            inner_results.append(acc)\n",
    "            # report progress\n",
    "            #print('>acc=%.3f, est=%.3f, cfg=%s' % (acc, result.best_score_, result.best_params_))\n",
    "            # summarize the estimated performance of the model\n",
    "        \n",
    "        #good juncture to fork locally\n",
    "        model_scores = list()\n",
    "        \n",
    "        #test inner model as ansemble\n",
    "        for m in inner_models:\n",
    "            model_scores.append(np.mean(abs(m.predict(X_test)-y_test.values.ravel())))\n",
    "            \n",
    "        #average internal model results and report as outer_result which*\n",
    "        outer_results.append(np.mean(np.abs(model_scores)))\n",
    "\n",
    "        #print('I Accuracy: %.3f (%.3f)' % (mean(inner_results), std(inner_results)))\n",
    "        \n",
    "    #*will in turn be averaged over all folds to determine that combination of term's outer score (real world performance, which will be our model evaluating metric).\n",
    "    score = [mean(outer_results), std(outer_results)]\n",
    "    outer_scores.append([t,score])\n",
    "    #print('O Accuracy: %.3f (%.3f)' % (score[0], score[1]))"
   ]
  },
  {
   "cell_type": "code",
   "execution_count": null,
   "id": "2be0e048-2696-4b73-ac8f-e2b159e44c93",
   "metadata": {},
   "outputs": [],
   "source": []
  },
  {
   "cell_type": "code",
   "execution_count": null,
   "id": "5420e3eb-69c3-48f9-9dbb-89edd414cfea",
   "metadata": {},
   "outputs": [],
   "source": [
    "results = pd.concat([pd.DataFrame([item[1] for item in outer_scores],columns=['O Score','Std']),pd.DataFrame(pd.Series([item[0] for item in outer_scores]),columns=['Terms'])],axis=1)"
   ]
  },
  {
   "cell_type": "code",
   "execution_count": null,
   "id": "a89eafe2-1fbb-4a8a-a5e5-351ebc257659",
   "metadata": {},
   "outputs": [],
   "source": [
    "plt.plot(results['O Score'])"
   ]
  },
  {
   "cell_type": "code",
   "execution_count": null,
   "id": "47ac110e-e050-46f9-9aa3-c739f84abbf5",
   "metadata": {},
   "outputs": [],
   "source": [
    "plt.plot(results['Std'])"
   ]
  },
  {
   "cell_type": "code",
   "execution_count": null,
   "id": "0bee1225-1777-4dc9-ba31-6d8f856e073d",
   "metadata": {},
   "outputs": [],
   "source": [
    "best_terms = results.loc[np.argmin(results['O Score'])]['Terms']\n",
    "best_terms"
   ]
  },
  {
   "cell_type": "code",
   "execution_count": null,
   "id": "5655f5a7-234c-44a2-a72d-76d2c4fc83e8",
   "metadata": {},
   "outputs": [],
   "source": [
    "zca = ZCA()\n",
    "#zca.fit(X[best_terms])\n",
    "final_gam = LinearGAM().fit(zca.fit_transform(X[best_terms]),y)"
   ]
  },
  {
   "cell_type": "code",
   "execution_count": null,
   "id": "9d5a1b01-d621-4b49-bd39-b30d8924325c",
   "metadata": {},
   "outputs": [],
   "source": []
  },
  {
   "cell_type": "code",
   "execution_count": null,
   "id": "8b794f6d-c052-4e18-9778-0d52bfc95787",
   "metadata": {},
   "outputs": [],
   "source": []
  },
  {
   "cell_type": "code",
   "execution_count": null,
   "id": "665fc06e-a7e4-486f-83c4-7792dacfabf8",
   "metadata": {},
   "outputs": [],
   "source": [
    "final_gam.statistics_"
   ]
  },
  {
   "cell_type": "code",
   "execution_count": null,
   "id": "f3f8d45c-621f-43e9-8b82-0197774d2d70",
   "metadata": {},
   "outputs": [],
   "source": [
    "final_gam.coef_"
   ]
  },
  {
   "cell_type": "code",
   "execution_count": null,
   "id": "4ca91abe-9447-456f-8a1c-729acf579a9a",
   "metadata": {},
   "outputs": [],
   "source": [
    "final_gam.summary()"
   ]
  },
  {
   "cell_type": "code",
   "execution_count": null,
   "id": "494cdff0-3082-46cc-ae47-3ed1152129b8",
   "metadata": {},
   "outputs": [],
   "source": [
    "np.mean(np.abs(final_gam.predict(zca.transform(X[best_terms]))-y.values.ravel()))"
   ]
  },
  {
   "cell_type": "code",
   "execution_count": null,
   "id": "e5b998ef-e9c1-43fe-a379-cf790c25a780",
   "metadata": {},
   "outputs": [],
   "source": []
  },
  {
   "cell_type": "code",
   "execution_count": 541,
   "id": "f536e1e2-0127-4d6d-b36c-e8e099353033",
   "metadata": {},
   "outputs": [],
   "source": [
    "prediction_interval = pd.DataFrame(final_gam.prediction_intervals(zca.transform(X[best_terms])),columns=['lower','upper'])\n",
    "yhat = pd.DataFrame(final_gam.predict(zca.transform(X[best_terms])),columns=['center'])\n",
    "prediction_set = pd.concat([prediction_interval['lower'],yhat,prediction_interval['upper']],axis=1)\n",
    "prediction_set.index = y.index\n",
    "prediction_set.sort_values(kind=\"quicksort\", ascending=True,by='center',inplace=True)\n",
    "#plt.plot()\n",
    "#plt.plot(prediction_interval['upper'])\n",
    "#plt.show()"
   ]
  },
  {
   "cell_type": "code",
   "execution_count": 543,
   "id": "95cb1a21-63fb-43a1-894a-2ebbb5ce745d",
   "metadata": {},
   "outputs": [
    {
     "data": {
      "image/png": "[encoded data removed]",
      "text/plain": [
       "<Figure size 432x288 with 1 Axes>"
      ]
     },
     "metadata": {
      "needs_background": "light"
     },
     "output_type": "display_data"
    }
   ],
   "source": [
    "plt.plot(prediction_set['lower'])\n",
    "plt.plot(prediction_set['center'])\n",
    "plt.plot(prediction_set['upper'])\n",
    "plt.xticks(rotation = 45)\n",
    "plt.show()"
   ]
  },
  {
   "cell_type": "code",
   "execution_count": 544,
   "id": "cb6981d2-b231-4eed-b66b-9541c3bbc51c",
   "metadata": {},
   "outputs": [
    {
     "data": {
      "image/png": "[encoded data removed]",
      "text/plain": [
       "<Figure size 432x288 with 1 Axes>"
      ]
     },
     "metadata": {
      "needs_background": "light"
     },
     "output_type": "display_data"
    }
   ],
   "source": [
    "if len(best_terms)>1:\n",
    "    plt.figure();\n",
    "    fig, axs = plt.subplots(1,len(best_terms));\n",
    "\n",
    "    titles = best_terms\n",
    "    for i, ax in enumerate(axs):\n",
    "        XX = final_gam.generate_X_grid(term=i)\n",
    "        ax.plot(XX[:, i], final_gam.partial_dependence(term=i, X=XX))\n",
    "        ax.plot(XX[:, i], final_gam.partial_dependence(term=i, X=XX, width=.95)[1], c='r', ls='--')\n",
    "        ax.set_title(titles[i]);\n",
    "else:\n",
    "    XX = final_gam.generate_X_grid(term=0)\n",
    "    \n",
    "    fig, axs = plt.subplots(1,len(best_terms));\n",
    "\n",
    "    titles = best_terms\n",
    "\n",
    "    axs.plot(XX[:, 0], final_gam.partial_dependence(term=0, X=XX))\n",
    "    axs.plot(XX[:, 0], final_gam.partial_dependence(term=0, X=XX, width=.95)[1], c='r', ls='--')\n",
    "    axs.set_title(best_terms[0]);"
   ]
  }
 ],
 "metadata": {
  "kernelspec": {
   "display_name": "Python 3 (ipykernel)",
   "language": "python",
   "name": "python3"
  },
  "language_info": {
   "codemirror_mode": {
    "name": "ipython",
    "version": 3
   },
   "file_extension": ".py",
   "mimetype": "text/x-python",
   "name": "python",
   "nbconvert_exporter": "python",
   "pygments_lexer": "ipython3",
   "version": "3.9.7"
  }
 },
 "nbformat": 4,
 "nbformat_minor": 5
}
