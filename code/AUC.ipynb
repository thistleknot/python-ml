{
 "cells": [
  {
   "cell_type": "code",
   "execution_count": null,
   "id": "a6802016-2f3b-4790-9058-66fa29cd0ae9",
   "metadata": {},
   "outputs": [],
   "source": [
    "import pandas as pd\n",
    "import matplotlib.pyplot as plt\n",
    "from sklearn.base import BaseEstimator, TransformerMixin\n",
    "#https://github.com/mwv/zca\n",
    "from zca.zca import zca\n",
    "import pandas as pd\n",
    "from sklearn.preprocessing import StandardScaler, PowerTransformer\n",
    "from sklearn.neighbors import KernelDensity\n",
    "import matplotlib.pyplot as plt\n",
    "import scipy\n",
    "import numpy as np\n",
    "import scipy.stats as st\n",
    "from sklearn.model_selection import LeaveOneOut\n",
    "from sklearn.model_selection import GridSearchCV"
   ]
  },
  {
   "cell_type": "code",
   "execution_count": null,
   "id": "402a690e-21c1-4a3b-9049-aa8d9972b9d2",
   "metadata": {},
   "outputs": [],
   "source": [
    "\n",
    "exclude = 'States'\n",
    "all_data = pd.read_csv('../data/raw/states.csv')\n",
    "\n",
    "X = all_data[set(all_data.columns).difference([exclude])].copy()\n",
    "display(X.describe())\n",
    "X.index=all_data[exclude]\n",
    "display(X)"
   ]
  },
  {
   "cell_type": "code",
   "execution_count": null,
   "id": "5a50b229-d965-4006-b694-5f334b46f2c0",
   "metadata": {},
   "outputs": [],
   "source": [
    "#integral of e^((-t^2)/2) from negative infinity to 11\n",
    "#https://www.wolframalpha.com/input/?i=integral+of+e%5E%28%28-t%5E2%29%2F2%29+from+negative+infinity+to+11&fbclid=IwAR2734hgH3UpMEtt_A1JgWt7CrstT1QtHZm517HyqspNwMpwBZX3PmwdXos\n",
    "\n",
    "#Use spyder\n",
    "import math\n",
    "from sympy import *\n",
    "import scipy\n",
    "import numpy as np\n",
    "\n",
    "\n",
    "init_printing()\n",
    "var('x,y')\n",
    "\n",
    "x = 0\n",
    "while x < np.inf:\n",
    "    #print(x)\n",
    "    x += 1\n",
    "    if x == 11:\n",
    "\n",
    "        break\n",
    "else:\n",
    "    y=math.e^(x^2/2)\n",
    "    \n",
    "integrate(y)\n",
    "\n",
    "plot(integrate(y))\n"
   ]
  },
  {
   "cell_type": "code",
   "execution_count": null,
   "id": "9a5b9460-c78d-4413-9156-2b4e3d10280f",
   "metadata": {},
   "outputs": [],
   "source": [
    "def ecdf2(values):\n",
    "        co = len(values)\n",
    "        externalArray = pd.DataFrame()\n",
    "        for d in range(0,len(values.columns)):\n",
    "            internalArray = []\n",
    "            for i in range(0,len(values.iloc[:,d])):\n",
    "                a = ( \\\n",
    "                    sum( ( values.iloc[:,d] <= values.iloc[:,d][i] ) ) + \\\n",
    "                    sum( ( values.iloc[:,d] <  values.iloc[:,d][i] ) ) \\\n",
    "                    ) / 2 / co\n",
    "                print(a)\n",
    "                internalArray.append(a)\n",
    "\n",
    "            externalArray = pd.concat([externalArray,pd.DataFrame(internalArray).round(2)],axis=1)\n",
    "\n",
    "        return(externalArray)\n"
   ]
  },
  {
   "cell_type": "code",
   "execution_count": null,
   "id": "5e948354-9e55-4cc2-bcf8-222509e7a4c9",
   "metadata": {},
   "outputs": [],
   "source": [
    "temp = np.array(range(0,10))#\n"
   ]
  },
  {
   "cell_type": "code",
   "execution_count": 224,
   "id": "e531c18d-8fa0-460c-912c-a773da6d24ea",
   "metadata": {},
   "outputs": [
    {
     "name": "stdout",
     "output_type": "stream",
     "text": [
      "0.0\n",
      "0.2535804549283909\n",
      "0.6750912664981746\n",
      "0.5515304689693906\n",
      "0.681830946363381\n",
      "0.5609379387812412\n",
      "0.6919404661611906\n",
      "0.5710474585790508\n",
      "0.7020499859590003\n",
      "0.5804549283909014\n",
      "0.8205560235888796\n",
      "0.9491715810165683\n",
      "0.9413086211738275\n",
      "0.9316203313675933\n",
      "0.9519797809604044\n",
      "0.9442572311148553\n",
      "0.9654591406908172\n",
      "0.9584386408312271\n",
      "0.9823083403538332\n",
      "0.9786576804268463\n",
      "1.0058972198820555\n"
     ]
    }
   ],
   "source": [
    "from scipy.integrate import simps\n",
    "from numpy import trapz\n",
    "\n",
    "import numpy as np\n",
    "\n",
    "def function(x):\n",
    "    return x**2\n",
    "\n",
    "x = [1,2,4]\n",
    "y = [1,1,2]\n",
    "\n",
    "print(x)\n",
    "print(y)\n",
    "\n",
    "# primitive :\n",
    "\n",
    "#print(\"area: \", 1.0 / 3.0 * ( x[len(x)-1]**3 - x[0]**3 ))\n",
    "\n",
    "# using Trapezoidal rule:\n",
    "\n",
    "area = trapz(y,x)\n",
    "print('area: ',area)\n",
    "\n",
    "# using Simpson's rule:\n",
    "\n",
    "area = simps(y,x,dx=1,axis=-1)\n",
    "print('area: ',area)\n",
    "\n",
    "import matplotlib.pyplot as plt\n",
    "%matplotlib inline\n",
    "plt.scatter(x, y)"
   ]
  },
  {
   "cell_type": "code",
   "execution_count": 28,
   "id": "2c8da9f0-bda1-476e-aaf9-1aa289bf7d72",
   "metadata": {},
   "outputs": [
    {
     "data": {
      "text/plain": [
       "[1, 3]"
      ]
     },
     "execution_count": 28,
     "metadata": {},
     "output_type": "execute_result"
    }
   ],
   "source": [
    "temp[0:2]"
   ]
  },
  {
   "cell_type": "code",
   "execution_count": 35,
   "id": "8f8ba0b0-1a2f-4f9c-950a-c3b5cadc4661",
   "metadata": {},
   "outputs": [
    {
     "data": {
      "text/plain": [
       "53.25"
      ]
     },
     "execution_count": 35,
     "metadata": {},
     "output_type": "execute_result"
    }
   ],
   "source": [
    "simps(temp[0:4], dx=1)"
   ]
  },
  {
   "cell_type": "code",
   "execution_count": 54,
   "id": "c270d200-cf83-4051-8d48-7ad0e3d93887",
   "metadata": {},
   "outputs": [
    {
     "name": "stdout",
     "output_type": "stream",
     "text": [
      "0.0\n",
      "1.0\n",
      "2.0\n",
      "3.4166666666666665\n",
      "5.666666666666666\n",
      "7.916666666666666\n",
      "11.666666666666666\n",
      "15.083333333333332\n",
      "17.666666666666664\n",
      "19.083333333333332\n",
      "20.0\n",
      "21.0\n",
      "124.49999999999999\n",
      "           0\n",
      "0   0.000000\n",
      "1   0.008032\n",
      "2   0.024096\n",
      "3   0.051539\n",
      "4   0.097055\n",
      "5   0.160643\n",
      "6   0.254351\n",
      "7   0.375502\n",
      "8   0.517403\n",
      "9   0.670683\n",
      "10  0.831325\n",
      "11  1.000000\n",
      "\n"
     ]
    },
    {
     "data": {
      "text/html": [
       "<div>\n",
       "<style scoped>\n",
       "    .dataframe tbody tr th:only-of-type {\n",
       "        vertical-align: middle;\n",
       "    }\n",
       "\n",
       "    .dataframe tbody tr th {\n",
       "        vertical-align: top;\n",
       "    }\n",
       "\n",
       "    .dataframe thead th {\n",
       "        text-align: right;\n",
       "    }\n",
       "</style>\n",
       "<table border=\"1\" class=\"dataframe\">\n",
       "  <thead>\n",
       "    <tr style=\"text-align: right;\">\n",
       "      <th></th>\n",
       "      <th>0</th>\n",
       "    </tr>\n",
       "  </thead>\n",
       "  <tbody>\n",
       "    <tr>\n",
       "      <th>0</th>\n",
       "      <td>NaN</td>\n",
       "    </tr>\n",
       "    <tr>\n",
       "      <th>1</th>\n",
       "      <td>0.008032</td>\n",
       "    </tr>\n",
       "    <tr>\n",
       "      <th>2</th>\n",
       "      <td>0.008032</td>\n",
       "    </tr>\n",
       "    <tr>\n",
       "      <th>3</th>\n",
       "      <td>0.011379</td>\n",
       "    </tr>\n",
       "    <tr>\n",
       "      <th>4</th>\n",
       "      <td>0.018072</td>\n",
       "    </tr>\n",
       "    <tr>\n",
       "      <th>5</th>\n",
       "      <td>0.018072</td>\n",
       "    </tr>\n",
       "    <tr>\n",
       "      <th>6</th>\n",
       "      <td>0.030120</td>\n",
       "    </tr>\n",
       "    <tr>\n",
       "      <th>7</th>\n",
       "      <td>0.027443</td>\n",
       "    </tr>\n",
       "    <tr>\n",
       "      <th>8</th>\n",
       "      <td>0.020750</td>\n",
       "    </tr>\n",
       "    <tr>\n",
       "      <th>9</th>\n",
       "      <td>0.011379</td>\n",
       "    </tr>\n",
       "    <tr>\n",
       "      <th>10</th>\n",
       "      <td>0.007363</td>\n",
       "    </tr>\n",
       "    <tr>\n",
       "      <th>11</th>\n",
       "      <td>0.008032</td>\n",
       "    </tr>\n",
       "  </tbody>\n",
       "</table>\n",
       "</div>"
      ],
      "text/plain": [
       "           0\n",
       "0        NaN\n",
       "1   0.008032\n",
       "2   0.008032\n",
       "3   0.011379\n",
       "4   0.018072\n",
       "5   0.018072\n",
       "6   0.030120\n",
       "7   0.027443\n",
       "8   0.020750\n",
       "9   0.011379\n",
       "10  0.007363\n",
       "11  0.008032"
      ]
     },
     "metadata": {},
     "output_type": "display_data"
    },
    {
     "data": {
      "text/html": [
       "<div>\n",
       "<style scoped>\n",
       "    .dataframe tbody tr th:only-of-type {\n",
       "        vertical-align: middle;\n",
       "    }\n",
       "\n",
       "    .dataframe tbody tr th {\n",
       "        vertical-align: top;\n",
       "    }\n",
       "\n",
       "    .dataframe thead th {\n",
       "        text-align: right;\n",
       "    }\n",
       "</style>\n",
       "<table border=\"1\" class=\"dataframe\">\n",
       "  <thead>\n",
       "    <tr style=\"text-align: right;\">\n",
       "      <th></th>\n",
       "      <th>0</th>\n",
       "    </tr>\n",
       "  </thead>\n",
       "  <tbody>\n",
       "    <tr>\n",
       "      <th>0</th>\n",
       "      <td>0.000000</td>\n",
       "    </tr>\n",
       "    <tr>\n",
       "      <th>1</th>\n",
       "      <td>0.008032</td>\n",
       "    </tr>\n",
       "    <tr>\n",
       "      <th>2</th>\n",
       "      <td>0.016064</td>\n",
       "    </tr>\n",
       "    <tr>\n",
       "      <th>3</th>\n",
       "      <td>0.027443</td>\n",
       "    </tr>\n",
       "    <tr>\n",
       "      <th>4</th>\n",
       "      <td>0.045515</td>\n",
       "    </tr>\n",
       "    <tr>\n",
       "      <th>5</th>\n",
       "      <td>0.063588</td>\n",
       "    </tr>\n",
       "    <tr>\n",
       "      <th>6</th>\n",
       "      <td>0.093708</td>\n",
       "    </tr>\n",
       "    <tr>\n",
       "      <th>7</th>\n",
       "      <td>0.121151</td>\n",
       "    </tr>\n",
       "    <tr>\n",
       "      <th>8</th>\n",
       "      <td>0.141901</td>\n",
       "    </tr>\n",
       "    <tr>\n",
       "      <th>9</th>\n",
       "      <td>0.153280</td>\n",
       "    </tr>\n",
       "    <tr>\n",
       "      <th>10</th>\n",
       "      <td>0.160643</td>\n",
       "    </tr>\n",
       "    <tr>\n",
       "      <th>11</th>\n",
       "      <td>0.168675</td>\n",
       "    </tr>\n",
       "  </tbody>\n",
       "</table>\n",
       "</div>"
      ],
      "text/plain": [
       "           0\n",
       "0   0.000000\n",
       "1   0.008032\n",
       "2   0.016064\n",
       "3   0.027443\n",
       "4   0.045515\n",
       "5   0.063588\n",
       "6   0.093708\n",
       "7   0.121151\n",
       "8   0.141901\n",
       "9   0.153280\n",
       "10  0.160643\n",
       "11  0.168675"
      ]
     },
     "metadata": {},
     "output_type": "display_data"
    },
    {
     "data": {
      "text/plain": [
       "[<matplotlib.lines.Line2D at 0x25ea6122040>]"
      ]
     },
     "execution_count": 54,
     "metadata": {},
     "output_type": "execute_result"
    },
    {
     "data": {
      "image/png": "[encoded data removed]",
      "text/plain": [
       "<Figure size 432x288 with 1 Axes>"
      ]
     },
     "metadata": {
      "needs_background": "light"
     },
     "output_type": "display_data"
    }
   ],
   "source": [
    "from __future__ import print_function\n",
    "#http://hyperphysics.phy-astr.gsu.edu/hbase/Math/derint.html\n",
    "\n",
    "import numpy as np\n",
    "from scipy.integrate import simps\n",
    "from numpy import trapz\n",
    "import pandas as pd\n",
    "import matplotlib.pyplot as plt\n",
    "\n",
    "temp = [1,1,1,2,2,3,4,3,2,1,1,1]\n",
    "\n",
    "#area2 = simps(temp[0:len(temp)], dx=1)\n",
    "\n",
    "#print(area2)\n",
    "data = []\n",
    "\n",
    "s = np.sum(temp)\n",
    "\n",
    "for i in range(1,len(temp)+1):\n",
    "    integral = simps(temp[0:i], dx=1)\n",
    "    #print(np.sum(temp[0:i]))\n",
    "    print(integral)\n",
    "    data.append(integral)\n",
    "    \n",
    "#print(data[-1])\n",
    "    \n",
    "print(np.sum(data))\n",
    "#data = pd.DataFrame(np.cumsum(data)/np.sum(data))\n",
    "data = pd.DataFrame(data/np.sum(data))\n",
    "print(np.cumsum(data))\n",
    "\n",
    "print()\n",
    "display(data.diff())\n",
    "plt.plot(data.diff())\n",
    "display(data)\n",
    "\n",
    "plt.plot(data)"
   ]
  },
  {
   "cell_type": "markdown",
   "id": "628fdf7b-7289-4cc8-bf5d-cd335245a78a",
   "metadata": {},
   "source": []
  },
  {
   "cell_type": "code",
   "execution_count": 238,
   "id": "72dc483b-f7aa-413d-9c3d-6b97d801e4f5",
   "metadata": {},
   "outputs": [
    {
     "name": "stdout",
     "output_type": "stream",
     "text": [
      "0    0.229517\n",
      "dtype: float64\n",
      "0.11494005533353827\n"
     ]
    }
   ],
   "source": [
    "print(np.mean(data))\n",
    "print(np.median(data))"
   ]
  },
  {
   "cell_type": "code",
   "execution_count": null,
   "id": "deeb4e3d-e449-466f-aefd-7ba9f12d92b5",
   "metadata": {},
   "outputs": [],
   "source": [
    "raw_pct"
   ]
  },
  {
   "cell_type": "code",
   "execution_count": null,
   "id": "a3752231-cdb2-4867-9011-bf0dcb4cbd54",
   "metadata": {},
   "outputs": [],
   "source": [
    "#plt.plot(X['Poverty'].sort_values(kind=\"quicksort\", ascending=True,key=abs))\n",
    "bandwidths = np.linspace(.01, 4, 20)\n",
    "grid = GridSearchCV(KernelDensity(kernel='gaussian'),\n",
    "                        {'bandwidth': bandwidths},\n",
    "                        )\n",
    "\n",
    "kde_pct = pd.DataFrame()\n",
    "#raw_pct = pd.DataFrame()\n",
    "\n",
    "#for i in X.columns:\n",
    "i='Poverty'\n",
    "print(i)\n",
    "og = X[[i]].sort_values(kind=\"quicksort\", by=i,ascending=True)\n",
    "og = pd.DataFrame(temp)\n",
    "raw_pct = ecdf2(og)\n",
    "og_pct = og\n",
    "grid.fit(og_pct)\n",
    "print(\"bandwidth: \" + str(grid.best_params_['bandwidth']))\n",
    "kde = KernelDensity(bandwidth=grid.best_params_['bandwidth'], kernel='gaussian')\n",
    "kde.fit(og_pct)\n",
    "logprobX = np.cumsum(np.exp(kde.score_samples(og_pct)))/np.sum(np.exp(kde.score_samples(og_pct)))\n",
    "logprobX = (pd.DataFrame(logprobX).shift(1).replace([np.inf, -np.inf, np.NaN], 0)+pd.DataFrame(logprobX))/2\n",
    "logprobX.index = og.index\n",
    "kde_pct = pd.concat([kde_pct,logprobX],axis=1)\n",
    "#raw_pct = pd.concat([raw_pct,og_pct],axis=1)\n",
    "display(st.norm.ppf(logprobX)[0])\n",
    "display(st.norm.ppf(logprobX)[len(logprobX)-1])\n",
    "display(X[[i]].min())\n",
    "display(X[[i]].max())\n",
    "\n",
    "data1 = raw_pct#np.exp(t)\n",
    "data2 = logprobX#np.sin(2 * np.pi * t)\n",
    "\n",
    "fig, ax1 = plt.subplots()\n",
    "\n",
    "color = 'tab:red'\n",
    "ax1.set_xlabel('index')\n",
    "ax1.set_ylabel('raw', color=color)\n",
    "ax1.plot(data1, color=color)\n",
    "plt.xticks(rotation = 90,size=8)\n",
    "ax1.tick_params(axis='y', labelcolor=color)\n",
    "\n",
    "ax2 = ax1.twinx()  # instantiate a second axes that shares the same x-axis\n",
    "\n",
    "color = 'tab:blue'\n",
    "ax2.set_ylabel('kde_pct', color=color)  # we already handled the x-label with ax1\n",
    "ax2.plot(data2, color=color)\n",
    "ax2.tick_params(axis='y', labelcolor=color)\n",
    "\n",
    "fig.tight_layout()  # otherwise the right y-label is slightly clipped\n",
    "plt.show()\n",
    "\n"
   ]
  },
  {
   "cell_type": "code",
   "execution_count": null,
   "id": "384c7ba3-beb1-44bb-b0e5-3009ee7f2eb7",
   "metadata": {},
   "outputs": [],
   "source": []
  },
  {
   "cell_type": "code",
   "execution_count": null,
   "id": "36e2cd95-90df-4b35-8ed9-e771f3410ded",
   "metadata": {},
   "outputs": [],
   "source": []
  },
  {
   "cell_type": "code",
   "execution_count": null,
   "id": "ad54d195-98cd-4916-ba81-e7eff063edde",
   "metadata": {},
   "outputs": [],
   "source": [
    "import numpy as np\n",
    "from sklearn.metrics import auc\n",
    "from sklearn import metrics\n",
    "\n",
    "dx = 5\n",
    "#xx = np.arange(1,100,dx)\n",
    "#yy = np.arange(1,100,dx)\n",
    "xx = X['Poverty'].sort_values(kind=\"quicksort\", ascending=True,key=abs)\n",
    "yy = np.full((1,len(X)), 1).ravel()\n",
    "\n",
    "print('computed AUC using sklearn.metrics.auc: {}'.format(auc(xx,yy)))\n",
    "fpr, tpr, thresholds = metrics.roc_curve(xx, yy, pos_label=2)\n",
    "auc(fpr, tpr)\n",
    "#print('computed AUC using np.trapz: {}'.format(np.trapz(yy, dx = dx)))"
   ]
  }
 ],
 "metadata": {
  "kernelspec": {
   "display_name": "Python 3 (ipykernel)",
   "language": "python",
   "name": "python3"
  },
  "language_info": {
   "codemirror_mode": {
    "name": "ipython",
    "version": 3
   },
   "file_extension": ".py",
   "mimetype": "text/x-python",
   "name": "python",
   "nbconvert_exporter": "python",
   "pygments_lexer": "ipython3",
   "version": "3.9.6"
  }
 },
 "nbformat": 4,
 "nbformat_minor": 5
}
