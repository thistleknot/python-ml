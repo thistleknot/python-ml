{
 "cells": [
  {
   "cell_type": "code",
   "execution_count": 1,
   "id": "8d8171ba-2e3c-4d11-a15d-aaf5f72e3e1c",
   "metadata": {},
   "outputs": [],
   "source": [
    "from k_means_constrained import KMeansConstrained\n",
    "import pandas as pd\n",
    "import numpy as np\n",
    "import matplotlib.pyplot as plt\n",
    "from sklearn.decomposition import PCA\n",
    "from sklearn.preprocessing import StandardScaler\n",
    "import rpy2\n",
    "import rpy2.robjects as ro\n",
    "import os\n",
    "from rpy2.robjects import pandas2ri\n",
    "from rpy2.robjects.conversion import localconverter\n",
    "from rpy2.robjects.packages import importr\n",
    "import time\n",
    "import random\n",
    "import time\n",
    "from numpy.random import seed\n",
    "from scipy.stats import f"
   ]
  },
  {
   "cell_type": "code",
   "execution_count": 2,
   "id": "dea69c1f-c25d-4ddf-8c3f-a82d3b52a3a8",
   "metadata": {},
   "outputs": [],
   "source": [
    "random.seed(time.time())\n",
    "seed(int(time.time()))"
   ]
  },
  {
   "cell_type": "code",
   "execution_count": 3,
   "id": "df36bef5-9f83-4e4c-a08e-6a5e86e6ec54",
   "metadata": {},
   "outputs": [
    {
     "name": "stdout",
     "output_type": "stream",
     "text": [
      "[0.4300452  0.64027541 0.75615596 0.82679405 0.88494424 0.92799797\n",
      " 0.96156524 0.98000444 0.99484731 1.        ]\n"
     ]
    }
   ],
   "source": [
    "df = pd.read_csv(\"https://raw.githubusercontent.com/thistleknot/Python-Stock/master/data/raw/states.csv\")\n",
    "\n",
    "x_std = StandardScaler().fit_transform(df.iloc[:,1:])\n",
    "\n",
    "pca = PCA(svd_solver='full')\n",
    "pca.fit(x_std)\n",
    "pca.explained_variance_\n",
    "print(pca.explained_variance_ratio_.cumsum())\n",
    "\n",
    "#pca = PCA(n_components=1)\n",
    "#pca.fit(X)\n",
    "X_pca = pd.DataFrame(pca.transform(x_std))"
   ]
  },
  {
   "cell_type": "code",
   "execution_count": null,
   "id": "6fdb5a93-a625-4f2d-956d-528163df49a8",
   "metadata": {},
   "outputs": [],
   "source": []
  },
  {
   "cell_type": "code",
   "execution_count": 4,
   "id": "734c9781-c770-4318-8294-0a32c431945d",
   "metadata": {},
   "outputs": [],
   "source": [
    "def findknee(xdata):\n",
    "    rate_of_change=(xdata[0]-xdata[-1])/(len(xdata)-1)\n",
    "    #print(rate_of_change)\n",
    "    delta = xdata-xdata[-1]\n",
    "    deltas = []\n",
    "    deltas.append(delta[0])\n",
    "    for d in range(1,len(xdata)):\n",
    "        deltas.append(deltas[d-1]-rate_of_change)\n",
    "    #print(deltas)\n",
    "    for d in range(0,len(xdata)):\n",
    "        deltas[d]=delta[d]-deltas[d]\n",
    "    return(np.round(np.abs(deltas)))\n"
   ]
  },
  {
   "cell_type": "code",
   "execution_count": 5,
   "id": "d43bd5ee-b85e-48d6-8dec-7f24c384deb6",
   "metadata": {},
   "outputs": [],
   "source": [
    "mink = 3\n",
    "maxk = 15"
   ]
  },
  {
   "cell_type": "code",
   "execution_count": 6,
   "id": "7ce16434-0dc0-44f8-8292-5f71559a305a",
   "metadata": {},
   "outputs": [],
   "source": [
    "init_min = 2\n",
    "init_max = 5"
   ]
  },
  {
   "cell_type": "code",
   "execution_count": null,
   "id": "9d8eda80-26eb-411e-97f2-34c3ec3ed0fd",
   "metadata": {},
   "outputs": [],
   "source": []
  },
  {
   "cell_type": "code",
   "execution_count": 7,
   "id": "bfebfd2f-0ede-40a8-ac97-eae56ee5a4dd",
   "metadata": {},
   "outputs": [],
   "source": [
    "def deriveANOVA(clf, df):\n",
    "\n",
    "    labels = clf.labels_\n",
    "    clusters = clf.n_clusters\n",
    "    centers = clf.cluster_centers_\n",
    "        \n",
    "    within_ss = []\n",
    "\n",
    "    for n in range(0,clusters):\n",
    "      #WSS means the sum of distances between the points and the corresponding centroids for each cluster\n",
    "      data = df[labels==(n)]\n",
    "      within_ss.append(((data - centers[n])**2).sum(1).sum())\n",
    "\n",
    "    WSS = total_within_ss = np.sum(within_ss)\n",
    "\n",
    "    print('wss',total_within_ss)\n",
    "\n",
    "    #sum of ((deviation from variable means) squared)\n",
    "    tot_ss = np.sum(np.sum((df-df.mean())**2))\n",
    "    print('tot_ss',tot_ss)\n",
    "\n",
    "    cluster_BSS = []\n",
    "    for n in range(0,clusters):\n",
    "      #sum((variable/column means cluster - variable/column means data)^2)*len(cluster members)\n",
    "      BSS = np.sum((df[labels==(n)].mean()-np.array(np.mean(df)))**2)*len(df[labels==(n)])\n",
    "      cluster_BSS.append(BSS)\n",
    "\n",
    "    BSS = np.sum(cluster_BSS)\n",
    "    print('bss',BSS)\n",
    "    \n",
    "    return(tot_ss, BSS, within_ss)\n",
    "\n",
    "def findOptimalK_ANOVA(df, mink=3, maxk=15, init_min=2, init_max=5):\n",
    "\n",
    "    tss = []\n",
    "    bss = []\n",
    "    wss = []\n",
    "\n",
    "    for k in range(mink,maxk):\n",
    "        print(k)\n",
    "\n",
    "        clf = KMeansConstrained(n_clusters=k, size_min=init_min, size_max=max(np.ceil(len(df)/k),init_max), init='k-means++', n_init=100, max_iter=100, tol=0.0001, verbose=False, random_state=None, copy_x=True, n_jobs=4)\n",
    "        clf.fit_predict(np.array(df))\n",
    "\n",
    "        tot_ss, BSS, within_ss = deriveANOVA(clf, df)\n",
    "       \n",
    "        wss.append(within_ss)\n",
    "        tss.append(tot_ss)\n",
    "        bss.append(BSS)\n",
    "\n",
    "    return(tss, bss, wss)\n",
    "    "
   ]
  },
  {
   "cell_type": "code",
   "execution_count": 8,
   "id": "dfbb8c5e-a2c3-49fd-aaa5-6bf4babec3a3",
   "metadata": {},
   "outputs": [
    {
     "name": "stdout",
     "output_type": "stream",
     "text": [
      "3\n",
      "wss 295.33541317305645\n",
      "tot_ss 500.00000000000006\n",
      "bss 204.6645868269436\n",
      "4\n",
      "wss 245.29889619365105\n",
      "tot_ss 500.00000000000006\n",
      "bss 254.7011038063491\n",
      "5\n",
      "wss 231.80753075697675\n",
      "tot_ss 500.00000000000006\n",
      "bss 268.1924692430233\n",
      "6\n",
      "wss 200.15853753701026\n",
      "tot_ss 500.00000000000006\n",
      "bss 299.8414624629898\n",
      "7\n",
      "wss 186.7875232985095\n",
      "tot_ss 500.00000000000006\n",
      "bss 313.2124767014906\n",
      "8\n",
      "wss 171.9166763698156\n",
      "tot_ss 500.00000000000006\n",
      "bss 328.08332363018457\n",
      "9\n",
      "wss 161.1570544501567\n",
      "tot_ss 500.00000000000006\n",
      "bss 338.8429455498434\n",
      "10\n",
      "wss 158.4622626120873\n",
      "tot_ss 500.00000000000006\n",
      "bss 341.5377373879128\n",
      "11\n",
      "wss 143.324547683454\n",
      "tot_ss 500.00000000000006\n",
      "bss 356.67545231654606\n",
      "12\n",
      "wss 131.4983010746918\n",
      "tot_ss 500.00000000000006\n",
      "bss 368.50169892530835\n",
      "13\n",
      "wss 123.91356506793547\n",
      "tot_ss 500.00000000000006\n",
      "bss 376.0864349320646\n",
      "14\n",
      "wss 115.88086086487225\n",
      "tot_ss 500.00000000000006\n",
      "bss 384.11913913512785\n"
     ]
    }
   ],
   "source": [
    "tss, bss, wss = findOptimalK_ANOVA(X_pca)"
   ]
  },
  {
   "cell_type": "code",
   "execution_count": null,
   "id": "722f6687-0a36-4df2-85a6-5ba396eda569",
   "metadata": {},
   "outputs": [],
   "source": []
  },
  {
   "cell_type": "code",
   "execution_count": 9,
   "id": "79affbf2-8392-40ae-8b86-cd57cacfe184",
   "metadata": {},
   "outputs": [
    {
     "name": "stdout",
     "output_type": "stream",
     "text": [
      "6\n"
     ]
    },
    {
     "name": "stderr",
     "output_type": "stream",
     "text": [
      "C:\\Users\\User\\AppData\\Local\\Temp/ipykernel_10152/407223187.py:7: RuntimeWarning: invalid value encountered in true_divide\n",
      "  temp_df = pd.DataFrame(bss_/wss_).replace([np.inf, -np.inf, np.NaN], 0)\n"
     ]
    },
    {
     "data": {
      "image/png": "[encoded data removed]",
      "text/plain": [
       "<Figure size 432x288 with 1 Axes>"
      ]
     },
     "metadata": {
      "needs_background": "light"
     },
     "output_type": "display_data"
    }
   ],
   "source": [
    "bss_ = findknee(bss)\n",
    "bss_ = bss_/np.max(bss_)\n",
    "\n",
    "wss_ = findknee(np.array(pd.DataFrame(wss).mean(1)))\n",
    "wss_ = wss_/np.max(wss_)\n",
    "\n",
    "temp_df = pd.DataFrame(bss_/wss_).replace([np.inf, -np.inf, np.NaN], 0)\n",
    "temp_df.index = np.array(range(0,len(wss_)))+mink\n",
    "plt.plot(temp_df)\n",
    "\n",
    "set_ = np.abs(temp_df-1)\n",
    "plt.plot(set_)\n",
    "#plt.plot(set_)\n",
    "optimal_k = np.nanargmin(set_)+mink\n",
    "\n",
    "print(optimal_k)"
   ]
  },
  {
   "cell_type": "code",
   "execution_count": null,
   "id": "1f771a86-a5da-49dd-ae87-321b9b87bddb",
   "metadata": {},
   "outputs": [],
   "source": []
  },
  {
   "cell_type": "code",
   "execution_count": 10,
   "id": "ec7b3208-436f-4967-9a34-dce4bfef90d1",
   "metadata": {},
   "outputs": [
    {
     "name": "stdout",
     "output_type": "stream",
     "text": [
      "wss 200.1585375370103\n",
      "tot_ss 500.00000000000006\n",
      "bss 299.8414624629898\n"
     ]
    }
   ],
   "source": [
    "clf = KMeansConstrained(n_clusters=optimal_k, size_min=init_min, size_max=max(np.ceil(len(df)/optimal_k),init_max), init='k-means++', n_init=100, max_iter=100, tol=0.0001, verbose=False, random_state=None, copy_x=True, n_jobs=4)\n",
    "clf.fit_predict(X_pca)\n",
    "\n",
    "labels = clf.labels_\n",
    "clusters = clf.n_clusters\n",
    "centers = clf.cluster_centers_\n",
    "\n",
    "tot_ss, BSS, within_ss = deriveANOVA(clf, X_pca)\n"
   ]
  },
  {
   "cell_type": "code",
   "execution_count": 11,
   "id": "ec667962-2b46-466d-8d7f-7403b9fb0e8e",
   "metadata": {},
   "outputs": [
    {
     "name": "stdout",
     "output_type": "stream",
     "text": [
      "F-Scores: [ 78.52330489  66.43137145  60.12298189 152.1336309   81.82322516\n",
      "  79.09952175]\n",
      "P-Scores: [1.11022302e-16 1.11022302e-16 1.11022302e-16 1.11022302e-16\n",
      " 1.11022302e-16 1.11022302e-16]\n"
     ]
    },
    {
     "data": {
      "image/png": "[encoded data removed]",
      "text/plain": [
       "<Figure size 432x288 with 1 Axes>"
      ]
     },
     "metadata": {
      "needs_background": "light"
     },
     "output_type": "display_data"
    }
   ],
   "source": [
    "dfn = (optimal_k-1)\n",
    "dfd = len(df)-(optimal_k)\n",
    "\n",
    "F_scores = (BSS/dfn)/(within_ss/(dfd))\n",
    "\n",
    "x = np.linspace(f.ppf(0.01, dfn, dfd),\n",
    "                f.ppf(0.99, dfn, dfd), 100)\n",
    "plt.plot(x, f.pdf(x, dfn, dfd),\n",
    "       'r-', lw=5, alpha=0.6, label='f pdf')\n",
    "\n",
    "print(\"F-Scores:\", F_scores)\n",
    "\n",
    "print(\"P-Scores:\", 1-f.cdf(F_scores, dfn, dfd))"
   ]
  },
  {
   "cell_type": "code",
   "execution_count": 12,
   "id": "86f31095-4ac3-4d15-8231-19ea99cca56f",
   "metadata": {},
   "outputs": [],
   "source": [
    "df['cluster'] = labels"
   ]
  },
  {
   "cell_type": "code",
   "execution_count": null,
   "id": "91dda2b3-758d-4d90-9bf5-3246b5f49bf3",
   "metadata": {},
   "outputs": [],
   "source": []
  },
  {
   "cell_type": "code",
   "execution_count": 13,
   "id": "d4f35942-d1ec-4fcd-9f32-d802860fc950",
   "metadata": {},
   "outputs": [
    {
     "name": "stdout",
     "output_type": "stream",
     "text": [
      "[1] \"C:/Users/User/Documents/R/R-4.1.2/library\"\n",
      "\n"
     ]
    }
   ],
   "source": [
    "wd = os.getcwd()\n",
    "\n",
    "if (os.defpath==\".;C:\\\\bin\"):\n",
    "    os.environ['R_HOME'] = 'C:/Users/User/Documents/R/R-4.1.2'\n",
    "    os.environ['R_LIBS'] = 'C:/Users/User/Documents/R/R-4.1.2/library'\n",
    "    from OLS_LR_DiagnosticPlots.ModelDiagnostics import Plot\n",
    "else:\n",
    "    os.environ['R_HOME'] = '/mnt/distvol/R/4.0.5/lib64/R/'\n",
    "\n",
    "pandas2ri.activate()\n",
    "\n",
    "base = importr('base')\n",
    "grdevices = importr('grDevices')\n",
    "print(base._libPaths())\n",
    "\n",
    "#urbnmapr = importr('urbnmapr')\n",
    "dplyr = importr('dplyr')\n",
    "tidyverse = importr('tidyverse')\n",
    "\n",
    "with localconverter(ro.default_converter + pandas2ri.converter):\n",
    "      r_from_pd_df = ro.conversion.py2rpy(df)\n"
   ]
  },
  {
   "cell_type": "code",
   "execution_count": null,
   "id": "3793c7ea-dcfd-4cb7-8b60-f27acc393aec",
   "metadata": {},
   "outputs": [],
   "source": []
  },
  {
   "cell_type": "code",
   "execution_count": 14,
   "id": "1f886a15-f465-4402-a405-097f12cb4cef",
   "metadata": {},
   "outputs": [
    {
     "name": "stderr",
     "output_type": "stream",
     "text": [
      "R[write to console]: Loading required package: viridisLite\n",
      "\n",
      "R[write to console]: old-style crs object detected; please recreate object with a recent sf::st_crs()\n",
      "\n"
     ]
    },
    {
     "name": "stdout",
     "output_type": "stream",
     "text": [
      "[1] \"C:\\\\Users\\\\User\\\\Documents\\\\wiki\\\\wiki\\\\dev\\\\R\\\\clusterMap.png\"\n"
     ]
    },
    {
     "name": "stderr",
     "output_type": "stream",
     "text": [
      "R[write to console]: old-style crs object detected; please recreate object with a recent sf::st_crs()\n",
      "\n"
     ]
    },
    {
     "name": "stdout",
     "output_type": "stream",
     "text": [
      "[1] \"Poverty\"\n",
      "Joining, by = \"name\"\n",
      "[1] \"Infant Mort\"\n",
      "Joining, by = \"name\"\n",
      "[1] \"White\"\n",
      "Joining, by = \"name\"\n",
      "[1] \"Crime\"\n",
      "Joining, by = \"name\"\n",
      "[1] \"Doctors\"\n",
      "Joining, by = \"name\"\n",
      "[1] \"Traf Deaths\"\n",
      "Joining, by = \"name\"\n",
      "[1] \"University\"\n",
      "Joining, by = \"name\"\n",
      "[1] \"Unemployed\"\n",
      "Joining, by = \"name\"\n",
      "[1] \"Income\"\n",
      "Joining, by = \"name\"\n",
      "[1] \"Population\"\n",
      "Joining, by = \"name\"\n"
     ]
    }
   ],
   "source": [
    "ro.r('''\n",
    "\n",
    "f <- function(df) {\n",
    "library(urbnmapr)\n",
    "library(viridis)\n",
    "library(hrbrthemes)\n",
    "library(dplyr)\n",
    "#print(df)\n",
    "spatial_data <- left_join(get_urbn_map(map = \"states\", sf = TRUE),\n",
    "                          statedata,\n",
    "                          by = \"state_name\")\n",
    "\n",
    "spatial_data <- spatial_data[spatial_data$state_name %in% df$States,] %>% left_join(df, by = c('state_name' = 'States'))\n",
    "spatial_data$cluster <- factor(spatial_data$cluster)\n",
    "\n",
    "print(paste(\"C:\\\\\\\\Users\\\\\\\\User\\\\\\\\Documents\\\\\\\\wiki\\\\\\\\wiki\\\\\\\\dev\\\\\\\\R\\\\\\\\\",\"clusterMap\",sep = \"\",\".png\"),width = 1200, height = 800, units = \"px\", pointsize = 12, quality = 90)\n",
    "jpeg(paste(\"C:\\\\\\\\Users\\\\\\\\User\\\\\\\\Documents\\\\\\\\wiki\\\\\\\\wiki\\\\\\\\dev\\\\\\\\R\\\\\\\\\",\"clusterMap\",sep = \"\",\".png\"),width = 1200, height = 800, units = \"px\", pointsize = 12, quality = 90)\n",
    "\n",
    "p <- ggplot() +\n",
    "  geom_sf(spatial_data,\n",
    "          mapping = aes(fill = cluster),\n",
    "          color = \"#ffffff\", size = 0.25) + scale_fill_discrete() +\n",
    "  geom_sf_text(data = get_urbn_labels(map = \"states\", sf = TRUE), \n",
    "               aes(label = state_abbv), \n",
    "               size = 3)\n",
    "  labs(fill = \"cluster\")\n",
    "\n",
    "plot(p)\n",
    "dev.off() \n",
    "\n",
    "sample_size = df %>% group_by(cluster) %>% summarize(num=n())  \n",
    "\n",
    "# sample size\n",
    "  \n",
    "for (c in colnames(df)[2:(length(colnames(df))-1)])\n",
    "{\n",
    "  print(c)\n",
    "  colnames(sample_size) <- c(\"name\",\"num\")\n",
    "  \n",
    "  data <- as_data_frame(cbind(df[,c(\"cluster\"),drop=FALSE],df[,c,drop=FALSE]))\n",
    "  colnames(data) <- c(\"name\",\"value\")\n",
    "  \n",
    "  jpeg(paste(\"C:\\\\\\\\Users\\\\\\\\User\\\\\\\\Documents\\\\\\\\wiki\\\\\\\\wiki\\\\\\\\dev\\\\\\\\R\\\\\\\\\",\"clusterMap-\",c,sep = \"\",\".png\"),width = 1200, height = 800, units = \"px\", pointsize = 12, quality = 90)\n",
    "  # Plot\n",
    "  plot(\n",
    "  data %>%\n",
    "    left_join(sample_size) %>%\n",
    "    mutate(myaxis = paste0(name, \"\\n\", \"n=\", num)) %>%\n",
    "    ggplot( aes(x=myaxis, y=value, fill=name)) +\n",
    "    geom_violin(width=1.4) +\n",
    "    geom_boxplot(width=0.1, color=\"grey\", alpha=0.2) +\n",
    "    scale_fill_viridis(discrete = FALSE) +\n",
    "    theme_ipsum() +\n",
    "    theme(\n",
    "      legend.position=\"none\",\n",
    "      plot.title = element_text(size=16)\n",
    "    ) +\n",
    "    ggtitle(c) #+\n",
    "    #xlab(\"\")  + ylab(c)\n",
    "  )\n",
    "  dev.off()\n",
    "}\n",
    "#print(df)\n",
    "#return(df)\n",
    "}\n",
    "\n",
    "''')\n",
    "\n",
    "r_f = ro.globalenv['f']\n",
    "d=(r_f(r_from_pd_df))\n"
   ]
  },
  {
   "cell_type": "code",
   "execution_count": null,
   "id": "65f8f9e4-7ced-40b9-8ea1-b0a723c4f11d",
   "metadata": {},
   "outputs": [],
   "source": [
    "\n",
    "\n",
    "\n",
    "\n",
    "\n",
    "\n",
    "\n",
    " \n",
    "\n"
   ]
  }
 ],
 "metadata": {
  "kernelspec": {
   "display_name": "Python 3 (ipykernel)",
   "language": "python",
   "name": "python3"
  },
  "language_info": {
   "codemirror_mode": {
    "name": "ipython",
    "version": 3
   },
   "file_extension": ".py",
   "mimetype": "text/x-python",
   "name": "python",
   "nbconvert_exporter": "python",
   "pygments_lexer": "ipython3",
   "version": "3.9.7"
  }
 },
 "nbformat": 4,
 "nbformat_minor": 5
}
