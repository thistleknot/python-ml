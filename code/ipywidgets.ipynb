{
 "cells": [
  {
   "cell_type": "code",
   "execution_count": 239,
   "id": "c1eeb588-d5bc-4fc1-bf41-6d52ebbefcf7",
   "metadata": {},
   "outputs": [],
   "source": [
    "from __future__ import print_function\n",
    "from ipywidgets import interact, interactive, fixed, interact_manual\n",
    "import ipywidgets as widgets\n",
    "from ipywidgets import FloatSlider\n",
    "import pandas as pd\n",
    "import sklearn\n",
    "import statsmodels.api as sm\n",
    "from statsmodels.stats.outliers_influence import OLSInfluence\n",
    "import numpy as np\n",
    "import seaborn as sns\n",
    "import shap\n",
    "import matplotlib.pyplot as plt\n",
    "import sklearn.preprocessing as skp\n",
    "import pingouin as pg\n",
    "from OLS_LR_DiagnosticPlots.ModelDiagnostics import Plot\n",
    "import numpy as np\n",
    "from scipy import linalg\n",
    "import scipy\n",
    "from sklearn.utils import check_array, as_float_array\n",
    "from sklearn.base import TransformerMixin, BaseEstimator"
   ]
  },
  {
   "cell_type": "code",
   "execution_count": null,
   "id": "b90d0183-5feb-461d-b3f3-497e72fead43",
   "metadata": {},
   "outputs": [],
   "source": []
  },
  {
   "cell_type": "code",
   "execution_count": null,
   "id": "ddea09b8-e499-4185-b9a5-c6fa4d530113",
   "metadata": {},
   "outputs": [],
   "source": [
    "def MAPE(Y_actual,Y_Predicted):\n",
    "    mape = np.mean(np.abs((Y_actual - Y_Predicted)/Y_actual))*100\n",
    "    return mape"
   ]
  },
  {
   "cell_type": "code",
   "execution_count": null,
   "id": "cccd960d-bca6-46bd-8c2a-79a389ae0036",
   "metadata": {},
   "outputs": [],
   "source": [
    "def whiten(X, method='zca'):\n",
    "\t\t\"\"\"\n",
    "\t\tWhitens the input matrix X using specified whitening method.\n",
    "\t\tInputs:\n",
    "\t\t\tX:      Input data matrix with data examples along the first dimension\n",
    "\t\t\tmethod: Whitening method. Must be one of 'zca', 'zca_cor', 'pca',\n",
    "\t\t\t\t\t'pca_cor', or 'cholesky'.\n",
    "\t\t\"\"\"\n",
    "\t\tX = X.reshape((-1, np.prod(X.shape[1:])))\n",
    "\t\tX_centered = X - np.mean(X, axis=0)\n",
    "\t\tSigma = np.dot(X_centered.T, X_centered) / X_centered.shape[0]\n",
    "\t\tW = None\n",
    "\t\tif method in ['zca', 'pca', 'cholesky']:\n",
    "\t\t\tU, Lambda, _ = np.linalg.svd(Sigma)\n",
    "\t\t\tif method == 'zca':\n",
    "\t\t\t\tW = np.dot(U, np.dot(np.diag(1.0 / np.sqrt(Lambda + 1e-5)), U.T))\n",
    "\t\t\telif method =='pca':\n",
    "\t\t\t\tW = np.dot(np.diag(1.0 / np.sqrt(Lambda + 1e-5)), U.T)\n",
    "\t\t\telif method == 'cholesky':\n",
    "\t\t\t\tW = np.linalg.cholesky(np.dot(U, np.dot(np.diag(1.0 / (Lambda + 1e-5)), U.T))).T\n",
    "\t\telif method in ['zca_cor', 'pca_cor']:\n",
    "\t\t\tV_sqrt = np.diag(np.std(X, axis=0))\n",
    "\t\t\tP = np.dot(np.dot(np.linalg.inv(V_sqrt), Sigma), np.linalg.inv(V_sqrt))\n",
    "\t\t\tG, Theta, _ = np.linalg.svd(P)\n",
    "\t\t\tif method == 'zca_cor':\n",
    "\t\t\t\tW = np.dot(np.dot(G, np.dot(np.diag(1.0 / np.sqrt(Theta + 1e-5)), G.T)), np.linalg.inv(V_sqrt))\n",
    "\t\t\telif method == 'pca_cor':\n",
    "\t\t\t\tW = np.dot(np.dot(np.diag(1.0/np.sqrt(Theta + 1e-5)), G.T), np.linalg.inv(V_sqrt))\n",
    "\t\telse:\n",
    "\t\t\traise Exception('Whitening method not found.')\n",
    "\t\treturn np.dot(X_centered, W.T)"
   ]
  },
  {
   "cell_type": "code",
   "execution_count": null,
   "id": "3dcdf987-3ad3-44dc-a884-6683e809bcba",
   "metadata": {},
   "outputs": [],
   "source": [
    "df_ = pd.read_csv(\"https://raw.githubusercontent.com/thistleknot/Python-Stock/master/data/raw/states.csv\") "
   ]
  },
  {
   "cell_type": "code",
   "execution_count": null,
   "id": "c11a238d-2087-483c-bf26-3768af498b92",
   "metadata": {},
   "outputs": [],
   "source": [
    "df = sm.add_constant(df_)[[*df_.columns,'const']]"
   ]
  },
  {
   "cell_type": "code",
   "execution_count": null,
   "id": "002f2624-563c-43f4-80b3-18bf9a11c778",
   "metadata": {},
   "outputs": [],
   "source": [
    "df"
   ]
  },
  {
   "cell_type": "code",
   "execution_count": null,
   "id": "71e9095a-0a07-4c8d-80d6-6fcfe837de70",
   "metadata": {},
   "outputs": [],
   "source": []
  },
  {
   "cell_type": "code",
   "execution_count": null,
   "id": "a22b920a-7cd6-4517-be06-3d0742ed3cae",
   "metadata": {},
   "outputs": [],
   "source": []
  },
  {
   "cell_type": "code",
   "execution_count": 280,
   "id": "3233c004-5646-40d3-8640-b5269ed07fc7",
   "metadata": {},
   "outputs": [
    {
     "data": {
      "text/plain": [
       "Index(['Poverty', 'Infant Mort', 'White', 'Crime', 'Doctors', 'Traf Deaths',\n",
       "       'University', 'Unemployed', 'Income', 'Population'],\n",
       "      dtype='object')"
      ]
     },
     "execution_count": 280,
     "metadata": {},
     "output_type": "execute_result"
    }
   ],
   "source": []
  },
  {
   "cell_type": "code",
   "execution_count": null,
   "id": "db739108-0491-4560-bb80-f4456c568744",
   "metadata": {},
   "outputs": [],
   "source": [
    "#df[['Poverty', 'White', 'Traf Deaths', 'University', 'Unemployed', 'Income', 'Population']]"
   ]
  },
  {
   "cell_type": "code",
   "execution_count": 289,
   "id": "f0fc19ba-db4b-49b9-ad93-145c65f1db39",
   "metadata": {},
   "outputs": [
    {
     "data": {
      "application/vnd.jupyter.widget-view+json": {
       "model_id": "cc1a2c0f3808445f84b52e80f3ba7d04",
       "version_major": 2,
       "version_minor": 0
      },
      "text/plain": [
       "Checkbox(value=False)"
      ]
     },
     "metadata": {},
     "output_type": "display_data"
    }
   ],
   "source": []
  },
  {
   "cell_type": "code",
   "execution_count": 290,
   "id": "85ab5b9b-952d-4811-8621-658febe02bda",
   "metadata": {},
   "outputs": [
    {
     "data": {
      "text/plain": [
       "True"
      ]
     },
     "execution_count": 290,
     "metadata": {},
     "output_type": "execute_result"
    }
   ],
   "source": []
  },
  {
   "cell_type": "code",
   "execution_count": 296,
   "id": "4e3d5233-8a1e-4b9c-a46d-e19fed2780f2",
   "metadata": {},
   "outputs": [
    {
     "data": {
      "application/vnd.jupyter.widget-view+json": {
       "model_id": "a75d2cd99091435c92acfe38beb724e9",
       "version_major": 2,
       "version_minor": 0
      },
      "text/plain": [
       "interactive(children=(Select(description='y', options=('Poverty', 'Infant Mort', 'White', 'Crime', 'Doctors', …"
      ]
     },
     "metadata": {},
     "output_type": "display_data"
    }
   ],
   "source": [
    "def return_model_subset(x,y,autoremove):\n",
    "    #print(x)\n",
    "    names = [y,*x]\n",
    "    print(names)\n",
    "    \n",
    "    shap.initjs()\n",
    "    \n",
    "    data = df[names].sort_values(kind=\"quicksort\", by=names[0], ascending=True,key=abs).copy()\n",
    "    \n",
    "    loop=True\n",
    "    \n",
    "    removes = []\n",
    "    if(autoremove):\n",
    "        while(loop==True):\n",
    "\n",
    "            x_names = data.columns[~data.columns.isin([item for item in [y,*removes]])]\n",
    "\n",
    "            #x_scores = data[[y,*x_names]].pcorr()[[y]]\n",
    "\n",
    "            x_scores = pd.concat([data[y],pd.DataFrame(whiten(np.array(data[x_names])),columns=x_names).set_index(data.index)],axis=1).pcorr()[[y]]\n",
    "\n",
    "            #print(x_scores.loc[~x_scores.index.isin([y])])\n",
    "\n",
    "            print(x_names)\n",
    "\n",
    "            index_set = data.index\n",
    "\n",
    "            test_results = x_scores\n",
    "\n",
    "            n = len(index_set)\n",
    "            df_ = n - 2\n",
    "\n",
    "            t=abs(test_results)*np.sqrt(df_)/np.sqrt(1-abs(test_results)**2)\n",
    "\n",
    "            test_results_least = t.iloc[[np.argmin(abs(t))]].index[0]\n",
    "\n",
    "            t_score_least = t.iloc[[np.argmin(abs(t))]]\n",
    "\n",
    "            crit_t = scipy.stats.t.ppf(1 - .05 / 2, df_)\n",
    "\n",
    "            if(np.isnan(t_score_least.values[0][0])):\n",
    "                remove = test_results_least\n",
    "                removes.append(remove)\n",
    "\n",
    "            if((t.loc[test_results_least]<crit_t)[0]):\n",
    "                remove = test_results_least\n",
    "                #print(remove,t_score_least.values[0][0])\n",
    "                removes.append(remove)\n",
    "\n",
    "            if((t.loc[test_results_least]>crit_t)[0]):\n",
    "                loop=False\n",
    "\n",
    "            if(len(x_names)==1):\n",
    "                loop=False\n",
    "    else:\n",
    "        x_names = data.columns[~data.columns.isin([item for item in [y,*removes]])]\n",
    "\n",
    "    print(x_names)\n",
    "    \n",
    "    #X = data.iloc[:,1:]\n",
    "    \n",
    "    X = data[x_names]\n",
    "   \n",
    "    X_ = pd.DataFrame(whiten(np.array(X)),columns=X.columns).set_index(X.index)\n",
    "    X_.index = X.index\n",
    "    X_.columns = X.columns\n",
    "    X = X_\n",
    "    #print(X)\n",
    "    #Y = scale(data.iloc[:,0], scale=True)\n",
    "    Y = pd.DataFrame(skp.scale(data.iloc[:,0], with_mean=True, with_std=True))\n",
    "    Y.columns = [y]\n",
    "    Y.index = data.iloc[:,0].index\n",
    "    \n",
    "    model = sklearn.linear_model.LinearRegression()\n",
    "    \n",
    "    model.fit(X, Y)\n",
    "    model_ = sm.OLS(Y,X)\n",
    "    results = model_.fit()\n",
    "    #shap\n",
    "    background = np.array(X)\n",
    "    e = shap.LinearExplainer(model, X)\n",
    "    \n",
    "    shap_values = e.shap_values(np.array(X))\n",
    "    shap.summary_plot(shap_values, -np.array(X))\n",
    "    explainer = shap.Explainer(model, X)\n",
    "    shap.plots.heatmap(explainer(X))\n",
    " \n",
    "    predict = results.predict(X.loc[Y.index])\n",
    "    plt.plot(np.array(Y))\n",
    "    plt.plot(np.array(predict))\n",
    "    plt.show()\n",
    "    \n",
    "    corrMatrix = pd.concat([Y,X],axis=1).corr().sort_values(kind=\"quicksort\", by=names[0], ascending=True,key=abs)\n",
    "    sns.heatmap(corrMatrix, annot=True)\n",
    "    plt.show()\n",
    "    \n",
    "    corrMatrix = pd.concat([Y,X],axis=1).pcorr().sort_values(kind=\"quicksort\", by=names[0], ascending=True,key=abs)\n",
    "    sns.heatmap(corrMatrix, annot=True)\n",
    "    plt.show()\n",
    "    \n",
    "    (predict-Y[y]).hist()\n",
    "    plt.show()\n",
    "    #(predict-Y).hist()\n",
    "    \n",
    "    print(\"mape:\",MAPE(Y[y],predict))\n",
    "    \n",
    "    linear_plot = Plot.LinearRegressionResidualPlot(X.values, Y.values)\n",
    "    lm = linear_plot.fit()\n",
    "    summary, diag_res = linear_plot.diagnostic_plots(lm)\n",
    "    #print(\"Summary of Regression\\n:{}\".format(summary))\n",
    "    print(\"Diagnostic Tests of Regression\\n:{}\".format(diag_res))\n",
    "    sns.set_theme(style=\"ticks\")\n",
    "    \n",
    "    temp = pd.concat([Y,X],axis=1)\n",
    "    temp.index = df['States'].loc[X.index]\n",
    "    sns.pairplot(temp)\n",
    "    return([results.summary(),temp])\n",
    "\n",
    "def derive_xnames(y):\n",
    "    x_ = widgets.SelectMultiple(\n",
    "        options=df.columns[~df.columns.isin([y])][1:],\n",
    "        value=[df.columns[~df.columns.isin([y])][1]],\n",
    "        disabled=False\n",
    "    )\n",
    "    autoremove = widgets.Checkbox()\n",
    "    subset = interact(return_model_subset,x=x_,y=y,autoremove=autoremove)\n",
    "\n",
    "    return(subset)\n",
    "\n",
    "y=widgets.Select(options=df.columns[1:-1],disabled=False)\n",
    "\n",
    "a=interact(derive_xnames,y=y)\n",
    "\n"
   ]
  },
  {
   "cell_type": "code",
   "execution_count": null,
   "id": "1ff19916-6a97-4b0d-9779-f046d042f6a3",
   "metadata": {},
   "outputs": [],
   "source": []
  }
 ],
 "metadata": {
  "kernelspec": {
   "display_name": "Python 3 (ipykernel)",
   "language": "python",
   "name": "python3"
  },
  "language_info": {
   "codemirror_mode": {
    "name": "ipython",
    "version": 3
   },
   "file_extension": ".py",
   "mimetype": "text/x-python",
   "name": "python",
   "nbconvert_exporter": "python",
   "pygments_lexer": "ipython3",
   "version": "3.9.7"
  }
 },
 "nbformat": 4,
 "nbformat_minor": 5
}
