{
 "cells": [
  {
   "cell_type": "code",
   "execution_count": null,
   "id": "c1eeb588-d5bc-4fc1-bf41-6d52ebbefcf7",
   "metadata": {},
   "outputs": [],
   "source": [
    "from __future__ import print_function\n",
    "from ipywidgets import interact, interactive, fixed, interact_manual\n",
    "import ipywidgets as widgets\n",
    "from ipywidgets import FloatSlider\n",
    "import pandas as pd\n",
    "import sklearn\n",
    "import statsmodels.api as sm\n",
    "from statsmodels.stats.outliers_influence import OLSInfluence\n",
    "import numpy as np\n",
    "import seaborn as sns\n",
    "import shap\n",
    "import matplotlib.pyplot as plt"
   ]
  },
  {
   "cell_type": "code",
   "execution_count": null,
   "id": "3dcdf987-3ad3-44dc-a884-6683e809bcba",
   "metadata": {},
   "outputs": [],
   "source": [
    "df_ = pd.read_csv(\"https://raw.githubusercontent.com/thistleknot/Python-Stock/master/data/raw/states.csv\") "
   ]
  },
  {
   "cell_type": "code",
   "execution_count": null,
   "id": "c11a238d-2087-483c-bf26-3768af498b92",
   "metadata": {},
   "outputs": [],
   "source": [
    "df = sm.add_constant(df_)[[*df_.columns,'const']]"
   ]
  },
  {
   "cell_type": "code",
   "execution_count": null,
   "id": "002f2624-563c-43f4-80b3-18bf9a11c778",
   "metadata": {},
   "outputs": [],
   "source": [
    "df"
   ]
  },
  {
   "cell_type": "code",
   "execution_count": null,
   "id": "db739108-0491-4560-bb80-f4456c568744",
   "metadata": {},
   "outputs": [],
   "source": [
    "#df[['Poverty', 'White', 'Traf Deaths', 'University', 'Unemployed', 'Income', 'Population']]"
   ]
  },
  {
   "cell_type": "code",
   "execution_count": 139,
   "id": "4e3d5233-8a1e-4b9c-a46d-e19fed2780f2",
   "metadata": {},
   "outputs": [
    {
     "data": {
      "application/vnd.jupyter.widget-view+json": {
       "model_id": "308bd61e6e27475391e66e6bd6ebe7b2",
       "version_major": 2,
       "version_minor": 0
      },
      "text/plain": [
       "interactive(children=(Select(description='y', options=('Poverty', 'Infant Mort', 'White', 'Crime', 'Doctors', …"
      ]
     },
     "metadata": {},
     "output_type": "display_data"
    }
   ],
   "source": [
    "def return_model(x,y):\n",
    "    #print(x)\n",
    "    names = [y,*x]\n",
    "    print(names)\n",
    "    #print()\n",
    "    shap.initjs()\n",
    "    \n",
    "    data = df[names].sort_values(kind=\"quicksort\", by=names[0], ascending=True,key=abs)\n",
    "    X = data.iloc[:,1:]\n",
    "    Y = data.iloc[:,0]\n",
    "    \n",
    "    model = sklearn.linear_model.LinearRegression()\n",
    "    \n",
    "    model.fit(X, Y)\n",
    "    model_ = sm.OLS(Y,X)\n",
    "    results = model_.fit()\n",
    "    #shap\n",
    "    background = np.array(X)\n",
    "    e = shap.LinearExplainer(model, X)\n",
    "    \n",
    "    shap_values = e.shap_values(np.array(X))\n",
    "    shap.summary_plot(shap_values, -np.array(X))\n",
    "    explainer = shap.Explainer(model, X)\n",
    "    shap.plots.heatmap(explainer(X))\n",
    "    \n",
    "    Y_sort = Y.sort_values(kind=\"quicksort\", ascending=True,key=abs)\n",
    "    predict = results.predict(X.loc[Y_sort.index])\n",
    "    plt.plot(np.array(Y_sort))\n",
    "    plt.plot(np.array(predict))\n",
    "    \n",
    "    #return([data,results.summary()])\n",
    "    return(results.summary())\n",
    "\n",
    "def derive_xnames(y):\n",
    "    x_ = widgets.SelectMultiple(\n",
    "        options=df.columns[~df.columns.isin([y])][1:],\n",
    "        value=[df.columns[~df.columns.isin([y])][1]],\n",
    "        disabled=False\n",
    "    )\n",
    "    subset = interact(return_model,x=x_,y=y)\n",
    "\n",
    "    return(subset)\n",
    "\n",
    "y=y=widgets.Select(options=df.columns[1:],disabled=False)\n",
    "\n",
    "a=interact(derive_xnames,y=y)\n",
    "\n"
   ]
  },
  {
   "cell_type": "code",
   "execution_count": null,
   "id": "1ff19916-6a97-4b0d-9779-f046d042f6a3",
   "metadata": {},
   "outputs": [],
   "source": []
  }
 ],
 "metadata": {
  "kernelspec": {
   "display_name": "Python 3 (ipykernel)",
   "language": "python",
   "name": "python3"
  },
  "language_info": {
   "codemirror_mode": {
    "name": "ipython",
    "version": 3
   },
   "file_extension": ".py",
   "mimetype": "text/x-python",
   "name": "python",
   "nbconvert_exporter": "python",
   "pygments_lexer": "ipython3",
   "version": "3.9.7"
  }
 },
 "nbformat": 4,
 "nbformat_minor": 5
}
