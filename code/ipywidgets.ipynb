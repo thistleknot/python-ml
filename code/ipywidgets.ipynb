{
 "cells": [
  {
   "cell_type": "code",
   "execution_count": null,
   "id": "c1eeb588-d5bc-4fc1-bf41-6d52ebbefcf7",
   "metadata": {},
   "outputs": [],
   "source": [
    "from __future__ import print_function\n",
    "from ipywidgets import interact, interactive, fixed, interact_manual\n",
    "import ipywidgets as widgets\n",
    "from ipywidgets import FloatSlider\n",
    "import pandas as pd\n",
    "import sklearn\n",
    "import statsmodels.api as sm\n",
    "from statsmodels.stats.outliers_influence import OLSInfluence\n",
    "import numpy as np\n",
    "import seaborn as sns\n",
    "import shap\n",
    "import matplotlib.pyplot as plt\n",
    "import sklearn.preprocessing as skp\n",
    "import pingouin as pg"
   ]
  },
  {
   "cell_type": "code",
   "execution_count": null,
   "id": "b90d0183-5feb-461d-b3f3-497e72fead43",
   "metadata": {},
   "outputs": [],
   "source": [
    "import numpy as np\n",
    "from scipy import linalg\n",
    "from sklearn.utils import check_array, as_float_array\n",
    "from sklearn.base import TransformerMixin, BaseEstimator\n",
    "\n",
    "\n",
    "class ZCA(BaseEstimator, TransformerMixin):\n",
    "\n",
    "    def __init__(self, regularization=10**-5, copy=False):\n",
    "        self.regularization = regularization\n",
    "        self.copy = copy\n",
    "\n",
    "    def fit(self, X, y=None):\n",
    "        X = check_array(X)\n",
    "        X = as_float_array(X, copy = self.copy)\n",
    "        self.mean_ = np.mean(X, axis=0)\n",
    "        X -= self.mean_\n",
    "        sigma = np.dot(X.T,X) / X.shape[1]\n",
    "        U, S, V = linalg.svd(sigma)\n",
    "        tmp = np.dot(U, np.diag(1/np.sqrt(S+self.regularization)))\n",
    "        self.components_ = np.dot(tmp, U.T)\n",
    "        return self\n",
    "\n",
    "    def transform(self, X):\n",
    "        X = check_array(X)\n",
    "        X_transformed = X - self.mean_\n",
    "        X_transformed = np.dot(X_transformed, self.components_.T)\n",
    "        return X_transformed"
   ]
  },
  {
   "cell_type": "code",
   "execution_count": null,
   "id": "cccd960d-bca6-46bd-8c2a-79a389ae0036",
   "metadata": {},
   "outputs": [],
   "source": [
    "def whiten(X, method='zca'):\n",
    "\t\t\"\"\"\n",
    "\t\tWhitens the input matrix X using specified whitening method.\n",
    "\t\tInputs:\n",
    "\t\t\tX:      Input data matrix with data examples along the first dimension\n",
    "\t\t\tmethod: Whitening method. Must be one of 'zca', 'zca_cor', 'pca',\n",
    "\t\t\t\t\t'pca_cor', or 'cholesky'.\n",
    "\t\t\"\"\"\n",
    "\t\tX = X.reshape((-1, np.prod(X.shape[1:])))\n",
    "\t\tX_centered = X - np.mean(X, axis=0)\n",
    "\t\tSigma = np.dot(X_centered.T, X_centered) / X_centered.shape[0]\n",
    "\t\tW = None\n",
    "\t\tif method in ['zca', 'pca', 'cholesky']:\n",
    "\t\t\tU, Lambda, _ = np.linalg.svd(Sigma)\n",
    "\t\t\tif method == 'zca':\n",
    "\t\t\t\tW = np.dot(U, np.dot(np.diag(1.0 / np.sqrt(Lambda + 1e-5)), U.T))\n",
    "\t\t\telif method =='pca':\n",
    "\t\t\t\tW = np.dot(np.diag(1.0 / np.sqrt(Lambda + 1e-5)), U.T)\n",
    "\t\t\telif method == 'cholesky':\n",
    "\t\t\t\tW = np.linalg.cholesky(np.dot(U, np.dot(np.diag(1.0 / (Lambda + 1e-5)), U.T))).T\n",
    "\t\telif method in ['zca_cor', 'pca_cor']:\n",
    "\t\t\tV_sqrt = np.diag(np.std(X, axis=0))\n",
    "\t\t\tP = np.dot(np.dot(np.linalg.inv(V_sqrt), Sigma), np.linalg.inv(V_sqrt))\n",
    "\t\t\tG, Theta, _ = np.linalg.svd(P)\n",
    "\t\t\tif method == 'zca_cor':\n",
    "\t\t\t\tW = np.dot(np.dot(G, np.dot(np.diag(1.0 / np.sqrt(Theta + 1e-5)), G.T)), np.linalg.inv(V_sqrt))\n",
    "\t\t\telif method == 'pca_cor':\n",
    "\t\t\t\tW = np.dot(np.dot(np.diag(1.0/np.sqrt(Theta + 1e-5)), G.T), np.linalg.inv(V_sqrt))\n",
    "\t\telse:\n",
    "\t\t\traise Exception('Whitening method not found.')\n",
    "\t\treturn np.dot(X_centered, W.T)"
   ]
  },
  {
   "cell_type": "code",
   "execution_count": null,
   "id": "3dcdf987-3ad3-44dc-a884-6683e809bcba",
   "metadata": {},
   "outputs": [],
   "source": [
    "df_ = pd.read_csv(\"https://raw.githubusercontent.com/thistleknot/Python-Stock/master/data/raw/states.csv\") "
   ]
  },
  {
   "cell_type": "code",
   "execution_count": null,
   "id": "c11a238d-2087-483c-bf26-3768af498b92",
   "metadata": {},
   "outputs": [],
   "source": [
    "df = sm.add_constant(df_)[[*df_.columns,'const']]"
   ]
  },
  {
   "cell_type": "code",
   "execution_count": null,
   "id": "002f2624-563c-43f4-80b3-18bf9a11c778",
   "metadata": {},
   "outputs": [],
   "source": [
    "df"
   ]
  },
  {
   "cell_type": "code",
   "execution_count": null,
   "id": "71e9095a-0a07-4c8d-80d6-6fcfe837de70",
   "metadata": {},
   "outputs": [],
   "source": []
  },
  {
   "cell_type": "code",
   "execution_count": null,
   "id": "a22b920a-7cd6-4517-be06-3d0742ed3cae",
   "metadata": {},
   "outputs": [],
   "source": []
  },
  {
   "cell_type": "code",
   "execution_count": null,
   "id": "3233c004-5646-40d3-8640-b5269ed07fc7",
   "metadata": {},
   "outputs": [],
   "source": []
  },
  {
   "cell_type": "code",
   "execution_count": null,
   "id": "db739108-0491-4560-bb80-f4456c568744",
   "metadata": {},
   "outputs": [],
   "source": [
    "#df[['Poverty', 'White', 'Traf Deaths', 'University', 'Unemployed', 'Income', 'Population']]"
   ]
  },
  {
   "cell_type": "code",
   "execution_count": 206,
   "id": "4e3d5233-8a1e-4b9c-a46d-e19fed2780f2",
   "metadata": {},
   "outputs": [
    {
     "data": {
      "application/vnd.jupyter.widget-view+json": {
       "model_id": "961dedbd2f1f422a9cfecf83f6242d7e",
       "version_major": 2,
       "version_minor": 0
      },
      "text/plain": [
       "interactive(children=(Select(description='y', options=('Poverty', 'Infant Mort', 'White', 'Crime', 'Doctors', …"
      ]
     },
     "metadata": {},
     "output_type": "display_data"
    }
   ],
   "source": [
    "def return_model(x,y):\n",
    "    #print(x)\n",
    "    names = [y,*x]\n",
    "    print(names)\n",
    "    #print()\n",
    "    shap.initjs()\n",
    "    \n",
    "    data = df[names].sort_values(kind=\"quicksort\", by=names[0], ascending=True,key=abs)\n",
    "    X = data.iloc[:,1:]\n",
    "    #zca = ZCA()\n",
    "    #zca.fit(X)\n",
    "    X_ = pd.DataFrame(whiten(np.array(X)),columns=X.columns).set_index(X.index)\n",
    "    X_.index = X.index\n",
    "    X_.columns = X.columns\n",
    "    X = X_\n",
    "    #print(X)\n",
    "    #Y = scale(data.iloc[:,0], scale=True)\n",
    "    Y = pd.DataFrame(skp.scale(data.iloc[:,0], with_mean=True, with_std=True))\n",
    "    Y.columns = [y]\n",
    "    Y.index = data.iloc[:,0].index\n",
    "    \n",
    "    model = sklearn.linear_model.LinearRegression()\n",
    "    \n",
    "    model.fit(X, Y)\n",
    "    model_ = sm.OLS(Y,X)\n",
    "    results = model_.fit()\n",
    "    #shap\n",
    "    background = np.array(X)\n",
    "    e = shap.LinearExplainer(model, X)\n",
    "    \n",
    "    shap_values = e.shap_values(np.array(X))\n",
    "    shap.summary_plot(shap_values, -np.array(X))\n",
    "    explainer = shap.Explainer(model, X)\n",
    "    shap.plots.heatmap(explainer(X))\n",
    " \n",
    "    predict = results.predict(X.loc[Y.index])\n",
    "    plt.plot(np.array(Y))\n",
    "    plt.plot(np.array(predict))\n",
    "    plt.show()\n",
    "    \n",
    "    corrMatrix = pd.concat([Y,X],axis=1).corr().sort_values(kind=\"quicksort\", by=names[0], ascending=True,key=abs)\n",
    "    sns.heatmap(corrMatrix, annot=True)\n",
    "    plt.show()\n",
    "    \n",
    "    corrMatrix = pd.concat([Y,X],axis=1).pcorr().sort_values(kind=\"quicksort\", by=names[0], ascending=True,key=abs)\n",
    "    sns.heatmap(corrMatrix, annot=True)\n",
    "    plt.show()\n",
    "    \n",
    "    #return([data,results.summary()])\n",
    "    return(results.summary())\n",
    "\n",
    "def derive_xnames(y):\n",
    "    x_ = widgets.SelectMultiple(\n",
    "        options=df.columns[~df.columns.isin([y])][1:],\n",
    "        value=[df.columns[~df.columns.isin([y])][1]],\n",
    "        disabled=False\n",
    "    )\n",
    "    subset = interact(return_model,x=x_,y=y)\n",
    "\n",
    "    return(subset)\n",
    "\n",
    "y=y=widgets.Select(options=df.columns[1:],disabled=False)\n",
    "\n",
    "a=interact(derive_xnames,y=y)\n",
    "\n"
   ]
  },
  {
   "cell_type": "code",
   "execution_count": null,
   "id": "1ff19916-6a97-4b0d-9779-f046d042f6a3",
   "metadata": {},
   "outputs": [],
   "source": []
  }
 ],
 "metadata": {
  "kernelspec": {
   "display_name": "Python 3 (ipykernel)",
   "language": "python",
   "name": "python3"
  },
  "language_info": {
   "codemirror_mode": {
    "name": "ipython",
    "version": 3
   },
   "file_extension": ".py",
   "mimetype": "text/x-python",
   "name": "python",
   "nbconvert_exporter": "python",
   "pygments_lexer": "ipython3",
   "version": "3.9.7"
  }
 },
 "nbformat": 4,
 "nbformat_minor": 5
}
