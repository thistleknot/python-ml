{
 "cells": [
  {
   "cell_type": "code",
   "execution_count": 64,
   "id": "c1eeb588-d5bc-4fc1-bf41-6d52ebbefcf7",
   "metadata": {},
   "outputs": [],
   "source": [
    "from __future__ import print_function\n",
    "from ipywidgets import interact, interactive, fixed, interact_manual\n",
    "import ipywidgets as widgets\n",
    "from ipywidgets import FloatSlider\n",
    "import pandas as pd\n",
    "import statsmodels.api as sm\n",
    "from statsmodels.stats.outliers_influence import OLSInfluence"
   ]
  },
  {
   "cell_type": "code",
   "execution_count": null,
   "id": "3dcdf987-3ad3-44dc-a884-6683e809bcba",
   "metadata": {},
   "outputs": [],
   "source": [
    "df = pd.read_csv(\"https://raw.githubusercontent.com/thistleknot/Python-Stock/master/data/raw/states.csv\") "
   ]
  },
  {
   "cell_type": "code",
   "execution_count": null,
   "id": "c11a238d-2087-483c-bf26-3768af498b92",
   "metadata": {},
   "outputs": [],
   "source": []
  },
  {
   "cell_type": "code",
   "execution_count": null,
   "id": "c6733595-156a-412b-bf1e-9bd75e4acabe",
   "metadata": {},
   "outputs": [],
   "source": []
  },
  {
   "cell_type": "code",
   "execution_count": null,
   "id": "139cfe37-e03e-4eaa-abc9-679797ddb612",
   "metadata": {},
   "outputs": [],
   "source": []
  },
  {
   "cell_type": "code",
   "execution_count": 71,
   "id": "002f2624-563c-43f4-80b3-18bf9a11c778",
   "metadata": {},
   "outputs": [
    {
     "data": {
      "application/vnd.jupyter.widget-view+json": {
       "model_id": "c0d17fcf829d4323b7e1b8314035b86d",
       "version_major": 2,
       "version_minor": 0
      },
      "text/plain": [
       "interactive(children=(Select(description='y', index=2, options=('Poverty', 'Infant Mort', 'White', 'Crime', 'D…"
      ]
     },
     "metadata": {},
     "output_type": "display_data"
    },
    {
     "data": {
      "text/plain": [
       "<function __main__.derive_xnames(y)>"
      ]
     },
     "execution_count": 71,
     "metadata": {},
     "output_type": "execute_result"
    }
   ],
   "source": [
    "def return_xnames(x):\n",
    "    return(x)\n",
    "\n",
    "def derive_xnames(y):\n",
    "    #x_df = df.columns[~df.columns.isin([y])]\n",
    "    x_ = widgets.SelectMultiple(\n",
    "        options=df.columns[~df.columns.isin([y])],\n",
    "        disabled=False\n",
    "    )\n",
    "    x_names = interact(return_xnames,x=x_)\n",
    "    return([y,x_names])\n",
    "\n",
    "interact(derive_xnames,y=y)\n",
    "\n",
    "\n",
    "#model = sm.OLS(y,X)\n",
    "#results = model.fit()\n",
    "#results.resid"
   ]
  },
  {
   "cell_type": "code",
   "execution_count": null,
   "id": "4e3d5233-8a1e-4b9c-a46d-e19fed2780f2",
   "metadata": {},
   "outputs": [],
   "source": [
    "widgets.Checkbox(\n",
    "    value=False,\n",
    "    options=df.columns,\n",
    "    description='Check me',\n",
    "    disabled=False,\n",
    "    indent=False\n",
    ")"
   ]
  }
 ],
 "metadata": {
  "kernelspec": {
   "display_name": "Python 3 (ipykernel)",
   "language": "python",
   "name": "python3"
  },
  "language_info": {
   "codemirror_mode": {
    "name": "ipython",
    "version": 3
   },
   "file_extension": ".py",
   "mimetype": "text/x-python",
   "name": "python",
   "nbconvert_exporter": "python",
   "pygments_lexer": "ipython3",
   "version": "3.9.7"
  }
 },
 "nbformat": 4,
 "nbformat_minor": 5
}
