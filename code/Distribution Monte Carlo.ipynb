{
 "cells": [
  {
   "cell_type": "code",
   "execution_count": null,
   "id": "63f20f81-988e-445f-8ae4-066fa94a68bb",
   "metadata": {},
   "outputs": [],
   "source": [
    "from sklearn.base import BaseEstimator, TransformerMixin\n",
    "#https://github.com/mwv/zca\n",
    "from zca.zca import ZCA\n",
    "import pandas as pd\n",
    "from sklearn.preprocessing import StandardScaler, PowerTransformer\n",
    "from sklearn.neighbors import KernelDensity\n",
    "import matplotlib.pyplot as plt\n",
    "import scipy"
   ]
  },
  {
   "cell_type": "code",
   "execution_count": null,
   "id": "fa3dafa1-89d5-484f-933a-0e338d170f09",
   "metadata": {},
   "outputs": [],
   "source": [
    "class ss_yj_Transformer(BaseEstimator, TransformerMixin):\n",
    "    # add another additional parameter, just for fun, while we are at it\n",
    "    \n",
    "    def __init__(self, feature_names=[], additional_param = \"\"):  \n",
    "        self.ss_X = StandardScaler()\n",
    "        self.pt_X = PowerTransformer(standardize=True)\n",
    "        self.zca_X = zca.ZCA()\n",
    "        self.ss_y = StandardScaler()\n",
    "        self.pt_y = PowerTransformer(standardize=True)  \n",
    "        self.zca_y = zca.ZCA()\n",
    "        self.feature_names = feature_names\n",
    "        self.additional_param = additional_param\n",
    "        self.medians = pd.DataFrame()\n",
    "        self.mads = []\n",
    "        self.mad_transformed = pd.DataFrame()\n",
    "\n",
    "    def fit(self, X, y = None):\n",
    "        self.ss_X.fit(X)\n",
    "        self.medians = X.median()\n",
    "        self.mads = pd.DataFrame(scipy.stats.median_abs_deviation(X),index=X.columns).T#scipy.stats.median_abs_deviation(X)\n",
    "        #self.pt_X.fit(self.ss_X.transform(X))\n",
    "        self.mad_transformed = ((X-X.median())/scipy.stats.median_abs_deviation(X))\n",
    "        self.pt_X.fit(self.mad_transformed)        \n",
    "        self.zca_X.fit(self.pt_X.transform(self.ss_X.transform(X)))\n",
    "        if (y is not None):\n",
    "            self.ss_y.fit(y)\n",
    "            self.pt_y.fit(self.ss_y.transform(y))\n",
    "            self.zca_y.fit(self.pt_y.transform(self.ss_y.transform(y)))\n",
    "        return self\n",
    "\n",
    "    def transform(self, X, y = None):\n",
    "        #pt_X_ = pd.DataFrame(self.zca_X.fit_transform(self.pt_X.fit_transform(self.ss_X.fit_transform(X))),columns=X.columns,index=X.index)\n",
    "        #pt_X_ = pd.DataFrame(self.zca_X.fit_transform(self.pt_X.fit_transform(self.mad_transformed)),columns=X.columns,index=X.index)\n",
    "        pt_X_ = pd.DataFrame(self.zca_X.fit_transform(self.pt_X.fit_transform(self.mad_transformed)),columns=X.columns)\n",
    "        if (y is None):\n",
    "            return pt_X_\n",
    "        else:\n",
    "            pt_y_ = pd.DataFrame(self.zca_y.fit_transform(self.pt_y.fit_transform(self.ss_y.fit_transform(X))),columns=Y.columns,index=Y.index)\n",
    "            return pt_X_, pt_y_\n",
    "        \n",
    "    def inverse_transform(self, X, y = None):\n",
    "        #target_X = pd.DataFrame(self.ss_X.inverse_transform(self.pt_X.inverse_transform(self.zca_X.inverse_transform(X))),index=X.index,columns=X.columns)\n",
    "        target_X = pd.DataFrame((self.pt_X.inverse_transform(self.zca_X.inverse_transform(X))),columns=X.columns)*np.array(self.mads)+np.array(self.medians)\n",
    "        if (y is None):\n",
    "            return target_X\n",
    "        else:\n",
    "            target_y = pd.DataFrame(self.ss_Xy.inverse_transform(self.pt_y.inverse_transform(self.zca_y.inverse_transform(y))),index=y.index,columns=y.columns)\n",
    "            return target_X, target_y\n",
    "        "
   ]
  },
  {
   "cell_type": "code",
   "execution_count": null,
   "id": "c3c37c5b-3bcd-474f-92f4-63ef3666c043",
   "metadata": {},
   "outputs": [],
   "source": [
    "exclude = 'States'"
   ]
  },
  {
   "cell_type": "code",
   "execution_count": null,
   "id": "93f388a2-71c8-42fa-8fc6-8dfd4d979219",
   "metadata": {},
   "outputs": [],
   "source": [
    "all_data = pd.read_csv('../data/raw/states.csv')\n",
    "\n",
    "X = all_data[set(all_data.columns).difference([exclude])].copy()"
   ]
  },
  {
   "cell_type": "code",
   "execution_count": null,
   "id": "eb98fe9d-a3eb-4a98-beef-56ea29c948fc",
   "metadata": {},
   "outputs": [],
   "source": [
    "scaler = ss_yj_Transformer()\n",
    "scaler.fit(X)\n",
    "X_ = scaler.transform(X)"
   ]
  },
  {
   "cell_type": "code",
   "execution_count": null,
   "id": "778ae2a3-2a3c-4a35-943e-dc59f6d8ff2a",
   "metadata": {},
   "outputs": [],
   "source": [
    "X.median()/pd.DataFrame(scipy.stats.median_abs_deviation(X),index=X.columns).T"
   ]
  },
  {
   "cell_type": "code",
   "execution_count": null,
   "id": "d3b240fa-850b-4907-8c38-75204140da78",
   "metadata": {},
   "outputs": [],
   "source": []
  },
  {
   "cell_type": "code",
   "execution_count": null,
   "id": "838fb010-7d1e-4be9-b500-2e6005a41f7b",
   "metadata": {},
   "outputs": [],
   "source": [
    "X.shape"
   ]
  },
  {
   "cell_type": "code",
   "execution_count": null,
   "id": "116408e4-b5e7-437b-8630-77dcd5dd5a73",
   "metadata": {},
   "outputs": [],
   "source": [
    "X_.hist()"
   ]
  },
  {
   "cell_type": "code",
   "execution_count": null,
   "id": "ee5cb2f0-0b2f-4354-82ce-e676aa39e021",
   "metadata": {},
   "outputs": [],
   "source": [
    "random_ = pd.DataFrame(np.random.normal(0, 1, [100,len(X.columns)]),columns=X.columns)"
   ]
  },
  {
   "cell_type": "code",
   "execution_count": null,
   "id": "64f492db-e533-49f8-938a-a14c7dc412ad",
   "metadata": {},
   "outputs": [],
   "source": [
    "scaler.inverse_transform(random_).hist()"
   ]
  },
  {
   "cell_type": "code",
   "execution_count": null,
   "id": "bb6ac271-8013-45fd-98a9-3c859ecb3897",
   "metadata": {},
   "outputs": [],
   "source": []
  },
  {
   "cell_type": "code",
   "execution_count": null,
   "id": "016592fe-15eb-4931-b2ae-bc3b898102ea",
   "metadata": {},
   "outputs": [],
   "source": [
    "scaler.inverse_transform(random_)"
   ]
  },
  {
   "cell_type": "code",
   "execution_count": null,
   "id": "42d391de-7c4b-4046-9ee1-7d4101ce2d25",
   "metadata": {},
   "outputs": [],
   "source": []
  },
  {
   "cell_type": "code",
   "execution_count": null,
   "id": "c00f94a2-7fe9-42e1-a2db-d19df693636d",
   "metadata": {},
   "outputs": [],
   "source": [
    "kde = KernelDensity(bandwidth=.2, kernel='gaussian')\n",
    "kde.fit(X.iloc[:,[0]])\n",
    "\n"
   ]
  },
  {
   "cell_type": "code",
   "execution_count": null,
   "id": "82bd1bd6-4228-41d8-ad82-98445a649a73",
   "metadata": {},
   "outputs": [],
   "source": [
    "logprobX = kde.score_samples(X.iloc[:,[0]])\n",
    "np.sum(np.exp(kde.score_samples(X.iloc[:,[0]])))\n"
   ]
  }
 ],
 "metadata": {
  "kernelspec": {
   "display_name": "Python 3 (ipykernel)",
   "language": "python",
   "name": "python3"
  },
  "language_info": {
   "codemirror_mode": {
    "name": "ipython",
    "version": 3
   },
   "file_extension": ".py",
   "mimetype": "text/x-python",
   "name": "python",
   "nbconvert_exporter": "python",
   "pygments_lexer": "ipython3",
   "version": "3.9.6"
  }
 },
 "nbformat": 4,
 "nbformat_minor": 5
}
