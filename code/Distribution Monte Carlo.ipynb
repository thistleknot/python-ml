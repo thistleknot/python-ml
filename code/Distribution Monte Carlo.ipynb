{
 "cells": [
  {
   "cell_type": "code",
   "execution_count": 285,
   "id": "63f20f81-988e-445f-8ae4-066fa94a68bb",
   "metadata": {},
   "outputs": [],
   "source": [
    "from sklearn.base import BaseEstimator, TransformerMixin\n",
    "#https://github.com/mwv/zca\n",
    "from zca.zca import zca\n",
    "import pandas as pd\n",
    "from sklearn.preprocessing import StandardScaler, PowerTransformer\n",
    "from sklearn.neighbors import KernelDensity\n",
    "import matplotlib.pyplot as plt\n",
    "import scipy\n",
    "import numpy as np\n",
    "import scipy.stats as st\n",
    "from sklearn.model_selection import LeaveOneOut\n",
    "from sklearn.model_selection import GridSearchCV"
   ]
  },
  {
   "cell_type": "code",
   "execution_count": null,
   "id": "fa3dafa1-89d5-484f-933a-0e338d170f09",
   "metadata": {},
   "outputs": [],
   "source": [
    "class ss_yj_Transformer(BaseEstimator, TransformerMixin):\n",
    "    # add another additional parameter, just for fun, while we are at it\n",
    "    \n",
    "    def __init__(self, feature_names=[], additional_param = \"\"):  \n",
    "        self.ss_X = StandardScaler()\n",
    "        self.pt_X = PowerTransformer(standardize=True)\n",
    "        self.zca_X = zca.ZCA()\n",
    "        self.ss_y = StandardScaler()\n",
    "        self.pt_y = PowerTransformer(standardize=True)  \n",
    "        self.zca_y = zca.ZCA()\n",
    "        self.feature_names = feature_names\n",
    "        self.additional_param = additional_param\n",
    "        self.medians = pd.DataFrame()\n",
    "        self.mads = []\n",
    "        self.mad_transformed = pd.DataFrame()\n",
    "\n",
    "    def fit(self, X, y = None):\n",
    "        self.ss_X.fit(X)\n",
    "        self.medians = X.median()\n",
    "        self.mads = pd.DataFrame(scipy.stats.median_abs_deviation(X,scale='normal'),index=X.columns).T#scipy.stats.median_abs_deviation(X)\n",
    "        #self.pt_X.fit(self.ss_X.transform(X))\n",
    "        self.mad_transformed = ((X-X.median())/scipy.stats.median_abs_deviation(X,scale='normal'))\n",
    "        self.pt_X.fit(self.mad_transformed)        \n",
    "        self.zca_X.fit(self.pt_X.transform(self.ss_X.transform(X)))\n",
    "        if (y is not None):\n",
    "            self.ss_y.fit(y)\n",
    "            self.pt_y.fit(self.ss_y.transform(y))\n",
    "            self.zca_y.fit(self.pt_y.transform(self.ss_y.transform(y)))\n",
    "        return self\n",
    "\n",
    "    def transform(self, X, y = None):\n",
    "        #pt_X_ = pd.DataFrame(self.zca_X.fit_transform(self.pt_X.fit_transform(self.ss_X.fit_transform(X))),columns=X.columns,index=X.index)\n",
    "        #pt_X_ = pd.DataFrame(self.zca_X.fit_transform(self.pt_X.fit_transform(self.mad_transformed)),columns=X.columns,index=X.index)\n",
    "        pt_X_ = pd.DataFrame(self.zca_X.fit_transform(self.pt_X.fit_transform(self.mad_transformed)),columns=X.columns)\n",
    "        if (y is None):\n",
    "            return pt_X_\n",
    "        else:\n",
    "            pt_y_ = pd.DataFrame(self.zca_y.fit_transform(self.pt_y.fit_transform(self.ss_y.fit_transform(X))),columns=Y.columns,index=Y.index)\n",
    "            return pt_X_, pt_y_\n",
    "        \n",
    "    def inverse_transform(self, X, y = None):\n",
    "        #target_X = pd.DataFrame(self.ss_X.inverse_transform(self.pt_X.inverse_transform(self.zca_X.inverse_transform(X))),index=X.index,columns=X.columns)\n",
    "        target_X = pd.DataFrame((self.pt_X.inverse_transform(self.zca_X.inverse_transform(X))),columns=X.columns)*np.array(self.mads)+np.array(self.medians)\n",
    "        if (y is None):\n",
    "            return target_X\n",
    "        else:\n",
    "            target_y = pd.DataFrame(self.ss_Xy.inverse_transform(self.pt_y.inverse_transform(self.zca_y.inverse_transform(y))),index=y.index,columns=y.columns)\n",
    "            return target_X, target_y\n",
    "        "
   ]
  },
  {
   "cell_type": "code",
   "execution_count": null,
   "id": "c3c37c5b-3bcd-474f-92f4-63ef3666c043",
   "metadata": {},
   "outputs": [],
   "source": [
    "exclude = 'States'"
   ]
  },
  {
   "cell_type": "code",
   "execution_count": 351,
   "id": "05f85791-54e6-4bc8-96da-24009f22063e",
   "metadata": {},
   "outputs": [],
   "source": [
    "bandwidths = np.linspace(1.0, 1.2, 10)"
   ]
  },
  {
   "cell_type": "code",
   "execution_count": 352,
   "id": "1b061b7c-8793-4f3a-aac7-1d7c190466c2",
   "metadata": {},
   "outputs": [
    {
     "data": {
      "text/plain": [
       "array([1.        , 1.02222222, 1.04444444, 1.06666667, 1.08888889,\n",
       "       1.11111111, 1.13333333, 1.15555556, 1.17777778, 1.2       ])"
      ]
     },
     "execution_count": 352,
     "metadata": {},
     "output_type": "execute_result"
    }
   ],
   "source": [
    "bandwidths"
   ]
  },
  {
   "cell_type": "code",
   "execution_count": null,
   "id": "93f388a2-71c8-42fa-8fc6-8dfd4d979219",
   "metadata": {},
   "outputs": [],
   "source": [
    "all_data = pd.read_csv('../data/raw/states.csv')\n",
    "\n",
    "X = all_data[set(all_data.columns).difference([exclude])].copy()\n",
    "display(X.describe())\n",
    "X.index=all_data[exclude]\n",
    "display(X)"
   ]
  },
  {
   "cell_type": "code",
   "execution_count": 540,
   "id": "eb98fe9d-a3eb-4a98-beef-56ea29c948fc",
   "metadata": {},
   "outputs": [
    {
     "data": {
      "text/html": [
       "<div>\n",
       "<style scoped>\n",
       "    .dataframe tbody tr th:only-of-type {\n",
       "        vertical-align: middle;\n",
       "    }\n",
       "\n",
       "    .dataframe tbody tr th {\n",
       "        vertical-align: top;\n",
       "    }\n",
       "\n",
       "    .dataframe thead th {\n",
       "        text-align: right;\n",
       "    }\n",
       "</style>\n",
       "<table border=\"1\" class=\"dataframe\">\n",
       "  <thead>\n",
       "    <tr style=\"text-align: right;\">\n",
       "      <th></th>\n",
       "      <th>Crime</th>\n",
       "      <th>Poverty</th>\n",
       "      <th>University</th>\n",
       "      <th>Unemployed</th>\n",
       "      <th>Traf Deaths</th>\n",
       "      <th>White</th>\n",
       "      <th>Doctors</th>\n",
       "      <th>Income</th>\n",
       "      <th>Infant Mort</th>\n",
       "      <th>Population</th>\n",
       "    </tr>\n",
       "  </thead>\n",
       "  <tbody>\n",
       "    <tr>\n",
       "      <th>count</th>\n",
       "      <td>5.000000e+01</td>\n",
       "      <td>5.000000e+01</td>\n",
       "      <td>5.000000e+01</td>\n",
       "      <td>5.000000e+01</td>\n",
       "      <td>5.000000e+01</td>\n",
       "      <td>5.000000e+01</td>\n",
       "      <td>5.000000e+01</td>\n",
       "      <td>5.000000e+01</td>\n",
       "      <td>5.000000e+01</td>\n",
       "      <td>5.000000e+01</td>\n",
       "    </tr>\n",
       "    <tr>\n",
       "      <th>mean</th>\n",
       "      <td>1.776357e-17</td>\n",
       "      <td>8.881784e-18</td>\n",
       "      <td>4.440892e-17</td>\n",
       "      <td>-1.332268e-17</td>\n",
       "      <td>-6.106227e-17</td>\n",
       "      <td>4.440892e-18</td>\n",
       "      <td>1.332268e-17</td>\n",
       "      <td>-2.220446e-17</td>\n",
       "      <td>-5.995204e-17</td>\n",
       "      <td>-3.108624e-17</td>\n",
       "    </tr>\n",
       "    <tr>\n",
       "      <th>std</th>\n",
       "      <td>1.000000e+00</td>\n",
       "      <td>1.000000e+00</td>\n",
       "      <td>1.000000e+00</td>\n",
       "      <td>1.000000e+00</td>\n",
       "      <td>1.000000e+00</td>\n",
       "      <td>1.000000e+00</td>\n",
       "      <td>1.000000e+00</td>\n",
       "      <td>1.000000e+00</td>\n",
       "      <td>1.000000e+00</td>\n",
       "      <td>1.000000e+00</td>\n",
       "    </tr>\n",
       "    <tr>\n",
       "      <th>min</th>\n",
       "      <td>-1.981415e+00</td>\n",
       "      <td>-1.920661e+00</td>\n",
       "      <td>-2.656435e+00</td>\n",
       "      <td>-1.627159e+00</td>\n",
       "      <td>-1.914266e+00</td>\n",
       "      <td>-3.965103e+00</td>\n",
       "      <td>-2.352371e+00</td>\n",
       "      <td>-1.788511e+00</td>\n",
       "      <td>-2.091258e+00</td>\n",
       "      <td>-2.142666e+00</td>\n",
       "    </tr>\n",
       "    <tr>\n",
       "      <th>25%</th>\n",
       "      <td>-6.550302e-01</td>\n",
       "      <td>-7.501128e-01</td>\n",
       "      <td>-4.998651e-01</td>\n",
       "      <td>-7.560676e-01</td>\n",
       "      <td>-7.295234e-01</td>\n",
       "      <td>-6.088201e-01</td>\n",
       "      <td>-5.097175e-01</td>\n",
       "      <td>-9.075949e-01</td>\n",
       "      <td>-8.888642e-01</td>\n",
       "      <td>-6.638030e-01</td>\n",
       "    </tr>\n",
       "    <tr>\n",
       "      <th>50%</th>\n",
       "      <td>-1.611392e-01</td>\n",
       "      <td>7.586969e-03</td>\n",
       "      <td>2.945141e-02</td>\n",
       "      <td>5.597115e-02</td>\n",
       "      <td>2.781613e-02</td>\n",
       "      <td>9.523894e-02</td>\n",
       "      <td>9.250486e-02</td>\n",
       "      <td>2.008025e-02</td>\n",
       "      <td>1.686568e-01</td>\n",
       "      <td>7.985929e-02</td>\n",
       "    </tr>\n",
       "    <tr>\n",
       "      <th>75%</th>\n",
       "      <td>6.527081e-01</td>\n",
       "      <td>7.587009e-01</td>\n",
       "      <td>6.056981e-01</td>\n",
       "      <td>6.384850e-01</td>\n",
       "      <td>4.932323e-01</td>\n",
       "      <td>6.184801e-01</td>\n",
       "      <td>5.762914e-01</td>\n",
       "      <td>8.136427e-01</td>\n",
       "      <td>8.147284e-01</td>\n",
       "      <td>6.181143e-01</td>\n",
       "    </tr>\n",
       "    <tr>\n",
       "      <th>max</th>\n",
       "      <td>2.249081e+00</td>\n",
       "      <td>2.264157e+00</td>\n",
       "      <td>2.605767e+00</td>\n",
       "      <td>2.281258e+00</td>\n",
       "      <td>3.694339e+00</td>\n",
       "      <td>1.566087e+00</td>\n",
       "      <td>1.712015e+00</td>\n",
       "      <td>1.833320e+00</td>\n",
       "      <td>1.771269e+00</td>\n",
       "      <td>1.970986e+00</td>\n",
       "    </tr>\n",
       "  </tbody>\n",
       "</table>\n",
       "</div>"
      ],
      "text/plain": [
       "              Crime       Poverty    University    Unemployed   Traf Deaths  \\\n",
       "count  5.000000e+01  5.000000e+01  5.000000e+01  5.000000e+01  5.000000e+01   \n",
       "mean   1.776357e-17  8.881784e-18  4.440892e-17 -1.332268e-17 -6.106227e-17   \n",
       "std    1.000000e+00  1.000000e+00  1.000000e+00  1.000000e+00  1.000000e+00   \n",
       "min   -1.981415e+00 -1.920661e+00 -2.656435e+00 -1.627159e+00 -1.914266e+00   \n",
       "25%   -6.550302e-01 -7.501128e-01 -4.998651e-01 -7.560676e-01 -7.295234e-01   \n",
       "50%   -1.611392e-01  7.586969e-03  2.945141e-02  5.597115e-02  2.781613e-02   \n",
       "75%    6.527081e-01  7.587009e-01  6.056981e-01  6.384850e-01  4.932323e-01   \n",
       "max    2.249081e+00  2.264157e+00  2.605767e+00  2.281258e+00  3.694339e+00   \n",
       "\n",
       "              White       Doctors        Income   Infant Mort    Population  \n",
       "count  5.000000e+01  5.000000e+01  5.000000e+01  5.000000e+01  5.000000e+01  \n",
       "mean   4.440892e-18  1.332268e-17 -2.220446e-17 -5.995204e-17 -3.108624e-17  \n",
       "std    1.000000e+00  1.000000e+00  1.000000e+00  1.000000e+00  1.000000e+00  \n",
       "min   -3.965103e+00 -2.352371e+00 -1.788511e+00 -2.091258e+00 -2.142666e+00  \n",
       "25%   -6.088201e-01 -5.097175e-01 -9.075949e-01 -8.888642e-01 -6.638030e-01  \n",
       "50%    9.523894e-02  9.250486e-02  2.008025e-02  1.686568e-01  7.985929e-02  \n",
       "75%    6.184801e-01  5.762914e-01  8.136427e-01  8.147284e-01  6.181143e-01  \n",
       "max    1.566087e+00  1.712015e+00  1.833320e+00  1.771269e+00  1.970986e+00  "
      ]
     },
     "metadata": {},
     "output_type": "display_data"
    },
    {
     "data": {
      "text/plain": [
       "Crime         -1.981415\n",
       "Poverty       -1.920661\n",
       "University    -2.656435\n",
       "Unemployed    -1.627159\n",
       "Traf Deaths   -1.914266\n",
       "White         -3.965103\n",
       "Doctors       -2.352371\n",
       "Income        -1.788511\n",
       "Infant Mort   -2.091258\n",
       "Population    -2.142666\n",
       "dtype: float64"
      ]
     },
     "metadata": {},
     "output_type": "display_data"
    },
    {
     "data": {
      "text/plain": [
       "Crime          2.249081\n",
       "Poverty        2.264157\n",
       "University     2.605767\n",
       "Unemployed     2.281258\n",
       "Traf Deaths    3.694339\n",
       "White          1.566087\n",
       "Doctors        1.712015\n",
       "Income         1.833320\n",
       "Infant Mort    1.771269\n",
       "Population     1.970986\n",
       "dtype: float64"
      ]
     },
     "metadata": {},
     "output_type": "display_data"
    },
    {
     "data": {
      "image/png": "[encoded data removed]",
      "text/plain": [
       "<Figure size 720x504 with 1 Axes>"
      ]
     },
     "metadata": {
      "needs_background": "light"
     },
     "output_type": "display_data"
    }
   ],
   "source": [
    "scaler = ss_yj_Transformer()\n",
    "scaler.fit(X)\n",
    "X_ = scaler.transform(X)\n",
    "X_.index=all_data[exclude]\n",
    "#display(X_)\n",
    "display(X_.describe())\n",
    "display(X_.min())\n",
    "display(X_.max())\n",
    "fig = plt.figure(figsize =(10, 7))\n",
    "ax = fig.add_axes([0, 0, 1, 1])\n",
    "\n",
    "# Creating plot\n",
    "bp = ax.boxplot(X_)"
   ]
  },
  {
   "cell_type": "code",
   "execution_count": null,
   "id": "0bb9bfdc-ab92-445c-bd97-3daeb7a51dc0",
   "metadata": {},
   "outputs": [],
   "source": []
  },
  {
   "cell_type": "code",
   "execution_count": null,
   "id": "b78fcb74-384e-45c2-adf7-68d8925ce71a",
   "metadata": {},
   "outputs": [],
   "source": []
  },
  {
   "cell_type": "code",
   "execution_count": 641,
   "id": "04ac97be-c706-4639-bf15-39ca2e4b8cec",
   "metadata": {},
   "outputs": [
    {
     "data": {
      "text/plain": [
       "array([0.01863815, 0.0373258 , 0.05605482, 0.07504816, 0.09408789,\n",
       "       0.11345463, 0.13315923, 0.15289688, 0.17282171, 0.19275853,\n",
       "       0.21280034, 0.23292002, 0.25307448, 0.27337458, 0.29377965,\n",
       "       0.3142527 , 0.33473277, 0.35523074, 0.3758188 , 0.39641147,\n",
       "       0.41708503, 0.43776947, 0.45850701, 0.47924512, 0.50001261,\n",
       "       0.52076998, 0.54151303, 0.56224052, 0.58295359, 0.60362608,\n",
       "       0.62429545, 0.64495265, 0.66549926, 0.68602842, 0.70650772,\n",
       "       0.72697682, 0.74738977, 0.76761274, 0.78765454, 0.8075277 ,\n",
       "       0.82730444, 0.8470142 , 0.86660739, 0.88607947, 0.90538137,\n",
       "       0.92466651, 0.94361153, 0.96250263, 0.98126597, 1.        ])"
      ]
     },
     "execution_count": 641,
     "metadata": {},
     "output_type": "execute_result"
    }
   ],
   "source": []
  },
  {
   "cell_type": "code",
   "execution_count": 642,
   "id": "6762e2f7-8137-4b67-9646-8238c6ad918d",
   "metadata": {},
   "outputs": [
    {
     "data": {
      "text/plain": [
       "array([0.01863815, 0.0373258 , 0.05605482, 0.07504816, 0.09408789,\n",
       "       0.11345463, 0.13315923, 0.15289688, 0.17282171, 0.19275853,\n",
       "       0.21280034, 0.23292002, 0.25307448, 0.27337458, 0.29377965,\n",
       "       0.3142527 , 0.33473277, 0.35523074, 0.3758188 , 0.39641147,\n",
       "       0.41708503, 0.43776947, 0.45850701, 0.47924512, 0.50001261,\n",
       "       0.52076998, 0.54151303, 0.56224052, 0.58295359, 0.60362608,\n",
       "       0.62429545, 0.64495265, 0.66549926, 0.68602842, 0.70650772,\n",
       "       0.72697682, 0.74738977, 0.76761274, 0.78765454, 0.8075277 ,\n",
       "       0.82730444, 0.8470142 , 0.86660739, 0.88607947, 0.90538137,\n",
       "       0.92466651, 0.94361153, 0.96250263, 0.98126597, 1.        ])"
      ]
     },
     "execution_count": 642,
     "metadata": {},
     "output_type": "execute_result"
    }
   ],
   "source": []
  },
  {
   "cell_type": "code",
   "execution_count": 547,
   "id": "12d95ba3-9dbc-469a-a5dd-d7375d91f9b8",
   "metadata": {},
   "outputs": [
    {
     "name": "stdout",
     "output_type": "stream",
     "text": [
      "Crime\n",
      "bandwidth: 1.0\n"
     ]
    },
    {
     "data": {
      "image/png": "[encoded data removed]",
      "text/plain": [
       "<Figure size 432x288 with 1 Axes>"
      ]
     },
     "metadata": {
      "needs_background": "light"
     },
     "output_type": "display_data"
    },
    {
     "data": {
      "text/plain": [
       "array([-2.34868627])"
      ]
     },
     "metadata": {},
     "output_type": "display_data"
    },
    {
     "data": {
      "text/plain": [
       "array([2.35435293])"
      ]
     },
     "metadata": {},
     "output_type": "display_data"
    },
    {
     "data": {
      "text/plain": [
       "Crime   -1.981415\n",
       "dtype: float64"
      ]
     },
     "metadata": {},
     "output_type": "display_data"
    },
    {
     "data": {
      "text/plain": [
       "Crime    2.249081\n",
       "dtype: float64"
      ]
     },
     "metadata": {},
     "output_type": "display_data"
    },
    {
     "name": "stdout",
     "output_type": "stream",
     "text": [
      "Poverty\n",
      "bandwidth: 1.0\n"
     ]
    },
    {
     "data": {
      "image/png": "[encoded data removed]",
      "text/plain": [
       "<Figure size 432x288 with 1 Axes>"
      ]
     },
     "metadata": {
      "needs_background": "light"
     },
     "output_type": "display_data"
    },
    {
     "data": {
      "text/plain": [
       "array([-2.3491165])"
      ]
     },
     "metadata": {},
     "output_type": "display_data"
    },
    {
     "data": {
      "text/plain": [
       "array([2.35408173])"
      ]
     },
     "metadata": {},
     "output_type": "display_data"
    },
    {
     "data": {
      "text/plain": [
       "Poverty   -1.920661\n",
       "dtype: float64"
      ]
     },
     "metadata": {},
     "output_type": "display_data"
    },
    {
     "data": {
      "text/plain": [
       "Poverty    2.264157\n",
       "dtype: float64"
      ]
     },
     "metadata": {},
     "output_type": "display_data"
    },
    {
     "name": "stdout",
     "output_type": "stream",
     "text": [
      "University\n",
      "bandwidth: 1.0\n"
     ]
    },
    {
     "data": {
      "image/png": "[encoded data removed]",
      "text/plain": [
       "<Figure size 432x288 with 1 Axes>"
      ]
     },
     "metadata": {
      "needs_background": "light"
     },
     "output_type": "display_data"
    },
    {
     "data": {
      "text/plain": [
       "array([-2.35585077])"
      ]
     },
     "metadata": {},
     "output_type": "display_data"
    },
    {
     "data": {
      "text/plain": [
       "array([2.3558843])"
      ]
     },
     "metadata": {},
     "output_type": "display_data"
    },
    {
     "data": {
      "text/plain": [
       "University   -2.656435\n",
       "dtype: float64"
      ]
     },
     "metadata": {},
     "output_type": "display_data"
    },
    {
     "data": {
      "text/plain": [
       "University    2.605767\n",
       "dtype: float64"
      ]
     },
     "metadata": {},
     "output_type": "display_data"
    },
    {
     "name": "stdout",
     "output_type": "stream",
     "text": [
      "Unemployed\n",
      "bandwidth: 1.0\n"
     ]
    },
    {
     "data": {
      "image/png": "[encoded data removed]",
      "text/plain": [
       "<Figure size 432x288 with 1 Axes>"
      ]
     },
     "metadata": {
      "needs_background": "light"
     },
     "output_type": "display_data"
    },
    {
     "data": {
      "text/plain": [
       "array([-2.34495088])"
      ]
     },
     "metadata": {},
     "output_type": "display_data"
    },
    {
     "data": {
      "text/plain": [
       "array([2.35311972])"
      ]
     },
     "metadata": {},
     "output_type": "display_data"
    },
    {
     "data": {
      "text/plain": [
       "Unemployed   -1.627159\n",
       "dtype: float64"
      ]
     },
     "metadata": {},
     "output_type": "display_data"
    },
    {
     "data": {
      "text/plain": [
       "Unemployed    2.281258\n",
       "dtype: float64"
      ]
     },
     "metadata": {},
     "output_type": "display_data"
    },
    {
     "name": "stdout",
     "output_type": "stream",
     "text": [
      "Traf Deaths\n",
      "bandwidth: 1.0\n"
     ]
    },
    {
     "data": {
      "image/png": "[encoded data removed]",
      "text/plain": [
       "<Figure size 432x288 with 1 Axes>"
      ]
     },
     "metadata": {
      "needs_background": "light"
     },
     "output_type": "display_data"
    },
    {
     "data": {
      "text/plain": [
       "array([-2.35132313])"
      ]
     },
     "metadata": {},
     "output_type": "display_data"
    },
    {
     "data": {
      "text/plain": [
       "array([2.35804854])"
      ]
     },
     "metadata": {},
     "output_type": "display_data"
    },
    {
     "data": {
      "text/plain": [
       "Traf Deaths   -1.914266\n",
       "dtype: float64"
      ]
     },
     "metadata": {},
     "output_type": "display_data"
    },
    {
     "data": {
      "text/plain": [
       "Traf Deaths    3.694339\n",
       "dtype: float64"
      ]
     },
     "metadata": {},
     "output_type": "display_data"
    },
    {
     "name": "stdout",
     "output_type": "stream",
     "text": [
      "White\n",
      "bandwidth: 1.0\n"
     ]
    },
    {
     "data": {
      "image/png": "[encoded data removed]",
      "text/plain": [
       "<Figure size 432x288 with 1 Axes>"
      ]
     },
     "metadata": {
      "needs_background": "light"
     },
     "output_type": "display_data"
    },
    {
     "data": {
      "text/plain": [
       "array([-2.36051296])"
      ]
     },
     "metadata": {},
     "output_type": "display_data"
    },
    {
     "data": {
      "text/plain": [
       "array([2.3453575])"
      ]
     },
     "metadata": {},
     "output_type": "display_data"
    },
    {
     "data": {
      "text/plain": [
       "White   -3.965103\n",
       "dtype: float64"
      ]
     },
     "metadata": {},
     "output_type": "display_data"
    },
    {
     "data": {
      "text/plain": [
       "White    1.566087\n",
       "dtype: float64"
      ]
     },
     "metadata": {},
     "output_type": "display_data"
    },
    {
     "name": "stdout",
     "output_type": "stream",
     "text": [
      "Doctors\n",
      "bandwidth: 1.0\n"
     ]
    },
    {
     "data": {
      "image/png": "[encoded data removed]",
      "text/plain": [
       "<Figure size 432x288 with 1 Axes>"
      ]
     },
     "metadata": {
      "needs_background": "light"
     },
     "output_type": "display_data"
    },
    {
     "data": {
      "text/plain": [
       "array([-2.35569566])"
      ]
     },
     "metadata": {},
     "output_type": "display_data"
    },
    {
     "data": {
      "text/plain": [
       "array([2.34670591])"
      ]
     },
     "metadata": {},
     "output_type": "display_data"
    },
    {
     "data": {
      "text/plain": [
       "Doctors   -2.352371\n",
       "dtype: float64"
      ]
     },
     "metadata": {},
     "output_type": "display_data"
    },
    {
     "data": {
      "text/plain": [
       "Doctors    1.712015\n",
       "dtype: float64"
      ]
     },
     "metadata": {},
     "output_type": "display_data"
    },
    {
     "name": "stdout",
     "output_type": "stream",
     "text": [
      "Income\n",
      "bandwidth: 1.0\n"
     ]
    },
    {
     "data": {
      "image/png": "[encoded data removed]",
      "text/plain": [
       "<Figure size 432x288 with 1 Axes>"
      ]
     },
     "metadata": {
      "needs_background": "light"
     },
     "output_type": "display_data"
    },
    {
     "data": {
      "text/plain": [
       "array([-2.34591643])"
      ]
     },
     "metadata": {},
     "output_type": "display_data"
    },
    {
     "data": {
      "text/plain": [
       "array([2.34862591])"
      ]
     },
     "metadata": {},
     "output_type": "display_data"
    },
    {
     "data": {
      "text/plain": [
       "Income   -1.788511\n",
       "dtype: float64"
      ]
     },
     "metadata": {},
     "output_type": "display_data"
    },
    {
     "data": {
      "text/plain": [
       "Income    1.83332\n",
       "dtype: float64"
      ]
     },
     "metadata": {},
     "output_type": "display_data"
    },
    {
     "name": "stdout",
     "output_type": "stream",
     "text": [
      "Infant Mort\n",
      "bandwidth: 1.0\n"
     ]
    },
    {
     "data": {
      "image/png": "[encoded data removed]",
      "text/plain": [
       "<Figure size 432x288 with 1 Axes>"
      ]
     },
     "metadata": {
      "needs_background": "light"
     },
     "output_type": "display_data"
    },
    {
     "data": {
      "text/plain": [
       "array([-2.35327185])"
      ]
     },
     "metadata": {},
     "output_type": "display_data"
    },
    {
     "data": {
      "text/plain": [
       "array([2.34510981])"
      ]
     },
     "metadata": {},
     "output_type": "display_data"
    },
    {
     "data": {
      "text/plain": [
       "Infant Mort   -2.091258\n",
       "dtype: float64"
      ]
     },
     "metadata": {},
     "output_type": "display_data"
    },
    {
     "data": {
      "text/plain": [
       "Infant Mort    1.771269\n",
       "dtype: float64"
      ]
     },
     "metadata": {},
     "output_type": "display_data"
    },
    {
     "name": "stdout",
     "output_type": "stream",
     "text": [
      "Population\n",
      "bandwidth: 1.0\n"
     ]
    },
    {
     "data": {
      "image/png": "[encoded data removed]",
      "text/plain": [
       "<Figure size 432x288 with 1 Axes>"
      ]
     },
     "metadata": {
      "needs_background": "light"
     },
     "output_type": "display_data"
    },
    {
     "data": {
      "text/plain": [
       "array([-2.35269035])"
      ]
     },
     "metadata": {},
     "output_type": "display_data"
    },
    {
     "data": {
      "text/plain": [
       "array([2.35078147])"
      ]
     },
     "metadata": {},
     "output_type": "display_data"
    },
    {
     "data": {
      "text/plain": [
       "Population   -2.142666\n",
       "dtype: float64"
      ]
     },
     "metadata": {},
     "output_type": "display_data"
    },
    {
     "data": {
      "text/plain": [
       "Population    1.970986\n",
       "dtype: float64"
      ]
     },
     "metadata": {},
     "output_type": "display_data"
    }
   ],
   "source": [
    "grid = GridSearchCV(KernelDensity(kernel='gaussian'),\n",
    "                        {'bandwidth': bandwidths},\n",
    "                        )\n",
    "\n",
    "kde_pct = pd.DataFrame()\n",
    "raw_pct = pd.DataFrame()\n",
    "\n",
    "for i in X.columns:\n",
    "    print(i)\n",
    "    og = X_[[i]].sort_values(kind=\"quicksort\", by=i,ascending=True)\n",
    "    og_pct = pd.DataFrame(st.norm.cdf(og),index=og.index)\n",
    "    plt.plot(og_pct)\n",
    "    plt.xticks(rotation = 90,size=8)\n",
    "    grid.fit(og_pct)\n",
    "    print(\"bandwidth: \" + str(grid.best_params_['bandwidth']))\n",
    "    kde = KernelDensity(bandwidth=grid.best_params_['bandwidth'], kernel='gaussian')\n",
    "    kde.fit(og_pct)\n",
    "    logprobX = np.cumsum(np.exp(kde.score_samples(og_pct)))/np.sum(np.exp(kde.score_samples(og_pct)))\n",
    "    logprobX = (pd.DataFrame(logprobX).shift(1).replace([np.inf, -np.inf, np.NaN], 0)+pd.DataFrame(logprobX))/2\n",
    "    logprobX.index = og.index\n",
    "    kde_pct = pd.concat([kde_pct,logprobX],axis=1)\n",
    "    raw_pct = pd.concat([raw_pct,og_pct],axis=1)\n",
    "    plt.plot(logprobX)\n",
    "    plt.show()\n",
    "    display(st.norm.ppf(logprobX)[0])\n",
    "    display(st.norm.ppf(logprobX)[len(logprobX)-1])\n",
    "    display(X_[[i]].min())\n",
    "    display(X_[[i]].max())\n",
    "\n"
   ]
  },
  {
   "cell_type": "code",
   "execution_count": 548,
   "id": "29ff6fa6-4424-448a-9173-fa1533d7ab0b",
   "metadata": {},
   "outputs": [],
   "source": [
    "raw_pct.columns = X.columns\n",
    "kde_pct.columns = X.columns"
   ]
  },
  {
   "cell_type": "code",
   "execution_count": 549,
   "id": "fb21e33c-640b-4cec-b5cc-f7cb717b8eb3",
   "metadata": {},
   "outputs": [
    {
     "data": {
      "image/png": "[encoded data removed]",
      "text/plain": [
       "<Figure size 720x504 with 1 Axes>"
      ]
     },
     "metadata": {
      "needs_background": "light"
     },
     "output_type": "display_data"
    }
   ],
   "source": [
    "fig = plt.figure(figsize =(10, 7))\n",
    "ax = fig.add_axes([0, 0, 1, 1])\n",
    "\n",
    "# Creating plot\n",
    "bp = ax.boxplot(kde_pct)"
   ]
  },
  {
   "cell_type": "code",
   "execution_count": 550,
   "id": "57163609-4c18-4290-980d-2a85b9c2e588",
   "metadata": {},
   "outputs": [
    {
     "data": {
      "image/png": "[encoded data removed]",
      "text/plain": [
       "<Figure size 720x504 with 1 Axes>"
      ]
     },
     "metadata": {
      "needs_background": "light"
     },
     "output_type": "display_data"
    }
   ],
   "source": [
    "fig = plt.figure(figsize =(10, 7))\n",
    "ax = fig.add_axes([0, 0, 1, 1])\n",
    "\n",
    "# Creating plot\n",
    "bp = ax.boxplot(raw_pct)"
   ]
  },
  {
   "cell_type": "code",
   "execution_count": 645,
   "id": "5ede7ebb-363e-4349-a0e9-515ef451e8b2",
   "metadata": {},
   "outputs": [],
   "source": [
    "random_ = pd.DataFrame(np.random.rand(10000,10),columns=X.columns)*(kde_pct.max()-kde_pct.min())+kde_pct.min()\n",
    "#random_ = pd.DataFrame(np.random.rand(10000,10),columns=X.columns)*(raw_pct.max()-raw_pct.min())+raw_pct.min()\n",
    "random_set = scaler.inverse_transform(pd.DataFrame(st.norm.ppf(random_),columns=X_.columns)).describe()\n"
   ]
  },
  {
   "cell_type": "code",
   "execution_count": 646,
   "id": "02bde6e4-71d7-49e5-883d-f94e44f43918",
   "metadata": {},
   "outputs": [
    {
     "data": {
      "text/html": [
       "<div>\n",
       "<style scoped>\n",
       "    .dataframe tbody tr th:only-of-type {\n",
       "        vertical-align: middle;\n",
       "    }\n",
       "\n",
       "    .dataframe tbody tr th {\n",
       "        vertical-align: top;\n",
       "    }\n",
       "\n",
       "    .dataframe thead th {\n",
       "        text-align: right;\n",
       "    }\n",
       "</style>\n",
       "<table border=\"1\" class=\"dataframe\">\n",
       "  <thead>\n",
       "    <tr style=\"text-align: right;\">\n",
       "      <th></th>\n",
       "      <th>Crime</th>\n",
       "      <th>Poverty</th>\n",
       "      <th>University</th>\n",
       "      <th>Unemployed</th>\n",
       "      <th>Traf Deaths</th>\n",
       "      <th>White</th>\n",
       "      <th>Doctors</th>\n",
       "      <th>Income</th>\n",
       "      <th>Infant Mort</th>\n",
       "      <th>Population</th>\n",
       "    </tr>\n",
       "  </thead>\n",
       "  <tbody>\n",
       "    <tr>\n",
       "      <th>count</th>\n",
       "      <td>8.000000</td>\n",
       "      <td>8.000000</td>\n",
       "      <td>8.000000</td>\n",
       "      <td>8.000000</td>\n",
       "      <td>8.000000</td>\n",
       "      <td>8.000000</td>\n",
       "      <td>8.000000</td>\n",
       "      <td>8.000000</td>\n",
       "      <td>8.000000</td>\n",
       "      <td>8.000000e+00</td>\n",
       "    </tr>\n",
       "    <tr>\n",
       "      <th>mean</th>\n",
       "      <td>1623.888148</td>\n",
       "      <td>1260.519067</td>\n",
       "      <td>1271.070352</td>\n",
       "      <td>1254.237028</td>\n",
       "      <td>1251.214159</td>\n",
       "      <td>1304.544739</td>\n",
       "      <td>1466.264913</td>\n",
       "      <td>42650.954116</td>\n",
       "      <td>1255.478235</td>\n",
       "      <td>9.310345e+06</td>\n",
       "    </tr>\n",
       "    <tr>\n",
       "      <th>std</th>\n",
       "      <td>3401.496558</td>\n",
       "      <td>3531.289627</td>\n",
       "      <td>3527.039316</td>\n",
       "      <td>3533.822673</td>\n",
       "      <td>3535.043416</td>\n",
       "      <td>3513.706391</td>\n",
       "      <td>3450.922641</td>\n",
       "      <td>25613.093915</td>\n",
       "      <td>3533.321634</td>\n",
       "      <td>1.740941e+07</td>\n",
       "    </tr>\n",
       "    <tr>\n",
       "      <th>min</th>\n",
       "      <td>39.999403</td>\n",
       "      <td>2.625206</td>\n",
       "      <td>4.337996</td>\n",
       "      <td>1.099877</td>\n",
       "      <td>0.361011</td>\n",
       "      <td>-5.954546</td>\n",
       "      <td>51.057869</td>\n",
       "      <td>7382.232435</td>\n",
       "      <td>1.132883</td>\n",
       "      <td>-1.074691e+06</td>\n",
       "    </tr>\n",
       "    <tr>\n",
       "      <th>25%</th>\n",
       "      <td>257.216193</td>\n",
       "      <td>9.671302</td>\n",
       "      <td>21.168868</td>\n",
       "      <td>4.039131</td>\n",
       "      <td>1.009817</td>\n",
       "      <td>60.526666</td>\n",
       "      <td>199.403881</td>\n",
       "      <td>27760.101627</td>\n",
       "      <td>5.484338</td>\n",
       "      <td>1.688500e+06</td>\n",
       "    </tr>\n",
       "    <tr>\n",
       "      <th>50%</th>\n",
       "      <td>399.891846</td>\n",
       "      <td>12.729799</td>\n",
       "      <td>26.497290</td>\n",
       "      <td>5.312139</td>\n",
       "      <td>1.409852</td>\n",
       "      <td>82.789330</td>\n",
       "      <td>248.421630</td>\n",
       "      <td>48380.040840</td>\n",
       "      <td>6.760299</td>\n",
       "      <td>4.585097e+06</td>\n",
       "    </tr>\n",
       "    <tr>\n",
       "      <th>75%</th>\n",
       "      <td>682.453381</td>\n",
       "      <td>17.060460</td>\n",
       "      <td>33.204430</td>\n",
       "      <td>6.814838</td>\n",
       "      <td>2.034491</td>\n",
       "      <td>91.666026</td>\n",
       "      <td>344.862516</td>\n",
       "      <td>52622.356808</td>\n",
       "      <td>8.563755</td>\n",
       "      <td>5.792721e+06</td>\n",
       "    </tr>\n",
       "    <tr>\n",
       "      <th>max</th>\n",
       "      <td>10000.000000</td>\n",
       "      <td>10000.000000</td>\n",
       "      <td>10000.000000</td>\n",
       "      <td>10000.000000</td>\n",
       "      <td>10000.000000</td>\n",
       "      <td>10000.000000</td>\n",
       "      <td>10000.000000</td>\n",
       "      <td>85888.152495</td>\n",
       "      <td>10000.000000</td>\n",
       "      <td>5.186397e+07</td>\n",
       "    </tr>\n",
       "  </tbody>\n",
       "</table>\n",
       "</div>"
      ],
      "text/plain": [
       "              Crime       Poverty    University    Unemployed   Traf Deaths  \\\n",
       "count      8.000000      8.000000      8.000000      8.000000      8.000000   \n",
       "mean    1623.888148   1260.519067   1271.070352   1254.237028   1251.214159   \n",
       "std     3401.496558   3531.289627   3527.039316   3533.822673   3535.043416   \n",
       "min       39.999403      2.625206      4.337996      1.099877      0.361011   \n",
       "25%      257.216193      9.671302     21.168868      4.039131      1.009817   \n",
       "50%      399.891846     12.729799     26.497290      5.312139      1.409852   \n",
       "75%      682.453381     17.060460     33.204430      6.814838      2.034491   \n",
       "max    10000.000000  10000.000000  10000.000000  10000.000000  10000.000000   \n",
       "\n",
       "              White       Doctors        Income   Infant Mort    Population  \n",
       "count      8.000000      8.000000      8.000000      8.000000  8.000000e+00  \n",
       "mean    1304.544739   1466.264913  42650.954116   1255.478235  9.310345e+06  \n",
       "std     3513.706391   3450.922641  25613.093915   3533.321634  1.740941e+07  \n",
       "min       -5.954546     51.057869   7382.232435      1.132883 -1.074691e+06  \n",
       "25%       60.526666    199.403881  27760.101627      5.484338  1.688500e+06  \n",
       "50%       82.789330    248.421630  48380.040840      6.760299  4.585097e+06  \n",
       "75%       91.666026    344.862516  52622.356808      8.563755  5.792721e+06  \n",
       "max    10000.000000  10000.000000  85888.152495  10000.000000  5.186397e+07  "
      ]
     },
     "execution_count": 646,
     "metadata": {},
     "output_type": "execute_result"
    }
   ],
   "source": [
    "random_set.describe()"
   ]
  },
  {
   "cell_type": "code",
   "execution_count": 585,
   "id": "3b247529-0fd6-4825-9d69-31f8b97cfe61",
   "metadata": {},
   "outputs": [],
   "source": [
    "\n"
   ]
  },
  {
   "cell_type": "code",
   "execution_count": 635,
   "id": "2b8717e4-d1cc-4493-8e94-cbba73902b40",
   "metadata": {},
   "outputs": [],
   "source": []
  },
  {
   "cell_type": "code",
   "execution_count": 650,
   "id": "c80cd74e-bd72-44b2-bd1d-ea8d1eea31c0",
   "metadata": {},
   "outputs": [
    {
     "data": {
      "text/html": [
       "<div>\n",
       "<style scoped>\n",
       "    .dataframe tbody tr th:only-of-type {\n",
       "        vertical-align: middle;\n",
       "    }\n",
       "\n",
       "    .dataframe tbody tr th {\n",
       "        vertical-align: top;\n",
       "    }\n",
       "\n",
       "    .dataframe thead th {\n",
       "        text-align: right;\n",
       "    }\n",
       "</style>\n",
       "<table border=\"1\" class=\"dataframe\">\n",
       "  <thead>\n",
       "    <tr style=\"text-align: right;\">\n",
       "      <th></th>\n",
       "      <th>Crime</th>\n",
       "      <th>Poverty</th>\n",
       "      <th>University</th>\n",
       "      <th>Unemployed</th>\n",
       "      <th>Traf Deaths</th>\n",
       "      <th>White</th>\n",
       "      <th>Doctors</th>\n",
       "      <th>Income</th>\n",
       "      <th>Infant Mort</th>\n",
       "      <th>Population</th>\n",
       "    </tr>\n",
       "  </thead>\n",
       "  <tbody>\n",
       "    <tr>\n",
       "      <th>0</th>\n",
       "      <td>0.116897</td>\n",
       "      <td>0.268784</td>\n",
       "      <td>0.254924</td>\n",
       "      <td>2.126071</td>\n",
       "      <td>-0.338824</td>\n",
       "      <td>-0.554722</td>\n",
       "      <td>-0.032073</td>\n",
       "      <td>1.433795</td>\n",
       "      <td>-0.965122</td>\n",
       "      <td>1.911607</td>\n",
       "    </tr>\n",
       "  </tbody>\n",
       "</table>\n",
       "</div>"
      ],
      "text/plain": [
       "      Crime   Poverty  University  Unemployed  Traf Deaths     White  \\\n",
       "0  0.116897  0.268784    0.254924    2.126071    -0.338824 -0.554722   \n",
       "\n",
       "    Doctors    Income  Infant Mort  Population  \n",
       "0 -0.032073  1.433795    -0.965122    1.911607  "
      ]
     },
     "execution_count": 650,
     "metadata": {},
     "output_type": "execute_result"
    }
   ],
   "source": []
  },
  {
   "cell_type": "code",
   "execution_count": 661,
   "id": "65716fc7-ff29-4ba3-8c60-f940e3c8813b",
   "metadata": {},
   "outputs": [
    {
     "data": {
      "text/html": [
       "<div>\n",
       "<style scoped>\n",
       "    .dataframe tbody tr th:only-of-type {\n",
       "        vertical-align: middle;\n",
       "    }\n",
       "\n",
       "    .dataframe tbody tr th {\n",
       "        vertical-align: top;\n",
       "    }\n",
       "\n",
       "    .dataframe thead th {\n",
       "        text-align: right;\n",
       "    }\n",
       "</style>\n",
       "<table border=\"1\" class=\"dataframe\">\n",
       "  <thead>\n",
       "    <tr style=\"text-align: right;\">\n",
       "      <th></th>\n",
       "      <th>Crime</th>\n",
       "      <th>Poverty</th>\n",
       "      <th>University</th>\n",
       "      <th>Unemployed</th>\n",
       "      <th>Traf Deaths</th>\n",
       "      <th>White</th>\n",
       "      <th>Doctors</th>\n",
       "      <th>Income</th>\n",
       "      <th>Infant Mort</th>\n",
       "      <th>Population</th>\n",
       "      <th>...</th>\n",
       "      <th>Crime</th>\n",
       "      <th>Poverty</th>\n",
       "      <th>University</th>\n",
       "      <th>Unemployed</th>\n",
       "      <th>Traf Deaths</th>\n",
       "      <th>White</th>\n",
       "      <th>Doctors</th>\n",
       "      <th>Income</th>\n",
       "      <th>Infant Mort</th>\n",
       "      <th>Population</th>\n",
       "    </tr>\n",
       "  </thead>\n",
       "  <tbody>\n",
       "    <tr>\n",
       "      <th>0</th>\n",
       "      <td>0.462768</td>\n",
       "      <td>0.279718</td>\n",
       "      <td>0.978956</td>\n",
       "      <td>0.293073</td>\n",
       "      <td>0.951532</td>\n",
       "      <td>0.183984</td>\n",
       "      <td>0.060717</td>\n",
       "      <td>0.298877</td>\n",
       "      <td>0.739397</td>\n",
       "      <td>0.442198</td>\n",
       "      <td>...</td>\n",
       "      <td>0.462768</td>\n",
       "      <td>0.359907</td>\n",
       "      <td>0.953423</td>\n",
       "      <td>0.293073</td>\n",
       "      <td>0.449298</td>\n",
       "      <td>0.920672</td>\n",
       "      <td>0.595082</td>\n",
       "      <td>0.219554</td>\n",
       "      <td>0.066502</td>\n",
       "      <td>0.661577</td>\n",
       "    </tr>\n",
       "  </tbody>\n",
       "</table>\n",
       "<p>1 rows × 1000 columns</p>\n",
       "</div>"
      ],
      "text/plain": [
       "      Crime   Poverty  University  Unemployed  Traf Deaths     White  \\\n",
       "0  0.462768  0.279718    0.978956    0.293073     0.951532  0.183984   \n",
       "\n",
       "    Doctors    Income  Infant Mort  Population  ...     Crime   Poverty  \\\n",
       "0  0.060717  0.298877     0.739397    0.442198  ...  0.462768  0.359907   \n",
       "\n",
       "   University  Unemployed  Traf Deaths     White   Doctors    Income  \\\n",
       "0    0.953423    0.293073     0.449298  0.920672  0.595082  0.219554   \n",
       "\n",
       "   Infant Mort  Population  \n",
       "0     0.066502    0.661577  \n",
       "\n",
       "[1 rows x 1000 columns]"
      ]
     },
     "execution_count": 661,
     "metadata": {},
     "output_type": "execute_result"
    }
   ],
   "source": []
  },
  {
   "cell_type": "code",
   "execution_count": 664,
   "id": "19bc4399-99e7-428d-8625-53ac071bb8d2",
   "metadata": {},
   "outputs": [
    {
     "data": {
      "text/html": [
       "<div>\n",
       "<style scoped>\n",
       "    .dataframe tbody tr th:only-of-type {\n",
       "        vertical-align: middle;\n",
       "    }\n",
       "\n",
       "    .dataframe tbody tr th {\n",
       "        vertical-align: top;\n",
       "    }\n",
       "\n",
       "    .dataframe thead th {\n",
       "        text-align: right;\n",
       "    }\n",
       "</style>\n",
       "<table border=\"1\" class=\"dataframe\">\n",
       "  <thead>\n",
       "    <tr style=\"text-align: right;\">\n",
       "      <th></th>\n",
       "      <th>Crime</th>\n",
       "      <th>Poverty</th>\n",
       "      <th>University</th>\n",
       "      <th>Unemployed</th>\n",
       "      <th>Traf Deaths</th>\n",
       "      <th>White</th>\n",
       "      <th>Doctors</th>\n",
       "      <th>Income</th>\n",
       "      <th>Infant Mort</th>\n",
       "      <th>Population</th>\n",
       "    </tr>\n",
       "  </thead>\n",
       "  <tbody>\n",
       "    <tr>\n",
       "      <th>count</th>\n",
       "      <td>1000.000000</td>\n",
       "      <td>1000.000000</td>\n",
       "      <td>1000.000000</td>\n",
       "      <td>1000.000000</td>\n",
       "      <td>1000.000000</td>\n",
       "      <td>1000.000000</td>\n",
       "      <td>1000.000000</td>\n",
       "      <td>1000.000000</td>\n",
       "      <td>1000.000000</td>\n",
       "      <td>1.000000e+03</td>\n",
       "    </tr>\n",
       "    <tr>\n",
       "      <th>mean</th>\n",
       "      <td>395.726069</td>\n",
       "      <td>12.795867</td>\n",
       "      <td>26.967817</td>\n",
       "      <td>5.189686</td>\n",
       "      <td>1.399025</td>\n",
       "      <td>81.928596</td>\n",
       "      <td>260.838464</td>\n",
       "      <td>51523.359507</td>\n",
       "      <td>6.794530</td>\n",
       "      <td>5.562754e+06</td>\n",
       "    </tr>\n",
       "    <tr>\n",
       "      <th>std</th>\n",
       "      <td>183.192958</td>\n",
       "      <td>2.853383</td>\n",
       "      <td>4.615095</td>\n",
       "      <td>1.217555</td>\n",
       "      <td>0.409304</td>\n",
       "      <td>17.883861</td>\n",
       "      <td>59.030701</td>\n",
       "      <td>8322.589348</td>\n",
       "      <td>1.265790</td>\n",
       "      <td>5.817545e+06</td>\n",
       "    </tr>\n",
       "    <tr>\n",
       "      <th>min</th>\n",
       "      <td>26.759570</td>\n",
       "      <td>6.561698</td>\n",
       "      <td>13.302696</td>\n",
       "      <td>2.669794</td>\n",
       "      <td>0.563274</td>\n",
       "      <td>-67.150599</td>\n",
       "      <td>131.017862</td>\n",
       "      <td>30437.114915</td>\n",
       "      <td>3.586190</td>\n",
       "      <td>-1.100717e+06</td>\n",
       "    </tr>\n",
       "    <tr>\n",
       "      <th>25%</th>\n",
       "      <td>270.178206</td>\n",
       "      <td>10.782441</td>\n",
       "      <td>23.901310</td>\n",
       "      <td>4.231876</td>\n",
       "      <td>1.128528</td>\n",
       "      <td>80.130291</td>\n",
       "      <td>220.973369</td>\n",
       "      <td>45502.247014</td>\n",
       "      <td>5.809849</td>\n",
       "      <td>2.158139e+06</td>\n",
       "    </tr>\n",
       "    <tr>\n",
       "      <th>50%</th>\n",
       "      <td>359.427824</td>\n",
       "      <td>12.563553</td>\n",
       "      <td>26.584208</td>\n",
       "      <td>5.142388</td>\n",
       "      <td>1.346406</td>\n",
       "      <td>85.812347</td>\n",
       "      <td>249.523940</td>\n",
       "      <td>50156.347500</td>\n",
       "      <td>6.784285</td>\n",
       "      <td>3.856812e+06</td>\n",
       "    </tr>\n",
       "    <tr>\n",
       "      <th>75%</th>\n",
       "      <td>501.147440</td>\n",
       "      <td>14.521905</td>\n",
       "      <td>29.852958</td>\n",
       "      <td>6.012414</td>\n",
       "      <td>1.585818</td>\n",
       "      <td>90.045398</td>\n",
       "      <td>291.485929</td>\n",
       "      <td>56500.236292</td>\n",
       "      <td>7.610340</td>\n",
       "      <td>6.859276e+06</td>\n",
       "    </tr>\n",
       "    <tr>\n",
       "      <th>max</th>\n",
       "      <td>1242.892442</td>\n",
       "      <td>23.726780</td>\n",
       "      <td>43.235129</td>\n",
       "      <td>9.062001</td>\n",
       "      <td>3.525083</td>\n",
       "      <td>98.934361</td>\n",
       "      <td>516.520157</td>\n",
       "      <td>83349.342393</td>\n",
       "      <td>11.992797</td>\n",
       "      <td>5.403646e+07</td>\n",
       "    </tr>\n",
       "  </tbody>\n",
       "</table>\n",
       "</div>"
      ],
      "text/plain": [
       "             Crime      Poverty   University   Unemployed  Traf Deaths  \\\n",
       "count  1000.000000  1000.000000  1000.000000  1000.000000  1000.000000   \n",
       "mean    395.726069    12.795867    26.967817     5.189686     1.399025   \n",
       "std     183.192958     2.853383     4.615095     1.217555     0.409304   \n",
       "min      26.759570     6.561698    13.302696     2.669794     0.563274   \n",
       "25%     270.178206    10.782441    23.901310     4.231876     1.128528   \n",
       "50%     359.427824    12.563553    26.584208     5.142388     1.346406   \n",
       "75%     501.147440    14.521905    29.852958     6.012414     1.585818   \n",
       "max    1242.892442    23.726780    43.235129     9.062001     3.525083   \n",
       "\n",
       "             White      Doctors        Income  Infant Mort    Population  \n",
       "count  1000.000000  1000.000000   1000.000000  1000.000000  1.000000e+03  \n",
       "mean     81.928596   260.838464  51523.359507     6.794530  5.562754e+06  \n",
       "std      17.883861    59.030701   8322.589348     1.265790  5.817545e+06  \n",
       "min     -67.150599   131.017862  30437.114915     3.586190 -1.100717e+06  \n",
       "25%      80.130291   220.973369  45502.247014     5.809849  2.158139e+06  \n",
       "50%      85.812347   249.523940  50156.347500     6.784285  3.856812e+06  \n",
       "75%      90.045398   291.485929  56500.236292     7.610340  6.859276e+06  \n",
       "max      98.934361   516.520157  83349.342393    11.992797  5.403646e+07  "
      ]
     },
     "execution_count": 664,
     "metadata": {},
     "output_type": "execute_result"
    }
   ],
   "source": [
    "dataset = pd.DataFrame()\n",
    "\n",
    "for p in range(0,1000):\n",
    "    row = list()\n",
    "    indices = np.random.choice(raw_pct.shape[0], size=len(raw_pct.columns))\n",
    "    for i in range(0,len(raw_pct.columns)):\n",
    "        row.append(raw_pct[[raw_pct.columns[i]]].iloc[indices[i]][0])\n",
    "        #print()\n",
    "        \n",
    "    data = pd.DataFrame(row).T\n",
    "    data.columns = raw_pct.columns    \n",
    "\n",
    "    dataset = pd.concat([dataset,data],axis=0)\n",
    "    \n",
    "scaler.inverse_transform(pd.DataFrame(st.norm.ppf(dataset),columns=data.columns)).describe()"
   ]
  },
  {
   "cell_type": "code",
   "execution_count": 555,
   "id": "ac606e51-4547-4418-b75b-d8d4f7f0b4ed",
   "metadata": {},
   "outputs": [
    {
     "data": {
      "text/html": [
       "<div>\n",
       "<style scoped>\n",
       "    .dataframe tbody tr th:only-of-type {\n",
       "        vertical-align: middle;\n",
       "    }\n",
       "\n",
       "    .dataframe tbody tr th {\n",
       "        vertical-align: top;\n",
       "    }\n",
       "\n",
       "    .dataframe thead th {\n",
       "        text-align: right;\n",
       "    }\n",
       "</style>\n",
       "<table border=\"1\" class=\"dataframe\">\n",
       "  <thead>\n",
       "    <tr style=\"text-align: right;\">\n",
       "      <th></th>\n",
       "      <th>Crime</th>\n",
       "      <th>Poverty</th>\n",
       "      <th>University</th>\n",
       "      <th>Unemployed</th>\n",
       "      <th>Traf Deaths</th>\n",
       "      <th>White</th>\n",
       "      <th>Doctors</th>\n",
       "      <th>Income</th>\n",
       "      <th>Infant Mort</th>\n",
       "      <th>Population</th>\n",
       "    </tr>\n",
       "  </thead>\n",
       "  <tbody>\n",
       "    <tr>\n",
       "      <th>count</th>\n",
       "      <td>10000.000000</td>\n",
       "      <td>10000.000000</td>\n",
       "      <td>10000.000000</td>\n",
       "      <td>10000.000000</td>\n",
       "      <td>10000.000000</td>\n",
       "      <td>10000.000000</td>\n",
       "      <td>10000.000000</td>\n",
       "      <td>10000.000000</td>\n",
       "      <td>10000.000000</td>\n",
       "      <td>1.000000e+04</td>\n",
       "    </tr>\n",
       "    <tr>\n",
       "      <th>mean</th>\n",
       "      <td>512.332892</td>\n",
       "      <td>13.334333</td>\n",
       "      <td>27.764006</td>\n",
       "      <td>6.161917</td>\n",
       "      <td>1.410481</td>\n",
       "      <td>82.899121</td>\n",
       "      <td>273.521131</td>\n",
       "      <td>51752.332666</td>\n",
       "      <td>7.164381</td>\n",
       "      <td>7.623805e+06</td>\n",
       "    </tr>\n",
       "    <tr>\n",
       "      <th>std</th>\n",
       "      <td>60.301993</td>\n",
       "      <td>0.835323</td>\n",
       "      <td>1.374241</td>\n",
       "      <td>0.358754</td>\n",
       "      <td>0.105722</td>\n",
       "      <td>2.782650</td>\n",
       "      <td>18.917748</td>\n",
       "      <td>2289.636538</td>\n",
       "      <td>0.382310</td>\n",
       "      <td>1.994840e+06</td>\n",
       "    </tr>\n",
       "    <tr>\n",
       "      <th>min</th>\n",
       "      <td>353.965580</td>\n",
       "      <td>11.040248</td>\n",
       "      <td>23.735621</td>\n",
       "      <td>5.232395</td>\n",
       "      <td>1.088215</td>\n",
       "      <td>73.689370</td>\n",
       "      <td>230.248988</td>\n",
       "      <td>45352.404296</td>\n",
       "      <td>6.142089</td>\n",
       "      <td>3.888849e+06</td>\n",
       "    </tr>\n",
       "    <tr>\n",
       "      <th>25%</th>\n",
       "      <td>464.709592</td>\n",
       "      <td>12.729353</td>\n",
       "      <td>26.766394</td>\n",
       "      <td>5.873420</td>\n",
       "      <td>1.332111</td>\n",
       "      <td>80.913549</td>\n",
       "      <td>258.514865</td>\n",
       "      <td>50103.444110</td>\n",
       "      <td>6.864394</td>\n",
       "      <td>5.973546e+06</td>\n",
       "    </tr>\n",
       "    <tr>\n",
       "      <th>50%</th>\n",
       "      <td>509.833815</td>\n",
       "      <td>13.299206</td>\n",
       "      <td>27.741303</td>\n",
       "      <td>6.155242</td>\n",
       "      <td>1.406637</td>\n",
       "      <td>83.182742</td>\n",
       "      <td>272.003619</td>\n",
       "      <td>51661.246791</td>\n",
       "      <td>7.145748</td>\n",
       "      <td>7.323098e+06</td>\n",
       "    </tr>\n",
       "    <tr>\n",
       "      <th>75%</th>\n",
       "      <td>557.955376</td>\n",
       "      <td>13.908752</td>\n",
       "      <td>28.719511</td>\n",
       "      <td>6.446675</td>\n",
       "      <td>1.483503</td>\n",
       "      <td>85.116941</td>\n",
       "      <td>286.968619</td>\n",
       "      <td>53290.448437</td>\n",
       "      <td>7.452107</td>\n",
       "      <td>9.056980e+06</td>\n",
       "    </tr>\n",
       "    <tr>\n",
       "      <th>max</th>\n",
       "      <td>696.607117</td>\n",
       "      <td>16.242263</td>\n",
       "      <td>32.154261</td>\n",
       "      <td>7.099503</td>\n",
       "      <td>1.815358</td>\n",
       "      <td>89.185134</td>\n",
       "      <td>338.685382</td>\n",
       "      <td>59653.431931</td>\n",
       "      <td>8.430307</td>\n",
       "      <td>1.462403e+07</td>\n",
       "    </tr>\n",
       "  </tbody>\n",
       "</table>\n",
       "</div>"
      ],
      "text/plain": [
       "              Crime       Poverty    University    Unemployed   Traf Deaths  \\\n",
       "count  10000.000000  10000.000000  10000.000000  10000.000000  10000.000000   \n",
       "mean     512.332892     13.334333     27.764006      6.161917      1.410481   \n",
       "std       60.301993      0.835323      1.374241      0.358754      0.105722   \n",
       "min      353.965580     11.040248     23.735621      5.232395      1.088215   \n",
       "25%      464.709592     12.729353     26.766394      5.873420      1.332111   \n",
       "50%      509.833815     13.299206     27.741303      6.155242      1.406637   \n",
       "75%      557.955376     13.908752     28.719511      6.446675      1.483503   \n",
       "max      696.607117     16.242263     32.154261      7.099503      1.815358   \n",
       "\n",
       "              White       Doctors        Income   Infant Mort    Population  \n",
       "count  10000.000000  10000.000000  10000.000000  10000.000000  1.000000e+04  \n",
       "mean      82.899121    273.521131  51752.332666      7.164381  7.623805e+06  \n",
       "std        2.782650     18.917748   2289.636538      0.382310  1.994840e+06  \n",
       "min       73.689370    230.248988  45352.404296      6.142089  3.888849e+06  \n",
       "25%       80.913549    258.514865  50103.444110      6.864394  5.973546e+06  \n",
       "50%       83.182742    272.003619  51661.246791      7.145748  7.323098e+06  \n",
       "75%       85.116941    286.968619  53290.448437      7.452107  9.056980e+06  \n",
       "max       89.185134    338.685382  59653.431931      8.430307  1.462403e+07  "
      ]
     },
     "execution_count": 555,
     "metadata": {},
     "output_type": "execute_result"
    }
   ],
   "source": [
    "scaler.inverse_transform(random_).describe()"
   ]
  },
  {
   "cell_type": "code",
   "execution_count": 354,
   "id": "37f5c720-840a-4729-bf8a-23f9b3083412",
   "metadata": {},
   "outputs": [
    {
     "data": {
      "text/plain": [
       "Crime         -1.981415\n",
       "Poverty       -1.920661\n",
       "University    -2.656435\n",
       "Unemployed    -1.627159\n",
       "Traf Deaths   -1.914266\n",
       "White         -3.965103\n",
       "Doctors       -2.352371\n",
       "Income        -1.788511\n",
       "Infant Mort   -2.091258\n",
       "Population    -2.142666\n",
       "dtype: float64"
      ]
     },
     "metadata": {},
     "output_type": "display_data"
    },
    {
     "data": {
      "text/plain": [
       "Crime          2.249081\n",
       "Poverty        2.264157\n",
       "University     2.605767\n",
       "Unemployed     2.281258\n",
       "Traf Deaths    3.694339\n",
       "White          1.566087\n",
       "Doctors        1.712015\n",
       "Income         1.833320\n",
       "Infant Mort    1.771269\n",
       "Population     1.970986\n",
       "dtype: float64"
      ]
     },
     "metadata": {},
     "output_type": "display_data"
    }
   ],
   "source": [
    "display(X_.min())\n",
    "display(X_.max())"
   ]
  },
  {
   "cell_type": "code",
   "execution_count": null,
   "id": "df32aba4-ed83-4a93-9255-8037dd6bb609",
   "metadata": {},
   "outputs": [],
   "source": [
    "testzca = zca.ZCA()\n",
    "testzca.fit(X)\n",
    "testzca_X = pd.DataFrame(testzca.transform(X),index=all_data[exclude],columns=X.columns)"
   ]
  },
  {
   "cell_type": "code",
   "execution_count": null,
   "id": "778ae2a3-2a3c-4a35-943e-dc59f6d8ff2a",
   "metadata": {},
   "outputs": [],
   "source": [
    "#here I impute new values into the \"random noise\", aka whitened matrix\n",
    "test1 = testzca_X.loc[['New Mexico']]\n",
    "test2 = testzca_X.loc[['New Mexico']]\n",
    "test3 = testzca_X.loc[['New Mexico']]"
   ]
  },
  {
   "cell_type": "code",
   "execution_count": null,
   "id": "bda18e3d-627a-458b-9a52-cfcd5892c659",
   "metadata": {},
   "outputs": [],
   "source": []
  },
  {
   "cell_type": "code",
   "execution_count": null,
   "id": "b0a3628d-7b6b-49a3-bede-da7c438e2ad0",
   "metadata": {},
   "outputs": [],
   "source": [
    "test1['Crime']=testzca_X['Crime'].describe()['25%']\n",
    "test2['Crime']=0\n",
    "test3['Crime']=testzca_X['Crime'].describe()['75%']"
   ]
  },
  {
   "cell_type": "code",
   "execution_count": null,
   "id": "2276395e-b689-431f-9fc0-69de8ed16f68",
   "metadata": {},
   "outputs": [],
   "source": [
    "display(scaler.inverse_transform(test1))\n",
    "display(scaler.inverse_transform(test2))\n",
    "display(scaler.inverse_transform(test3))"
   ]
  },
  {
   "cell_type": "code",
   "execution_count": null,
   "id": "abb789db-7734-4e68-924b-c81f78b18077",
   "metadata": {},
   "outputs": [],
   "source": [
    "#here I impute new values into the \"random noise\", aka whitened matrix\n",
    "test4 = X_.loc[['Alaska']]\n",
    "test5 = X_.loc[['Alaska']]\n",
    "test6 = X_.loc[['Alaska']]"
   ]
  },
  {
   "cell_type": "code",
   "execution_count": null,
   "id": "7c275709-6562-4788-916e-28c53386c460",
   "metadata": {},
   "outputs": [],
   "source": [
    "test4['Crime']=X_['Crime'].min()\n",
    "test5['Crime']=0\n",
    "test6['Crime']=X_['Crime'].max()"
   ]
  },
  {
   "cell_type": "code",
   "execution_count": null,
   "id": "63ea4c40-ed15-43f3-92bb-1628b312eec6",
   "metadata": {},
   "outputs": [],
   "source": []
  },
  {
   "cell_type": "code",
   "execution_count": null,
   "id": "73122338-8800-409d-810d-21fdddb96077",
   "metadata": {},
   "outputs": [],
   "source": []
  },
  {
   "cell_type": "code",
   "execution_count": null,
   "id": "46349900-0bbf-4969-b6a6-b9960ed0e71e",
   "metadata": {},
   "outputs": [],
   "source": []
  },
  {
   "cell_type": "code",
   "execution_count": null,
   "id": "0143cc65-a29d-4793-af67-bebd4af5bc07",
   "metadata": {},
   "outputs": [],
   "source": []
  },
  {
   "cell_type": "code",
   "execution_count": null,
   "id": "52377b88-7c7b-4820-b123-8ddeeb195fe6",
   "metadata": {},
   "outputs": [],
   "source": [
    "display(scaler.inverse_transform(test4))\n",
    "display(scaler.inverse_transform(test5))\n",
    "display(scaler.inverse_transform(test6))"
   ]
  },
  {
   "cell_type": "code",
   "execution_count": null,
   "id": "b42a7b80-ffe2-4ede-bcd4-8a8bea673d6e",
   "metadata": {},
   "outputs": [],
   "source": [
    "scaler.inverse_transform(pd.DataFrame(np.zeros(shape=(1,len(X.columns))),columns=X.columns))"
   ]
  },
  {
   "cell_type": "code",
   "execution_count": null,
   "id": "d3b240fa-850b-4907-8c38-75204140da78",
   "metadata": {},
   "outputs": [],
   "source": [
    "scaler.inverse_transform(X_).describe()"
   ]
  },
  {
   "cell_type": "code",
   "execution_count": null,
   "id": "838fb010-7d1e-4be9-b500-2e6005a41f7b",
   "metadata": {},
   "outputs": [],
   "source": []
  },
  {
   "cell_type": "code",
   "execution_count": null,
   "id": "116408e4-b5e7-437b-8630-77dcd5dd5a73",
   "metadata": {},
   "outputs": [],
   "source": [
    "X_.hist()"
   ]
  },
  {
   "cell_type": "code",
   "execution_count": null,
   "id": "ee5cb2f0-0b2f-4354-82ce-e676aa39e021",
   "metadata": {},
   "outputs": [],
   "source": []
  },
  {
   "cell_type": "code",
   "execution_count": null,
   "id": "64f492db-e533-49f8-938a-a14c7dc412ad",
   "metadata": {},
   "outputs": [],
   "source": []
  },
  {
   "cell_type": "code",
   "execution_count": null,
   "id": "bb6ac271-8013-45fd-98a9-3c859ecb3897",
   "metadata": {},
   "outputs": [],
   "source": []
  },
  {
   "cell_type": "code",
   "execution_count": 553,
   "id": "016592fe-15eb-4931-b2ae-bc3b898102ea",
   "metadata": {},
   "outputs": [
    {
     "data": {
      "text/html": [
       "<div>\n",
       "<style scoped>\n",
       "    .dataframe tbody tr th:only-of-type {\n",
       "        vertical-align: middle;\n",
       "    }\n",
       "\n",
       "    .dataframe tbody tr th {\n",
       "        vertical-align: top;\n",
       "    }\n",
       "\n",
       "    .dataframe thead th {\n",
       "        text-align: right;\n",
       "    }\n",
       "</style>\n",
       "<table border=\"1\" class=\"dataframe\">\n",
       "  <thead>\n",
       "    <tr style=\"text-align: right;\">\n",
       "      <th></th>\n",
       "      <th>Crime</th>\n",
       "      <th>Poverty</th>\n",
       "      <th>University</th>\n",
       "      <th>Unemployed</th>\n",
       "      <th>Traf Deaths</th>\n",
       "      <th>White</th>\n",
       "      <th>Doctors</th>\n",
       "      <th>Income</th>\n",
       "      <th>Infant Mort</th>\n",
       "      <th>Population</th>\n",
       "    </tr>\n",
       "  </thead>\n",
       "  <tbody>\n",
       "    <tr>\n",
       "      <th>count</th>\n",
       "      <td>50.000000</td>\n",
       "      <td>50.000000</td>\n",
       "      <td>50.000000</td>\n",
       "      <td>50.000000</td>\n",
       "      <td>50.00000</td>\n",
       "      <td>50.00000</td>\n",
       "      <td>50.000000</td>\n",
       "      <td>50.000000</td>\n",
       "      <td>50.000000</td>\n",
       "      <td>5.000000e+01</td>\n",
       "    </tr>\n",
       "    <tr>\n",
       "      <th>mean</th>\n",
       "      <td>407.480000</td>\n",
       "      <td>12.732000</td>\n",
       "      <td>26.940000</td>\n",
       "      <td>5.270000</td>\n",
       "      <td>1.40440</td>\n",
       "      <td>81.96200</td>\n",
       "      <td>260.276000</td>\n",
       "      <td>51985.100000</td>\n",
       "      <td>6.830000</td>\n",
       "      <td>6.016154e+06</td>\n",
       "    </tr>\n",
       "    <tr>\n",
       "      <th>std</th>\n",
       "      <td>183.633868</td>\n",
       "      <td>2.939002</td>\n",
       "      <td>4.761152</td>\n",
       "      <td>1.253933</td>\n",
       "      <td>0.38654</td>\n",
       "      <td>11.97458</td>\n",
       "      <td>64.363415</td>\n",
       "      <td>8592.657934</td>\n",
       "      <td>1.338786</td>\n",
       "      <td>6.663772e+06</td>\n",
       "    </tr>\n",
       "    <tr>\n",
       "      <th>min</th>\n",
       "      <td>118.000000</td>\n",
       "      <td>7.600000</td>\n",
       "      <td>17.100000</td>\n",
       "      <td>3.000000</td>\n",
       "      <td>0.76000</td>\n",
       "      <td>29.70000</td>\n",
       "      <td>168.800000</td>\n",
       "      <td>37790.000000</td>\n",
       "      <td>4.700000</td>\n",
       "      <td>5.232260e+05</td>\n",
       "    </tr>\n",
       "    <tr>\n",
       "      <th>25%</th>\n",
       "      <td>278.250000</td>\n",
       "      <td>10.450000</td>\n",
       "      <td>24.025000</td>\n",
       "      <td>4.400000</td>\n",
       "      <td>1.14000</td>\n",
       "      <td>76.15000</td>\n",
       "      <td>218.425000</td>\n",
       "      <td>46161.250000</td>\n",
       "      <td>5.725000</td>\n",
       "      <td>1.779632e+06</td>\n",
       "    </tr>\n",
       "    <tr>\n",
       "      <th>50%</th>\n",
       "      <td>345.500000</td>\n",
       "      <td>12.400000</td>\n",
       "      <td>26.200000</td>\n",
       "      <td>5.300000</td>\n",
       "      <td>1.37500</td>\n",
       "      <td>84.55000</td>\n",
       "      <td>249.050000</td>\n",
       "      <td>50173.000000</td>\n",
       "      <td>6.850000</td>\n",
       "      <td>4.313980e+06</td>\n",
       "    </tr>\n",
       "    <tr>\n",
       "      <th>75%</th>\n",
       "      <td>520.000000</td>\n",
       "      <td>14.700000</td>\n",
       "      <td>29.825000</td>\n",
       "      <td>6.275000</td>\n",
       "      <td>1.62000</td>\n",
       "      <td>89.85000</td>\n",
       "      <td>274.800000</td>\n",
       "      <td>56903.000000</td>\n",
       "      <td>7.750000</td>\n",
       "      <td>6.490796e+06</td>\n",
       "    </tr>\n",
       "    <tr>\n",
       "      <th>max</th>\n",
       "      <td>788.000000</td>\n",
       "      <td>21.200000</td>\n",
       "      <td>38.100000</td>\n",
       "      <td>8.400000</td>\n",
       "      <td>2.45000</td>\n",
       "      <td>96.40000</td>\n",
       "      <td>469.000000</td>\n",
       "      <td>70545.000000</td>\n",
       "      <td>10.600000</td>\n",
       "      <td>3.618591e+07</td>\n",
       "    </tr>\n",
       "  </tbody>\n",
       "</table>\n",
       "</div>"
      ],
      "text/plain": [
       "            Crime    Poverty  University  Unemployed  Traf Deaths     White  \\\n",
       "count   50.000000  50.000000   50.000000   50.000000     50.00000  50.00000   \n",
       "mean   407.480000  12.732000   26.940000    5.270000      1.40440  81.96200   \n",
       "std    183.633868   2.939002    4.761152    1.253933      0.38654  11.97458   \n",
       "min    118.000000   7.600000   17.100000    3.000000      0.76000  29.70000   \n",
       "25%    278.250000  10.450000   24.025000    4.400000      1.14000  76.15000   \n",
       "50%    345.500000  12.400000   26.200000    5.300000      1.37500  84.55000   \n",
       "75%    520.000000  14.700000   29.825000    6.275000      1.62000  89.85000   \n",
       "max    788.000000  21.200000   38.100000    8.400000      2.45000  96.40000   \n",
       "\n",
       "          Doctors        Income  Infant Mort    Population  \n",
       "count   50.000000     50.000000    50.000000  5.000000e+01  \n",
       "mean   260.276000  51985.100000     6.830000  6.016154e+06  \n",
       "std     64.363415   8592.657934     1.338786  6.663772e+06  \n",
       "min    168.800000  37790.000000     4.700000  5.232260e+05  \n",
       "25%    218.425000  46161.250000     5.725000  1.779632e+06  \n",
       "50%    249.050000  50173.000000     6.850000  4.313980e+06  \n",
       "75%    274.800000  56903.000000     7.750000  6.490796e+06  \n",
       "max    469.000000  70545.000000    10.600000  3.618591e+07  "
      ]
     },
     "execution_count": 553,
     "metadata": {},
     "output_type": "execute_result"
    }
   ],
   "source": [
    "scaler.inverse_transform(X_).describe()"
   ]
  },
  {
   "cell_type": "code",
   "execution_count": null,
   "id": "42d391de-7c4b-4046-9ee1-7d4101ce2d25",
   "metadata": {},
   "outputs": [],
   "source": []
  },
  {
   "cell_type": "code",
   "execution_count": null,
   "id": "c00f94a2-7fe9-42e1-a2db-d19df693636d",
   "metadata": {},
   "outputs": [],
   "source": []
  },
  {
   "cell_type": "code",
   "execution_count": null,
   "id": "82bd1bd6-4228-41d8-ad82-98445a649a73",
   "metadata": {},
   "outputs": [],
   "source": []
  }
 ],
 "metadata": {
  "kernelspec": {
   "display_name": "Python 3 (ipykernel)",
   "language": "python",
   "name": "python3"
  },
  "language_info": {
   "codemirror_mode": {
    "name": "ipython",
    "version": 3
   },
   "file_extension": ".py",
   "mimetype": "text/x-python",
   "name": "python",
   "nbconvert_exporter": "python",
   "pygments_lexer": "ipython3",
   "version": "3.9.6"
  }
 },
 "nbformat": 4,
 "nbformat_minor": 5
}
