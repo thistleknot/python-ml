{
 "cells": [
  {
   "cell_type": "code",
   "execution_count": null,
   "id": "63f20f81-988e-445f-8ae4-066fa94a68bb",
   "metadata": {},
   "outputs": [],
   "source": [
    "from sklearn.base import BaseEstimator, TransformerMixin\n",
    "#https://github.com/mwv/zca\n",
    "from zca.zca import zca\n",
    "import pandas as pd\n",
    "from sklearn.preprocessing import StandardScaler, PowerTransformer\n",
    "from sklearn.neighbors import KernelDensity\n",
    "import matplotlib.pyplot as plt\n",
    "import scipy\n",
    "import numpy as np\n",
    "import scipy.stats as st\n",
    "from sklearn.model_selection import LeaveOneOut\n",
    "from sklearn.model_selection import GridSearchCV"
   ]
  },
  {
   "cell_type": "code",
   "execution_count": null,
   "id": "fa3dafa1-89d5-484f-933a-0e338d170f09",
   "metadata": {},
   "outputs": [],
   "source": [
    "class ss_yj_Transformer(BaseEstimator, TransformerMixin):\n",
    "    # add another additional parameter, just for fun, while we are at it\n",
    "    \n",
    "    def __init__(self, feature_names=[], additional_param = \"\"):  \n",
    "        self.ss_X = StandardScaler()\n",
    "        self.pt_X = PowerTransformer(standardize=True)\n",
    "        self.zca_X = zca.ZCA()\n",
    "        self.ss_y = StandardScaler()\n",
    "        self.pt_y = PowerTransformer(standardize=True)  \n",
    "        self.zca_y = zca.ZCA()\n",
    "        self.feature_names = feature_names\n",
    "        self.additional_param = additional_param\n",
    "        self.medians = pd.DataFrame()\n",
    "        self.mads = []\n",
    "        self.mad_transformed = pd.DataFrame()\n",
    "\n",
    "    def fit(self, X, y = None):\n",
    "        self.ss_X.fit(X)\n",
    "        self.medians = X.median()\n",
    "        self.mads = pd.DataFrame(scipy.stats.median_abs_deviation(X,scale='normal'),index=X.columns).T#scipy.stats.median_abs_deviation(X)\n",
    "        #self.pt_X.fit(self.ss_X.transform(X))\n",
    "        self.mad_transformed = ((X-X.median())/scipy.stats.median_abs_deviation(X,scale='normal'))\n",
    "        self.pt_X.fit(self.mad_transformed)        \n",
    "        self.zca_X.fit(self.pt_X.transform(self.ss_X.transform(X)))\n",
    "        if (y is not None):\n",
    "            self.ss_y.fit(y)\n",
    "            self.pt_y.fit(self.ss_y.transform(y))\n",
    "            self.zca_y.fit(self.pt_y.transform(self.ss_y.transform(y)))\n",
    "        return self\n",
    "\n",
    "    def transform(self, X, y = None):\n",
    "        #pt_X_ = pd.DataFrame(self.zca_X.fit_transform(self.pt_X.fit_transform(self.ss_X.fit_transform(X))),columns=X.columns,index=X.index)\n",
    "        #pt_X_ = pd.DataFrame(self.zca_X.fit_transform(self.pt_X.fit_transform(self.mad_transformed)),columns=X.columns,index=X.index)\n",
    "        pt_X_ = pd.DataFrame(self.zca_X.fit_transform(self.pt_X.fit_transform(self.mad_transformed)),columns=X.columns)\n",
    "        if (y is None):\n",
    "            return pt_X_\n",
    "        else:\n",
    "            pt_y_ = pd.DataFrame(self.zca_y.fit_transform(self.pt_y.fit_transform(self.ss_y.fit_transform(X))),columns=Y.columns,index=Y.index)\n",
    "            return pt_X_, pt_y_\n",
    "        \n",
    "    def inverse_transform(self, X, y = None):\n",
    "        #target_X = pd.DataFrame(self.ss_X.inverse_transform(self.pt_X.inverse_transform(self.zca_X.inverse_transform(X))),index=X.index,columns=X.columns)\n",
    "        target_X = pd.DataFrame((self.pt_X.inverse_transform(self.zca_X.inverse_transform(X))),columns=X.columns)*np.array(self.mads)+np.array(self.medians)\n",
    "        if (y is None):\n",
    "            return target_X\n",
    "        else:\n",
    "            target_y = pd.DataFrame(self.ss_Xy.inverse_transform(self.pt_y.inverse_transform(self.zca_y.inverse_transform(y))),index=y.index,columns=y.columns)\n",
    "            return target_X, target_y\n",
    "        "
   ]
  },
  {
   "cell_type": "code",
   "execution_count": null,
   "id": "c3c37c5b-3bcd-474f-92f4-63ef3666c043",
   "metadata": {},
   "outputs": [],
   "source": [
    "exclude = 'States'"
   ]
  },
  {
   "cell_type": "code",
   "execution_count": null,
   "id": "05f85791-54e6-4bc8-96da-24009f22063e",
   "metadata": {},
   "outputs": [],
   "source": [
    "bandwidths = np.linspace(1.0, 1.2, 10)"
   ]
  },
  {
   "cell_type": "code",
   "execution_count": null,
   "id": "1b061b7c-8793-4f3a-aac7-1d7c190466c2",
   "metadata": {},
   "outputs": [],
   "source": [
    "bandwidths"
   ]
  },
  {
   "cell_type": "code",
   "execution_count": null,
   "id": "93f388a2-71c8-42fa-8fc6-8dfd4d979219",
   "metadata": {},
   "outputs": [],
   "source": [
    "all_data = pd.read_csv('../data/raw/states.csv')\n",
    "\n",
    "X = all_data[set(all_data.columns).difference([exclude])].copy()\n",
    "display(X.describe())\n",
    "X.index=all_data[exclude]\n",
    "display(X)"
   ]
  },
  {
   "cell_type": "code",
   "execution_count": null,
   "id": "eb98fe9d-a3eb-4a98-beef-56ea29c948fc",
   "metadata": {},
   "outputs": [],
   "source": [
    "scaler = ss_yj_Transformer()\n",
    "scaler.fit(X)\n",
    "X_ = scaler.transform(X)\n",
    "X_.index=all_data[exclude]\n",
    "#display(X_)\n",
    "display(X_.describe())\n",
    "display(X_.min())\n",
    "display(X_.max())\n",
    "fig = plt.figure(figsize =(10, 7))\n",
    "ax = fig.add_axes([0, 0, 1, 1])\n",
    "\n",
    "# Creating plot\n",
    "bp = ax.boxplot(X_)"
   ]
  },
  {
   "cell_type": "code",
   "execution_count": null,
   "id": "0bb9bfdc-ab92-445c-bd97-3daeb7a51dc0",
   "metadata": {},
   "outputs": [],
   "source": []
  },
  {
   "cell_type": "code",
   "execution_count": null,
   "id": "b78fcb74-384e-45c2-adf7-68d8925ce71a",
   "metadata": {},
   "outputs": [],
   "source": []
  },
  {
   "cell_type": "code",
   "execution_count": null,
   "id": "04ac97be-c706-4639-bf15-39ca2e4b8cec",
   "metadata": {},
   "outputs": [],
   "source": []
  },
  {
   "cell_type": "code",
   "execution_count": null,
   "id": "6762e2f7-8137-4b67-9646-8238c6ad918d",
   "metadata": {},
   "outputs": [],
   "source": []
  },
  {
   "cell_type": "code",
   "execution_count": null,
   "id": "12d95ba3-9dbc-469a-a5dd-d7375d91f9b8",
   "metadata": {},
   "outputs": [],
   "source": [
    "grid = GridSearchCV(KernelDensity(kernel='gaussian'),\n",
    "                        {'bandwidth': bandwidths},\n",
    "                        )\n",
    "\n",
    "kde_pct = pd.DataFrame()\n",
    "raw_pct = pd.DataFrame()\n",
    "\n",
    "for i in X.columns:\n",
    "    print(i)\n",
    "    og = X_[[i]].sort_values(kind=\"quicksort\", by=i,ascending=True)\n",
    "    og_pct = pd.DataFrame(st.norm.cdf(og),index=og.index)\n",
    "    plt.plot(og_pct)\n",
    "    plt.xticks(rotation = 90,size=8)\n",
    "    grid.fit(og_pct)\n",
    "    print(\"bandwidth: \" + str(grid.best_params_['bandwidth']))\n",
    "    kde = KernelDensity(bandwidth=grid.best_params_['bandwidth'], kernel='gaussian')\n",
    "    kde.fit(og_pct)\n",
    "    logprobX = np.cumsum(np.exp(kde.score_samples(og_pct)))/np.sum(np.exp(kde.score_samples(og_pct)))\n",
    "    logprobX = (pd.DataFrame(logprobX).shift(1).replace([np.inf, -np.inf, np.NaN], 0)+pd.DataFrame(logprobX))/2\n",
    "    logprobX.index = og.index\n",
    "    kde_pct = pd.concat([kde_pct,logprobX],axis=1)\n",
    "    raw_pct = pd.concat([raw_pct,og_pct],axis=1)\n",
    "    plt.plot(logprobX)\n",
    "    plt.show()\n",
    "    display(st.norm.ppf(logprobX)[0])\n",
    "    display(st.norm.ppf(logprobX)[len(logprobX)-1])\n",
    "    display(X_[[i]].min())\n",
    "    display(X_[[i]].max())\n",
    "\n"
   ]
  },
  {
   "cell_type": "code",
   "execution_count": null,
   "id": "29ff6fa6-4424-448a-9173-fa1533d7ab0b",
   "metadata": {},
   "outputs": [],
   "source": [
    "raw_pct.columns = X.columns\n",
    "kde_pct.columns = X.columns"
   ]
  },
  {
   "cell_type": "code",
   "execution_count": null,
   "id": "fb21e33c-640b-4cec-b5cc-f7cb717b8eb3",
   "metadata": {},
   "outputs": [],
   "source": [
    "fig = plt.figure(figsize =(10, 7))\n",
    "ax = fig.add_axes([0, 0, 1, 1])\n",
    "\n",
    "# Creating plot\n",
    "bp = ax.boxplot(kde_pct)"
   ]
  },
  {
   "cell_type": "code",
   "execution_count": null,
   "id": "57163609-4c18-4290-980d-2a85b9c2e588",
   "metadata": {},
   "outputs": [],
   "source": [
    "fig = plt.figure(figsize =(10, 7))\n",
    "ax = fig.add_axes([0, 0, 1, 1])\n",
    "\n",
    "# Creating plot\n",
    "bp = ax.boxplot(raw_pct)"
   ]
  },
  {
   "cell_type": "code",
   "execution_count": null,
   "id": "5ede7ebb-363e-4349-a0e9-515ef451e8b2",
   "metadata": {},
   "outputs": [],
   "source": [
    "random_ = pd.DataFrame(np.random.rand(10000,10),columns=X.columns)*(kde_pct.max()-kde_pct.min())+kde_pct.min()\n",
    "#random_ = pd.DataFrame(np.random.rand(10000,10),columns=X.columns)*(raw_pct.max()-raw_pct.min())+raw_pct.min()\n",
    "random_set = scaler.inverse_transform(pd.DataFrame(st.norm.ppf(random_),columns=X_.columns)).describe()\n"
   ]
  },
  {
   "cell_type": "code",
   "execution_count": null,
   "id": "02bde6e4-71d7-49e5-883d-f94e44f43918",
   "metadata": {},
   "outputs": [],
   "source": [
    "random_set.describe()"
   ]
  },
  {
   "cell_type": "code",
   "execution_count": null,
   "id": "2828fbea-c6fe-45e4-b616-43a626b0ab9c",
   "metadata": {},
   "outputs": [],
   "source": []
  },
  {
   "cell_type": "code",
   "execution_count": null,
   "id": "3b247529-0fd6-4825-9d69-31f8b97cfe61",
   "metadata": {},
   "outputs": [],
   "source": []
  },
  {
   "cell_type": "code",
   "execution_count": null,
   "id": "f3a4cd57-3789-4689-9602-f062e7e20e9c",
   "metadata": {},
   "outputs": [],
   "source": []
  },
  {
   "cell_type": "code",
   "execution_count": null,
   "id": "2b8717e4-d1cc-4493-8e94-cbba73902b40",
   "metadata": {},
   "outputs": [],
   "source": []
  },
  {
   "cell_type": "code",
   "execution_count": null,
   "id": "c80cd74e-bd72-44b2-bd1d-ea8d1eea31c0",
   "metadata": {},
   "outputs": [],
   "source": []
  },
  {
   "cell_type": "code",
   "execution_count": null,
   "id": "65716fc7-ff29-4ba3-8c60-f940e3c8813b",
   "metadata": {},
   "outputs": [],
   "source": []
  },
  {
   "cell_type": "code",
   "execution_count": null,
   "id": "19bc4399-99e7-428d-8625-53ac071bb8d2",
   "metadata": {},
   "outputs": [],
   "source": [
    "dataset = pd.DataFrame()\n",
    "\n",
    "for p in range(0,1000):\n",
    "    row = list()\n",
    "    indices = np.random.choice(raw_pct.shape[0], size=len(raw_pct.columns))\n",
    "    for i in range(0,len(raw_pct.columns)):\n",
    "        row.append(raw_pct[[raw_pct.columns[i]]].iloc[indices[i]][0])\n",
    "        #print()\n",
    "        \n",
    "    data = pd.DataFrame(row).T\n",
    "    data.columns = raw_pct.columns    \n",
    "\n",
    "    dataset = pd.concat([dataset,data],axis=0)\n",
    "    \n",
    "scaler.inverse_transform(pd.DataFrame(st.norm.ppf(dataset),columns=data.columns)).describe()"
   ]
  },
  {
   "cell_type": "code",
   "execution_count": null,
   "id": "ac606e51-4547-4418-b75b-d8d4f7f0b4ed",
   "metadata": {},
   "outputs": [],
   "source": [
    "scaler.inverse_transform(random_).describe()"
   ]
  },
  {
   "cell_type": "code",
   "execution_count": null,
   "id": "37f5c720-840a-4729-bf8a-23f9b3083412",
   "metadata": {},
   "outputs": [],
   "source": [
    "display(X_.min())\n",
    "display(X_.max())"
   ]
  },
  {
   "cell_type": "code",
   "execution_count": null,
   "id": "df32aba4-ed83-4a93-9255-8037dd6bb609",
   "metadata": {},
   "outputs": [],
   "source": [
    "testzca = zca.ZCA()\n",
    "testzca.fit(X)\n",
    "testzca_X = pd.DataFrame(testzca.transform(X),index=all_data[exclude],columns=X.columns)"
   ]
  },
  {
   "cell_type": "code",
   "execution_count": null,
   "id": "778ae2a3-2a3c-4a35-943e-dc59f6d8ff2a",
   "metadata": {},
   "outputs": [],
   "source": [
    "#here I impute new values into the \"random noise\", aka whitened matrix\n",
    "test1 = testzca_X.loc[['New Mexico']]\n",
    "test2 = testzca_X.loc[['New Mexico']]\n",
    "test3 = testzca_X.loc[['New Mexico']]"
   ]
  },
  {
   "cell_type": "code",
   "execution_count": null,
   "id": "bda18e3d-627a-458b-9a52-cfcd5892c659",
   "metadata": {},
   "outputs": [],
   "source": []
  },
  {
   "cell_type": "code",
   "execution_count": null,
   "id": "b0a3628d-7b6b-49a3-bede-da7c438e2ad0",
   "metadata": {},
   "outputs": [],
   "source": [
    "test1['Crime']=testzca_X['Crime'].describe()['25%']\n",
    "test2['Crime']=0\n",
    "test3['Crime']=testzca_X['Crime'].describe()['75%']"
   ]
  },
  {
   "cell_type": "code",
   "execution_count": null,
   "id": "2276395e-b689-431f-9fc0-69de8ed16f68",
   "metadata": {},
   "outputs": [],
   "source": [
    "display(scaler.inverse_transform(test1))\n",
    "display(scaler.inverse_transform(test2))\n",
    "display(scaler.inverse_transform(test3))"
   ]
  },
  {
   "cell_type": "code",
   "execution_count": null,
   "id": "abb789db-7734-4e68-924b-c81f78b18077",
   "metadata": {},
   "outputs": [],
   "source": [
    "#here I impute new values into the \"random noise\", aka whitened matrix\n",
    "test4 = X_.loc[['Alaska']]\n",
    "test5 = X_.loc[['Alaska']]\n",
    "test6 = X_.loc[['Alaska']]"
   ]
  },
  {
   "cell_type": "code",
   "execution_count": null,
   "id": "7c275709-6562-4788-916e-28c53386c460",
   "metadata": {},
   "outputs": [],
   "source": [
    "test4['Crime']=X_['Crime'].min()\n",
    "test5['Crime']=0\n",
    "test6['Crime']=X_['Crime'].max()"
   ]
  },
  {
   "cell_type": "code",
   "execution_count": null,
   "id": "63ea4c40-ed15-43f3-92bb-1628b312eec6",
   "metadata": {},
   "outputs": [],
   "source": []
  },
  {
   "cell_type": "code",
   "execution_count": null,
   "id": "73122338-8800-409d-810d-21fdddb96077",
   "metadata": {},
   "outputs": [],
   "source": []
  },
  {
   "cell_type": "code",
   "execution_count": null,
   "id": "46349900-0bbf-4969-b6a6-b9960ed0e71e",
   "metadata": {},
   "outputs": [],
   "source": []
  },
  {
   "cell_type": "code",
   "execution_count": null,
   "id": "0143cc65-a29d-4793-af67-bebd4af5bc07",
   "metadata": {},
   "outputs": [],
   "source": []
  },
  {
   "cell_type": "code",
   "execution_count": null,
   "id": "52377b88-7c7b-4820-b123-8ddeeb195fe6",
   "metadata": {},
   "outputs": [],
   "source": [
    "display(scaler.inverse_transform(test4))\n",
    "display(scaler.inverse_transform(test5))\n",
    "display(scaler.inverse_transform(test6))"
   ]
  },
  {
   "cell_type": "code",
   "execution_count": null,
   "id": "b42a7b80-ffe2-4ede-bcd4-8a8bea673d6e",
   "metadata": {},
   "outputs": [],
   "source": [
    "scaler.inverse_transform(pd.DataFrame(np.zeros(shape=(1,len(X.columns))),columns=X.columns))"
   ]
  },
  {
   "cell_type": "code",
   "execution_count": null,
   "id": "d3b240fa-850b-4907-8c38-75204140da78",
   "metadata": {},
   "outputs": [],
   "source": [
    "scaler.inverse_transform(X_).describe()"
   ]
  },
  {
   "cell_type": "code",
   "execution_count": null,
   "id": "838fb010-7d1e-4be9-b500-2e6005a41f7b",
   "metadata": {},
   "outputs": [],
   "source": []
  },
  {
   "cell_type": "code",
   "execution_count": null,
   "id": "116408e4-b5e7-437b-8630-77dcd5dd5a73",
   "metadata": {},
   "outputs": [],
   "source": [
    "X_.hist()"
   ]
  },
  {
   "cell_type": "code",
   "execution_count": null,
   "id": "ee5cb2f0-0b2f-4354-82ce-e676aa39e021",
   "metadata": {},
   "outputs": [],
   "source": []
  },
  {
   "cell_type": "code",
   "execution_count": null,
   "id": "64f492db-e533-49f8-938a-a14c7dc412ad",
   "metadata": {},
   "outputs": [],
   "source": []
  },
  {
   "cell_type": "code",
   "execution_count": null,
   "id": "bb6ac271-8013-45fd-98a9-3c859ecb3897",
   "metadata": {},
   "outputs": [],
   "source": []
  },
  {
   "cell_type": "code",
   "execution_count": null,
   "id": "016592fe-15eb-4931-b2ae-bc3b898102ea",
   "metadata": {},
   "outputs": [],
   "source": [
    "scaler.inverse_transform(X_).describe()"
   ]
  },
  {
   "cell_type": "code",
   "execution_count": null,
   "id": "42d391de-7c4b-4046-9ee1-7d4101ce2d25",
   "metadata": {},
   "outputs": [],
   "source": []
  },
  {
   "cell_type": "code",
   "execution_count": null,
   "id": "c00f94a2-7fe9-42e1-a2db-d19df693636d",
   "metadata": {},
   "outputs": [],
   "source": []
  },
  {
   "cell_type": "code",
   "execution_count": null,
   "id": "82bd1bd6-4228-41d8-ad82-98445a649a73",
   "metadata": {},
   "outputs": [],
   "source": []
  }
 ],
 "metadata": {
  "kernelspec": {
   "display_name": "Python 3 (ipykernel)",
   "language": "python",
   "name": "python3"
  },
  "language_info": {
   "codemirror_mode": {
    "name": "ipython",
    "version": 3
   },
   "file_extension": ".py",
   "mimetype": "text/x-python",
   "name": "python",
   "nbconvert_exporter": "python",
   "pygments_lexer": "ipython3",
   "version": "3.9.6"
  }
 },
 "nbformat": 4,
 "nbformat_minor": 5
}
