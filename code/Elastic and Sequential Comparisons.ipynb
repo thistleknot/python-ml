{
 "cells": [
  {
   "cell_type": "code",
   "execution_count": null,
   "id": "3ed6d235-1e58-4000-9e03-cb31972b05ed",
   "metadata": {},
   "outputs": [],
   "source": [
    "from OLS_LR_DiagnosticPlots.ModelDiagnostics import Plot\n",
    "from matplotlib import pyplot\n",
    "from mlxtend.feature_selection import SequentialFeatureSelector as sffs\n",
    "from mlxtend.plotting import plot_sequential_feature_selection as plot_sfs\n",
    "from numpy import *\n",
    "from numpy import absolute\n",
    "from numpy import arange\n",
    "from numpy import mean\n",
    "from numpy import std\n",
    "from numpy.random import seed\n",
    "from pandas import read_csv\n",
    "from random import randint\n",
    "from random import random\n",
    "from random import seed\n",
    "from scipy import stats # For in-built method to get PCC\n",
    "from sklearn import linear_model\n",
    "from sklearn.datasets import load_boston\n",
    "from sklearn.datasets import make_regression\n",
    "from sklearn.decomposition import PCA\n",
    "from sklearn.ensemble import RandomForestRegressor, IsolationForest\n",
    "from sklearn.linear_model import ElasticNet, ElasticNetCV, LinearRegression\n",
    "from sklearn.linear_model import RANSACRegressor\n",
    "from sklearn.metrics import accuracy_score as acc\n",
    "from sklearn.metrics import mean_squared_error\n",
    "from sklearn.model_selection import GridSearchCV, KFold, cross_val_score, RepeatedKFold, train_test_split\n",
    "\n",
    "from sklearn.compose import TransformedTargetRegressor\n",
    "from sklearn.pipeline import FeatureUnion, Pipeline, make_pipeline\n",
    "from sklearn.base import BaseEstimator, TransformerMixin\n",
    "\n",
    "import sklearn\n",
    "from sklearn.preprocessing import *\n",
    "\n",
    "from sklearn.pipeline import Pipeline\n",
    "from sklearn.preprocessing import StandardScaler, PowerTransformer\n",
    "from statsmodels.stats.outliers_influence import OLSInfluence\n",
    "from tqdm import tnrange, tqdm_notebook\n",
    "from zca import zca\n",
    "import itertools\n",
    "import matplotlib.pyplot as plt\n",
    "import mlxtend\n",
    "import numpy as np\n",
    "import pandas as pd\n",
    "import pingouin as pg\n",
    "import scipy\n",
    "import seaborn as sns\n",
    "import sklearn.linear_model\n",
    "import statsmodels.api as sm\n",
    "import statsmodels.tools\n",
    "import sys\n",
    "\n",
    "#if not sys.warnoptions:\n",
    "#    import warnings\n",
    "#    warnings.simplefilter(\"ignore\")\n",
    "#import random\n",
    "import warnings\n",
    "warnings.filterwarnings('ignore')"
   ]
  },
  {
   "cell_type": "code",
   "execution_count": null,
   "id": "51a7b502-6081-4f42-98b0-a505ff859b0b",
   "metadata": {},
   "outputs": [],
   "source": [
    "class ss_yj_Transformer(BaseEstimator, TransformerMixin):\n",
    "    # add another additional parameter, just for fun, while we are at it\n",
    "    \n",
    "    def __init__(self, feature_names=[], additional_param = \"\"):  \n",
    "        self.ss_X = StandardScaler()\n",
    "        self.pt_X = PowerTransformer(standardize=True)\n",
    "        self.ss_y = StandardScaler()\n",
    "        self.pt_y = PowerTransformer(standardize=True)        \n",
    "        self.feature_names = feature_names\n",
    "        self.additional_param = additional_param\n",
    "\n",
    "    def fit(self, X, y = None):\n",
    "        self.ss_X.fit(X)\n",
    "        self.pt_X.fit(self.ss_X.transform(X))\n",
    "        if (y is not None):\n",
    "            self.ss_y.fit(y)\n",
    "            self.pt_y.fit(self.ss_y.transform(y))\n",
    "        return self\n",
    "\n",
    "    def transform(self, X, y = None):\n",
    "        pt_X_ = pd.DataFrame(self.pt_X.fit(pd.DataFrame(self.ss_X.fit(X).transform(X),index=X.index,columns=X.columns)).transform(pd.DataFrame(self.ss_X.fit(X).transform(X),index=X.index,columns=X.columns)),index=X.index,columns=X.columns)        \n",
    "        if (y is None):\n",
    "            return pt_X_\n",
    "        else:\n",
    "            pt_y_ = pd.DataFrame(self.pt_y.fit(pd.DataFrame(self.ss_y.fit(y).transform(y),index=y.index,columns=y.columns)).transform(pd.DataFrame(self.ss_y.fit(y).transform(y),index=y.index,columns=y.columns)),index=y.index,columns=y.columns)\n",
    "            return pt_X_, pt_y_\n",
    "        \n",
    "    def inverse_transform(self, X, y = None):\n",
    "        target_X = pd.DataFrame(self.ss_X.inverse_transform(self.pt_X.inverse_transform(X)),index=X.index,columns=X.columns)\n",
    "        if (y is None):\n",
    "            return target_X\n",
    "        else:\n",
    "            target_y = pd.DataFrame(self.ss_y.inverse_transform(self.pt_y.inverse_transform(y)),index=y.index,columns=y.columns)\n",
    "            return target_X, target_y\n",
    "        "
   ]
  },
  {
   "cell_type": "code",
   "execution_count": null,
   "id": "56f7c762-df84-43aa-ab3e-a7382be4f9d1",
   "metadata": {},
   "outputs": [],
   "source": [
    "numCV = 10\n",
    "\n",
    "kfold = KFold(n_splits=numCV, shuffle=True)\n",
    "p_threshold = .05\n",
    "divisor = 1\n",
    "target = 'Poverty'\n",
    "exclude = 'States'\n",
    "\n",
    "\n",
    "cv = RepeatedKFold(n_splits=numCV, n_repeats=1, random_state=1)\n",
    "\n",
    "alphas = [1e-5, 1e-4, 1e-3, 1e-2, 1e-1, 0.0, 1.0, 10.0, 100.0]\n",
    "l1s = arange(0, 1, 0.01/divisor)\n",
    "\n",
    "seed_ = 3\n",
    "\n",
    "#random.seed(11)\n",
    "\n",
    "seed(seed_)"
   ]
  },
  {
   "cell_type": "code",
   "execution_count": null,
   "id": "cbf3e509-0551-4404-a471-30e51b231e9e",
   "metadata": {},
   "outputs": [],
   "source": [
    "#trainOuter, test = train_test_split(data.X.index, test_size=10, shuffle=True)"
   ]
  },
  {
   "cell_type": "code",
   "execution_count": null,
   "id": "fb67995a-560f-4019-9f08-b3d1fe5731eb",
   "metadata": {},
   "outputs": [],
   "source": [
    "k=numCV\n",
    "\n",
    "k_fold = KFold(n_splits=k)\n",
    "train_ = []\n",
    "test_ = []\n",
    "for train_indices, test_indices in k_fold.split(data.X_train.index):\n",
    "    print(train_indices)\n",
    "    train_.append(train_indices)\n",
    "    test_.append(test_indices)\n",
    " "
   ]
  },
  {
   "cell_type": "code",
   "execution_count": 142,
   "id": "decd8f7e-b486-4312-8553-f02fb4f47c72",
   "metadata": {},
   "outputs": [
    {
     "data": {
      "text/plain": [
       "9"
      ]
     },
     "execution_count": 142,
     "metadata": {},
     "output_type": "execute_result"
    }
   ],
   "source": [
    "len(pd.DataFrame(maxs))-1"
   ]
  },
  {
   "cell_type": "code",
   "execution_count": 148,
   "id": "00a1b6f6-5b8c-4987-b580-6abfcdcf945d",
   "metadata": {},
   "outputs": [],
   "source": [
    "df=len(maxs)-1\n",
    "loc=np.mean(pd.DataFrame(maxs))\n",
    "scale=stats.sem(pd.DataFrame(maxs))"
   ]
  },
  {
   "cell_type": "code",
   "execution_count": 164,
   "id": "17cbbdc4-53c9-4eed-ac46-08fb32bfe2d1",
   "metadata": {},
   "outputs": [
    {
     "data": {
      "text/plain": [
       "Index(['Income', 'White', 'Infant Mort', 'Population', 'Traf Deaths',\n",
       "       'Doctors', 'University', 'Unemployed', 'Crime'],\n",
       "      dtype='object')"
      ]
     },
     "execution_count": 164,
     "metadata": {},
     "output_type": "execute_result"
    }
   ],
   "source": []
  },
  {
   "cell_type": "code",
   "execution_count": 182,
   "id": "e9e41461-0949-4291-9a53-2b200c78eead",
   "metadata": {},
   "outputs": [
    {
     "data": {
      "text/html": [
       "<div>\n",
       "<style scoped>\n",
       "    .dataframe tbody tr th:only-of-type {\n",
       "        vertical-align: middle;\n",
       "    }\n",
       "\n",
       "    .dataframe tbody tr th {\n",
       "        vertical-align: top;\n",
       "    }\n",
       "\n",
       "    .dataframe thead th {\n",
       "        text-align: right;\n",
       "    }\n",
       "</style>\n",
       "<table border=\"1\" class=\"dataframe\">\n",
       "  <thead>\n",
       "    <tr style=\"text-align: right;\">\n",
       "      <th></th>\n",
       "      <th>0</th>\n",
       "      <th>1</th>\n",
       "      <th>2</th>\n",
       "      <th>3</th>\n",
       "      <th>4</th>\n",
       "      <th>5</th>\n",
       "      <th>6</th>\n",
       "      <th>7</th>\n",
       "      <th>8</th>\n",
       "    </tr>\n",
       "  </thead>\n",
       "  <tbody>\n",
       "    <tr>\n",
       "      <th>0</th>\n",
       "      <td>70490.521975</td>\n",
       "      <td>NaN</td>\n",
       "      <td>10.371649</td>\n",
       "      <td>3.215343e+07</td>\n",
       "      <td>2.147165</td>\n",
       "      <td>405.83951</td>\n",
       "      <td>34.939027</td>\n",
       "      <td>8.008541</td>\n",
       "      <td>776.58245</td>\n",
       "    </tr>\n",
       "    <tr>\n",
       "      <th>1</th>\n",
       "      <td>70566.078025</td>\n",
       "      <td>NaN</td>\n",
       "      <td>10.688351</td>\n",
       "      <td>3.774611e+07</td>\n",
       "      <td>2.178835</td>\n",
       "      <td>427.42049</td>\n",
       "      <td>35.300973</td>\n",
       "      <td>8.551459</td>\n",
       "      <td>792.41755</td>\n",
       "    </tr>\n",
       "  </tbody>\n",
       "</table>\n",
       "</div>"
      ],
      "text/plain": [
       "              0   1          2             3         4          5          6  \\\n",
       "0  70490.521975 NaN  10.371649  3.215343e+07  2.147165  405.83951  34.939027   \n",
       "1  70566.078025 NaN  10.688351  3.774611e+07  2.178835  427.42049  35.300973   \n",
       "\n",
       "          7          8  \n",
       "0  8.008541  776.58245  \n",
       "1  8.551459  792.41755  "
      ]
     },
     "execution_count": 182,
     "metadata": {},
     "output_type": "execute_result"
    }
   ],
   "source": []
  },
  {
   "cell_type": "code",
   "execution_count": 166,
   "id": "f2f5a39c-d7f6-4bc0-aee9-556efb825b63",
   "metadata": {},
   "outputs": [
    {
     "data": {
      "text/html": [
       "<div>\n",
       "<style scoped>\n",
       "    .dataframe tbody tr th:only-of-type {\n",
       "        vertical-align: middle;\n",
       "    }\n",
       "\n",
       "    .dataframe tbody tr th {\n",
       "        vertical-align: top;\n",
       "    }\n",
       "\n",
       "    .dataframe thead th {\n",
       "        text-align: right;\n",
       "    }\n",
       "</style>\n",
       "<table border=\"1\" class=\"dataframe\">\n",
       "  <thead>\n",
       "    <tr style=\"text-align: right;\">\n",
       "      <th></th>\n",
       "      <th>0</th>\n",
       "      <th>1</th>\n",
       "      <th>2</th>\n",
       "      <th>3</th>\n",
       "      <th>4</th>\n",
       "      <th>5</th>\n",
       "      <th>6</th>\n",
       "      <th>7</th>\n",
       "      <th>8</th>\n",
       "    </tr>\n",
       "  </thead>\n",
       "  <tbody>\n",
       "    <tr>\n",
       "      <th>0</th>\n",
       "      <td>37764.883072</td>\n",
       "      <td>25.799934</td>\n",
       "      <td>4.936892</td>\n",
       "      <td>618280.216115</td>\n",
       "      <td>0.848641</td>\n",
       "      <td>167.651437</td>\n",
       "      <td>16.885433</td>\n",
       "      <td>2.974757</td>\n",
       "      <td>117.242706</td>\n",
       "    </tr>\n",
       "    <tr>\n",
       "      <th>1</th>\n",
       "      <td>37854.916928</td>\n",
       "      <td>39.780066</td>\n",
       "      <td>5.163108</td>\n",
       "      <td>626014.983885</td>\n",
       "      <td>0.889359</td>\n",
       "      <td>171.768563</td>\n",
       "      <td>17.654567</td>\n",
       "      <td>3.065243</td>\n",
       "      <td>119.957294</td>\n",
       "    </tr>\n",
       "  </tbody>\n",
       "</table>\n",
       "</div>"
      ],
      "text/plain": [
       "              0          1         2              3         4           5  \\\n",
       "0  37764.883072  25.799934  4.936892  618280.216115  0.848641  167.651437   \n",
       "1  37854.916928  39.780066  5.163108  626014.983885  0.889359  171.768563   \n",
       "\n",
       "           6         7           8  \n",
       "0  16.885433  2.974757  117.242706  \n",
       "1  17.654567  3.065243  119.957294  "
      ]
     },
     "execution_count": 166,
     "metadata": {},
     "output_type": "execute_result"
    }
   ],
   "source": [
    "pd.DataFrame(stats.t.interval(alpha=0.95, df=len(mins)-1, loc=np.mean(pd.DataFrame(mins)), scale=stats.sem(pd.DataFrame(mins))) )"
   ]
  },
  {
   "cell_type": "code",
   "execution_count": 265,
   "id": "34f5ddb7-b76a-4356-b2d4-915f409bc48d",
   "metadata": {},
   "outputs": [
    {
     "data": {
      "text/html": [
       "<div>\n",
       "<style scoped>\n",
       "    .dataframe tbody tr th:only-of-type {\n",
       "        vertical-align: middle;\n",
       "    }\n",
       "\n",
       "    .dataframe tbody tr th {\n",
       "        vertical-align: top;\n",
       "    }\n",
       "\n",
       "    .dataframe thead th {\n",
       "        text-align: right;\n",
       "    }\n",
       "</style>\n",
       "<table border=\"1\" class=\"dataframe\">\n",
       "  <thead>\n",
       "    <tr style=\"text-align: right;\">\n",
       "      <th></th>\n",
       "      <th>Income</th>\n",
       "      <th>White</th>\n",
       "      <th>Infant Mort</th>\n",
       "      <th>Population</th>\n",
       "      <th>Traf Deaths</th>\n",
       "      <th>Doctors</th>\n",
       "      <th>University</th>\n",
       "      <th>Unemployed</th>\n",
       "      <th>Crime</th>\n",
       "    </tr>\n",
       "  </thead>\n",
       "  <tbody>\n",
       "    <tr>\n",
       "      <th>0</th>\n",
       "      <td>1.0</td>\n",
       "      <td>1.0</td>\n",
       "      <td>7.0</td>\n",
       "      <td>57.862424</td>\n",
       "      <td>12.111111</td>\n",
       "      <td>1.0</td>\n",
       "      <td>1.0</td>\n",
       "      <td>1.0</td>\n",
       "      <td>1.0</td>\n",
       "    </tr>\n",
       "  </tbody>\n",
       "</table>\n",
       "</div>"
      ],
      "text/plain": [
       "   Income  White  Infant Mort  Population  Traf Deaths  Doctors  University  \\\n",
       "0     1.0    1.0          7.0   57.862424    12.111111      1.0         1.0   \n",
       "\n",
       "   Unemployed  Crime  \n",
       "0         1.0    1.0  "
      ]
     },
     "execution_count": 265,
     "metadata": {},
     "output_type": "execute_result"
    }
   ],
   "source": []
  },
  {
   "cell_type": "code",
   "execution_count": 269,
   "id": "0ff4d602-d45d-4e5b-aad5-c9c7777f8007",
   "metadata": {},
   "outputs": [
    {
     "name": "stdout",
     "output_type": "stream",
     "text": [
      "   Income  White  Infant Mort  Population  Traf Deaths    Doctors  University  \\\n",
      "0    -1.0   -inf         -1.0        -1.0        -41.0 -10.979036      -37.25   \n",
      "\n",
      "   Unemployed  Crime  \n",
      "0        -1.0   -1.0  \n"
     ]
    }
   ],
   "source": [
    "\n",
    "\n",
    "#print(pd.DataFrame(upper.iloc[[1]].reset_index()).iloc[:,1:]-pd.DataFrame(data.X.max()).T)"
   ]
  },
  {
   "cell_type": "code",
   "execution_count": 271,
   "id": "56e5ceee-2db5-41f1-b7a5-1dbd7b5fa5c7",
   "metadata": {},
   "outputs": [
    {
     "name": "stdout",
     "output_type": "stream",
     "text": [
      "         Income      White  Infant Mort     Population  Traf Deaths  \\\n",
      "0  37764.883072  25.799934     4.936892  618280.216115     0.848641   \n",
      "\n",
      "      Doctors  University  Unemployed       Crime  \n",
      "0  167.651437   16.885433    2.974757  117.242706  \n",
      "         Income  White  Infant Mort    Population  Traf Deaths    Doctors  \\\n",
      "1  70566.078025   96.4    10.688351  3.774611e+07     2.178835  427.42049   \n",
      "\n",
      "   University  Unemployed      Crime  \n",
      "1   35.300973    8.551459  792.41755  \n",
      "   Income  White  Infant Mort  Population  Traf Deaths  Doctors  University  \\\n",
      "0     1.0    1.0          7.0   57.862424    12.111111      1.0         1.0   \n",
      "\n",
      "   Unemployed  Crime  \n",
      "0         1.0    1.0  \n",
      "   Income  White  Infant Mort  Population  Traf Deaths    Doctors  University  \\\n",
      "0     1.0    inf          1.0         1.0         41.0  10.979036       37.25   \n",
      "\n",
      "   Unemployed  Crime  \n",
      "0         1.0    1.0  \n"
     ]
    }
   ],
   "source": [
    "#augmented bollinger bands\n",
    "mins = []\n",
    "maxs = []\n",
    "for i in range(0,len(train_)):\n",
    "    mins.append(data.X_train.iloc[train_[i]].min())\n",
    "    maxs.append(data.X_train.iloc[train_[i]].max())\n",
    "\n",
    "lower = pd.DataFrame(stats.t.interval(alpha=0.95, df=len(mins)-1, loc=np.mean(pd.DataFrame(mins)), scale=stats.sem(pd.DataFrame(mins))) )\n",
    "upper = pd.DataFrame(stats.t.interval(alpha=0.95, df=len(maxs)-1, loc=np.mean(pd.DataFrame(maxs)), scale=stats.sem(pd.DataFrame(maxs))) )\n",
    "#.replace([np.inf, -np.inf, np.NaN], 0)\n",
    "\n",
    "for i in range(0,len(lower.columns)):\n",
    "    lower.iloc[:,i] = lower.iloc[:,i].copy().replace([np.inf, -np.inf, np.NaN], pd.DataFrame(scipy.stats.mode(pd.DataFrame(mins).iloc[:,i])[0]).values[0][0])\n",
    "    upper.iloc[:,i] = upper.iloc[:,i].copy().replace([np.inf, -np.inf, np.NaN], pd.DataFrame(scipy.stats.mode(pd.DataFrame(maxs).iloc[:,i])[0]).values[0][0])\n",
    "    #print(lower.iloc[:,i])\n",
    "    #print(upper.iloc[:,i])\n",
    "    \n",
    "lower.columns = data.X.columns\n",
    "upper.columns = data.X.columns\n",
    "\n",
    "print(pd.DataFrame(lower.iloc[[0]]))\n",
    "print(pd.DataFrame(upper.iloc[[1]]))\n",
    "\n",
    "#delta\n",
    "#print(pd.DataFrame(data.X.min()).T-pd.DataFrame(lower.iloc[[0]]))\n",
    "print((pd.DataFrame(np.mean(pd.DataFrame(mins))).T-pd.DataFrame(data.X.min()).T)/stats.sem(pd.DataFrame(mins)))\n",
    "print(((pd.DataFrame(data.X.max()).T)-pd.DataFrame(np.mean(pd.DataFrame(maxs))).T)/stats.sem(pd.DataFrame(maxs)))"
   ]
  },
  {
   "cell_type": "code",
   "execution_count": 231,
   "id": "23567b55-9b36-46da-b8cb-be6f39a18c74",
   "metadata": {},
   "outputs": [
    {
     "data": {
      "text/html": [
       "<div>\n",
       "<style scoped>\n",
       "    .dataframe tbody tr th:only-of-type {\n",
       "        vertical-align: middle;\n",
       "    }\n",
       "\n",
       "    .dataframe tbody tr th {\n",
       "        vertical-align: top;\n",
       "    }\n",
       "\n",
       "    .dataframe thead th {\n",
       "        text-align: right;\n",
       "    }\n",
       "</style>\n",
       "<table border=\"1\" class=\"dataframe\">\n",
       "  <thead>\n",
       "    <tr style=\"text-align: right;\">\n",
       "      <th></th>\n",
       "      <th>Income</th>\n",
       "      <th>White</th>\n",
       "      <th>Infant Mort</th>\n",
       "      <th>Population</th>\n",
       "      <th>Traf Deaths</th>\n",
       "      <th>Doctors</th>\n",
       "      <th>University</th>\n",
       "      <th>Unemployed</th>\n",
       "      <th>Crime</th>\n",
       "    </tr>\n",
       "  </thead>\n",
       "  <tbody>\n",
       "    <tr>\n",
       "      <th>0</th>\n",
       "      <td>70545.0</td>\n",
       "      <td>96.4</td>\n",
       "      <td>10.6</td>\n",
       "      <td>36185908.0</td>\n",
       "      <td>2.45</td>\n",
       "      <td>469.0</td>\n",
       "      <td>38.1</td>\n",
       "      <td>8.4</td>\n",
       "      <td>788.0</td>\n",
       "    </tr>\n",
       "  </tbody>\n",
       "</table>\n",
       "</div>"
      ],
      "text/plain": [
       "    Income  White  Infant Mort  Population  Traf Deaths  Doctors  University  \\\n",
       "0  70545.0   96.4         10.6  36185908.0         2.45    469.0        38.1   \n",
       "\n",
       "   Unemployed  Crime  \n",
       "0         8.4  788.0  "
      ]
     },
     "execution_count": 231,
     "metadata": {},
     "output_type": "execute_result"
    }
   ],
   "source": []
  },
  {
   "cell_type": "code",
   "execution_count": 243,
   "id": "627d92e4-de23-4260-aab2-173ab2a0e73c",
   "metadata": {},
   "outputs": [
    {
     "data": {
      "text/html": [
       "<div>\n",
       "<style scoped>\n",
       "    .dataframe tbody tr th:only-of-type {\n",
       "        vertical-align: middle;\n",
       "    }\n",
       "\n",
       "    .dataframe tbody tr th {\n",
       "        vertical-align: top;\n",
       "    }\n",
       "\n",
       "    .dataframe thead th {\n",
       "        text-align: right;\n",
       "    }\n",
       "</style>\n",
       "<table border=\"1\" class=\"dataframe\">\n",
       "  <thead>\n",
       "    <tr style=\"text-align: right;\">\n",
       "      <th></th>\n",
       "      <th>Income</th>\n",
       "      <th>White</th>\n",
       "      <th>Infant Mort</th>\n",
       "      <th>Population</th>\n",
       "      <th>Traf Deaths</th>\n",
       "      <th>Doctors</th>\n",
       "      <th>University</th>\n",
       "      <th>Unemployed</th>\n",
       "      <th>Crime</th>\n",
       "    </tr>\n",
       "  </thead>\n",
       "  <tbody>\n",
       "    <tr>\n",
       "      <th>0</th>\n",
       "      <td>21.078025</td>\n",
       "      <td>0.0</td>\n",
       "      <td>0.088351</td>\n",
       "      <td>1.560202e+06</td>\n",
       "      <td>-0.271165</td>\n",
       "      <td>-41.57951</td>\n",
       "      <td>-2.799027</td>\n",
       "      <td>0.151459</td>\n",
       "      <td>4.41755</td>\n",
       "    </tr>\n",
       "  </tbody>\n",
       "</table>\n",
       "</div>"
      ],
      "text/plain": [
       "      Income  White  Infant Mort    Population  Traf Deaths   Doctors  \\\n",
       "0  21.078025    0.0     0.088351  1.560202e+06    -0.271165 -41.57951   \n",
       "\n",
       "   University  Unemployed    Crime  \n",
       "0   -2.799027    0.151459  4.41755  "
      ]
     },
     "execution_count": 243,
     "metadata": {},
     "output_type": "execute_result"
    }
   ],
   "source": []
  },
  {
   "cell_type": "code",
   "execution_count": 244,
   "id": "b48bf019-1922-415a-8346-6a06fc9a779f",
   "metadata": {},
   "outputs": [
    {
     "name": "stdout",
     "output_type": "stream",
     "text": [
      "      Income     White  Infant Mort    Population  Traf Deaths   Doctors  \\\n",
      "0  25.116928  3.900066    -0.236892 -95054.216115    -0.088641  1.148563   \n",
      "\n",
      "   University  Unemployed     Crime  \n",
      "0    0.214567    0.025243  0.757294  \n",
      "      Income  White  Infant Mort    Population  Traf Deaths   Doctors  \\\n",
      "0  21.078025    0.0     0.088351  1.560202e+06    -0.271165 -41.57951   \n",
      "\n",
      "   University  Unemployed    Crime  \n",
      "0   -2.799027    0.151459  4.41755  \n"
     ]
    }
   ],
   "source": []
  },
  {
   "cell_type": "code",
   "execution_count": 224,
   "id": "55ee9d2c-ef86-499c-b7da-97b71c3f7903",
   "metadata": {},
   "outputs": [
    {
     "data": {
      "text/html": [
       "<div>\n",
       "<style scoped>\n",
       "    .dataframe tbody tr th:only-of-type {\n",
       "        vertical-align: middle;\n",
       "    }\n",
       "\n",
       "    .dataframe tbody tr th {\n",
       "        vertical-align: top;\n",
       "    }\n",
       "\n",
       "    .dataframe thead th {\n",
       "        text-align: right;\n",
       "    }\n",
       "</style>\n",
       "<table border=\"1\" class=\"dataframe\">\n",
       "  <thead>\n",
       "    <tr style=\"text-align: right;\">\n",
       "      <th></th>\n",
       "      <th>Income</th>\n",
       "      <th>White</th>\n",
       "      <th>Infant Mort</th>\n",
       "      <th>Population</th>\n",
       "      <th>Traf Deaths</th>\n",
       "      <th>Doctors</th>\n",
       "      <th>University</th>\n",
       "      <th>Unemployed</th>\n",
       "      <th>Crime</th>\n",
       "    </tr>\n",
       "  </thead>\n",
       "  <tbody>\n",
       "    <tr>\n",
       "      <th>0</th>\n",
       "      <td>37764.883072</td>\n",
       "      <td>25.799934</td>\n",
       "      <td>4.936892</td>\n",
       "      <td>618280.216115</td>\n",
       "      <td>0.848641</td>\n",
       "      <td>167.651437</td>\n",
       "      <td>16.885433</td>\n",
       "      <td>2.974757</td>\n",
       "      <td>117.242706</td>\n",
       "    </tr>\n",
       "  </tbody>\n",
       "</table>\n",
       "</div>"
      ],
      "text/plain": [
       "         Income      White  Infant Mort     Population  Traf Deaths  \\\n",
       "0  37764.883072  25.799934     4.936892  618280.216115     0.848641   \n",
       "\n",
       "      Doctors  University  Unemployed       Crime  \n",
       "0  167.651437   16.885433    2.974757  117.242706  "
      ]
     },
     "execution_count": 224,
     "metadata": {},
     "output_type": "execute_result"
    }
   ],
   "source": []
  },
  {
   "cell_type": "code",
   "execution_count": null,
   "id": "04a5c7d0-d8ba-4a30-b466-8ef8d413026a",
   "metadata": {},
   "outputs": [],
   "source": [
    "minmaxs = []\n",
    "#mins = []\n",
    "#maxs = []\n",
    "for i in range(0,len(train_)):\n",
    "    #mins.append(data.X_train.iloc[train_[i]].min())\n",
    "    #maxs.append(data.X_train.iloc[train_[i]].max())\n",
    "    minmaxs.append(stats.t.interval(alpha=0.95, df=len(data.X_train.iloc[train_[i]])-1, loc=np.mean(data.X_train.iloc[train_[i]]), scale=stats.sem(data.X_train.iloc[train_[i]])) )\n",
    "    \n",
    "    #minmaxs.append(print(stats.t.interval(alpha=0.95, df=len(pd.DataFrame(mins).iloc[:,i])-1, loc=np.mean(pd.DataFrame(mins).iloc[:,i]), scale=stats.sem(pd.DataFrame(mins).iloc[:,i]))))\n",
    "'''\n",
    "for i in range(0,len(data.X_train.columns)):\n",
    "    print(data.X_train.columns[i])\n",
    "    print((pd.DataFrame(mins).iloc[:,i].min()))\n",
    "    print((pd.DataFrame(maxs).iloc[:,i].max()))\n",
    "    \n",
    "    plt.plot(pd.DataFrame(mins).iloc[:,i])\n",
    "    plt.plot(pd.DataFrame(maxs).iloc[:,i])\n",
    "\n",
    "    plt.show()\n",
    "\n",
    "'''"
   ]
  },
  {
   "cell_type": "code",
   "execution_count": null,
   "id": "e9eec6c7-b1ae-4bb3-aa32-e250300261ed",
   "metadata": {},
   "outputs": [],
   "source": []
  },
  {
   "cell_type": "code",
   "execution_count": null,
   "id": "18febc60-48ed-4990-854b-815d3719435f",
   "metadata": {},
   "outputs": [],
   "source": [
    "pd.DataFrame(minmaxs[0])"
   ]
  },
  {
   "cell_type": "code",
   "execution_count": null,
   "id": "c4aff39a-9f86-4631-92f3-b76fd406ff04",
   "metadata": {},
   "outputs": [],
   "source": [
    "# evaluate a model\n",
    "def evaluate_model(X, y, model):\n",
    "\t# define model evaluation method\n",
    "\tcv = RepeatedKFold(n_splits=numCV, n_repeats=1, random_state=1)\n",
    "\t# evaluate model\n",
    "\tscores = cross_val_score(model, X, y, scoring='neg_mean_absolute_error', cv=cv, n_jobs=-1)\n",
    "\t# force scores to be positive\n",
    "\treturn absolute(scores)\n",
    "\n",
    "# plot the dataset and the model's line of best fit\n",
    "def plot_best_fit(X, y, model):\n",
    "\t# fut the model on all data\n",
    "\tmodel.fit(X, y)\n",
    "\t# plot the dataset\n",
    "\tpyplot.scatter(X, y)\n",
    "\t# plot the line of best fit\n",
    "\txaxis = arange(X.min(), X.max(), 0.01)\n",
    "\tyaxis = model.predict(xaxis.reshape((len(xaxis), 1)))\n",
    "\tpyplot.plot(xaxis, yaxis, color='r')\n",
    "\t# show the plot\n",
    "\tpyplot.title(type(model).__name__)\n",
    "\tpyplot.show()"
   ]
  },
  {
   "cell_type": "code",
   "execution_count": null,
   "id": "2e025827-a163-4dbd-a95c-1b8f922a438c",
   "metadata": {},
   "outputs": [],
   "source": [
    "all_data = pd.read_csv('../data/raw/states.csv')"
   ]
  },
  {
   "cell_type": "code",
   "execution_count": null,
   "id": "abb46652-bab0-4bb1-bc7e-3d9d340a9c15",
   "metadata": {},
   "outputs": [],
   "source": []
  },
  {
   "cell_type": "code",
   "execution_count": null,
   "id": "d4589f6d-16d2-4f3c-90e4-a0205154cea1",
   "metadata": {},
   "outputs": [],
   "source": [
    "class data():\n",
    "    def __init__(self, target, exclude, dataset):  \n",
    "        \n",
    "        train, valid = train_test_split(all_data.index, test_size=0.3, shuffle=True)\n",
    "        valid, test = train_test_split(valid,  test_size=0.5, shuffle=True)\n",
    "\n",
    "        self.X = dataset[set(all_data.columns).difference([target,exclude])].copy()\n",
    "        self.y = pd.DataFrame(all_data[target].copy())\n",
    "\n",
    "        self.X_train = self.X.loc[train].copy()\n",
    "\n",
    "        self.X_train_ss_yj_t = ss_yj_Transformer()\n",
    "        self.X_train_ss_yj_t.fit(self.X_train)\n",
    "        \n",
    "        self.X_train_ss_yj = self.X_train_ss_yj_t.transform(self.X_train)\n",
    "\n",
    "        self.X_valid = self.X.loc[valid].copy()\n",
    "\n",
    "        self.X_test = self.X.loc[test].copy()\n",
    "\n",
    "        self.y_train = self.y.loc[self.X_train.index][[target]].copy()\n",
    "        self.y_valid = self.y.loc[self.X_valid.index][[target]].copy()\n",
    "        self.y_test = self.y.loc[self.X_test.index][[target]].copy()\n",
    "\n",
    "        self.y_train_ss_yj_t = ss_yj_Transformer()\n",
    "        self.y_train_ss_yj_t.fit(self.y_train)\n",
    "        \n",
    "        self.y_train_ss_yj = self.y_train_ss_yj_t.transform(self.y_train)\n",
    "\n",
    "        self.X_valid_ss_yj = self.X_train_ss_yj_t.transform(self.X_valid)\n",
    "        \n",
    "        interaction = PolynomialFeatures(degree=2, include_bias=False, interaction_only=False)\n",
    "\n",
    "        self.X_train_ss_yj_inter = pd.DataFrame(interaction.fit_transform(self.X_train_ss_yj),index=self.X_train_ss_yj.index,columns=interaction.get_feature_names(input_features=self.X_train_ss_yj.columns))\n",
    "\n",
    "        self.X_valid_ss_yj_inter = pd.DataFrame(interaction.fit_transform(self.X_valid_ss_yj),index=self.X_valid_ss_yj.index,columns=interaction.get_feature_names(input_features=self.X_valid_ss_yj.columns))\n",
    "        \n",
    "        self.zca = zca.ZCA()\n",
    "        self.pca_X_train = PCA(n_components=0.99, svd_solver='full')\n"
   ]
  },
  {
   "cell_type": "code",
   "execution_count": null,
   "id": "c7b41059-678f-444a-9019-1e5c0e80e4f6",
   "metadata": {},
   "outputs": [],
   "source": [
    "data = data(target,exclude,all_data)"
   ]
  },
  {
   "cell_type": "code",
   "execution_count": null,
   "id": "d9130aed-2778-4682-b57c-b93cb7d9c455",
   "metadata": {},
   "outputs": [],
   "source": [
    "for i in range(0,len(data.X_train)):\n",
    "    print()"
   ]
  },
  {
   "cell_type": "code",
   "execution_count": null,
   "id": "e705334a-0bc8-4cd8-a072-21e45352112f",
   "metadata": {},
   "outputs": [],
   "source": [
    "lr = LinearRegression()\n",
    "\n",
    "#backwards step subset\n",
    "sffs1 = sffs(lr, \n",
    "          k_features=len(data.X_train_ss_yj_inter.columns), \n",
    "          #forward=True, \n",
    "          floating=True, \n",
    "          scoring='neg_mean_squared_error',\n",
    "          #scoring='accuracy',\n",
    "          n_jobs=-1,\n",
    "          cv=numCV)\n",
    "            \n",
    "sffs1 = sffs1.fit(data.X_train_ss_yj_inter, data.y_train_ss_yj)\n"
   ]
  },
  {
   "cell_type": "code",
   "execution_count": null,
   "id": "00122287-7af4-4dc7-9ef1-8da80d9e1654",
   "metadata": {},
   "outputs": [],
   "source": [
    "fig = plot_sfs(sffs1.get_metric_dict(), kind='std_err')\n",
    "\n",
    "plt.title('Sequential Backward Selection (w. StdErr)')\n",
    "plt.grid()\n",
    "plt.show(fig)\n",
    "\n",
    "print('best combination (ACC: %.3f): %s\\n' % (sffs1.k_score_, sffs1.k_feature_idx_))\n",
    "#print('all subsets:\\n', sffs1.subsets_)\n",
    "data.X_train_ss_yj_inter.columns[list(sffs1.k_feature_idx_)]"
   ]
  },
  {
   "cell_type": "code",
   "execution_count": null,
   "id": "2f8adffa-d8c6-4456-8e9d-365303652a60",
   "metadata": {},
   "outputs": [],
   "source": [
    "features = list(pd.DataFrame(sffs1.subsets_).loc['feature_names'].values)"
   ]
  },
  {
   "cell_type": "code",
   "execution_count": null,
   "id": "509c273e-fff7-4175-ab9c-f179cde6097f",
   "metadata": {},
   "outputs": [],
   "source": [
    "ss_position = np.array(pd.DataFrame(pd.DataFrame(sffs1.subsets_)).loc['avg_score']).argmax()"
   ]
  },
  {
   "cell_type": "code",
   "execution_count": null,
   "id": "ede2f9a1-4093-451d-880b-38c2455a5f21",
   "metadata": {},
   "outputs": [],
   "source": [
    "ss_position_parse = list((pd.DataFrame(sffs1.subsets_)).T[(pd.DataFrame(sffs1.subsets_)).T['avg_score']>=np.max(np.array(pd.DataFrame(pd.DataFrame(sffs1.subsets_)).loc['avg_score']))-np.std(np.array(pd.DataFrame(pd.DataFrame(sffs1.subsets_)).loc['avg_score']))]['feature_names'].iloc[0])"
   ]
  },
  {
   "cell_type": "code",
   "execution_count": null,
   "id": "56cd1c0d-ca4a-41cf-b0a7-fc602d04830f",
   "metadata": {},
   "outputs": [],
   "source": []
  },
  {
   "cell_type": "code",
   "execution_count": null,
   "id": "f9a4d556-12c4-4629-b11c-183b265ae900",
   "metadata": {},
   "outputs": [],
   "source": [
    "ss_sortedFeatures = list(np.array(pd.DataFrame(sffs1.subsets_).loc['feature_names'])[ss_position])"
   ]
  },
  {
   "cell_type": "code",
   "execution_count": null,
   "id": "ca53580c-b6c6-42ee-8201-a4c03ccc624d",
   "metadata": {},
   "outputs": [],
   "source": []
  },
  {
   "cell_type": "code",
   "execution_count": null,
   "id": "a97c5277-0a75-4520-b715-1c0117fc17d7",
   "metadata": {},
   "outputs": [],
   "source": [
    "CV_results = pd.DataFrame()#[]#np.zeros(shape=(len(features),5))\n",
    "\n",
    "#looping over sequentially selected features, deriving ElasticNet hyper parm's over each best subset and noting error\n",
    "\n",
    "for f in features:\n",
    "\n",
    "    print(f)\n",
    "    cv = RepeatedKFold(n_splits=numCV, n_repeats=1, random_state=1)\n",
    "\n",
    "    EN_CV = ElasticNetCV(l1_ratio=l1s, alphas=alphas, cv=cv, n_jobs=-1)\n",
    "    # fit model\n",
    "\n",
    "    X_subset = pd.DataFrame(data.X_train_ss_yj_inter[list(np.asarray(f))])\n",
    "    y_ = data.y_train_ss_yj\n",
    "    EN_CV.fit(X_subset, y_)\n",
    "    \n",
    "    print('alpha: %f' % EN_CV.alpha_)\n",
    "    print('l1_ratio_: %f' % EN_CV.l1_ratio_)\n",
    "    \n",
    "    # evaluate model\n",
    "    scores = cross_val_score(EN_CV, X_subset, y_, scoring='neg_mean_absolute_error', cv=cv, n_jobs=-1)\n",
    "    # force scores to be positive\n",
    "    scores = absolute(scores)\n",
    "    print('Mean MAE: %.3f (%.3f)' % (mean(scores), std(scores)))\n",
    "    \n",
    "    temp = pd.concat([pd.DataFrame({\"features\": [np.array(f)]}),pd.DataFrame(np.array(mean(scores)).reshape(-1,1)),pd.DataFrame(np.array(std(scores)).reshape(-1,1)),pd.DataFrame(np.array(EN_CV.alpha_).reshape(-1,1)),pd.DataFrame(np.array(EN_CV.l1_ratio_).reshape(-1,1))],axis=1)\n",
    "    \n",
    "    CV_results = pd.concat([CV_results,temp],axis=0)"
   ]
  },
  {
   "cell_type": "markdown",
   "id": "f2b875af-fe99-411e-963e-cc0737abd4e5",
   "metadata": {},
   "source": []
  },
  {
   "cell_type": "code",
   "execution_count": null,
   "id": "7ceba4c0-ec5a-4e90-b8fd-8ece185b512f",
   "metadata": {},
   "outputs": [],
   "source": [
    "CV_results.columns = ['features','mean error','std','alpha','lambda']\n",
    "CV_results.index = np.array(range(0,len(features)))#range(1,len(features)+1)\n",
    "plt.plot(CV_results['mean error'])\n",
    "plt.show()\n",
    "\n",
    "best = CV_results.iloc[CV_results['mean error'].idxmin()]\n",
    "print(best.loc['features'])\n",
    "\n",
    "parse = CV_results[CV_results['mean error']<=(np.min(CV_results['mean error'])+np.std(CV_results['mean error']))].iloc[0]\n",
    "print(parse.loc['features'])\n",
    "display(CV_results)"
   ]
  },
  {
   "cell_type": "code",
   "execution_count": null,
   "id": "b03064fb-f90a-48b7-913c-268ecdfc11a0",
   "metadata": {},
   "outputs": [],
   "source": []
  },
  {
   "cell_type": "code",
   "execution_count": null,
   "id": "228b1f79-2c3d-42d2-9edd-8cabce43921b",
   "metadata": {},
   "outputs": [],
   "source": [
    "model_ss = LinearRegression()\n",
    "model_ss_parse = LinearRegression()\n",
    "model_ep = ElasticNet(alpha=parse['alpha'], l1_ratio=parse['lambda'])\n",
    "model_eb = ElasticNet(alpha=best['alpha'], l1_ratio=best['lambda'])\n",
    "\n",
    "model_ss.fit(data.X_train_ss_yj_inter[ss_sortedFeatures], data.y_train_ss_yj)\n",
    "model_ss_parse.fit(data.X_train_ss_yj_inter[ss_position_parse], data.y_train_ss_yj)\n",
    "model_ep.fit(data.X_train_ss_yj_inter[parse['features']],data.y_train_ss_yj)\n",
    "model_eb.fit(data.X_train_ss_yj_inter[best['features']],data.y_train_ss_yj)"
   ]
  },
  {
   "cell_type": "code",
   "execution_count": null,
   "id": "68a21731-16c3-48d5-9add-b20d766a9496",
   "metadata": {},
   "outputs": [],
   "source": []
  },
  {
   "cell_type": "code",
   "execution_count": null,
   "id": "d1c2462d-0b37-470c-983c-a47ca192f708",
   "metadata": {},
   "outputs": [],
   "source": [
    "data.zca_X_train = pd.DataFrame(data.zca.fit_transform(data.X_train_ss_yj_inter[ss_position_parse]),columns=ss_position_parse,index=data.X_train_ss_yj_inter.index)\n",
    "data.zca_X_train.index = data.X_train_ss_yj_inter.index\n",
    "#zca_data = pd.concat([y_train_ss_yj,zca_X_train],axis=1)\n",
    "#zca_data.index = X_train_ss_yj_inter.index"
   ]
  },
  {
   "cell_type": "code",
   "execution_count": null,
   "id": "fc1f4582-4078-4810-8b48-48d88a2a6909",
   "metadata": {},
   "outputs": [],
   "source": [
    "data.pca_X_train.fit(data.X_train_ss_yj_inter[ss_sortedFeatures])\n",
    "data.X_pca_train = pd.DataFrame(data.pca_X_train.transform(data.X_train_ss_yj_inter[ss_sortedFeatures]),index = data.X_train_ss_yj_inter.index)"
   ]
  },
  {
   "cell_type": "code",
   "execution_count": null,
   "id": "52687dd7-c69e-4d1b-865e-fdb78059fa44",
   "metadata": {},
   "outputs": [],
   "source": [
    "#zca_data.pcorr()"
   ]
  },
  {
   "cell_type": "code",
   "execution_count": null,
   "id": "827aace5-3f19-4a70-be6d-499f6261ebbb",
   "metadata": {},
   "outputs": [],
   "source": [
    "#sns.pairplot(zca_data,kind=\"reg\", plot_kws={'line_kws':{'color':'red'}})"
   ]
  },
  {
   "cell_type": "code",
   "execution_count": null,
   "id": "2f603d6e-36ba-4da7-a22d-efd82f43f1df",
   "metadata": {},
   "outputs": [],
   "source": [
    "data.pca_X_train.explained_variance_ratio_.cumsum()"
   ]
  },
  {
   "cell_type": "code",
   "execution_count": null,
   "id": "cc4c7623-6a5f-4819-bdab-793bbaa08bbc",
   "metadata": {},
   "outputs": [],
   "source": [
    "len(ss_sortedFeatures)"
   ]
  },
  {
   "cell_type": "code",
   "execution_count": null,
   "id": "37eb6479-5110-48d7-bc8b-04110de77d5c",
   "metadata": {},
   "outputs": [],
   "source": []
  },
  {
   "cell_type": "code",
   "execution_count": null,
   "id": "ab0403fe-897d-49c3-ad3d-913424a2a9bb",
   "metadata": {},
   "outputs": [],
   "source": [
    "print(ss_position_parse)"
   ]
  },
  {
   "cell_type": "code",
   "execution_count": null,
   "id": "13ed1fa0-af34-4fbe-9f16-b37c8d94f5b6",
   "metadata": {},
   "outputs": [],
   "source": [
    "#model = sklearn.linear_model.LinearRegression()\n",
    "#data_set_wConstant = statsmodels.tools.tools.add_constant(zca_data)\n",
    "data_set_wConstant_parse_zca = statsmodels.tools.tools.add_constant(data.zca_X_train)\n",
    "#y_ = data_set_wConstant[target]\n",
    "#data_set_wConstant = data_set_wConstant[data_set_wConstant.columns.drop(target)]\n",
    "#results = model.fit(X, y)\n",
    "model_parse = sm.OLS(data.y_train_ss_yj,data_set_wConstant_parse_zca)\n",
    "results_parse = model_parse.fit()\n",
    "fitted_parse = results_parse.predict(data_set_wConstant_parse_zca)\n",
    "results_parse.summary()"
   ]
  },
  {
   "cell_type": "code",
   "execution_count": null,
   "id": "83e8153b-abad-4648-b326-4c4320277dba",
   "metadata": {},
   "outputs": [],
   "source": [
    "linear_plot = Plot.LinearRegressionResidualPlot(data_set_wConstant_parse_zca.values, data.y_train_ss_yj.values)\n",
    "lm = linear_plot.fit()\n",
    "summary, diag_res = linear_plot.diagnostic_plots(lm)\n",
    "print(\"Summary of Regression\\n:{}\".format(summary))\n",
    "print(\"Diagnostic Tests of Regression\\n:{}\".format(diag_res))"
   ]
  },
  {
   "cell_type": "code",
   "execution_count": null,
   "id": "ed663a3a-2eef-4863-be5b-2901891c17c5",
   "metadata": {},
   "outputs": [],
   "source": [
    "pd.DataFrame(results_parse.get_influence().resid_studentized_internal).hist()"
   ]
  },
  {
   "cell_type": "code",
   "execution_count": null,
   "id": "d0221212-a87f-40f3-b92a-e42690a6a412",
   "metadata": {},
   "outputs": [],
   "source": [
    "print(ss_sortedFeatures)"
   ]
  },
  {
   "cell_type": "code",
   "execution_count": null,
   "id": "7fea8437-cd06-446a-a7ca-7af65761c876",
   "metadata": {},
   "outputs": [],
   "source": [
    "#model = sklearn.linear_model.LinearRegression()\n",
    "#data_set_wConstant = statsmodels.tools.tools.add_constant(zca_data)\n",
    "data_set_wConstant_ss_pca = statsmodels.tools.tools.add_constant(data.X_pca_train)\n",
    "#y_ = data_set_wConstant[target]\n",
    "#data_set_wConstant = data_set_wConstant[data_set_wConstant.columns.drop(target)]\n",
    "#results = model.fit(X, y)\n",
    "model_ss = sm.OLS(data.y_train_ss_yj,data_set_wConstant_ss_pca)\n",
    "results_ss = model_ss.fit()\n",
    "fitted = results_ss.predict(data_set_wConstant_ss_pca)\n",
    "results_ss.summary()"
   ]
  },
  {
   "cell_type": "code",
   "execution_count": null,
   "id": "516bc53d-7a31-4b66-959e-d5b9e049df38",
   "metadata": {},
   "outputs": [],
   "source": []
  },
  {
   "cell_type": "code",
   "execution_count": null,
   "id": "3b119379-7f8d-469a-a77a-6c798efd2118",
   "metadata": {},
   "outputs": [],
   "source": [
    "pd.DataFrame(results_ss.get_influence().resid_studentized_internal).hist()"
   ]
  },
  {
   "cell_type": "code",
   "execution_count": null,
   "id": "a1f6c95f-0591-4162-a007-cfcd85d5a8bf",
   "metadata": {},
   "outputs": [],
   "source": []
  },
  {
   "cell_type": "code",
   "execution_count": null,
   "id": "7559c9ae-b262-4434-bb06-d4da42c8d5d1",
   "metadata": {},
   "outputs": [],
   "source": [
    "linear_plot = Plot.LinearRegressionResidualPlot(data_set_wConstant_ss_pca.values, data.y_train_ss_yj.values)\n",
    "lm = linear_plot.fit()\n",
    "summary, diag_res = linear_plot.diagnostic_plots(lm)\n",
    "print(\"Summary of Regression\\n:{}\".format(summary))\n",
    "print(\"Diagnostic Tests of Regression\\n:{}\".format(diag_res))\n"
   ]
  },
  {
   "cell_type": "code",
   "execution_count": null,
   "id": "092bba6f-73ac-4d83-bdc7-5ad9166e93a1",
   "metadata": {},
   "outputs": [],
   "source": []
  },
  {
   "cell_type": "code",
   "execution_count": null,
   "id": "e69c5a83-5065-47e7-8549-d58f7ba3373d",
   "metadata": {},
   "outputs": [],
   "source": [
    "#ols parse\n",
    "#uses ZCA\n",
    "y_train_predicted = data.y_train_ss_yj_t.inverse_transform(pd.DataFrame(results_parse.fittedvalues,columns=[target]))\n",
    "\n",
    "y_valid_ss_fitted_parse = data.y_train_ss_yj_t.inverse_transform(pd.DataFrame(results_parse.predict(sm.tools.tools.add_constant(data.zca.transform(data.X_valid_ss_yj_inter[ss_position_parse]), prepend=True, has_constant='skip')),index=data.X_valid_ss_yj_inter.index,columns=[target]))\n",
    "# summarize prediction\n",
    "print(\"Mean Absolute Error\")\n",
    "print(mean(absolute(data.y_valid-y_valid_ss_fitted_parse)))\n",
    "\n",
    "#temp = pd.concat([y_train_predicted,y_train_original],axis=1)\n",
    "temp = pd.concat([y_valid_ss_fitted_parse,data.y_valid],axis=1)\n",
    "temp.columns = ['Predicted','Actual']\n",
    "\n",
    "sns.lmplot(x=\"Predicted\",\n",
    "           y=\"Actual\", \n",
    "           ci=None,\n",
    "           data=temp);"
   ]
  },
  {
   "cell_type": "code",
   "execution_count": null,
   "id": "a30c2e01-ae08-4c0c-9414-2953628f88fc",
   "metadata": {},
   "outputs": [],
   "source": []
  },
  {
   "cell_type": "code",
   "execution_count": null,
   "id": "1e536ba4-9b94-4399-b9db-6a7d60961d38",
   "metadata": {},
   "outputs": [],
   "source": [
    "#ols best\n",
    "#uses PCA\n",
    "y_train_predicted = data.y_train_ss_yj_t.inverse_transform(pd.DataFrame(results_ss.fittedvalues,columns=[target]))\n",
    "\n",
    "y_valid_ss_fitted = data.y_train_ss_yj_t.inverse_transform(pd.DataFrame(results_ss.predict(sm.tools.tools.add_constant(data.pca_X_train.transform(data.X_valid_ss_yj_inter[ss_sortedFeatures]), prepend=True, has_constant='skip')),index=data.X_valid_ss_yj_inter.index,columns=[target]))\n",
    "# summarize prediction\n",
    "print(\"Mean Absolute Error\")\n",
    "print(mean(absolute(data.y_valid-y_valid_ss_fitted)))\n",
    "\n",
    "#temp = pd.concat([y_train_predicted,y_train_original],axis=1)\n",
    "temp = pd.concat([y_valid_ss_fitted,data.y_valid],axis=1)\n",
    "temp.columns = ['Predicted','Actual']\n",
    "\n",
    "sns.lmplot(x=\"Predicted\",\n",
    "           y=\"Actual\", \n",
    "           ci=None,\n",
    "           data=temp);"
   ]
  },
  {
   "cell_type": "code",
   "execution_count": null,
   "id": "0c40f454-536e-48d0-befb-c94e0fea7c11",
   "metadata": {},
   "outputs": [],
   "source": []
  },
  {
   "cell_type": "code",
   "execution_count": null,
   "id": "63267407-888b-4530-b897-894d226190ae",
   "metadata": {},
   "outputs": [],
   "source": [
    "#EN Best\n",
    "\n",
    "ENBestResults = model_eb.fit(data.X_train_ss_yj_inter[best['features']], data.y_train_ss_yj)\n",
    "\n",
    "ENBestFitted = pd.DataFrame(model_eb.predict(data.X_train_ss_yj_inter[best['features']]),index=data.X_train_ss_yj_inter.index, columns = [target])\n",
    "\n",
    "y_valid_eb_fitted = data.y_train_ss_yj_t.inverse_transform(pd.DataFrame(model_eb.predict(data.X_valid_ss_yj_inter[best['features']]),index=data.X_valid_ss_yj_inter.index,columns=[target]))\n",
    "\n",
    "# summarize prediction\n",
    "print(\"Mean Absolute Error\")\n",
    "print(mean(absolute(y_valid_eb_fitted-data.y_valid)))\n",
    "\n",
    "temp = pd.concat([y_valid_eb_fitted,data.y_valid],axis=1)\n",
    "temp.columns = ['Predicted','Actual']\n",
    "\n",
    "sns.lmplot(x=\"Predicted\",\n",
    "           y=\"Actual\", \n",
    "           ci=None,\n",
    "           data=temp);"
   ]
  },
  {
   "cell_type": "code",
   "execution_count": null,
   "id": "d4cfefc5-63c8-42f5-b9de-5058bcca48e5",
   "metadata": {},
   "outputs": [],
   "source": []
  },
  {
   "cell_type": "code",
   "execution_count": null,
   "id": "4faf1af9-6e84-4f2e-807b-feac48b84bfb",
   "metadata": {},
   "outputs": [],
   "source": [
    "#EN Parse\n",
    "\n",
    "ENParseResults = model_ep.fit(data.X_train_ss_yj_inter[parse['features']], data.y_train_ss_yj)\n",
    "\n",
    "ENParseFitted = pd.DataFrame(model_ep.predict(data.X_train_ss_yj_inter[parse['features']]),index=data.X_train_ss_yj_inter.index,columns=[target])\n",
    "\n",
    "y_valid_ep_fitted = data.y_train_ss_yj_t.inverse_transform(pd.DataFrame(model_ep.predict(data.X_valid_ss_yj_inter[parse['features']]),index=data.X_valid_ss_yj_inter.index,columns=[target]))\n",
    "\n",
    "# summarize prediction\n",
    "print(\"Mean Absolute Error\")\n",
    "print(mean(absolute(y_valid_ep_fitted-data.y_valid)))\n",
    "\n",
    "temp = pd.concat([y_valid_ep_fitted,data.y_valid],axis=1)\n",
    "temp.columns = ['Predicted','Actual']\n",
    "\n",
    "sns.lmplot(x=\"Predicted\",\n",
    "           y=\"Actual\", \n",
    "           ci=None,\n",
    "           data=temp);"
   ]
  },
  {
   "cell_type": "code",
   "execution_count": null,
   "id": "4daddcbf-634b-4a27-b7f0-137dcf37b4fd",
   "metadata": {},
   "outputs": [],
   "source": []
  },
  {
   "cell_type": "code",
   "execution_count": null,
   "id": "2fc8d8ec-72ea-408e-936e-36f6dc07bc16",
   "metadata": {},
   "outputs": [],
   "source": [
    "#robust regression using ols best\n",
    "# define the model\n",
    "model_rr_ss = RANSACRegressor()\n",
    "# evaluate model\n",
    "#Rresults_ss = evaluate_model(X_train_ss_yj_inter[ss_sortedFeatures], y_train_ss_yj, model_rr_ss)\n",
    "Rresults_ss = evaluate_model(data.X_pca_train, data.y_train_ss_yj, model_rr_ss)\n",
    "\n",
    "print('Mean MAE: %.3f (%.3f)' % (mean(Rresults_ss), std(Rresults_ss)))\n",
    "# plot the line of best fit\n",
    "#Rresults_ss = model_rr_ss.fit(X_train_ss_yj_inter[ss_sortedFeatures],y_train_ss_yj)\n",
    "Rresults_ss = model_rr_ss.fit(data.X_pca_train,data.y_train_ss_yj)\n",
    "RFitted_ss = model_rr_ss.predict(data.pca_X_train.transform(data.X_train_ss_yj_inter[ss_sortedFeatures]))\n",
    "\n",
    "y_valid_rr_ss_fitted_best = data.y_train_ss_yj_t.inverse_transform(pd.DataFrame(model_rr_ss.predict(data.pca_X_train.transform(data.X_valid_ss_yj_inter[ss_sortedFeatures])),index=data.X_valid_ss_yj_inter.index,columns=[target]))\n",
    "\n",
    "# summarize prediction\n",
    "print(\"Mean Absolute Error\")\n",
    "print(mean(absolute(y_valid_rr_ss_fitted_best-data.y_valid)))\n",
    "\n",
    "temp = pd.concat([y_valid_rr_ss_fitted_best,data.y_valid],axis=1)\n",
    "temp.columns = ['Predicted','Actual']\n",
    "\n",
    "sns.lmplot(x=\"Predicted\",\n",
    "           y=\"Actual\", \n",
    "           ci=None,\n",
    "           data=temp);\n"
   ]
  },
  {
   "cell_type": "code",
   "execution_count": null,
   "id": "afd241a3-3cd6-4d28-9bfa-619d8d28b9d9",
   "metadata": {},
   "outputs": [],
   "source": [
    "#robust regression using ols parse\n",
    "# define the model\n",
    "model_rr_ss = RANSACRegressor()\n",
    "# evaluate model\n",
    "#Rresults_ss = evaluate_model(X_train_ss_yj_inter[ss_sortedFeatures], y_train_ss_yj, model_rr_ss)\n",
    "Rresults_ss = evaluate_model(data_set_wConstant_parse_zca, data.y_train_ss_yj, model_rr_ss)\n",
    "\n",
    "print('Mean MAE: %.3f (%.3f)' % (mean(Rresults_ss), std(Rresults_ss)))\n",
    "# plot the line of best fit\n",
    "#Rresults_ss = model_rr_ss.fit(X_train_ss_yj_inter[ss_sortedFeatures],y_train_ss_yj)\n",
    "Rresults_ss = model_rr_ss.fit(data_set_wConstant_parse_zca,data.y_train_ss_yj)\n",
    "#RFitted_ss = model_rr_ss.predict(data_set_wConstant_parse_zca)\n",
    "\n",
    "y_valid_rr_ss_fitted_parse = data.y_train_ss_yj_t.inverse_transform(pd.DataFrame(Rresults_ss.predict(sm.tools.tools.add_constant(data.zca.transform(data.X_valid_ss_yj_inter[ss_position_parse]), prepend=True, has_constant='skip')),index=data.X_valid_ss_yj_inter.index,columns=[target]))\n",
    "\n",
    "# summarize prediction\n",
    "print(\"Mean Absolute Error\")\n",
    "print(mean(absolute(y_valid_rr_ss_fitted_parse-data.y_valid)))\n",
    "\n",
    "temp = pd.concat([y_valid_rr_ss_fitted_parse,data.y_valid],axis=1)\n",
    "temp.columns = ['Predicted','Actual']\n",
    "\n",
    "sns.lmplot(x=\"Predicted\",\n",
    "           y=\"Actual\", \n",
    "           ci=None,\n",
    "           data=temp);\n"
   ]
  },
  {
   "cell_type": "code",
   "execution_count": null,
   "id": "fa2cb939-c1db-4e94-9691-d4ccfd57afb2",
   "metadata": {},
   "outputs": [],
   "source": [
    "#robust regression using EN best\n",
    "# define the model\n",
    "model_rr_best = RANSACRegressor()\n",
    "# evaluate model\n",
    "Rresults_best = evaluate_model(data.X_train_ss_yj_inter[best['features']], data.y_train_ss_yj, model_rr_best)\n",
    "print('Mean MAE: %.3f (%.3f)' % (mean(Rresults_best), std(Rresults_best)))\n",
    "# plot the line of best fit\n",
    "Rresults_best = model_rr_best.fit(data.X_train_ss_yj_inter[best['features']],data.y_train_ss_yj)\n",
    "RFitted_best = model_rr_best.predict(data.X_train_ss_yj_inter[best['features']])\n",
    "\n",
    "y_valid_rr_en_best_fitted = data.y_train_ss_yj_t.inverse_transform(pd.DataFrame(model_rr_best.predict(data.X_valid_ss_yj_inter[best['features']]),index=data.X_valid_ss_yj_inter.index,columns=[target]))\n",
    "# summarize prediction\n",
    "print(\"Mean Absolute Error\")\n",
    "print(mean(absolute(y_valid_rr_en_best_fitted-data.y_valid)))\n",
    "\n",
    "temp = pd.concat([y_valid_rr_en_best_fitted,data.y_valid],axis=1)\n",
    "temp.columns = ['Predicted','Actual']\n",
    "\n",
    "sns.lmplot(x=\"Predicted\",\n",
    "           y=\"Actual\", \n",
    "           ci=None,\n",
    "           data=temp);"
   ]
  },
  {
   "cell_type": "code",
   "execution_count": null,
   "id": "5af8bfec-c01e-4442-b086-a529e5e3a29d",
   "metadata": {},
   "outputs": [],
   "source": [
    "#robust regression using EN parse\n",
    "# define the model\n",
    "model_rr_parse = RANSACRegressor()\n",
    "# evaluate model\n",
    "Rresults_parse = evaluate_model(data.X_train_ss_yj_inter[best['features']], data.y_train_ss_yj, model_rr_parse)\n",
    "print('Mean MAE: %.3f (%.3f)' % (mean(Rresults_parse), std(Rresults_parse)))\n",
    "# plot the line of best fit\n",
    "Rresults_parse = model_rr_parse.fit(data.X_train_ss_yj_inter[parse['features']],data.y_train_ss_yj)\n",
    "RFitted_parse = model_rr_parse.predict(data.X_train_ss_yj_inter[parse['features']])\n",
    "\n",
    "y_valid_rr_en_parse_fitted = data.y_train_ss_yj_t.inverse_transform(pd.DataFrame(Rresults_parse.predict(data.X_valid_ss_yj_inter[parse['features']]),index=data.X_valid_ss_yj_inter.index,columns=[target]))\n",
    "\n",
    "# summarize prediction\n",
    "print(\"Mean Absolute Error\")\n",
    "print(mean(absolute(y_valid_rr_en_parse_fitted-data.y_valid)))\n",
    "\n",
    "temp = pd.concat([y_valid_rr_en_parse_fitted,data.y_valid],axis=1)\n",
    "temp.columns = ['Predicted','Actual']\n",
    "\n",
    "sns.lmplot(x=\"Predicted\",\n",
    "           y=\"Actual\", \n",
    "           ci=None,\n",
    "           data=temp);"
   ]
  },
  {
   "cell_type": "code",
   "execution_count": null,
   "id": "963a1486-2f27-4838-ad10-9651c7eeb283",
   "metadata": {},
   "outputs": [],
   "source": []
  },
  {
   "cell_type": "code",
   "execution_count": null,
   "id": "9a18a2e1-15f2-42ed-8f69-3e71b3b31049",
   "metadata": {},
   "outputs": [],
   "source": []
  },
  {
   "cell_type": "code",
   "execution_count": null,
   "id": "9da3a220-4873-44ec-ba27-d6a7327c7122",
   "metadata": {},
   "outputs": [],
   "source": []
  },
  {
   "cell_type": "code",
   "execution_count": null,
   "id": "39fb822c-ae56-4bd5-9c66-bf1828539c24",
   "metadata": {},
   "outputs": [],
   "source": []
  },
  {
   "cell_type": "code",
   "execution_count": null,
   "id": "15cd2249-4553-4c65-804d-12cee40b2724",
   "metadata": {},
   "outputs": [],
   "source": [
    "print(\"OLS SS: \" + str(mean(absolute(np.array(data.y_valid)-y_valid_ss_fitted))))\n",
    "print(\"OLS parse: \" + str(mean(absolute(np.array(data.y_valid)-y_valid_ss_fitted_parse))))\n",
    "\n",
    "print(\"EN best: \" + str(mean(absolute(np.array(data.y_valid)-y_valid_eb_fitted))))\n",
    "print(\"EN parse: \" + str(mean(absolute(np.array(data.y_valid)-y_valid_ep_fitted))))\n",
    "\n",
    "print(\"RR SS-best: \" + str(mean(absolute(np.array(data.y_valid)-y_valid_rr_ss_fitted_best))))\n",
    "print(\"RR SS-parse: \" + str(mean(absolute(np.array(data.y_valid)-y_valid_rr_ss_fitted_parse))))\n",
    "\n",
    "print(\"RR best: \" + str(mean(absolute(np.array(data.y_valid)-y_valid_rr_en_best_fitted))))\n",
    "print(\"RR parse: \" + str(mean(absolute(np.array(data.y_valid)-y_valid_rr_en_parse_fitted))))"
   ]
  },
  {
   "cell_type": "code",
   "execution_count": null,
   "id": "b009b13b-3c4f-4da1-9da3-f930274146a3",
   "metadata": {},
   "outputs": [],
   "source": [
    "#print(\"RR parse: \" + str(mean(absolute(np.array(y)-RFitted_parse_all))))\n",
    "#print(\"RR ss: \" + str(mean(absolute(np.array(y)-RFitted_ss_all))))"
   ]
  },
  {
   "cell_type": "code",
   "execution_count": null,
   "id": "39ee1db2-3d73-4389-afd2-803d42c28719",
   "metadata": {},
   "outputs": [],
   "source": []
  }
 ],
 "metadata": {
  "kernelspec": {
   "display_name": "Python 3 (ipykernel)",
   "language": "python",
   "name": "python3"
  },
  "language_info": {
   "codemirror_mode": {
    "name": "ipython",
    "version": 3
   },
   "file_extension": ".py",
   "mimetype": "text/x-python",
   "name": "python",
   "nbconvert_exporter": "python",
   "pygments_lexer": "ipython3",
   "version": "3.9.6"
  }
 },
 "nbformat": 4,
 "nbformat_minor": 5
}
