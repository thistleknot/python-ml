{
 "cells": [
  {
   "cell_type": "code",
   "execution_count": 1,
   "id": "3ed6d235-1e58-4000-9e03-cb31972b05ed",
   "metadata": {},
   "outputs": [],
   "source": [
    "from OLS_LR_DiagnosticPlots.ModelDiagnostics import Plot\n",
    "from matplotlib import pyplot\n",
    "from mlxtend.feature_selection import SequentialFeatureSelector as sffs\n",
    "from mlxtend.plotting import plot_sequential_feature_selection as plot_sfs\n",
    "from numpy import *\n",
    "from numpy import absolute\n",
    "from numpy import arange\n",
    "from numpy import mean\n",
    "from numpy import std\n",
    "from numpy.random import seed\n",
    "from pandas import read_csv\n",
    "from random import randint\n",
    "from random import random\n",
    "from random import seed\n",
    "from scipy import stats # For in-built method to get PCC\n",
    "from sklearn import linear_model\n",
    "from sklearn.datasets import load_boston\n",
    "from sklearn.datasets import make_regression\n",
    "from sklearn.decomposition import PCA\n",
    "from sklearn.ensemble import RandomForestRegressor, IsolationForest\n",
    "from sklearn.linear_model import ElasticNet, ElasticNetCV, LinearRegression\n",
    "from sklearn.linear_model import RANSACRegressor\n",
    "from sklearn.metrics import accuracy_score as acc\n",
    "from sklearn.metrics import mean_squared_error\n",
    "from sklearn.model_selection import GridSearchCV, KFold, cross_val_score, RepeatedKFold, train_test_split\n",
    "\n",
    "from sklearn.compose import TransformedTargetRegressor\n",
    "from sklearn.pipeline import FeatureUnion, Pipeline, make_pipeline\n",
    "from sklearn.base import BaseEstimator, TransformerMixin\n",
    "\n",
    "import sklearn\n",
    "from sklearn.preprocessing import *\n",
    "\n",
    "from sklearn.pipeline import Pipeline\n",
    "from sklearn.preprocessing import StandardScaler, PowerTransformer\n",
    "from statsmodels.stats.outliers_influence import OLSInfluence\n",
    "from tqdm import tnrange, tqdm_notebook\n",
    "from zca import zca\n",
    "import itertools\n",
    "import matplotlib.pyplot as plt\n",
    "import mlxtend\n",
    "import numpy as np\n",
    "import pandas as pd\n",
    "import pingouin as pg\n",
    "import scipy\n",
    "import seaborn as sns\n",
    "import sklearn.linear_model\n",
    "import statsmodels.api as sm\n",
    "import statsmodels.tools\n",
    "import sys\n",
    "\n",
    "#if not sys.warnoptions:\n",
    "#    import warnings\n",
    "#    warnings.simplefilter(\"ignore\")\n",
    "#import random\n",
    "import warnings\n",
    "warnings.filterwarnings('ignore')"
   ]
  },
  {
   "cell_type": "code",
   "execution_count": 2,
   "id": "51a7b502-6081-4f42-98b0-a505ff859b0b",
   "metadata": {},
   "outputs": [],
   "source": [
    "class ss_yj_Transformer(BaseEstimator, TransformerMixin):\n",
    "    # add another additional parameter, just for fun, while we are at it\n",
    "    \n",
    "    def __init__(self, feature_names=[], additional_param = \"\"):  \n",
    "        self.ss_X = StandardScaler()\n",
    "        self.pt_X = PowerTransformer(standardize=True)\n",
    "        self.ss_y = StandardScaler()\n",
    "        self.pt_y = PowerTransformer(standardize=True)        \n",
    "        self.feature_names = feature_names\n",
    "        self.additional_param = additional_param\n",
    "\n",
    "    def fit(self, X, y = None):\n",
    "        self.ss_X.fit(X)\n",
    "        self.pt_X.fit(self.ss_X.transform(X))\n",
    "        if (y is not None):\n",
    "            self.ss_y.fit(y)\n",
    "            self.pt_y.fit(self.ss_y.transform(y))\n",
    "        return self\n",
    "\n",
    "    def transform(self, X, y = None):\n",
    "        pt_X_ = pd.DataFrame(self.pt_X.fit(pd.DataFrame(self.ss_X.fit(X).transform(X),index=X.index,columns=X.columns)).transform(pd.DataFrame(self.ss_X.fit(X).transform(X),index=X.index,columns=X.columns)),index=X.index,columns=X.columns)        \n",
    "        if (y is None):\n",
    "            return pt_X_\n",
    "        else:\n",
    "            pt_y_ = pd.DataFrame(self.pt_y.fit(pd.DataFrame(self.ss_y.fit(y).transform(y),index=y.index,columns=y.columns)).transform(pd.DataFrame(self.ss_y.fit(y).transform(y),index=y.index,columns=y.columns)),index=y.index,columns=y.columns)\n",
    "            return pt_X_, pt_y_\n",
    "        \n",
    "    def inverse_transform(self, X, y = None):\n",
    "        target_X = pd.DataFrame(self.ss_X.inverse_transform(self.pt_X.inverse_transform(X)),index=X.index,columns=X.columns)\n",
    "        if (y is None):\n",
    "            return target_X\n",
    "        else:\n",
    "            target_y = pd.DataFrame(self.ss_y.inverse_transform(self.pt_y.inverse_transform(y)),index=y.index,columns=y.columns)\n",
    "            return target_X, target_y\n",
    "        "
   ]
  },
  {
   "cell_type": "code",
   "execution_count": null,
   "id": "cbf3e509-0551-4404-a471-30e51b231e9e",
   "metadata": {},
   "outputs": [],
   "source": []
  },
  {
   "cell_type": "code",
   "execution_count": 3,
   "id": "18febc60-48ed-4990-854b-815d3719435f",
   "metadata": {},
   "outputs": [],
   "source": [
    "numCV = 10\n",
    "kfold = KFold(n_splits=numCV, shuffle=True)\n",
    "p_threshold = .05\n",
    "divisor = 1\n",
    "target = 'Poverty'\n",
    "exclude = 'States'\n",
    "\n",
    "\n",
    "cv = RepeatedKFold(n_splits=numCV, n_repeats=1, random_state=1)\n",
    "\n",
    "alphas = [1e-5, 1e-4, 1e-3, 1e-2, 1e-1, 0.0, 1.0, 10.0, 100.0]\n",
    "l1s = arange(0, 1, 0.01/divisor)\n",
    "\n",
    "seed_ = 3\n",
    "\n",
    "#random.seed(11)\n",
    "\n",
    "seed(seed_)"
   ]
  },
  {
   "cell_type": "code",
   "execution_count": 4,
   "id": "c4aff39a-9f86-4631-92f3-b76fd406ff04",
   "metadata": {},
   "outputs": [],
   "source": [
    "# evaluate a model\n",
    "def evaluate_model(X, y, model):\n",
    "\t# define model evaluation method\n",
    "\tcv = RepeatedKFold(n_splits=numCV, n_repeats=1, random_state=1)\n",
    "\t# evaluate model\n",
    "\tscores = cross_val_score(model, X, y, scoring='neg_mean_absolute_error', cv=cv, n_jobs=-1)\n",
    "\t# force scores to be positive\n",
    "\treturn absolute(scores)\n",
    "\n",
    "# plot the dataset and the model's line of best fit\n",
    "def plot_best_fit(X, y, model):\n",
    "\t# fut the model on all data\n",
    "\tmodel.fit(X, y)\n",
    "\t# plot the dataset\n",
    "\tpyplot.scatter(X, y)\n",
    "\t# plot the line of best fit\n",
    "\txaxis = arange(X.min(), X.max(), 0.01)\n",
    "\tyaxis = model.predict(xaxis.reshape((len(xaxis), 1)))\n",
    "\tpyplot.plot(xaxis, yaxis, color='r')\n",
    "\t# show the plot\n",
    "\tpyplot.title(type(model).__name__)\n",
    "\tpyplot.show()"
   ]
  },
  {
   "cell_type": "code",
   "execution_count": 5,
   "id": "2e025827-a163-4dbd-a95c-1b8f922a438c",
   "metadata": {},
   "outputs": [],
   "source": [
    "all_data = pd.read_csv('../data/raw/states.csv')"
   ]
  },
  {
   "cell_type": "code",
   "execution_count": null,
   "id": "abb46652-bab0-4bb1-bc7e-3d9d340a9c15",
   "metadata": {},
   "outputs": [],
   "source": []
  },
  {
   "cell_type": "code",
   "execution_count": 6,
   "id": "d4589f6d-16d2-4f3c-90e4-a0205154cea1",
   "metadata": {},
   "outputs": [],
   "source": [
    "class data():\n",
    "    def __init__(self, target, exclude, dataset):  \n",
    "        \n",
    "        train, valid = train_test_split(all_data.index, test_size=0.3, shuffle=True)\n",
    "        valid, test = train_test_split(valid,  test_size=0.5, shuffle=True)\n",
    "\n",
    "        self.X = dataset[set(all_data.columns).difference([target,exclude])].copy()\n",
    "        self.y = pd.DataFrame(all_data[target].copy())\n",
    "\n",
    "        self.X_train = self.X.loc[train].copy()\n",
    "\n",
    "        self.X_train_ss_yj_t = ss_yj_Transformer()\n",
    "        self.X_train_ss_yj_t.fit(self.X_train)\n",
    "        \n",
    "        self.X_train_ss_yj = self.X_train_ss_yj_t.transform(self.X_train)\n",
    "\n",
    "        self.X_valid = self.X.loc[valid].copy()\n",
    "\n",
    "        self.X_test = self.X.loc[test].copy()\n",
    "\n",
    "        self.y_train = self.y.loc[self.X_train.index][[target]].copy()\n",
    "        self.y_valid = self.y.loc[self.X_valid.index][[target]].copy()\n",
    "        self.y_test = self.y.loc[self.X_test.index][[target]].copy()\n",
    "\n",
    "        self.y_train_ss_yj_t = ss_yj_Transformer()\n",
    "        self.y_train_ss_yj_t.fit(self.y_train)\n",
    "        \n",
    "        self.y_train_ss_yj = self.y_train_ss_yj_t.transform(self.y_train)\n",
    "\n",
    "        self.X_valid_ss_yj = self.X_train_ss_yj_t.transform(self.X_valid)\n",
    "        \n",
    "        interaction = PolynomialFeatures(degree=2, include_bias=False, interaction_only=False)\n",
    "\n",
    "        self.X_train_ss_yj_inter = pd.DataFrame(interaction.fit_transform(self.X_train_ss_yj),index=self.X_train_ss_yj.index,columns=interaction.get_feature_names(input_features=self.X_train_ss_yj.columns))\n",
    "\n",
    "        self.X_valid_ss_yj_inter = pd.DataFrame(interaction.fit_transform(self.X_valid_ss_yj),index=self.X_valid_ss_yj.index,columns=interaction.get_feature_names(input_features=self.X_valid_ss_yj.columns))\n",
    "        \n",
    "        self.zca = zca.ZCA()\n",
    "        self.pca_X_train = PCA(n_components=0.99, svd_solver='full')\n"
   ]
  },
  {
   "cell_type": "code",
   "execution_count": 7,
   "id": "c7b41059-678f-444a-9019-1e5c0e80e4f6",
   "metadata": {},
   "outputs": [],
   "source": [
    "data = data(target,exclude,all_data)"
   ]
  },
  {
   "cell_type": "code",
   "execution_count": null,
   "id": "d9130aed-2778-4682-b57c-b93cb7d9c455",
   "metadata": {},
   "outputs": [],
   "source": []
  },
  {
   "cell_type": "code",
   "execution_count": 8,
   "id": "e705334a-0bc8-4cd8-a072-21e45352112f",
   "metadata": {},
   "outputs": [],
   "source": [
    "lr = LinearRegression()\n",
    "\n",
    "#backwards step subset\n",
    "sffs1 = sffs(lr, \n",
    "          k_features=len(data.X_train_ss_yj_inter.columns), \n",
    "          #forward=True, \n",
    "          floating=True, \n",
    "          scoring='neg_mean_squared_error',\n",
    "          #scoring='accuracy',\n",
    "          n_jobs=-1,\n",
    "          cv=numCV)\n",
    "            \n",
    "sffs1 = sffs1.fit(data.X_train_ss_yj_inter, data.y_train_ss_yj)\n"
   ]
  },
  {
   "cell_type": "code",
   "execution_count": 9,
   "id": "00122287-7af4-4dc7-9ef1-8da80d9e1654",
   "metadata": {},
   "outputs": [
    {
     "data": {
      "image/png": "[encoded data removed]",
      "text/plain": [
       "<Figure size 432x288 with 1 Axes>"
      ]
     },
     "metadata": {
      "needs_background": "light"
     },
     "output_type": "display_data"
    },
    {
     "name": "stdout",
     "output_type": "stream",
     "text": [
      "best combination (ACC: -0.518): (0, 1, 2, 3, 4, 5, 6, 7, 8, 9, 10, 11, 12, 13, 14, 15, 16, 17, 18, 19, 20, 21, 22, 23, 24, 25, 26, 27, 28, 29, 30, 31, 32, 33, 34, 35, 36, 37, 38, 39, 40, 41, 42, 43, 44, 45, 46, 47, 48, 49, 50, 51, 52, 53)\n",
      "\n"
     ]
    },
    {
     "data": {
      "text/plain": [
       "Index(['Crime', 'Doctors', 'University', 'Traf Deaths', 'White', 'Infant Mort',\n",
       "       'Income', 'Population', 'Unemployed', 'Crime^2', 'Crime Doctors',\n",
       "       'Crime University', 'Crime Traf Deaths', 'Crime White',\n",
       "       'Crime Infant Mort', 'Crime Income', 'Crime Population',\n",
       "       'Crime Unemployed', 'Doctors^2', 'Doctors University',\n",
       "       'Doctors Traf Deaths', 'Doctors White', 'Doctors Infant Mort',\n",
       "       'Doctors Income', 'Doctors Population', 'Doctors Unemployed',\n",
       "       'University^2', 'University Traf Deaths', 'University White',\n",
       "       'University Infant Mort', 'University Income', 'University Population',\n",
       "       'University Unemployed', 'Traf Deaths^2', 'Traf Deaths White',\n",
       "       'Traf Deaths Infant Mort', 'Traf Deaths Income',\n",
       "       'Traf Deaths Population', 'Traf Deaths Unemployed', 'White^2',\n",
       "       'White Infant Mort', 'White Income', 'White Population',\n",
       "       'White Unemployed', 'Infant Mort^2', 'Infant Mort Income',\n",
       "       'Infant Mort Population', 'Infant Mort Unemployed', 'Income^2',\n",
       "       'Income Population', 'Income Unemployed', 'Population^2',\n",
       "       'Population Unemployed', 'Unemployed^2'],\n",
       "      dtype='object')"
      ]
     },
     "execution_count": 9,
     "metadata": {},
     "output_type": "execute_result"
    }
   ],
   "source": [
    "fig = plot_sfs(sffs1.get_metric_dict(), kind='std_err')\n",
    "\n",
    "plt.title('Sequential Backward Selection (w. StdErr)')\n",
    "plt.grid()\n",
    "plt.show(fig)\n",
    "\n",
    "print('best combination (ACC: %.3f): %s\\n' % (sffs1.k_score_, sffs1.k_feature_idx_))\n",
    "#print('all subsets:\\n', sffs1.subsets_)\n",
    "data.X_train_ss_yj_inter.columns[list(sffs1.k_feature_idx_)]"
   ]
  },
  {
   "cell_type": "code",
   "execution_count": 10,
   "id": "2f8adffa-d8c6-4456-8e9d-365303652a60",
   "metadata": {},
   "outputs": [],
   "source": [
    "features = list(pd.DataFrame(sffs1.subsets_).loc['feature_names'].values)"
   ]
  },
  {
   "cell_type": "code",
   "execution_count": 11,
   "id": "509c273e-fff7-4175-ab9c-f179cde6097f",
   "metadata": {},
   "outputs": [],
   "source": [
    "ss_position = np.array(pd.DataFrame(pd.DataFrame(sffs1.subsets_)).loc['avg_score']).argmax()"
   ]
  },
  {
   "cell_type": "code",
   "execution_count": 12,
   "id": "ede2f9a1-4093-451d-880b-38c2455a5f21",
   "metadata": {},
   "outputs": [],
   "source": [
    "ss_position_parse = list((pd.DataFrame(sffs1.subsets_)).T[(pd.DataFrame(sffs1.subsets_)).T['avg_score']>=np.max(np.array(pd.DataFrame(pd.DataFrame(sffs1.subsets_)).loc['avg_score']))-np.std(np.array(pd.DataFrame(pd.DataFrame(sffs1.subsets_)).loc['avg_score']))]['feature_names'].iloc[0])"
   ]
  },
  {
   "cell_type": "code",
   "execution_count": null,
   "id": "56cd1c0d-ca4a-41cf-b0a7-fc602d04830f",
   "metadata": {},
   "outputs": [],
   "source": []
  },
  {
   "cell_type": "code",
   "execution_count": 13,
   "id": "f9a4d556-12c4-4629-b11c-183b265ae900",
   "metadata": {},
   "outputs": [],
   "source": [
    "ss_sortedFeatures = list(np.array(pd.DataFrame(sffs1.subsets_).loc['feature_names'])[ss_position])"
   ]
  },
  {
   "cell_type": "code",
   "execution_count": null,
   "id": "ca53580c-b6c6-42ee-8201-a4c03ccc624d",
   "metadata": {},
   "outputs": [],
   "source": []
  },
  {
   "cell_type": "code",
   "execution_count": 14,
   "id": "a97c5277-0a75-4520-b715-1c0117fc17d7",
   "metadata": {},
   "outputs": [
    {
     "name": "stdout",
     "output_type": "stream",
     "text": [
      "('Income',)\n",
      "alpha: 0.010000\n",
      "l1_ratio_: 0.000000\n",
      "Mean MAE: 0.486 (0.187)\n",
      "('Income', 'Population')\n",
      "alpha: 0.000000\n",
      "l1_ratio_: 0.580000\n",
      "Mean MAE: 0.338 (0.131)\n",
      "('Income', 'Population', 'Unemployed')\n",
      "alpha: 0.000010\n",
      "l1_ratio_: 0.120000\n",
      "Mean MAE: 0.282 (0.077)\n",
      "('Income', 'Population', 'Unemployed', 'Infant Mort Population')\n",
      "alpha: 0.001000\n",
      "l1_ratio_: 0.990000\n",
      "Mean MAE: 0.251 (0.103)\n",
      "('White', 'Income', 'Population', 'Unemployed', 'Infant Mort Population')\n",
      "alpha: 0.000000\n",
      "l1_ratio_: 0.480000\n",
      "Mean MAE: 0.246 (0.096)\n",
      "('Traf Deaths', 'Income', 'Population', 'Unemployed', 'Doctors Population', 'Infant Mort Population')\n",
      "alpha: 0.000000\n",
      "l1_ratio_: 0.240000\n",
      "Mean MAE: 0.216 (0.065)\n",
      "('Traf Deaths', 'Income', 'Population', 'Unemployed', 'Crime Traf Deaths', 'Doctors Population', 'Infant Mort Population')\n",
      "alpha: 0.000000\n",
      "l1_ratio_: 0.230000\n",
      "Mean MAE: 0.199 (0.090)\n",
      "('Traf Deaths', 'Income', 'Population', 'Unemployed', 'Crime Traf Deaths', 'Doctors Population', 'Doctors Unemployed', 'Infant Mort Population')\n",
      "alpha: 0.001000\n",
      "l1_ratio_: 0.100000\n",
      "Mean MAE: 0.199 (0.093)\n",
      "('Traf Deaths', 'Income', 'Population', 'Unemployed', 'Crime Traf Deaths', 'Doctors Population', 'Doctors Unemployed', 'University Unemployed', 'Infant Mort Population')\n",
      "alpha: 0.010000\n",
      "l1_ratio_: 0.000000\n",
      "Mean MAE: 0.195 (0.102)\n",
      "('Traf Deaths', 'Income', 'Population', 'Unemployed', 'Crime Traf Deaths', 'Doctors Population', 'Doctors Unemployed', 'University Unemployed', 'Infant Mort Population', 'Income Population')\n",
      "alpha: 0.010000\n",
      "l1_ratio_: 0.270000\n",
      "Mean MAE: 0.211 (0.061)\n",
      "('Doctors', 'Traf Deaths', 'Income', 'Population', 'Unemployed', 'Crime Traf Deaths', 'Doctors Population', 'Doctors Unemployed', 'University Traf Deaths', 'University Unemployed', 'Income Population')\n",
      "alpha: 0.010000\n",
      "l1_ratio_: 0.040000\n",
      "Mean MAE: 0.160 (0.047)\n",
      "('Doctors', 'University', 'Traf Deaths', 'Income', 'Population', 'Unemployed', 'Crime Traf Deaths', 'Crime Population', 'Doctors Population', 'Doctors Unemployed', 'University Traf Deaths', 'White Unemployed')\n",
      "alpha: 0.010000\n",
      "l1_ratio_: 0.010000\n",
      "Mean MAE: 0.146 (0.070)\n",
      "('Doctors', 'University', 'Traf Deaths', 'Income', 'Population', 'Unemployed', 'Crime Traf Deaths', 'Crime Population', 'Crime Unemployed', 'Doctors Population', 'Doctors Unemployed', 'University Traf Deaths', 'White Unemployed')\n",
      "alpha: 0.010000\n",
      "l1_ratio_: 0.000000\n",
      "Mean MAE: 0.145 (0.073)\n",
      "('Doctors', 'University', 'Traf Deaths', 'Income', 'Population', 'Unemployed', 'Crime Traf Deaths', 'Crime Population', 'Crime Unemployed', 'Doctors Population', 'Doctors Unemployed', 'University Traf Deaths', 'White Unemployed', 'Income Population')\n",
      "alpha: 0.010000\n",
      "l1_ratio_: 0.000000\n",
      "Mean MAE: 0.149 (0.070)\n",
      "('Doctors', 'University', 'Traf Deaths', 'White', 'Income', 'Population', 'Unemployed', 'Crime Traf Deaths', 'Crime Population', 'Crime Unemployed', 'Doctors Population', 'Doctors Unemployed', 'University Traf Deaths', 'White Unemployed', 'Income Population')\n",
      "alpha: 0.010000\n",
      "l1_ratio_: 0.000000\n",
      "Mean MAE: 0.154 (0.073)\n",
      "('Doctors', 'University', 'Traf Deaths', 'White', 'Income', 'Population', 'Unemployed', 'Crime Traf Deaths', 'Crime Infant Mort', 'Crime Population', 'Crime Unemployed', 'Doctors Population', 'Doctors Unemployed', 'University Traf Deaths', 'White Unemployed', 'Income Population')\n",
      "alpha: 0.010000\n",
      "l1_ratio_: 0.140000\n",
      "Mean MAE: 0.158 (0.071)\n",
      "('Doctors', 'University', 'Traf Deaths', 'White', 'Income', 'Population', 'Unemployed', 'Crime Traf Deaths', 'Crime Infant Mort', 'Crime Population', 'Crime Unemployed', 'Doctors Population', 'Doctors Unemployed', 'University Traf Deaths', 'White Population', 'White Unemployed', 'Income Population')\n",
      "alpha: 0.010000\n",
      "l1_ratio_: 0.150000\n",
      "Mean MAE: 0.160 (0.070)\n",
      "('Doctors', 'University', 'Traf Deaths', 'White', 'Income', 'Population', 'Unemployed', 'Crime Traf Deaths', 'Crime Infant Mort', 'Crime Population', 'Crime Unemployed', 'Doctors Population', 'Doctors Unemployed', 'University Traf Deaths', 'Traf Deaths^2', 'White Population', 'White Unemployed', 'Income Population')\n",
      "alpha: 0.010000\n",
      "l1_ratio_: 0.150000\n",
      "Mean MAE: 0.167 (0.078)\n",
      "('Doctors', 'University', 'Traf Deaths', 'White', 'Income', 'Population', 'Unemployed', 'Crime Doctors', 'Crime Traf Deaths', 'Crime White', 'Crime Infant Mort', 'Crime Population', 'Doctors Population', 'Doctors Unemployed', 'University Traf Deaths', 'Traf Deaths^2', 'White Population', 'White Unemployed', 'Income Population')\n",
      "alpha: 0.010000\n",
      "l1_ratio_: 0.210000\n",
      "Mean MAE: 0.169 (0.068)\n",
      "('Doctors', 'University', 'Traf Deaths', 'White', 'Income', 'Population', 'Unemployed', 'Crime Doctors', 'Crime Traf Deaths', 'Crime White', 'Crime Infant Mort', 'Crime Population', 'Crime Unemployed', 'Doctors Population', 'Doctors Unemployed', 'University Traf Deaths', 'Traf Deaths^2', 'White Population', 'White Unemployed', 'Income Population')\n",
      "alpha: 0.010000\n",
      "l1_ratio_: 0.200000\n",
      "Mean MAE: 0.178 (0.079)\n",
      "('Doctors', 'University', 'Traf Deaths', 'White', 'Income', 'Population', 'Unemployed', 'Crime^2', 'Crime Doctors', 'Crime Traf Deaths', 'Crime Income', 'Crime Population', 'Doctors Income', 'Doctors Population', 'University Infant Mort', 'University Income', 'White^2', 'Infant Mort Population', 'Infant Mort Unemployed', 'Income Population', 'Income Unemployed')\n",
      "alpha: 0.010000\n",
      "l1_ratio_: 0.000000\n",
      "Mean MAE: 0.245 (0.093)\n",
      "('Doctors', 'University', 'Traf Deaths', 'White', 'Income', 'Population', 'Unemployed', 'Crime^2', 'Crime Doctors', 'Crime Traf Deaths', 'Crime Income', 'Crime Population', 'Doctors Traf Deaths', 'Doctors Income', 'Doctors Population', 'University Infant Mort', 'University Income', 'White^2', 'Infant Mort Population', 'Infant Mort Unemployed', 'Income Population', 'Income Unemployed')\n",
      "alpha: 0.010000\n",
      "l1_ratio_: 0.000000\n",
      "Mean MAE: 0.266 (0.085)\n",
      "('Doctors', 'University', 'Traf Deaths', 'White', 'Income', 'Population', 'Unemployed', 'Crime^2', 'Crime Doctors', 'Crime Traf Deaths', 'Crime Infant Mort', 'Crime Income', 'Crime Population', 'Doctors Traf Deaths', 'Doctors Income', 'Doctors Population', 'University Infant Mort', 'University Income', 'White^2', 'Infant Mort Population', 'Infant Mort Unemployed', 'Income Population', 'Income Unemployed')\n",
      "alpha: 0.010000\n",
      "l1_ratio_: 0.190000\n",
      "Mean MAE: 0.269 (0.084)\n",
      "('Doctors', 'University', 'Traf Deaths', 'White', 'Income', 'Population', 'Unemployed', 'Crime^2', 'Crime Doctors', 'Crime Traf Deaths', 'Crime Infant Mort', 'Crime Income', 'Crime Population', 'Doctors Traf Deaths', 'Doctors White', 'Doctors Income', 'Doctors Population', 'University Infant Mort', 'University Income', 'White^2', 'Infant Mort Population', 'Infant Mort Unemployed', 'Income Population', 'Income Unemployed')\n",
      "alpha: 0.010000\n",
      "l1_ratio_: 0.210000\n",
      "Mean MAE: 0.281 (0.100)\n",
      "('University', 'Traf Deaths', 'Population', 'Unemployed', 'Crime^2', 'Crime Doctors', 'Crime University', 'Crime Traf Deaths', 'Crime White', 'Crime Infant Mort', 'Doctors Traf Deaths', 'Doctors Income', 'Doctors Population', 'Doctors Unemployed', 'University Infant Mort', 'University Income', 'University Population', 'Traf Deaths White', 'Traf Deaths Infant Mort', 'Traf Deaths Income', 'White Infant Mort', 'Infant Mort Income', 'Infant Mort Population', 'Income Population', 'Income Unemployed')\n",
      "alpha: 0.000000\n",
      "l1_ratio_: 0.000000\n",
      "Mean MAE: 0.174 (0.217)\n",
      "('University', 'Traf Deaths', 'Population', 'Unemployed', 'Crime^2', 'Crime Doctors', 'Crime University', 'Crime Traf Deaths', 'Crime White', 'Crime Infant Mort', 'Doctors Traf Deaths', 'Doctors Income', 'Doctors Population', 'Doctors Unemployed', 'University Infant Mort', 'University Income', 'University Population', 'Traf Deaths^2', 'Traf Deaths White', 'Traf Deaths Infant Mort', 'Traf Deaths Income', 'White Infant Mort', 'Infant Mort Income', 'Infant Mort Population', 'Income Population', 'Income Unemployed')\n",
      "alpha: 0.000000\n",
      "l1_ratio_: 0.000000\n",
      "Mean MAE: 0.416 (0.233)\n",
      "('University', 'Traf Deaths', 'Income', 'Population', 'Unemployed', 'Crime^2', 'Crime Doctors', 'Crime University', 'Crime Traf Deaths', 'Crime White', 'Crime Infant Mort', 'Doctors Traf Deaths', 'Doctors Income', 'Doctors Population', 'Doctors Unemployed', 'University Infant Mort', 'University Income', 'University Population', 'Traf Deaths^2', 'Traf Deaths White', 'Traf Deaths Infant Mort', 'Traf Deaths Income', 'White Infant Mort', 'Infant Mort Income', 'Infant Mort Population', 'Income Population', 'Income Unemployed')\n",
      "alpha: 0.000000\n",
      "l1_ratio_: 0.000000\n",
      "Mean MAE: 0.269 (0.070)\n",
      "('University', 'Traf Deaths', 'Income', 'Population', 'Unemployed', 'Crime^2', 'Crime Doctors', 'Crime University', 'Crime Traf Deaths', 'Crime White', 'Crime Infant Mort', 'Crime Population', 'Doctors Traf Deaths', 'Doctors Income', 'Doctors Population', 'Doctors Unemployed', 'University Infant Mort', 'University Income', 'University Population', 'Traf Deaths^2', 'Traf Deaths White', 'Traf Deaths Infant Mort', 'Traf Deaths Income', 'White Infant Mort', 'Infant Mort Income', 'Infant Mort Population', 'Income Population', 'Income Unemployed')\n",
      "alpha: 0.000000\n",
      "l1_ratio_: 0.000000\n",
      "Mean MAE: 0.291 (0.119)\n",
      "('University', 'Traf Deaths', 'Income', 'Population', 'Unemployed', 'Crime^2', 'Crime Doctors', 'Crime University', 'Crime Traf Deaths', 'Crime White', 'Crime Infant Mort', 'Crime Population', 'Doctors Traf Deaths', 'Doctors Income', 'Doctors Population', 'Doctors Unemployed', 'University Infant Mort', 'University Income', 'University Population', 'Traf Deaths^2', 'Traf Deaths White', 'Traf Deaths Infant Mort', 'Traf Deaths Income', 'White Infant Mort', 'Infant Mort Income', 'Infant Mort Population', 'Infant Mort Unemployed', 'Income Population', 'Population^2')\n",
      "alpha: 0.000000\n",
      "l1_ratio_: 0.540000\n",
      "Mean MAE: 0.300 (0.108)\n",
      "('University', 'Traf Deaths', 'Income', 'Population', 'Unemployed', 'Crime^2', 'Crime Doctors', 'Crime University', 'Crime Traf Deaths', 'Crime White', 'Crime Infant Mort', 'Crime Income', 'Crime Population', 'Doctors Traf Deaths', 'Doctors Income', 'Doctors Population', 'Doctors Unemployed', 'University Infant Mort', 'University Income', 'University Population', 'Traf Deaths^2', 'Traf Deaths White', 'Traf Deaths Infant Mort', 'Traf Deaths Income', 'White Infant Mort', 'Infant Mort Income', 'Infant Mort Population', 'Infant Mort Unemployed', 'Income Population', 'Population^2')\n",
      "alpha: 0.100000\n",
      "l1_ratio_: 0.250000\n",
      "Mean MAE: 0.298 (0.109)\n",
      "('Doctors', 'University', 'Traf Deaths', 'Population', 'Unemployed', 'Crime^2', 'Crime Doctors', 'Crime Traf Deaths', 'Crime White', 'Crime Infant Mort', 'Crime Income', 'Crime Population', 'Doctors Traf Deaths', 'Doctors White', 'Doctors Income', 'Doctors Population', 'Doctors Unemployed', 'University Infant Mort', 'University Income', 'University Population', 'Traf Deaths White', 'Traf Deaths Infant Mort', 'Traf Deaths Income', 'Traf Deaths Population', 'White^2', 'White Infant Mort', 'Infant Mort Income', 'Infant Mort Population', 'Infant Mort Unemployed', 'Income Population', 'Population^2')\n",
      "alpha: 0.000000\n",
      "l1_ratio_: 0.000000\n",
      "Mean MAE: 0.402 (0.203)\n",
      "('University', 'Traf Deaths', 'White', 'Infant Mort', 'Income', 'Population', 'Unemployed', 'Crime Doctors', 'Crime University', 'Crime White', 'Crime Infant Mort', 'Crime Income', 'Crime Population', 'Doctors^2', 'Doctors University', 'Doctors White', 'Doctors Income', 'Doctors Population', 'University Traf Deaths', 'University Income', 'University Unemployed', 'Traf Deaths^2', 'Traf Deaths Infant Mort', 'Traf Deaths Income', 'Traf Deaths Population', 'Traf Deaths Unemployed', 'White Income', 'White Unemployed', 'Infant Mort Population', 'Income^2', 'Income Unemployed', 'Population^2')\n",
      "alpha: 0.000000\n",
      "l1_ratio_: 0.000000\n",
      "Mean MAE: 0.149 (0.090)\n",
      "('University', 'Traf Deaths', 'White', 'Infant Mort', 'Income', 'Population', 'Unemployed', 'Crime Doctors', 'Crime University', 'Crime White', 'Crime Infant Mort', 'Crime Income', 'Crime Population', 'Doctors^2', 'Doctors University', 'Doctors White', 'Doctors Income', 'Doctors Population', 'University Traf Deaths', 'University Income', 'University Population', 'University Unemployed', 'Traf Deaths^2', 'Traf Deaths Infant Mort', 'Traf Deaths Income', 'Traf Deaths Population', 'Traf Deaths Unemployed', 'White Income', 'White Unemployed', 'Infant Mort Population', 'Income^2', 'Income Unemployed', 'Population^2')\n",
      "alpha: 0.000000\n",
      "l1_ratio_: 0.000000\n",
      "Mean MAE: 0.176 (0.101)\n",
      "('University', 'Traf Deaths', 'White', 'Infant Mort', 'Income', 'Population', 'Unemployed', 'Crime^2', 'Crime Doctors', 'Crime University', 'Crime Traf Deaths', 'Crime White', 'Crime Infant Mort', 'Crime Income', 'Crime Population', 'Doctors^2', 'Doctors University', 'Doctors White', 'Doctors Income', 'Doctors Population', 'University Traf Deaths', 'University Income', 'University Unemployed', 'Traf Deaths^2', 'Traf Deaths Infant Mort', 'Traf Deaths Income', 'Traf Deaths Population', 'Traf Deaths Unemployed', 'White Income', 'White Unemployed', 'Infant Mort Population', 'Income^2', 'Income Unemployed', 'Population^2')\n",
      "alpha: 0.000000\n",
      "l1_ratio_: 0.000000\n",
      "Mean MAE: 0.244 (0.102)\n",
      "('University', 'Traf Deaths', 'White', 'Infant Mort', 'Income', 'Population', 'Unemployed', 'Crime^2', 'Crime Doctors', 'Crime University', 'Crime Traf Deaths', 'Crime White', 'Crime Infant Mort', 'Crime Income', 'Crime Population', 'Doctors^2', 'Doctors University', 'Doctors White', 'Doctors Income', 'Doctors Population', 'University Traf Deaths', 'University White', 'University Income', 'University Population', 'University Unemployed', 'Traf Deaths^2', 'Traf Deaths Infant Mort', 'Traf Deaths Income', 'Traf Deaths Population', 'White Income', 'White Unemployed', 'Infant Mort Population', 'Income^2', 'Income Unemployed', 'Population^2')\n",
      "alpha: 0.000000\n",
      "l1_ratio_: 0.000000\n",
      "Mean MAE: 0.288 (0.101)\n",
      "('University', 'Traf Deaths', 'White', 'Infant Mort', 'Income', 'Population', 'Unemployed', 'Crime^2', 'Crime Doctors', 'Crime University', 'Crime Traf Deaths', 'Crime White', 'Crime Infant Mort', 'Crime Income', 'Crime Population', 'Doctors^2', 'Doctors University', 'Doctors White', 'Doctors Income', 'Doctors Population', 'University Traf Deaths', 'University White', 'University Income', 'University Population', 'University Unemployed', 'Traf Deaths^2', 'Traf Deaths Infant Mort', 'Traf Deaths Income', 'Traf Deaths Population', 'Traf Deaths Unemployed', 'White Income', 'White Unemployed', 'Infant Mort Population', 'Income^2', 'Income Unemployed', 'Population^2')\n",
      "alpha: 0.000000\n",
      "l1_ratio_: 0.000000\n",
      "Mean MAE: 0.263 (0.089)\n",
      "('University', 'Traf Deaths', 'White', 'Infant Mort', 'Income', 'Population', 'Unemployed', 'Crime^2', 'Crime Doctors', 'Crime University', 'Crime Traf Deaths', 'Crime White', 'Crime Infant Mort', 'Crime Income', 'Crime Population', 'Doctors^2', 'Doctors University', 'Doctors White', 'Doctors Income', 'Doctors Population', 'University Traf Deaths', 'University White', 'University Income', 'University Population', 'University Unemployed', 'Traf Deaths^2', 'Traf Deaths Infant Mort', 'Traf Deaths Income', 'Traf Deaths Population', 'Traf Deaths Unemployed', 'White Income', 'White Unemployed', 'Infant Mort Population', 'Infant Mort Unemployed', 'Income^2', 'Income Unemployed', 'Population^2')\n",
      "alpha: 0.000000\n",
      "l1_ratio_: 0.090000\n",
      "Mean MAE: 0.281 (0.085)\n",
      "('University', 'Traf Deaths', 'White', 'Infant Mort', 'Income', 'Population', 'Unemployed', 'Crime^2', 'Crime Doctors', 'Crime University', 'Crime Traf Deaths', 'Crime White', 'Crime Infant Mort', 'Crime Income', 'Crime Population', 'Doctors^2', 'Doctors University', 'Doctors White', 'Doctors Infant Mort', 'Doctors Income', 'Doctors Population', 'University Traf Deaths', 'University White', 'University Income', 'University Population', 'University Unemployed', 'Traf Deaths^2', 'Traf Deaths Infant Mort', 'Traf Deaths Income', 'Traf Deaths Population', 'Traf Deaths Unemployed', 'White Income', 'White Unemployed', 'Infant Mort Population', 'Infant Mort Unemployed', 'Income^2', 'Income Unemployed', 'Population^2')\n",
      "alpha: 0.001000\n",
      "l1_ratio_: 0.160000\n",
      "Mean MAE: 0.290 (0.088)\n",
      "('Doctors', 'University', 'Traf Deaths', 'White', 'Infant Mort', 'Income', 'Population', 'Unemployed', 'Crime Doctors', 'Crime White', 'Crime Infant Mort', 'Crime Population', 'Doctors^2', 'Doctors University', 'Doctors Traf Deaths', 'Doctors White', 'Doctors Income', 'Doctors Population', 'University^2', 'University Traf Deaths', 'University White', 'University Income', 'University Population', 'University Unemployed', 'Traf Deaths^2', 'Traf Deaths Infant Mort', 'Traf Deaths Income', 'Traf Deaths Population', 'White^2', 'White Infant Mort', 'White Income', 'White Population', 'White Unemployed', 'Infant Mort Income', 'Infant Mort Population', 'Income^2', 'Income Unemployed', 'Population^2', 'Unemployed^2')\n",
      "alpha: 0.010000\n",
      "l1_ratio_: 0.000000\n",
      "Mean MAE: 0.272 (0.090)\n",
      "('Doctors', 'University', 'Traf Deaths', 'White', 'Infant Mort', 'Income', 'Population', 'Unemployed', 'Crime^2', 'Crime Doctors', 'Crime University', 'Crime White', 'Crime Infant Mort', 'Crime Income', 'Doctors^2', 'Doctors University', 'Doctors Traf Deaths', 'Doctors White', 'Doctors Income', 'Doctors Population', 'University Traf Deaths', 'University White', 'University Infant Mort', 'University Income', 'University Population', 'University Unemployed', 'Traf Deaths^2', 'Traf Deaths Income', 'Traf Deaths Population', 'White^2', 'White Infant Mort', 'White Income', 'White Population', 'White Unemployed', 'Infant Mort Income', 'Infant Mort Population', 'Income^2', 'Income Unemployed', 'Population^2', 'Unemployed^2')\n",
      "alpha: 0.010000\n",
      "l1_ratio_: 0.040000\n",
      "Mean MAE: 0.288 (0.103)\n",
      "('Doctors', 'University', 'Traf Deaths', 'White', 'Infant Mort', 'Income', 'Population', 'Unemployed', 'Crime^2', 'Crime Doctors', 'Crime University', 'Crime White', 'Crime Infant Mort', 'Crime Income', 'Doctors^2', 'Doctors University', 'Doctors Traf Deaths', 'Doctors White', 'Doctors Income', 'Doctors Population', 'Doctors Unemployed', 'University Traf Deaths', 'University White', 'University Infant Mort', 'University Income', 'University Population', 'University Unemployed', 'Traf Deaths^2', 'Traf Deaths Income', 'Traf Deaths Population', 'White^2', 'White Infant Mort', 'White Income', 'White Population', 'White Unemployed', 'Infant Mort Income', 'Infant Mort Population', 'Income^2', 'Income Unemployed', 'Population^2', 'Unemployed^2')\n",
      "alpha: 0.010000\n",
      "l1_ratio_: 0.050000\n",
      "Mean MAE: 0.337 (0.147)\n",
      "('Doctors', 'University', 'Traf Deaths', 'White', 'Infant Mort', 'Income', 'Population', 'Unemployed', 'Crime^2', 'Crime Doctors', 'Crime University', 'Crime White', 'Crime Infant Mort', 'Crime Income', 'Crime Unemployed', 'Doctors^2', 'Doctors University', 'Doctors Traf Deaths', 'Doctors White', 'Doctors Income', 'Doctors Population', 'Doctors Unemployed', 'University Traf Deaths', 'University White', 'University Infant Mort', 'University Income', 'University Population', 'University Unemployed', 'Traf Deaths^2', 'Traf Deaths Income', 'Traf Deaths Population', 'White^2', 'White Infant Mort', 'White Income', 'White Population', 'White Unemployed', 'Infant Mort Income', 'Infant Mort Population', 'Income^2', 'Income Unemployed', 'Population^2', 'Unemployed^2')\n",
      "alpha: 0.010000\n",
      "l1_ratio_: 0.070000\n",
      "Mean MAE: 0.328 (0.151)\n",
      "('Doctors', 'University', 'Traf Deaths', 'White', 'Infant Mort', 'Income', 'Population', 'Unemployed', 'Crime^2', 'Crime Doctors', 'Crime University', 'Crime White', 'Crime Infant Mort', 'Crime Income', 'Crime Unemployed', 'Doctors^2', 'Doctors University', 'Doctors Traf Deaths', 'Doctors White', 'Doctors Income', 'Doctors Population', 'Doctors Unemployed', 'University Traf Deaths', 'University White', 'University Infant Mort', 'University Income', 'University Population', 'University Unemployed', 'Traf Deaths^2', 'Traf Deaths Income', 'Traf Deaths Population', 'White^2', 'White Infant Mort', 'White Income', 'White Population', 'White Unemployed', 'Infant Mort Income', 'Infant Mort Population', 'Infant Mort Unemployed', 'Income^2', 'Income Unemployed', 'Population^2', 'Unemployed^2')\n",
      "alpha: 0.010000\n",
      "l1_ratio_: 0.060000\n",
      "Mean MAE: 0.331 (0.149)\n",
      "('Doctors', 'University', 'Traf Deaths', 'White', 'Infant Mort', 'Income', 'Population', 'Unemployed', 'Crime^2', 'Crime Doctors', 'Crime University', 'Crime White', 'Crime Infant Mort', 'Crime Income', 'Crime Unemployed', 'Doctors^2', 'Doctors University', 'Doctors Traf Deaths', 'Doctors White', 'Doctors Income', 'Doctors Population', 'Doctors Unemployed', 'University Traf Deaths', 'University White', 'University Infant Mort', 'University Income', 'University Population', 'University Unemployed', 'Traf Deaths^2', 'Traf Deaths Income', 'Traf Deaths Population', 'White^2', 'White Infant Mort', 'White Income', 'White Population', 'White Unemployed', 'Infant Mort Income', 'Infant Mort Population', 'Infant Mort Unemployed', 'Income^2', 'Income Population', 'Income Unemployed', 'Population^2', 'Unemployed^2')\n",
      "alpha: 0.010000\n",
      "l1_ratio_: 0.990000\n",
      "Mean MAE: 0.342 (0.141)\n",
      "('Doctors', 'University', 'Traf Deaths', 'White', 'Infant Mort', 'Income', 'Population', 'Unemployed', 'Crime^2', 'Crime Doctors', 'Crime University', 'Crime White', 'Crime Infant Mort', 'Crime Income', 'Crime Unemployed', 'Doctors^2', 'Doctors Traf Deaths', 'Doctors White', 'Doctors Income', 'Doctors Population', 'Doctors Unemployed', 'University^2', 'University Traf Deaths', 'University White', 'University Infant Mort', 'University Income', 'University Population', 'University Unemployed', 'Traf Deaths^2', 'Traf Deaths Infant Mort', 'Traf Deaths Income', 'Traf Deaths Population', 'White^2', 'White Infant Mort', 'White Income', 'White Population', 'White Unemployed', 'Infant Mort Income', 'Infant Mort Population', 'Infant Mort Unemployed', 'Income^2', 'Income Population', 'Income Unemployed', 'Population^2', 'Unemployed^2')\n",
      "alpha: 0.010000\n",
      "l1_ratio_: 0.970000\n",
      "Mean MAE: 0.354 (0.161)\n",
      "('Doctors', 'University', 'Traf Deaths', 'White', 'Infant Mort', 'Income', 'Population', 'Unemployed', 'Crime^2', 'Crime Doctors', 'Crime University', 'Crime White', 'Crime Infant Mort', 'Crime Income', 'Crime Unemployed', 'Doctors^2', 'Doctors University', 'Doctors Traf Deaths', 'Doctors White', 'Doctors Income', 'Doctors Population', 'Doctors Unemployed', 'University^2', 'University Traf Deaths', 'University White', 'University Infant Mort', 'University Income', 'University Population', 'University Unemployed', 'Traf Deaths^2', 'Traf Deaths Infant Mort', 'Traf Deaths Income', 'Traf Deaths Population', 'White^2', 'White Infant Mort', 'White Income', 'White Population', 'White Unemployed', 'Infant Mort Income', 'Infant Mort Population', 'Infant Mort Unemployed', 'Income^2', 'Income Population', 'Income Unemployed', 'Population^2', 'Unemployed^2')\n",
      "alpha: 0.010000\n",
      "l1_ratio_: 0.990000\n",
      "Mean MAE: 0.330 (0.130)\n",
      "('Doctors', 'University', 'Traf Deaths', 'White', 'Infant Mort', 'Income', 'Population', 'Unemployed', 'Crime^2', 'Crime Doctors', 'Crime University', 'Crime Traf Deaths', 'Crime White', 'Crime Infant Mort', 'Crime Income', 'Crime Population', 'Doctors^2', 'Doctors University', 'Doctors Traf Deaths', 'Doctors White', 'Doctors Infant Mort', 'Doctors Income', 'Doctors Population', 'University^2', 'University Traf Deaths', 'University White', 'University Income', 'University Population', 'University Unemployed', 'Traf Deaths^2', 'Traf Deaths White', 'Traf Deaths Infant Mort', 'Traf Deaths Income', 'Traf Deaths Population', 'Traf Deaths Unemployed', 'White^2', 'White Infant Mort', 'White Income', 'White Population', 'White Unemployed', 'Infant Mort Income', 'Infant Mort Population', 'Infant Mort Unemployed', 'Income^2', 'Income Unemployed', 'Population^2', 'Unemployed^2')\n",
      "alpha: 0.010000\n",
      "l1_ratio_: 0.950000\n",
      "Mean MAE: 0.334 (0.136)\n",
      "('Doctors', 'University', 'Traf Deaths', 'White', 'Infant Mort', 'Income', 'Population', 'Unemployed', 'Crime^2', 'Crime Doctors', 'Crime University', 'Crime Traf Deaths', 'Crime White', 'Crime Infant Mort', 'Crime Income', 'Crime Population', 'Doctors^2', 'Doctors University', 'Doctors Traf Deaths', 'Doctors White', 'Doctors Infant Mort', 'Doctors Income', 'Doctors Population', 'University^2', 'University Traf Deaths', 'University White', 'University Infant Mort', 'University Income', 'University Population', 'University Unemployed', 'Traf Deaths^2', 'Traf Deaths White', 'Traf Deaths Infant Mort', 'Traf Deaths Income', 'Traf Deaths Population', 'Traf Deaths Unemployed', 'White^2', 'White Infant Mort', 'White Income', 'White Population', 'White Unemployed', 'Infant Mort Income', 'Infant Mort Population', 'Infant Mort Unemployed', 'Income^2', 'Income Unemployed', 'Population^2', 'Unemployed^2')\n",
      "alpha: 0.010000\n",
      "l1_ratio_: 0.990000\n",
      "Mean MAE: 0.300 (0.145)\n",
      "('Doctors', 'University', 'Traf Deaths', 'White', 'Infant Mort', 'Income', 'Population', 'Unemployed', 'Crime^2', 'Crime Doctors', 'Crime University', 'Crime Traf Deaths', 'Crime White', 'Crime Infant Mort', 'Crime Income', 'Crime Population', 'Doctors^2', 'Doctors University', 'Doctors Traf Deaths', 'Doctors White', 'Doctors Infant Mort', 'Doctors Income', 'Doctors Population', 'University^2', 'University Traf Deaths', 'University White', 'University Infant Mort', 'University Income', 'University Population', 'University Unemployed', 'Traf Deaths^2', 'Traf Deaths White', 'Traf Deaths Infant Mort', 'Traf Deaths Income', 'Traf Deaths Population', 'Traf Deaths Unemployed', 'White^2', 'White Infant Mort', 'White Income', 'White Population', 'White Unemployed', 'Infant Mort Income', 'Infant Mort Population', 'Infant Mort Unemployed', 'Income^2', 'Income Population', 'Income Unemployed', 'Population^2', 'Unemployed^2')\n",
      "alpha: 0.010000\n",
      "l1_ratio_: 0.990000\n",
      "Mean MAE: 0.305 (0.149)\n",
      "('Doctors', 'University', 'Traf Deaths', 'White', 'Infant Mort', 'Income', 'Population', 'Unemployed', 'Crime^2', 'Crime Doctors', 'Crime University', 'Crime Traf Deaths', 'Crime White', 'Crime Infant Mort', 'Crime Income', 'Crime Population', 'Doctors^2', 'Doctors University', 'Doctors Traf Deaths', 'Doctors White', 'Doctors Infant Mort', 'Doctors Income', 'Doctors Population', 'University^2', 'University Traf Deaths', 'University White', 'University Infant Mort', 'University Income', 'University Population', 'University Unemployed', 'Traf Deaths^2', 'Traf Deaths White', 'Traf Deaths Infant Mort', 'Traf Deaths Income', 'Traf Deaths Population', 'Traf Deaths Unemployed', 'White^2', 'White Infant Mort', 'White Income', 'White Population', 'White Unemployed', 'Infant Mort Income', 'Infant Mort Population', 'Infant Mort Unemployed', 'Income^2', 'Income Population', 'Income Unemployed', 'Population^2', 'Population Unemployed', 'Unemployed^2')\n",
      "alpha: 0.010000\n",
      "l1_ratio_: 0.990000\n",
      "Mean MAE: 0.316 (0.166)\n",
      "('Doctors', 'University', 'Traf Deaths', 'White', 'Infant Mort', 'Income', 'Population', 'Unemployed', 'Crime^2', 'Crime Doctors', 'Crime University', 'Crime Traf Deaths', 'Crime White', 'Crime Infant Mort', 'Crime Income', 'Crime Population', 'Crime Unemployed', 'Doctors^2', 'Doctors University', 'Doctors Traf Deaths', 'Doctors White', 'Doctors Infant Mort', 'Doctors Income', 'Doctors Population', 'University^2', 'University Traf Deaths', 'University White', 'University Infant Mort', 'University Income', 'University Population', 'University Unemployed', 'Traf Deaths^2', 'Traf Deaths White', 'Traf Deaths Infant Mort', 'Traf Deaths Income', 'Traf Deaths Population', 'Traf Deaths Unemployed', 'White^2', 'White Infant Mort', 'White Income', 'White Population', 'White Unemployed', 'Infant Mort Income', 'Infant Mort Population', 'Infant Mort Unemployed', 'Income^2', 'Income Population', 'Income Unemployed', 'Population^2', 'Population Unemployed', 'Unemployed^2')\n",
      "alpha: 0.010000\n",
      "l1_ratio_: 0.990000\n",
      "Mean MAE: 0.317 (0.165)\n",
      "('Doctors', 'University', 'Traf Deaths', 'White', 'Infant Mort', 'Income', 'Population', 'Unemployed', 'Crime^2', 'Crime Doctors', 'Crime University', 'Crime Traf Deaths', 'Crime White', 'Crime Infant Mort', 'Crime Income', 'Crime Population', 'Crime Unemployed', 'Doctors^2', 'Doctors University', 'Doctors Traf Deaths', 'Doctors White', 'Doctors Infant Mort', 'Doctors Income', 'Doctors Population', 'Doctors Unemployed', 'University^2', 'University Traf Deaths', 'University White', 'University Infant Mort', 'University Income', 'University Population', 'University Unemployed', 'Traf Deaths^2', 'Traf Deaths White', 'Traf Deaths Infant Mort', 'Traf Deaths Income', 'Traf Deaths Population', 'Traf Deaths Unemployed', 'White^2', 'White Infant Mort', 'White Income', 'White Population', 'White Unemployed', 'Infant Mort Income', 'Infant Mort Population', 'Infant Mort Unemployed', 'Income^2', 'Income Population', 'Income Unemployed', 'Population^2', 'Population Unemployed', 'Unemployed^2')\n",
      "alpha: 0.010000\n",
      "l1_ratio_: 0.990000\n",
      "Mean MAE: 0.302 (0.131)\n",
      "('Crime', 'Doctors', 'University', 'Traf Deaths', 'White', 'Infant Mort', 'Income', 'Population', 'Unemployed', 'Crime^2', 'Crime Doctors', 'Crime University', 'Crime Traf Deaths', 'Crime White', 'Crime Infant Mort', 'Crime Income', 'Crime Population', 'Crime Unemployed', 'Doctors^2', 'Doctors University', 'Doctors Traf Deaths', 'Doctors White', 'Doctors Infant Mort', 'Doctors Income', 'Doctors Population', 'Doctors Unemployed', 'University^2', 'University Traf Deaths', 'University White', 'University Infant Mort', 'University Income', 'University Population', 'University Unemployed', 'Traf Deaths^2', 'Traf Deaths White', 'Traf Deaths Infant Mort', 'Traf Deaths Income', 'Traf Deaths Population', 'Traf Deaths Unemployed', 'White^2', 'White Infant Mort', 'White Income', 'White Population', 'White Unemployed', 'Infant Mort^2', 'Infant Mort Income', 'Infant Mort Population', 'Infant Mort Unemployed', 'Income^2', 'Income Population', 'Population^2', 'Population Unemployed', 'Unemployed^2')\n",
      "alpha: 0.010000\n",
      "l1_ratio_: 0.990000\n",
      "Mean MAE: 0.319 (0.133)\n",
      "('Crime', 'Doctors', 'University', 'Traf Deaths', 'White', 'Infant Mort', 'Income', 'Population', 'Unemployed', 'Crime^2', 'Crime Doctors', 'Crime University', 'Crime Traf Deaths', 'Crime White', 'Crime Infant Mort', 'Crime Income', 'Crime Population', 'Crime Unemployed', 'Doctors^2', 'Doctors University', 'Doctors Traf Deaths', 'Doctors White', 'Doctors Infant Mort', 'Doctors Income', 'Doctors Population', 'Doctors Unemployed', 'University^2', 'University Traf Deaths', 'University White', 'University Infant Mort', 'University Income', 'University Population', 'University Unemployed', 'Traf Deaths^2', 'Traf Deaths White', 'Traf Deaths Infant Mort', 'Traf Deaths Income', 'Traf Deaths Population', 'Traf Deaths Unemployed', 'White^2', 'White Infant Mort', 'White Income', 'White Population', 'White Unemployed', 'Infant Mort^2', 'Infant Mort Income', 'Infant Mort Population', 'Infant Mort Unemployed', 'Income^2', 'Income Population', 'Income Unemployed', 'Population^2', 'Population Unemployed', 'Unemployed^2')\n",
      "alpha: 0.010000\n",
      "l1_ratio_: 0.990000\n",
      "Mean MAE: 0.327 (0.137)\n"
     ]
    }
   ],
   "source": [
    "CV_results = pd.DataFrame()#[]#np.zeros(shape=(len(features),5))\n",
    "\n",
    "#looping over sequentially selected features, deriving ElasticNet hyper parm's over each best subset and noting error\n",
    "\n",
    "for f in features:\n",
    "\n",
    "    print(f)\n",
    "    cv = RepeatedKFold(n_splits=numCV, n_repeats=1, random_state=1)\n",
    "\n",
    "    EN_CV = ElasticNetCV(l1_ratio=l1s, alphas=alphas, cv=cv, n_jobs=-1)\n",
    "    # fit model\n",
    "\n",
    "    X_subset = pd.DataFrame(data.X_train_ss_yj_inter[list(np.asarray(f))])\n",
    "    y_ = data.y_train_ss_yj\n",
    "    EN_CV.fit(X_subset, y_)\n",
    "    \n",
    "    print('alpha: %f' % EN_CV.alpha_)\n",
    "    print('l1_ratio_: %f' % EN_CV.l1_ratio_)\n",
    "    \n",
    "    # evaluate model\n",
    "    scores = cross_val_score(EN_CV, X_subset, y_, scoring='neg_mean_absolute_error', cv=cv, n_jobs=-1)\n",
    "    # force scores to be positive\n",
    "    scores = absolute(scores)\n",
    "    print('Mean MAE: %.3f (%.3f)' % (mean(scores), std(scores)))\n",
    "    \n",
    "    temp = pd.concat([pd.DataFrame({\"features\": [np.array(f)]}),pd.DataFrame(np.array(mean(scores)).reshape(-1,1)),pd.DataFrame(np.array(std(scores)).reshape(-1,1)),pd.DataFrame(np.array(EN_CV.alpha_).reshape(-1,1)),pd.DataFrame(np.array(EN_CV.l1_ratio_).reshape(-1,1))],axis=1)\n",
    "    \n",
    "    CV_results = pd.concat([CV_results,temp],axis=0)"
   ]
  },
  {
   "cell_type": "markdown",
   "id": "f2b875af-fe99-411e-963e-cc0737abd4e5",
   "metadata": {},
   "source": []
  },
  {
   "cell_type": "code",
   "execution_count": 15,
   "id": "7ceba4c0-ec5a-4e90-b8fd-8ece185b512f",
   "metadata": {},
   "outputs": [
    {
     "data": {
      "image/png": "[encoded data removed]",
      "text/plain": [
       "<Figure size 432x288 with 1 Axes>"
      ]
     },
     "metadata": {
      "needs_background": "light"
     },
     "output_type": "display_data"
    },
    {
     "name": "stdout",
     "output_type": "stream",
     "text": [
      "['Doctors' 'University' 'Traf Deaths' 'Income' 'Population' 'Unemployed'\n",
      " 'Crime Traf Deaths' 'Crime Population' 'Crime Unemployed'\n",
      " 'Doctors Population' 'Doctors Unemployed' 'University Traf Deaths'\n",
      " 'White Unemployed']\n",
      "['Traf Deaths' 'Income' 'Population' 'Unemployed' 'Doctors Population'\n",
      " 'Infant Mort Population']\n"
     ]
    },
    {
     "data": {
      "text/html": [
       "<div>\n",
       "<style scoped>\n",
       "    .dataframe tbody tr th:only-of-type {\n",
       "        vertical-align: middle;\n",
       "    }\n",
       "\n",
       "    .dataframe tbody tr th {\n",
       "        vertical-align: top;\n",
       "    }\n",
       "\n",
       "    .dataframe thead th {\n",
       "        text-align: right;\n",
       "    }\n",
       "</style>\n",
       "<table border=\"1\" class=\"dataframe\">\n",
       "  <thead>\n",
       "    <tr style=\"text-align: right;\">\n",
       "      <th></th>\n",
       "      <th>features</th>\n",
       "      <th>mean error</th>\n",
       "      <th>std</th>\n",
       "      <th>alpha</th>\n",
       "      <th>lambda</th>\n",
       "    </tr>\n",
       "  </thead>\n",
       "  <tbody>\n",
       "    <tr>\n",
       "      <th>0</th>\n",
       "      <td>[Income]</td>\n",
       "      <td>0.486318</td>\n",
       "      <td>0.187417</td>\n",
       "      <td>0.01000</td>\n",
       "      <td>0.00</td>\n",
       "    </tr>\n",
       "    <tr>\n",
       "      <th>1</th>\n",
       "      <td>[Income, Population]</td>\n",
       "      <td>0.337883</td>\n",
       "      <td>0.130754</td>\n",
       "      <td>0.00000</td>\n",
       "      <td>0.58</td>\n",
       "    </tr>\n",
       "    <tr>\n",
       "      <th>2</th>\n",
       "      <td>[Income, Population, Unemployed]</td>\n",
       "      <td>0.281766</td>\n",
       "      <td>0.077191</td>\n",
       "      <td>0.00001</td>\n",
       "      <td>0.12</td>\n",
       "    </tr>\n",
       "    <tr>\n",
       "      <th>3</th>\n",
       "      <td>[Income, Population, Unemployed, Infant Mort P...</td>\n",
       "      <td>0.250534</td>\n",
       "      <td>0.103187</td>\n",
       "      <td>0.00100</td>\n",
       "      <td>0.99</td>\n",
       "    </tr>\n",
       "    <tr>\n",
       "      <th>4</th>\n",
       "      <td>[White, Income, Population, Unemployed, Infant...</td>\n",
       "      <td>0.245878</td>\n",
       "      <td>0.095867</td>\n",
       "      <td>0.00000</td>\n",
       "      <td>0.48</td>\n",
       "    </tr>\n",
       "    <tr>\n",
       "      <th>5</th>\n",
       "      <td>[Traf Deaths, Income, Population, Unemployed, ...</td>\n",
       "      <td>0.215510</td>\n",
       "      <td>0.065123</td>\n",
       "      <td>0.00000</td>\n",
       "      <td>0.24</td>\n",
       "    </tr>\n",
       "    <tr>\n",
       "      <th>6</th>\n",
       "      <td>[Traf Deaths, Income, Population, Unemployed, ...</td>\n",
       "      <td>0.198847</td>\n",
       "      <td>0.089684</td>\n",
       "      <td>0.00000</td>\n",
       "      <td>0.23</td>\n",
       "    </tr>\n",
       "    <tr>\n",
       "      <th>7</th>\n",
       "      <td>[Traf Deaths, Income, Population, Unemployed, ...</td>\n",
       "      <td>0.198897</td>\n",
       "      <td>0.092794</td>\n",
       "      <td>0.00100</td>\n",
       "      <td>0.10</td>\n",
       "    </tr>\n",
       "    <tr>\n",
       "      <th>8</th>\n",
       "      <td>[Traf Deaths, Income, Population, Unemployed, ...</td>\n",
       "      <td>0.195324</td>\n",
       "      <td>0.101924</td>\n",
       "      <td>0.01000</td>\n",
       "      <td>0.00</td>\n",
       "    </tr>\n",
       "    <tr>\n",
       "      <th>9</th>\n",
       "      <td>[Traf Deaths, Income, Population, Unemployed, ...</td>\n",
       "      <td>0.211045</td>\n",
       "      <td>0.061444</td>\n",
       "      <td>0.01000</td>\n",
       "      <td>0.27</td>\n",
       "    </tr>\n",
       "    <tr>\n",
       "      <th>10</th>\n",
       "      <td>[Doctors, Traf Deaths, Income, Population, Une...</td>\n",
       "      <td>0.159806</td>\n",
       "      <td>0.046801</td>\n",
       "      <td>0.01000</td>\n",
       "      <td>0.04</td>\n",
       "    </tr>\n",
       "    <tr>\n",
       "      <th>11</th>\n",
       "      <td>[Doctors, University, Traf Deaths, Income, Pop...</td>\n",
       "      <td>0.146067</td>\n",
       "      <td>0.070458</td>\n",
       "      <td>0.01000</td>\n",
       "      <td>0.01</td>\n",
       "    </tr>\n",
       "    <tr>\n",
       "      <th>12</th>\n",
       "      <td>[Doctors, University, Traf Deaths, Income, Pop...</td>\n",
       "      <td>0.144534</td>\n",
       "      <td>0.073162</td>\n",
       "      <td>0.01000</td>\n",
       "      <td>0.00</td>\n",
       "    </tr>\n",
       "    <tr>\n",
       "      <th>13</th>\n",
       "      <td>[Doctors, University, Traf Deaths, Income, Pop...</td>\n",
       "      <td>0.148746</td>\n",
       "      <td>0.070052</td>\n",
       "      <td>0.01000</td>\n",
       "      <td>0.00</td>\n",
       "    </tr>\n",
       "    <tr>\n",
       "      <th>14</th>\n",
       "      <td>[Doctors, University, Traf Deaths, White, Inco...</td>\n",
       "      <td>0.153761</td>\n",
       "      <td>0.072740</td>\n",
       "      <td>0.01000</td>\n",
       "      <td>0.00</td>\n",
       "    </tr>\n",
       "    <tr>\n",
       "      <th>15</th>\n",
       "      <td>[Doctors, University, Traf Deaths, White, Inco...</td>\n",
       "      <td>0.158425</td>\n",
       "      <td>0.070630</td>\n",
       "      <td>0.01000</td>\n",
       "      <td>0.14</td>\n",
       "    </tr>\n",
       "    <tr>\n",
       "      <th>16</th>\n",
       "      <td>[Doctors, University, Traf Deaths, White, Inco...</td>\n",
       "      <td>0.160124</td>\n",
       "      <td>0.069890</td>\n",
       "      <td>0.01000</td>\n",
       "      <td>0.15</td>\n",
       "    </tr>\n",
       "    <tr>\n",
       "      <th>17</th>\n",
       "      <td>[Doctors, University, Traf Deaths, White, Inco...</td>\n",
       "      <td>0.167091</td>\n",
       "      <td>0.078459</td>\n",
       "      <td>0.01000</td>\n",
       "      <td>0.15</td>\n",
       "    </tr>\n",
       "    <tr>\n",
       "      <th>18</th>\n",
       "      <td>[Doctors, University, Traf Deaths, White, Inco...</td>\n",
       "      <td>0.169288</td>\n",
       "      <td>0.068073</td>\n",
       "      <td>0.01000</td>\n",
       "      <td>0.21</td>\n",
       "    </tr>\n",
       "    <tr>\n",
       "      <th>19</th>\n",
       "      <td>[Doctors, University, Traf Deaths, White, Inco...</td>\n",
       "      <td>0.177741</td>\n",
       "      <td>0.079425</td>\n",
       "      <td>0.01000</td>\n",
       "      <td>0.20</td>\n",
       "    </tr>\n",
       "    <tr>\n",
       "      <th>20</th>\n",
       "      <td>[Doctors, University, Traf Deaths, White, Inco...</td>\n",
       "      <td>0.245404</td>\n",
       "      <td>0.093377</td>\n",
       "      <td>0.01000</td>\n",
       "      <td>0.00</td>\n",
       "    </tr>\n",
       "    <tr>\n",
       "      <th>21</th>\n",
       "      <td>[Doctors, University, Traf Deaths, White, Inco...</td>\n",
       "      <td>0.265661</td>\n",
       "      <td>0.084522</td>\n",
       "      <td>0.01000</td>\n",
       "      <td>0.00</td>\n",
       "    </tr>\n",
       "    <tr>\n",
       "      <th>22</th>\n",
       "      <td>[Doctors, University, Traf Deaths, White, Inco...</td>\n",
       "      <td>0.269323</td>\n",
       "      <td>0.083690</td>\n",
       "      <td>0.01000</td>\n",
       "      <td>0.19</td>\n",
       "    </tr>\n",
       "    <tr>\n",
       "      <th>23</th>\n",
       "      <td>[Doctors, University, Traf Deaths, White, Inco...</td>\n",
       "      <td>0.280589</td>\n",
       "      <td>0.099909</td>\n",
       "      <td>0.01000</td>\n",
       "      <td>0.21</td>\n",
       "    </tr>\n",
       "    <tr>\n",
       "      <th>24</th>\n",
       "      <td>[University, Traf Deaths, Population, Unemploy...</td>\n",
       "      <td>0.173532</td>\n",
       "      <td>0.216615</td>\n",
       "      <td>0.00000</td>\n",
       "      <td>0.00</td>\n",
       "    </tr>\n",
       "    <tr>\n",
       "      <th>25</th>\n",
       "      <td>[University, Traf Deaths, Population, Unemploy...</td>\n",
       "      <td>0.415586</td>\n",
       "      <td>0.232597</td>\n",
       "      <td>0.00000</td>\n",
       "      <td>0.00</td>\n",
       "    </tr>\n",
       "    <tr>\n",
       "      <th>26</th>\n",
       "      <td>[University, Traf Deaths, Income, Population, ...</td>\n",
       "      <td>0.268545</td>\n",
       "      <td>0.070454</td>\n",
       "      <td>0.00000</td>\n",
       "      <td>0.00</td>\n",
       "    </tr>\n",
       "    <tr>\n",
       "      <th>27</th>\n",
       "      <td>[University, Traf Deaths, Income, Population, ...</td>\n",
       "      <td>0.290659</td>\n",
       "      <td>0.118567</td>\n",
       "      <td>0.00000</td>\n",
       "      <td>0.00</td>\n",
       "    </tr>\n",
       "    <tr>\n",
       "      <th>28</th>\n",
       "      <td>[University, Traf Deaths, Income, Population, ...</td>\n",
       "      <td>0.299616</td>\n",
       "      <td>0.108310</td>\n",
       "      <td>0.00000</td>\n",
       "      <td>0.54</td>\n",
       "    </tr>\n",
       "    <tr>\n",
       "      <th>29</th>\n",
       "      <td>[University, Traf Deaths, Income, Population, ...</td>\n",
       "      <td>0.297536</td>\n",
       "      <td>0.109007</td>\n",
       "      <td>0.10000</td>\n",
       "      <td>0.25</td>\n",
       "    </tr>\n",
       "    <tr>\n",
       "      <th>30</th>\n",
       "      <td>[Doctors, University, Traf Deaths, Population,...</td>\n",
       "      <td>0.402293</td>\n",
       "      <td>0.203189</td>\n",
       "      <td>0.00000</td>\n",
       "      <td>0.00</td>\n",
       "    </tr>\n",
       "    <tr>\n",
       "      <th>31</th>\n",
       "      <td>[University, Traf Deaths, White, Infant Mort, ...</td>\n",
       "      <td>0.148862</td>\n",
       "      <td>0.090304</td>\n",
       "      <td>0.00000</td>\n",
       "      <td>0.00</td>\n",
       "    </tr>\n",
       "    <tr>\n",
       "      <th>32</th>\n",
       "      <td>[University, Traf Deaths, White, Infant Mort, ...</td>\n",
       "      <td>0.175828</td>\n",
       "      <td>0.100961</td>\n",
       "      <td>0.00000</td>\n",
       "      <td>0.00</td>\n",
       "    </tr>\n",
       "    <tr>\n",
       "      <th>33</th>\n",
       "      <td>[University, Traf Deaths, White, Infant Mort, ...</td>\n",
       "      <td>0.243995</td>\n",
       "      <td>0.102223</td>\n",
       "      <td>0.00000</td>\n",
       "      <td>0.00</td>\n",
       "    </tr>\n",
       "    <tr>\n",
       "      <th>34</th>\n",
       "      <td>[University, Traf Deaths, White, Infant Mort, ...</td>\n",
       "      <td>0.287836</td>\n",
       "      <td>0.101397</td>\n",
       "      <td>0.00000</td>\n",
       "      <td>0.00</td>\n",
       "    </tr>\n",
       "    <tr>\n",
       "      <th>35</th>\n",
       "      <td>[University, Traf Deaths, White, Infant Mort, ...</td>\n",
       "      <td>0.262765</td>\n",
       "      <td>0.088863</td>\n",
       "      <td>0.00000</td>\n",
       "      <td>0.00</td>\n",
       "    </tr>\n",
       "    <tr>\n",
       "      <th>36</th>\n",
       "      <td>[University, Traf Deaths, White, Infant Mort, ...</td>\n",
       "      <td>0.280535</td>\n",
       "      <td>0.085467</td>\n",
       "      <td>0.00000</td>\n",
       "      <td>0.09</td>\n",
       "    </tr>\n",
       "    <tr>\n",
       "      <th>37</th>\n",
       "      <td>[University, Traf Deaths, White, Infant Mort, ...</td>\n",
       "      <td>0.289749</td>\n",
       "      <td>0.088387</td>\n",
       "      <td>0.00100</td>\n",
       "      <td>0.16</td>\n",
       "    </tr>\n",
       "    <tr>\n",
       "      <th>38</th>\n",
       "      <td>[Doctors, University, Traf Deaths, White, Infa...</td>\n",
       "      <td>0.271967</td>\n",
       "      <td>0.090118</td>\n",
       "      <td>0.01000</td>\n",
       "      <td>0.00</td>\n",
       "    </tr>\n",
       "    <tr>\n",
       "      <th>39</th>\n",
       "      <td>[Doctors, University, Traf Deaths, White, Infa...</td>\n",
       "      <td>0.288051</td>\n",
       "      <td>0.102705</td>\n",
       "      <td>0.01000</td>\n",
       "      <td>0.04</td>\n",
       "    </tr>\n",
       "    <tr>\n",
       "      <th>40</th>\n",
       "      <td>[Doctors, University, Traf Deaths, White, Infa...</td>\n",
       "      <td>0.337040</td>\n",
       "      <td>0.146573</td>\n",
       "      <td>0.01000</td>\n",
       "      <td>0.05</td>\n",
       "    </tr>\n",
       "    <tr>\n",
       "      <th>41</th>\n",
       "      <td>[Doctors, University, Traf Deaths, White, Infa...</td>\n",
       "      <td>0.327569</td>\n",
       "      <td>0.151277</td>\n",
       "      <td>0.01000</td>\n",
       "      <td>0.07</td>\n",
       "    </tr>\n",
       "    <tr>\n",
       "      <th>42</th>\n",
       "      <td>[Doctors, University, Traf Deaths, White, Infa...</td>\n",
       "      <td>0.331258</td>\n",
       "      <td>0.149099</td>\n",
       "      <td>0.01000</td>\n",
       "      <td>0.06</td>\n",
       "    </tr>\n",
       "    <tr>\n",
       "      <th>43</th>\n",
       "      <td>[Doctors, University, Traf Deaths, White, Infa...</td>\n",
       "      <td>0.342470</td>\n",
       "      <td>0.140516</td>\n",
       "      <td>0.01000</td>\n",
       "      <td>0.99</td>\n",
       "    </tr>\n",
       "    <tr>\n",
       "      <th>44</th>\n",
       "      <td>[Doctors, University, Traf Deaths, White, Infa...</td>\n",
       "      <td>0.354194</td>\n",
       "      <td>0.161153</td>\n",
       "      <td>0.01000</td>\n",
       "      <td>0.97</td>\n",
       "    </tr>\n",
       "    <tr>\n",
       "      <th>45</th>\n",
       "      <td>[Doctors, University, Traf Deaths, White, Infa...</td>\n",
       "      <td>0.329552</td>\n",
       "      <td>0.129805</td>\n",
       "      <td>0.01000</td>\n",
       "      <td>0.99</td>\n",
       "    </tr>\n",
       "    <tr>\n",
       "      <th>46</th>\n",
       "      <td>[Doctors, University, Traf Deaths, White, Infa...</td>\n",
       "      <td>0.334176</td>\n",
       "      <td>0.136195</td>\n",
       "      <td>0.01000</td>\n",
       "      <td>0.95</td>\n",
       "    </tr>\n",
       "    <tr>\n",
       "      <th>47</th>\n",
       "      <td>[Doctors, University, Traf Deaths, White, Infa...</td>\n",
       "      <td>0.300427</td>\n",
       "      <td>0.145165</td>\n",
       "      <td>0.01000</td>\n",
       "      <td>0.99</td>\n",
       "    </tr>\n",
       "    <tr>\n",
       "      <th>48</th>\n",
       "      <td>[Doctors, University, Traf Deaths, White, Infa...</td>\n",
       "      <td>0.304883</td>\n",
       "      <td>0.149320</td>\n",
       "      <td>0.01000</td>\n",
       "      <td>0.99</td>\n",
       "    </tr>\n",
       "    <tr>\n",
       "      <th>49</th>\n",
       "      <td>[Doctors, University, Traf Deaths, White, Infa...</td>\n",
       "      <td>0.315578</td>\n",
       "      <td>0.166091</td>\n",
       "      <td>0.01000</td>\n",
       "      <td>0.99</td>\n",
       "    </tr>\n",
       "    <tr>\n",
       "      <th>50</th>\n",
       "      <td>[Doctors, University, Traf Deaths, White, Infa...</td>\n",
       "      <td>0.316656</td>\n",
       "      <td>0.164637</td>\n",
       "      <td>0.01000</td>\n",
       "      <td>0.99</td>\n",
       "    </tr>\n",
       "    <tr>\n",
       "      <th>51</th>\n",
       "      <td>[Doctors, University, Traf Deaths, White, Infa...</td>\n",
       "      <td>0.301939</td>\n",
       "      <td>0.130567</td>\n",
       "      <td>0.01000</td>\n",
       "      <td>0.99</td>\n",
       "    </tr>\n",
       "    <tr>\n",
       "      <th>52</th>\n",
       "      <td>[Crime, Doctors, University, Traf Deaths, Whit...</td>\n",
       "      <td>0.318908</td>\n",
       "      <td>0.132829</td>\n",
       "      <td>0.01000</td>\n",
       "      <td>0.99</td>\n",
       "    </tr>\n",
       "    <tr>\n",
       "      <th>53</th>\n",
       "      <td>[Crime, Doctors, University, Traf Deaths, Whit...</td>\n",
       "      <td>0.326753</td>\n",
       "      <td>0.137103</td>\n",
       "      <td>0.01000</td>\n",
       "      <td>0.99</td>\n",
       "    </tr>\n",
       "  </tbody>\n",
       "</table>\n",
       "</div>"
      ],
      "text/plain": [
       "                                             features  mean error       std  \\\n",
       "0                                            [Income]    0.486318  0.187417   \n",
       "1                                [Income, Population]    0.337883  0.130754   \n",
       "2                    [Income, Population, Unemployed]    0.281766  0.077191   \n",
       "3   [Income, Population, Unemployed, Infant Mort P...    0.250534  0.103187   \n",
       "4   [White, Income, Population, Unemployed, Infant...    0.245878  0.095867   \n",
       "5   [Traf Deaths, Income, Population, Unemployed, ...    0.215510  0.065123   \n",
       "6   [Traf Deaths, Income, Population, Unemployed, ...    0.198847  0.089684   \n",
       "7   [Traf Deaths, Income, Population, Unemployed, ...    0.198897  0.092794   \n",
       "8   [Traf Deaths, Income, Population, Unemployed, ...    0.195324  0.101924   \n",
       "9   [Traf Deaths, Income, Population, Unemployed, ...    0.211045  0.061444   \n",
       "10  [Doctors, Traf Deaths, Income, Population, Une...    0.159806  0.046801   \n",
       "11  [Doctors, University, Traf Deaths, Income, Pop...    0.146067  0.070458   \n",
       "12  [Doctors, University, Traf Deaths, Income, Pop...    0.144534  0.073162   \n",
       "13  [Doctors, University, Traf Deaths, Income, Pop...    0.148746  0.070052   \n",
       "14  [Doctors, University, Traf Deaths, White, Inco...    0.153761  0.072740   \n",
       "15  [Doctors, University, Traf Deaths, White, Inco...    0.158425  0.070630   \n",
       "16  [Doctors, University, Traf Deaths, White, Inco...    0.160124  0.069890   \n",
       "17  [Doctors, University, Traf Deaths, White, Inco...    0.167091  0.078459   \n",
       "18  [Doctors, University, Traf Deaths, White, Inco...    0.169288  0.068073   \n",
       "19  [Doctors, University, Traf Deaths, White, Inco...    0.177741  0.079425   \n",
       "20  [Doctors, University, Traf Deaths, White, Inco...    0.245404  0.093377   \n",
       "21  [Doctors, University, Traf Deaths, White, Inco...    0.265661  0.084522   \n",
       "22  [Doctors, University, Traf Deaths, White, Inco...    0.269323  0.083690   \n",
       "23  [Doctors, University, Traf Deaths, White, Inco...    0.280589  0.099909   \n",
       "24  [University, Traf Deaths, Population, Unemploy...    0.173532  0.216615   \n",
       "25  [University, Traf Deaths, Population, Unemploy...    0.415586  0.232597   \n",
       "26  [University, Traf Deaths, Income, Population, ...    0.268545  0.070454   \n",
       "27  [University, Traf Deaths, Income, Population, ...    0.290659  0.118567   \n",
       "28  [University, Traf Deaths, Income, Population, ...    0.299616  0.108310   \n",
       "29  [University, Traf Deaths, Income, Population, ...    0.297536  0.109007   \n",
       "30  [Doctors, University, Traf Deaths, Population,...    0.402293  0.203189   \n",
       "31  [University, Traf Deaths, White, Infant Mort, ...    0.148862  0.090304   \n",
       "32  [University, Traf Deaths, White, Infant Mort, ...    0.175828  0.100961   \n",
       "33  [University, Traf Deaths, White, Infant Mort, ...    0.243995  0.102223   \n",
       "34  [University, Traf Deaths, White, Infant Mort, ...    0.287836  0.101397   \n",
       "35  [University, Traf Deaths, White, Infant Mort, ...    0.262765  0.088863   \n",
       "36  [University, Traf Deaths, White, Infant Mort, ...    0.280535  0.085467   \n",
       "37  [University, Traf Deaths, White, Infant Mort, ...    0.289749  0.088387   \n",
       "38  [Doctors, University, Traf Deaths, White, Infa...    0.271967  0.090118   \n",
       "39  [Doctors, University, Traf Deaths, White, Infa...    0.288051  0.102705   \n",
       "40  [Doctors, University, Traf Deaths, White, Infa...    0.337040  0.146573   \n",
       "41  [Doctors, University, Traf Deaths, White, Infa...    0.327569  0.151277   \n",
       "42  [Doctors, University, Traf Deaths, White, Infa...    0.331258  0.149099   \n",
       "43  [Doctors, University, Traf Deaths, White, Infa...    0.342470  0.140516   \n",
       "44  [Doctors, University, Traf Deaths, White, Infa...    0.354194  0.161153   \n",
       "45  [Doctors, University, Traf Deaths, White, Infa...    0.329552  0.129805   \n",
       "46  [Doctors, University, Traf Deaths, White, Infa...    0.334176  0.136195   \n",
       "47  [Doctors, University, Traf Deaths, White, Infa...    0.300427  0.145165   \n",
       "48  [Doctors, University, Traf Deaths, White, Infa...    0.304883  0.149320   \n",
       "49  [Doctors, University, Traf Deaths, White, Infa...    0.315578  0.166091   \n",
       "50  [Doctors, University, Traf Deaths, White, Infa...    0.316656  0.164637   \n",
       "51  [Doctors, University, Traf Deaths, White, Infa...    0.301939  0.130567   \n",
       "52  [Crime, Doctors, University, Traf Deaths, Whit...    0.318908  0.132829   \n",
       "53  [Crime, Doctors, University, Traf Deaths, Whit...    0.326753  0.137103   \n",
       "\n",
       "      alpha  lambda  \n",
       "0   0.01000    0.00  \n",
       "1   0.00000    0.58  \n",
       "2   0.00001    0.12  \n",
       "3   0.00100    0.99  \n",
       "4   0.00000    0.48  \n",
       "5   0.00000    0.24  \n",
       "6   0.00000    0.23  \n",
       "7   0.00100    0.10  \n",
       "8   0.01000    0.00  \n",
       "9   0.01000    0.27  \n",
       "10  0.01000    0.04  \n",
       "11  0.01000    0.01  \n",
       "12  0.01000    0.00  \n",
       "13  0.01000    0.00  \n",
       "14  0.01000    0.00  \n",
       "15  0.01000    0.14  \n",
       "16  0.01000    0.15  \n",
       "17  0.01000    0.15  \n",
       "18  0.01000    0.21  \n",
       "19  0.01000    0.20  \n",
       "20  0.01000    0.00  \n",
       "21  0.01000    0.00  \n",
       "22  0.01000    0.19  \n",
       "23  0.01000    0.21  \n",
       "24  0.00000    0.00  \n",
       "25  0.00000    0.00  \n",
       "26  0.00000    0.00  \n",
       "27  0.00000    0.00  \n",
       "28  0.00000    0.54  \n",
       "29  0.10000    0.25  \n",
       "30  0.00000    0.00  \n",
       "31  0.00000    0.00  \n",
       "32  0.00000    0.00  \n",
       "33  0.00000    0.00  \n",
       "34  0.00000    0.00  \n",
       "35  0.00000    0.00  \n",
       "36  0.00000    0.09  \n",
       "37  0.00100    0.16  \n",
       "38  0.01000    0.00  \n",
       "39  0.01000    0.04  \n",
       "40  0.01000    0.05  \n",
       "41  0.01000    0.07  \n",
       "42  0.01000    0.06  \n",
       "43  0.01000    0.99  \n",
       "44  0.01000    0.97  \n",
       "45  0.01000    0.99  \n",
       "46  0.01000    0.95  \n",
       "47  0.01000    0.99  \n",
       "48  0.01000    0.99  \n",
       "49  0.01000    0.99  \n",
       "50  0.01000    0.99  \n",
       "51  0.01000    0.99  \n",
       "52  0.01000    0.99  \n",
       "53  0.01000    0.99  "
      ]
     },
     "metadata": {},
     "output_type": "display_data"
    }
   ],
   "source": [
    "CV_results.columns = ['features','mean error','std','alpha','lambda']\n",
    "CV_results.index = np.array(range(0,len(features)))#range(1,len(features)+1)\n",
    "plt.plot(CV_results['mean error'])\n",
    "plt.show()\n",
    "\n",
    "best = CV_results.iloc[CV_results['mean error'].idxmin()]\n",
    "print(best.loc['features'])\n",
    "\n",
    "parse = CV_results[CV_results['mean error']<=(np.min(CV_results['mean error'])+np.std(CV_results['mean error']))].iloc[0]\n",
    "print(parse.loc['features'])\n",
    "display(CV_results)"
   ]
  },
  {
   "cell_type": "code",
   "execution_count": null,
   "id": "b03064fb-f90a-48b7-913c-268ecdfc11a0",
   "metadata": {},
   "outputs": [],
   "source": []
  },
  {
   "cell_type": "code",
   "execution_count": 16,
   "id": "228b1f79-2c3d-42d2-9edd-8cabce43921b",
   "metadata": {},
   "outputs": [
    {
     "data": {
      "text/plain": [
       "ElasticNet(alpha=0.01, l1_ratio=0.0)"
      ]
     },
     "execution_count": 16,
     "metadata": {},
     "output_type": "execute_result"
    }
   ],
   "source": [
    "model_ss = LinearRegression()\n",
    "model_ss_parse = LinearRegression()\n",
    "model_ep = ElasticNet(alpha=parse['alpha'], l1_ratio=parse['lambda'])\n",
    "model_eb = ElasticNet(alpha=best['alpha'], l1_ratio=best['lambda'])\n",
    "\n",
    "model_ss.fit(data.X_train_ss_yj_inter[ss_sortedFeatures], data.y_train_ss_yj)\n",
    "model_ss_parse.fit(data.X_train_ss_yj_inter[ss_position_parse], data.y_train_ss_yj)\n",
    "model_ep.fit(data.X_train_ss_yj_inter[parse['features']],data.y_train_ss_yj)\n",
    "model_eb.fit(data.X_train_ss_yj_inter[best['features']],data.y_train_ss_yj)"
   ]
  },
  {
   "cell_type": "code",
   "execution_count": null,
   "id": "68a21731-16c3-48d5-9add-b20d766a9496",
   "metadata": {},
   "outputs": [],
   "source": []
  },
  {
   "cell_type": "code",
   "execution_count": 17,
   "id": "d1c2462d-0b37-470c-983c-a47ca192f708",
   "metadata": {},
   "outputs": [],
   "source": [
    "data.zca_X_train = pd.DataFrame(data.zca.fit_transform(data.X_train_ss_yj_inter[ss_position_parse]),columns=ss_position_parse,index=data.X_train_ss_yj_inter.index)\n",
    "data.zca_X_train.index = data.X_train_ss_yj_inter.index\n",
    "#zca_data = pd.concat([y_train_ss_yj,zca_X_train],axis=1)\n",
    "#zca_data.index = X_train_ss_yj_inter.index"
   ]
  },
  {
   "cell_type": "code",
   "execution_count": 18,
   "id": "fc1f4582-4078-4810-8b48-48d88a2a6909",
   "metadata": {},
   "outputs": [],
   "source": [
    "data.pca_X_train.fit(data.X_train_ss_yj_inter[ss_sortedFeatures])\n",
    "data.X_pca_train = pd.DataFrame(data.pca_X_train.transform(data.X_train_ss_yj_inter[ss_sortedFeatures]),index = data.X_train_ss_yj_inter.index)"
   ]
  },
  {
   "cell_type": "code",
   "execution_count": 19,
   "id": "52687dd7-c69e-4d1b-865e-fdb78059fa44",
   "metadata": {},
   "outputs": [],
   "source": [
    "#zca_data.pcorr()"
   ]
  },
  {
   "cell_type": "code",
   "execution_count": 20,
   "id": "827aace5-3f19-4a70-be6d-499f6261ebbb",
   "metadata": {},
   "outputs": [],
   "source": [
    "#sns.pairplot(zca_data,kind=\"reg\", plot_kws={'line_kws':{'color':'red'}})"
   ]
  },
  {
   "cell_type": "code",
   "execution_count": 21,
   "id": "2f603d6e-36ba-4da7-a22d-efd82f43f1df",
   "metadata": {},
   "outputs": [
    {
     "data": {
      "text/plain": [
       "array([0.22788469, 0.38735997, 0.51170292, 0.61349398, 0.69010628,\n",
       "       0.75431235, 0.80609821, 0.8477879 , 0.87754276, 0.90619932,\n",
       "       0.9290456 , 0.9446698 , 0.95804198, 0.96747421, 0.97638492,\n",
       "       0.98340357, 0.98864426, 0.99191737])"
      ]
     },
     "execution_count": 21,
     "metadata": {},
     "output_type": "execute_result"
    }
   ],
   "source": [
    "data.pca_X_train.explained_variance_ratio_.cumsum()"
   ]
  },
  {
   "cell_type": "code",
   "execution_count": 22,
   "id": "cc4c7623-6a5f-4819-bdab-793bbaa08bbc",
   "metadata": {},
   "outputs": [
    {
     "data": {
      "text/plain": [
       "25"
      ]
     },
     "execution_count": 22,
     "metadata": {},
     "output_type": "execute_result"
    }
   ],
   "source": [
    "len(ss_sortedFeatures)"
   ]
  },
  {
   "cell_type": "code",
   "execution_count": null,
   "id": "37eb6479-5110-48d7-bc8b-04110de77d5c",
   "metadata": {},
   "outputs": [],
   "source": []
  },
  {
   "cell_type": "code",
   "execution_count": 23,
   "id": "ab0403fe-897d-49c3-ad3d-913424a2a9bb",
   "metadata": {},
   "outputs": [
    {
     "name": "stdout",
     "output_type": "stream",
     "text": [
      "['Income', 'Population', 'Unemployed', 'Infant Mort Population']\n"
     ]
    }
   ],
   "source": [
    "print(ss_position_parse)"
   ]
  },
  {
   "cell_type": "code",
   "execution_count": 24,
   "id": "13ed1fa0-af34-4fbe-9f16-b37c8d94f5b6",
   "metadata": {},
   "outputs": [
    {
     "data": {
      "text/html": [
       "<table class=\"simpletable\">\n",
       "<caption>OLS Regression Results</caption>\n",
       "<tr>\n",
       "  <th>Dep. Variable:</th>         <td>Poverty</td>     <th>  R-squared:         </th> <td>   0.917</td>\n",
       "</tr>\n",
       "<tr>\n",
       "  <th>Model:</th>                   <td>OLS</td>       <th>  Adj. R-squared:    </th> <td>   0.906</td>\n",
       "</tr>\n",
       "<tr>\n",
       "  <th>Method:</th>             <td>Least Squares</td>  <th>  F-statistic:       </th> <td>   83.25</td>\n",
       "</tr>\n",
       "<tr>\n",
       "  <th>Date:</th>             <td>Sun, 22 Aug 2021</td> <th>  Prob (F-statistic):</th> <td>8.46e-16</td>\n",
       "</tr>\n",
       "<tr>\n",
       "  <th>Time:</th>                 <td>17:31:21</td>     <th>  Log-Likelihood:    </th> <td> -6.0312</td>\n",
       "</tr>\n",
       "<tr>\n",
       "  <th>No. Observations:</th>      <td>    35</td>      <th>  AIC:               </th> <td>   22.06</td>\n",
       "</tr>\n",
       "<tr>\n",
       "  <th>Df Residuals:</th>          <td>    30</td>      <th>  BIC:               </th> <td>   29.84</td>\n",
       "</tr>\n",
       "<tr>\n",
       "  <th>Df Model:</th>              <td>     4</td>      <th>                     </th>     <td> </td>   \n",
       "</tr>\n",
       "<tr>\n",
       "  <th>Covariance Type:</th>      <td>nonrobust</td>    <th>                     </th>     <td> </td>   \n",
       "</tr>\n",
       "</table>\n",
       "<table class=\"simpletable\">\n",
       "<tr>\n",
       "             <td></td>               <th>coef</th>     <th>std err</th>      <th>t</th>      <th>P>|t|</th>  <th>[0.025</th>    <th>0.975]</th>  \n",
       "</tr>\n",
       "<tr>\n",
       "  <th>const</th>                  <td>-6.939e-17</td> <td>    0.052</td> <td>-1.32e-15</td> <td> 1.000</td> <td>   -0.107</td> <td>    0.107</td>\n",
       "</tr>\n",
       "<tr>\n",
       "  <th>Income</th>                 <td>   -0.8836</td> <td>    0.053</td> <td>  -16.592</td> <td> 0.000</td> <td>   -0.992</td> <td>   -0.775</td>\n",
       "</tr>\n",
       "<tr>\n",
       "  <th>Population</th>             <td>    0.2603</td> <td>    0.053</td> <td>    4.887</td> <td> 0.000</td> <td>    0.152</td> <td>    0.369</td>\n",
       "</tr>\n",
       "<tr>\n",
       "  <th>Unemployed</th>             <td>    0.3069</td> <td>    0.053</td> <td>    5.764</td> <td> 0.000</td> <td>    0.198</td> <td>    0.416</td>\n",
       "</tr>\n",
       "<tr>\n",
       "  <th>Infant Mort Population</th> <td>   -0.0412</td> <td>    0.053</td> <td>   -0.773</td> <td> 0.446</td> <td>   -0.150</td> <td>    0.068</td>\n",
       "</tr>\n",
       "</table>\n",
       "<table class=\"simpletable\">\n",
       "<tr>\n",
       "  <th>Omnibus:</th>       <td> 0.613</td> <th>  Durbin-Watson:     </th> <td>   2.141</td>\n",
       "</tr>\n",
       "<tr>\n",
       "  <th>Prob(Omnibus):</th> <td> 0.736</td> <th>  Jarque-Bera (JB):  </th> <td>   0.094</td>\n",
       "</tr>\n",
       "<tr>\n",
       "  <th>Skew:</th>          <td> 0.080</td> <th>  Prob(JB):          </th> <td>   0.954</td>\n",
       "</tr>\n",
       "<tr>\n",
       "  <th>Kurtosis:</th>      <td> 3.198</td> <th>  Cond. No.          </th> <td>    1.01</td>\n",
       "</tr>\n",
       "</table><br/><br/>Notes:<br/>[1] Standard Errors assume that the covariance matrix of the errors is correctly specified."
      ],
      "text/plain": [
       "<class 'statsmodels.iolib.summary.Summary'>\n",
       "\"\"\"\n",
       "                            OLS Regression Results                            \n",
       "==============================================================================\n",
       "Dep. Variable:                Poverty   R-squared:                       0.917\n",
       "Model:                            OLS   Adj. R-squared:                  0.906\n",
       "Method:                 Least Squares   F-statistic:                     83.25\n",
       "Date:                Sun, 22 Aug 2021   Prob (F-statistic):           8.46e-16\n",
       "Time:                        17:31:21   Log-Likelihood:                -6.0312\n",
       "No. Observations:                  35   AIC:                             22.06\n",
       "Df Residuals:                      30   BIC:                             29.84\n",
       "Df Model:                           4                                         \n",
       "Covariance Type:            nonrobust                                         \n",
       "==========================================================================================\n",
       "                             coef    std err          t      P>|t|      [0.025      0.975]\n",
       "------------------------------------------------------------------------------------------\n",
       "const                  -6.939e-17      0.052  -1.32e-15      1.000      -0.107       0.107\n",
       "Income                    -0.8836      0.053    -16.592      0.000      -0.992      -0.775\n",
       "Population                 0.2603      0.053      4.887      0.000       0.152       0.369\n",
       "Unemployed                 0.3069      0.053      5.764      0.000       0.198       0.416\n",
       "Infant Mort Population    -0.0412      0.053     -0.773      0.446      -0.150       0.068\n",
       "==============================================================================\n",
       "Omnibus:                        0.613   Durbin-Watson:                   2.141\n",
       "Prob(Omnibus):                  0.736   Jarque-Bera (JB):                0.094\n",
       "Skew:                           0.080   Prob(JB):                        0.954\n",
       "Kurtosis:                       3.198   Cond. No.                         1.01\n",
       "==============================================================================\n",
       "\n",
       "Notes:\n",
       "[1] Standard Errors assume that the covariance matrix of the errors is correctly specified.\n",
       "\"\"\""
      ]
     },
     "execution_count": 24,
     "metadata": {},
     "output_type": "execute_result"
    }
   ],
   "source": [
    "#model = sklearn.linear_model.LinearRegression()\n",
    "#data_set_wConstant = statsmodels.tools.tools.add_constant(zca_data)\n",
    "data_set_wConstant_parse_zca = statsmodels.tools.tools.add_constant(data.zca_X_train)\n",
    "#y_ = data_set_wConstant[target]\n",
    "#data_set_wConstant = data_set_wConstant[data_set_wConstant.columns.drop(target)]\n",
    "#results = model.fit(X, y)\n",
    "model_parse = sm.OLS(data.y_train_ss_yj,data_set_wConstant_parse_zca)\n",
    "results_parse = model_parse.fit()\n",
    "fitted_parse = results_parse.predict(data_set_wConstant_parse_zca)\n",
    "results_parse.summary()"
   ]
  },
  {
   "cell_type": "code",
   "execution_count": 25,
   "id": "83e8153b-abad-4648-b326-4c4320277dba",
   "metadata": {},
   "outputs": [
    {
     "name": "stdout",
     "output_type": "stream",
     "text": [
      "Summary of Regression\n",
      ":                            OLS Regression Results                            \n",
      "==============================================================================\n",
      "Dep. Variable:                      y   R-squared:                       0.917\n",
      "Model:                            OLS   Adj. R-squared:                  0.906\n",
      "Method:                 Least Squares   F-statistic:                     83.25\n",
      "Date:                Sun, 22 Aug 2021   Prob (F-statistic):           8.46e-16\n",
      "Time:                        17:31:21   Log-Likelihood:                -6.0312\n",
      "No. Observations:                  35   AIC:                             22.06\n",
      "Df Residuals:                      30   BIC:                             29.84\n",
      "Df Model:                           4                                         \n",
      "Covariance Type:            nonrobust                                         \n",
      "==============================================================================\n",
      "                 coef    std err          t      P>|t|      [0.025      0.975]\n",
      "------------------------------------------------------------------------------\n",
      "const      -6.939e-17      0.052  -1.32e-15      1.000      -0.107       0.107\n",
      "x1            -0.8836      0.053    -16.592      0.000      -0.992      -0.775\n",
      "x2             0.2603      0.053      4.887      0.000       0.152       0.369\n",
      "x3             0.3069      0.053      5.764      0.000       0.198       0.416\n",
      "x4            -0.0412      0.053     -0.773      0.446      -0.150       0.068\n",
      "==============================================================================\n",
      "Omnibus:                        0.613   Durbin-Watson:                   2.141\n",
      "Prob(Omnibus):                  0.736   Jarque-Bera (JB):                0.094\n",
      "Skew:                           0.080   Prob(JB):                        0.954\n",
      "Kurtosis:                       3.198   Cond. No.                         1.01\n",
      "==============================================================================\n",
      "\n",
      "Notes:\n",
      "[1] Standard Errors assume that the covariance matrix of the errors is correctly specified.\n",
      "Diagnostic Tests of Regression\n",
      ":{\"Non_Linearity_Test\": [[\"F value\", NaN], [\"p value\", NaN]], \"Hetroskedasticity_Test\": [[\"Lagrange multiplier statistic\", 5.128839528793495], [\"p-value\", 0.27433138125588563], [\"f-value\", 1.2877402772158704], [\"f p-value\", 0.29692671854185276]], \"Residual_Normality_Test\": [[\"Jarque-Bera\", 0.09417095168105791], [\"Chi^2 two-tail prob.\", 0.9540058496533629], [\"Skew\", 0.07971580588290256], [\"Kurtosis\", 3.1978785689173255]], \"MultiCollnearity_Test\": [[\"condition no\", 1.0146089797714204]], \"Residual_AutoCorrelation_Test\": [[\"p value\", 2.1413517968564433]]}\n"
     ]
    },
    {
     "data": {
      "image/png": "[encoded data removed]",
      "text/plain": [
       "<Figure size 432x288 with 1 Axes>"
      ]
     },
     "metadata": {
      "needs_background": "light"
     },
     "output_type": "display_data"
    },
    {
     "data": {
      "image/png": "[encoded data removed]",
      "text/plain": [
       "<Figure size 432x288 with 1 Axes>"
      ]
     },
     "metadata": {
      "needs_background": "light"
     },
     "output_type": "display_data"
    },
    {
     "data": {
      "image/png": "[encoded data removed]",
      "text/plain": [
       "<Figure size 432x288 with 1 Axes>"
      ]
     },
     "metadata": {
      "needs_background": "light"
     },
     "output_type": "display_data"
    },
    {
     "data": {
      "image/png": "[encoded data removed]",
      "text/plain": [
       "<Figure size 432x288 with 1 Axes>"
      ]
     },
     "metadata": {
      "needs_background": "light"
     },
     "output_type": "display_data"
    }
   ],
   "source": [
    "linear_plot = Plot.LinearRegressionResidualPlot(data_set_wConstant_parse_zca.values, data.y_train_ss_yj.values)\n",
    "lm = linear_plot.fit()\n",
    "summary, diag_res = linear_plot.diagnostic_plots(lm)\n",
    "print(\"Summary of Regression\\n:{}\".format(summary))\n",
    "print(\"Diagnostic Tests of Regression\\n:{}\".format(diag_res))"
   ]
  },
  {
   "cell_type": "code",
   "execution_count": 26,
   "id": "ed663a3a-2eef-4863-be5b-2901891c17c5",
   "metadata": {},
   "outputs": [
    {
     "data": {
      "text/plain": [
       "array([[<AxesSubplot:title={'center':'0'}>]], dtype=object)"
      ]
     },
     "execution_count": 26,
     "metadata": {},
     "output_type": "execute_result"
    },
    {
     "data": {
      "image/png": "[encoded data removed]",
      "text/plain": [
       "<Figure size 432x288 with 1 Axes>"
      ]
     },
     "metadata": {
      "needs_background": "light"
     },
     "output_type": "display_data"
    }
   ],
   "source": [
    "pd.DataFrame(results_parse.get_influence().resid_studentized_internal).hist()"
   ]
  },
  {
   "cell_type": "code",
   "execution_count": 27,
   "id": "d0221212-a87f-40f3-b92a-e42690a6a412",
   "metadata": {},
   "outputs": [
    {
     "name": "stdout",
     "output_type": "stream",
     "text": [
      "['University', 'Traf Deaths', 'Population', 'Unemployed', 'Crime^2', 'Crime Doctors', 'Crime University', 'Crime Traf Deaths', 'Crime White', 'Crime Infant Mort', 'Doctors Traf Deaths', 'Doctors Income', 'Doctors Population', 'Doctors Unemployed', 'University Infant Mort', 'University Income', 'University Population', 'Traf Deaths White', 'Traf Deaths Infant Mort', 'Traf Deaths Income', 'White Infant Mort', 'Infant Mort Income', 'Infant Mort Population', 'Income Population', 'Income Unemployed']\n"
     ]
    }
   ],
   "source": [
    "print(ss_sortedFeatures)"
   ]
  },
  {
   "cell_type": "code",
   "execution_count": 28,
   "id": "7fea8437-cd06-446a-a7ca-7af65761c876",
   "metadata": {},
   "outputs": [
    {
     "data": {
      "text/html": [
       "<table class=\"simpletable\">\n",
       "<caption>OLS Regression Results</caption>\n",
       "<tr>\n",
       "  <th>Dep. Variable:</th>         <td>Poverty</td>     <th>  R-squared:         </th> <td>   0.952</td>\n",
       "</tr>\n",
       "<tr>\n",
       "  <th>Model:</th>                   <td>OLS</td>       <th>  Adj. R-squared:    </th> <td>   0.899</td>\n",
       "</tr>\n",
       "<tr>\n",
       "  <th>Method:</th>             <td>Least Squares</td>  <th>  F-statistic:       </th> <td>   17.80</td>\n",
       "</tr>\n",
       "<tr>\n",
       "  <th>Date:</th>             <td>Sun, 22 Aug 2021</td> <th>  Prob (F-statistic):</th> <td>2.39e-07</td>\n",
       "</tr>\n",
       "<tr>\n",
       "  <th>Time:</th>                 <td>17:31:23</td>     <th>  Log-Likelihood:    </th> <td>  3.6343</td>\n",
       "</tr>\n",
       "<tr>\n",
       "  <th>No. Observations:</th>      <td>    35</td>      <th>  AIC:               </th> <td>   30.73</td>\n",
       "</tr>\n",
       "<tr>\n",
       "  <th>Df Residuals:</th>          <td>    16</td>      <th>  BIC:               </th> <td>   60.28</td>\n",
       "</tr>\n",
       "<tr>\n",
       "  <th>Df Model:</th>              <td>    18</td>      <th>                     </th>     <td> </td>   \n",
       "</tr>\n",
       "<tr>\n",
       "  <th>Covariance Type:</th>      <td>nonrobust</td>    <th>                     </th>     <td> </td>   \n",
       "</tr>\n",
       "</table>\n",
       "<table class=\"simpletable\">\n",
       "<tr>\n",
       "    <td></td>       <th>coef</th>     <th>std err</th>      <th>t</th>      <th>P>|t|</th>  <th>[0.025</th>    <th>0.975]</th>  \n",
       "</tr>\n",
       "<tr>\n",
       "  <th>const</th> <td>-6.939e-17</td> <td>    0.055</td> <td>-1.27e-15</td> <td> 1.000</td> <td>   -0.116</td> <td>    0.116</td>\n",
       "</tr>\n",
       "<tr>\n",
       "  <th>0</th>     <td>    0.0059</td> <td>    0.024</td> <td>    0.246</td> <td> 0.809</td> <td>   -0.045</td> <td>    0.056</td>\n",
       "</tr>\n",
       "<tr>\n",
       "  <th>1</th>     <td>    0.1210</td> <td>    0.028</td> <td>    4.250</td> <td> 0.001</td> <td>    0.061</td> <td>    0.181</td>\n",
       "</tr>\n",
       "<tr>\n",
       "  <th>2</th>     <td>   -0.1520</td> <td>    0.032</td> <td>   -4.712</td> <td> 0.000</td> <td>   -0.220</td> <td>   -0.084</td>\n",
       "</tr>\n",
       "<tr>\n",
       "  <th>3</th>     <td>    0.2762</td> <td>    0.036</td> <td>    7.750</td> <td> 0.000</td> <td>    0.201</td> <td>    0.352</td>\n",
       "</tr>\n",
       "<tr>\n",
       "  <th>4</th>     <td>   -0.2623</td> <td>    0.041</td> <td>   -6.385</td> <td> 0.000</td> <td>   -0.349</td> <td>   -0.175</td>\n",
       "</tr>\n",
       "<tr>\n",
       "  <th>5</th>     <td>    0.0793</td> <td>    0.045</td> <td>    1.767</td> <td> 0.096</td> <td>   -0.016</td> <td>    0.174</td>\n",
       "</tr>\n",
       "<tr>\n",
       "  <th>6</th>     <td>    0.4770</td> <td>    0.050</td> <td>    9.545</td> <td> 0.000</td> <td>    0.371</td> <td>    0.583</td>\n",
       "</tr>\n",
       "<tr>\n",
       "  <th>7</th>     <td>   -0.2338</td> <td>    0.056</td> <td>   -4.198</td> <td> 0.001</td> <td>   -0.352</td> <td>   -0.116</td>\n",
       "</tr>\n",
       "<tr>\n",
       "  <th>8</th>     <td>   -0.3317</td> <td>    0.066</td> <td>   -5.031</td> <td> 0.000</td> <td>   -0.471</td> <td>   -0.192</td>\n",
       "</tr>\n",
       "<tr>\n",
       "  <th>9</th>     <td>   -0.0767</td> <td>    0.067</td> <td>   -1.142</td> <td> 0.270</td> <td>   -0.219</td> <td>    0.066</td>\n",
       "</tr>\n",
       "<tr>\n",
       "  <th>10</th>    <td>   -0.2740</td> <td>    0.075</td> <td>   -3.642</td> <td> 0.002</td> <td>   -0.433</td> <td>   -0.114</td>\n",
       "</tr>\n",
       "<tr>\n",
       "  <th>11</th>    <td>    0.3227</td> <td>    0.091</td> <td>    3.548</td> <td> 0.003</td> <td>    0.130</td> <td>    0.516</td>\n",
       "</tr>\n",
       "<tr>\n",
       "  <th>12</th>    <td>   -0.1334</td> <td>    0.098</td> <td>   -1.357</td> <td> 0.194</td> <td>   -0.342</td> <td>    0.075</td>\n",
       "</tr>\n",
       "<tr>\n",
       "  <th>13</th>    <td>   -0.1103</td> <td>    0.117</td> <td>   -0.942</td> <td> 0.360</td> <td>   -0.359</td> <td>    0.138</td>\n",
       "</tr>\n",
       "<tr>\n",
       "  <th>14</th>    <td>    0.1945</td> <td>    0.120</td> <td>    1.615</td> <td> 0.126</td> <td>   -0.061</td> <td>    0.450</td>\n",
       "</tr>\n",
       "<tr>\n",
       "  <th>15</th>    <td>   -0.1766</td> <td>    0.136</td> <td>   -1.301</td> <td> 0.212</td> <td>   -0.464</td> <td>    0.111</td>\n",
       "</tr>\n",
       "<tr>\n",
       "  <th>16</th>    <td>   -0.1996</td> <td>    0.157</td> <td>   -1.270</td> <td> 0.222</td> <td>   -0.533</td> <td>    0.133</td>\n",
       "</tr>\n",
       "<tr>\n",
       "  <th>17</th>    <td>    0.4956</td> <td>    0.199</td> <td>    2.493</td> <td> 0.024</td> <td>    0.074</td> <td>    0.917</td>\n",
       "</tr>\n",
       "</table>\n",
       "<table class=\"simpletable\">\n",
       "<tr>\n",
       "  <th>Omnibus:</th>       <td> 5.781</td> <th>  Durbin-Watson:     </th> <td>   1.797</td>\n",
       "</tr>\n",
       "<tr>\n",
       "  <th>Prob(Omnibus):</th> <td> 0.056</td> <th>  Jarque-Bera (JB):  </th> <td>   7.286</td>\n",
       "</tr>\n",
       "<tr>\n",
       "  <th>Skew:</th>          <td> 0.098</td> <th>  Prob(JB):          </th> <td>  0.0262</td>\n",
       "</tr>\n",
       "<tr>\n",
       "  <th>Kurtosis:</th>      <td> 5.227</td> <th>  Cond. No.          </th> <td>    8.34</td>\n",
       "</tr>\n",
       "</table><br/><br/>Notes:<br/>[1] Standard Errors assume that the covariance matrix of the errors is correctly specified."
      ],
      "text/plain": [
       "<class 'statsmodels.iolib.summary.Summary'>\n",
       "\"\"\"\n",
       "                            OLS Regression Results                            \n",
       "==============================================================================\n",
       "Dep. Variable:                Poverty   R-squared:                       0.952\n",
       "Model:                            OLS   Adj. R-squared:                  0.899\n",
       "Method:                 Least Squares   F-statistic:                     17.80\n",
       "Date:                Sun, 22 Aug 2021   Prob (F-statistic):           2.39e-07\n",
       "Time:                        17:31:23   Log-Likelihood:                 3.6343\n",
       "No. Observations:                  35   AIC:                             30.73\n",
       "Df Residuals:                      16   BIC:                             60.28\n",
       "Df Model:                          18                                         \n",
       "Covariance Type:            nonrobust                                         \n",
       "==============================================================================\n",
       "                 coef    std err          t      P>|t|      [0.025      0.975]\n",
       "------------------------------------------------------------------------------\n",
       "const      -6.939e-17      0.055  -1.27e-15      1.000      -0.116       0.116\n",
       "0              0.0059      0.024      0.246      0.809      -0.045       0.056\n",
       "1              0.1210      0.028      4.250      0.001       0.061       0.181\n",
       "2             -0.1520      0.032     -4.712      0.000      -0.220      -0.084\n",
       "3              0.2762      0.036      7.750      0.000       0.201       0.352\n",
       "4             -0.2623      0.041     -6.385      0.000      -0.349      -0.175\n",
       "5              0.0793      0.045      1.767      0.096      -0.016       0.174\n",
       "6              0.4770      0.050      9.545      0.000       0.371       0.583\n",
       "7             -0.2338      0.056     -4.198      0.001      -0.352      -0.116\n",
       "8             -0.3317      0.066     -5.031      0.000      -0.471      -0.192\n",
       "9             -0.0767      0.067     -1.142      0.270      -0.219       0.066\n",
       "10            -0.2740      0.075     -3.642      0.002      -0.433      -0.114\n",
       "11             0.3227      0.091      3.548      0.003       0.130       0.516\n",
       "12            -0.1334      0.098     -1.357      0.194      -0.342       0.075\n",
       "13            -0.1103      0.117     -0.942      0.360      -0.359       0.138\n",
       "14             0.1945      0.120      1.615      0.126      -0.061       0.450\n",
       "15            -0.1766      0.136     -1.301      0.212      -0.464       0.111\n",
       "16            -0.1996      0.157     -1.270      0.222      -0.533       0.133\n",
       "17             0.4956      0.199      2.493      0.024       0.074       0.917\n",
       "==============================================================================\n",
       "Omnibus:                        5.781   Durbin-Watson:                   1.797\n",
       "Prob(Omnibus):                  0.056   Jarque-Bera (JB):                7.286\n",
       "Skew:                           0.098   Prob(JB):                       0.0262\n",
       "Kurtosis:                       5.227   Cond. No.                         8.34\n",
       "==============================================================================\n",
       "\n",
       "Notes:\n",
       "[1] Standard Errors assume that the covariance matrix of the errors is correctly specified.\n",
       "\"\"\""
      ]
     },
     "execution_count": 28,
     "metadata": {},
     "output_type": "execute_result"
    }
   ],
   "source": [
    "#model = sklearn.linear_model.LinearRegression()\n",
    "#data_set_wConstant = statsmodels.tools.tools.add_constant(zca_data)\n",
    "data_set_wConstant_ss_pca = statsmodels.tools.tools.add_constant(data.X_pca_train)\n",
    "#y_ = data_set_wConstant[target]\n",
    "#data_set_wConstant = data_set_wConstant[data_set_wConstant.columns.drop(target)]\n",
    "#results = model.fit(X, y)\n",
    "model_ss = sm.OLS(data.y_train_ss_yj,data_set_wConstant_ss_pca)\n",
    "results_ss = model_ss.fit()\n",
    "fitted = results_ss.predict(data_set_wConstant_ss_pca)\n",
    "results_ss.summary()"
   ]
  },
  {
   "cell_type": "code",
   "execution_count": null,
   "id": "516bc53d-7a31-4b66-959e-d5b9e049df38",
   "metadata": {},
   "outputs": [],
   "source": []
  },
  {
   "cell_type": "code",
   "execution_count": 29,
   "id": "3b119379-7f8d-469a-a77a-6c798efd2118",
   "metadata": {},
   "outputs": [
    {
     "data": {
      "text/plain": [
       "array([[<AxesSubplot:title={'center':'0'}>]], dtype=object)"
      ]
     },
     "execution_count": 29,
     "metadata": {},
     "output_type": "execute_result"
    },
    {
     "data": {
      "image/png": "[encoded data removed]",
      "text/plain": [
       "<Figure size 432x288 with 1 Axes>"
      ]
     },
     "metadata": {
      "needs_background": "light"
     },
     "output_type": "display_data"
    }
   ],
   "source": [
    "pd.DataFrame(results_ss.get_influence().resid_studentized_internal).hist()"
   ]
  },
  {
   "cell_type": "code",
   "execution_count": null,
   "id": "a1f6c95f-0591-4162-a007-cfcd85d5a8bf",
   "metadata": {},
   "outputs": [],
   "source": []
  },
  {
   "cell_type": "code",
   "execution_count": 30,
   "id": "7559c9ae-b262-4434-bb06-d4da42c8d5d1",
   "metadata": {},
   "outputs": [
    {
     "name": "stdout",
     "output_type": "stream",
     "text": [
      "Summary of Regression\n",
      ":                            OLS Regression Results                            \n",
      "==============================================================================\n",
      "Dep. Variable:                      y   R-squared:                       0.952\n",
      "Model:                            OLS   Adj. R-squared:                  0.899\n",
      "Method:                 Least Squares   F-statistic:                     17.80\n",
      "Date:                Sun, 22 Aug 2021   Prob (F-statistic):           2.39e-07\n",
      "Time:                        17:31:23   Log-Likelihood:                 3.6343\n",
      "No. Observations:                  35   AIC:                             30.73\n",
      "Df Residuals:                      16   BIC:                             60.28\n",
      "Df Model:                          18                                         \n",
      "Covariance Type:            nonrobust                                         \n",
      "==============================================================================\n",
      "                 coef    std err          t      P>|t|      [0.025      0.975]\n",
      "------------------------------------------------------------------------------\n",
      "const      -6.939e-17      0.055  -1.27e-15      1.000      -0.116       0.116\n",
      "x1             0.0059      0.024      0.246      0.809      -0.045       0.056\n",
      "x2             0.1210      0.028      4.250      0.001       0.061       0.181\n",
      "x3            -0.1520      0.032     -4.712      0.000      -0.220      -0.084\n",
      "x4             0.2762      0.036      7.750      0.000       0.201       0.352\n",
      "x5            -0.2623      0.041     -6.385      0.000      -0.349      -0.175\n",
      "x6             0.0793      0.045      1.767      0.096      -0.016       0.174\n",
      "x7             0.4770      0.050      9.545      0.000       0.371       0.583\n",
      "x8            -0.2338      0.056     -4.198      0.001      -0.352      -0.116\n",
      "x9            -0.3317      0.066     -5.031      0.000      -0.471      -0.192\n",
      "x10           -0.0767      0.067     -1.142      0.270      -0.219       0.066\n",
      "x11           -0.2740      0.075     -3.642      0.002      -0.433      -0.114\n",
      "x12            0.3227      0.091      3.548      0.003       0.130       0.516\n",
      "x13           -0.1334      0.098     -1.357      0.194      -0.342       0.075\n",
      "x14           -0.1103      0.117     -0.942      0.360      -0.359       0.138\n",
      "x15            0.1945      0.120      1.615      0.126      -0.061       0.450\n",
      "x16           -0.1766      0.136     -1.301      0.212      -0.464       0.111\n",
      "x17           -0.1996      0.157     -1.270      0.222      -0.533       0.133\n",
      "x18            0.4956      0.199      2.493      0.024       0.074       0.917\n",
      "==============================================================================\n",
      "Omnibus:                        5.781   Durbin-Watson:                   1.797\n",
      "Prob(Omnibus):                  0.056   Jarque-Bera (JB):                7.286\n",
      "Skew:                           0.098   Prob(JB):                       0.0262\n",
      "Kurtosis:                       5.227   Cond. No.                         8.34\n",
      "==============================================================================\n",
      "\n",
      "Notes:\n",
      "[1] Standard Errors assume that the covariance matrix of the errors is correctly specified.\n",
      "Diagnostic Tests of Regression\n",
      ":{\"Non_Linearity_Test\": [[\"F value\", NaN], [\"p value\", NaN]], \"Hetroskedasticity_Test\": [[\"Lagrange multiplier statistic\", 8.404619320279537], [\"p-value\", 0.971984548596555], [\"f-value\", 0.28090489920431877], [\"f p-value\", 0.9943805336330582]], \"Residual_Normality_Test\": [[\"Jarque-Bera\", 7.286103157576697], [\"Chi^2 two-tail prob.\", 0.026172354978119053], [\"Skew\", 0.09845028030671409], [\"Kurtosis\", 5.226525362884606]], \"MultiCollnearity_Test\": [[\"condition no\", 8.344052352964543]], \"Residual_AutoCorrelation_Test\": [[\"p value\", 1.7966058778484462]]}\n"
     ]
    },
    {
     "data": {
      "image/png": "[encoded data removed]",
      "text/plain": [
       "<Figure size 432x288 with 1 Axes>"
      ]
     },
     "metadata": {
      "needs_background": "light"
     },
     "output_type": "display_data"
    },
    {
     "data": {
      "image/png": "[encoded data removed]",
      "text/plain": [
       "<Figure size 432x288 with 1 Axes>"
      ]
     },
     "metadata": {
      "needs_background": "light"
     },
     "output_type": "display_data"
    },
    {
     "data": {
      "image/png": "[encoded data removed]",
      "text/plain": [
       "<Figure size 432x288 with 1 Axes>"
      ]
     },
     "metadata": {
      "needs_background": "light"
     },
     "output_type": "display_data"
    },
    {
     "data": {
      "image/png": "[encoded data removed]",
      "text/plain": [
       "<Figure size 432x288 with 1 Axes>"
      ]
     },
     "metadata": {
      "needs_background": "light"
     },
     "output_type": "display_data"
    }
   ],
   "source": [
    "linear_plot = Plot.LinearRegressionResidualPlot(data_set_wConstant_ss_pca.values, data.y_train_ss_yj.values)\n",
    "lm = linear_plot.fit()\n",
    "summary, diag_res = linear_plot.diagnostic_plots(lm)\n",
    "print(\"Summary of Regression\\n:{}\".format(summary))\n",
    "print(\"Diagnostic Tests of Regression\\n:{}\".format(diag_res))\n"
   ]
  },
  {
   "cell_type": "code",
   "execution_count": null,
   "id": "092bba6f-73ac-4d83-bdc7-5ad9166e93a1",
   "metadata": {},
   "outputs": [],
   "source": []
  },
  {
   "cell_type": "code",
   "execution_count": 31,
   "id": "e69c5a83-5065-47e7-8549-d58f7ba3373d",
   "metadata": {},
   "outputs": [
    {
     "name": "stdout",
     "output_type": "stream",
     "text": [
      "Mean Absolute Error\n",
      "Poverty    2.366079\n",
      "dtype: float64\n"
     ]
    },
    {
     "data": {
      "image/png": "[encoded data removed]",
      "text/plain": [
       "<Figure size 360x360 with 1 Axes>"
      ]
     },
     "metadata": {
      "needs_background": "light"
     },
     "output_type": "display_data"
    }
   ],
   "source": [
    "#ols parse\n",
    "#uses ZCA\n",
    "y_train_predicted = data.y_train_ss_yj_t.inverse_transform(pd.DataFrame(results_parse.fittedvalues,columns=[target]))\n",
    "\n",
    "y_valid_ss_fitted_parse = data.y_train_ss_yj_t.inverse_transform(pd.DataFrame(results_parse.predict(sm.tools.tools.add_constant(data.zca.transform(data.X_valid_ss_yj_inter[ss_position_parse]), prepend=True, has_constant='skip')),index=data.X_valid_ss_yj_inter.index,columns=[target]))\n",
    "# summarize prediction\n",
    "print(\"Mean Absolute Error\")\n",
    "print(mean(absolute(data.y_valid-y_valid_ss_fitted_parse)))\n",
    "\n",
    "#temp = pd.concat([y_train_predicted,y_train_original],axis=1)\n",
    "temp = pd.concat([y_valid_ss_fitted_parse,data.y_valid],axis=1)\n",
    "temp.columns = ['Predicted','Actual']\n",
    "\n",
    "sns.lmplot(x=\"Predicted\",\n",
    "           y=\"Actual\", \n",
    "           ci=None,\n",
    "           data=temp);"
   ]
  },
  {
   "cell_type": "code",
   "execution_count": null,
   "id": "a30c2e01-ae08-4c0c-9414-2953628f88fc",
   "metadata": {},
   "outputs": [],
   "source": []
  },
  {
   "cell_type": "code",
   "execution_count": 32,
   "id": "1e536ba4-9b94-4399-b9db-6a7d60961d38",
   "metadata": {},
   "outputs": [
    {
     "name": "stdout",
     "output_type": "stream",
     "text": [
      "Mean Absolute Error\n",
      "Poverty    2.609777\n",
      "dtype: float64\n"
     ]
    },
    {
     "data": {
      "image/png": "[encoded data removed]",
      "text/plain": [
       "<Figure size 360x360 with 1 Axes>"
      ]
     },
     "metadata": {
      "needs_background": "light"
     },
     "output_type": "display_data"
    }
   ],
   "source": [
    "#ols best\n",
    "#uses PCA\n",
    "y_train_predicted = data.y_train_ss_yj_t.inverse_transform(pd.DataFrame(results_ss.fittedvalues,columns=[target]))\n",
    "\n",
    "y_valid_ss_fitted = data.y_train_ss_yj_t.inverse_transform(pd.DataFrame(results_ss.predict(sm.tools.tools.add_constant(data.pca_X_train.transform(data.X_valid_ss_yj_inter[ss_sortedFeatures]), prepend=True, has_constant='skip')),index=data.X_valid_ss_yj_inter.index,columns=[target]))\n",
    "# summarize prediction\n",
    "print(\"Mean Absolute Error\")\n",
    "print(mean(absolute(data.y_valid-y_valid_ss_fitted)))\n",
    "\n",
    "#temp = pd.concat([y_train_predicted,y_train_original],axis=1)\n",
    "temp = pd.concat([y_valid_ss_fitted,data.y_valid],axis=1)\n",
    "temp.columns = ['Predicted','Actual']\n",
    "\n",
    "sns.lmplot(x=\"Predicted\",\n",
    "           y=\"Actual\", \n",
    "           ci=None,\n",
    "           data=temp);"
   ]
  },
  {
   "cell_type": "code",
   "execution_count": null,
   "id": "0c40f454-536e-48d0-befb-c94e0fea7c11",
   "metadata": {},
   "outputs": [],
   "source": []
  },
  {
   "cell_type": "code",
   "execution_count": 33,
   "id": "63267407-888b-4530-b897-894d226190ae",
   "metadata": {},
   "outputs": [
    {
     "name": "stdout",
     "output_type": "stream",
     "text": [
      "Mean Absolute Error\n",
      "Poverty    2.96117\n",
      "dtype: float64\n"
     ]
    },
    {
     "data": {
      "image/png": "[encoded data removed]",
      "text/plain": [
       "<Figure size 360x360 with 1 Axes>"
      ]
     },
     "metadata": {
      "needs_background": "light"
     },
     "output_type": "display_data"
    }
   ],
   "source": [
    "#EN Best\n",
    "\n",
    "ENBestResults = model_eb.fit(data.X_train_ss_yj_inter[best['features']], data.y_train_ss_yj)\n",
    "\n",
    "ENBestFitted = pd.DataFrame(model_eb.predict(data.X_train_ss_yj_inter[best['features']]),index=data.X_train_ss_yj_inter.index, columns = [target])\n",
    "\n",
    "y_valid_eb_fitted = data.y_train_ss_yj_t.inverse_transform(pd.DataFrame(model_eb.predict(data.X_valid_ss_yj_inter[best['features']]),index=data.X_valid_ss_yj_inter.index,columns=[target]))\n",
    "\n",
    "# summarize prediction\n",
    "print(\"Mean Absolute Error\")\n",
    "print(mean(absolute(y_valid_eb_fitted-data.y_valid)))\n",
    "\n",
    "temp = pd.concat([y_valid_eb_fitted,data.y_valid],axis=1)\n",
    "temp.columns = ['Predicted','Actual']\n",
    "\n",
    "sns.lmplot(x=\"Predicted\",\n",
    "           y=\"Actual\", \n",
    "           ci=None,\n",
    "           data=temp);"
   ]
  },
  {
   "cell_type": "code",
   "execution_count": null,
   "id": "d4cfefc5-63c8-42f5-b9de-5058bcca48e5",
   "metadata": {},
   "outputs": [],
   "source": []
  },
  {
   "cell_type": "code",
   "execution_count": 34,
   "id": "4faf1af9-6e84-4f2e-807b-feac48b84bfb",
   "metadata": {},
   "outputs": [
    {
     "name": "stdout",
     "output_type": "stream",
     "text": [
      "Mean Absolute Error\n",
      "Poverty    2.44659\n",
      "dtype: float64\n"
     ]
    },
    {
     "data": {
      "image/png": "[encoded data removed]",
      "text/plain": [
       "<Figure size 360x360 with 1 Axes>"
      ]
     },
     "metadata": {
      "needs_background": "light"
     },
     "output_type": "display_data"
    }
   ],
   "source": [
    "#EN Parse\n",
    "\n",
    "ENParseResults = model_ep.fit(data.X_train_ss_yj_inter[parse['features']], data.y_train_ss_yj)\n",
    "\n",
    "ENParseFitted = pd.DataFrame(model_ep.predict(data.X_train_ss_yj_inter[parse['features']]),index=data.X_train_ss_yj_inter.index,columns=[target])\n",
    "\n",
    "y_valid_ep_fitted = data.y_train_ss_yj_t.inverse_transform(pd.DataFrame(model_ep.predict(data.X_valid_ss_yj_inter[parse['features']]),index=data.X_valid_ss_yj_inter.index,columns=[target]))\n",
    "\n",
    "# summarize prediction\n",
    "print(\"Mean Absolute Error\")\n",
    "print(mean(absolute(y_valid_ep_fitted-data.y_valid)))\n",
    "\n",
    "temp = pd.concat([y_valid_ep_fitted,data.y_valid],axis=1)\n",
    "temp.columns = ['Predicted','Actual']\n",
    "\n",
    "sns.lmplot(x=\"Predicted\",\n",
    "           y=\"Actual\", \n",
    "           ci=None,\n",
    "           data=temp);"
   ]
  },
  {
   "cell_type": "code",
   "execution_count": null,
   "id": "4daddcbf-634b-4a27-b7f0-137dcf37b4fd",
   "metadata": {},
   "outputs": [],
   "source": []
  },
  {
   "cell_type": "code",
   "execution_count": 35,
   "id": "2fc8d8ec-72ea-408e-936e-36f6dc07bc16",
   "metadata": {},
   "outputs": [
    {
     "name": "stdout",
     "output_type": "stream",
     "text": [
      "Mean MAE: 0.959 (0.430)\n",
      "Mean Absolute Error\n",
      "Poverty    2.584896\n",
      "dtype: float64\n"
     ]
    },
    {
     "data": {
      "image/png": "[encoded data removed]",
      "text/plain": [
       "<Figure size 360x360 with 1 Axes>"
      ]
     },
     "metadata": {
      "needs_background": "light"
     },
     "output_type": "display_data"
    }
   ],
   "source": [
    "#robust regression using ols best\n",
    "# define the model\n",
    "model_rr_ss = RANSACRegressor()\n",
    "# evaluate model\n",
    "#Rresults_ss = evaluate_model(X_train_ss_yj_inter[ss_sortedFeatures], y_train_ss_yj, model_rr_ss)\n",
    "Rresults_ss = evaluate_model(data.X_pca_train, data.y_train_ss_yj, model_rr_ss)\n",
    "\n",
    "print('Mean MAE: %.3f (%.3f)' % (mean(Rresults_ss), std(Rresults_ss)))\n",
    "# plot the line of best fit\n",
    "#Rresults_ss = model_rr_ss.fit(X_train_ss_yj_inter[ss_sortedFeatures],y_train_ss_yj)\n",
    "Rresults_ss = model_rr_ss.fit(data.X_pca_train,data.y_train_ss_yj)\n",
    "RFitted_ss = model_rr_ss.predict(data.pca_X_train.transform(data.X_train_ss_yj_inter[ss_sortedFeatures]))\n",
    "\n",
    "y_valid_rr_ss_fitted_best = data.y_train_ss_yj_t.inverse_transform(pd.DataFrame(model_rr_ss.predict(data.pca_X_train.transform(data.X_valid_ss_yj_inter[ss_sortedFeatures])),index=data.X_valid_ss_yj_inter.index,columns=[target]))\n",
    "\n",
    "# summarize prediction\n",
    "print(\"Mean Absolute Error\")\n",
    "print(mean(absolute(y_valid_rr_ss_fitted_best-data.y_valid)))\n",
    "\n",
    "temp = pd.concat([y_valid_rr_ss_fitted_best,data.y_valid],axis=1)\n",
    "temp.columns = ['Predicted','Actual']\n",
    "\n",
    "sns.lmplot(x=\"Predicted\",\n",
    "           y=\"Actual\", \n",
    "           ci=None,\n",
    "           data=temp);\n"
   ]
  },
  {
   "cell_type": "code",
   "execution_count": 36,
   "id": "afd241a3-3cd6-4d28-9bfa-619d8d28b9d9",
   "metadata": {},
   "outputs": [
    {
     "name": "stdout",
     "output_type": "stream",
     "text": [
      "Mean MAE: 0.277 (0.096)\n",
      "Mean Absolute Error\n",
      "Poverty    2.387328\n",
      "dtype: float64\n"
     ]
    },
    {
     "data": {
      "image/png": "[encoded data removed]",
      "text/plain": [
       "<Figure size 360x360 with 1 Axes>"
      ]
     },
     "metadata": {
      "needs_background": "light"
     },
     "output_type": "display_data"
    }
   ],
   "source": [
    "#robust regression using ols parse\n",
    "# define the model\n",
    "model_rr_ss = RANSACRegressor()\n",
    "# evaluate model\n",
    "#Rresults_ss = evaluate_model(X_train_ss_yj_inter[ss_sortedFeatures], y_train_ss_yj, model_rr_ss)\n",
    "Rresults_ss = evaluate_model(data_set_wConstant_parse_zca, data.y_train_ss_yj, model_rr_ss)\n",
    "\n",
    "print('Mean MAE: %.3f (%.3f)' % (mean(Rresults_ss), std(Rresults_ss)))\n",
    "# plot the line of best fit\n",
    "#Rresults_ss = model_rr_ss.fit(X_train_ss_yj_inter[ss_sortedFeatures],y_train_ss_yj)\n",
    "Rresults_ss = model_rr_ss.fit(data_set_wConstant_parse_zca,data.y_train_ss_yj)\n",
    "#RFitted_ss = model_rr_ss.predict(data_set_wConstant_parse_zca)\n",
    "\n",
    "y_valid_rr_ss_fitted_parse = data.y_train_ss_yj_t.inverse_transform(pd.DataFrame(Rresults_ss.predict(sm.tools.tools.add_constant(data.zca.transform(data.X_valid_ss_yj_inter[ss_position_parse]), prepend=True, has_constant='skip')),index=data.X_valid_ss_yj_inter.index,columns=[target]))\n",
    "\n",
    "# summarize prediction\n",
    "print(\"Mean Absolute Error\")\n",
    "print(mean(absolute(y_valid_rr_ss_fitted_parse-data.y_valid)))\n",
    "\n",
    "temp = pd.concat([y_valid_rr_ss_fitted_parse,data.y_valid],axis=1)\n",
    "temp.columns = ['Predicted','Actual']\n",
    "\n",
    "sns.lmplot(x=\"Predicted\",\n",
    "           y=\"Actual\", \n",
    "           ci=None,\n",
    "           data=temp);\n"
   ]
  },
  {
   "cell_type": "code",
   "execution_count": 37,
   "id": "fa2cb939-c1db-4e94-9691-d4ccfd57afb2",
   "metadata": {},
   "outputs": [
    {
     "name": "stdout",
     "output_type": "stream",
     "text": [
      "Mean MAE: 0.194 (0.073)\n",
      "Mean Absolute Error\n",
      "Poverty    2.984681\n",
      "dtype: float64\n"
     ]
    },
    {
     "data": {
      "image/png": "[encoded data removed]",
      "text/plain": [
       "<Figure size 360x360 with 1 Axes>"
      ]
     },
     "metadata": {
      "needs_background": "light"
     },
     "output_type": "display_data"
    }
   ],
   "source": [
    "#robust regression using EN best\n",
    "# define the model\n",
    "model_rr_best = RANSACRegressor()\n",
    "# evaluate model\n",
    "Rresults_best = evaluate_model(data.X_train_ss_yj_inter[best['features']], data.y_train_ss_yj, model_rr_best)\n",
    "print('Mean MAE: %.3f (%.3f)' % (mean(Rresults_best), std(Rresults_best)))\n",
    "# plot the line of best fit\n",
    "Rresults_best = model_rr_best.fit(data.X_train_ss_yj_inter[best['features']],data.y_train_ss_yj)\n",
    "RFitted_best = model_rr_best.predict(data.X_train_ss_yj_inter[best['features']])\n",
    "\n",
    "y_valid_rr_en_best_fitted = data.y_train_ss_yj_t.inverse_transform(pd.DataFrame(model_rr_best.predict(data.X_valid_ss_yj_inter[best['features']]),index=data.X_valid_ss_yj_inter.index,columns=[target]))\n",
    "# summarize prediction\n",
    "print(\"Mean Absolute Error\")\n",
    "print(mean(absolute(y_valid_rr_en_best_fitted-data.y_valid)))\n",
    "\n",
    "temp = pd.concat([y_valid_rr_en_best_fitted,data.y_valid],axis=1)\n",
    "temp.columns = ['Predicted','Actual']\n",
    "\n",
    "sns.lmplot(x=\"Predicted\",\n",
    "           y=\"Actual\", \n",
    "           ci=None,\n",
    "           data=temp);"
   ]
  },
  {
   "cell_type": "code",
   "execution_count": 38,
   "id": "5af8bfec-c01e-4442-b086-a529e5e3a29d",
   "metadata": {},
   "outputs": [
    {
     "name": "stdout",
     "output_type": "stream",
     "text": [
      "Mean MAE: 0.177 (0.108)\n",
      "Mean Absolute Error\n",
      "Poverty    2.483838\n",
      "dtype: float64\n"
     ]
    },
    {
     "data": {
      "image/png": "[encoded data removed]",
      "text/plain": [
       "<Figure size 360x360 with 1 Axes>"
      ]
     },
     "metadata": {
      "needs_background": "light"
     },
     "output_type": "display_data"
    }
   ],
   "source": [
    "#robust regression using EN parse\n",
    "# define the model\n",
    "model_rr_parse = RANSACRegressor()\n",
    "# evaluate model\n",
    "Rresults_parse = evaluate_model(data.X_train_ss_yj_inter[best['features']], data.y_train_ss_yj, model_rr_parse)\n",
    "print('Mean MAE: %.3f (%.3f)' % (mean(Rresults_parse), std(Rresults_parse)))\n",
    "# plot the line of best fit\n",
    "Rresults_parse = model_rr_parse.fit(data.X_train_ss_yj_inter[parse['features']],data.y_train_ss_yj)\n",
    "RFitted_parse = model_rr_parse.predict(data.X_train_ss_yj_inter[parse['features']])\n",
    "\n",
    "y_valid_rr_en_parse_fitted = data.y_train_ss_yj_t.inverse_transform(pd.DataFrame(Rresults_parse.predict(data.X_valid_ss_yj_inter[parse['features']]),index=data.X_valid_ss_yj_inter.index,columns=[target]))\n",
    "\n",
    "# summarize prediction\n",
    "print(\"Mean Absolute Error\")\n",
    "print(mean(absolute(y_valid_rr_en_parse_fitted-data.y_valid)))\n",
    "\n",
    "temp = pd.concat([y_valid_rr_en_parse_fitted,data.y_valid],axis=1)\n",
    "temp.columns = ['Predicted','Actual']\n",
    "\n",
    "sns.lmplot(x=\"Predicted\",\n",
    "           y=\"Actual\", \n",
    "           ci=None,\n",
    "           data=temp);"
   ]
  },
  {
   "cell_type": "code",
   "execution_count": null,
   "id": "963a1486-2f27-4838-ad10-9651c7eeb283",
   "metadata": {},
   "outputs": [],
   "source": []
  },
  {
   "cell_type": "code",
   "execution_count": null,
   "id": "9a18a2e1-15f2-42ed-8f69-3e71b3b31049",
   "metadata": {},
   "outputs": [],
   "source": []
  },
  {
   "cell_type": "code",
   "execution_count": null,
   "id": "9da3a220-4873-44ec-ba27-d6a7327c7122",
   "metadata": {},
   "outputs": [],
   "source": []
  },
  {
   "cell_type": "code",
   "execution_count": null,
   "id": "39fb822c-ae56-4bd5-9c66-bf1828539c24",
   "metadata": {},
   "outputs": [],
   "source": []
  },
  {
   "cell_type": "code",
   "execution_count": 39,
   "id": "15cd2249-4553-4c65-804d-12cee40b2724",
   "metadata": {},
   "outputs": [
    {
     "name": "stdout",
     "output_type": "stream",
     "text": [
      "OLS SS: Poverty    2.609777\n",
      "dtype: float64\n",
      "OLS parse: Poverty    2.366079\n",
      "dtype: float64\n",
      "EN best: Poverty    2.96117\n",
      "dtype: float64\n",
      "EN parse: Poverty    2.44659\n",
      "dtype: float64\n",
      "RR SS-best: Poverty    2.584896\n",
      "dtype: float64\n",
      "RR SS-parse: Poverty    2.387328\n",
      "dtype: float64\n",
      "RR best: Poverty    2.984681\n",
      "dtype: float64\n",
      "RR parse: Poverty    2.483838\n",
      "dtype: float64\n"
     ]
    }
   ],
   "source": [
    "print(\"OLS SS: \" + str(mean(absolute(np.array(data.y_valid)-y_valid_ss_fitted))))\n",
    "print(\"OLS parse: \" + str(mean(absolute(np.array(data.y_valid)-y_valid_ss_fitted_parse))))\n",
    "\n",
    "print(\"EN best: \" + str(mean(absolute(np.array(data.y_valid)-y_valid_eb_fitted))))\n",
    "print(\"EN parse: \" + str(mean(absolute(np.array(data.y_valid)-y_valid_ep_fitted))))\n",
    "\n",
    "print(\"RR SS-best: \" + str(mean(absolute(np.array(data.y_valid)-y_valid_rr_ss_fitted_best))))\n",
    "print(\"RR SS-parse: \" + str(mean(absolute(np.array(data.y_valid)-y_valid_rr_ss_fitted_parse))))\n",
    "\n",
    "print(\"RR best: \" + str(mean(absolute(np.array(data.y_valid)-y_valid_rr_en_best_fitted))))\n",
    "print(\"RR parse: \" + str(mean(absolute(np.array(data.y_valid)-y_valid_rr_en_parse_fitted))))"
   ]
  },
  {
   "cell_type": "code",
   "execution_count": 40,
   "id": "b009b13b-3c4f-4da1-9da3-f930274146a3",
   "metadata": {},
   "outputs": [],
   "source": [
    "#print(\"RR parse: \" + str(mean(absolute(np.array(y)-RFitted_parse_all))))\n",
    "#print(\"RR ss: \" + str(mean(absolute(np.array(y)-RFitted_ss_all))))"
   ]
  },
  {
   "cell_type": "code",
   "execution_count": null,
   "id": "39ee1db2-3d73-4389-afd2-803d42c28719",
   "metadata": {},
   "outputs": [],
   "source": []
  }
 ],
 "metadata": {
  "kernelspec": {
   "display_name": "Python 3 (ipykernel)",
   "language": "python",
   "name": "python3"
  },
  "language_info": {
   "codemirror_mode": {
    "name": "ipython",
    "version": 3
   },
   "file_extension": ".py",
   "mimetype": "text/x-python",
   "name": "python",
   "nbconvert_exporter": "python",
   "pygments_lexer": "ipython3",
   "version": "3.9.6"
  }
 },
 "nbformat": 4,
 "nbformat_minor": 5
}
