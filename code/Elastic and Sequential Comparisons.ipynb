{
 "cells": [
  {
   "cell_type": "code",
   "execution_count": null,
   "id": "3ed6d235-1e58-4000-9e03-cb31972b05ed",
   "metadata": {},
   "outputs": [],
   "source": [
    "from OLS_LR_DiagnosticPlots.ModelDiagnostics import Plot\n",
    "from matplotlib import pyplot\n",
    "from mlxtend.feature_selection import SequentialFeatureSelector as sfbs\n",
    "from mlxtend.plotting import plot_sequential_feature_selection as plot_sfbs\n",
    "from numpy import *\n",
    "from numpy import absolute\n",
    "from numpy import arange\n",
    "from numpy import mean\n",
    "from numpy import std\n",
    "from numpy.random import seed\n",
    "from pandas import read_csv\n",
    "from random import randint\n",
    "from random import random\n",
    "from random import seed\n",
    "from scipy import stats # For in-built method to get PCC\n",
    "from sklearn import linear_model\n",
    "from sklearn.datasets import load_boston\n",
    "from sklearn.datasets import make_regression\n",
    "from sklearn.decomposition import PCA\n",
    "from sklearn.ensemble import RandomForestRegressor, IsolationForest\n",
    "from sklearn.linear_model import ElasticNet, ElasticNetCV, LinearRegression\n",
    "from sklearn.linear_model import RANSACRegressor\n",
    "from sklearn.metrics import accuracy_score as acc\n",
    "from sklearn.metrics import mean_squared_error\n",
    "from sklearn.model_selection import GridSearchCV, KFold, cross_val_score, RepeatedKFold, train_test_split\n",
    "from sklearn.pipeline import Pipeline\n",
    "from sklearn.preprocessing import StandardScaler, PowerTransformer\n",
    "from statsmodels.stats.outliers_influence import OLSInfluence\n",
    "from tqdm import tnrange, tqdm_notebook\n",
    "from zca import zca\n",
    "import itertools\n",
    "import matplotlib.pyplot as plt\n",
    "import mlxtend\n",
    "import numpy as np\n",
    "import pandas as pd\n",
    "import pingouin as pg\n",
    "import scipy\n",
    "import seaborn as sns\n",
    "import sklearn.linear_model\n",
    "import statsmodels.api as sm\n",
    "import statsmodels.tools\n",
    "import sys\n",
    "\n",
    "if not sys.warnoptions:\n",
    "    import warnings\n",
    "    warnings.simplefilter(\"ignore\")\n",
    "#import random\n",
    "\n",
    "y_train_scaler = StandardScaler()\n",
    "x_train_inter_scaler = StandardScaler()\n",
    "zca = zca.ZCA()"
   ]
  },
  {
   "cell_type": "code",
   "execution_count": null,
   "id": "51a7b502-6081-4f42-98b0-a505ff859b0b",
   "metadata": {},
   "outputs": [],
   "source": []
  },
  {
   "cell_type": "code",
   "execution_count": null,
   "id": "18febc60-48ed-4990-854b-815d3719435f",
   "metadata": {},
   "outputs": [],
   "source": [
    "numCV = 5\n",
    "kfold = KFold(n_splits=numCV, shuffle=True)\n",
    "p_threshold = .05\n",
    "divisor = .2\n",
    "target = 'Poverty'\n",
    "exclude = 'States'\n",
    "\n",
    "cv = RepeatedKFold(n_splits=numCV, n_repeats=1, random_state=1)\n",
    "\n",
    "alphas = [1e-5, 1e-4, 1e-3, 1e-2, 1e-1, 0.0, 1.0, 10.0, 100.0]\n",
    "l1s = arange(0, 1, 0.01/divisor)\n",
    "\n",
    "seed_ = 3\n",
    "\n",
    "#random.seed(11)\n",
    "\n",
    "seed(seed_)"
   ]
  },
  {
   "cell_type": "code",
   "execution_count": null,
   "id": "c4aff39a-9f86-4631-92f3-b76fd406ff04",
   "metadata": {},
   "outputs": [],
   "source": [
    "# evaluate a model\n",
    "def evaluate_model(X, y, model):\n",
    "\t# define model evaluation method\n",
    "\tcv = RepeatedKFold(n_splits=numCV, n_repeats=1, random_state=1)\n",
    "\t# evaluate model\n",
    "\tscores = cross_val_score(model, X, y, scoring='neg_mean_absolute_error', cv=cv, n_jobs=-1)\n",
    "\t# force scores to be positive\n",
    "\treturn absolute(scores)\n",
    "\n",
    "# plot the dataset and the model's line of best fit\n",
    "def plot_best_fit(X, y, model):\n",
    "\t# fut the model on all data\n",
    "\tmodel.fit(X, y)\n",
    "\t# plot the dataset\n",
    "\tpyplot.scatter(X, y)\n",
    "\t# plot the line of best fit\n",
    "\txaxis = arange(X.min(), X.max(), 0.01)\n",
    "\tyaxis = model.predict(xaxis.reshape((len(xaxis), 1)))\n",
    "\tpyplot.plot(xaxis, yaxis, color='r')\n",
    "\t# show the plot\n",
    "\tpyplot.title(type(model).__name__)\n",
    "\tpyplot.show()"
   ]
  },
  {
   "cell_type": "code",
   "execution_count": null,
   "id": "2e025827-a163-4dbd-a95c-1b8f922a438c",
   "metadata": {},
   "outputs": [],
   "source": [
    "all_data = pd.read_csv('../data/raw/states.csv')"
   ]
  },
  {
   "cell_type": "code",
   "execution_count": null,
   "id": "d4589f6d-16d2-4f3c-90e4-a0205154cea1",
   "metadata": {},
   "outputs": [],
   "source": [
    "\n",
    "train, valid = train_test_split(all_data.index, test_size=0.3, shuffle=True)\n",
    "valid, test = train_test_split(valid,  test_size=0.5, shuffle=True)\n",
    "\n",
    "X = all_data[set(all_data.columns).difference([target,exclude])].copy()\n",
    "y = pd.DataFrame(all_data[target].copy())\n",
    "\n",
    "X_train = X.loc[train].copy()\n",
    "X_valid = X.loc[valid].copy()\n",
    "X_test = X.loc[test].copy()\n",
    "\n",
    "y_train = y.loc[X_train.index][[target]].copy()\n",
    "y_valid = y.loc[X_valid.index][[target]].copy()\n",
    "y_test = y.loc[X_test.index][[target]].copy()\n",
    "\n",
    "y_train_scaler.fit(np.array(y_train).reshape(-1, 1))\n",
    "pt_y_train = pd.DataFrame(y_train_scaler.transform(np.array(y_train).reshape(-1, 1)))\n",
    "pt_y_train.index = y_train.index\n",
    "pt_y_train.columns = [target]\n",
    "#pd.DataFrame([i[0] for i in scaler.transform(np.array(y_train).reshape(-1, 1))])"
   ]
  },
  {
   "cell_type": "code",
   "execution_count": null,
   "id": "97d51275-0faf-440b-a184-58ce92fa2baa",
   "metadata": {},
   "outputs": [],
   "source": []
  },
  {
   "cell_type": "code",
   "execution_count": null,
   "id": "f4d6373b-c955-4145-8d19-9237c3ba061a",
   "metadata": {},
   "outputs": [],
   "source": []
  },
  {
   "cell_type": "code",
   "execution_count": null,
   "id": "72b48cda-f3fd-4b15-8877-04a2350cd84b",
   "metadata": {},
   "outputs": [],
   "source": [
    "ss_X_train = StandardScaler()\n",
    "ss_X_train_scale_fit = ss_X_train.fit(X_train)\n",
    "ss_X_train_fit = ss_X_train_scale_fit.transform(X_train)\n",
    "print(ss_X_train_scale_fit.scale_)\n",
    "print(ss_X_train_scale_fit.mean_)\n",
    "\n",
    "pt = PowerTransformer(standardize=False)\n",
    "pt_X_train_fit = pt.fit(ss_X_train_fit)\n",
    "print(pt_X_train_fit.lambdas_)\n",
    "pt_X_train = pd.DataFrame(pt_X_train_fit.transform(ss_X_train_fit),index=X_train.index,columns=X_train.columns)\n",
    "#inverse\n",
    "#pd.DataFrame(ss_X_train_fit.inverse_transform(pt_X_train_fit.inverse_transform(pt_X_train)),index=X_train.index,columns=X_train.columns)\n"
   ]
  },
  {
   "cell_type": "code",
   "execution_count": null,
   "id": "1cc46005-a5b3-4017-822b-024160f7d7b6",
   "metadata": {},
   "outputs": [],
   "source": [
    "ss_y_train = StandardScaler()\n",
    "ss_y_train_scale_fit = ss_y_train.fit(y_train)\n",
    "ss_y_train_fit = ss_y_train_scale_fit.transform(y_train)\n",
    "print(ss_y_train_scale_fit.scale_)\n",
    "print(ss_y_train_scale_fit.mean_)\n",
    "\n",
    "pt = PowerTransformer(standardize=False)\n",
    "pt_y_train_fit = pt.fit(ss_y_train_fit)\n",
    "print(pt_y_train_fit.lambdas_)\n",
    "pt_y_train = pd.DataFrame(pt_y_train_fit.transform(ss_y_train_fit),index=y_train.index,columns=y_train.columns)\n",
    "#inverse\n",
    "#pd.DataFrame(ss_y_train_fit.inverse_transform(pt_y_train_fit.inverse_transform(pt_y_train)),index=y_train.index,columns=y_train.columns)\n"
   ]
  },
  {
   "cell_type": "code",
   "execution_count": null,
   "id": "4ffd40fd-7be4-4891-8991-776fdf5f1d81",
   "metadata": {},
   "outputs": [],
   "source": []
  },
  {
   "cell_type": "code",
   "execution_count": null,
   "id": "edb6a170-66ae-4476-8881-c2ef5d7dde46",
   "metadata": {},
   "outputs": [],
   "source": []
  },
  {
   "cell_type": "code",
   "execution_count": null,
   "id": "73bf8d7b-287c-412f-9d07-222933e6d0f0",
   "metadata": {},
   "outputs": [],
   "source": [
    "import sklearn\n",
    "from sklearn.preprocessing import *\n",
    "\n",
    "interaction = PolynomialFeatures(degree=2, include_bias=False, interaction_only=False)\n",
    "\n",
    "x_train_inter = pd.DataFrame(interaction.fit_transform(pt_X_train),index=pt_X_train.index,columns=interaction.get_feature_names(input_features=pt_X_train.columns))"
   ]
  },
  {
   "cell_type": "code",
   "execution_count": null,
   "id": "d9130aed-2778-4682-b57c-b93cb7d9c455",
   "metadata": {},
   "outputs": [],
   "source": []
  },
  {
   "cell_type": "code",
   "execution_count": null,
   "id": "e705334a-0bc8-4cd8-a072-21e45352112f",
   "metadata": {},
   "outputs": [],
   "source": [
    "lr = LinearRegression()\n",
    "\n",
    "#backwards step subset\n",
    "sfbs1 = sfbs(lr, \n",
    "          k_features=len(x_train_inter.columns), \n",
    "          #forward=True, \n",
    "          floating=True, \n",
    "          scoring='neg_mean_squared_error',\n",
    "          #scoring='accuracy',\n",
    "          n_jobs=-1,\n",
    "          cv=numCV)\n",
    "            \n",
    "sfbs1 = sfbs1.fit(x_train_inter, pt_y_train)\n"
   ]
  },
  {
   "cell_type": "code",
   "execution_count": null,
   "id": "00122287-7af4-4dc7-9ef1-8da80d9e1654",
   "metadata": {},
   "outputs": [],
   "source": [
    "fig = plot_sfbs(sfbs1.get_metric_dict(), kind='std_err')\n",
    "\n",
    "plt.title('Sequential Backward Selection (w. StdErr)')\n",
    "plt.grid()\n",
    "plt.show()"
   ]
  },
  {
   "cell_type": "code",
   "execution_count": null,
   "id": "2f8adffa-d8c6-4456-8e9d-365303652a60",
   "metadata": {},
   "outputs": [],
   "source": [
    "features = list(pd.DataFrame(sfbs1.subsets_).loc['feature_names'].values)"
   ]
  },
  {
   "cell_type": "code",
   "execution_count": null,
   "id": "509c273e-fff7-4175-ab9c-f179cde6097f",
   "metadata": {},
   "outputs": [],
   "source": [
    "ss_position = np.array(pd.DataFrame(pd.DataFrame(sfbs1.subsets_)).loc['avg_score']).argmax()"
   ]
  },
  {
   "cell_type": "code",
   "execution_count": null,
   "id": "56cd1c0d-ca4a-41cf-b0a7-fc602d04830f",
   "metadata": {},
   "outputs": [],
   "source": []
  },
  {
   "cell_type": "code",
   "execution_count": null,
   "id": "dd6008d8-8d22-4cf4-b07c-8520837d7437",
   "metadata": {},
   "outputs": [],
   "source": [
    "pd.DataFrame(sfbs1.subsets_).T[['avg_score','feature_names']]"
   ]
  },
  {
   "cell_type": "code",
   "execution_count": null,
   "id": "f9a4d556-12c4-4629-b11c-183b265ae900",
   "metadata": {},
   "outputs": [],
   "source": [
    "ss_sortedFeatures = list(np.array(pd.DataFrame(sfbs1.subsets_).loc['feature_names'])[ss_position])"
   ]
  },
  {
   "cell_type": "code",
   "execution_count": 109,
   "id": "aab1443d-30ff-4901-bf3b-1dcda563c2c3",
   "metadata": {},
   "outputs": [
    {
     "name": "stdout",
     "output_type": "stream",
     "text": [
      "['Doctors', 'Infant Mort', 'White', 'University', 'Income', 'Unemployed', 'Population', 'Crime', 'Traf Deaths', 'Doctors^2', 'Doctors Income', 'Doctors Unemployed', 'Infant Mort^2', 'Infant Mort Income', 'Infant Mort Population', 'Infant Mort Crime', 'Infant Mort Traf Deaths', 'White Income', 'White Crime', 'University^2', 'University Income', 'University Unemployed', 'University Population', 'University Crime', 'Income^2', 'Income Population', 'Income Traf Deaths', 'Unemployed^2', 'Unemployed Crime', 'Unemployed Traf Deaths', 'Population Crime', 'Crime^2']\n"
     ]
    }
   ],
   "source": []
  },
  {
   "cell_type": "code",
   "execution_count": null,
   "id": "a97c5277-0a75-4520-b715-1c0117fc17d7",
   "metadata": {},
   "outputs": [],
   "source": [
    "CV_results = pd.DataFrame()#[]#np.zeros(shape=(len(features),5))\n",
    "\n",
    "#looping over sequentially selected features, deriving ElasticNet hyper parm's over each best subset and noting error\n",
    "\n",
    "for f in features:\n",
    "\n",
    "    print(f)\n",
    "    cv = RepeatedKFold(n_splits=numCV, n_repeats=1, random_state=1)\n",
    "\n",
    "    EN_CV = ElasticNetCV(l1_ratio=l1s, alphas=alphas, cv=cv, n_jobs=-1)\n",
    "    # fit model\n",
    "\n",
    "    X_subset = pd.DataFrame(x_train_inter[list(np.asarray(f))])\n",
    "    y_ = pt_y_train\n",
    "    EN_CV.fit(X_subset, y_)\n",
    "    \n",
    "    print('alpha: %f' % EN_CV.alpha_)\n",
    "    print('l1_ratio_: %f' % EN_CV.l1_ratio_)\n",
    "    \n",
    "    # evaluate model\n",
    "    scores = cross_val_score(EN_CV, X_subset, y_, scoring='neg_mean_absolute_error', cv=cv, n_jobs=-1)\n",
    "    # force scores to be positive\n",
    "    scores = absolute(scores)\n",
    "    print('Mean MAE: %.3f (%.3f)' % (mean(scores), std(scores)))\n",
    "    \n",
    "    temp = pd.concat([pd.DataFrame({\"features\": [np.array(f)]}),pd.DataFrame(np.array(mean(scores)).reshape(-1,1)),pd.DataFrame(np.array(std(scores)).reshape(-1,1)),pd.DataFrame(np.array(EN_CV.alpha_).reshape(-1,1)),pd.DataFrame(np.array(EN_CV.l1_ratio_).reshape(-1,1))],axis=1)\n",
    "    \n",
    "    CV_results = pd.concat([CV_results,temp],axis=0)"
   ]
  },
  {
   "cell_type": "markdown",
   "id": "f2b875af-fe99-411e-963e-cc0737abd4e5",
   "metadata": {},
   "source": []
  },
  {
   "cell_type": "code",
   "execution_count": null,
   "id": "7ceba4c0-ec5a-4e90-b8fd-8ece185b512f",
   "metadata": {},
   "outputs": [],
   "source": [
    "CV_results.columns = ['features','mean error','std','alpha','lambda']\n",
    "CV_results.index = np.array(range(0,len(features)))#range(1,len(features)+1)\n",
    "plt.plot(CV_results['mean error'])\n",
    "plt.show()\n",
    "\n",
    "best = CV_results.iloc[CV_results['mean error'].idxmin()]\n",
    "print(best.loc['features'])\n",
    "\n",
    "parse = CV_results[CV_results['mean error']<=(np.min(CV_results['mean error'])+np.std(CV_results['mean error']))].iloc[0]\n",
    "print(parse.loc['features'])\n",
    "display(CV_results)"
   ]
  },
  {
   "cell_type": "code",
   "execution_count": null,
   "id": "b03064fb-f90a-48b7-913c-268ecdfc11a0",
   "metadata": {},
   "outputs": [],
   "source": []
  },
  {
   "cell_type": "code",
   "execution_count": null,
   "id": "b60e892f-8633-4602-9dc0-7dc2cc8d0f1b",
   "metadata": {},
   "outputs": [],
   "source": [
    "ss_sortedFeatures"
   ]
  },
  {
   "cell_type": "code",
   "execution_count": null,
   "id": "228b1f79-2c3d-42d2-9edd-8cabce43921b",
   "metadata": {},
   "outputs": [],
   "source": [
    "model_ss = LinearRegression()\n",
    "model_ep = ElasticNet(alpha=parse['alpha'], l1_ratio=parse['lambda'])\n",
    "model_eb = ElasticNet(alpha=best['alpha'], l1_ratio=best['lambda'])\n",
    "\n",
    "model_ss.fit(x_train_inter[ss_sortedFeatures], pt_y_train)\n",
    "model_ep.fit(x_train_inter[parse['features']],pt_y_train)\n",
    "model_eb.fit(x_train_inter[best['features']],pt_y_train)"
   ]
  },
  {
   "cell_type": "code",
   "execution_count": 103,
   "id": "68a21731-16c3-48d5-9add-b20d766a9496",
   "metadata": {},
   "outputs": [
    {
     "data": {
      "text/plain": [
       "Int64Index([39, 38, 49, 10, 36, 32, 45, 28, 41, 37,  5, 30, 22,  3, 31, 17, 18,\n",
       "            23, 13,  6, 21, 33, 11, 44, 40,  2, 12, 43,  0, 15, 48,  7, 26,  9,\n",
       "            27],\n",
       "           dtype='int64')"
      ]
     },
     "execution_count": 103,
     "metadata": {},
     "output_type": "execute_result"
    }
   ],
   "source": []
  },
  {
   "cell_type": "code",
   "execution_count": null,
   "id": "d1c2462d-0b37-470c-983c-a47ca192f708",
   "metadata": {},
   "outputs": [],
   "source": [
    "zca_X_train = pd.DataFrame(zca.fit_transform(x_train_inter[ss_sortedFeatures]),columns=ss_sortedFeatures)\n",
    "zca_X_train.index = x_train_inter.index\n",
    "zca_data = pd.concat([pt_y_train,zca_X_train],axis=1)\n",
    "zca_data.index = x_train_inter.index"
   ]
  },
  {
   "cell_type": "code",
   "execution_count": 113,
   "id": "fc1f4582-4078-4810-8b48-48d88a2a6909",
   "metadata": {},
   "outputs": [],
   "source": [
    "pca_X_train = PCA(n_components=0.99, svd_solver='full')\n",
    "pca_X_train.fit(x_train_inter[ss_sortedFeatures])\n",
    "X_pca_train = pd.DataFrame(pca_X_train.transform(x_train_inter[ss_sortedFeatures]),index = x_train_inter.index)"
   ]
  },
  {
   "cell_type": "code",
   "execution_count": null,
   "id": "52687dd7-c69e-4d1b-865e-fdb78059fa44",
   "metadata": {},
   "outputs": [],
   "source": [
    "#zca_data.pcorr()"
   ]
  },
  {
   "cell_type": "code",
   "execution_count": null,
   "id": "827aace5-3f19-4a70-be6d-499f6261ebbb",
   "metadata": {},
   "outputs": [],
   "source": [
    "#sns.pairplot(zca_data,kind=\"reg\", plot_kws={'line_kws':{'color':'red'}})"
   ]
  },
  {
   "cell_type": "code",
   "execution_count": 118,
   "id": "2f603d6e-36ba-4da7-a22d-efd82f43f1df",
   "metadata": {},
   "outputs": [
    {
     "data": {
      "text/plain": [
       "array([0.26719941, 0.42068284, 0.52996412, 0.61538691, 0.67459507,\n",
       "       0.73119043, 0.77720138, 0.81934875, 0.85606742, 0.88865847,\n",
       "       0.91201212, 0.93414488, 0.94937923, 0.96086772, 0.96852244,\n",
       "       0.9747498 , 0.97987134, 0.98458047, 0.98853269, 0.99135822])"
      ]
     },
     "execution_count": 118,
     "metadata": {},
     "output_type": "execute_result"
    }
   ],
   "source": [
    "pca_X_train.explained_variance_ratio_.cumsum()"
   ]
  },
  {
   "cell_type": "code",
   "execution_count": 119,
   "id": "cc4c7623-6a5f-4819-bdab-793bbaa08bbc",
   "metadata": {},
   "outputs": [
    {
     "data": {
      "text/plain": [
       "32"
      ]
     },
     "execution_count": 119,
     "metadata": {},
     "output_type": "execute_result"
    }
   ],
   "source": [
    "len(ss_sortedFeatures)"
   ]
  },
  {
   "cell_type": "code",
   "execution_count": null,
   "id": "37eb6479-5110-48d7-bc8b-04110de77d5c",
   "metadata": {},
   "outputs": [],
   "source": [
    "print(ss_sortedFeatures)"
   ]
  },
  {
   "cell_type": "code",
   "execution_count": 106,
   "id": "7fea8437-cd06-446a-a7ca-7af65761c876",
   "metadata": {},
   "outputs": [
    {
     "data": {
      "text/html": [
       "<table class=\"simpletable\">\n",
       "<caption>OLS Regression Results</caption>\n",
       "<tr>\n",
       "  <th>Dep. Variable:</th>         <td>Poverty</td>     <th>  R-squared:         </th> <td>   0.938</td>\n",
       "</tr>\n",
       "<tr>\n",
       "  <th>Model:</th>                   <td>OLS</td>       <th>  Adj. R-squared:    </th> <td>   0.850</td>\n",
       "</tr>\n",
       "<tr>\n",
       "  <th>Method:</th>             <td>Least Squares</td>  <th>  F-statistic:       </th> <td>   10.65</td>\n",
       "</tr>\n",
       "<tr>\n",
       "  <th>Date:</th>             <td>Thu, 19 Aug 2021</td> <th>  Prob (F-statistic):</th> <td>2.37e-05</td>\n",
       "</tr>\n",
       "<tr>\n",
       "  <th>Time:</th>                 <td>19:16:08</td>     <th>  Log-Likelihood:    </th> <td> 0.43558</td>\n",
       "</tr>\n",
       "<tr>\n",
       "  <th>No. Observations:</th>      <td>    35</td>      <th>  AIC:               </th> <td>   41.13</td>\n",
       "</tr>\n",
       "<tr>\n",
       "  <th>Df Residuals:</th>          <td>    14</td>      <th>  BIC:               </th> <td>   73.79</td>\n",
       "</tr>\n",
       "<tr>\n",
       "  <th>Df Model:</th>              <td>    20</td>      <th>                     </th>     <td> </td>   \n",
       "</tr>\n",
       "<tr>\n",
       "  <th>Covariance Type:</th>      <td>nonrobust</td>    <th>                     </th>     <td> </td>   \n",
       "</tr>\n",
       "</table>\n",
       "<table class=\"simpletable\">\n",
       "<tr>\n",
       "    <td></td>       <th>coef</th>     <th>std err</th>      <th>t</th>      <th>P>|t|</th>  <th>[0.025</th>    <th>0.975]</th>  \n",
       "</tr>\n",
       "<tr>\n",
       "  <th>const</th> <td>   -0.1539</td> <td>    0.064</td> <td>   -2.410</td> <td> 0.030</td> <td>   -0.291</td> <td>   -0.017</td>\n",
       "</tr>\n",
       "<tr>\n",
       "  <th>0</th>     <td>    0.1628</td> <td>    0.023</td> <td>    7.197</td> <td> 0.000</td> <td>    0.114</td> <td>    0.211</td>\n",
       "</tr>\n",
       "<tr>\n",
       "  <th>1</th>     <td>   -0.2412</td> <td>    0.030</td> <td>   -8.082</td> <td> 0.000</td> <td>   -0.305</td> <td>   -0.177</td>\n",
       "</tr>\n",
       "<tr>\n",
       "  <th>2</th>     <td>    0.1354</td> <td>    0.035</td> <td>    3.829</td> <td> 0.002</td> <td>    0.060</td> <td>    0.211</td>\n",
       "</tr>\n",
       "<tr>\n",
       "  <th>3</th>     <td>   -0.0091</td> <td>    0.040</td> <td>   -0.227</td> <td> 0.824</td> <td>   -0.095</td> <td>    0.077</td>\n",
       "</tr>\n",
       "<tr>\n",
       "  <th>4</th>     <td>   -0.2849</td> <td>    0.048</td> <td>   -5.929</td> <td> 0.000</td> <td>   -0.388</td> <td>   -0.182</td>\n",
       "</tr>\n",
       "<tr>\n",
       "  <th>5</th>     <td>    0.0422</td> <td>    0.049</td> <td>    0.858</td> <td> 0.405</td> <td>   -0.063</td> <td>    0.148</td>\n",
       "</tr>\n",
       "<tr>\n",
       "  <th>6</th>     <td>    0.0451</td> <td>    0.055</td> <td>    0.827</td> <td> 0.422</td> <td>   -0.072</td> <td>    0.162</td>\n",
       "</tr>\n",
       "<tr>\n",
       "  <th>7</th>     <td>    0.0457</td> <td>    0.057</td> <td>    0.802</td> <td> 0.436</td> <td>   -0.076</td> <td>    0.168</td>\n",
       "</tr>\n",
       "<tr>\n",
       "  <th>8</th>     <td>    0.2714</td> <td>    0.061</td> <td>    4.448</td> <td> 0.001</td> <td>    0.141</td> <td>    0.402</td>\n",
       "</tr>\n",
       "<tr>\n",
       "  <th>9</th>     <td>   -0.1799</td> <td>    0.065</td> <td>   -2.778</td> <td> 0.015</td> <td>   -0.319</td> <td>   -0.041</td>\n",
       "</tr>\n",
       "<tr>\n",
       "  <th>10</th>    <td>    0.1360</td> <td>    0.077</td> <td>    1.778</td> <td> 0.097</td> <td>   -0.028</td> <td>    0.300</td>\n",
       "</tr>\n",
       "<tr>\n",
       "  <th>11</th>    <td>    0.1579</td> <td>    0.079</td> <td>    2.009</td> <td> 0.064</td> <td>   -0.011</td> <td>    0.327</td>\n",
       "</tr>\n",
       "<tr>\n",
       "  <th>12</th>    <td>   -0.0389</td> <td>    0.095</td> <td>   -0.411</td> <td> 0.688</td> <td>   -0.242</td> <td>    0.164</td>\n",
       "</tr>\n",
       "<tr>\n",
       "  <th>13</th>    <td>   -0.2815</td> <td>    0.109</td> <td>   -2.580</td> <td> 0.022</td> <td>   -0.515</td> <td>   -0.047</td>\n",
       "</tr>\n",
       "<tr>\n",
       "  <th>14</th>    <td>   -0.1092</td> <td>    0.134</td> <td>   -0.817</td> <td> 0.428</td> <td>   -0.396</td> <td>    0.178</td>\n",
       "</tr>\n",
       "<tr>\n",
       "  <th>15</th>    <td>    0.0458</td> <td>    0.148</td> <td>    0.309</td> <td> 0.762</td> <td>   -0.272</td> <td>    0.364</td>\n",
       "</tr>\n",
       "<tr>\n",
       "  <th>16</th>    <td>    0.1265</td> <td>    0.163</td> <td>    0.774</td> <td> 0.452</td> <td>   -0.224</td> <td>    0.477</td>\n",
       "</tr>\n",
       "<tr>\n",
       "  <th>17</th>    <td>    0.0386</td> <td>    0.170</td> <td>    0.227</td> <td> 0.824</td> <td>   -0.327</td> <td>    0.404</td>\n",
       "</tr>\n",
       "<tr>\n",
       "  <th>18</th>    <td>    0.1201</td> <td>    0.186</td> <td>    0.646</td> <td> 0.529</td> <td>   -0.279</td> <td>    0.519</td>\n",
       "</tr>\n",
       "<tr>\n",
       "  <th>19</th>    <td>   -0.1578</td> <td>    0.220</td> <td>   -0.717</td> <td> 0.485</td> <td>   -0.630</td> <td>    0.314</td>\n",
       "</tr>\n",
       "</table>\n",
       "<table class=\"simpletable\">\n",
       "<tr>\n",
       "  <th>Omnibus:</th>       <td> 0.183</td> <th>  Durbin-Watson:     </th> <td>   2.387</td>\n",
       "</tr>\n",
       "<tr>\n",
       "  <th>Prob(Omnibus):</th> <td> 0.912</td> <th>  Jarque-Bera (JB):  </th> <td>   0.108</td>\n",
       "</tr>\n",
       "<tr>\n",
       "  <th>Skew:</th>          <td>-0.118</td> <th>  Prob(JB):          </th> <td>   0.947</td>\n",
       "</tr>\n",
       "<tr>\n",
       "  <th>Kurtosis:</th>      <td> 2.863</td> <th>  Cond. No.          </th> <td>    9.72</td>\n",
       "</tr>\n",
       "</table><br/><br/>Notes:<br/>[1] Standard Errors assume that the covariance matrix of the errors is correctly specified."
      ],
      "text/plain": [
       "<class 'statsmodels.iolib.summary.Summary'>\n",
       "\"\"\"\n",
       "                            OLS Regression Results                            \n",
       "==============================================================================\n",
       "Dep. Variable:                Poverty   R-squared:                       0.938\n",
       "Model:                            OLS   Adj. R-squared:                  0.850\n",
       "Method:                 Least Squares   F-statistic:                     10.65\n",
       "Date:                Thu, 19 Aug 2021   Prob (F-statistic):           2.37e-05\n",
       "Time:                        19:16:08   Log-Likelihood:                0.43558\n",
       "No. Observations:                  35   AIC:                             41.13\n",
       "Df Residuals:                      14   BIC:                             73.79\n",
       "Df Model:                          20                                         \n",
       "Covariance Type:            nonrobust                                         \n",
       "==============================================================================\n",
       "                 coef    std err          t      P>|t|      [0.025      0.975]\n",
       "------------------------------------------------------------------------------\n",
       "const         -0.1539      0.064     -2.410      0.030      -0.291      -0.017\n",
       "0              0.1628      0.023      7.197      0.000       0.114       0.211\n",
       "1             -0.2412      0.030     -8.082      0.000      -0.305      -0.177\n",
       "2              0.1354      0.035      3.829      0.002       0.060       0.211\n",
       "3             -0.0091      0.040     -0.227      0.824      -0.095       0.077\n",
       "4             -0.2849      0.048     -5.929      0.000      -0.388      -0.182\n",
       "5              0.0422      0.049      0.858      0.405      -0.063       0.148\n",
       "6              0.0451      0.055      0.827      0.422      -0.072       0.162\n",
       "7              0.0457      0.057      0.802      0.436      -0.076       0.168\n",
       "8              0.2714      0.061      4.448      0.001       0.141       0.402\n",
       "9             -0.1799      0.065     -2.778      0.015      -0.319      -0.041\n",
       "10             0.1360      0.077      1.778      0.097      -0.028       0.300\n",
       "11             0.1579      0.079      2.009      0.064      -0.011       0.327\n",
       "12            -0.0389      0.095     -0.411      0.688      -0.242       0.164\n",
       "13            -0.2815      0.109     -2.580      0.022      -0.515      -0.047\n",
       "14            -0.1092      0.134     -0.817      0.428      -0.396       0.178\n",
       "15             0.0458      0.148      0.309      0.762      -0.272       0.364\n",
       "16             0.1265      0.163      0.774      0.452      -0.224       0.477\n",
       "17             0.0386      0.170      0.227      0.824      -0.327       0.404\n",
       "18             0.1201      0.186      0.646      0.529      -0.279       0.519\n",
       "19            -0.1578      0.220     -0.717      0.485      -0.630       0.314\n",
       "==============================================================================\n",
       "Omnibus:                        0.183   Durbin-Watson:                   2.387\n",
       "Prob(Omnibus):                  0.912   Jarque-Bera (JB):                0.108\n",
       "Skew:                          -0.118   Prob(JB):                        0.947\n",
       "Kurtosis:                       2.863   Cond. No.                         9.72\n",
       "==============================================================================\n",
       "\n",
       "Notes:\n",
       "[1] Standard Errors assume that the covariance matrix of the errors is correctly specified.\n",
       "\"\"\""
      ]
     },
     "execution_count": 106,
     "metadata": {},
     "output_type": "execute_result"
    }
   ],
   "source": [
    "#model = sklearn.linear_model.LinearRegression()\n",
    "#data_set_wConstant = statsmodels.tools.tools.add_constant(zca_data)\n",
    "data_set_wConstant = statsmodels.tools.tools.add_constant(X_pca_train)\n",
    "#y_ = data_set_wConstant[target]\n",
    "#data_set_wConstant = data_set_wConstant[data_set_wConstant.columns.drop(target)]\n",
    "#results = model.fit(X, y)\n",
    "model = sm.OLS(pt_y_train,data_set_wConstant)\n",
    "results = model.fit()\n",
    "fitted = results.predict(data_set_wConstant)\n",
    "results.summary()"
   ]
  },
  {
   "cell_type": "code",
   "execution_count": null,
   "id": "516bc53d-7a31-4b66-959e-d5b9e049df38",
   "metadata": {},
   "outputs": [],
   "source": []
  },
  {
   "cell_type": "code",
   "execution_count": 107,
   "id": "3b119379-7f8d-469a-a77a-6c798efd2118",
   "metadata": {},
   "outputs": [
    {
     "data": {
      "text/plain": [
       "array([[<AxesSubplot:title={'center':'0'}>]], dtype=object)"
      ]
     },
     "execution_count": 107,
     "metadata": {},
     "output_type": "execute_result"
    },
    {
     "data": {
      "image/png": "[encoded data removed]",
      "text/plain": [
       "<Figure size 432x288 with 1 Axes>"
      ]
     },
     "metadata": {
      "needs_background": "light"
     },
     "output_type": "display_data"
    }
   ],
   "source": [
    "pd.DataFrame(results.get_influence().resid_studentized_internal).hist()"
   ]
  },
  {
   "cell_type": "code",
   "execution_count": null,
   "id": "a1f6c95f-0591-4162-a007-cfcd85d5a8bf",
   "metadata": {},
   "outputs": [],
   "source": []
  },
  {
   "cell_type": "code",
   "execution_count": 120,
   "id": "7559c9ae-b262-4434-bb06-d4da42c8d5d1",
   "metadata": {},
   "outputs": [
    {
     "name": "stdout",
     "output_type": "stream",
     "text": [
      "Summary of Regression\n",
      ":                            OLS Regression Results                            \n",
      "==============================================================================\n",
      "Dep. Variable:                      y   R-squared:                       0.938\n",
      "Model:                            OLS   Adj. R-squared:                  0.850\n",
      "Method:                 Least Squares   F-statistic:                     10.65\n",
      "Date:                Thu, 19 Aug 2021   Prob (F-statistic):           2.37e-05\n",
      "Time:                        19:20:10   Log-Likelihood:                0.43558\n",
      "No. Observations:                  35   AIC:                             41.13\n",
      "Df Residuals:                      14   BIC:                             73.79\n",
      "Df Model:                          20                                         \n",
      "Covariance Type:            nonrobust                                         \n",
      "==============================================================================\n",
      "                 coef    std err          t      P>|t|      [0.025      0.975]\n",
      "------------------------------------------------------------------------------\n",
      "const         -0.1539      0.064     -2.410      0.030      -0.291      -0.017\n",
      "x1             0.1628      0.023      7.197      0.000       0.114       0.211\n",
      "x2            -0.2412      0.030     -8.082      0.000      -0.305      -0.177\n",
      "x3             0.1354      0.035      3.829      0.002       0.060       0.211\n",
      "x4            -0.0091      0.040     -0.227      0.824      -0.095       0.077\n",
      "x5            -0.2849      0.048     -5.929      0.000      -0.388      -0.182\n",
      "x6             0.0422      0.049      0.858      0.405      -0.063       0.148\n",
      "x7             0.0451      0.055      0.827      0.422      -0.072       0.162\n",
      "x8             0.0457      0.057      0.802      0.436      -0.076       0.168\n",
      "x9             0.2714      0.061      4.448      0.001       0.141       0.402\n",
      "x10           -0.1799      0.065     -2.778      0.015      -0.319      -0.041\n",
      "x11            0.1360      0.077      1.778      0.097      -0.028       0.300\n",
      "x12            0.1579      0.079      2.009      0.064      -0.011       0.327\n",
      "x13           -0.0389      0.095     -0.411      0.688      -0.242       0.164\n",
      "x14           -0.2815      0.109     -2.580      0.022      -0.515      -0.047\n",
      "x15           -0.1092      0.134     -0.817      0.428      -0.396       0.178\n",
      "x16            0.0458      0.148      0.309      0.762      -0.272       0.364\n",
      "x17            0.1265      0.163      0.774      0.452      -0.224       0.477\n",
      "x18            0.0386      0.170      0.227      0.824      -0.327       0.404\n",
      "x19            0.1201      0.186      0.646      0.529      -0.279       0.519\n",
      "x20           -0.1578      0.220     -0.717      0.485      -0.630       0.314\n",
      "==============================================================================\n",
      "Omnibus:                        0.183   Durbin-Watson:                   2.387\n",
      "Prob(Omnibus):                  0.912   Jarque-Bera (JB):                0.108\n",
      "Skew:                          -0.118   Prob(JB):                        0.947\n",
      "Kurtosis:                       2.863   Cond. No.                         9.72\n",
      "==============================================================================\n",
      "\n",
      "Notes:\n",
      "[1] Standard Errors assume that the covariance matrix of the errors is correctly specified.\n",
      "Diagnostic Tests of Regression\n",
      ":{\"Non_Linearity_Test\": [[\"F value\", NaN], [\"p value\", NaN]], \"Hetroskedasticity_Test\": [[\"Lagrange multiplier statistic\", 25.563867404969443], [\"p-value\", 0.1807038053866297], [\"f-value\", 1.896402684390285], [\"f p-value\", 0.11176412922874372]], \"Residual_Normality_Test\": [[\"Jarque-Bera\", 0.10786123492357816], [\"Chi^2 two-tail prob.\", 0.9474978440266217], [\"Skew\", -0.11752851444209865], [\"Kurtosis\", 2.863214829626835]], \"MultiCollnearity_Test\": [[\"condition no\", 9.724504017273524]], \"Residual_AutoCorrelation_Test\": [[\"p value\", 2.3870904673727207]]}\n"
     ]
    },
    {
     "data": {
      "image/png": "[encoded data removed]",
      "text/plain": [
       "<Figure size 432x288 with 1 Axes>"
      ]
     },
     "metadata": {
      "needs_background": "light"
     },
     "output_type": "display_data"
    },
    {
     "data": {
      "image/png": "[encoded data removed]",
      "text/plain": [
       "<Figure size 432x288 with 1 Axes>"
      ]
     },
     "metadata": {
      "needs_background": "light"
     },
     "output_type": "display_data"
    },
    {
     "data": {
      "image/png": "[encoded data removed]",
      "text/plain": [
       "<Figure size 432x288 with 1 Axes>"
      ]
     },
     "metadata": {
      "needs_background": "light"
     },
     "output_type": "display_data"
    },
    {
     "data": {
      "image/png": "[encoded data removed]",
      "text/plain": [
       "<Figure size 432x288 with 1 Axes>"
      ]
     },
     "metadata": {
      "needs_background": "light"
     },
     "output_type": "display_data"
    }
   ],
   "source": [
    "linear_plot = Plot.LinearRegressionResidualPlot(data_set_wConstant.values, pt_y_train.values)\n",
    "lm = linear_plot.fit()\n",
    "summary, diag_res = linear_plot.diagnostic_plots(lm)\n",
    "print(\"Summary of Regression\\n:{}\".format(summary))\n",
    "print(\"Diagnostic Tests of Regression\\n:{}\".format(diag_res))\n"
   ]
  },
  {
   "cell_type": "code",
   "execution_count": null,
   "id": "e69c5a83-5065-47e7-8549-d58f7ba3373d",
   "metadata": {},
   "outputs": [],
   "source": []
  },
  {
   "cell_type": "code",
   "execution_count": 121,
   "id": "1e536ba4-9b94-4399-b9db-6a7d60961d38",
   "metadata": {},
   "outputs": [
    {
     "name": "stdout",
     "output_type": "stream",
     "text": [
      "Mean Absolute Error\n",
      "Poverty    0.536868\n",
      "dtype: float64\n"
     ]
    },
    {
     "data": {
      "image/png": "[encoded data removed]",
      "text/plain": [
       "<Figure size 360x360 with 1 Axes>"
      ]
     },
     "metadata": {
      "needs_background": "light"
     },
     "output_type": "display_data"
    }
   ],
   "source": [
    "#\n",
    "y_train_original = pd.DataFrame(ss_y_train.inverse_transform(pt_y_train_fit.inverse_transform(pt_y_train)),index=y_train.index,columns=y_train.columns)\n",
    "y_train_predicted = pd.DataFrame(ss_y_train.inverse_transform(pt_y_train_fit.inverse_transform(np.array(results.fittedvalues).reshape(-1,1))),index=y_train.index,columns=y_train.columns)\n",
    "\n",
    "# summarize prediction\n",
    "print(\"Mean Absolute Error\")\n",
    "print(mean(absolute(y_train_original-y_train_predicted)))\n",
    "\n",
    "temp = pd.concat([y_train_predicted,y_train_original],axis=1)\n",
    "temp.columns = ['Predicted','Actual']\n",
    "\n",
    "sns.lmplot(x=\"Predicted\",\n",
    "           y=\"Actual\", \n",
    "           ci=None,\n",
    "           data=temp);"
   ]
  },
  {
   "cell_type": "code",
   "execution_count": null,
   "id": "0c40f454-536e-48d0-befb-c94e0fea7c11",
   "metadata": {},
   "outputs": [],
   "source": []
  },
  {
   "cell_type": "code",
   "execution_count": 122,
   "id": "63267407-888b-4530-b897-894d226190ae",
   "metadata": {},
   "outputs": [
    {
     "name": "stdout",
     "output_type": "stream",
     "text": [
      "Mean Absolute Error\n",
      "Poverty    0.492152\n",
      "dtype: float64\n"
     ]
    },
    {
     "data": {
      "image/png": "[encoded data removed]",
      "text/plain": [
       "<Figure size 360x360 with 1 Axes>"
      ]
     },
     "metadata": {
      "needs_background": "light"
     },
     "output_type": "display_data"
    }
   ],
   "source": [
    "#model_Best = ElasticNet(alpha=best['alpha'], l1_ratio=best['lambda'])\n",
    "\n",
    "ENBestResults = model_eb.fit(x_train_inter[best['features']], pt_y_train)\n",
    "\n",
    "ENBestFitted = pd.DataFrame(model_eb.predict(x_train_inter[best['features']]),index=x_train_inter.index, columns = [target])\n",
    "\n",
    "y_train_original = pd.DataFrame(ss_y_train.inverse_transform(pt_y_train_fit.inverse_transform(pt_y_train)),index=y_train.index,columns=y_train.columns)\n",
    "y_train_predicted = pd.DataFrame(ss_y_train.inverse_transform(pt_y_train_fit.inverse_transform(np.array(ENBestFitted).reshape(-1,1))),index=y_train.index,columns=y_train.columns)\n",
    "\n",
    "# summarize prediction\n",
    "print(\"Mean Absolute Error\")\n",
    "print(mean(absolute(y_train_original-y_train_predicted)))\n",
    "\n",
    "temp = pd.concat([y_train_predicted,y_train_original],axis=1)\n",
    "temp.columns = ['Predicted','Actual']\n",
    "\n",
    "sns.lmplot(x=\"Predicted\",\n",
    "           y=\"Actual\", \n",
    "           ci=None,\n",
    "           data=temp);"
   ]
  },
  {
   "cell_type": "code",
   "execution_count": null,
   "id": "d4cfefc5-63c8-42f5-b9de-5058bcca48e5",
   "metadata": {},
   "outputs": [],
   "source": []
  },
  {
   "cell_type": "code",
   "execution_count": 123,
   "id": "4faf1af9-6e84-4f2e-807b-feac48b84bfb",
   "metadata": {},
   "outputs": [
    {
     "name": "stdout",
     "output_type": "stream",
     "text": [
      "Mean Absolute Error\n",
      "Poverty    0.613074\n",
      "dtype: float64\n"
     ]
    },
    {
     "data": {
      "image/png": "[encoded data removed]",
      "text/plain": [
       "<Figure size 360x360 with 1 Axes>"
      ]
     },
     "metadata": {
      "needs_background": "light"
     },
     "output_type": "display_data"
    }
   ],
   "source": [
    "#model_Parse = ElasticNet(alpha=parse['alpha'], l1_ratio=parse['lambda'])\n",
    "\n",
    "ENParseResults = model_ep.fit(x_train_inter[parse['features']], pt_y_train)\n",
    "\n",
    "ENParseFitted = pd.DataFrame(model_ep.predict(x_train_inter[parse['features']]),index=x_train_inter.index,columns=[target])\n",
    "\n",
    "y_train_original = pd.DataFrame(ss_y_train.inverse_transform(pt_y_train_fit.inverse_transform(pt_y_train)),index=y_train.index,columns=y_train.columns)\n",
    "y_train_predicted = pd.DataFrame(ss_y_train.inverse_transform(pt_y_train_fit.inverse_transform(np.array(ENParseFitted).reshape(-1,1))),index=y_train.index,columns=y_train.columns)\n",
    "\n",
    "# summarize prediction\n",
    "print(\"Mean Absolute Error\")\n",
    "print(mean(absolute(y_train_original-y_train_predicted)))\n",
    "\n",
    "temp = pd.concat([y_train_predicted,y_train_original],axis=1)\n",
    "temp.columns = ['Predicted','Actual']\n",
    "\n",
    "sns.lmplot(x=\"Predicted\",\n",
    "           y=\"Actual\", \n",
    "           ci=None,\n",
    "           data=temp);"
   ]
  },
  {
   "cell_type": "code",
   "execution_count": null,
   "id": "45cef728-31bd-4410-8902-b602fb75ad8c",
   "metadata": {},
   "outputs": [],
   "source": []
  },
  {
   "cell_type": "code",
   "execution_count": null,
   "id": "4daddcbf-634b-4a27-b7f0-137dcf37b4fd",
   "metadata": {},
   "outputs": [],
   "source": []
  },
  {
   "cell_type": "code",
   "execution_count": 124,
   "id": "2fc8d8ec-72ea-408e-936e-36f6dc07bc16",
   "metadata": {},
   "outputs": [
    {
     "name": "stdout",
     "output_type": "stream",
     "text": [
      "Mean MAE: nan (nan)\n"
     ]
    },
    {
     "data": {
      "image/png": "[encoded data removed]",
      "text/plain": [
       "<Figure size 432x288 with 1 Axes>"
      ]
     },
     "metadata": {
      "needs_background": "light"
     },
     "output_type": "display_data"
    }
   ],
   "source": [
    "#robust regression using ss\n",
    "# define the model\n",
    "model_rr_ss = RANSACRegressor()\n",
    "# evaluate model\n",
    "Rresults_ss = evaluate_model(x_train_inter[ss_sortedFeatures], pt_y_train, model_rr_ss)\n",
    "print('Mean MAE: %.3f (%.3f)' % (mean(Rresults_ss), std(Rresults_ss)))\n",
    "# plot the line of best fit\n",
    "Rresults_ss = model_rr_ss.fit(x_train_inter[ss_sortedFeatures],pt_y_train)\n",
    "RFitted_ss = model_rr_ss.predict(x_train_inter[ss_sortedFeatures])\n",
    "\n",
    "temp_all = pd.DataFrame(interaction.fit_transform(pd.DataFrame(pt_X_train_fit.transform(ss_X_train_scale_fit.transform(X)),index=X.index,columns=X.columns)),index=X.index,columns=interaction.get_feature_names(input_features=X.columns))\n",
    "RFitted_ss_all = ss_y_train_scale_fit.inverse_transform(pt_y_train_fit.inverse_transform(model_rr_ss.predict(temp_all[ss_sortedFeatures])))\n",
    "\n",
    "temp_valid = pd.DataFrame(interaction.fit_transform(pd.DataFrame(pt_X_train_fit.transform(ss_X_train_scale_fit.transform(X_valid)),index=X_valid.index,columns=X_valid.columns)),index=X_valid.index,columns=interaction.get_feature_names(input_features=X_valid.columns))\n",
    "y_valid_rr_ss_fitted = ss_y_train_scale_fit.inverse_transform(pt_y_train_fit.inverse_transform(model_rr_ss.predict(temp_valid[ss_sortedFeatures])))\n",
    "\n",
    "y_valid_rr_ss_fitted = ss_y_train_scale_fit.inverse_transform(pt_y_train_fit.inverse_transform(model_rr_ss.predict(temp_valid[ss_sortedFeatures])))\n",
    "\n",
    "plot_best_fit(RFitted_ss,pt_y_train, model_rr_ss)"
   ]
  },
  {
   "cell_type": "code",
   "execution_count": null,
   "id": "afd241a3-3cd6-4d28-9bfa-619d8d28b9d9",
   "metadata": {},
   "outputs": [],
   "source": []
  },
  {
   "cell_type": "code",
   "execution_count": null,
   "id": "fa2cb939-c1db-4e94-9691-d4ccfd57afb2",
   "metadata": {},
   "outputs": [],
   "source": [
    "\n",
    "#robust regression using best\n",
    "# define the model\n",
    "model_rr_best = RANSACRegressor()\n",
    "# evaluate model\n",
    "Rresults_best = evaluate_model(x_train_inter[best['features']], pt_y_train, model_rr_best)\n",
    "print('Mean MAE: %.3f (%.3f)' % (mean(Rresults_best), std(Rresults_best)))\n",
    "# plot the line of best fit\n",
    "Rresults_best = model_rr_best.fit(x_train_inter[best['features']],pt_y_train)\n",
    "RFitted_best = model_rr_best.predict(x_train_inter[best['features']])\n",
    "\n",
    "temp_all = pd.DataFrame(interaction.fit_transform(pd.DataFrame(pt_X_train_fit.transform(ss_X_train_scale_fit.transform(X)),index=X.index,columns=X.columns)),index=X.index,columns=interaction.get_feature_names(input_features=X.columns))\n",
    "RFitted_best_all = ss_y_train_scale_fit.inverse_transform(pt_y_train_fit.inverse_transform(model_rr_best.predict(temp_all[best['features']])))\n",
    "\n",
    "temp_valid = pd.DataFrame(interaction.fit_transform(pd.DataFrame(pt_X_train_fit.transform(ss_X_train_scale_fit.transform(X_valid)),index=X_valid.index,columns=X_valid.columns)),index=X_valid.index,columns=interaction.get_feature_names(input_features=X_valid.columns))\n",
    "y_valid_rr_best_fitted = ss_y_train_scale_fit.inverse_transform(pt_y_train_fit.inverse_transform(model_rr_best.predict(temp_valid[best['features']])))\n",
    "\n",
    "plot_best_fit(RFitted_best,pt_y_train, model_rr_best)\n"
   ]
  },
  {
   "cell_type": "code",
   "execution_count": null,
   "id": "5af8bfec-c01e-4442-b086-a529e5e3a29d",
   "metadata": {},
   "outputs": [],
   "source": [
    "\n",
    "#robust regression using best\n",
    "# define the model\n",
    "model_rr_parse = RANSACRegressor()\n",
    "# evaluate model\n",
    "Rresults_parse = evaluate_model(x_train_inter[best['features']], pt_y_train, model_rr_parse)\n",
    "print('Mean MAE: %.3f (%.3f)' % (mean(Rresults_parse), std(Rresults_parse)))\n",
    "# plot the line of best fit\n",
    "Rresults_parse = model_rr_parse.fit(x_train_inter[parse['features']],pt_y_train)\n",
    "RFitted_parse = model_rr_parse.predict(x_train_inter[parse['features']])\n",
    "\n",
    "temp_all = pd.DataFrame(interaction.fit_transform(pd.DataFrame(pt_X_train_fit.transform(ss_X_train_scale_fit.transform(X)),index=X.index,columns=X.columns)),index=X.index,columns=interaction.get_feature_names(input_features=X.columns))\n",
    "RFitted_parse_all = ss_y_train_scale_fit.inverse_transform(pt_y_train_fit.inverse_transform(model_rr_parse.predict(temp_all[parse['features']])))\n",
    "\n",
    "temp_valid = pd.DataFrame(interaction.fit_transform(pd.DataFrame(pt_X_train_fit.transform(ss_X_train_scale_fit.transform(X_valid)),index=X_valid.index,columns=X_valid.columns)),index=X_valid.index,columns=interaction.get_feature_names(input_features=X_valid.columns))\n",
    "y_valid_rr_parse_fitted = ss_y_train_scale_fit.inverse_transform(pt_y_train_fit.inverse_transform(model_rr_parse.predict(temp_valid[parse['features']])))\n",
    "\n",
    "plot_best_fit(RFitted_parse,pt_y_train, model_rr_parse)\n"
   ]
  },
  {
   "cell_type": "code",
   "execution_count": null,
   "id": "963a1486-2f27-4838-ad10-9651c7eeb283",
   "metadata": {},
   "outputs": [],
   "source": []
  },
  {
   "cell_type": "code",
   "execution_count": null,
   "id": "9a18a2e1-15f2-42ed-8f69-3e71b3b31049",
   "metadata": {},
   "outputs": [],
   "source": [
    "temp_valid = pd.DataFrame(interaction.fit_transform(pd.DataFrame(pt_X_train_fit.transform(ss_X_train_scale_fit.transform(X_valid)),index=X_valid.index,columns=X_valid.columns)),index=X_valid.index,columns=interaction.get_feature_names(input_features=X_valid.columns))\n",
    "y_valid_ss_fitted = ss_y_train_scale_fit.inverse_transform(pt_y_train_fit.inverse_transform(model_ss.predict(temp_valid[ss_sortedFeatures])))\n",
    "y_valid_eb_fitted = ss_y_train_scale_fit.inverse_transform(pt_y_train_fit.inverse_transform(model_eb.predict(temp_valid[best['features']]).reshape(-1, 1)))\n",
    "y_valid_ep_fitted = ss_y_train_scale_fit.inverse_transform(pt_y_train_fit.inverse_transform(model_ep.predict(temp_valid[parse['features']]).reshape(-1, 1)))"
   ]
  },
  {
   "cell_type": "code",
   "execution_count": null,
   "id": "9da3a220-4873-44ec-ba27-d6a7327c7122",
   "metadata": {},
   "outputs": [],
   "source": []
  },
  {
   "cell_type": "code",
   "execution_count": null,
   "id": "39fb822c-ae56-4bd5-9c66-bf1828539c24",
   "metadata": {},
   "outputs": [],
   "source": []
  },
  {
   "cell_type": "code",
   "execution_count": null,
   "id": "15cd2249-4553-4c65-804d-12cee40b2724",
   "metadata": {},
   "outputs": [],
   "source": [
    "print(\"OLS SS: \" + str(mean(absolute(np.array(y_valid)-y_valid_ss_fitted))))\n",
    "print(\"EN best: \" + str(mean(absolute(np.array(y_valid)-y_valid_eb_fitted))))\n",
    "print(\"EN parse: \" + str(mean(absolute(np.array(y_valid)-y_valid_ep_fitted))))\n",
    "\n",
    "print(\"RR SS: \" + str(mean(absolute(np.array(y_valid)-y_valid_rr_ss_fitted))))\n",
    "print(\"RR best: \" + str(mean(absolute(np.array(y_valid)-y_valid_rr_best_fitted))))\n",
    "print(\"RR parse: \" + str(mean(absolute(np.array(y_valid)-y_valid_rr_parse_fitted))))"
   ]
  },
  {
   "cell_type": "code",
   "execution_count": null,
   "id": "b009b13b-3c4f-4da1-9da3-f930274146a3",
   "metadata": {},
   "outputs": [],
   "source": [
    "print(\"RR parse: \" + str(mean(absolute(np.array(y)-RFitted_parse_all))))\n",
    "print(\"RR ss: \" + str(mean(absolute(np.array(y)-RFitted_ss_all))))"
   ]
  },
  {
   "cell_type": "code",
   "execution_count": null,
   "id": "39ee1db2-3d73-4389-afd2-803d42c28719",
   "metadata": {},
   "outputs": [],
   "source": []
  }
 ],
 "metadata": {
  "kernelspec": {
   "display_name": "Python 3 (ipykernel)",
   "language": "python",
   "name": "python3"
  },
  "language_info": {
   "codemirror_mode": {
    "name": "ipython",
    "version": 3
   },
   "file_extension": ".py",
   "mimetype": "text/x-python",
   "name": "python",
   "nbconvert_exporter": "python",
   "pygments_lexer": "ipython3",
   "version": "3.9.6"
  }
 },
 "nbformat": 4,
 "nbformat_minor": 5
}
