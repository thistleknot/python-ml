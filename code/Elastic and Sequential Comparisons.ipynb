{
 "cells": [
  {
   "cell_type": "code",
   "execution_count": 15,
   "id": "3ed6d235-1e58-4000-9e03-cb31972b05ed",
   "metadata": {},
   "outputs": [],
   "source": [
    "from OLS_LR_DiagnosticPlots.ModelDiagnostics import Plot\n",
    "from matplotlib import pyplot\n",
    "from mlxtend.feature_selection import SequentialFeatureSelector as sfbs\n",
    "from mlxtend.plotting import plot_sequential_feature_selection as plot_sfbs\n",
    "from numpy import *\n",
    "from numpy import absolute\n",
    "from numpy import arange\n",
    "from numpy import mean\n",
    "from numpy import std\n",
    "from numpy.random import seed\n",
    "from pandas import read_csv\n",
    "from random import randint\n",
    "from random import random\n",
    "from random import seed\n",
    "from scipy import stats # For in-built method to get PCC\n",
    "from sklearn import linear_model\n",
    "from sklearn.datasets import load_boston\n",
    "from sklearn.datasets import make_regression\n",
    "from sklearn.decomposition import PCA\n",
    "from sklearn.ensemble import RandomForestRegressor, IsolationForest\n",
    "from sklearn.linear_model import ElasticNet, ElasticNetCV, LinearRegression\n",
    "from sklearn.linear_model import RANSACRegressor\n",
    "from sklearn.metrics import accuracy_score as acc\n",
    "from sklearn.metrics import mean_squared_error\n",
    "from sklearn.model_selection import GridSearchCV, KFold, cross_val_score, RepeatedKFold, train_test_split\n",
    "\n",
    "from sklearn.compose import TransformedTargetRegressor\n",
    "from sklearn.pipeline import FeatureUnion, Pipeline, make_pipeline\n",
    "from sklearn.base import BaseEstimator, TransformerMixin\n",
    "\n",
    "import sklearn\n",
    "from sklearn.preprocessing import *\n",
    "\n",
    "from sklearn.pipeline import Pipeline\n",
    "from sklearn.preprocessing import StandardScaler, PowerTransformer\n",
    "from statsmodels.stats.outliers_influence import OLSInfluence\n",
    "from tqdm import tnrange, tqdm_notebook\n",
    "from zca import zca\n",
    "import itertools\n",
    "import matplotlib.pyplot as plt\n",
    "import mlxtend\n",
    "import numpy as np\n",
    "import pandas as pd\n",
    "import pingouin as pg\n",
    "import scipy\n",
    "import seaborn as sns\n",
    "import sklearn.linear_model\n",
    "import statsmodels.api as sm\n",
    "import statsmodels.tools\n",
    "import sys\n",
    "\n",
    "#if not sys.warnoptions:\n",
    "#    import warnings\n",
    "#    warnings.simplefilter(\"ignore\")\n",
    "#import random\n",
    "import warnings\n",
    "warnings.filterwarnings('ignore')\n",
    "\n",
    "zca = zca.ZCA()"
   ]
  },
  {
   "cell_type": "code",
   "execution_count": 16,
   "id": "51a7b502-6081-4f42-98b0-a505ff859b0b",
   "metadata": {},
   "outputs": [],
   "source": [
    "class ss_yj_Transformer(BaseEstimator, TransformerMixin):\n",
    "    # add another additional parameter, just for fun, while we are at it\n",
    "    \n",
    "    def __init__(self, feature_names=[], additional_param = \"\"):  \n",
    "        #print('\\n>>>>>>>init() called.\\n')\n",
    "        self.ss = StandardScaler()\n",
    "        self.pt = PowerTransformer(standardize=True)\n",
    "        self.feature_names = feature_names\n",
    "        self.additional_param = additional_param\n",
    "\n",
    "    def fit(self, X, y = None):\n",
    "        self.ss.fit(X)\n",
    "        self.pt.fit(self.ss.transform(X))\n",
    "        return self\n",
    "\n",
    "    def transform(self, X, y = None):\n",
    "        pt_X_ = pd.DataFrame(self.pt.fit(pd.DataFrame(self.ss.fit(X).transform(X),index=X.index,columns=X.columns)).transform(pd.DataFrame(self.ss.fit(X).transform(X),index=X.index,columns=X.columns)),index=X.index,columns=X.columns)\n",
    "        return pt_X_\n",
    "\n",
    "    def inverse_transform(self, target):\n",
    "        target_ = pd.DataFrame(self.ss.inverse_transform(self.pt.inverse_transform(target)),index=target.index,columns=target.columns)\n",
    "        return target_"
   ]
  },
  {
   "cell_type": "code",
   "execution_count": null,
   "id": "96b3cefc-5d62-40ad-b525-c2f06d1ff16f",
   "metadata": {},
   "outputs": [],
   "source": []
  },
  {
   "cell_type": "code",
   "execution_count": 17,
   "id": "18febc60-48ed-4990-854b-815d3719435f",
   "metadata": {},
   "outputs": [],
   "source": [
    "numCV = 5\n",
    "kfold = KFold(n_splits=numCV, shuffle=True)\n",
    "p_threshold = .05\n",
    "divisor = .2\n",
    "target = 'Poverty'\n",
    "exclude = 'States'\n",
    "\n",
    "cv = RepeatedKFold(n_splits=numCV, n_repeats=1, random_state=1)\n",
    "\n",
    "alphas = [1e-5, 1e-4, 1e-3, 1e-2, 1e-1, 0.0, 1.0, 10.0, 100.0]\n",
    "l1s = arange(0, 1, 0.01/divisor)\n",
    "\n",
    "seed_ = 3\n",
    "\n",
    "#random.seed(11)\n",
    "\n",
    "seed(seed_)"
   ]
  },
  {
   "cell_type": "code",
   "execution_count": 18,
   "id": "c4aff39a-9f86-4631-92f3-b76fd406ff04",
   "metadata": {},
   "outputs": [],
   "source": [
    "# evaluate a model\n",
    "def evaluate_model(X, y, model):\n",
    "\t# define model evaluation method\n",
    "\tcv = RepeatedKFold(n_splits=numCV, n_repeats=1, random_state=1)\n",
    "\t# evaluate model\n",
    "\tscores = cross_val_score(model, X, y, scoring='neg_mean_absolute_error', cv=cv, n_jobs=-1)\n",
    "\t# force scores to be positive\n",
    "\treturn absolute(scores)\n",
    "\n",
    "# plot the dataset and the model's line of best fit\n",
    "def plot_best_fit(X, y, model):\n",
    "\t# fut the model on all data\n",
    "\tmodel.fit(X, y)\n",
    "\t# plot the dataset\n",
    "\tpyplot.scatter(X, y)\n",
    "\t# plot the line of best fit\n",
    "\txaxis = arange(X.min(), X.max(), 0.01)\n",
    "\tyaxis = model.predict(xaxis.reshape((len(xaxis), 1)))\n",
    "\tpyplot.plot(xaxis, yaxis, color='r')\n",
    "\t# show the plot\n",
    "\tpyplot.title(type(model).__name__)\n",
    "\tpyplot.show()"
   ]
  },
  {
   "cell_type": "code",
   "execution_count": 19,
   "id": "2e025827-a163-4dbd-a95c-1b8f922a438c",
   "metadata": {},
   "outputs": [],
   "source": [
    "all_data = pd.read_csv('../data/raw/states.csv')"
   ]
  },
  {
   "cell_type": "code",
   "execution_count": 20,
   "id": "d4589f6d-16d2-4f3c-90e4-a0205154cea1",
   "metadata": {},
   "outputs": [],
   "source": [
    "train, valid = train_test_split(all_data.index, test_size=0.3, shuffle=True)\n",
    "valid, test = train_test_split(valid,  test_size=0.5, shuffle=True)\n",
    "\n",
    "X = all_data[set(all_data.columns).difference([target,exclude])].copy()\n",
    "y = pd.DataFrame(all_data[target].copy())\n",
    "\n",
    "X_train = X.loc[train].copy()\n",
    "\n",
    "X_train_ss_yj_t = ss_yj_Transformer()\n",
    "X_train_ss_yj_t.fit(X_train)\n",
    "X_train_ss_yj = X_train_ss_yj_t.transform(X_train)\n",
    "\n",
    "X_valid = X.loc[valid].copy()\n",
    "\n",
    "X_test = X.loc[test].copy()\n",
    "\n",
    "y_train = y.loc[X_train.index][[target]].copy()\n",
    "y_valid = y.loc[X_valid.index][[target]].copy()\n",
    "y_test = y.loc[X_test.index][[target]].copy()\n",
    "\n",
    "y_train_ss_yj_t = ss_yj_Transformer()\n",
    "y_train_ss_yj_t.fit(y_train)\n",
    "y_train_ss_yj = y_train_ss_yj_t.transform(y_train)\n",
    "\n",
    "x_valid_ss_yj = X_train_ss_yj_t.transform(X_valid)"
   ]
  },
  {
   "cell_type": "code",
   "execution_count": null,
   "id": "97d51275-0faf-440b-a184-58ce92fa2baa",
   "metadata": {},
   "outputs": [],
   "source": []
  },
  {
   "cell_type": "code",
   "execution_count": 21,
   "id": "73bf8d7b-287c-412f-9d07-222933e6d0f0",
   "metadata": {},
   "outputs": [],
   "source": [
    "interaction = PolynomialFeatures(degree=2, include_bias=False, interaction_only=False)\n",
    "\n",
    "x_train_ss_yj_inter = pd.DataFrame(interaction.fit_transform(X_train_ss_yj),index=X_train_ss_yj.index,columns=interaction.get_feature_names(input_features=X_train_ss_yj.columns))\n",
    "\n",
    "x_valid_ss_yj_inter = pd.DataFrame(interaction.fit_transform(x_valid_ss_yj),index=X_valid.index,columns=interaction.get_feature_names(input_features=X_valid.columns))"
   ]
  },
  {
   "cell_type": "code",
   "execution_count": null,
   "id": "d9130aed-2778-4682-b57c-b93cb7d9c455",
   "metadata": {},
   "outputs": [],
   "source": []
  },
  {
   "cell_type": "code",
   "execution_count": 22,
   "id": "e705334a-0bc8-4cd8-a072-21e45352112f",
   "metadata": {},
   "outputs": [],
   "source": [
    "lr = LinearRegression()\n",
    "\n",
    "#backwards step subset\n",
    "sfbs1 = sfbs(lr, \n",
    "          k_features=len(x_train_ss_yj_inter.columns), \n",
    "          #forward=True, \n",
    "          floating=True, \n",
    "          scoring='neg_mean_squared_error',\n",
    "          #scoring='accuracy',\n",
    "          n_jobs=-1,\n",
    "          cv=numCV)\n",
    "            \n",
    "sfbs1 = sfbs1.fit(x_train_ss_yj_inter, y_train_ss_yj)\n"
   ]
  },
  {
   "cell_type": "code",
   "execution_count": 23,
   "id": "00122287-7af4-4dc7-9ef1-8da80d9e1654",
   "metadata": {},
   "outputs": [
    {
     "data": {
      "image/png": "[encoded data removed]",
      "text/plain": [
       "<Figure size 432x288 with 1 Axes>"
      ]
     },
     "metadata": {
      "needs_background": "light"
     },
     "output_type": "display_data"
    }
   ],
   "source": [
    "fig = plot_sfbs(sfbs1.get_metric_dict(), kind='std_err')\n",
    "\n",
    "plt.title('Sequential Backward Selection (w. StdErr)')\n",
    "plt.grid()\n",
    "plt.show()"
   ]
  },
  {
   "cell_type": "code",
   "execution_count": 24,
   "id": "2f8adffa-d8c6-4456-8e9d-365303652a60",
   "metadata": {},
   "outputs": [],
   "source": [
    "features = list(pd.DataFrame(sfbs1.subsets_).loc['feature_names'].values)"
   ]
  },
  {
   "cell_type": "code",
   "execution_count": 25,
   "id": "509c273e-fff7-4175-ab9c-f179cde6097f",
   "metadata": {},
   "outputs": [],
   "source": [
    "ss_position = np.array(pd.DataFrame(pd.DataFrame(sfbs1.subsets_)).loc['avg_score']).argmax()"
   ]
  },
  {
   "cell_type": "code",
   "execution_count": 26,
   "id": "ede2f9a1-4093-451d-880b-38c2455a5f21",
   "metadata": {},
   "outputs": [],
   "source": [
    "ss_position_parse = list((pd.DataFrame(sfbs1.subsets_)).T[(pd.DataFrame(sfbs1.subsets_)).T['avg_score']>=np.max(np.array(pd.DataFrame(pd.DataFrame(sfbs1.subsets_)).loc['avg_score']))-np.std(np.array(pd.DataFrame(pd.DataFrame(sfbs1.subsets_)).loc['avg_score']))]['feature_names'].iloc[0])"
   ]
  },
  {
   "cell_type": "code",
   "execution_count": null,
   "id": "56cd1c0d-ca4a-41cf-b0a7-fc602d04830f",
   "metadata": {},
   "outputs": [],
   "source": []
  },
  {
   "cell_type": "code",
   "execution_count": 27,
   "id": "f9a4d556-12c4-4629-b11c-183b265ae900",
   "metadata": {},
   "outputs": [],
   "source": [
    "ss_sortedFeatures = list(np.array(pd.DataFrame(sfbs1.subsets_).loc['feature_names'])[ss_position])"
   ]
  },
  {
   "cell_type": "code",
   "execution_count": null,
   "id": "ca53580c-b6c6-42ee-8201-a4c03ccc624d",
   "metadata": {},
   "outputs": [],
   "source": []
  },
  {
   "cell_type": "code",
   "execution_count": 28,
   "id": "a97c5277-0a75-4520-b715-1c0117fc17d7",
   "metadata": {},
   "outputs": [
    {
     "name": "stdout",
     "output_type": "stream",
     "text": [
      "('Income',)\n",
      "alpha: 0.001000\n",
      "l1_ratio_: 0.000000\n",
      "Mean MAE: 0.465 (0.162)\n",
      "('White', 'Income')\n",
      "alpha: 0.000000\n",
      "l1_ratio_: 0.000000\n",
      "Mean MAE: 0.372 (0.071)\n",
      "('White', 'Population', 'Income')\n",
      "alpha: 0.000000\n",
      "l1_ratio_: 0.900000\n",
      "Mean MAE: 0.335 (0.042)\n",
      "('White', 'Population', 'Income', 'Crime Doctors')\n",
      "alpha: 0.000000\n",
      "l1_ratio_: 0.250000\n",
      "Mean MAE: 0.326 (0.045)\n",
      "('White', 'Population', 'Income', 'Unemployed University', 'Crime Doctors')\n",
      "alpha: 0.000000\n",
      "l1_ratio_: 0.600000\n",
      "Mean MAE: 0.292 (0.055)\n",
      "('White', 'Population', 'Income', 'Traf Deaths^2', 'Unemployed University', 'Crime Doctors')\n",
      "alpha: 0.000000\n",
      "l1_ratio_: 0.150000\n",
      "Mean MAE: 0.259 (0.052)\n",
      "('White', 'Population', 'Income', 'Traf Deaths^2', 'Traf Deaths Infant Mort', 'Unemployed University', 'Crime Doctors')\n",
      "alpha: 0.010000\n",
      "l1_ratio_: 0.400000\n",
      "Mean MAE: 0.262 (0.065)\n",
      "('White', 'Population', 'Income', 'Population Doctors', 'Traf Deaths^2', 'Traf Deaths Infant Mort', 'Unemployed University', 'Crime Doctors')\n",
      "alpha: 0.010000\n",
      "l1_ratio_: 0.350000\n",
      "Mean MAE: 0.265 (0.058)\n",
      "('White', 'Population', 'Income', 'Population Infant Mort', 'Population Doctors', 'Traf Deaths^2', 'Traf Deaths Infant Mort', 'Unemployed University', 'Crime Doctors')\n",
      "alpha: 0.010000\n",
      "l1_ratio_: 0.650000\n",
      "Mean MAE: 0.255 (0.059)\n",
      "('White', 'Population', 'Income', 'Population Infant Mort', 'Population Doctors', 'Traf Deaths^2', 'Traf Deaths Infant Mort', 'Unemployed University', 'Unemployed Doctors', 'Crime Doctors')\n",
      "alpha: 0.010000\n",
      "l1_ratio_: 0.700000\n",
      "Mean MAE: 0.265 (0.039)\n",
      "('White', 'Population', 'Income', 'Population University', 'Population Infant Mort', 'Population Doctors', 'Traf Deaths^2', 'Traf Deaths Crime', 'Traf Deaths Infant Mort', 'Unemployed University', 'University Infant Mort')\n",
      "alpha: 0.010000\n",
      "l1_ratio_: 0.150000\n",
      "Mean MAE: 0.266 (0.080)\n",
      "('White', 'Population', 'Income', 'White Traf Deaths', 'Population University', 'Population Infant Mort', 'Population Doctors', 'Traf Deaths^2', 'Traf Deaths Crime', 'Traf Deaths Infant Mort', 'Unemployed University', 'University Infant Mort')\n",
      "alpha: 0.010000\n",
      "l1_ratio_: 0.150000\n",
      "Mean MAE: 0.273 (0.076)\n",
      "('White', 'Population', 'Income', 'White Traf Deaths', 'White Unemployed', 'Population University', 'Population Infant Mort', 'Population Doctors', 'Traf Deaths^2', 'Traf Deaths Crime', 'Traf Deaths Infant Mort', 'Unemployed University', 'University Infant Mort')\n",
      "alpha: 0.010000\n",
      "l1_ratio_: 0.200000\n",
      "Mean MAE: 0.281 (0.075)\n",
      "('White', 'Population', 'Income', 'White Unemployed', 'White Doctors', 'Population University', 'Population Crime', 'Population Infant Mort', 'Population Doctors', 'Traf Deaths^2', 'Traf Deaths Crime', 'Traf Deaths Infant Mort', 'Unemployed University', 'University Infant Mort')\n",
      "alpha: 0.010000\n",
      "l1_ratio_: 0.950000\n",
      "Mean MAE: 0.336 (0.073)\n",
      "('White', 'Population', 'Income', 'White Traf Deaths', 'White Doctors', 'Population University', 'Population Infant Mort', 'Population Doctors', 'Traf Deaths^2', 'Traf Deaths Unemployed', 'Traf Deaths Crime', 'Traf Deaths Infant Mort', 'Unemployed University', 'Unemployed Income', 'University Infant Mort')\n",
      "alpha: 0.010000\n",
      "l1_ratio_: 0.500000\n",
      "Mean MAE: 0.342 (0.047)\n",
      "('White', 'Population', 'Income', 'White Traf Deaths', 'White Doctors', 'Population University', 'Population Infant Mort', 'Population Doctors', 'Traf Deaths^2', 'Traf Deaths Unemployed', 'Traf Deaths Crime', 'Traf Deaths Infant Mort', 'Unemployed University', 'Unemployed Income', 'University Infant Mort', 'Crime Infant Mort')\n",
      "alpha: 0.010000\n",
      "l1_ratio_: 0.750000\n",
      "Mean MAE: 0.351 (0.041)\n",
      "('White', 'Population', 'Income', 'White Traf Deaths', 'White Doctors', 'Population University', 'Population Crime', 'Population Infant Mort', 'Population Doctors', 'Traf Deaths^2', 'Traf Deaths Unemployed', 'Traf Deaths Crime', 'Traf Deaths Infant Mort', 'Unemployed University', 'Unemployed Income', 'University Infant Mort', 'Crime Infant Mort')\n",
      "alpha: 0.100000\n",
      "l1_ratio_: 0.450000\n",
      "Mean MAE: 0.394 (0.087)\n",
      "('White', 'Population', 'Income', 'White Traf Deaths', 'White Unemployed', 'White Doctors', 'Population University', 'Population Crime', 'Population Infant Mort', 'Population Doctors', 'Traf Deaths^2', 'Traf Deaths Unemployed', 'Traf Deaths Crime', 'Traf Deaths Infant Mort', 'Unemployed University', 'Unemployed Income', 'University Infant Mort', 'Crime Infant Mort')\n",
      "alpha: 0.100000\n",
      "l1_ratio_: 0.450000\n",
      "Mean MAE: 0.411 (0.114)\n",
      "('White', 'Population', 'Income', 'White Unemployed', 'White Crime', 'White Doctors', 'Population University', 'Population Crime', 'Population Infant Mort', 'Population Doctors', 'Traf Deaths^2', 'Traf Deaths University', 'Traf Deaths Crime', 'Traf Deaths Infant Mort', 'Unemployed^2', 'Unemployed University', 'Unemployed Income', 'University Infant Mort', 'Crime Infant Mort')\n",
      "alpha: 0.100000\n",
      "l1_ratio_: 0.550000\n",
      "Mean MAE: 0.433 (0.105)\n",
      "('White', 'Population', 'Income', 'White Traf Deaths', 'White Unemployed', 'White Crime', 'White Doctors', 'Population University', 'Population Crime', 'Population Infant Mort', 'Population Doctors', 'Traf Deaths^2', 'Traf Deaths University', 'Traf Deaths Crime', 'Traf Deaths Infant Mort', 'Unemployed^2', 'Unemployed University', 'Unemployed Income', 'University Infant Mort', 'Crime Infant Mort')\n",
      "alpha: 0.100000\n",
      "l1_ratio_: 0.550000\n",
      "Mean MAE: 0.348 (0.067)\n",
      "('White', 'Population', 'Unemployed', 'Income', 'White Traf Deaths', 'White Unemployed', 'White Crime', 'White Doctors', 'Population University', 'Population Crime', 'Population Income', 'Population Infant Mort', 'Population Doctors', 'Traf Deaths^2', 'Traf Deaths University', 'Traf Deaths Crime', 'Traf Deaths Infant Mort', 'Unemployed^2', 'Unemployed University', 'University Infant Mort', 'Crime Infant Mort')\n",
      "alpha: 0.100000\n",
      "l1_ratio_: 0.250000\n",
      "Mean MAE: 0.346 (0.082)\n",
      "('White', 'Population', 'Income', 'White Traf Deaths', 'White Unemployed', 'White Crime', 'Population^2', 'Population University', 'Population Crime', 'Population Income', 'Population Doctors', 'Traf Deaths^2', 'Traf Deaths University', 'Traf Deaths Crime', 'Traf Deaths Infant Mort', 'Unemployed^2', 'Unemployed University', 'Unemployed Income', 'University^2', 'University Infant Mort', 'Crime Infant Mort', 'Crime Doctors')\n",
      "alpha: 0.100000\n",
      "l1_ratio_: 0.300000\n",
      "Mean MAE: 0.380 (0.067)\n",
      "('White', 'Income', 'Doctors', 'White Traf Deaths', 'White Unemployed', 'White University', 'White Crime', 'White Income', 'White Infant Mort', 'Population^2', 'Population Income', 'Population Infant Mort', 'Population Doctors', 'Traf Deaths Unemployed', 'Traf Deaths Crime', 'Traf Deaths Infant Mort', 'Unemployed^2', 'Unemployed University', 'Unemployed Income', 'University Income', 'Crime Income', 'Crime Infant Mort', 'Income^2')\n",
      "alpha: 0.000000\n",
      "l1_ratio_: 0.100000\n",
      "Mean MAE: 0.447 (0.090)\n",
      "('White', 'Income', 'Doctors', 'White Traf Deaths', 'White Unemployed', 'White University', 'White Crime', 'White Income', 'White Infant Mort', 'Population^2', 'Population Income', 'Population Infant Mort', 'Population Doctors', 'Traf Deaths Unemployed', 'Traf Deaths Crime', 'Traf Deaths Infant Mort', 'Unemployed^2', 'Unemployed University', 'Unemployed Crime', 'Unemployed Income', 'University Income', 'Crime Income', 'Crime Infant Mort', 'Income^2')\n",
      "alpha: 0.000000\n",
      "l1_ratio_: 0.950000\n",
      "Mean MAE: 0.449 (0.088)\n",
      "('White', 'Unemployed', 'Income', 'Doctors', 'White Traf Deaths', 'White Unemployed', 'White University', 'White Crime', 'White Income', 'White Infant Mort', 'Population^2', 'Population Income', 'Population Infant Mort', 'Population Doctors', 'Traf Deaths Unemployed', 'Traf Deaths Crime', 'Traf Deaths Infant Mort', 'Unemployed^2', 'Unemployed University', 'Unemployed Crime', 'Unemployed Income', 'University Income', 'Crime Income', 'Crime Infant Mort', 'Income^2')\n",
      "alpha: 0.010000\n",
      "l1_ratio_: 0.950000\n",
      "Mean MAE: 0.360 (0.040)\n",
      "('White', 'Unemployed', 'Income', 'Infant Mort', 'Doctors', 'White Traf Deaths', 'White Unemployed', 'White University', 'White Crime', 'White Income', 'White Infant Mort', 'Population^2', 'Population Income', 'Population Infant Mort', 'Population Doctors', 'Traf Deaths Unemployed', 'Traf Deaths Crime', 'Traf Deaths Infant Mort', 'Unemployed^2', 'Unemployed University', 'Unemployed Crime', 'Unemployed Income', 'University Income', 'Crime Income', 'Crime Infant Mort', 'Income^2')\n",
      "alpha: 0.100000\n",
      "l1_ratio_: 0.250000\n",
      "Mean MAE: 0.358 (0.043)\n",
      "('White', 'Unemployed', 'Income', 'Infant Mort', 'Doctors', 'White^2', 'White Traf Deaths', 'White Unemployed', 'White University', 'White Crime', 'White Infant Mort', 'Population^2', 'Population University', 'Population Income', 'Population Infant Mort', 'Population Doctors', 'Traf Deaths Unemployed', 'Traf Deaths Crime', 'Traf Deaths Infant Mort', 'Unemployed^2', 'Unemployed University', 'Unemployed Crime', 'Unemployed Income', 'University Income', 'Crime Income', 'Crime Infant Mort', 'Income^2')\n",
      "alpha: 0.000100\n",
      "l1_ratio_: 0.500000\n",
      "Mean MAE: 0.363 (0.046)\n",
      "('White', 'Unemployed', 'Income', 'Infant Mort', 'Doctors', 'White^2', 'White Traf Deaths', 'White Unemployed', 'White University', 'White Crime', 'White Infant Mort', 'Population^2', 'Population University', 'Population Income', 'Population Infant Mort', 'Population Doctors', 'Traf Deaths Unemployed', 'Traf Deaths Crime', 'Traf Deaths Infant Mort', 'Unemployed^2', 'Unemployed University', 'Unemployed Crime', 'Unemployed Income', 'University Crime', 'University Income', 'Crime Income', 'Crime Infant Mort', 'Income^2')\n",
      "alpha: 0.100000\n",
      "l1_ratio_: 0.300000\n",
      "Mean MAE: 0.363 (0.046)\n",
      "('White', 'Unemployed', 'Income', 'Infant Mort', 'Doctors', 'White^2', 'White Population', 'White Traf Deaths', 'White University', 'White Crime', 'White Infant Mort', 'Population^2', 'Population Traf Deaths', 'Population Crime', 'Population Income', 'Population Infant Mort', 'Population Doctors', 'Traf Deaths Unemployed', 'Traf Deaths Crime', 'Traf Deaths Infant Mort', 'Unemployed University', 'Unemployed Crime', 'Unemployed Income', 'University^2', 'University Income', 'Crime Income', 'Crime Infant Mort', 'Income^2', 'Infant Mort^2')\n",
      "alpha: 0.100000\n",
      "l1_ratio_: 0.550000\n",
      "Mean MAE: 0.375 (0.075)\n",
      "('Population', 'Traf Deaths', 'Unemployed', 'Income', 'Infant Mort', 'White^2', 'White Population', 'White Traf Deaths', 'White Unemployed', 'White University', 'White Income', 'White Doctors', 'Population^2', 'Population Traf Deaths', 'Population Unemployed', 'Population Infant Mort', 'Traf Deaths Income', 'Unemployed^2', 'Unemployed Crime', 'Unemployed Income', 'Unemployed Infant Mort', 'University^2', 'University Income', 'University Doctors', 'Crime Doctors', 'Income Infant Mort', 'Income Doctors', 'Infant Mort^2', 'Infant Mort Doctors', 'Doctors^2')\n",
      "alpha: 0.001000\n",
      "l1_ratio_: 0.000000\n",
      "Mean MAE: 0.394 (0.131)\n",
      "('Population', 'Traf Deaths', 'Unemployed', 'Income', 'Infant Mort', 'White^2', 'White Population', 'White Traf Deaths', 'White Unemployed', 'White University', 'White Income', 'White Doctors', 'Population^2', 'Population Traf Deaths', 'Population Unemployed', 'Population Income', 'Population Infant Mort', 'Traf Deaths University', 'Unemployed^2', 'Unemployed Crime', 'Unemployed Income', 'Unemployed Infant Mort', 'University^2', 'University Income', 'University Doctors', 'Crime Doctors', 'Income Infant Mort', 'Income Doctors', 'Infant Mort^2', 'Infant Mort Doctors', 'Doctors^2')\n",
      "alpha: 0.010000\n",
      "l1_ratio_: 0.000000\n",
      "Mean MAE: 0.416 (0.129)\n",
      "('Population', 'Traf Deaths', 'Unemployed', 'Income', 'Infant Mort', 'White^2', 'White Population', 'White Traf Deaths', 'White Unemployed', 'White Income', 'White Doctors', 'Population^2', 'Population Traf Deaths', 'Population Unemployed', 'Population Income', 'Population Infant Mort', 'Traf Deaths University', 'Traf Deaths Income', 'Unemployed^2', 'Unemployed Crime', 'Unemployed Income', 'Unemployed Infant Mort', 'University^2', 'University Income', 'University Infant Mort', 'University Doctors', 'Crime Doctors', 'Income Infant Mort', 'Income Doctors', 'Infant Mort^2', 'Infant Mort Doctors', 'Doctors^2')\n",
      "alpha: 0.010000\n",
      "l1_ratio_: 0.000000\n",
      "Mean MAE: 0.422 (0.136)\n",
      "('Population', 'Traf Deaths', 'Unemployed', 'Income', 'Infant Mort', 'White^2', 'White Population', 'White Traf Deaths', 'White Unemployed', 'White University', 'White Income', 'White Doctors', 'Population^2', 'Population Traf Deaths', 'Population Unemployed', 'Population Income', 'Population Infant Mort', 'Traf Deaths University', 'Traf Deaths Income', 'Unemployed^2', 'Unemployed Crime', 'Unemployed Income', 'Unemployed Infant Mort', 'University^2', 'University Income', 'University Infant Mort', 'University Doctors', 'Crime Doctors', 'Income Infant Mort', 'Income Doctors', 'Infant Mort^2', 'Infant Mort Doctors', 'Doctors^2')\n",
      "alpha: 0.010000\n",
      "l1_ratio_: 0.000000\n",
      "Mean MAE: 0.422 (0.136)\n",
      "('Population', 'Traf Deaths', 'Unemployed', 'Income', 'Infant Mort', 'White^2', 'White Population', 'White Traf Deaths', 'White Unemployed', 'White University', 'White Income', 'White Doctors', 'Population^2', 'Population Traf Deaths', 'Population Unemployed', 'Population Income', 'Population Infant Mort', 'Traf Deaths University', 'Traf Deaths Income', 'Traf Deaths Infant Mort', 'Unemployed^2', 'Unemployed Crime', 'Unemployed Income', 'Unemployed Infant Mort', 'University^2', 'University Income', 'University Infant Mort', 'University Doctors', 'Crime Doctors', 'Income Infant Mort', 'Income Doctors', 'Infant Mort^2', 'Infant Mort Doctors', 'Doctors^2')\n",
      "alpha: 0.010000\n",
      "l1_ratio_: 0.000000\n",
      "Mean MAE: 0.388 (0.122)\n",
      "('Population', 'Traf Deaths', 'Unemployed', 'Income', 'Infant Mort', 'White^2', 'White Population', 'White Traf Deaths', 'White Unemployed', 'White University', 'White Crime', 'White Income', 'White Infant Mort', 'White Doctors', 'Population^2', 'Population Traf Deaths', 'Population Unemployed', 'Population Income', 'Population Infant Mort', 'Traf Deaths University', 'Traf Deaths Income', 'Traf Deaths Infant Mort', 'Unemployed^2', 'Unemployed Crime', 'Unemployed Income', 'Unemployed Infant Mort', 'University^2', 'University Income', 'University Doctors', 'Crime Doctors', 'Income Infant Mort', 'Income Doctors', 'Infant Mort^2', 'Infant Mort Doctors', 'Doctors^2')\n",
      "alpha: 0.010000\n",
      "l1_ratio_: 0.000000\n",
      "Mean MAE: 0.396 (0.114)\n",
      "('Population', 'Traf Deaths', 'Unemployed', 'Income', 'Infant Mort', 'White^2', 'White Population', 'White Traf Deaths', 'White Unemployed', 'White University', 'White Crime', 'White Income', 'White Infant Mort', 'White Doctors', 'Population^2', 'Population Traf Deaths', 'Population Unemployed', 'Population Crime', 'Population Income', 'Population Infant Mort', 'Traf Deaths University', 'Traf Deaths Infant Mort', 'Unemployed^2', 'Unemployed Crime', 'Unemployed Income', 'Unemployed Infant Mort', 'University^2', 'University Income', 'University Infant Mort', 'University Doctors', 'Crime Doctors', 'Income Infant Mort', 'Income Doctors', 'Infant Mort^2', 'Infant Mort Doctors', 'Doctors^2')\n",
      "alpha: 0.001000\n",
      "l1_ratio_: 0.000000\n",
      "Mean MAE: 0.404 (0.121)\n",
      "('Population', 'Traf Deaths', 'Unemployed', 'Income', 'Infant Mort', 'White^2', 'White Population', 'White Traf Deaths', 'White Unemployed', 'White University', 'White Crime', 'White Income', 'White Infant Mort', 'White Doctors', 'Population^2', 'Population Traf Deaths', 'Population Unemployed', 'Population University', 'Population Crime', 'Population Income', 'Population Infant Mort', 'Traf Deaths University', 'Traf Deaths Income', 'Traf Deaths Infant Mort', 'Unemployed^2', 'Unemployed Crime', 'Unemployed Income', 'Unemployed Infant Mort', 'University^2', 'University Income', 'University Doctors', 'Crime Doctors', 'Income Infant Mort', 'Income Doctors', 'Infant Mort^2', 'Infant Mort Doctors', 'Doctors^2')\n",
      "alpha: 0.010000\n",
      "l1_ratio_: 0.000000\n",
      "Mean MAE: 0.409 (0.126)\n",
      "('Population', 'Traf Deaths', 'Unemployed', 'Income', 'Infant Mort', 'White^2', 'White Population', 'White Traf Deaths', 'White Unemployed', 'White University', 'White Crime', 'White Income', 'White Infant Mort', 'White Doctors', 'Population^2', 'Population Traf Deaths', 'Population Unemployed', 'Population University', 'Population Crime', 'Population Income', 'Population Infant Mort', 'Traf Deaths University', 'Traf Deaths Income', 'Traf Deaths Infant Mort', 'Unemployed^2', 'Unemployed Crime', 'Unemployed Income', 'Unemployed Infant Mort', 'University^2', 'University Income', 'University Infant Mort', 'University Doctors', 'Crime Doctors', 'Income Infant Mort', 'Income Doctors', 'Infant Mort^2', 'Infant Mort Doctors', 'Doctors^2')\n",
      "alpha: 0.010000\n",
      "l1_ratio_: 0.000000\n",
      "Mean MAE: 0.409 (0.129)\n",
      "('Population', 'Traf Deaths', 'Unemployed', 'University', 'Income', 'Infant Mort', 'Doctors', 'White^2', 'White Population', 'White Traf Deaths', 'White Unemployed', 'White University', 'White Crime', 'White Income', 'White Infant Mort', 'White Doctors', 'Population^2', 'Population Traf Deaths', 'Population Unemployed', 'Population University', 'Population Income', 'Population Infant Mort', 'Traf Deaths University', 'Traf Deaths Income', 'Traf Deaths Infant Mort', 'Unemployed^2', 'Unemployed Crime', 'Unemployed Income', 'Unemployed Infant Mort', 'University^2', 'University Income', 'University Infant Mort', 'University Doctors', 'Crime Doctors', 'Income Infant Mort', 'Income Doctors', 'Infant Mort^2', 'Infant Mort Doctors', 'Doctors^2')\n",
      "alpha: 0.010000\n",
      "l1_ratio_: 0.050000\n",
      "Mean MAE: 0.392 (0.103)\n",
      "('Population', 'Traf Deaths', 'Unemployed', 'University', 'Income', 'Infant Mort', 'Doctors', 'White^2', 'White Population', 'White Traf Deaths', 'White Unemployed', 'White University', 'White Crime', 'White Income', 'White Doctors', 'Population^2', 'Population Traf Deaths', 'Population Unemployed', 'Population Income', 'Population Infant Mort', 'Traf Deaths University', 'Traf Deaths Crime', 'Traf Deaths Income', 'Traf Deaths Infant Mort', 'Unemployed^2', 'Unemployed Crime', 'Unemployed Income', 'Unemployed Infant Mort', 'University^2', 'University Crime', 'University Income', 'University Infant Mort', 'University Doctors', 'Crime^2', 'Crime Doctors', 'Income^2', 'Income Infant Mort', 'Infant Mort^2', 'Infant Mort Doctors', 'Doctors^2')\n",
      "alpha: 0.100000\n",
      "l1_ratio_: 0.650000\n",
      "Mean MAE: 0.388 (0.102)\n",
      "('Population', 'Traf Deaths', 'Unemployed', 'University', 'Income', 'Infant Mort', 'Doctors', 'White^2', 'White Population', 'White Traf Deaths', 'White Unemployed', 'White University', 'White Crime', 'White Income', 'White Infant Mort', 'White Doctors', 'Population^2', 'Population Traf Deaths', 'Population Unemployed', 'Population Income', 'Population Infant Mort', 'Traf Deaths University', 'Traf Deaths Crime', 'Traf Deaths Income', 'Traf Deaths Infant Mort', 'Unemployed^2', 'Unemployed Crime', 'Unemployed Income', 'Unemployed Infant Mort', 'University^2', 'University Crime', 'University Income', 'University Infant Mort', 'University Doctors', 'Crime^2', 'Crime Doctors', 'Income^2', 'Income Infant Mort', 'Infant Mort^2', 'Infant Mort Doctors', 'Doctors^2')\n",
      "alpha: 0.100000\n",
      "l1_ratio_: 0.650000\n",
      "Mean MAE: 0.388 (0.102)\n",
      "('Population', 'Traf Deaths', 'Unemployed', 'University', 'Income', 'Infant Mort', 'Doctors', 'White^2', 'White Population', 'White Traf Deaths', 'White Unemployed', 'White University', 'White Crime', 'White Income', 'White Infant Mort', 'White Doctors', 'Population^2', 'Population Traf Deaths', 'Population Unemployed', 'Population Crime', 'Population Income', 'Population Infant Mort', 'Traf Deaths University', 'Traf Deaths Crime', 'Traf Deaths Income', 'Traf Deaths Infant Mort', 'Unemployed^2', 'Unemployed Crime', 'Unemployed Income', 'Unemployed Infant Mort', 'University^2', 'University Crime', 'University Income', 'University Infant Mort', 'University Doctors', 'Crime^2', 'Crime Doctors', 'Income^2', 'Income Infant Mort', 'Infant Mort^2', 'Infant Mort Doctors', 'Doctors^2')\n",
      "alpha: 0.100000\n",
      "l1_ratio_: 0.650000\n",
      "Mean MAE: 0.391 (0.099)\n",
      "('Population', 'Traf Deaths', 'Unemployed', 'University', 'Income', 'Infant Mort', 'Doctors', 'White^2', 'White Population', 'White Traf Deaths', 'White Unemployed', 'White University', 'White Crime', 'White Income', 'White Infant Mort', 'White Doctors', 'Population^2', 'Population Traf Deaths', 'Population Unemployed', 'Population University', 'Population Crime', 'Population Income', 'Population Infant Mort', 'Traf Deaths University', 'Traf Deaths Crime', 'Traf Deaths Income', 'Traf Deaths Infant Mort', 'Unemployed^2', 'Unemployed Crime', 'Unemployed Income', 'Unemployed Infant Mort', 'University^2', 'University Crime', 'University Income', 'University Infant Mort', 'University Doctors', 'Crime^2', 'Crime Doctors', 'Income^2', 'Income Infant Mort', 'Infant Mort^2', 'Infant Mort Doctors', 'Doctors^2')\n",
      "alpha: 0.100000\n",
      "l1_ratio_: 0.650000\n",
      "Mean MAE: 0.390 (0.099)\n",
      "('Population', 'Traf Deaths', 'Unemployed', 'University', 'Income', 'Infant Mort', 'Doctors', 'White^2', 'White Population', 'White Traf Deaths', 'White Unemployed', 'White University', 'White Crime', 'White Income', 'White Infant Mort', 'White Doctors', 'Population^2', 'Population Traf Deaths', 'Population Unemployed', 'Population University', 'Population Crime', 'Population Income', 'Population Infant Mort', 'Traf Deaths University', 'Traf Deaths Crime', 'Traf Deaths Income', 'Traf Deaths Infant Mort', 'Traf Deaths Doctors', 'Unemployed^2', 'Unemployed Crime', 'Unemployed Income', 'Unemployed Infant Mort', 'University^2', 'University Crime', 'University Income', 'University Infant Mort', 'University Doctors', 'Crime^2', 'Crime Doctors', 'Income^2', 'Income Infant Mort', 'Infant Mort^2', 'Infant Mort Doctors', 'Doctors^2')\n",
      "alpha: 0.100000\n",
      "l1_ratio_: 0.650000\n",
      "Mean MAE: 0.390 (0.099)\n",
      "('Population', 'Traf Deaths', 'Unemployed', 'University', 'Income', 'Infant Mort', 'Doctors', 'White^2', 'White Population', 'White Traf Deaths', 'White Unemployed', 'White University', 'White Crime', 'White Income', 'White Infant Mort', 'White Doctors', 'Population^2', 'Population Traf Deaths', 'Population Unemployed', 'Population University', 'Population Crime', 'Population Income', 'Population Infant Mort', 'Population Doctors', 'Traf Deaths University', 'Traf Deaths Crime', 'Traf Deaths Income', 'Traf Deaths Infant Mort', 'Traf Deaths Doctors', 'Unemployed^2', 'Unemployed Crime', 'Unemployed Income', 'Unemployed Infant Mort', 'University^2', 'University Crime', 'University Income', 'University Infant Mort', 'University Doctors', 'Crime^2', 'Crime Doctors', 'Income^2', 'Income Infant Mort', 'Infant Mort^2', 'Infant Mort Doctors', 'Doctors^2')\n",
      "alpha: 0.100000\n",
      "l1_ratio_: 0.700000\n",
      "Mean MAE: 0.416 (0.138)\n",
      "('Population', 'Traf Deaths', 'Unemployed', 'University', 'Income', 'Infant Mort', 'Doctors', 'White^2', 'White Population', 'White Traf Deaths', 'White Unemployed', 'White University', 'White Crime', 'White Income', 'White Infant Mort', 'White Doctors', 'Population^2', 'Population Traf Deaths', 'Population Unemployed', 'Population University', 'Population Crime', 'Population Income', 'Population Infant Mort', 'Population Doctors', 'Traf Deaths Unemployed', 'Traf Deaths University', 'Traf Deaths Crime', 'Traf Deaths Income', 'Traf Deaths Infant Mort', 'Traf Deaths Doctors', 'Unemployed^2', 'Unemployed Crime', 'Unemployed Income', 'Unemployed Infant Mort', 'University^2', 'University Crime', 'University Income', 'University Infant Mort', 'University Doctors', 'Crime^2', 'Crime Doctors', 'Income^2', 'Income Infant Mort', 'Infant Mort^2', 'Infant Mort Doctors', 'Doctors^2')\n",
      "alpha: 0.100000\n",
      "l1_ratio_: 0.650000\n",
      "Mean MAE: 0.414 (0.138)\n",
      "('Population', 'Traf Deaths', 'Unemployed', 'University', 'Income', 'Infant Mort', 'Doctors', 'White^2', 'White Population', 'White Traf Deaths', 'White Unemployed', 'White University', 'White Crime', 'White Income', 'White Infant Mort', 'White Doctors', 'Population^2', 'Population Traf Deaths', 'Population Unemployed', 'Population University', 'Population Crime', 'Population Income', 'Population Infant Mort', 'Population Doctors', 'Traf Deaths Unemployed', 'Traf Deaths University', 'Traf Deaths Crime', 'Traf Deaths Income', 'Traf Deaths Infant Mort', 'Traf Deaths Doctors', 'Unemployed^2', 'Unemployed Crime', 'Unemployed Income', 'Unemployed Infant Mort', 'University^2', 'University Crime', 'University Income', 'University Infant Mort', 'University Doctors', 'Crime^2', 'Crime Doctors', 'Income^2', 'Income Infant Mort', 'Income Doctors', 'Infant Mort^2', 'Infant Mort Doctors', 'Doctors^2')\n",
      "alpha: 0.100000\n",
      "l1_ratio_: 0.650000\n",
      "Mean MAE: 0.414 (0.138)\n",
      "('Population', 'Traf Deaths', 'Unemployed', 'University', 'Income', 'Infant Mort', 'Doctors', 'White^2', 'White Population', 'White Traf Deaths', 'White Unemployed', 'White University', 'White Crime', 'White Income', 'White Infant Mort', 'White Doctors', 'Population^2', 'Population Traf Deaths', 'Population Unemployed', 'Population University', 'Population Crime', 'Population Income', 'Population Infant Mort', 'Population Doctors', 'Traf Deaths Unemployed', 'Traf Deaths University', 'Traf Deaths Crime', 'Traf Deaths Income', 'Traf Deaths Infant Mort', 'Traf Deaths Doctors', 'Unemployed^2', 'Unemployed Crime', 'Unemployed Income', 'Unemployed Infant Mort', 'University^2', 'University Crime', 'University Income', 'University Infant Mort', 'University Doctors', 'Crime^2', 'Crime Income', 'Crime Doctors', 'Income^2', 'Income Infant Mort', 'Income Doctors', 'Infant Mort^2', 'Infant Mort Doctors', 'Doctors^2')\n",
      "alpha: 0.100000\n",
      "l1_ratio_: 0.450000\n",
      "Mean MAE: 0.421 (0.160)\n",
      "('Population', 'Traf Deaths', 'Unemployed', 'University', 'Income', 'Infant Mort', 'Doctors', 'White^2', 'White Population', 'White Traf Deaths', 'White Unemployed', 'White University', 'White Crime', 'White Income', 'White Infant Mort', 'White Doctors', 'Population^2', 'Population Traf Deaths', 'Population Unemployed', 'Population University', 'Population Crime', 'Population Income', 'Population Infant Mort', 'Population Doctors', 'Traf Deaths^2', 'Traf Deaths Unemployed', 'Traf Deaths University', 'Traf Deaths Crime', 'Traf Deaths Income', 'Traf Deaths Infant Mort', 'Traf Deaths Doctors', 'Unemployed^2', 'Unemployed Crime', 'Unemployed Income', 'Unemployed Infant Mort', 'University^2', 'University Crime', 'University Income', 'University Infant Mort', 'University Doctors', 'Crime^2', 'Crime Income', 'Crime Doctors', 'Income^2', 'Income Infant Mort', 'Income Doctors', 'Infant Mort^2', 'Infant Mort Doctors', 'Doctors^2')\n",
      "alpha: 0.100000\n",
      "l1_ratio_: 0.450000\n",
      "Mean MAE: 0.422 (0.162)\n",
      "('White', 'Population', 'Traf Deaths', 'Unemployed', 'University', 'Income', 'Infant Mort', 'Doctors', 'White^2', 'White Population', 'White Traf Deaths', 'White Unemployed', 'White University', 'White Crime', 'White Income', 'White Infant Mort', 'White Doctors', 'Population^2', 'Population Traf Deaths', 'Population Unemployed', 'Population University', 'Population Crime', 'Population Income', 'Population Infant Mort', 'Population Doctors', 'Traf Deaths Unemployed', 'Traf Deaths University', 'Traf Deaths Crime', 'Traf Deaths Income', 'Traf Deaths Infant Mort', 'Traf Deaths Doctors', 'Unemployed^2', 'Unemployed Crime', 'Unemployed Income', 'Unemployed Infant Mort', 'University^2', 'University Crime', 'University Income', 'University Infant Mort', 'University Doctors', 'Crime^2', 'Crime Income', 'Crime Infant Mort', 'Crime Doctors', 'Income^2', 'Income Infant Mort', 'Income Doctors', 'Infant Mort^2', 'Infant Mort Doctors', 'Doctors^2')\n",
      "alpha: 0.100000\n",
      "l1_ratio_: 0.450000\n",
      "Mean MAE: 0.423 (0.147)\n",
      "('White', 'Population', 'Traf Deaths', 'Unemployed', 'University', 'Income', 'Infant Mort', 'Doctors', 'White^2', 'White Population', 'White Traf Deaths', 'White Unemployed', 'White University', 'White Crime', 'White Income', 'White Infant Mort', 'White Doctors', 'Population^2', 'Population Traf Deaths', 'Population Unemployed', 'Population University', 'Population Crime', 'Population Income', 'Population Infant Mort', 'Population Doctors', 'Traf Deaths^2', 'Traf Deaths Unemployed', 'Traf Deaths University', 'Traf Deaths Crime', 'Traf Deaths Income', 'Traf Deaths Infant Mort', 'Traf Deaths Doctors', 'Unemployed^2', 'Unemployed Crime', 'Unemployed Income', 'Unemployed Infant Mort', 'University^2', 'University Crime', 'University Income', 'University Infant Mort', 'University Doctors', 'Crime^2', 'Crime Income', 'Crime Infant Mort', 'Crime Doctors', 'Income^2', 'Income Infant Mort', 'Income Doctors', 'Infant Mort^2', 'Infant Mort Doctors', 'Doctors^2')\n",
      "alpha: 0.100000\n",
      "l1_ratio_: 0.450000\n",
      "Mean MAE: 0.424 (0.147)\n",
      "('White', 'Population', 'Traf Deaths', 'Unemployed', 'University', 'Crime', 'Income', 'Infant Mort', 'Doctors', 'White^2', 'White Population', 'White Traf Deaths', 'White Unemployed', 'White University', 'White Crime', 'White Income', 'White Infant Mort', 'White Doctors', 'Population^2', 'Population Traf Deaths', 'Population Unemployed', 'Population University', 'Population Crime', 'Population Income', 'Population Infant Mort', 'Population Doctors', 'Traf Deaths^2', 'Traf Deaths Unemployed', 'Traf Deaths University', 'Traf Deaths Crime', 'Traf Deaths Income', 'Traf Deaths Infant Mort', 'Traf Deaths Doctors', 'Unemployed^2', 'Unemployed Crime', 'Unemployed Income', 'Unemployed Infant Mort', 'University^2', 'University Crime', 'University Income', 'University Infant Mort', 'University Doctors', 'Crime^2', 'Crime Income', 'Crime Infant Mort', 'Crime Doctors', 'Income^2', 'Income Infant Mort', 'Income Doctors', 'Infant Mort^2', 'Infant Mort Doctors', 'Doctors^2')\n",
      "alpha: 0.100000\n",
      "l1_ratio_: 0.650000\n",
      "Mean MAE: 0.434 (0.147)\n",
      "('White', 'Population', 'Traf Deaths', 'Unemployed', 'University', 'Income', 'Infant Mort', 'Doctors', 'White^2', 'White Population', 'White Traf Deaths', 'White Unemployed', 'White University', 'White Crime', 'White Income', 'White Infant Mort', 'White Doctors', 'Population^2', 'Population Traf Deaths', 'Population Unemployed', 'Population University', 'Population Crime', 'Population Income', 'Population Infant Mort', 'Population Doctors', 'Traf Deaths^2', 'Traf Deaths Unemployed', 'Traf Deaths University', 'Traf Deaths Crime', 'Traf Deaths Income', 'Traf Deaths Infant Mort', 'Traf Deaths Doctors', 'Unemployed^2', 'Unemployed University', 'Unemployed Crime', 'Unemployed Income', 'Unemployed Infant Mort', 'Unemployed Doctors', 'University^2', 'University Crime', 'University Income', 'University Infant Mort', 'University Doctors', 'Crime^2', 'Crime Income', 'Crime Infant Mort', 'Crime Doctors', 'Income^2', 'Income Infant Mort', 'Income Doctors', 'Infant Mort^2', 'Infant Mort Doctors', 'Doctors^2')\n",
      "alpha: 0.100000\n",
      "l1_ratio_: 0.550000\n",
      "Mean MAE: 0.421 (0.142)\n",
      "('White', 'Population', 'Traf Deaths', 'Unemployed', 'University', 'Crime', 'Income', 'Infant Mort', 'Doctors', 'White^2', 'White Population', 'White Traf Deaths', 'White Unemployed', 'White University', 'White Crime', 'White Income', 'White Infant Mort', 'White Doctors', 'Population^2', 'Population Traf Deaths', 'Population Unemployed', 'Population University', 'Population Crime', 'Population Income', 'Population Infant Mort', 'Population Doctors', 'Traf Deaths^2', 'Traf Deaths Unemployed', 'Traf Deaths University', 'Traf Deaths Crime', 'Traf Deaths Income', 'Traf Deaths Infant Mort', 'Traf Deaths Doctors', 'Unemployed^2', 'Unemployed University', 'Unemployed Crime', 'Unemployed Income', 'Unemployed Infant Mort', 'Unemployed Doctors', 'University^2', 'University Crime', 'University Income', 'University Infant Mort', 'University Doctors', 'Crime^2', 'Crime Income', 'Crime Infant Mort', 'Crime Doctors', 'Income^2', 'Income Infant Mort', 'Income Doctors', 'Infant Mort^2', 'Infant Mort Doctors', 'Doctors^2')\n",
      "alpha: 0.100000\n",
      "l1_ratio_: 0.650000\n",
      "Mean MAE: 0.432 (0.139)\n"
     ]
    }
   ],
   "source": [
    "CV_results = pd.DataFrame()#[]#np.zeros(shape=(len(features),5))\n",
    "\n",
    "#looping over sequentially selected features, deriving ElasticNet hyper parm's over each best subset and noting error\n",
    "\n",
    "for f in features:\n",
    "\n",
    "    print(f)\n",
    "    cv = RepeatedKFold(n_splits=numCV, n_repeats=1, random_state=1)\n",
    "\n",
    "    EN_CV = ElasticNetCV(l1_ratio=l1s, alphas=alphas, cv=cv, n_jobs=-1)\n",
    "    # fit model\n",
    "\n",
    "    X_subset = pd.DataFrame(x_train_ss_yj_inter[list(np.asarray(f))])\n",
    "    y_ = y_train_ss_yj\n",
    "    EN_CV.fit(X_subset, y_)\n",
    "    \n",
    "    print('alpha: %f' % EN_CV.alpha_)\n",
    "    print('l1_ratio_: %f' % EN_CV.l1_ratio_)\n",
    "    \n",
    "    # evaluate model\n",
    "    scores = cross_val_score(EN_CV, X_subset, y_, scoring='neg_mean_absolute_error', cv=cv, n_jobs=-1)\n",
    "    # force scores to be positive\n",
    "    scores = absolute(scores)\n",
    "    print('Mean MAE: %.3f (%.3f)' % (mean(scores), std(scores)))\n",
    "    \n",
    "    temp = pd.concat([pd.DataFrame({\"features\": [np.array(f)]}),pd.DataFrame(np.array(mean(scores)).reshape(-1,1)),pd.DataFrame(np.array(std(scores)).reshape(-1,1)),pd.DataFrame(np.array(EN_CV.alpha_).reshape(-1,1)),pd.DataFrame(np.array(EN_CV.l1_ratio_).reshape(-1,1))],axis=1)\n",
    "    \n",
    "    CV_results = pd.concat([CV_results,temp],axis=0)"
   ]
  },
  {
   "cell_type": "markdown",
   "id": "f2b875af-fe99-411e-963e-cc0737abd4e5",
   "metadata": {},
   "source": []
  },
  {
   "cell_type": "code",
   "execution_count": 29,
   "id": "7ceba4c0-ec5a-4e90-b8fd-8ece185b512f",
   "metadata": {},
   "outputs": [
    {
     "data": {
      "image/png": "[encoded data removed]",
      "text/plain": [
       "<Figure size 432x288 with 1 Axes>"
      ]
     },
     "metadata": {
      "needs_background": "light"
     },
     "output_type": "display_data"
    },
    {
     "name": "stdout",
     "output_type": "stream",
     "text": [
      "['White' 'Population' 'Income' 'Population Infant Mort'\n",
      " 'Population Doctors' 'Traf Deaths^2' 'Traf Deaths Infant Mort'\n",
      " 'Unemployed University' 'Crime Doctors']\n",
      "['White' 'Population' 'Income' 'Unemployed University' 'Crime Doctors']\n"
     ]
    },
    {
     "data": {
      "text/html": [
       "<div>\n",
       "<style scoped>\n",
       "    .dataframe tbody tr th:only-of-type {\n",
       "        vertical-align: middle;\n",
       "    }\n",
       "\n",
       "    .dataframe tbody tr th {\n",
       "        vertical-align: top;\n",
       "    }\n",
       "\n",
       "    .dataframe thead th {\n",
       "        text-align: right;\n",
       "    }\n",
       "</style>\n",
       "<table border=\"1\" class=\"dataframe\">\n",
       "  <thead>\n",
       "    <tr style=\"text-align: right;\">\n",
       "      <th></th>\n",
       "      <th>features</th>\n",
       "      <th>mean error</th>\n",
       "      <th>std</th>\n",
       "      <th>alpha</th>\n",
       "      <th>lambda</th>\n",
       "    </tr>\n",
       "  </thead>\n",
       "  <tbody>\n",
       "    <tr>\n",
       "      <th>0</th>\n",
       "      <td>[Income]</td>\n",
       "      <td>0.465419</td>\n",
       "      <td>0.161958</td>\n",
       "      <td>0.0010</td>\n",
       "      <td>0.00</td>\n",
       "    </tr>\n",
       "    <tr>\n",
       "      <th>1</th>\n",
       "      <td>[White, Income]</td>\n",
       "      <td>0.372176</td>\n",
       "      <td>0.071435</td>\n",
       "      <td>0.0000</td>\n",
       "      <td>0.00</td>\n",
       "    </tr>\n",
       "    <tr>\n",
       "      <th>2</th>\n",
       "      <td>[White, Population, Income]</td>\n",
       "      <td>0.334989</td>\n",
       "      <td>0.041830</td>\n",
       "      <td>0.0000</td>\n",
       "      <td>0.90</td>\n",
       "    </tr>\n",
       "    <tr>\n",
       "      <th>3</th>\n",
       "      <td>[White, Population, Income, Crime Doctors]</td>\n",
       "      <td>0.325525</td>\n",
       "      <td>0.044530</td>\n",
       "      <td>0.0000</td>\n",
       "      <td>0.25</td>\n",
       "    </tr>\n",
       "    <tr>\n",
       "      <th>4</th>\n",
       "      <td>[White, Population, Income, Unemployed Univers...</td>\n",
       "      <td>0.291896</td>\n",
       "      <td>0.054960</td>\n",
       "      <td>0.0000</td>\n",
       "      <td>0.60</td>\n",
       "    </tr>\n",
       "    <tr>\n",
       "      <th>5</th>\n",
       "      <td>[White, Population, Income, Traf Deaths^2, Une...</td>\n",
       "      <td>0.258906</td>\n",
       "      <td>0.052490</td>\n",
       "      <td>0.0000</td>\n",
       "      <td>0.15</td>\n",
       "    </tr>\n",
       "    <tr>\n",
       "      <th>6</th>\n",
       "      <td>[White, Population, Income, Traf Deaths^2, Tra...</td>\n",
       "      <td>0.262026</td>\n",
       "      <td>0.064627</td>\n",
       "      <td>0.0100</td>\n",
       "      <td>0.40</td>\n",
       "    </tr>\n",
       "    <tr>\n",
       "      <th>7</th>\n",
       "      <td>[White, Population, Income, Population Doctors...</td>\n",
       "      <td>0.265160</td>\n",
       "      <td>0.058161</td>\n",
       "      <td>0.0100</td>\n",
       "      <td>0.35</td>\n",
       "    </tr>\n",
       "    <tr>\n",
       "      <th>8</th>\n",
       "      <td>[White, Population, Income, Population Infant ...</td>\n",
       "      <td>0.254894</td>\n",
       "      <td>0.059228</td>\n",
       "      <td>0.0100</td>\n",
       "      <td>0.65</td>\n",
       "    </tr>\n",
       "    <tr>\n",
       "      <th>9</th>\n",
       "      <td>[White, Population, Income, Population Infant ...</td>\n",
       "      <td>0.265141</td>\n",
       "      <td>0.038973</td>\n",
       "      <td>0.0100</td>\n",
       "      <td>0.70</td>\n",
       "    </tr>\n",
       "    <tr>\n",
       "      <th>10</th>\n",
       "      <td>[White, Population, Income, Population Univers...</td>\n",
       "      <td>0.266090</td>\n",
       "      <td>0.080066</td>\n",
       "      <td>0.0100</td>\n",
       "      <td>0.15</td>\n",
       "    </tr>\n",
       "    <tr>\n",
       "      <th>11</th>\n",
       "      <td>[White, Population, Income, White Traf Deaths,...</td>\n",
       "      <td>0.272659</td>\n",
       "      <td>0.076108</td>\n",
       "      <td>0.0100</td>\n",
       "      <td>0.15</td>\n",
       "    </tr>\n",
       "    <tr>\n",
       "      <th>12</th>\n",
       "      <td>[White, Population, Income, White Traf Deaths,...</td>\n",
       "      <td>0.280569</td>\n",
       "      <td>0.075076</td>\n",
       "      <td>0.0100</td>\n",
       "      <td>0.20</td>\n",
       "    </tr>\n",
       "    <tr>\n",
       "      <th>13</th>\n",
       "      <td>[White, Population, Income, White Unemployed, ...</td>\n",
       "      <td>0.336010</td>\n",
       "      <td>0.072643</td>\n",
       "      <td>0.0100</td>\n",
       "      <td>0.95</td>\n",
       "    </tr>\n",
       "    <tr>\n",
       "      <th>14</th>\n",
       "      <td>[White, Population, Income, White Traf Deaths,...</td>\n",
       "      <td>0.341521</td>\n",
       "      <td>0.047097</td>\n",
       "      <td>0.0100</td>\n",
       "      <td>0.50</td>\n",
       "    </tr>\n",
       "    <tr>\n",
       "      <th>15</th>\n",
       "      <td>[White, Population, Income, White Traf Deaths,...</td>\n",
       "      <td>0.351139</td>\n",
       "      <td>0.041257</td>\n",
       "      <td>0.0100</td>\n",
       "      <td>0.75</td>\n",
       "    </tr>\n",
       "    <tr>\n",
       "      <th>16</th>\n",
       "      <td>[White, Population, Income, White Traf Deaths,...</td>\n",
       "      <td>0.394409</td>\n",
       "      <td>0.087148</td>\n",
       "      <td>0.1000</td>\n",
       "      <td>0.45</td>\n",
       "    </tr>\n",
       "    <tr>\n",
       "      <th>17</th>\n",
       "      <td>[White, Population, Income, White Traf Deaths,...</td>\n",
       "      <td>0.410517</td>\n",
       "      <td>0.114016</td>\n",
       "      <td>0.1000</td>\n",
       "      <td>0.45</td>\n",
       "    </tr>\n",
       "    <tr>\n",
       "      <th>18</th>\n",
       "      <td>[White, Population, Income, White Unemployed, ...</td>\n",
       "      <td>0.433300</td>\n",
       "      <td>0.105396</td>\n",
       "      <td>0.1000</td>\n",
       "      <td>0.55</td>\n",
       "    </tr>\n",
       "    <tr>\n",
       "      <th>19</th>\n",
       "      <td>[White, Population, Income, White Traf Deaths,...</td>\n",
       "      <td>0.347872</td>\n",
       "      <td>0.067116</td>\n",
       "      <td>0.1000</td>\n",
       "      <td>0.55</td>\n",
       "    </tr>\n",
       "    <tr>\n",
       "      <th>20</th>\n",
       "      <td>[White, Population, Unemployed, Income, White ...</td>\n",
       "      <td>0.346325</td>\n",
       "      <td>0.082168</td>\n",
       "      <td>0.1000</td>\n",
       "      <td>0.25</td>\n",
       "    </tr>\n",
       "    <tr>\n",
       "      <th>21</th>\n",
       "      <td>[White, Population, Income, White Traf Deaths,...</td>\n",
       "      <td>0.380333</td>\n",
       "      <td>0.067105</td>\n",
       "      <td>0.1000</td>\n",
       "      <td>0.30</td>\n",
       "    </tr>\n",
       "    <tr>\n",
       "      <th>22</th>\n",
       "      <td>[White, Income, Doctors, White Traf Deaths, Wh...</td>\n",
       "      <td>0.447487</td>\n",
       "      <td>0.090396</td>\n",
       "      <td>0.0000</td>\n",
       "      <td>0.10</td>\n",
       "    </tr>\n",
       "    <tr>\n",
       "      <th>23</th>\n",
       "      <td>[White, Income, Doctors, White Traf Deaths, Wh...</td>\n",
       "      <td>0.449445</td>\n",
       "      <td>0.087634</td>\n",
       "      <td>0.0000</td>\n",
       "      <td>0.95</td>\n",
       "    </tr>\n",
       "    <tr>\n",
       "      <th>24</th>\n",
       "      <td>[White, Unemployed, Income, Doctors, White Tra...</td>\n",
       "      <td>0.360450</td>\n",
       "      <td>0.039657</td>\n",
       "      <td>0.0100</td>\n",
       "      <td>0.95</td>\n",
       "    </tr>\n",
       "    <tr>\n",
       "      <th>25</th>\n",
       "      <td>[White, Unemployed, Income, Infant Mort, Docto...</td>\n",
       "      <td>0.358481</td>\n",
       "      <td>0.042531</td>\n",
       "      <td>0.1000</td>\n",
       "      <td>0.25</td>\n",
       "    </tr>\n",
       "    <tr>\n",
       "      <th>26</th>\n",
       "      <td>[White, Unemployed, Income, Infant Mort, Docto...</td>\n",
       "      <td>0.363355</td>\n",
       "      <td>0.045982</td>\n",
       "      <td>0.0001</td>\n",
       "      <td>0.50</td>\n",
       "    </tr>\n",
       "    <tr>\n",
       "      <th>27</th>\n",
       "      <td>[White, Unemployed, Income, Infant Mort, Docto...</td>\n",
       "      <td>0.363492</td>\n",
       "      <td>0.045777</td>\n",
       "      <td>0.1000</td>\n",
       "      <td>0.30</td>\n",
       "    </tr>\n",
       "    <tr>\n",
       "      <th>28</th>\n",
       "      <td>[White, Unemployed, Income, Infant Mort, Docto...</td>\n",
       "      <td>0.374713</td>\n",
       "      <td>0.074960</td>\n",
       "      <td>0.1000</td>\n",
       "      <td>0.55</td>\n",
       "    </tr>\n",
       "    <tr>\n",
       "      <th>29</th>\n",
       "      <td>[Population, Traf Deaths, Unemployed, Income, ...</td>\n",
       "      <td>0.394417</td>\n",
       "      <td>0.130760</td>\n",
       "      <td>0.0010</td>\n",
       "      <td>0.00</td>\n",
       "    </tr>\n",
       "    <tr>\n",
       "      <th>30</th>\n",
       "      <td>[Population, Traf Deaths, Unemployed, Income, ...</td>\n",
       "      <td>0.416424</td>\n",
       "      <td>0.129213</td>\n",
       "      <td>0.0100</td>\n",
       "      <td>0.00</td>\n",
       "    </tr>\n",
       "    <tr>\n",
       "      <th>31</th>\n",
       "      <td>[Population, Traf Deaths, Unemployed, Income, ...</td>\n",
       "      <td>0.421528</td>\n",
       "      <td>0.135960</td>\n",
       "      <td>0.0100</td>\n",
       "      <td>0.00</td>\n",
       "    </tr>\n",
       "    <tr>\n",
       "      <th>32</th>\n",
       "      <td>[Population, Traf Deaths, Unemployed, Income, ...</td>\n",
       "      <td>0.421528</td>\n",
       "      <td>0.135959</td>\n",
       "      <td>0.0100</td>\n",
       "      <td>0.00</td>\n",
       "    </tr>\n",
       "    <tr>\n",
       "      <th>33</th>\n",
       "      <td>[Population, Traf Deaths, Unemployed, Income, ...</td>\n",
       "      <td>0.388022</td>\n",
       "      <td>0.121588</td>\n",
       "      <td>0.0100</td>\n",
       "      <td>0.00</td>\n",
       "    </tr>\n",
       "    <tr>\n",
       "      <th>34</th>\n",
       "      <td>[Population, Traf Deaths, Unemployed, Income, ...</td>\n",
       "      <td>0.396404</td>\n",
       "      <td>0.114455</td>\n",
       "      <td>0.0100</td>\n",
       "      <td>0.00</td>\n",
       "    </tr>\n",
       "    <tr>\n",
       "      <th>35</th>\n",
       "      <td>[Population, Traf Deaths, Unemployed, Income, ...</td>\n",
       "      <td>0.404316</td>\n",
       "      <td>0.121316</td>\n",
       "      <td>0.0010</td>\n",
       "      <td>0.00</td>\n",
       "    </tr>\n",
       "    <tr>\n",
       "      <th>36</th>\n",
       "      <td>[Population, Traf Deaths, Unemployed, Income, ...</td>\n",
       "      <td>0.409277</td>\n",
       "      <td>0.125855</td>\n",
       "      <td>0.0100</td>\n",
       "      <td>0.00</td>\n",
       "    </tr>\n",
       "    <tr>\n",
       "      <th>37</th>\n",
       "      <td>[Population, Traf Deaths, Unemployed, Income, ...</td>\n",
       "      <td>0.409237</td>\n",
       "      <td>0.129399</td>\n",
       "      <td>0.0100</td>\n",
       "      <td>0.00</td>\n",
       "    </tr>\n",
       "    <tr>\n",
       "      <th>38</th>\n",
       "      <td>[Population, Traf Deaths, Unemployed, Universi...</td>\n",
       "      <td>0.391994</td>\n",
       "      <td>0.102801</td>\n",
       "      <td>0.0100</td>\n",
       "      <td>0.05</td>\n",
       "    </tr>\n",
       "    <tr>\n",
       "      <th>39</th>\n",
       "      <td>[Population, Traf Deaths, Unemployed, Universi...</td>\n",
       "      <td>0.388325</td>\n",
       "      <td>0.101586</td>\n",
       "      <td>0.1000</td>\n",
       "      <td>0.65</td>\n",
       "    </tr>\n",
       "    <tr>\n",
       "      <th>40</th>\n",
       "      <td>[Population, Traf Deaths, Unemployed, Universi...</td>\n",
       "      <td>0.388325</td>\n",
       "      <td>0.101586</td>\n",
       "      <td>0.1000</td>\n",
       "      <td>0.65</td>\n",
       "    </tr>\n",
       "    <tr>\n",
       "      <th>41</th>\n",
       "      <td>[Population, Traf Deaths, Unemployed, Universi...</td>\n",
       "      <td>0.390666</td>\n",
       "      <td>0.098918</td>\n",
       "      <td>0.1000</td>\n",
       "      <td>0.65</td>\n",
       "    </tr>\n",
       "    <tr>\n",
       "      <th>42</th>\n",
       "      <td>[Population, Traf Deaths, Unemployed, Universi...</td>\n",
       "      <td>0.390179</td>\n",
       "      <td>0.099301</td>\n",
       "      <td>0.1000</td>\n",
       "      <td>0.65</td>\n",
       "    </tr>\n",
       "    <tr>\n",
       "      <th>43</th>\n",
       "      <td>[Population, Traf Deaths, Unemployed, Universi...</td>\n",
       "      <td>0.390179</td>\n",
       "      <td>0.099301</td>\n",
       "      <td>0.1000</td>\n",
       "      <td>0.65</td>\n",
       "    </tr>\n",
       "    <tr>\n",
       "      <th>44</th>\n",
       "      <td>[Population, Traf Deaths, Unemployed, Universi...</td>\n",
       "      <td>0.416021</td>\n",
       "      <td>0.138384</td>\n",
       "      <td>0.1000</td>\n",
       "      <td>0.70</td>\n",
       "    </tr>\n",
       "    <tr>\n",
       "      <th>45</th>\n",
       "      <td>[Population, Traf Deaths, Unemployed, Universi...</td>\n",
       "      <td>0.414349</td>\n",
       "      <td>0.138310</td>\n",
       "      <td>0.1000</td>\n",
       "      <td>0.65</td>\n",
       "    </tr>\n",
       "    <tr>\n",
       "      <th>46</th>\n",
       "      <td>[Population, Traf Deaths, Unemployed, Universi...</td>\n",
       "      <td>0.414349</td>\n",
       "      <td>0.138310</td>\n",
       "      <td>0.1000</td>\n",
       "      <td>0.65</td>\n",
       "    </tr>\n",
       "    <tr>\n",
       "      <th>47</th>\n",
       "      <td>[Population, Traf Deaths, Unemployed, Universi...</td>\n",
       "      <td>0.421227</td>\n",
       "      <td>0.160410</td>\n",
       "      <td>0.1000</td>\n",
       "      <td>0.45</td>\n",
       "    </tr>\n",
       "    <tr>\n",
       "      <th>48</th>\n",
       "      <td>[Population, Traf Deaths, Unemployed, Universi...</td>\n",
       "      <td>0.421580</td>\n",
       "      <td>0.161862</td>\n",
       "      <td>0.1000</td>\n",
       "      <td>0.45</td>\n",
       "    </tr>\n",
       "    <tr>\n",
       "      <th>49</th>\n",
       "      <td>[White, Population, Traf Deaths, Unemployed, U...</td>\n",
       "      <td>0.423362</td>\n",
       "      <td>0.147052</td>\n",
       "      <td>0.1000</td>\n",
       "      <td>0.45</td>\n",
       "    </tr>\n",
       "    <tr>\n",
       "      <th>50</th>\n",
       "      <td>[White, Population, Traf Deaths, Unemployed, U...</td>\n",
       "      <td>0.423662</td>\n",
       "      <td>0.146907</td>\n",
       "      <td>0.1000</td>\n",
       "      <td>0.45</td>\n",
       "    </tr>\n",
       "    <tr>\n",
       "      <th>51</th>\n",
       "      <td>[White, Population, Traf Deaths, Unemployed, U...</td>\n",
       "      <td>0.434365</td>\n",
       "      <td>0.147123</td>\n",
       "      <td>0.1000</td>\n",
       "      <td>0.65</td>\n",
       "    </tr>\n",
       "    <tr>\n",
       "      <th>52</th>\n",
       "      <td>[White, Population, Traf Deaths, Unemployed, U...</td>\n",
       "      <td>0.420765</td>\n",
       "      <td>0.141504</td>\n",
       "      <td>0.1000</td>\n",
       "      <td>0.55</td>\n",
       "    </tr>\n",
       "    <tr>\n",
       "      <th>53</th>\n",
       "      <td>[White, Population, Traf Deaths, Unemployed, U...</td>\n",
       "      <td>0.431977</td>\n",
       "      <td>0.139252</td>\n",
       "      <td>0.1000</td>\n",
       "      <td>0.65</td>\n",
       "    </tr>\n",
       "  </tbody>\n",
       "</table>\n",
       "</div>"
      ],
      "text/plain": [
       "                                             features  mean error       std  \\\n",
       "0                                            [Income]    0.465419  0.161958   \n",
       "1                                     [White, Income]    0.372176  0.071435   \n",
       "2                         [White, Population, Income]    0.334989  0.041830   \n",
       "3          [White, Population, Income, Crime Doctors]    0.325525  0.044530   \n",
       "4   [White, Population, Income, Unemployed Univers...    0.291896  0.054960   \n",
       "5   [White, Population, Income, Traf Deaths^2, Une...    0.258906  0.052490   \n",
       "6   [White, Population, Income, Traf Deaths^2, Tra...    0.262026  0.064627   \n",
       "7   [White, Population, Income, Population Doctors...    0.265160  0.058161   \n",
       "8   [White, Population, Income, Population Infant ...    0.254894  0.059228   \n",
       "9   [White, Population, Income, Population Infant ...    0.265141  0.038973   \n",
       "10  [White, Population, Income, Population Univers...    0.266090  0.080066   \n",
       "11  [White, Population, Income, White Traf Deaths,...    0.272659  0.076108   \n",
       "12  [White, Population, Income, White Traf Deaths,...    0.280569  0.075076   \n",
       "13  [White, Population, Income, White Unemployed, ...    0.336010  0.072643   \n",
       "14  [White, Population, Income, White Traf Deaths,...    0.341521  0.047097   \n",
       "15  [White, Population, Income, White Traf Deaths,...    0.351139  0.041257   \n",
       "16  [White, Population, Income, White Traf Deaths,...    0.394409  0.087148   \n",
       "17  [White, Population, Income, White Traf Deaths,...    0.410517  0.114016   \n",
       "18  [White, Population, Income, White Unemployed, ...    0.433300  0.105396   \n",
       "19  [White, Population, Income, White Traf Deaths,...    0.347872  0.067116   \n",
       "20  [White, Population, Unemployed, Income, White ...    0.346325  0.082168   \n",
       "21  [White, Population, Income, White Traf Deaths,...    0.380333  0.067105   \n",
       "22  [White, Income, Doctors, White Traf Deaths, Wh...    0.447487  0.090396   \n",
       "23  [White, Income, Doctors, White Traf Deaths, Wh...    0.449445  0.087634   \n",
       "24  [White, Unemployed, Income, Doctors, White Tra...    0.360450  0.039657   \n",
       "25  [White, Unemployed, Income, Infant Mort, Docto...    0.358481  0.042531   \n",
       "26  [White, Unemployed, Income, Infant Mort, Docto...    0.363355  0.045982   \n",
       "27  [White, Unemployed, Income, Infant Mort, Docto...    0.363492  0.045777   \n",
       "28  [White, Unemployed, Income, Infant Mort, Docto...    0.374713  0.074960   \n",
       "29  [Population, Traf Deaths, Unemployed, Income, ...    0.394417  0.130760   \n",
       "30  [Population, Traf Deaths, Unemployed, Income, ...    0.416424  0.129213   \n",
       "31  [Population, Traf Deaths, Unemployed, Income, ...    0.421528  0.135960   \n",
       "32  [Population, Traf Deaths, Unemployed, Income, ...    0.421528  0.135959   \n",
       "33  [Population, Traf Deaths, Unemployed, Income, ...    0.388022  0.121588   \n",
       "34  [Population, Traf Deaths, Unemployed, Income, ...    0.396404  0.114455   \n",
       "35  [Population, Traf Deaths, Unemployed, Income, ...    0.404316  0.121316   \n",
       "36  [Population, Traf Deaths, Unemployed, Income, ...    0.409277  0.125855   \n",
       "37  [Population, Traf Deaths, Unemployed, Income, ...    0.409237  0.129399   \n",
       "38  [Population, Traf Deaths, Unemployed, Universi...    0.391994  0.102801   \n",
       "39  [Population, Traf Deaths, Unemployed, Universi...    0.388325  0.101586   \n",
       "40  [Population, Traf Deaths, Unemployed, Universi...    0.388325  0.101586   \n",
       "41  [Population, Traf Deaths, Unemployed, Universi...    0.390666  0.098918   \n",
       "42  [Population, Traf Deaths, Unemployed, Universi...    0.390179  0.099301   \n",
       "43  [Population, Traf Deaths, Unemployed, Universi...    0.390179  0.099301   \n",
       "44  [Population, Traf Deaths, Unemployed, Universi...    0.416021  0.138384   \n",
       "45  [Population, Traf Deaths, Unemployed, Universi...    0.414349  0.138310   \n",
       "46  [Population, Traf Deaths, Unemployed, Universi...    0.414349  0.138310   \n",
       "47  [Population, Traf Deaths, Unemployed, Universi...    0.421227  0.160410   \n",
       "48  [Population, Traf Deaths, Unemployed, Universi...    0.421580  0.161862   \n",
       "49  [White, Population, Traf Deaths, Unemployed, U...    0.423362  0.147052   \n",
       "50  [White, Population, Traf Deaths, Unemployed, U...    0.423662  0.146907   \n",
       "51  [White, Population, Traf Deaths, Unemployed, U...    0.434365  0.147123   \n",
       "52  [White, Population, Traf Deaths, Unemployed, U...    0.420765  0.141504   \n",
       "53  [White, Population, Traf Deaths, Unemployed, U...    0.431977  0.139252   \n",
       "\n",
       "     alpha  lambda  \n",
       "0   0.0010    0.00  \n",
       "1   0.0000    0.00  \n",
       "2   0.0000    0.90  \n",
       "3   0.0000    0.25  \n",
       "4   0.0000    0.60  \n",
       "5   0.0000    0.15  \n",
       "6   0.0100    0.40  \n",
       "7   0.0100    0.35  \n",
       "8   0.0100    0.65  \n",
       "9   0.0100    0.70  \n",
       "10  0.0100    0.15  \n",
       "11  0.0100    0.15  \n",
       "12  0.0100    0.20  \n",
       "13  0.0100    0.95  \n",
       "14  0.0100    0.50  \n",
       "15  0.0100    0.75  \n",
       "16  0.1000    0.45  \n",
       "17  0.1000    0.45  \n",
       "18  0.1000    0.55  \n",
       "19  0.1000    0.55  \n",
       "20  0.1000    0.25  \n",
       "21  0.1000    0.30  \n",
       "22  0.0000    0.10  \n",
       "23  0.0000    0.95  \n",
       "24  0.0100    0.95  \n",
       "25  0.1000    0.25  \n",
       "26  0.0001    0.50  \n",
       "27  0.1000    0.30  \n",
       "28  0.1000    0.55  \n",
       "29  0.0010    0.00  \n",
       "30  0.0100    0.00  \n",
       "31  0.0100    0.00  \n",
       "32  0.0100    0.00  \n",
       "33  0.0100    0.00  \n",
       "34  0.0100    0.00  \n",
       "35  0.0010    0.00  \n",
       "36  0.0100    0.00  \n",
       "37  0.0100    0.00  \n",
       "38  0.0100    0.05  \n",
       "39  0.1000    0.65  \n",
       "40  0.1000    0.65  \n",
       "41  0.1000    0.65  \n",
       "42  0.1000    0.65  \n",
       "43  0.1000    0.65  \n",
       "44  0.1000    0.70  \n",
       "45  0.1000    0.65  \n",
       "46  0.1000    0.65  \n",
       "47  0.1000    0.45  \n",
       "48  0.1000    0.45  \n",
       "49  0.1000    0.45  \n",
       "50  0.1000    0.45  \n",
       "51  0.1000    0.65  \n",
       "52  0.1000    0.55  \n",
       "53  0.1000    0.65  "
      ]
     },
     "metadata": {},
     "output_type": "display_data"
    }
   ],
   "source": [
    "CV_results.columns = ['features','mean error','std','alpha','lambda']\n",
    "CV_results.index = np.array(range(0,len(features)))#range(1,len(features)+1)\n",
    "plt.plot(CV_results['mean error'])\n",
    "plt.show()\n",
    "\n",
    "best = CV_results.iloc[CV_results['mean error'].idxmin()]\n",
    "print(best.loc['features'])\n",
    "\n",
    "parse = CV_results[CV_results['mean error']<=(np.min(CV_results['mean error'])+np.std(CV_results['mean error']))].iloc[0]\n",
    "print(parse.loc['features'])\n",
    "display(CV_results)"
   ]
  },
  {
   "cell_type": "code",
   "execution_count": null,
   "id": "b03064fb-f90a-48b7-913c-268ecdfc11a0",
   "metadata": {},
   "outputs": [],
   "source": []
  },
  {
   "cell_type": "code",
   "execution_count": 30,
   "id": "228b1f79-2c3d-42d2-9edd-8cabce43921b",
   "metadata": {},
   "outputs": [
    {
     "data": {
      "text/plain": [
       "ElasticNet(alpha=0.01, l1_ratio=0.6499999999999999)"
      ]
     },
     "execution_count": 30,
     "metadata": {},
     "output_type": "execute_result"
    }
   ],
   "source": [
    "model_ss = LinearRegression()\n",
    "model_ss_parse = LinearRegression()\n",
    "model_ep = ElasticNet(alpha=parse['alpha'], l1_ratio=parse['lambda'])\n",
    "model_eb = ElasticNet(alpha=best['alpha'], l1_ratio=best['lambda'])\n",
    "\n",
    "model_ss.fit(x_train_ss_yj_inter[ss_sortedFeatures], y_train_ss_yj)\n",
    "model_ss_parse.fit(x_train_ss_yj_inter[ss_position_parse], y_train_ss_yj)\n",
    "model_ep.fit(x_train_ss_yj_inter[parse['features']],y_train_ss_yj)\n",
    "model_eb.fit(x_train_ss_yj_inter[best['features']],y_train_ss_yj)"
   ]
  },
  {
   "cell_type": "code",
   "execution_count": null,
   "id": "68a21731-16c3-48d5-9add-b20d766a9496",
   "metadata": {},
   "outputs": [],
   "source": []
  },
  {
   "cell_type": "code",
   "execution_count": 31,
   "id": "d1c2462d-0b37-470c-983c-a47ca192f708",
   "metadata": {},
   "outputs": [],
   "source": [
    "zca_X_train = pd.DataFrame(zca.fit_transform(x_train_ss_yj_inter[ss_position_parse]),columns=ss_position_parse,index=x_train_ss_yj_inter.index)\n",
    "zca_X_train.index = x_train_ss_yj_inter.index\n",
    "#zca_data = pd.concat([y_train_ss_yj,zca_X_train],axis=1)\n",
    "#zca_data.index = x_train_ss_yj_inter.index"
   ]
  },
  {
   "cell_type": "code",
   "execution_count": 32,
   "id": "fc1f4582-4078-4810-8b48-48d88a2a6909",
   "metadata": {},
   "outputs": [],
   "source": [
    "pca_X_train = PCA(n_components=0.99, svd_solver='full')\n",
    "pca_X_train.fit(x_train_ss_yj_inter[ss_sortedFeatures])\n",
    "X_pca_train = pd.DataFrame(pca_X_train.transform(x_train_ss_yj_inter[ss_sortedFeatures]),index = x_train_ss_yj_inter.index)"
   ]
  },
  {
   "cell_type": "code",
   "execution_count": 33,
   "id": "52687dd7-c69e-4d1b-865e-fdb78059fa44",
   "metadata": {},
   "outputs": [],
   "source": [
    "#zca_data.pcorr()"
   ]
  },
  {
   "cell_type": "code",
   "execution_count": 34,
   "id": "827aace5-3f19-4a70-be6d-499f6261ebbb",
   "metadata": {},
   "outputs": [],
   "source": [
    "#sns.pairplot(zca_data,kind=\"reg\", plot_kws={'line_kws':{'color':'red'}})"
   ]
  },
  {
   "cell_type": "code",
   "execution_count": 35,
   "id": "2f603d6e-36ba-4da7-a22d-efd82f43f1df",
   "metadata": {},
   "outputs": [
    {
     "data": {
      "text/plain": [
       "array([0.21016221, 0.36125413, 0.46519519, 0.56232478, 0.65085082,\n",
       "       0.71068746, 0.76587436, 0.80556197, 0.84047794, 0.87211327,\n",
       "       0.90137162, 0.92078796, 0.93863256, 0.9527722 , 0.96230793,\n",
       "       0.97023495, 0.97712055, 0.98315733, 0.98666335, 0.99003154])"
      ]
     },
     "execution_count": 35,
     "metadata": {},
     "output_type": "execute_result"
    }
   ],
   "source": [
    "pca_X_train.explained_variance_ratio_.cumsum()"
   ]
  },
  {
   "cell_type": "code",
   "execution_count": 36,
   "id": "cc4c7623-6a5f-4819-bdab-793bbaa08bbc",
   "metadata": {},
   "outputs": [
    {
     "data": {
      "text/plain": [
       "31"
      ]
     },
     "execution_count": 36,
     "metadata": {},
     "output_type": "execute_result"
    }
   ],
   "source": [
    "len(ss_sortedFeatures)"
   ]
  },
  {
   "cell_type": "code",
   "execution_count": null,
   "id": "37eb6479-5110-48d7-bc8b-04110de77d5c",
   "metadata": {},
   "outputs": [],
   "source": []
  },
  {
   "cell_type": "code",
   "execution_count": 37,
   "id": "ab0403fe-897d-49c3-ad3d-913424a2a9bb",
   "metadata": {},
   "outputs": [
    {
     "name": "stdout",
     "output_type": "stream",
     "text": [
      "['Income']\n"
     ]
    }
   ],
   "source": [
    "print(ss_position_parse)"
   ]
  },
  {
   "cell_type": "code",
   "execution_count": 38,
   "id": "13ed1fa0-af34-4fbe-9f16-b37c8d94f5b6",
   "metadata": {},
   "outputs": [
    {
     "data": {
      "text/html": [
       "<table class=\"simpletable\">\n",
       "<caption>OLS Regression Results</caption>\n",
       "<tr>\n",
       "  <th>Dep. Variable:</th>         <td>Poverty</td>     <th>  R-squared:         </th> <td>   0.714</td>\n",
       "</tr>\n",
       "<tr>\n",
       "  <th>Model:</th>                   <td>OLS</td>       <th>  Adj. R-squared:    </th> <td>   0.705</td>\n",
       "</tr>\n",
       "<tr>\n",
       "  <th>Method:</th>             <td>Least Squares</td>  <th>  F-statistic:       </th> <td>   82.45</td>\n",
       "</tr>\n",
       "<tr>\n",
       "  <th>Date:</th>             <td>Sat, 21 Aug 2021</td> <th>  Prob (F-statistic):</th> <td>1.71e-10</td>\n",
       "</tr>\n",
       "<tr>\n",
       "  <th>Time:</th>                 <td>12:23:56</td>     <th>  Log-Likelihood:    </th> <td> -27.747</td>\n",
       "</tr>\n",
       "<tr>\n",
       "  <th>No. Observations:</th>      <td>    35</td>      <th>  AIC:               </th> <td>   59.49</td>\n",
       "</tr>\n",
       "<tr>\n",
       "  <th>Df Residuals:</th>          <td>    33</td>      <th>  BIC:               </th> <td>   62.61</td>\n",
       "</tr>\n",
       "<tr>\n",
       "  <th>Df Model:</th>              <td>     1</td>      <th>                     </th>     <td> </td>   \n",
       "</tr>\n",
       "<tr>\n",
       "  <th>Covariance Type:</th>      <td>nonrobust</td>    <th>                     </th>     <td> </td>   \n",
       "</tr>\n",
       "</table>\n",
       "<table class=\"simpletable\">\n",
       "<tr>\n",
       "     <td></td>       <th>coef</th>     <th>std err</th>      <th>t</th>      <th>P>|t|</th>  <th>[0.025</th>    <th>0.975]</th>  \n",
       "</tr>\n",
       "<tr>\n",
       "  <th>const</th>  <td>-6.245e-17</td> <td>    0.093</td> <td>-6.71e-16</td> <td> 1.000</td> <td>   -0.189</td> <td>    0.189</td>\n",
       "</tr>\n",
       "<tr>\n",
       "  <th>Income</th> <td>   -0.8574</td> <td>    0.094</td> <td>   -9.080</td> <td> 0.000</td> <td>   -1.050</td> <td>   -0.665</td>\n",
       "</tr>\n",
       "</table>\n",
       "<table class=\"simpletable\">\n",
       "<tr>\n",
       "  <th>Omnibus:</th>       <td> 0.411</td> <th>  Durbin-Watson:     </th> <td>   2.610</td>\n",
       "</tr>\n",
       "<tr>\n",
       "  <th>Prob(Omnibus):</th> <td> 0.814</td> <th>  Jarque-Bera (JB):  </th> <td>   0.556</td>\n",
       "</tr>\n",
       "<tr>\n",
       "  <th>Skew:</th>          <td> 0.069</td> <th>  Prob(JB):          </th> <td>   0.757</td>\n",
       "</tr>\n",
       "<tr>\n",
       "  <th>Kurtosis:</th>      <td> 2.398</td> <th>  Cond. No.          </th> <td>    1.01</td>\n",
       "</tr>\n",
       "</table><br/><br/>Notes:<br/>[1] Standard Errors assume that the covariance matrix of the errors is correctly specified."
      ],
      "text/plain": [
       "<class 'statsmodels.iolib.summary.Summary'>\n",
       "\"\"\"\n",
       "                            OLS Regression Results                            \n",
       "==============================================================================\n",
       "Dep. Variable:                Poverty   R-squared:                       0.714\n",
       "Model:                            OLS   Adj. R-squared:                  0.705\n",
       "Method:                 Least Squares   F-statistic:                     82.45\n",
       "Date:                Sat, 21 Aug 2021   Prob (F-statistic):           1.71e-10\n",
       "Time:                        12:23:56   Log-Likelihood:                -27.747\n",
       "No. Observations:                  35   AIC:                             59.49\n",
       "Df Residuals:                      33   BIC:                             62.61\n",
       "Df Model:                           1                                         \n",
       "Covariance Type:            nonrobust                                         \n",
       "==============================================================================\n",
       "                 coef    std err          t      P>|t|      [0.025      0.975]\n",
       "------------------------------------------------------------------------------\n",
       "const      -6.245e-17      0.093  -6.71e-16      1.000      -0.189       0.189\n",
       "Income        -0.8574      0.094     -9.080      0.000      -1.050      -0.665\n",
       "==============================================================================\n",
       "Omnibus:                        0.411   Durbin-Watson:                   2.610\n",
       "Prob(Omnibus):                  0.814   Jarque-Bera (JB):                0.556\n",
       "Skew:                           0.069   Prob(JB):                        0.757\n",
       "Kurtosis:                       2.398   Cond. No.                         1.01\n",
       "==============================================================================\n",
       "\n",
       "Notes:\n",
       "[1] Standard Errors assume that the covariance matrix of the errors is correctly specified.\n",
       "\"\"\""
      ]
     },
     "execution_count": 38,
     "metadata": {},
     "output_type": "execute_result"
    }
   ],
   "source": [
    "#model = sklearn.linear_model.LinearRegression()\n",
    "#data_set_wConstant = statsmodels.tools.tools.add_constant(zca_data)\n",
    "data_set_wConstant_parse_zca = statsmodels.tools.tools.add_constant(zca_X_train)\n",
    "#y_ = data_set_wConstant[target]\n",
    "#data_set_wConstant = data_set_wConstant[data_set_wConstant.columns.drop(target)]\n",
    "#results = model.fit(X, y)\n",
    "model_parse = sm.OLS(y_train_ss_yj,data_set_wConstant_parse_zca)\n",
    "results_parse = model_parse.fit()\n",
    "fitted_parse = results_parse.predict(data_set_wConstant_parse_zca)\n",
    "results_parse.summary()"
   ]
  },
  {
   "cell_type": "code",
   "execution_count": 39,
   "id": "83e8153b-abad-4648-b326-4c4320277dba",
   "metadata": {},
   "outputs": [
    {
     "name": "stdout",
     "output_type": "stream",
     "text": [
      "Summary of Regression\n",
      ":                            OLS Regression Results                            \n",
      "==============================================================================\n",
      "Dep. Variable:                      y   R-squared:                       0.714\n",
      "Model:                            OLS   Adj. R-squared:                  0.705\n",
      "Method:                 Least Squares   F-statistic:                     82.45\n",
      "Date:                Sat, 21 Aug 2021   Prob (F-statistic):           1.71e-10\n",
      "Time:                        12:23:56   Log-Likelihood:                -27.747\n",
      "No. Observations:                  35   AIC:                             59.49\n",
      "Df Residuals:                      33   BIC:                             62.61\n",
      "Df Model:                           1                                         \n",
      "Covariance Type:            nonrobust                                         \n",
      "==============================================================================\n",
      "                 coef    std err          t      P>|t|      [0.025      0.975]\n",
      "------------------------------------------------------------------------------\n",
      "const      -6.245e-17      0.093  -6.71e-16      1.000      -0.189       0.189\n",
      "x1            -0.8574      0.094     -9.080      0.000      -1.050      -0.665\n",
      "==============================================================================\n",
      "Omnibus:                        0.411   Durbin-Watson:                   2.610\n",
      "Prob(Omnibus):                  0.814   Jarque-Bera (JB):                0.556\n",
      "Skew:                           0.069   Prob(JB):                        0.757\n",
      "Kurtosis:                       2.398   Cond. No.                         1.01\n",
      "==============================================================================\n",
      "\n",
      "Notes:\n",
      "[1] Standard Errors assume that the covariance matrix of the errors is correctly specified.\n",
      "Diagnostic Tests of Regression\n",
      ":{\"Non_Linearity_Test\": [[\"F value\", -0.2296102559706049], [\"p value\", 0.8199029215392233]], \"Hetroskedasticity_Test\": [[\"Lagrange multiplier statistic\", 0.6546043451571742], [\"p-value\", 0.4184713001648188], [\"f-value\", 0.6289618441807293], [\"f p-value\", 0.4334016555683442]], \"Residual_Normality_Test\": [[\"Jarque-Bera\", 0.5561126864574559], [\"Chi^2 two-tail prob.\", 0.7572541541683253], [\"Skew\", 0.06901339635813732], [\"Kurtosis\", 2.398100491723672]], \"MultiCollnearity_Test\": [[\"condition no\", 1.0146042404336197]], \"Residual_AutoCorrelation_Test\": [[\"p value\", 2.6099458419145942]]}\n"
     ]
    },
    {
     "data": {
      "image/png": "[encoded data removed]",
      "text/plain": [
       "<Figure size 432x288 with 1 Axes>"
      ]
     },
     "metadata": {
      "needs_background": "light"
     },
     "output_type": "display_data"
    },
    {
     "data": {
      "image/png": "[encoded data removed]",
      "text/plain": [
       "<Figure size 432x288 with 1 Axes>"
      ]
     },
     "metadata": {
      "needs_background": "light"
     },
     "output_type": "display_data"
    },
    {
     "data": {
      "image/png": "[encoded data removed]",
      "text/plain": [
       "<Figure size 432x288 with 1 Axes>"
      ]
     },
     "metadata": {
      "needs_background": "light"
     },
     "output_type": "display_data"
    },
    {
     "data": {
      "image/png": "[encoded data removed]",
      "text/plain": [
       "<Figure size 432x288 with 1 Axes>"
      ]
     },
     "metadata": {
      "needs_background": "light"
     },
     "output_type": "display_data"
    }
   ],
   "source": [
    "linear_plot = Plot.LinearRegressionResidualPlot(data_set_wConstant_parse_zca.values, y_train_ss_yj.values)\n",
    "lm = linear_plot.fit()\n",
    "summary, diag_res = linear_plot.diagnostic_plots(lm)\n",
    "print(\"Summary of Regression\\n:{}\".format(summary))\n",
    "print(\"Diagnostic Tests of Regression\\n:{}\".format(diag_res))"
   ]
  },
  {
   "cell_type": "code",
   "execution_count": 40,
   "id": "ed663a3a-2eef-4863-be5b-2901891c17c5",
   "metadata": {},
   "outputs": [
    {
     "data": {
      "text/plain": [
       "array([[<AxesSubplot:title={'center':'0'}>]], dtype=object)"
      ]
     },
     "execution_count": 40,
     "metadata": {},
     "output_type": "execute_result"
    },
    {
     "data": {
      "image/png": "[encoded data removed]",
      "text/plain": [
       "<Figure size 432x288 with 1 Axes>"
      ]
     },
     "metadata": {
      "needs_background": "light"
     },
     "output_type": "display_data"
    }
   ],
   "source": [
    "pd.DataFrame(results_parse.get_influence().resid_studentized_internal).hist()"
   ]
  },
  {
   "cell_type": "code",
   "execution_count": 41,
   "id": "d0221212-a87f-40f3-b92a-e42690a6a412",
   "metadata": {},
   "outputs": [
    {
     "name": "stdout",
     "output_type": "stream",
     "text": [
      "['Population', 'Traf Deaths', 'Unemployed', 'Income', 'Infant Mort', 'White^2', 'White Population', 'White Traf Deaths', 'White Unemployed', 'White University', 'White Income', 'White Doctors', 'Population^2', 'Population Traf Deaths', 'Population Unemployed', 'Population Income', 'Population Infant Mort', 'Traf Deaths University', 'Unemployed^2', 'Unemployed Crime', 'Unemployed Income', 'Unemployed Infant Mort', 'University^2', 'University Income', 'University Doctors', 'Crime Doctors', 'Income Infant Mort', 'Income Doctors', 'Infant Mort^2', 'Infant Mort Doctors', 'Doctors^2']\n"
     ]
    }
   ],
   "source": [
    "print(ss_sortedFeatures)"
   ]
  },
  {
   "cell_type": "code",
   "execution_count": 42,
   "id": "7fea8437-cd06-446a-a7ca-7af65761c876",
   "metadata": {},
   "outputs": [
    {
     "data": {
      "text/html": [
       "<table class=\"simpletable\">\n",
       "<caption>OLS Regression Results</caption>\n",
       "<tr>\n",
       "  <th>Dep. Variable:</th>         <td>Poverty</td>     <th>  R-squared:         </th> <td>   0.922</td>\n",
       "</tr>\n",
       "<tr>\n",
       "  <th>Model:</th>                   <td>OLS</td>       <th>  Adj. R-squared:    </th> <td>   0.811</td>\n",
       "</tr>\n",
       "<tr>\n",
       "  <th>Method:</th>             <td>Least Squares</td>  <th>  F-statistic:       </th> <td>   8.281</td>\n",
       "</tr>\n",
       "<tr>\n",
       "  <th>Date:</th>             <td>Sat, 21 Aug 2021</td> <th>  Prob (F-statistic):</th> <td>0.000106</td>\n",
       "</tr>\n",
       "<tr>\n",
       "  <th>Time:</th>                 <td>12:23:57</td>     <th>  Log-Likelihood:    </th> <td> -5.0072</td>\n",
       "</tr>\n",
       "<tr>\n",
       "  <th>No. Observations:</th>      <td>    35</td>      <th>  AIC:               </th> <td>   52.01</td>\n",
       "</tr>\n",
       "<tr>\n",
       "  <th>Df Residuals:</th>          <td>    14</td>      <th>  BIC:               </th> <td>   84.68</td>\n",
       "</tr>\n",
       "<tr>\n",
       "  <th>Df Model:</th>              <td>    20</td>      <th>                     </th>     <td> </td>   \n",
       "</tr>\n",
       "<tr>\n",
       "  <th>Covariance Type:</th>      <td>nonrobust</td>    <th>                     </th>     <td> </td>   \n",
       "</tr>\n",
       "</table>\n",
       "<table class=\"simpletable\">\n",
       "<tr>\n",
       "    <td></td>       <th>coef</th>     <th>std err</th>      <th>t</th>      <th>P>|t|</th>  <th>[0.025</th>    <th>0.975]</th>  \n",
       "</tr>\n",
       "<tr>\n",
       "  <th>const</th> <td>-9.714e-17</td> <td>    0.075</td> <td> -1.3e-15</td> <td> 1.000</td> <td>   -0.160</td> <td>    0.160</td>\n",
       "</tr>\n",
       "<tr>\n",
       "  <th>0</th>     <td>    0.0001</td> <td>    0.028</td> <td>    0.005</td> <td> 0.996</td> <td>   -0.061</td> <td>    0.061</td>\n",
       "</tr>\n",
       "<tr>\n",
       "  <th>1</th>     <td>   -0.1103</td> <td>    0.033</td> <td>   -3.295</td> <td> 0.005</td> <td>   -0.182</td> <td>   -0.038</td>\n",
       "</tr>\n",
       "<tr>\n",
       "  <th>2</th>     <td>   -0.0497</td> <td>    0.040</td> <td>   -1.232</td> <td> 0.238</td> <td>   -0.136</td> <td>    0.037</td>\n",
       "</tr>\n",
       "<tr>\n",
       "  <th>3</th>     <td>   -0.2512</td> <td>    0.042</td> <td>   -6.020</td> <td> 0.000</td> <td>   -0.341</td> <td>   -0.162</td>\n",
       "</tr>\n",
       "<tr>\n",
       "  <th>4</th>     <td>    0.3657</td> <td>    0.044</td> <td>    8.364</td> <td> 0.000</td> <td>    0.272</td> <td>    0.459</td>\n",
       "</tr>\n",
       "<tr>\n",
       "  <th>5</th>     <td>   -0.0498</td> <td>    0.053</td> <td>   -0.936</td> <td> 0.365</td> <td>   -0.164</td> <td>    0.064</td>\n",
       "</tr>\n",
       "<tr>\n",
       "  <th>6</th>     <td>    0.1268</td> <td>    0.055</td> <td>    2.289</td> <td> 0.038</td> <td>    0.008</td> <td>    0.246</td>\n",
       "</tr>\n",
       "<tr>\n",
       "  <th>7</th>     <td>    0.2461</td> <td>    0.065</td> <td>    3.769</td> <td> 0.002</td> <td>    0.106</td> <td>    0.386</td>\n",
       "</tr>\n",
       "<tr>\n",
       "  <th>8</th>     <td>   -0.0807</td> <td>    0.070</td> <td>   -1.160</td> <td> 0.266</td> <td>   -0.230</td> <td>    0.069</td>\n",
       "</tr>\n",
       "<tr>\n",
       "  <th>9</th>     <td>    0.1524</td> <td>    0.073</td> <td>    2.084</td> <td> 0.056</td> <td>   -0.004</td> <td>    0.309</td>\n",
       "</tr>\n",
       "<tr>\n",
       "  <th>10</th>    <td>    0.0522</td> <td>    0.076</td> <td>    0.686</td> <td> 0.504</td> <td>   -0.111</td> <td>    0.215</td>\n",
       "</tr>\n",
       "<tr>\n",
       "  <th>11</th>    <td>   -0.2730</td> <td>    0.093</td> <td>   -2.924</td> <td> 0.011</td> <td>   -0.473</td> <td>   -0.073</td>\n",
       "</tr>\n",
       "<tr>\n",
       "  <th>12</th>    <td>   -0.2169</td> <td>    0.097</td> <td>   -2.228</td> <td> 0.043</td> <td>   -0.426</td> <td>   -0.008</td>\n",
       "</tr>\n",
       "<tr>\n",
       "  <th>13</th>    <td>   -0.0740</td> <td>    0.109</td> <td>   -0.676</td> <td> 0.510</td> <td>   -0.309</td> <td>    0.161</td>\n",
       "</tr>\n",
       "<tr>\n",
       "  <th>14</th>    <td>   -0.0467</td> <td>    0.133</td> <td>   -0.351</td> <td> 0.731</td> <td>   -0.332</td> <td>    0.239</td>\n",
       "</tr>\n",
       "<tr>\n",
       "  <th>15</th>    <td>   -0.2131</td> <td>    0.146</td> <td>   -1.459</td> <td> 0.167</td> <td>   -0.526</td> <td>    0.100</td>\n",
       "</tr>\n",
       "<tr>\n",
       "  <th>16</th>    <td>   -0.0964</td> <td>    0.157</td> <td>   -0.615</td> <td> 0.548</td> <td>   -0.433</td> <td>    0.240</td>\n",
       "</tr>\n",
       "<tr>\n",
       "  <th>17</th>    <td>   -0.0008</td> <td>    0.167</td> <td>   -0.005</td> <td> 0.996</td> <td>   -0.360</td> <td>    0.358</td>\n",
       "</tr>\n",
       "<tr>\n",
       "  <th>18</th>    <td>    0.2034</td> <td>    0.220</td> <td>    0.926</td> <td> 0.370</td> <td>   -0.268</td> <td>    0.675</td>\n",
       "</tr>\n",
       "<tr>\n",
       "  <th>19</th>    <td>    0.3947</td> <td>    0.224</td> <td>    1.761</td> <td> 0.100</td> <td>   -0.086</td> <td>    0.875</td>\n",
       "</tr>\n",
       "</table>\n",
       "<table class=\"simpletable\">\n",
       "<tr>\n",
       "  <th>Omnibus:</th>       <td> 2.974</td> <th>  Durbin-Watson:     </th> <td>   2.231</td>\n",
       "</tr>\n",
       "<tr>\n",
       "  <th>Prob(Omnibus):</th> <td> 0.226</td> <th>  Jarque-Bera (JB):  </th> <td>   1.891</td>\n",
       "</tr>\n",
       "<tr>\n",
       "  <th>Skew:</th>          <td> 0.542</td> <th>  Prob(JB):          </th> <td>   0.389</td>\n",
       "</tr>\n",
       "<tr>\n",
       "  <th>Kurtosis:</th>      <td> 3.346</td> <th>  Cond. No.          </th> <td>    7.90</td>\n",
       "</tr>\n",
       "</table><br/><br/>Notes:<br/>[1] Standard Errors assume that the covariance matrix of the errors is correctly specified."
      ],
      "text/plain": [
       "<class 'statsmodels.iolib.summary.Summary'>\n",
       "\"\"\"\n",
       "                            OLS Regression Results                            \n",
       "==============================================================================\n",
       "Dep. Variable:                Poverty   R-squared:                       0.922\n",
       "Model:                            OLS   Adj. R-squared:                  0.811\n",
       "Method:                 Least Squares   F-statistic:                     8.281\n",
       "Date:                Sat, 21 Aug 2021   Prob (F-statistic):           0.000106\n",
       "Time:                        12:23:57   Log-Likelihood:                -5.0072\n",
       "No. Observations:                  35   AIC:                             52.01\n",
       "Df Residuals:                      14   BIC:                             84.68\n",
       "Df Model:                          20                                         \n",
       "Covariance Type:            nonrobust                                         \n",
       "==============================================================================\n",
       "                 coef    std err          t      P>|t|      [0.025      0.975]\n",
       "------------------------------------------------------------------------------\n",
       "const      -9.714e-17      0.075   -1.3e-15      1.000      -0.160       0.160\n",
       "0              0.0001      0.028      0.005      0.996      -0.061       0.061\n",
       "1             -0.1103      0.033     -3.295      0.005      -0.182      -0.038\n",
       "2             -0.0497      0.040     -1.232      0.238      -0.136       0.037\n",
       "3             -0.2512      0.042     -6.020      0.000      -0.341      -0.162\n",
       "4              0.3657      0.044      8.364      0.000       0.272       0.459\n",
       "5             -0.0498      0.053     -0.936      0.365      -0.164       0.064\n",
       "6              0.1268      0.055      2.289      0.038       0.008       0.246\n",
       "7              0.2461      0.065      3.769      0.002       0.106       0.386\n",
       "8             -0.0807      0.070     -1.160      0.266      -0.230       0.069\n",
       "9              0.1524      0.073      2.084      0.056      -0.004       0.309\n",
       "10             0.0522      0.076      0.686      0.504      -0.111       0.215\n",
       "11            -0.2730      0.093     -2.924      0.011      -0.473      -0.073\n",
       "12            -0.2169      0.097     -2.228      0.043      -0.426      -0.008\n",
       "13            -0.0740      0.109     -0.676      0.510      -0.309       0.161\n",
       "14            -0.0467      0.133     -0.351      0.731      -0.332       0.239\n",
       "15            -0.2131      0.146     -1.459      0.167      -0.526       0.100\n",
       "16            -0.0964      0.157     -0.615      0.548      -0.433       0.240\n",
       "17            -0.0008      0.167     -0.005      0.996      -0.360       0.358\n",
       "18             0.2034      0.220      0.926      0.370      -0.268       0.675\n",
       "19             0.3947      0.224      1.761      0.100      -0.086       0.875\n",
       "==============================================================================\n",
       "Omnibus:                        2.974   Durbin-Watson:                   2.231\n",
       "Prob(Omnibus):                  0.226   Jarque-Bera (JB):                1.891\n",
       "Skew:                           0.542   Prob(JB):                        0.389\n",
       "Kurtosis:                       3.346   Cond. No.                         7.90\n",
       "==============================================================================\n",
       "\n",
       "Notes:\n",
       "[1] Standard Errors assume that the covariance matrix of the errors is correctly specified.\n",
       "\"\"\""
      ]
     },
     "execution_count": 42,
     "metadata": {},
     "output_type": "execute_result"
    }
   ],
   "source": [
    "#model = sklearn.linear_model.LinearRegression()\n",
    "#data_set_wConstant = statsmodels.tools.tools.add_constant(zca_data)\n",
    "data_set_wConstant_ss_pca = statsmodels.tools.tools.add_constant(X_pca_train)\n",
    "#y_ = data_set_wConstant[target]\n",
    "#data_set_wConstant = data_set_wConstant[data_set_wConstant.columns.drop(target)]\n",
    "#results = model.fit(X, y)\n",
    "model_ss = sm.OLS(y_train_ss_yj,data_set_wConstant_ss_pca)\n",
    "results_ss = model_ss.fit()\n",
    "fitted = results_ss.predict(data_set_wConstant_ss_pca)\n",
    "results_ss.summary()"
   ]
  },
  {
   "cell_type": "code",
   "execution_count": null,
   "id": "516bc53d-7a31-4b66-959e-d5b9e049df38",
   "metadata": {},
   "outputs": [],
   "source": []
  },
  {
   "cell_type": "code",
   "execution_count": 43,
   "id": "3b119379-7f8d-469a-a77a-6c798efd2118",
   "metadata": {},
   "outputs": [
    {
     "data": {
      "text/plain": [
       "array([[<AxesSubplot:title={'center':'0'}>]], dtype=object)"
      ]
     },
     "execution_count": 43,
     "metadata": {},
     "output_type": "execute_result"
    },
    {
     "data": {
      "image/png": "[encoded data removed]",
      "text/plain": [
       "<Figure size 432x288 with 1 Axes>"
      ]
     },
     "metadata": {
      "needs_background": "light"
     },
     "output_type": "display_data"
    }
   ],
   "source": [
    "pd.DataFrame(results_ss.get_influence().resid_studentized_internal).hist()"
   ]
  },
  {
   "cell_type": "code",
   "execution_count": null,
   "id": "a1f6c95f-0591-4162-a007-cfcd85d5a8bf",
   "metadata": {},
   "outputs": [],
   "source": []
  },
  {
   "cell_type": "code",
   "execution_count": 44,
   "id": "7559c9ae-b262-4434-bb06-d4da42c8d5d1",
   "metadata": {},
   "outputs": [
    {
     "name": "stdout",
     "output_type": "stream",
     "text": [
      "Summary of Regression\n",
      ":                            OLS Regression Results                            \n",
      "==============================================================================\n",
      "Dep. Variable:                      y   R-squared:                       0.922\n",
      "Model:                            OLS   Adj. R-squared:                  0.811\n",
      "Method:                 Least Squares   F-statistic:                     8.281\n",
      "Date:                Sat, 21 Aug 2021   Prob (F-statistic):           0.000106\n",
      "Time:                        12:23:58   Log-Likelihood:                -5.0072\n",
      "No. Observations:                  35   AIC:                             52.01\n",
      "Df Residuals:                      14   BIC:                             84.68\n",
      "Df Model:                          20                                         \n",
      "Covariance Type:            nonrobust                                         \n",
      "==============================================================================\n",
      "                 coef    std err          t      P>|t|      [0.025      0.975]\n",
      "------------------------------------------------------------------------------\n",
      "const      -9.714e-17      0.075   -1.3e-15      1.000      -0.160       0.160\n",
      "x1             0.0001      0.028      0.005      0.996      -0.061       0.061\n",
      "x2            -0.1103      0.033     -3.295      0.005      -0.182      -0.038\n",
      "x3            -0.0497      0.040     -1.232      0.238      -0.136       0.037\n",
      "x4            -0.2512      0.042     -6.020      0.000      -0.341      -0.162\n",
      "x5             0.3657      0.044      8.364      0.000       0.272       0.459\n",
      "x6            -0.0498      0.053     -0.936      0.365      -0.164       0.064\n",
      "x7             0.1268      0.055      2.289      0.038       0.008       0.246\n",
      "x8             0.2461      0.065      3.769      0.002       0.106       0.386\n",
      "x9            -0.0807      0.070     -1.160      0.266      -0.230       0.069\n",
      "x10            0.1524      0.073      2.084      0.056      -0.004       0.309\n",
      "x11            0.0522      0.076      0.686      0.504      -0.111       0.215\n",
      "x12           -0.2730      0.093     -2.924      0.011      -0.473      -0.073\n",
      "x13           -0.2169      0.097     -2.228      0.043      -0.426      -0.008\n",
      "x14           -0.0740      0.109     -0.676      0.510      -0.309       0.161\n",
      "x15           -0.0467      0.133     -0.351      0.731      -0.332       0.239\n",
      "x16           -0.2131      0.146     -1.459      0.167      -0.526       0.100\n",
      "x17           -0.0964      0.157     -0.615      0.548      -0.433       0.240\n",
      "x18           -0.0008      0.167     -0.005      0.996      -0.360       0.358\n",
      "x19            0.2034      0.220      0.926      0.370      -0.268       0.675\n",
      "x20            0.3947      0.224      1.761      0.100      -0.086       0.875\n",
      "==============================================================================\n",
      "Omnibus:                        2.974   Durbin-Watson:                   2.231\n",
      "Prob(Omnibus):                  0.226   Jarque-Bera (JB):                1.891\n",
      "Skew:                           0.542   Prob(JB):                        0.389\n",
      "Kurtosis:                       3.346   Cond. No.                         7.90\n",
      "==============================================================================\n",
      "\n",
      "Notes:\n",
      "[1] Standard Errors assume that the covariance matrix of the errors is correctly specified.\n",
      "Diagnostic Tests of Regression\n",
      ":{\"Non_Linearity_Test\": [[\"F value\", NaN], [\"p value\", NaN]], \"Hetroskedasticity_Test\": [[\"Lagrange multiplier statistic\", 20.49995653155812], [\"p-value\", 0.4270709820850468], [\"f-value\", 0.9896501071408634], [\"f p-value\", 0.5199526455563774]], \"Residual_Normality_Test\": [[\"Jarque-Bera\", 1.8906930906900914], [\"Chi^2 two-tail prob.\", 0.38854489914202617], [\"Skew\", 0.5423987122628835], [\"Kurtosis\", 3.3459621510075257]], \"MultiCollnearity_Test\": [[\"condition no\", 7.899120972296846]], \"Residual_AutoCorrelation_Test\": [[\"p value\", 2.231207640602298]]}\n"
     ]
    },
    {
     "data": {
      "image/png": "[encoded data removed]",
      "text/plain": [
       "<Figure size 432x288 with 1 Axes>"
      ]
     },
     "metadata": {
      "needs_background": "light"
     },
     "output_type": "display_data"
    },
    {
     "data": {
      "image/png": "[encoded data removed]",
      "text/plain": [
       "<Figure size 432x288 with 1 Axes>"
      ]
     },
     "metadata": {
      "needs_background": "light"
     },
     "output_type": "display_data"
    },
    {
     "data": {
      "image/png": "[encoded data removed]",
      "text/plain": [
       "<Figure size 432x288 with 1 Axes>"
      ]
     },
     "metadata": {
      "needs_background": "light"
     },
     "output_type": "display_data"
    },
    {
     "data": {
      "image/png": "[encoded data removed]",
      "text/plain": [
       "<Figure size 432x288 with 1 Axes>"
      ]
     },
     "metadata": {
      "needs_background": "light"
     },
     "output_type": "display_data"
    }
   ],
   "source": [
    "linear_plot = Plot.LinearRegressionResidualPlot(data_set_wConstant_ss_pca.values, y_train_ss_yj.values)\n",
    "lm = linear_plot.fit()\n",
    "summary, diag_res = linear_plot.diagnostic_plots(lm)\n",
    "print(\"Summary of Regression\\n:{}\".format(summary))\n",
    "print(\"Diagnostic Tests of Regression\\n:{}\".format(diag_res))\n"
   ]
  },
  {
   "cell_type": "code",
   "execution_count": null,
   "id": "092bba6f-73ac-4d83-bdc7-5ad9166e93a1",
   "metadata": {},
   "outputs": [],
   "source": []
  },
  {
   "cell_type": "code",
   "execution_count": 45,
   "id": "e69c5a83-5065-47e7-8549-d58f7ba3373d",
   "metadata": {},
   "outputs": [
    {
     "name": "stdout",
     "output_type": "stream",
     "text": [
      "Mean Absolute Error\n",
      "Poverty    1.828583\n",
      "dtype: float64\n"
     ]
    },
    {
     "data": {
      "image/png": "[encoded data removed]",
      "text/plain": [
       "<Figure size 360x360 with 1 Axes>"
      ]
     },
     "metadata": {
      "needs_background": "light"
     },
     "output_type": "display_data"
    }
   ],
   "source": [
    "#ols parse\n",
    "#uses ZCA\n",
    "y_train_predicted = y_train_ss_yj_t.inverse_transform(pd.DataFrame(results_parse.fittedvalues,columns=[target]))\n",
    "\n",
    "y_valid_ss_fitted_parse = y_train_ss_yj_t.inverse_transform(pd.DataFrame(results_parse.predict(sm.tools.tools.add_constant(zca.transform(x_valid_ss_yj_inter[ss_position_parse]), prepend=True, has_constant='skip')),index=x_valid_ss_yj_inter.index,columns=[target]))\n",
    "# summarize prediction\n",
    "print(\"Mean Absolute Error\")\n",
    "print(mean(absolute(y_valid-y_valid_ss_fitted_parse)))\n",
    "\n",
    "#temp = pd.concat([y_train_predicted,y_train_original],axis=1)\n",
    "temp = pd.concat([y_valid_ss_fitted_parse,y_valid],axis=1)\n",
    "temp.columns = ['Predicted','Actual']\n",
    "\n",
    "sns.lmplot(x=\"Predicted\",\n",
    "           y=\"Actual\", \n",
    "           ci=None,\n",
    "           data=temp);"
   ]
  },
  {
   "cell_type": "code",
   "execution_count": null,
   "id": "a30c2e01-ae08-4c0c-9414-2953628f88fc",
   "metadata": {},
   "outputs": [],
   "source": []
  },
  {
   "cell_type": "code",
   "execution_count": 46,
   "id": "1e536ba4-9b94-4399-b9db-6a7d60961d38",
   "metadata": {},
   "outputs": [
    {
     "name": "stdout",
     "output_type": "stream",
     "text": [
      "Mean Absolute Error\n",
      "Poverty    1.462163\n",
      "dtype: float64\n"
     ]
    },
    {
     "data": {
      "image/png": "[encoded data removed]",
      "text/plain": [
       "<Figure size 360x360 with 1 Axes>"
      ]
     },
     "metadata": {
      "needs_background": "light"
     },
     "output_type": "display_data"
    }
   ],
   "source": [
    "#ols best\n",
    "#uses PCA\n",
    "y_train_predicted = y_train_ss_yj_t.inverse_transform(pd.DataFrame(results_ss.fittedvalues,columns=[target]))\n",
    "\n",
    "y_valid_ss_fitted = y_train_ss_yj_t.inverse_transform(pd.DataFrame(results_ss.predict(sm.tools.tools.add_constant(pca_X_train.transform(x_valid_ss_yj_inter[ss_sortedFeatures]), prepend=True, has_constant='skip')),index=x_valid_ss_yj_inter.index,columns=[target]))\n",
    "# summarize prediction\n",
    "print(\"Mean Absolute Error\")\n",
    "print(mean(absolute(y_valid-y_valid_ss_fitted)))\n",
    "\n",
    "#temp = pd.concat([y_train_predicted,y_train_original],axis=1)\n",
    "temp = pd.concat([y_valid_ss_fitted,y_valid],axis=1)\n",
    "temp.columns = ['Predicted','Actual']\n",
    "\n",
    "sns.lmplot(x=\"Predicted\",\n",
    "           y=\"Actual\", \n",
    "           ci=None,\n",
    "           data=temp);"
   ]
  },
  {
   "cell_type": "code",
   "execution_count": null,
   "id": "0c40f454-536e-48d0-befb-c94e0fea7c11",
   "metadata": {},
   "outputs": [],
   "source": []
  },
  {
   "cell_type": "code",
   "execution_count": 47,
   "id": "63267407-888b-4530-b897-894d226190ae",
   "metadata": {},
   "outputs": [
    {
     "name": "stdout",
     "output_type": "stream",
     "text": [
      "Mean Absolute Error\n",
      "Poverty    2.007872\n",
      "dtype: float64\n"
     ]
    },
    {
     "data": {
      "image/png": "[encoded data removed]",
      "text/plain": [
       "<Figure size 360x360 with 1 Axes>"
      ]
     },
     "metadata": {
      "needs_background": "light"
     },
     "output_type": "display_data"
    }
   ],
   "source": [
    "#EN Best\n",
    "\n",
    "ENBestResults = model_eb.fit(x_train_ss_yj_inter[best['features']], y_train_ss_yj)\n",
    "\n",
    "ENBestFitted = pd.DataFrame(model_eb.predict(x_train_ss_yj_inter[best['features']]),index=x_train_ss_yj_inter.index, columns = [target])\n",
    "\n",
    "y_valid_eb_fitted = y_train_ss_yj_t.inverse_transform(pd.DataFrame(model_eb.predict(x_valid_ss_yj_inter[best['features']]),index=x_valid_ss_yj_inter.index,columns=[target]))\n",
    "\n",
    "# summarize prediction\n",
    "print(\"Mean Absolute Error\")\n",
    "print(mean(absolute(y_valid_eb_fitted-y_valid)))\n",
    "\n",
    "temp = pd.concat([y_valid_eb_fitted,y_valid],axis=1)\n",
    "temp.columns = ['Predicted','Actual']\n",
    "\n",
    "sns.lmplot(x=\"Predicted\",\n",
    "           y=\"Actual\", \n",
    "           ci=None,\n",
    "           data=temp);"
   ]
  },
  {
   "cell_type": "code",
   "execution_count": null,
   "id": "d4cfefc5-63c8-42f5-b9de-5058bcca48e5",
   "metadata": {},
   "outputs": [],
   "source": []
  },
  {
   "cell_type": "code",
   "execution_count": 48,
   "id": "4faf1af9-6e84-4f2e-807b-feac48b84bfb",
   "metadata": {},
   "outputs": [
    {
     "name": "stdout",
     "output_type": "stream",
     "text": [
      "Mean Absolute Error\n",
      "Poverty    2.236041\n",
      "dtype: float64\n"
     ]
    },
    {
     "data": {
      "image/png": "[encoded data removed]",
      "text/plain": [
       "<Figure size 360x360 with 1 Axes>"
      ]
     },
     "metadata": {
      "needs_background": "light"
     },
     "output_type": "display_data"
    }
   ],
   "source": [
    "#EN Parse\n",
    "\n",
    "ENParseResults = model_ep.fit(x_train_ss_yj_inter[parse['features']], y_train_ss_yj)\n",
    "\n",
    "ENParseFitted = pd.DataFrame(model_ep.predict(x_train_ss_yj_inter[parse['features']]),index=x_train_ss_yj_inter.index,columns=[target])\n",
    "\n",
    "y_valid_ep_fitted = y_train_ss_yj_t.inverse_transform(pd.DataFrame(model_ep.predict(x_valid_ss_yj_inter[parse['features']]),index=x_valid_ss_yj_inter.index,columns=[target]))\n",
    "\n",
    "# summarize prediction\n",
    "print(\"Mean Absolute Error\")\n",
    "print(mean(absolute(y_valid_ep_fitted-y_valid)))\n",
    "\n",
    "temp = pd.concat([y_valid_ep_fitted,y_valid],axis=1)\n",
    "temp.columns = ['Predicted','Actual']\n",
    "\n",
    "sns.lmplot(x=\"Predicted\",\n",
    "           y=\"Actual\", \n",
    "           ci=None,\n",
    "           data=temp);"
   ]
  },
  {
   "cell_type": "code",
   "execution_count": null,
   "id": "4daddcbf-634b-4a27-b7f0-137dcf37b4fd",
   "metadata": {},
   "outputs": [],
   "source": []
  },
  {
   "cell_type": "code",
   "execution_count": 49,
   "id": "2fc8d8ec-72ea-408e-936e-36f6dc07bc16",
   "metadata": {},
   "outputs": [
    {
     "name": "stdout",
     "output_type": "stream",
     "text": [
      "Mean MAE: 1.690 (0.729)\n",
      "Mean Absolute Error\n",
      "Poverty    2.411946\n",
      "dtype: float64\n"
     ]
    },
    {
     "data": {
      "image/png": "[encoded data removed]",
      "text/plain": [
       "<Figure size 360x360 with 1 Axes>"
      ]
     },
     "metadata": {
      "needs_background": "light"
     },
     "output_type": "display_data"
    }
   ],
   "source": [
    "#robust regression using ols best\n",
    "# define the model\n",
    "model_rr_ss = RANSACRegressor()\n",
    "# evaluate model\n",
    "#Rresults_ss = evaluate_model(x_train_ss_yj_inter[ss_sortedFeatures], y_train_ss_yj, model_rr_ss)\n",
    "Rresults_ss = evaluate_model(X_pca_train, y_train_ss_yj, model_rr_ss)\n",
    "\n",
    "print('Mean MAE: %.3f (%.3f)' % (mean(Rresults_ss), std(Rresults_ss)))\n",
    "# plot the line of best fit\n",
    "#Rresults_ss = model_rr_ss.fit(x_train_ss_yj_inter[ss_sortedFeatures],y_train_ss_yj)\n",
    "Rresults_ss = model_rr_ss.fit(X_pca_train,y_train_ss_yj)\n",
    "RFitted_ss = model_rr_ss.predict(pca_X_train.transform(x_train_ss_yj_inter[ss_sortedFeatures]))\n",
    "\n",
    "y_valid_rr_ss_fitted_best = y_train_ss_yj_t.inverse_transform(pd.DataFrame(model_rr_ss.predict(pca_X_train.transform(x_valid_ss_yj_inter[ss_sortedFeatures])),index=x_valid_ss_yj_inter.index,columns=[target]))\n",
    "\n",
    "# summarize prediction\n",
    "print(\"Mean Absolute Error\")\n",
    "print(mean(absolute(y_valid_rr_ss_fitted_best-y_valid)))\n",
    "\n",
    "temp = pd.concat([y_valid_rr_ss_fitted_best,y_valid],axis=1)\n",
    "temp.columns = ['Predicted','Actual']\n",
    "\n",
    "sns.lmplot(x=\"Predicted\",\n",
    "           y=\"Actual\", \n",
    "           ci=None,\n",
    "           data=temp);\n"
   ]
  },
  {
   "cell_type": "code",
   "execution_count": 50,
   "id": "afd241a3-3cd6-4d28-9bfa-619d8d28b9d9",
   "metadata": {},
   "outputs": [
    {
     "name": "stdout",
     "output_type": "stream",
     "text": [
      "Mean MAE: 0.511 (0.109)\n",
      "Mean Absolute Error\n",
      "Poverty    1.879814\n",
      "dtype: float64\n"
     ]
    },
    {
     "data": {
      "image/png": "[encoded data removed]",
      "text/plain": [
       "<Figure size 360x360 with 1 Axes>"
      ]
     },
     "metadata": {
      "needs_background": "light"
     },
     "output_type": "display_data"
    }
   ],
   "source": [
    "#robust regression using ols parse\n",
    "# define the model\n",
    "model_rr_ss = RANSACRegressor()\n",
    "# evaluate model\n",
    "#Rresults_ss = evaluate_model(x_train_ss_yj_inter[ss_sortedFeatures], y_train_ss_yj, model_rr_ss)\n",
    "Rresults_ss = evaluate_model(data_set_wConstant_parse_zca, y_train_ss_yj, model_rr_ss)\n",
    "\n",
    "print('Mean MAE: %.3f (%.3f)' % (mean(Rresults_ss), std(Rresults_ss)))\n",
    "# plot the line of best fit\n",
    "#Rresults_ss = model_rr_ss.fit(x_train_ss_yj_inter[ss_sortedFeatures],y_train_ss_yj)\n",
    "Rresults_ss = model_rr_ss.fit(data_set_wConstant_parse_zca,y_train_ss_yj)\n",
    "#RFitted_ss = model_rr_ss.predict(data_set_wConstant_parse_zca)\n",
    "\n",
    "y_valid_rr_ss_fitted_parse = y_train_ss_yj_t.inverse_transform(pd.DataFrame(Rresults_ss.predict(sm.tools.tools.add_constant(zca.transform(x_valid_ss_yj_inter[ss_position_parse]), prepend=True, has_constant='skip')),index=x_valid_ss_yj_inter.index,columns=[target]))\n",
    "\n",
    "# summarize prediction\n",
    "print(\"Mean Absolute Error\")\n",
    "print(mean(absolute(y_valid_rr_ss_fitted_parse-y_valid)))\n",
    "\n",
    "temp = pd.concat([y_valid_rr_ss_fitted_parse,y_valid],axis=1)\n",
    "temp.columns = ['Predicted','Actual']\n",
    "\n",
    "sns.lmplot(x=\"Predicted\",\n",
    "           y=\"Actual\", \n",
    "           ci=None,\n",
    "           data=temp);\n"
   ]
  },
  {
   "cell_type": "code",
   "execution_count": 51,
   "id": "fa2cb939-c1db-4e94-9691-d4ccfd57afb2",
   "metadata": {},
   "outputs": [
    {
     "name": "stdout",
     "output_type": "stream",
     "text": [
      "Mean MAE: 0.253 (0.077)\n",
      "Mean Absolute Error\n",
      "Poverty    1.939537\n",
      "dtype: float64\n"
     ]
    },
    {
     "data": {
      "image/png": "[encoded data removed]",
      "text/plain": [
       "<Figure size 360x360 with 1 Axes>"
      ]
     },
     "metadata": {
      "needs_background": "light"
     },
     "output_type": "display_data"
    }
   ],
   "source": [
    "#robust regression using EN best\n",
    "# define the model\n",
    "model_rr_best = RANSACRegressor()\n",
    "# evaluate model\n",
    "Rresults_best = evaluate_model(x_train_ss_yj_inter[best['features']], y_train_ss_yj, model_rr_best)\n",
    "print('Mean MAE: %.3f (%.3f)' % (mean(Rresults_best), std(Rresults_best)))\n",
    "# plot the line of best fit\n",
    "Rresults_best = model_rr_best.fit(x_train_ss_yj_inter[best['features']],y_train_ss_yj)\n",
    "RFitted_best = model_rr_best.predict(x_train_ss_yj_inter[best['features']])\n",
    "\n",
    "y_valid_rr_en_best_fitted = y_train_ss_yj_t.inverse_transform(pd.DataFrame(model_rr_best.predict(x_valid_ss_yj_inter[best['features']]),index=x_valid_ss_yj_inter.index,columns=[target]))\n",
    "# summarize prediction\n",
    "print(\"Mean Absolute Error\")\n",
    "print(mean(absolute(y_valid_rr_en_best_fitted-y_valid)))\n",
    "\n",
    "temp = pd.concat([y_valid_rr_en_best_fitted,y_valid],axis=1)\n",
    "temp.columns = ['Predicted','Actual']\n",
    "\n",
    "sns.lmplot(x=\"Predicted\",\n",
    "           y=\"Actual\", \n",
    "           ci=None,\n",
    "           data=temp);"
   ]
  },
  {
   "cell_type": "code",
   "execution_count": 52,
   "id": "5af8bfec-c01e-4442-b086-a529e5e3a29d",
   "metadata": {},
   "outputs": [
    {
     "name": "stdout",
     "output_type": "stream",
     "text": [
      "Mean MAE: 0.313 (0.099)\n",
      "Mean Absolute Error\n",
      "Poverty    2.162879\n",
      "dtype: float64\n"
     ]
    },
    {
     "data": {
      "image/png": "[encoded data removed]",
      "text/plain": [
       "<Figure size 360x360 with 1 Axes>"
      ]
     },
     "metadata": {
      "needs_background": "light"
     },
     "output_type": "display_data"
    }
   ],
   "source": [
    "#robust regression using EN parse\n",
    "# define the model\n",
    "model_rr_parse = RANSACRegressor()\n",
    "# evaluate model\n",
    "Rresults_parse = evaluate_model(x_train_ss_yj_inter[best['features']], y_train_ss_yj, model_rr_parse)\n",
    "print('Mean MAE: %.3f (%.3f)' % (mean(Rresults_parse), std(Rresults_parse)))\n",
    "# plot the line of best fit\n",
    "Rresults_parse = model_rr_parse.fit(x_train_ss_yj_inter[parse['features']],y_train_ss_yj)\n",
    "RFitted_parse = model_rr_parse.predict(x_train_ss_yj_inter[parse['features']])\n",
    "\n",
    "y_valid_rr_en_parse_fitted = y_train_ss_yj_t.inverse_transform(pd.DataFrame(Rresults_parse.predict(x_valid_ss_yj_inter[parse['features']]),index=x_valid_ss_yj_inter.index,columns=[target]))\n",
    "\n",
    "# summarize prediction\n",
    "print(\"Mean Absolute Error\")\n",
    "print(mean(absolute(y_valid_rr_en_parse_fitted-y_valid)))\n",
    "\n",
    "temp = pd.concat([y_valid_rr_en_parse_fitted,y_valid],axis=1)\n",
    "temp.columns = ['Predicted','Actual']\n",
    "\n",
    "sns.lmplot(x=\"Predicted\",\n",
    "           y=\"Actual\", \n",
    "           ci=None,\n",
    "           data=temp);"
   ]
  },
  {
   "cell_type": "code",
   "execution_count": null,
   "id": "963a1486-2f27-4838-ad10-9651c7eeb283",
   "metadata": {},
   "outputs": [],
   "source": []
  },
  {
   "cell_type": "code",
   "execution_count": null,
   "id": "9a18a2e1-15f2-42ed-8f69-3e71b3b31049",
   "metadata": {},
   "outputs": [],
   "source": []
  },
  {
   "cell_type": "code",
   "execution_count": null,
   "id": "9da3a220-4873-44ec-ba27-d6a7327c7122",
   "metadata": {},
   "outputs": [],
   "source": []
  },
  {
   "cell_type": "code",
   "execution_count": null,
   "id": "39fb822c-ae56-4bd5-9c66-bf1828539c24",
   "metadata": {},
   "outputs": [],
   "source": []
  },
  {
   "cell_type": "code",
   "execution_count": 53,
   "id": "15cd2249-4553-4c65-804d-12cee40b2724",
   "metadata": {},
   "outputs": [
    {
     "name": "stdout",
     "output_type": "stream",
     "text": [
      "OLS SS: Poverty    1.462163\n",
      "dtype: float64\n",
      "OLS parse: Poverty    1.828583\n",
      "dtype: float64\n",
      "EN best: Poverty    2.007872\n",
      "dtype: float64\n",
      "EN parse: Poverty    2.236041\n",
      "dtype: float64\n",
      "RR SS-best: Poverty    2.411946\n",
      "dtype: float64\n",
      "RR SS-parse: Poverty    1.879814\n",
      "dtype: float64\n",
      "RR best: Poverty    1.939537\n",
      "dtype: float64\n",
      "RR parse: Poverty    2.162879\n",
      "dtype: float64\n"
     ]
    }
   ],
   "source": [
    "print(\"OLS SS: \" + str(mean(absolute(np.array(y_valid)-y_valid_ss_fitted))))\n",
    "print(\"OLS parse: \" + str(mean(absolute(np.array(y_valid)-y_valid_ss_fitted_parse))))\n",
    "\n",
    "print(\"EN best: \" + str(mean(absolute(np.array(y_valid)-y_valid_eb_fitted))))\n",
    "print(\"EN parse: \" + str(mean(absolute(np.array(y_valid)-y_valid_ep_fitted))))\n",
    "\n",
    "print(\"RR SS-best: \" + str(mean(absolute(np.array(y_valid)-y_valid_rr_ss_fitted_best))))\n",
    "print(\"RR SS-parse: \" + str(mean(absolute(np.array(y_valid)-y_valid_rr_ss_fitted_parse))))\n",
    "\n",
    "print(\"RR best: \" + str(mean(absolute(np.array(y_valid)-y_valid_rr_en_best_fitted))))\n",
    "print(\"RR parse: \" + str(mean(absolute(np.array(y_valid)-y_valid_rr_en_parse_fitted))))"
   ]
  },
  {
   "cell_type": "code",
   "execution_count": 54,
   "id": "b009b13b-3c4f-4da1-9da3-f930274146a3",
   "metadata": {},
   "outputs": [],
   "source": [
    "#print(\"RR parse: \" + str(mean(absolute(np.array(y)-RFitted_parse_all))))\n",
    "#print(\"RR ss: \" + str(mean(absolute(np.array(y)-RFitted_ss_all))))"
   ]
  },
  {
   "cell_type": "code",
   "execution_count": null,
   "id": "39ee1db2-3d73-4389-afd2-803d42c28719",
   "metadata": {},
   "outputs": [],
   "source": []
  }
 ],
 "metadata": {
  "kernelspec": {
   "display_name": "Python 3 (ipykernel)",
   "language": "python",
   "name": "python3"
  },
  "language_info": {
   "codemirror_mode": {
    "name": "ipython",
    "version": 3
   },
   "file_extension": ".py",
   "mimetype": "text/x-python",
   "name": "python",
   "nbconvert_exporter": "python",
   "pygments_lexer": "ipython3",
   "version": "3.9.6"
  }
 },
 "nbformat": 4,
 "nbformat_minor": 5
}
