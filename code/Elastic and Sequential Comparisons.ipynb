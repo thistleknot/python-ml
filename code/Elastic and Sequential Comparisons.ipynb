{
 "cells": [
  {
   "cell_type": "code",
   "execution_count": 198,
   "id": "3ed6d235-1e58-4000-9e03-cb31972b05ed",
   "metadata": {},
   "outputs": [],
   "source": [
    "from OLS_LR_DiagnosticPlots.ModelDiagnostics import Plot\n",
    "from matplotlib import pyplot\n",
    "from mlxtend.feature_selection import SequentialFeatureSelector as sffs\n",
    "from mlxtend.plotting import plot_sequential_feature_selection as plot_sfs\n",
    "from numpy import *\n",
    "from numpy import absolute\n",
    "from numpy import arange\n",
    "from numpy import mean\n",
    "from numpy import std\n",
    "from numpy.random import seed\n",
    "from pandas import read_csv\n",
    "from random import randint\n",
    "from random import random\n",
    "from random import seed\n",
    "from scipy import stats # For in-built method to get PCC\n",
    "from sklearn import linear_model\n",
    "from sklearn.datasets import load_boston\n",
    "from sklearn.datasets import make_regression\n",
    "from sklearn.decomposition import PCA\n",
    "from sklearn.ensemble import RandomForestRegressor, IsolationForest\n",
    "from sklearn.linear_model import ElasticNet, ElasticNetCV, LinearRegression\n",
    "from sklearn.linear_model import RANSACRegressor\n",
    "from sklearn.metrics import accuracy_score as acc\n",
    "from sklearn.metrics import mean_squared_error\n",
    "from sklearn.model_selection import GridSearchCV, KFold, cross_val_score, RepeatedKFold, train_test_split\n",
    "\n",
    "from sklearn.compose import TransformedTargetRegressor\n",
    "from sklearn.pipeline import FeatureUnion, Pipeline, make_pipeline\n",
    "from sklearn.base import BaseEstimator, TransformerMixin\n",
    "\n",
    "import sklearn\n",
    "from sklearn.preprocessing import *\n",
    "\n",
    "from sklearn.pipeline import Pipeline\n",
    "from sklearn.preprocessing import StandardScaler, PowerTransformer\n",
    "from statsmodels.stats.outliers_influence import OLSInfluence\n",
    "from tqdm import tnrange, tqdm_notebook\n",
    "from zca import zca\n",
    "import itertools\n",
    "import matplotlib.pyplot as plt\n",
    "import mlxtend\n",
    "import numpy as np\n",
    "import pandas as pd\n",
    "import pingouin as pg\n",
    "import scipy\n",
    "import seaborn as sns\n",
    "import sklearn.linear_model\n",
    "import statsmodels.api as sm\n",
    "import statsmodels.tools\n",
    "import sys\n",
    "\n",
    "#if not sys.warnoptions:\n",
    "#    import warnings\n",
    "#    warnings.simplefilter(\"ignore\")\n",
    "#import random\n",
    "import warnings\n",
    "warnings.filterwarnings('ignore')\n",
    "\n",
    "zca = zca.ZCA()"
   ]
  },
  {
   "cell_type": "code",
   "execution_count": null,
   "id": "51a7b502-6081-4f42-98b0-a505ff859b0b",
   "metadata": {},
   "outputs": [],
   "source": [
    "class ss_yj_Transformer(BaseEstimator, TransformerMixin):\n",
    "    # add another additional parameter, just for fun, while we are at it\n",
    "    \n",
    "    def __init__(self, feature_names=[], additional_param = \"\"):  \n",
    "        self.ss_X = StandardScaler()\n",
    "        self.pt_X = PowerTransformer(standardize=True)\n",
    "        self.ss_y = StandardScaler()\n",
    "        self.pt_y = PowerTransformer(standardize=True)        \n",
    "        self.feature_names = feature_names\n",
    "        self.additional_param = additional_param\n",
    "\n",
    "    def fit(self, X, y = None):\n",
    "        self.ss_X.fit(X)\n",
    "        self.pt_X.fit(self.ss_X.transform(X))\n",
    "        if (y is not None):\n",
    "            self.ss_y.fit(y)\n",
    "            self.pt_y.fit(self.ss_y.transform(y))\n",
    "        return self\n",
    "\n",
    "    def transform(self, X, y = None):\n",
    "        pt_X_ = pd.DataFrame(self.pt_X.fit(pd.DataFrame(self.ss_X.fit(X).transform(X),index=X.index,columns=X.columns)).transform(pd.DataFrame(self.ss_X.fit(X).transform(X),index=X.index,columns=X.columns)),index=X.index,columns=X.columns)        \n",
    "        if (y is None):\n",
    "            return pt_X_\n",
    "        else:\n",
    "            pt_y_ = pd.DataFrame(self.pt_y.fit(pd.DataFrame(self.ss_y.fit(y).transform(y),index=y.index,columns=y.columns)).transform(pd.DataFrame(self.ss_y.fit(y).transform(y),index=y.index,columns=y.columns)),index=y.index,columns=y.columns)\n",
    "            return pt_X_, pt_y_\n",
    "        \n",
    "    def inverse_transform(self, X, y = None):\n",
    "        target_X = pd.DataFrame(self.ss_X.inverse_transform(self.pt_X.inverse_transform(X)),index=X.index,columns=X.columns)\n",
    "        if (y is None):\n",
    "            return target_X\n",
    "        else:\n",
    "            target_y = pd.DataFrame(self.ss_y.inverse_transform(self.pt_y.inverse_transform(y)),index=y.index,columns=y.columns)\n",
    "            return target_X, target_y\n",
    "        "
   ]
  },
  {
   "cell_type": "code",
   "execution_count": 204,
   "id": "cbf3e509-0551-4404-a471-30e51b231e9e",
   "metadata": {},
   "outputs": [
    {
     "data": {
      "text/plain": [
       "array([[[ 9.39674319e+01]],\n",
       "\n",
       "       [[ 1.31101510e+02]],\n",
       "\n",
       "       [[ 5.98409081e-01]],\n",
       "\n",
       "       [[ 5.11813068e+00]],\n",
       "\n",
       "       [[-9.30509161e+00]],\n",
       "\n",
       "       [[ 1.41874291e+02]],\n",
       "\n",
       "       [[-5.24787335e+02]],\n",
       "\n",
       "       [[ 4.24869247e+00]],\n",
       "\n",
       "       [[ 1.40531338e+02]],\n",
       "\n",
       "       [[ 1.28319035e+02]],\n",
       "\n",
       "       [[-7.67497065e-01]],\n",
       "\n",
       "       [[ 6.69739327e+01]],\n",
       "\n",
       "       [[ 5.60313591e+00]],\n",
       "\n",
       "       [[-3.34010267e+00]],\n",
       "\n",
       "       [[ 1.99344764e+00]],\n",
       "\n",
       "       [[-5.57506292e+00]],\n",
       "\n",
       "       [[ 2.07506299e+02]],\n",
       "\n",
       "       [[-3.65766535e+01]],\n",
       "\n",
       "       [[ 2.92081738e+00]],\n",
       "\n",
       "       [[ 1.79347196e+00]],\n",
       "\n",
       "       [[-9.58482190e+00]],\n",
       "\n",
       "       [[ 2.30558984e+01]],\n",
       "\n",
       "       [[ 7.60762819e-01]],\n",
       "\n",
       "       [[ 7.35894371e+02]],\n",
       "\n",
       "       [[ 4.86252263e+00]],\n",
       "\n",
       "       [[ 2.28174860e+00]],\n",
       "\n",
       "       [[ 2.72230642e+00]],\n",
       "\n",
       "       [[ 3.89063536e+02]],\n",
       "\n",
       "       [[ 1.99038126e+00]],\n",
       "\n",
       "       [[ 1.76362250e+00]],\n",
       "\n",
       "       [[ 2.93681854e+00]],\n",
       "\n",
       "       [[-7.46753780e-01]],\n",
       "\n",
       "       [[ 1.15631420e+02]],\n",
       "\n",
       "       [[ 1.20853934e+02]],\n",
       "\n",
       "       [[ 5.33810061e+01]]])"
      ]
     },
     "execution_count": 204,
     "metadata": {},
     "output_type": "execute_result"
    }
   ],
   "source": [
    "from econml.dml import LinearDML\n",
    "est = LinearDML()\n",
    "est.fit(data.y_train_ss_yj, data.y_train_ss_yj, X=data.x_train_ss_yj_inter, W=data.y_train_ss_yj)\n",
    "est.const_marginal_effect(data.x_train_ss_yj_inter)"
   ]
  },
  {
   "cell_type": "code",
   "execution_count": null,
   "id": "18febc60-48ed-4990-854b-815d3719435f",
   "metadata": {},
   "outputs": [],
   "source": [
    "numCV = 5\n",
    "kfold = KFold(n_splits=numCV, shuffle=True)\n",
    "p_threshold = .05\n",
    "divisor = .2\n",
    "target = 'Poverty'\n",
    "exclude = 'States'\n",
    "\n",
    "\n",
    "cv = RepeatedKFold(n_splits=numCV, n_repeats=1, random_state=1)\n",
    "\n",
    "alphas = [1e-5, 1e-4, 1e-3, 1e-2, 1e-1, 0.0, 1.0, 10.0, 100.0]\n",
    "l1s = arange(0, 1, 0.01/divisor)\n",
    "\n",
    "seed_ = 3\n",
    "\n",
    "#random.seed(11)\n",
    "\n",
    "seed(seed_)"
   ]
  },
  {
   "cell_type": "code",
   "execution_count": null,
   "id": "c4aff39a-9f86-4631-92f3-b76fd406ff04",
   "metadata": {},
   "outputs": [],
   "source": [
    "# evaluate a model\n",
    "def evaluate_model(X, y, model):\n",
    "\t# define model evaluation method\n",
    "\tcv = RepeatedKFold(n_splits=numCV, n_repeats=1, random_state=1)\n",
    "\t# evaluate model\n",
    "\tscores = cross_val_score(model, X, y, scoring='neg_mean_absolute_error', cv=cv, n_jobs=-1)\n",
    "\t# force scores to be positive\n",
    "\treturn absolute(scores)\n",
    "\n",
    "# plot the dataset and the model's line of best fit\n",
    "def plot_best_fit(X, y, model):\n",
    "\t# fut the model on all data\n",
    "\tmodel.fit(X, y)\n",
    "\t# plot the dataset\n",
    "\tpyplot.scatter(X, y)\n",
    "\t# plot the line of best fit\n",
    "\txaxis = arange(X.min(), X.max(), 0.01)\n",
    "\tyaxis = model.predict(xaxis.reshape((len(xaxis), 1)))\n",
    "\tpyplot.plot(xaxis, yaxis, color='r')\n",
    "\t# show the plot\n",
    "\tpyplot.title(type(model).__name__)\n",
    "\tpyplot.show()"
   ]
  },
  {
   "cell_type": "code",
   "execution_count": null,
   "id": "2e025827-a163-4dbd-a95c-1b8f922a438c",
   "metadata": {},
   "outputs": [],
   "source": [
    "all_data = pd.read_csv('../data/raw/states.csv')"
   ]
  },
  {
   "cell_type": "code",
   "execution_count": 192,
   "id": "abb46652-bab0-4bb1-bc7e-3d9d340a9c15",
   "metadata": {},
   "outputs": [],
   "source": []
  },
  {
   "cell_type": "code",
   "execution_count": 193,
   "id": "d4589f6d-16d2-4f3c-90e4-a0205154cea1",
   "metadata": {},
   "outputs": [],
   "source": [
    "class data():\n",
    "    def __init__(self, target, exclude, dataset):  \n",
    "        \n",
    "        train, valid = train_test_split(all_data.index, test_size=0.3, shuffle=True)\n",
    "        valid, test = train_test_split(valid,  test_size=0.5, shuffle=True)\n",
    "\n",
    "        X = dataset[set(all_data.columns).difference([target,exclude])].copy()\n",
    "        y = pd.DataFrame(all_data[target].copy())\n",
    "\n",
    "        X_train = X.loc[train].copy()\n",
    "\n",
    "        X_train_ss_yj_t = ss_yj_Transformer()\n",
    "        X_train_ss_yj_t.fit(X_train)\n",
    "        \n",
    "        self.X_train_ss_yj = X_train_ss_yj_t.transform(X_train)\n",
    "\n",
    "        X_valid = X.loc[valid].copy()\n",
    "\n",
    "        X_test = X.loc[test].copy()\n",
    "\n",
    "        y_train = y.loc[X_train.index][[target]].copy()\n",
    "        y_valid = y.loc[X_valid.index][[target]].copy()\n",
    "        y_test = y.loc[X_test.index][[target]].copy()\n",
    "\n",
    "        y_train_ss_yj_t = ss_yj_Transformer()\n",
    "        y_train_ss_yj_t.fit(y_train)\n",
    "        \n",
    "        self.y_train_ss_yj = y_train_ss_yj_t.transform(y_train)\n",
    "\n",
    "        self.x_valid_ss_yj = X_train_ss_yj_t.transform(X_valid)\n",
    "        \n",
    "        interaction = PolynomialFeatures(degree=2, include_bias=False, interaction_only=False)\n",
    "\n",
    "        self.x_train_ss_yj_inter = pd.DataFrame(interaction.fit_transform(X_train_ss_yj),index=X_train_ss_yj.index,columns=interaction.get_feature_names(input_features=X_train_ss_yj.columns))\n",
    "\n",
    "        self.x_valid_ss_yj_inter = pd.DataFrame(interaction.fit_transform(x_valid_ss_yj),index=X_valid.index,columns=interaction.get_feature_names(input_features=X_valid.columns))\n"
   ]
  },
  {
   "cell_type": "code",
   "execution_count": 194,
   "id": "c7b41059-678f-444a-9019-1e5c0e80e4f6",
   "metadata": {},
   "outputs": [],
   "source": [
    "data = data(target,exclude,all_data)"
   ]
  },
  {
   "cell_type": "code",
   "execution_count": null,
   "id": "d9130aed-2778-4682-b57c-b93cb7d9c455",
   "metadata": {},
   "outputs": [],
   "source": []
  },
  {
   "cell_type": "code",
   "execution_count": 199,
   "id": "e705334a-0bc8-4cd8-a072-21e45352112f",
   "metadata": {},
   "outputs": [],
   "source": [
    "lr = LinearRegression()\n",
    "\n",
    "#backwards step subset\n",
    "sffs1 = sffs(lr, \n",
    "          k_features=len(data.x_train_ss_yj_inter.columns), \n",
    "          #forward=True, \n",
    "          floating=True, \n",
    "          scoring='neg_mean_squared_error',\n",
    "          #scoring='accuracy',\n",
    "          n_jobs=-1,\n",
    "          cv=numCV)\n",
    "            \n",
    "sffs1 = sffs1.fit(data.x_train_ss_yj_inter, data.y_train_ss_yj)\n"
   ]
  },
  {
   "cell_type": "code",
   "execution_count": 200,
   "id": "00122287-7af4-4dc7-9ef1-8da80d9e1654",
   "metadata": {},
   "outputs": [
    {
     "data": {
      "image/png": "[encoded data removed]",
      "text/plain": [
       "<Figure size 432x288 with 1 Axes>"
      ]
     },
     "metadata": {
      "needs_background": "light"
     },
     "output_type": "display_data"
    },
    {
     "name": "stdout",
     "output_type": "stream",
     "text": [
      "best combination (ACC: -6.532): (0, 1, 2, 3, 4, 5, 6, 7, 8, 9, 10, 11, 12, 13, 14, 15, 16, 17, 18, 19, 20, 21, 22, 23, 24, 25, 26, 27, 28, 29, 30, 31, 32, 33, 34, 35, 36, 37, 38, 39, 40, 41, 42, 43, 44, 45, 46, 47, 48, 49, 50, 51, 52, 53)\n",
      "\n",
      "all subsets:\n",
      " {1: {'feature_idx': (14,), 'cv_scores': array([-0.39865324, -1.43633996, -0.57157808, -0.97138228, -1.4507796 ]), 'avg_score': -0.9657466317505804, 'feature_names': ('White Crime',)}, 2: {'feature_idx': (14, 24), 'cv_scores': array([-0.52179675, -0.99228608, -0.75407443, -0.65412802, -1.5453339 ]), 'avg_score': -0.8935238358740138, 'feature_names': ('White Crime', 'Population Infant Mort')}, 3: {'feature_idx': (9, 14, 24), 'cv_scores': array([-0.4368637 , -0.90916459, -0.7108934 , -0.54104307, -1.50507966]), 'avg_score': -0.8206088857156993, 'feature_names': ('White^2', 'White Crime', 'Population Infant Mort')}, 4: {'feature_idx': (6, 9, 14, 24), 'cv_scores': array([-0.64757295, -0.85705505, -0.53476441, -0.58011227, -1.35677975]), 'avg_score': -0.7952568844320683, 'feature_names': ('Income', 'White^2', 'White Crime', 'Population Infant Mort')}, 5: {'feature_idx': (6, 9, 14, 24, 45), 'cv_scores': array([-0.4103072 , -0.88676648, -0.51091905, -0.5335008 , -1.29785159]), 'avg_score': -0.7278690250929689, 'feature_names': ('Income', 'White^2', 'White Crime', 'Population Infant Mort', 'Crime Income')}, 6: {'feature_idx': (6, 9, 14, 24, 41, 45), 'cv_scores': array([-0.3746466 , -0.85860144, -0.47214711, -0.49283739, -1.2983335 ]), 'avg_score': -0.6993132073379835, 'feature_names': ('Income', 'White^2', 'White Crime', 'Population Infant Mort', 'University Income', 'Crime Income')}, 7: {'feature_idx': (6, 9, 14, 24, 38, 41, 45), 'cv_scores': array([-0.25120059, -0.78388325, -0.43968418, -0.62962767, -1.29492561]), 'avg_score': -0.6798642604046329, 'feature_names': ('Income', 'White^2', 'White Crime', 'Population Infant Mort', 'Unemployed Doctors', 'University Income', 'Crime Income')}, 8: {'feature_idx': (6, 9, 14, 24, 29, 38, 41, 45), 'cv_scores': array([-0.26670071, -0.71807434, -0.53396989, -0.68412584, -1.22129308]), 'avg_score': -0.684832771781112, 'feature_names': ('Income', 'White^2', 'White Crime', 'Population Infant Mort', 'Traf Deaths Crime', 'Unemployed Doctors', 'University Income', 'Crime Income')}, 9: {'feature_idx': (6, 9, 14, 24, 29, 38, 41, 44, 45), 'cv_scores': array([-0.27447645, -0.71527373, -0.52529514, -0.68447984, -1.17713864]), 'avg_score': -0.6753327609868258, 'feature_names': ('Income', 'White^2', 'White Crime', 'Population Infant Mort', 'Traf Deaths Crime', 'Unemployed Doctors', 'University Income', 'Crime^2', 'Crime Income')}, 10: {'feature_idx': (6, 9, 14, 18, 24, 29, 38, 41, 44, 45), 'cv_scores': array([-0.25200443, -0.70610312, -0.67427861, -0.72439858, -1.1607266 ]), 'avg_score': -0.7035022667645399, 'feature_names': ('Income', 'White^2', 'White Crime', 'Population^2', 'Population Infant Mort', 'Traf Deaths Crime', 'Unemployed Doctors', 'University Income', 'Crime^2', 'Crime Income')}, 11: {'feature_idx': (6, 9, 14, 18, 24, 29, 38, 41, 44, 45, 50), 'cv_scores': array([-0.21533896, -0.69503835, -0.66347141, -0.69871377, -1.28710803]), 'avg_score': -0.7119341050231494, 'feature_names': ('Income', 'White^2', 'White Crime', 'Population^2', 'Population Infant Mort', 'Traf Deaths Crime', 'Unemployed Doctors', 'University Income', 'Crime^2', 'Crime Income', 'Income Doctors')}, 12: {'feature_idx': (6, 9, 14, 18, 24, 26, 29, 38, 41, 44, 45, 50), 'cv_scores': array([-0.21410371, -0.7004816 , -0.81215288, -0.68005538, -1.3129563 ]), 'avg_score': -0.7439499722004174, 'feature_names': ('Income', 'White^2', 'White Crime', 'Population^2', 'Population Infant Mort', 'Traf Deaths^2', 'Traf Deaths Crime', 'Unemployed Doctors', 'University Income', 'Crime^2', 'Crime Income', 'Income Doctors')}, 13: {'feature_idx': (0, 6, 7, 9, 14, 18, 24, 29, 34, 38, 41, 44, 45), 'cv_scores': array([-0.28098919, -0.79845978, -0.99394974, -0.59886637, -1.1687213 ]), 'avg_score': -0.7681972753000016, 'feature_names': ('White', 'Income', 'Infant Mort', 'White^2', 'White Crime', 'Population^2', 'Population Infant Mort', 'Traf Deaths Crime', 'Unemployed University', 'Unemployed Doctors', 'University Income', 'Crime^2', 'Crime Income')}, 14: {'feature_idx': (7, 8, 9, 18, 19, 29, 32, 33, 34, 36, 38, 45, 46, 51), 'cv_scores': array([-0.61942155, -0.55984279, -0.48750345, -0.75220764, -0.82040567]), 'avg_score': -0.6478762229395213, 'feature_names': ('Infant Mort', 'Doctors', 'White^2', 'Population^2', 'Population Traf Deaths', 'Traf Deaths Crime', 'Traf Deaths Doctors', 'Unemployed^2', 'Unemployed University', 'Unemployed Income', 'Unemployed Doctors', 'Crime Income', 'Crime Infant Mort', 'Infant Mort^2')}, 15: {'feature_idx': (7, 8, 9, 18, 19, 28, 29, 32, 33, 34, 36, 38, 45, 46, 51), 'cv_scores': array([-0.59960535, -0.53484561, -0.48328351, -0.74590539, -0.78749487]), 'avg_score': -0.6302269454589442, 'feature_names': ('Infant Mort', 'Doctors', 'White^2', 'Population^2', 'Population Traf Deaths', 'Traf Deaths University', 'Traf Deaths Crime', 'Traf Deaths Doctors', 'Unemployed^2', 'Unemployed University', 'Unemployed Income', 'Unemployed Doctors', 'Crime Income', 'Crime Infant Mort', 'Infant Mort^2')}, 16: {'feature_idx': (7, 8, 9, 18, 19, 28, 29, 33, 34, 36, 38, 43, 45, 46, 51, 53), 'cv_scores': array([-0.30776087, -0.49457099, -0.58662637, -0.93167634, -0.39251285]), 'avg_score': -0.5426294836421685, 'feature_names': ('Infant Mort', 'Doctors', 'White^2', 'Population^2', 'Population Traf Deaths', 'Traf Deaths University', 'Traf Deaths Crime', 'Unemployed^2', 'Unemployed University', 'Unemployed Income', 'Unemployed Doctors', 'University Doctors', 'Crime Income', 'Crime Infant Mort', 'Infant Mort^2', 'Doctors^2')}, 17: {'feature_idx': (7, 8, 9, 18, 19, 28, 29, 33, 34, 36, 38, 42, 43, 45, 46, 51, 53), 'cv_scores': array([-0.1647459 , -0.41497009, -0.41381449, -0.98132378, -0.60334703]), 'avg_score': -0.5156402588195068, 'feature_names': ('Infant Mort', 'Doctors', 'White^2', 'Population^2', 'Population Traf Deaths', 'Traf Deaths University', 'Traf Deaths Crime', 'Unemployed^2', 'Unemployed University', 'Unemployed Income', 'Unemployed Doctors', 'University Infant Mort', 'University Doctors', 'Crime Income', 'Crime Infant Mort', 'Infant Mort^2', 'Doctors^2')}, 18: {'feature_idx': (0, 7, 8, 9, 18, 19, 28, 29, 33, 34, 36, 38, 42, 43, 45, 46, 51, 53), 'cv_scores': array([-0.26141808, -0.46599508, -0.38840704, -0.92927771, -0.51743144]), 'avg_score': -0.5125058695314759, 'feature_names': ('White', 'Infant Mort', 'Doctors', 'White^2', 'Population^2', 'Population Traf Deaths', 'Traf Deaths University', 'Traf Deaths Crime', 'Unemployed^2', 'Unemployed University', 'Unemployed Income', 'Unemployed Doctors', 'University Infant Mort', 'University Doctors', 'Crime Income', 'Crime Infant Mort', 'Infant Mort^2', 'Doctors^2')}, 19: {'feature_idx': (0, 7, 8, 9, 18, 19, 22, 28, 29, 33, 34, 36, 38, 42, 43, 45, 46, 51, 53), 'cv_scores': array([-0.28868633, -0.4592129 , -0.38587466, -0.92420203, -0.49937683]), 'avg_score': -0.5114705507434677, 'feature_names': ('White', 'Infant Mort', 'Doctors', 'White^2', 'Population^2', 'Population Traf Deaths', 'Population Crime', 'Traf Deaths University', 'Traf Deaths Crime', 'Unemployed^2', 'Unemployed University', 'Unemployed Income', 'Unemployed Doctors', 'University Infant Mort', 'University Doctors', 'Crime Income', 'Crime Infant Mort', 'Infant Mort^2', 'Doctors^2')}, 20: {'feature_idx': (0, 7, 8, 9, 18, 19, 22, 26, 28, 29, 33, 34, 36, 38, 42, 43, 45, 46, 51, 53), 'cv_scores': array([-0.31006662, -0.71592044, -0.39320362, -0.97755154, -0.51326146]), 'avg_score': -0.5820007363365656, 'feature_names': ('White', 'Infant Mort', 'Doctors', 'White^2', 'Population^2', 'Population Traf Deaths', 'Population Crime', 'Traf Deaths^2', 'Traf Deaths University', 'Traf Deaths Crime', 'Unemployed^2', 'Unemployed University', 'Unemployed Income', 'Unemployed Doctors', 'University Infant Mort', 'University Doctors', 'Crime Income', 'Crime Infant Mort', 'Infant Mort^2', 'Doctors^2')}, 21: {'feature_idx': (0, 7, 8, 9, 14, 18, 19, 22, 26, 28, 29, 33, 34, 36, 38, 42, 43, 45, 46, 51, 53), 'cv_scores': array([-0.83036244, -0.69526129, -0.43272811, -0.98869439, -0.51418408]), 'avg_score': -0.6922460640651892, 'feature_names': ('White', 'Infant Mort', 'Doctors', 'White^2', 'White Crime', 'Population^2', 'Population Traf Deaths', 'Population Crime', 'Traf Deaths^2', 'Traf Deaths University', 'Traf Deaths Crime', 'Unemployed^2', 'Unemployed University', 'Unemployed Income', 'Unemployed Doctors', 'University Infant Mort', 'University Doctors', 'Crime Income', 'Crime Infant Mort', 'Infant Mort^2', 'Doctors^2')}, 22: {'feature_idx': (0, 7, 8, 9, 10, 14, 18, 19, 22, 26, 28, 29, 33, 34, 36, 38, 42, 43, 45, 46, 51, 53), 'cv_scores': array([-0.76763144, -0.92746169, -0.50227869, -1.78916717, -0.61975485]), 'avg_score': -0.9212587668009065, 'feature_names': ('White', 'Infant Mort', 'Doctors', 'White^2', 'White Population', 'White Crime', 'Population^2', 'Population Traf Deaths', 'Population Crime', 'Traf Deaths^2', 'Traf Deaths University', 'Traf Deaths Crime', 'Unemployed^2', 'Unemployed University', 'Unemployed Income', 'Unemployed Doctors', 'University Infant Mort', 'University Doctors', 'Crime Income', 'Crime Infant Mort', 'Infant Mort^2', 'Doctors^2')}, 23: {'feature_idx': (0, 7, 8, 9, 10, 11, 14, 18, 19, 22, 26, 28, 29, 33, 34, 36, 38, 42, 43, 45, 46, 51, 53), 'cv_scores': array([-1.56823481, -0.75228226, -0.90623581, -2.5910826 , -0.66720025]), 'avg_score': -1.2970071454899674, 'feature_names': ('White', 'Infant Mort', 'Doctors', 'White^2', 'White Population', 'White Traf Deaths', 'White Crime', 'Population^2', 'Population Traf Deaths', 'Population Crime', 'Traf Deaths^2', 'Traf Deaths University', 'Traf Deaths Crime', 'Unemployed^2', 'Unemployed University', 'Unemployed Income', 'Unemployed Doctors', 'University Infant Mort', 'University Doctors', 'Crime Income', 'Crime Infant Mort', 'Infant Mort^2', 'Doctors^2')}, 24: {'feature_idx': (0, 3, 4, 7, 8, 9, 14, 18, 19, 22, 23, 26, 28, 29, 34, 36, 37, 38, 39, 42, 43, 45, 46, 51), 'cv_scores': array([-1.00846269, -3.24917058, -1.16298577, -1.60535388, -2.36724857]), 'avg_score': -1.8786442974341238, 'feature_names': ('White', 'Unemployed', 'University', 'Infant Mort', 'Doctors', 'White^2', 'White Crime', 'Population^2', 'Population Traf Deaths', 'Population Crime', 'Population Income', 'Traf Deaths^2', 'Traf Deaths University', 'Traf Deaths Crime', 'Unemployed University', 'Unemployed Income', 'Unemployed Infant Mort', 'Unemployed Doctors', 'University^2', 'University Infant Mort', 'University Doctors', 'Crime Income', 'Crime Infant Mort', 'Infant Mort^2')}, 25: {'feature_idx': (0, 3, 4, 7, 8, 9, 14, 18, 19, 22, 23, 26, 28, 29, 33, 34, 36, 37, 38, 39, 42, 43, 45, 46, 51), 'cv_scores': array([-1.01100788, -5.31228851, -2.48470147, -3.39155981, -2.8362139 ]), 'avg_score': -3.0071543149994673, 'feature_names': ('White', 'Unemployed', 'University', 'Infant Mort', 'Doctors', 'White^2', 'White Crime', 'Population^2', 'Population Traf Deaths', 'Population Crime', 'Population Income', 'Traf Deaths^2', 'Traf Deaths University', 'Traf Deaths Crime', 'Unemployed^2', 'Unemployed University', 'Unemployed Income', 'Unemployed Infant Mort', 'Unemployed Doctors', 'University^2', 'University Infant Mort', 'University Doctors', 'Crime Income', 'Crime Infant Mort', 'Infant Mort^2')}, 26: {'feature_idx': (0, 3, 4, 7, 8, 9, 14, 16, 18, 19, 22, 23, 26, 28, 29, 33, 34, 36, 37, 38, 39, 42, 43, 45, 46, 51), 'cv_scores': array([ -5.4154618 ,  -5.25389426,  -4.43301885, -10.15089176,\n",
      "        -3.9155888 ]), 'avg_score': -5.833771094655565, 'feature_names': ('White', 'Unemployed', 'University', 'Infant Mort', 'Doctors', 'White^2', 'White Crime', 'White Infant Mort', 'Population^2', 'Population Traf Deaths', 'Population Crime', 'Population Income', 'Traf Deaths^2', 'Traf Deaths University', 'Traf Deaths Crime', 'Unemployed^2', 'Unemployed University', 'Unemployed Income', 'Unemployed Infant Mort', 'Unemployed Doctors', 'University^2', 'University Infant Mort', 'University Doctors', 'Crime Income', 'Crime Infant Mort', 'Infant Mort^2')}, 27: {'feature_idx': (0, 1, 3, 4, 7, 8, 9, 16, 18, 19, 21, 22, 23, 26, 28, 29, 33, 34, 36, 37, 38, 39, 42, 43, 45, 46, 48), 'cv_scores': array([ -7.46532227,  -5.37452301, -12.49426172, -13.88443949,\n",
      "        -5.6337759 ]), 'avg_score': -8.97046447647062, 'feature_names': ('White', 'Population', 'Unemployed', 'University', 'Infant Mort', 'Doctors', 'White^2', 'White Infant Mort', 'Population^2', 'Population Traf Deaths', 'Population University', 'Population Crime', 'Population Income', 'Traf Deaths^2', 'Traf Deaths University', 'Traf Deaths Crime', 'Unemployed^2', 'Unemployed University', 'Unemployed Income', 'Unemployed Infant Mort', 'Unemployed Doctors', 'University^2', 'University Infant Mort', 'University Doctors', 'Crime Income', 'Crime Infant Mort', 'Income^2')}, 28: {'feature_idx': (0, 1, 3, 5, 7, 8, 9, 16, 18, 19, 21, 22, 23, 26, 28, 29, 30, 33, 34, 35, 36, 38, 41, 42, 43, 44, 46, 48), 'cv_scores': array([-1.69251132, -1.34158053, -0.50474876, -5.03826858, -4.37618895]), 'avg_score': -2.59065962700842, 'feature_names': ('White', 'Population', 'Unemployed', 'Crime', 'Infant Mort', 'Doctors', 'White^2', 'White Infant Mort', 'Population^2', 'Population Traf Deaths', 'Population University', 'Population Crime', 'Population Income', 'Traf Deaths^2', 'Traf Deaths University', 'Traf Deaths Crime', 'Traf Deaths Income', 'Unemployed^2', 'Unemployed University', 'Unemployed Crime', 'Unemployed Income', 'Unemployed Doctors', 'University Income', 'University Infant Mort', 'University Doctors', 'Crime^2', 'Crime Infant Mort', 'Income^2')}, 29: {'feature_idx': (2, 5, 7, 8, 9, 11, 13, 18, 19, 21, 22, 25, 26, 27, 28, 29, 34, 35, 36, 38, 39, 41, 42, 43, 44, 45, 46, 48, 53), 'cv_scores': array([-0.77062648, -0.31945407, -0.38221307, -0.44028893, -0.56765123]), 'avg_score': -0.496046757056129, 'feature_names': ('Traf Deaths', 'Crime', 'Infant Mort', 'Doctors', 'White^2', 'White Traf Deaths', 'White University', 'Population^2', 'Population Traf Deaths', 'Population University', 'Population Crime', 'Population Doctors', 'Traf Deaths^2', 'Traf Deaths Unemployed', 'Traf Deaths University', 'Traf Deaths Crime', 'Unemployed University', 'Unemployed Crime', 'Unemployed Income', 'Unemployed Doctors', 'University^2', 'University Income', 'University Infant Mort', 'University Doctors', 'Crime^2', 'Crime Income', 'Crime Infant Mort', 'Income^2', 'Doctors^2')}, 30: {'feature_idx': (0, 4, 6, 7, 9, 11, 13, 14, 15, 17, 19, 25, 26, 28, 30, 32, 33, 35, 36, 38, 39, 40, 42, 46, 47, 48, 50, 51, 52, 53), 'cv_scores': array([-0.06687544, -0.33174698, -0.05254288, -0.23132789, -0.19587454]), 'avg_score': -0.17567354951460715, 'feature_names': ('White', 'University', 'Income', 'Infant Mort', 'White^2', 'White Traf Deaths', 'White University', 'White Crime', 'White Income', 'White Doctors', 'Population Traf Deaths', 'Population Doctors', 'Traf Deaths^2', 'Traf Deaths University', 'Traf Deaths Income', 'Traf Deaths Doctors', 'Unemployed^2', 'Unemployed Crime', 'Unemployed Income', 'Unemployed Doctors', 'University^2', 'University Crime', 'University Infant Mort', 'Crime Infant Mort', 'Crime Doctors', 'Income^2', 'Income Doctors', 'Infant Mort^2', 'Infant Mort Doctors', 'Doctors^2')}, 31: {'feature_idx': (0, 4, 6, 7, 9, 10, 11, 13, 14, 15, 17, 19, 25, 26, 28, 30, 32, 33, 35, 36, 38, 39, 40, 41, 42, 46, 47, 50, 51, 52, 53), 'cv_scores': array([-0.08650499, -0.16323428, -0.15608897, -0.32738771, -0.1452344 ]), 'avg_score': -0.17569007024168565, 'feature_names': ('White', 'University', 'Income', 'Infant Mort', 'White^2', 'White Population', 'White Traf Deaths', 'White University', 'White Crime', 'White Income', 'White Doctors', 'Population Traf Deaths', 'Population Doctors', 'Traf Deaths^2', 'Traf Deaths University', 'Traf Deaths Income', 'Traf Deaths Doctors', 'Unemployed^2', 'Unemployed Crime', 'Unemployed Income', 'Unemployed Doctors', 'University^2', 'University Crime', 'University Income', 'University Infant Mort', 'Crime Infant Mort', 'Crime Doctors', 'Income Doctors', 'Infant Mort^2', 'Infant Mort Doctors', 'Doctors^2')}, 32: {'feature_idx': (0, 4, 6, 7, 9, 10, 11, 13, 14, 15, 17, 19, 25, 26, 27, 28, 30, 32, 33, 35, 36, 38, 39, 40, 41, 42, 46, 47, 50, 51, 52, 53), 'cv_scores': array([-0.12409831, -0.23300257, -0.12809461, -0.38129959, -0.15350259]), 'avg_score': -0.2039995336845512, 'feature_names': ('White', 'University', 'Income', 'Infant Mort', 'White^2', 'White Population', 'White Traf Deaths', 'White University', 'White Crime', 'White Income', 'White Doctors', 'Population Traf Deaths', 'Population Doctors', 'Traf Deaths^2', 'Traf Deaths Unemployed', 'Traf Deaths University', 'Traf Deaths Income', 'Traf Deaths Doctors', 'Unemployed^2', 'Unemployed Crime', 'Unemployed Income', 'Unemployed Doctors', 'University^2', 'University Crime', 'University Income', 'University Infant Mort', 'Crime Infant Mort', 'Crime Doctors', 'Income Doctors', 'Infant Mort^2', 'Infant Mort Doctors', 'Doctors^2')}, 33: {'feature_idx': (0, 4, 6, 7, 9, 10, 11, 13, 14, 15, 17, 19, 25, 26, 28, 30, 32, 33, 35, 36, 38, 39, 40, 41, 42, 46, 47, 48, 49, 50, 51, 52, 53), 'cv_scores': array([-0.10558419, -0.20689177, -0.42529337, -0.57720919, -0.0965926 ]), 'avg_score': -0.2823142235597197, 'feature_names': ('White', 'University', 'Income', 'Infant Mort', 'White^2', 'White Population', 'White Traf Deaths', 'White University', 'White Crime', 'White Income', 'White Doctors', 'Population Traf Deaths', 'Population Doctors', 'Traf Deaths^2', 'Traf Deaths University', 'Traf Deaths Income', 'Traf Deaths Doctors', 'Unemployed^2', 'Unemployed Crime', 'Unemployed Income', 'Unemployed Doctors', 'University^2', 'University Crime', 'University Income', 'University Infant Mort', 'Crime Infant Mort', 'Crime Doctors', 'Income^2', 'Income Infant Mort', 'Income Doctors', 'Infant Mort^2', 'Infant Mort Doctors', 'Doctors^2')}, 34: {'feature_idx': (0, 4, 6, 7, 9, 10, 11, 13, 14, 15, 17, 19, 25, 26, 27, 28, 30, 32, 33, 35, 36, 38, 39, 40, 41, 42, 46, 47, 48, 49, 50, 51, 52, 53), 'cv_scores': array([-0.15363979, -0.55551768, -0.5082802 , -0.85903498, -0.08351718]), 'avg_score': -0.4319979666307286, 'feature_names': ('White', 'University', 'Income', 'Infant Mort', 'White^2', 'White Population', 'White Traf Deaths', 'White University', 'White Crime', 'White Income', 'White Doctors', 'Population Traf Deaths', 'Population Doctors', 'Traf Deaths^2', 'Traf Deaths Unemployed', 'Traf Deaths University', 'Traf Deaths Income', 'Traf Deaths Doctors', 'Unemployed^2', 'Unemployed Crime', 'Unemployed Income', 'Unemployed Doctors', 'University^2', 'University Crime', 'University Income', 'University Infant Mort', 'Crime Infant Mort', 'Crime Doctors', 'Income^2', 'Income Infant Mort', 'Income Doctors', 'Infant Mort^2', 'Infant Mort Doctors', 'Doctors^2')}, 35: {'feature_idx': (0, 4, 6, 7, 9, 10, 11, 12, 13, 14, 15, 17, 19, 25, 26, 27, 28, 30, 32, 33, 35, 36, 38, 39, 40, 41, 42, 46, 47, 48, 49, 50, 51, 52, 53), 'cv_scores': array([-0.15712546, -0.56902572, -1.42206601, -0.83539901, -0.3314594 ]), 'avg_score': -0.6630151202240121, 'feature_names': ('White', 'University', 'Income', 'Infant Mort', 'White^2', 'White Population', 'White Traf Deaths', 'White Unemployed', 'White University', 'White Crime', 'White Income', 'White Doctors', 'Population Traf Deaths', 'Population Doctors', 'Traf Deaths^2', 'Traf Deaths Unemployed', 'Traf Deaths University', 'Traf Deaths Income', 'Traf Deaths Doctors', 'Unemployed^2', 'Unemployed Crime', 'Unemployed Income', 'Unemployed Doctors', 'University^2', 'University Crime', 'University Income', 'University Infant Mort', 'Crime Infant Mort', 'Crime Doctors', 'Income^2', 'Income Infant Mort', 'Income Doctors', 'Infant Mort^2', 'Infant Mort Doctors', 'Doctors^2')}, 36: {'feature_idx': (0, 4, 6, 8, 9, 10, 11, 13, 14, 15, 16, 17, 19, 25, 26, 27, 28, 30, 32, 33, 35, 36, 38, 39, 40, 41, 42, 45, 46, 47, 48, 49, 50, 51, 52, 53), 'cv_scores': array([-0.70862252, -0.86865177, -1.09204231, -1.33458707, -0.74188074]), 'avg_score': -0.9491568824769558, 'feature_names': ('White', 'University', 'Income', 'Doctors', 'White^2', 'White Population', 'White Traf Deaths', 'White University', 'White Crime', 'White Income', 'White Infant Mort', 'White Doctors', 'Population Traf Deaths', 'Population Doctors', 'Traf Deaths^2', 'Traf Deaths Unemployed', 'Traf Deaths University', 'Traf Deaths Income', 'Traf Deaths Doctors', 'Unemployed^2', 'Unemployed Crime', 'Unemployed Income', 'Unemployed Doctors', 'University^2', 'University Crime', 'University Income', 'University Infant Mort', 'Crime Income', 'Crime Infant Mort', 'Crime Doctors', 'Income^2', 'Income Infant Mort', 'Income Doctors', 'Infant Mort^2', 'Infant Mort Doctors', 'Doctors^2')}, 37: {'feature_idx': (0, 3, 4, 6, 7, 9, 10, 11, 12, 13, 14, 15, 17, 19, 25, 26, 27, 28, 30, 31, 32, 33, 34, 35, 36, 38, 40, 41, 42, 46, 47, 48, 49, 50, 51, 52, 53), 'cv_scores': array([-0.96045233, -2.01069243, -1.24467283, -0.72603311, -0.77365788]), 'avg_score': -1.143101715600956, 'feature_names': ('White', 'Unemployed', 'University', 'Income', 'Infant Mort', 'White^2', 'White Population', 'White Traf Deaths', 'White Unemployed', 'White University', 'White Crime', 'White Income', 'White Doctors', 'Population Traf Deaths', 'Population Doctors', 'Traf Deaths^2', 'Traf Deaths Unemployed', 'Traf Deaths University', 'Traf Deaths Income', 'Traf Deaths Infant Mort', 'Traf Deaths Doctors', 'Unemployed^2', 'Unemployed University', 'Unemployed Crime', 'Unemployed Income', 'Unemployed Doctors', 'University Crime', 'University Income', 'University Infant Mort', 'Crime Infant Mort', 'Crime Doctors', 'Income^2', 'Income Infant Mort', 'Income Doctors', 'Infant Mort^2', 'Infant Mort Doctors', 'Doctors^2')}, 38: {'feature_idx': (0, 3, 4, 6, 7, 8, 9, 10, 11, 13, 14, 15, 17, 19, 25, 26, 27, 28, 30, 31, 32, 33, 34, 35, 36, 38, 40, 41, 42, 45, 46, 47, 48, 49, 50, 51, 52, 53), 'cv_scores': array([-0.47090545, -2.31699801, -1.86709794, -1.54008483, -0.75200141]), 'avg_score': -1.3894175258411416, 'feature_names': ('White', 'Unemployed', 'University', 'Income', 'Infant Mort', 'Doctors', 'White^2', 'White Population', 'White Traf Deaths', 'White University', 'White Crime', 'White Income', 'White Doctors', 'Population Traf Deaths', 'Population Doctors', 'Traf Deaths^2', 'Traf Deaths Unemployed', 'Traf Deaths University', 'Traf Deaths Income', 'Traf Deaths Infant Mort', 'Traf Deaths Doctors', 'Unemployed^2', 'Unemployed University', 'Unemployed Crime', 'Unemployed Income', 'Unemployed Doctors', 'University Crime', 'University Income', 'University Infant Mort', 'Crime Income', 'Crime Infant Mort', 'Crime Doctors', 'Income^2', 'Income Infant Mort', 'Income Doctors', 'Infant Mort^2', 'Infant Mort Doctors', 'Doctors^2')}, 39: {'feature_idx': (0, 2, 3, 4, 6, 8, 9, 11, 12, 13, 14, 16, 17, 19, 25, 26, 27, 28, 30, 31, 32, 33, 34, 35, 36, 37, 38, 39, 40, 41, 42, 45, 47, 48, 49, 50, 51, 52, 53), 'cv_scores': array([-1.56390728, -2.14473778, -1.12488617, -1.46021341, -1.35297671]), 'avg_score': -1.5293442712783845, 'feature_names': ('White', 'Traf Deaths', 'Unemployed', 'University', 'Income', 'Doctors', 'White^2', 'White Traf Deaths', 'White Unemployed', 'White University', 'White Crime', 'White Infant Mort', 'White Doctors', 'Population Traf Deaths', 'Population Doctors', 'Traf Deaths^2', 'Traf Deaths Unemployed', 'Traf Deaths University', 'Traf Deaths Income', 'Traf Deaths Infant Mort', 'Traf Deaths Doctors', 'Unemployed^2', 'Unemployed University', 'Unemployed Crime', 'Unemployed Income', 'Unemployed Infant Mort', 'Unemployed Doctors', 'University^2', 'University Crime', 'University Income', 'University Infant Mort', 'Crime Income', 'Crime Doctors', 'Income^2', 'Income Infant Mort', 'Income Doctors', 'Infant Mort^2', 'Infant Mort Doctors', 'Doctors^2')}, 40: {'feature_idx': (0, 2, 3, 4, 6, 8, 9, 10, 11, 12, 13, 14, 16, 17, 19, 25, 26, 27, 28, 30, 31, 32, 33, 34, 35, 36, 37, 38, 39, 40, 41, 42, 45, 47, 48, 49, 50, 51, 52, 53), 'cv_scores': array([-1.60063312, -2.12803614, -1.55155709, -1.44685595, -1.347258  ]), 'avg_score': -1.6148680585378652, 'feature_names': ('White', 'Traf Deaths', 'Unemployed', 'University', 'Income', 'Doctors', 'White^2', 'White Population', 'White Traf Deaths', 'White Unemployed', 'White University', 'White Crime', 'White Infant Mort', 'White Doctors', 'Population Traf Deaths', 'Population Doctors', 'Traf Deaths^2', 'Traf Deaths Unemployed', 'Traf Deaths University', 'Traf Deaths Income', 'Traf Deaths Infant Mort', 'Traf Deaths Doctors', 'Unemployed^2', 'Unemployed University', 'Unemployed Crime', 'Unemployed Income', 'Unemployed Infant Mort', 'Unemployed Doctors', 'University^2', 'University Crime', 'University Income', 'University Infant Mort', 'Crime Income', 'Crime Doctors', 'Income^2', 'Income Infant Mort', 'Income Doctors', 'Infant Mort^2', 'Infant Mort Doctors', 'Doctors^2')}, 41: {'feature_idx': (0, 2, 3, 4, 6, 8, 9, 10, 11, 12, 13, 14, 15, 16, 17, 19, 25, 26, 27, 28, 30, 31, 32, 33, 34, 35, 36, 37, 38, 39, 40, 41, 42, 45, 47, 48, 49, 50, 51, 52, 53), 'cv_scores': array([-1.72912394, -2.41448794, -1.60674998, -1.56915919, -1.33190204]), 'avg_score': -1.7302846168635924, 'feature_names': ('White', 'Traf Deaths', 'Unemployed', 'University', 'Income', 'Doctors', 'White^2', 'White Population', 'White Traf Deaths', 'White Unemployed', 'White University', 'White Crime', 'White Income', 'White Infant Mort', 'White Doctors', 'Population Traf Deaths', 'Population Doctors', 'Traf Deaths^2', 'Traf Deaths Unemployed', 'Traf Deaths University', 'Traf Deaths Income', 'Traf Deaths Infant Mort', 'Traf Deaths Doctors', 'Unemployed^2', 'Unemployed University', 'Unemployed Crime', 'Unemployed Income', 'Unemployed Infant Mort', 'Unemployed Doctors', 'University^2', 'University Crime', 'University Income', 'University Infant Mort', 'Crime Income', 'Crime Doctors', 'Income^2', 'Income Infant Mort', 'Income Doctors', 'Infant Mort^2', 'Infant Mort Doctors', 'Doctors^2')}, 42: {'feature_idx': (0, 1, 2, 3, 4, 6, 8, 9, 10, 11, 12, 13, 14, 15, 16, 17, 19, 25, 26, 27, 28, 30, 31, 32, 33, 34, 35, 36, 37, 38, 39, 40, 41, 42, 45, 47, 48, 49, 50, 51, 52, 53), 'cv_scores': array([-1.67768196, -2.37338909, -1.65667453, -1.46255198, -2.31480603]), 'avg_score': -1.8970207190088229, 'feature_names': ('White', 'Population', 'Traf Deaths', 'Unemployed', 'University', 'Income', 'Doctors', 'White^2', 'White Population', 'White Traf Deaths', 'White Unemployed', 'White University', 'White Crime', 'White Income', 'White Infant Mort', 'White Doctors', 'Population Traf Deaths', 'Population Doctors', 'Traf Deaths^2', 'Traf Deaths Unemployed', 'Traf Deaths University', 'Traf Deaths Income', 'Traf Deaths Infant Mort', 'Traf Deaths Doctors', 'Unemployed^2', 'Unemployed University', 'Unemployed Crime', 'Unemployed Income', 'Unemployed Infant Mort', 'Unemployed Doctors', 'University^2', 'University Crime', 'University Income', 'University Infant Mort', 'Crime Income', 'Crime Doctors', 'Income^2', 'Income Infant Mort', 'Income Doctors', 'Infant Mort^2', 'Infant Mort Doctors', 'Doctors^2')}, 43: {'feature_idx': (0, 1, 2, 3, 4, 5, 6, 8, 9, 10, 11, 12, 13, 14, 15, 16, 17, 19, 25, 26, 27, 28, 30, 31, 32, 33, 34, 35, 36, 37, 38, 39, 40, 41, 42, 45, 47, 48, 49, 50, 51, 52, 53), 'cv_scores': array([-1.61035988, -3.20021703, -2.19788283, -1.55390604, -1.87647706]), 'avg_score': -2.08776856583025, 'feature_names': ('White', 'Population', 'Traf Deaths', 'Unemployed', 'University', 'Crime', 'Income', 'Doctors', 'White^2', 'White Population', 'White Traf Deaths', 'White Unemployed', 'White University', 'White Crime', 'White Income', 'White Infant Mort', 'White Doctors', 'Population Traf Deaths', 'Population Doctors', 'Traf Deaths^2', 'Traf Deaths Unemployed', 'Traf Deaths University', 'Traf Deaths Income', 'Traf Deaths Infant Mort', 'Traf Deaths Doctors', 'Unemployed^2', 'Unemployed University', 'Unemployed Crime', 'Unemployed Income', 'Unemployed Infant Mort', 'Unemployed Doctors', 'University^2', 'University Crime', 'University Income', 'University Infant Mort', 'Crime Income', 'Crime Doctors', 'Income^2', 'Income Infant Mort', 'Income Doctors', 'Infant Mort^2', 'Infant Mort Doctors', 'Doctors^2')}, 44: {'feature_idx': (0, 1, 2, 3, 4, 5, 6, 8, 9, 10, 11, 12, 13, 14, 15, 16, 17, 19, 21, 25, 26, 27, 28, 30, 31, 32, 33, 34, 35, 36, 37, 38, 39, 40, 41, 42, 43, 45, 47, 48, 49, 50, 51, 53), 'cv_scores': array([-1.53988775, -3.46216305, -2.48187563, -2.33838783, -1.50958857]), 'avg_score': -2.266380563601046, 'feature_names': ('White', 'Population', 'Traf Deaths', 'Unemployed', 'University', 'Crime', 'Income', 'Doctors', 'White^2', 'White Population', 'White Traf Deaths', 'White Unemployed', 'White University', 'White Crime', 'White Income', 'White Infant Mort', 'White Doctors', 'Population Traf Deaths', 'Population University', 'Population Doctors', 'Traf Deaths^2', 'Traf Deaths Unemployed', 'Traf Deaths University', 'Traf Deaths Income', 'Traf Deaths Infant Mort', 'Traf Deaths Doctors', 'Unemployed^2', 'Unemployed University', 'Unemployed Crime', 'Unemployed Income', 'Unemployed Infant Mort', 'Unemployed Doctors', 'University^2', 'University Crime', 'University Income', 'University Infant Mort', 'University Doctors', 'Crime Income', 'Crime Doctors', 'Income^2', 'Income Infant Mort', 'Income Doctors', 'Infant Mort^2', 'Doctors^2')}, 45: {'feature_idx': (0, 1, 2, 3, 4, 5, 6, 8, 9, 10, 11, 12, 13, 14, 15, 16, 17, 19, 21, 25, 26, 27, 28, 30, 31, 32, 33, 34, 35, 36, 37, 38, 39, 40, 41, 42, 43, 45, 47, 48, 49, 50, 51, 52, 53), 'cv_scores': array([-2.10062128, -3.70407135, -2.60801768, -2.28320047, -1.50654805]), 'avg_score': -2.440491765773191, 'feature_names': ('White', 'Population', 'Traf Deaths', 'Unemployed', 'University', 'Crime', 'Income', 'Doctors', 'White^2', 'White Population', 'White Traf Deaths', 'White Unemployed', 'White University', 'White Crime', 'White Income', 'White Infant Mort', 'White Doctors', 'Population Traf Deaths', 'Population University', 'Population Doctors', 'Traf Deaths^2', 'Traf Deaths Unemployed', 'Traf Deaths University', 'Traf Deaths Income', 'Traf Deaths Infant Mort', 'Traf Deaths Doctors', 'Unemployed^2', 'Unemployed University', 'Unemployed Crime', 'Unemployed Income', 'Unemployed Infant Mort', 'Unemployed Doctors', 'University^2', 'University Crime', 'University Income', 'University Infant Mort', 'University Doctors', 'Crime Income', 'Crime Doctors', 'Income^2', 'Income Infant Mort', 'Income Doctors', 'Infant Mort^2', 'Infant Mort Doctors', 'Doctors^2')}, 46: {'feature_idx': (0, 1, 2, 3, 4, 5, 6, 7, 8, 9, 10, 11, 12, 13, 14, 15, 16, 17, 19, 21, 23, 25, 26, 27, 28, 30, 31, 32, 34, 35, 36, 37, 38, 39, 40, 41, 42, 43, 45, 47, 48, 49, 50, 51, 52, 53), 'cv_scores': array([-2.29659928, -3.67048016, -2.91746551, -2.58705605, -1.8775985 ]), 'avg_score': -2.669839898688336, 'feature_names': ('White', 'Population', 'Traf Deaths', 'Unemployed', 'University', 'Crime', 'Income', 'Infant Mort', 'Doctors', 'White^2', 'White Population', 'White Traf Deaths', 'White Unemployed', 'White University', 'White Crime', 'White Income', 'White Infant Mort', 'White Doctors', 'Population Traf Deaths', 'Population University', 'Population Income', 'Population Doctors', 'Traf Deaths^2', 'Traf Deaths Unemployed', 'Traf Deaths University', 'Traf Deaths Income', 'Traf Deaths Infant Mort', 'Traf Deaths Doctors', 'Unemployed University', 'Unemployed Crime', 'Unemployed Income', 'Unemployed Infant Mort', 'Unemployed Doctors', 'University^2', 'University Crime', 'University Income', 'University Infant Mort', 'University Doctors', 'Crime Income', 'Crime Doctors', 'Income^2', 'Income Infant Mort', 'Income Doctors', 'Infant Mort^2', 'Infant Mort Doctors', 'Doctors^2')}, 47: {'feature_idx': (0, 1, 2, 3, 4, 5, 6, 7, 8, 9, 10, 11, 12, 13, 14, 15, 16, 17, 19, 21, 23, 25, 26, 27, 28, 30, 31, 32, 33, 34, 35, 36, 37, 38, 39, 40, 41, 42, 43, 45, 47, 48, 49, 50, 51, 52, 53), 'cv_scores': array([-2.29710474, -3.74692611, -2.88874035, -2.93117852, -3.08303757]), 'avg_score': -2.9893974578276548, 'feature_names': ('White', 'Population', 'Traf Deaths', 'Unemployed', 'University', 'Crime', 'Income', 'Infant Mort', 'Doctors', 'White^2', 'White Population', 'White Traf Deaths', 'White Unemployed', 'White University', 'White Crime', 'White Income', 'White Infant Mort', 'White Doctors', 'Population Traf Deaths', 'Population University', 'Population Income', 'Population Doctors', 'Traf Deaths^2', 'Traf Deaths Unemployed', 'Traf Deaths University', 'Traf Deaths Income', 'Traf Deaths Infant Mort', 'Traf Deaths Doctors', 'Unemployed^2', 'Unemployed University', 'Unemployed Crime', 'Unemployed Income', 'Unemployed Infant Mort', 'Unemployed Doctors', 'University^2', 'University Crime', 'University Income', 'University Infant Mort', 'University Doctors', 'Crime Income', 'Crime Doctors', 'Income^2', 'Income Infant Mort', 'Income Doctors', 'Infant Mort^2', 'Infant Mort Doctors', 'Doctors^2')}, 48: {'feature_idx': (0, 1, 2, 3, 4, 5, 6, 7, 8, 9, 10, 11, 12, 13, 14, 15, 16, 17, 19, 21, 23, 25, 26, 27, 28, 30, 31, 32, 33, 34, 35, 36, 37, 38, 39, 40, 41, 42, 43, 45, 46, 47, 48, 49, 50, 51, 52, 53), 'cv_scores': array([-2.76849582, -3.9244181 , -4.14229478, -3.13236253, -2.91191169]), 'avg_score': -3.375896582696575, 'feature_names': ('White', 'Population', 'Traf Deaths', 'Unemployed', 'University', 'Crime', 'Income', 'Infant Mort', 'Doctors', 'White^2', 'White Population', 'White Traf Deaths', 'White Unemployed', 'White University', 'White Crime', 'White Income', 'White Infant Mort', 'White Doctors', 'Population Traf Deaths', 'Population University', 'Population Income', 'Population Doctors', 'Traf Deaths^2', 'Traf Deaths Unemployed', 'Traf Deaths University', 'Traf Deaths Income', 'Traf Deaths Infant Mort', 'Traf Deaths Doctors', 'Unemployed^2', 'Unemployed University', 'Unemployed Crime', 'Unemployed Income', 'Unemployed Infant Mort', 'Unemployed Doctors', 'University^2', 'University Crime', 'University Income', 'University Infant Mort', 'University Doctors', 'Crime Income', 'Crime Infant Mort', 'Crime Doctors', 'Income^2', 'Income Infant Mort', 'Income Doctors', 'Infant Mort^2', 'Infant Mort Doctors', 'Doctors^2')}, 49: {'feature_idx': (0, 1, 2, 3, 4, 5, 6, 7, 9, 10, 11, 12, 13, 14, 15, 16, 17, 18, 19, 21, 23, 24, 25, 26, 27, 28, 30, 31, 32, 33, 34, 35, 36, 37, 38, 39, 40, 41, 42, 43, 45, 46, 47, 48, 49, 50, 51, 52, 53), 'cv_scores': array([-4.14626421, -3.65873033, -3.87217558, -3.96528614, -3.66319586]), 'avg_score': -3.8611304231389427, 'feature_names': ('White', 'Population', 'Traf Deaths', 'Unemployed', 'University', 'Crime', 'Income', 'Infant Mort', 'White^2', 'White Population', 'White Traf Deaths', 'White Unemployed', 'White University', 'White Crime', 'White Income', 'White Infant Mort', 'White Doctors', 'Population^2', 'Population Traf Deaths', 'Population University', 'Population Income', 'Population Infant Mort', 'Population Doctors', 'Traf Deaths^2', 'Traf Deaths Unemployed', 'Traf Deaths University', 'Traf Deaths Income', 'Traf Deaths Infant Mort', 'Traf Deaths Doctors', 'Unemployed^2', 'Unemployed University', 'Unemployed Crime', 'Unemployed Income', 'Unemployed Infant Mort', 'Unemployed Doctors', 'University^2', 'University Crime', 'University Income', 'University Infant Mort', 'University Doctors', 'Crime Income', 'Crime Infant Mort', 'Crime Doctors', 'Income^2', 'Income Infant Mort', 'Income Doctors', 'Infant Mort^2', 'Infant Mort Doctors', 'Doctors^2')}, 50: {'feature_idx': (0, 1, 2, 3, 4, 5, 6, 7, 9, 10, 11, 12, 13, 14, 15, 16, 17, 18, 19, 21, 23, 24, 25, 26, 27, 28, 29, 30, 31, 32, 33, 34, 35, 36, 37, 38, 39, 40, 41, 42, 43, 45, 46, 47, 48, 49, 50, 51, 52, 53), 'cv_scores': array([-4.3501847 , -4.45854411, -4.69153714, -3.81433822, -3.64872648]), 'avg_score': -4.1926661313280364, 'feature_names': ('White', 'Population', 'Traf Deaths', 'Unemployed', 'University', 'Crime', 'Income', 'Infant Mort', 'White^2', 'White Population', 'White Traf Deaths', 'White Unemployed', 'White University', 'White Crime', 'White Income', 'White Infant Mort', 'White Doctors', 'Population^2', 'Population Traf Deaths', 'Population University', 'Population Income', 'Population Infant Mort', 'Population Doctors', 'Traf Deaths^2', 'Traf Deaths Unemployed', 'Traf Deaths University', 'Traf Deaths Crime', 'Traf Deaths Income', 'Traf Deaths Infant Mort', 'Traf Deaths Doctors', 'Unemployed^2', 'Unemployed University', 'Unemployed Crime', 'Unemployed Income', 'Unemployed Infant Mort', 'Unemployed Doctors', 'University^2', 'University Crime', 'University Income', 'University Infant Mort', 'University Doctors', 'Crime Income', 'Crime Infant Mort', 'Crime Doctors', 'Income^2', 'Income Infant Mort', 'Income Doctors', 'Infant Mort^2', 'Infant Mort Doctors', 'Doctors^2')}, 51: {'feature_idx': (0, 1, 2, 3, 4, 5, 6, 7, 8, 9, 10, 11, 12, 13, 14, 15, 16, 17, 18, 19, 21, 23, 24, 25, 26, 27, 28, 29, 30, 31, 32, 33, 34, 35, 36, 37, 38, 39, 40, 41, 42, 43, 45, 46, 47, 48, 49, 50, 51, 52, 53), 'cv_scores': array([-5.50503333, -5.61463312, -4.69459926, -3.75652869, -3.66177547]), 'avg_score': -4.646513973335095, 'feature_names': ('White', 'Population', 'Traf Deaths', 'Unemployed', 'University', 'Crime', 'Income', 'Infant Mort', 'Doctors', 'White^2', 'White Population', 'White Traf Deaths', 'White Unemployed', 'White University', 'White Crime', 'White Income', 'White Infant Mort', 'White Doctors', 'Population^2', 'Population Traf Deaths', 'Population University', 'Population Income', 'Population Infant Mort', 'Population Doctors', 'Traf Deaths^2', 'Traf Deaths Unemployed', 'Traf Deaths University', 'Traf Deaths Crime', 'Traf Deaths Income', 'Traf Deaths Infant Mort', 'Traf Deaths Doctors', 'Unemployed^2', 'Unemployed University', 'Unemployed Crime', 'Unemployed Income', 'Unemployed Infant Mort', 'Unemployed Doctors', 'University^2', 'University Crime', 'University Income', 'University Infant Mort', 'University Doctors', 'Crime Income', 'Crime Infant Mort', 'Crime Doctors', 'Income^2', 'Income Infant Mort', 'Income Doctors', 'Infant Mort^2', 'Infant Mort Doctors', 'Doctors^2')}, 52: {'feature_idx': (0, 1, 2, 3, 4, 5, 6, 7, 8, 9, 10, 11, 12, 13, 14, 15, 16, 17, 18, 19, 20, 21, 23, 25, 26, 27, 28, 29, 30, 31, 32, 33, 34, 35, 36, 37, 38, 39, 40, 41, 42, 43, 44, 45, 46, 47, 48, 49, 50, 51, 52, 53), 'cv_scores': array([-4.70834137, -8.80871527, -4.40593866, -4.36496172, -4.25654291]), 'avg_score': -5.30889998412791, 'feature_names': ('White', 'Population', 'Traf Deaths', 'Unemployed', 'University', 'Crime', 'Income', 'Infant Mort', 'Doctors', 'White^2', 'White Population', 'White Traf Deaths', 'White Unemployed', 'White University', 'White Crime', 'White Income', 'White Infant Mort', 'White Doctors', 'Population^2', 'Population Traf Deaths', 'Population Unemployed', 'Population University', 'Population Income', 'Population Doctors', 'Traf Deaths^2', 'Traf Deaths Unemployed', 'Traf Deaths University', 'Traf Deaths Crime', 'Traf Deaths Income', 'Traf Deaths Infant Mort', 'Traf Deaths Doctors', 'Unemployed^2', 'Unemployed University', 'Unemployed Crime', 'Unemployed Income', 'Unemployed Infant Mort', 'Unemployed Doctors', 'University^2', 'University Crime', 'University Income', 'University Infant Mort', 'University Doctors', 'Crime^2', 'Crime Income', 'Crime Infant Mort', 'Crime Doctors', 'Income^2', 'Income Infant Mort', 'Income Doctors', 'Infant Mort^2', 'Infant Mort Doctors', 'Doctors^2')}, 53: {'feature_idx': (0, 1, 2, 3, 4, 5, 6, 7, 8, 9, 10, 11, 12, 13, 14, 15, 16, 17, 18, 19, 20, 21, 23, 24, 25, 26, 27, 28, 29, 30, 31, 32, 33, 34, 35, 36, 37, 38, 39, 40, 41, 42, 43, 44, 45, 46, 47, 48, 49, 50, 51, 52, 53), 'cv_scores': array([-7.50381382, -7.32868017, -4.8799246 , -4.22729025, -5.70128662]), 'avg_score': -5.928199093439359, 'feature_names': ('White', 'Population', 'Traf Deaths', 'Unemployed', 'University', 'Crime', 'Income', 'Infant Mort', 'Doctors', 'White^2', 'White Population', 'White Traf Deaths', 'White Unemployed', 'White University', 'White Crime', 'White Income', 'White Infant Mort', 'White Doctors', 'Population^2', 'Population Traf Deaths', 'Population Unemployed', 'Population University', 'Population Income', 'Population Infant Mort', 'Population Doctors', 'Traf Deaths^2', 'Traf Deaths Unemployed', 'Traf Deaths University', 'Traf Deaths Crime', 'Traf Deaths Income', 'Traf Deaths Infant Mort', 'Traf Deaths Doctors', 'Unemployed^2', 'Unemployed University', 'Unemployed Crime', 'Unemployed Income', 'Unemployed Infant Mort', 'Unemployed Doctors', 'University^2', 'University Crime', 'University Income', 'University Infant Mort', 'University Doctors', 'Crime^2', 'Crime Income', 'Crime Infant Mort', 'Crime Doctors', 'Income^2', 'Income Infant Mort', 'Income Doctors', 'Infant Mort^2', 'Infant Mort Doctors', 'Doctors^2')}, 54: {'feature_idx': (0, 1, 2, 3, 4, 5, 6, 7, 8, 9, 10, 11, 12, 13, 14, 15, 16, 17, 18, 19, 20, 21, 22, 23, 24, 25, 26, 27, 28, 29, 30, 31, 32, 33, 34, 35, 36, 37, 38, 39, 40, 41, 42, 43, 44, 45, 46, 47, 48, 49, 50, 51, 52, 53), 'cv_scores': array([-7.63961695, -9.72875143, -4.86630764, -4.27240582, -6.1550778 ]), 'avg_score': -6.532431928470283, 'feature_names': ('White', 'Population', 'Traf Deaths', 'Unemployed', 'University', 'Crime', 'Income', 'Infant Mort', 'Doctors', 'White^2', 'White Population', 'White Traf Deaths', 'White Unemployed', 'White University', 'White Crime', 'White Income', 'White Infant Mort', 'White Doctors', 'Population^2', 'Population Traf Deaths', 'Population Unemployed', 'Population University', 'Population Crime', 'Population Income', 'Population Infant Mort', 'Population Doctors', 'Traf Deaths^2', 'Traf Deaths Unemployed', 'Traf Deaths University', 'Traf Deaths Crime', 'Traf Deaths Income', 'Traf Deaths Infant Mort', 'Traf Deaths Doctors', 'Unemployed^2', 'Unemployed University', 'Unemployed Crime', 'Unemployed Income', 'Unemployed Infant Mort', 'Unemployed Doctors', 'University^2', 'University Crime', 'University Income', 'University Infant Mort', 'University Doctors', 'Crime^2', 'Crime Income', 'Crime Infant Mort', 'Crime Doctors', 'Income^2', 'Income Infant Mort', 'Income Doctors', 'Infant Mort^2', 'Infant Mort Doctors', 'Doctors^2')}}\n"
     ]
    },
    {
     "data": {
      "image/png": "[encoded data removed]",
      "text/plain": [
       "<Figure size 432x288 with 1 Axes>"
      ]
     },
     "metadata": {
      "needs_background": "light"
     },
     "output_type": "display_data"
    }
   ],
   "source": [
    "fig = plot_sffs(sffs1.get_metric_dict(), kind='std_err')\n",
    "\n",
    "plt.title('Sequential Backward Selection (w. StdErr)')\n",
    "plt.grid()\n",
    "plt.show()\n",
    "\n",
    "print('best combination (ACC: %.3f): %s\\n' % (sffs1.k_score_, sffs1.k_feature_idx_))\n",
    "print('all subsets:\\n', sffs1.subsets_)\n",
    "plot_sfs(sffs1.get_metric_dict(), kind='std_err');"
   ]
  },
  {
   "cell_type": "code",
   "execution_count": null,
   "id": "2f8adffa-d8c6-4456-8e9d-365303652a60",
   "metadata": {},
   "outputs": [],
   "source": [
    "features = list(pd.DataFrame(sfbs1.subsets_).loc['feature_names'].values)"
   ]
  },
  {
   "cell_type": "code",
   "execution_count": null,
   "id": "509c273e-fff7-4175-ab9c-f179cde6097f",
   "metadata": {},
   "outputs": [],
   "source": [
    "ss_position = np.array(pd.DataFrame(pd.DataFrame(sfbs1.subsets_)).loc['avg_score']).argmax()"
   ]
  },
  {
   "cell_type": "code",
   "execution_count": null,
   "id": "ede2f9a1-4093-451d-880b-38c2455a5f21",
   "metadata": {},
   "outputs": [],
   "source": [
    "ss_position_parse = list((pd.DataFrame(sfbs1.subsets_)).T[(pd.DataFrame(sfbs1.subsets_)).T['avg_score']>=np.max(np.array(pd.DataFrame(pd.DataFrame(sfbs1.subsets_)).loc['avg_score']))-np.std(np.array(pd.DataFrame(pd.DataFrame(sfbs1.subsets_)).loc['avg_score']))]['feature_names'].iloc[0])"
   ]
  },
  {
   "cell_type": "code",
   "execution_count": null,
   "id": "56cd1c0d-ca4a-41cf-b0a7-fc602d04830f",
   "metadata": {},
   "outputs": [],
   "source": []
  },
  {
   "cell_type": "code",
   "execution_count": null,
   "id": "f9a4d556-12c4-4629-b11c-183b265ae900",
   "metadata": {},
   "outputs": [],
   "source": [
    "ss_sortedFeatures = list(np.array(pd.DataFrame(sfbs1.subsets_).loc['feature_names'])[ss_position])"
   ]
  },
  {
   "cell_type": "code",
   "execution_count": null,
   "id": "ca53580c-b6c6-42ee-8201-a4c03ccc624d",
   "metadata": {},
   "outputs": [],
   "source": []
  },
  {
   "cell_type": "code",
   "execution_count": null,
   "id": "a97c5277-0a75-4520-b715-1c0117fc17d7",
   "metadata": {},
   "outputs": [],
   "source": [
    "CV_results = pd.DataFrame()#[]#np.zeros(shape=(len(features),5))\n",
    "\n",
    "#looping over sequentially selected features, deriving ElasticNet hyper parm's over each best subset and noting error\n",
    "\n",
    "for f in features:\n",
    "\n",
    "    print(f)\n",
    "    cv = RepeatedKFold(n_splits=numCV, n_repeats=1, random_state=1)\n",
    "\n",
    "    EN_CV = ElasticNetCV(l1_ratio=l1s, alphas=alphas, cv=cv, n_jobs=-1)\n",
    "    # fit model\n",
    "\n",
    "    X_subset = pd.DataFrame(x_train_ss_yj_inter[list(np.asarray(f))])\n",
    "    y_ = y_train_ss_yj\n",
    "    EN_CV.fit(X_subset, y_)\n",
    "    \n",
    "    print('alpha: %f' % EN_CV.alpha_)\n",
    "    print('l1_ratio_: %f' % EN_CV.l1_ratio_)\n",
    "    \n",
    "    # evaluate model\n",
    "    scores = cross_val_score(EN_CV, X_subset, y_, scoring='neg_mean_absolute_error', cv=cv, n_jobs=-1)\n",
    "    # force scores to be positive\n",
    "    scores = absolute(scores)\n",
    "    print('Mean MAE: %.3f (%.3f)' % (mean(scores), std(scores)))\n",
    "    \n",
    "    temp = pd.concat([pd.DataFrame({\"features\": [np.array(f)]}),pd.DataFrame(np.array(mean(scores)).reshape(-1,1)),pd.DataFrame(np.array(std(scores)).reshape(-1,1)),pd.DataFrame(np.array(EN_CV.alpha_).reshape(-1,1)),pd.DataFrame(np.array(EN_CV.l1_ratio_).reshape(-1,1))],axis=1)\n",
    "    \n",
    "    CV_results = pd.concat([CV_results,temp],axis=0)"
   ]
  },
  {
   "cell_type": "markdown",
   "id": "f2b875af-fe99-411e-963e-cc0737abd4e5",
   "metadata": {},
   "source": []
  },
  {
   "cell_type": "code",
   "execution_count": null,
   "id": "7ceba4c0-ec5a-4e90-b8fd-8ece185b512f",
   "metadata": {},
   "outputs": [],
   "source": [
    "CV_results.columns = ['features','mean error','std','alpha','lambda']\n",
    "CV_results.index = np.array(range(0,len(features)))#range(1,len(features)+1)\n",
    "plt.plot(CV_results['mean error'])\n",
    "plt.show()\n",
    "\n",
    "best = CV_results.iloc[CV_results['mean error'].idxmin()]\n",
    "print(best.loc['features'])\n",
    "\n",
    "parse = CV_results[CV_results['mean error']<=(np.min(CV_results['mean error'])+np.std(CV_results['mean error']))].iloc[0]\n",
    "print(parse.loc['features'])\n",
    "display(CV_results)"
   ]
  },
  {
   "cell_type": "code",
   "execution_count": null,
   "id": "b03064fb-f90a-48b7-913c-268ecdfc11a0",
   "metadata": {},
   "outputs": [],
   "source": []
  },
  {
   "cell_type": "code",
   "execution_count": null,
   "id": "228b1f79-2c3d-42d2-9edd-8cabce43921b",
   "metadata": {},
   "outputs": [],
   "source": [
    "model_ss = LinearRegression()\n",
    "model_ss_parse = LinearRegression()\n",
    "model_ep = ElasticNet(alpha=parse['alpha'], l1_ratio=parse['lambda'])\n",
    "model_eb = ElasticNet(alpha=best['alpha'], l1_ratio=best['lambda'])\n",
    "\n",
    "model_ss.fit(x_train_ss_yj_inter[ss_sortedFeatures], y_train_ss_yj)\n",
    "model_ss_parse.fit(x_train_ss_yj_inter[ss_position_parse], y_train_ss_yj)\n",
    "model_ep.fit(x_train_ss_yj_inter[parse['features']],y_train_ss_yj)\n",
    "model_eb.fit(x_train_ss_yj_inter[best['features']],y_train_ss_yj)"
   ]
  },
  {
   "cell_type": "code",
   "execution_count": null,
   "id": "68a21731-16c3-48d5-9add-b20d766a9496",
   "metadata": {},
   "outputs": [],
   "source": []
  },
  {
   "cell_type": "code",
   "execution_count": null,
   "id": "d1c2462d-0b37-470c-983c-a47ca192f708",
   "metadata": {},
   "outputs": [],
   "source": [
    "zca_X_train = pd.DataFrame(zca.fit_transform(x_train_ss_yj_inter[ss_position_parse]),columns=ss_position_parse,index=x_train_ss_yj_inter.index)\n",
    "zca_X_train.index = x_train_ss_yj_inter.index\n",
    "#zca_data = pd.concat([y_train_ss_yj,zca_X_train],axis=1)\n",
    "#zca_data.index = x_train_ss_yj_inter.index"
   ]
  },
  {
   "cell_type": "code",
   "execution_count": null,
   "id": "fc1f4582-4078-4810-8b48-48d88a2a6909",
   "metadata": {},
   "outputs": [],
   "source": [
    "pca_X_train = PCA(n_components=0.99, svd_solver='full')\n",
    "pca_X_train.fit(x_train_ss_yj_inter[ss_sortedFeatures])\n",
    "X_pca_train = pd.DataFrame(pca_X_train.transform(x_train_ss_yj_inter[ss_sortedFeatures]),index = x_train_ss_yj_inter.index)"
   ]
  },
  {
   "cell_type": "code",
   "execution_count": null,
   "id": "52687dd7-c69e-4d1b-865e-fdb78059fa44",
   "metadata": {},
   "outputs": [],
   "source": [
    "#zca_data.pcorr()"
   ]
  },
  {
   "cell_type": "code",
   "execution_count": null,
   "id": "827aace5-3f19-4a70-be6d-499f6261ebbb",
   "metadata": {},
   "outputs": [],
   "source": [
    "#sns.pairplot(zca_data,kind=\"reg\", plot_kws={'line_kws':{'color':'red'}})"
   ]
  },
  {
   "cell_type": "code",
   "execution_count": null,
   "id": "2f603d6e-36ba-4da7-a22d-efd82f43f1df",
   "metadata": {},
   "outputs": [],
   "source": [
    "pca_X_train.explained_variance_ratio_.cumsum()"
   ]
  },
  {
   "cell_type": "code",
   "execution_count": null,
   "id": "cc4c7623-6a5f-4819-bdab-793bbaa08bbc",
   "metadata": {},
   "outputs": [],
   "source": [
    "len(ss_sortedFeatures)"
   ]
  },
  {
   "cell_type": "code",
   "execution_count": null,
   "id": "37eb6479-5110-48d7-bc8b-04110de77d5c",
   "metadata": {},
   "outputs": [],
   "source": []
  },
  {
   "cell_type": "code",
   "execution_count": null,
   "id": "ab0403fe-897d-49c3-ad3d-913424a2a9bb",
   "metadata": {},
   "outputs": [],
   "source": [
    "print(ss_position_parse)"
   ]
  },
  {
   "cell_type": "code",
   "execution_count": null,
   "id": "13ed1fa0-af34-4fbe-9f16-b37c8d94f5b6",
   "metadata": {},
   "outputs": [],
   "source": [
    "#model = sklearn.linear_model.LinearRegression()\n",
    "#data_set_wConstant = statsmodels.tools.tools.add_constant(zca_data)\n",
    "data_set_wConstant_parse_zca = statsmodels.tools.tools.add_constant(zca_X_train)\n",
    "#y_ = data_set_wConstant[target]\n",
    "#data_set_wConstant = data_set_wConstant[data_set_wConstant.columns.drop(target)]\n",
    "#results = model.fit(X, y)\n",
    "model_parse = sm.OLS(y_train_ss_yj,data_set_wConstant_parse_zca)\n",
    "results_parse = model_parse.fit()\n",
    "fitted_parse = results_parse.predict(data_set_wConstant_parse_zca)\n",
    "results_parse.summary()"
   ]
  },
  {
   "cell_type": "code",
   "execution_count": null,
   "id": "83e8153b-abad-4648-b326-4c4320277dba",
   "metadata": {},
   "outputs": [],
   "source": [
    "linear_plot = Plot.LinearRegressionResidualPlot(data_set_wConstant_parse_zca.values, y_train_ss_yj.values)\n",
    "lm = linear_plot.fit()\n",
    "summary, diag_res = linear_plot.diagnostic_plots(lm)\n",
    "print(\"Summary of Regression\\n:{}\".format(summary))\n",
    "print(\"Diagnostic Tests of Regression\\n:{}\".format(diag_res))"
   ]
  },
  {
   "cell_type": "code",
   "execution_count": null,
   "id": "ed663a3a-2eef-4863-be5b-2901891c17c5",
   "metadata": {},
   "outputs": [],
   "source": [
    "pd.DataFrame(results_parse.get_influence().resid_studentized_internal).hist()"
   ]
  },
  {
   "cell_type": "code",
   "execution_count": null,
   "id": "d0221212-a87f-40f3-b92a-e42690a6a412",
   "metadata": {},
   "outputs": [],
   "source": [
    "print(ss_sortedFeatures)"
   ]
  },
  {
   "cell_type": "code",
   "execution_count": null,
   "id": "7fea8437-cd06-446a-a7ca-7af65761c876",
   "metadata": {},
   "outputs": [],
   "source": [
    "#model = sklearn.linear_model.LinearRegression()\n",
    "#data_set_wConstant = statsmodels.tools.tools.add_constant(zca_data)\n",
    "data_set_wConstant_ss_pca = statsmodels.tools.tools.add_constant(X_pca_train)\n",
    "#y_ = data_set_wConstant[target]\n",
    "#data_set_wConstant = data_set_wConstant[data_set_wConstant.columns.drop(target)]\n",
    "#results = model.fit(X, y)\n",
    "model_ss = sm.OLS(y_train_ss_yj,data_set_wConstant_ss_pca)\n",
    "results_ss = model_ss.fit()\n",
    "fitted = results_ss.predict(data_set_wConstant_ss_pca)\n",
    "results_ss.summary()"
   ]
  },
  {
   "cell_type": "code",
   "execution_count": null,
   "id": "516bc53d-7a31-4b66-959e-d5b9e049df38",
   "metadata": {},
   "outputs": [],
   "source": []
  },
  {
   "cell_type": "code",
   "execution_count": null,
   "id": "3b119379-7f8d-469a-a77a-6c798efd2118",
   "metadata": {},
   "outputs": [],
   "source": [
    "pd.DataFrame(results_ss.get_influence().resid_studentized_internal).hist()"
   ]
  },
  {
   "cell_type": "code",
   "execution_count": null,
   "id": "a1f6c95f-0591-4162-a007-cfcd85d5a8bf",
   "metadata": {},
   "outputs": [],
   "source": []
  },
  {
   "cell_type": "code",
   "execution_count": null,
   "id": "7559c9ae-b262-4434-bb06-d4da42c8d5d1",
   "metadata": {},
   "outputs": [],
   "source": [
    "linear_plot = Plot.LinearRegressionResidualPlot(data_set_wConstant_ss_pca.values, y_train_ss_yj.values)\n",
    "lm = linear_plot.fit()\n",
    "summary, diag_res = linear_plot.diagnostic_plots(lm)\n",
    "print(\"Summary of Regression\\n:{}\".format(summary))\n",
    "print(\"Diagnostic Tests of Regression\\n:{}\".format(diag_res))\n"
   ]
  },
  {
   "cell_type": "code",
   "execution_count": null,
   "id": "092bba6f-73ac-4d83-bdc7-5ad9166e93a1",
   "metadata": {},
   "outputs": [],
   "source": []
  },
  {
   "cell_type": "code",
   "execution_count": null,
   "id": "e69c5a83-5065-47e7-8549-d58f7ba3373d",
   "metadata": {},
   "outputs": [],
   "source": [
    "#ols parse\n",
    "#uses ZCA\n",
    "y_train_predicted = y_train_ss_yj_t.inverse_transform(pd.DataFrame(results_parse.fittedvalues,columns=[target]))\n",
    "\n",
    "y_valid_ss_fitted_parse = y_train_ss_yj_t.inverse_transform(pd.DataFrame(results_parse.predict(sm.tools.tools.add_constant(zca.transform(x_valid_ss_yj_inter[ss_position_parse]), prepend=True, has_constant='skip')),index=x_valid_ss_yj_inter.index,columns=[target]))\n",
    "# summarize prediction\n",
    "print(\"Mean Absolute Error\")\n",
    "print(mean(absolute(y_valid-y_valid_ss_fitted_parse)))\n",
    "\n",
    "#temp = pd.concat([y_train_predicted,y_train_original],axis=1)\n",
    "temp = pd.concat([y_valid_ss_fitted_parse,y_valid],axis=1)\n",
    "temp.columns = ['Predicted','Actual']\n",
    "\n",
    "sns.lmplot(x=\"Predicted\",\n",
    "           y=\"Actual\", \n",
    "           ci=None,\n",
    "           data=temp);"
   ]
  },
  {
   "cell_type": "code",
   "execution_count": null,
   "id": "a30c2e01-ae08-4c0c-9414-2953628f88fc",
   "metadata": {},
   "outputs": [],
   "source": []
  },
  {
   "cell_type": "code",
   "execution_count": null,
   "id": "1e536ba4-9b94-4399-b9db-6a7d60961d38",
   "metadata": {},
   "outputs": [],
   "source": [
    "#ols best\n",
    "#uses PCA\n",
    "y_train_predicted = y_train_ss_yj_t.inverse_transform(pd.DataFrame(results_ss.fittedvalues,columns=[target]))\n",
    "\n",
    "y_valid_ss_fitted = y_train_ss_yj_t.inverse_transform(pd.DataFrame(results_ss.predict(sm.tools.tools.add_constant(pca_X_train.transform(x_valid_ss_yj_inter[ss_sortedFeatures]), prepend=True, has_constant='skip')),index=x_valid_ss_yj_inter.index,columns=[target]))\n",
    "# summarize prediction\n",
    "print(\"Mean Absolute Error\")\n",
    "print(mean(absolute(y_valid-y_valid_ss_fitted)))\n",
    "\n",
    "#temp = pd.concat([y_train_predicted,y_train_original],axis=1)\n",
    "temp = pd.concat([y_valid_ss_fitted,y_valid],axis=1)\n",
    "temp.columns = ['Predicted','Actual']\n",
    "\n",
    "sns.lmplot(x=\"Predicted\",\n",
    "           y=\"Actual\", \n",
    "           ci=None,\n",
    "           data=temp);"
   ]
  },
  {
   "cell_type": "code",
   "execution_count": null,
   "id": "0c40f454-536e-48d0-befb-c94e0fea7c11",
   "metadata": {},
   "outputs": [],
   "source": []
  },
  {
   "cell_type": "code",
   "execution_count": null,
   "id": "63267407-888b-4530-b897-894d226190ae",
   "metadata": {},
   "outputs": [],
   "source": [
    "#EN Best\n",
    "\n",
    "ENBestResults = model_eb.fit(x_train_ss_yj_inter[best['features']], y_train_ss_yj)\n",
    "\n",
    "ENBestFitted = pd.DataFrame(model_eb.predict(x_train_ss_yj_inter[best['features']]),index=x_train_ss_yj_inter.index, columns = [target])\n",
    "\n",
    "y_valid_eb_fitted = y_train_ss_yj_t.inverse_transform(pd.DataFrame(model_eb.predict(x_valid_ss_yj_inter[best['features']]),index=x_valid_ss_yj_inter.index,columns=[target]))\n",
    "\n",
    "# summarize prediction\n",
    "print(\"Mean Absolute Error\")\n",
    "print(mean(absolute(y_valid_eb_fitted-y_valid)))\n",
    "\n",
    "temp = pd.concat([y_valid_eb_fitted,y_valid],axis=1)\n",
    "temp.columns = ['Predicted','Actual']\n",
    "\n",
    "sns.lmplot(x=\"Predicted\",\n",
    "           y=\"Actual\", \n",
    "           ci=None,\n",
    "           data=temp);"
   ]
  },
  {
   "cell_type": "code",
   "execution_count": null,
   "id": "d4cfefc5-63c8-42f5-b9de-5058bcca48e5",
   "metadata": {},
   "outputs": [],
   "source": []
  },
  {
   "cell_type": "code",
   "execution_count": null,
   "id": "4faf1af9-6e84-4f2e-807b-feac48b84bfb",
   "metadata": {},
   "outputs": [],
   "source": [
    "#EN Parse\n",
    "\n",
    "ENParseResults = model_ep.fit(x_train_ss_yj_inter[parse['features']], y_train_ss_yj)\n",
    "\n",
    "ENParseFitted = pd.DataFrame(model_ep.predict(x_train_ss_yj_inter[parse['features']]),index=x_train_ss_yj_inter.index,columns=[target])\n",
    "\n",
    "y_valid_ep_fitted = y_train_ss_yj_t.inverse_transform(pd.DataFrame(model_ep.predict(x_valid_ss_yj_inter[parse['features']]),index=x_valid_ss_yj_inter.index,columns=[target]))\n",
    "\n",
    "# summarize prediction\n",
    "print(\"Mean Absolute Error\")\n",
    "print(mean(absolute(y_valid_ep_fitted-y_valid)))\n",
    "\n",
    "temp = pd.concat([y_valid_ep_fitted,y_valid],axis=1)\n",
    "temp.columns = ['Predicted','Actual']\n",
    "\n",
    "sns.lmplot(x=\"Predicted\",\n",
    "           y=\"Actual\", \n",
    "           ci=None,\n",
    "           data=temp);"
   ]
  },
  {
   "cell_type": "code",
   "execution_count": null,
   "id": "4daddcbf-634b-4a27-b7f0-137dcf37b4fd",
   "metadata": {},
   "outputs": [],
   "source": []
  },
  {
   "cell_type": "code",
   "execution_count": null,
   "id": "2fc8d8ec-72ea-408e-936e-36f6dc07bc16",
   "metadata": {},
   "outputs": [],
   "source": [
    "#robust regression using ols best\n",
    "# define the model\n",
    "model_rr_ss = RANSACRegressor()\n",
    "# evaluate model\n",
    "#Rresults_ss = evaluate_model(x_train_ss_yj_inter[ss_sortedFeatures], y_train_ss_yj, model_rr_ss)\n",
    "Rresults_ss = evaluate_model(X_pca_train, y_train_ss_yj, model_rr_ss)\n",
    "\n",
    "print('Mean MAE: %.3f (%.3f)' % (mean(Rresults_ss), std(Rresults_ss)))\n",
    "# plot the line of best fit\n",
    "#Rresults_ss = model_rr_ss.fit(x_train_ss_yj_inter[ss_sortedFeatures],y_train_ss_yj)\n",
    "Rresults_ss = model_rr_ss.fit(X_pca_train,y_train_ss_yj)\n",
    "RFitted_ss = model_rr_ss.predict(pca_X_train.transform(x_train_ss_yj_inter[ss_sortedFeatures]))\n",
    "\n",
    "y_valid_rr_ss_fitted_best = y_train_ss_yj_t.inverse_transform(pd.DataFrame(model_rr_ss.predict(pca_X_train.transform(x_valid_ss_yj_inter[ss_sortedFeatures])),index=x_valid_ss_yj_inter.index,columns=[target]))\n",
    "\n",
    "# summarize prediction\n",
    "print(\"Mean Absolute Error\")\n",
    "print(mean(absolute(y_valid_rr_ss_fitted_best-y_valid)))\n",
    "\n",
    "temp = pd.concat([y_valid_rr_ss_fitted_best,y_valid],axis=1)\n",
    "temp.columns = ['Predicted','Actual']\n",
    "\n",
    "sns.lmplot(x=\"Predicted\",\n",
    "           y=\"Actual\", \n",
    "           ci=None,\n",
    "           data=temp);\n"
   ]
  },
  {
   "cell_type": "code",
   "execution_count": null,
   "id": "afd241a3-3cd6-4d28-9bfa-619d8d28b9d9",
   "metadata": {},
   "outputs": [],
   "source": [
    "#robust regression using ols parse\n",
    "# define the model\n",
    "model_rr_ss = RANSACRegressor()\n",
    "# evaluate model\n",
    "#Rresults_ss = evaluate_model(x_train_ss_yj_inter[ss_sortedFeatures], y_train_ss_yj, model_rr_ss)\n",
    "Rresults_ss = evaluate_model(data_set_wConstant_parse_zca, y_train_ss_yj, model_rr_ss)\n",
    "\n",
    "print('Mean MAE: %.3f (%.3f)' % (mean(Rresults_ss), std(Rresults_ss)))\n",
    "# plot the line of best fit\n",
    "#Rresults_ss = model_rr_ss.fit(x_train_ss_yj_inter[ss_sortedFeatures],y_train_ss_yj)\n",
    "Rresults_ss = model_rr_ss.fit(data_set_wConstant_parse_zca,y_train_ss_yj)\n",
    "#RFitted_ss = model_rr_ss.predict(data_set_wConstant_parse_zca)\n",
    "\n",
    "y_valid_rr_ss_fitted_parse = y_train_ss_yj_t.inverse_transform(pd.DataFrame(Rresults_ss.predict(sm.tools.tools.add_constant(zca.transform(x_valid_ss_yj_inter[ss_position_parse]), prepend=True, has_constant='skip')),index=x_valid_ss_yj_inter.index,columns=[target]))\n",
    "\n",
    "# summarize prediction\n",
    "print(\"Mean Absolute Error\")\n",
    "print(mean(absolute(y_valid_rr_ss_fitted_parse-y_valid)))\n",
    "\n",
    "temp = pd.concat([y_valid_rr_ss_fitted_parse,y_valid],axis=1)\n",
    "temp.columns = ['Predicted','Actual']\n",
    "\n",
    "sns.lmplot(x=\"Predicted\",\n",
    "           y=\"Actual\", \n",
    "           ci=None,\n",
    "           data=temp);\n"
   ]
  },
  {
   "cell_type": "code",
   "execution_count": null,
   "id": "fa2cb939-c1db-4e94-9691-d4ccfd57afb2",
   "metadata": {},
   "outputs": [],
   "source": [
    "#robust regression using EN best\n",
    "# define the model\n",
    "model_rr_best = RANSACRegressor()\n",
    "# evaluate model\n",
    "Rresults_best = evaluate_model(x_train_ss_yj_inter[best['features']], y_train_ss_yj, model_rr_best)\n",
    "print('Mean MAE: %.3f (%.3f)' % (mean(Rresults_best), std(Rresults_best)))\n",
    "# plot the line of best fit\n",
    "Rresults_best = model_rr_best.fit(x_train_ss_yj_inter[best['features']],y_train_ss_yj)\n",
    "RFitted_best = model_rr_best.predict(x_train_ss_yj_inter[best['features']])\n",
    "\n",
    "y_valid_rr_en_best_fitted = y_train_ss_yj_t.inverse_transform(pd.DataFrame(model_rr_best.predict(x_valid_ss_yj_inter[best['features']]),index=x_valid_ss_yj_inter.index,columns=[target]))\n",
    "# summarize prediction\n",
    "print(\"Mean Absolute Error\")\n",
    "print(mean(absolute(y_valid_rr_en_best_fitted-y_valid)))\n",
    "\n",
    "temp = pd.concat([y_valid_rr_en_best_fitted,y_valid],axis=1)\n",
    "temp.columns = ['Predicted','Actual']\n",
    "\n",
    "sns.lmplot(x=\"Predicted\",\n",
    "           y=\"Actual\", \n",
    "           ci=None,\n",
    "           data=temp);"
   ]
  },
  {
   "cell_type": "code",
   "execution_count": null,
   "id": "5af8bfec-c01e-4442-b086-a529e5e3a29d",
   "metadata": {},
   "outputs": [],
   "source": [
    "#robust regression using EN parse\n",
    "# define the model\n",
    "model_rr_parse = RANSACRegressor()\n",
    "# evaluate model\n",
    "Rresults_parse = evaluate_model(x_train_ss_yj_inter[best['features']], y_train_ss_yj, model_rr_parse)\n",
    "print('Mean MAE: %.3f (%.3f)' % (mean(Rresults_parse), std(Rresults_parse)))\n",
    "# plot the line of best fit\n",
    "Rresults_parse = model_rr_parse.fit(x_train_ss_yj_inter[parse['features']],y_train_ss_yj)\n",
    "RFitted_parse = model_rr_parse.predict(x_train_ss_yj_inter[parse['features']])\n",
    "\n",
    "y_valid_rr_en_parse_fitted = y_train_ss_yj_t.inverse_transform(pd.DataFrame(Rresults_parse.predict(x_valid_ss_yj_inter[parse['features']]),index=x_valid_ss_yj_inter.index,columns=[target]))\n",
    "\n",
    "# summarize prediction\n",
    "print(\"Mean Absolute Error\")\n",
    "print(mean(absolute(y_valid_rr_en_parse_fitted-y_valid)))\n",
    "\n",
    "temp = pd.concat([y_valid_rr_en_parse_fitted,y_valid],axis=1)\n",
    "temp.columns = ['Predicted','Actual']\n",
    "\n",
    "sns.lmplot(x=\"Predicted\",\n",
    "           y=\"Actual\", \n",
    "           ci=None,\n",
    "           data=temp);"
   ]
  },
  {
   "cell_type": "code",
   "execution_count": null,
   "id": "963a1486-2f27-4838-ad10-9651c7eeb283",
   "metadata": {},
   "outputs": [],
   "source": []
  },
  {
   "cell_type": "code",
   "execution_count": null,
   "id": "9a18a2e1-15f2-42ed-8f69-3e71b3b31049",
   "metadata": {},
   "outputs": [],
   "source": []
  },
  {
   "cell_type": "code",
   "execution_count": null,
   "id": "9da3a220-4873-44ec-ba27-d6a7327c7122",
   "metadata": {},
   "outputs": [],
   "source": []
  },
  {
   "cell_type": "code",
   "execution_count": null,
   "id": "39fb822c-ae56-4bd5-9c66-bf1828539c24",
   "metadata": {},
   "outputs": [],
   "source": []
  },
  {
   "cell_type": "code",
   "execution_count": null,
   "id": "15cd2249-4553-4c65-804d-12cee40b2724",
   "metadata": {},
   "outputs": [],
   "source": [
    "print(\"OLS SS: \" + str(mean(absolute(np.array(y_valid)-y_valid_ss_fitted))))\n",
    "print(\"OLS parse: \" + str(mean(absolute(np.array(y_valid)-y_valid_ss_fitted_parse))))\n",
    "\n",
    "print(\"EN best: \" + str(mean(absolute(np.array(y_valid)-y_valid_eb_fitted))))\n",
    "print(\"EN parse: \" + str(mean(absolute(np.array(y_valid)-y_valid_ep_fitted))))\n",
    "\n",
    "print(\"RR SS-best: \" + str(mean(absolute(np.array(y_valid)-y_valid_rr_ss_fitted_best))))\n",
    "print(\"RR SS-parse: \" + str(mean(absolute(np.array(y_valid)-y_valid_rr_ss_fitted_parse))))\n",
    "\n",
    "print(\"RR best: \" + str(mean(absolute(np.array(y_valid)-y_valid_rr_en_best_fitted))))\n",
    "print(\"RR parse: \" + str(mean(absolute(np.array(y_valid)-y_valid_rr_en_parse_fitted))))"
   ]
  },
  {
   "cell_type": "code",
   "execution_count": null,
   "id": "b009b13b-3c4f-4da1-9da3-f930274146a3",
   "metadata": {},
   "outputs": [],
   "source": [
    "#print(\"RR parse: \" + str(mean(absolute(np.array(y)-RFitted_parse_all))))\n",
    "#print(\"RR ss: \" + str(mean(absolute(np.array(y)-RFitted_ss_all))))"
   ]
  },
  {
   "cell_type": "code",
   "execution_count": null,
   "id": "39ee1db2-3d73-4389-afd2-803d42c28719",
   "metadata": {},
   "outputs": [],
   "source": []
  }
 ],
 "metadata": {
  "kernelspec": {
   "display_name": "Python 3 (ipykernel)",
   "language": "python",
   "name": "python3"
  },
  "language_info": {
   "codemirror_mode": {
    "name": "ipython",
    "version": 3
   },
   "file_extension": ".py",
   "mimetype": "text/x-python",
   "name": "python",
   "nbconvert_exporter": "python",
   "pygments_lexer": "ipython3",
   "version": "3.9.6"
  }
 },
 "nbformat": 4,
 "nbformat_minor": 5
}
