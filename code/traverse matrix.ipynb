{
 "cells": [
  {
   "cell_type": "code",
   "execution_count": 4,
   "id": "f4278c22-aef9-4d24-8ff9-b8d4686c72ee",
   "metadata": {},
   "outputs": [],
   "source": [
    "import numpy as np\n",
    "import pandas as pd\n",
    "import random"
   ]
  },
  {
   "cell_type": "code",
   "execution_count": 1,
   "id": "90b3ad98-6b9d-4fb6-9151-1fe4239547ab",
   "metadata": {},
   "outputs": [],
   "source": [
    "def create_grid(width, height):\n",
    "    grid = [[0 for x in range(width)] for y in range(height)]\n",
    "    # Randomly choose a cell in the top left quadrant\n",
    "    top_left_x = random.randint(0, width // 2)\n",
    "    top_left_y = random.randint(0, height // 2)\n",
    "    # Randomly choose a cell in the bottom right quadrant\n",
    "    bot_right_x = random.randint(width // 2, width - 1)\n",
    "    bot_right_y = random.randint(height // 2, height - 1)\n",
    "    \n",
    "    # Create a gradient of values between the two cells\n",
    "    for x in range(top_left_x, bot_right_x + 1):\n",
    "        for y in range(top_left_y, bot_right_y + 1):\n",
    "            value = (x - top_left_x) / (bot_right_x - top_left_x)\n",
    "            grid[y][x] = value\n",
    "            \n",
    "    return grid"
   ]
  },
  {
   "cell_type": "code",
   "execution_count": 5,
   "id": "d4e1dead-6ce7-4896-a88b-68c8a3c77fef",
   "metadata": {},
   "outputs": [
    {
     "data": {
      "text/plain": [
       "[[0, 0, 0, 0, 0, 0, 0, 0, 0, 0],\n",
       " [0, 0, 0, 0, 0, 0, 0, 0, 0, 0],\n",
       " [0, 0, 0, 0, 0, 0, 0, 0, 0, 0],\n",
       " [0, 0, 0, 0, 0, 0, 0, 0, 0, 0],\n",
       " [0, 0, 0, 0, 0, 0.0, 0.25, 0.5, 0.75, 1.0],\n",
       " [0, 0, 0, 0, 0, 0.0, 0.25, 0.5, 0.75, 1.0],\n",
       " [0, 0, 0, 0, 0, 0.0, 0.25, 0.5, 0.75, 1.0],\n",
       " [0, 0, 0, 0, 0, 0, 0, 0, 0, 0],\n",
       " [0, 0, 0, 0, 0, 0, 0, 0, 0, 0],\n",
       " [0, 0, 0, 0, 0, 0, 0, 0, 0, 0]]"
      ]
     },
     "execution_count": 5,
     "metadata": {},
     "output_type": "execute_result"
    }
   ],
   "source": [
    "create_grid(10,10)"
   ]
  },
  {
   "cell_type": "code",
   "execution_count": 7,
   "id": "2a430324-7320-4316-8224-99232442fbab",
   "metadata": {},
   "outputs": [
    {
     "name": "stdout",
     "output_type": "stream",
     "text": [
      "[[35. 34. 30. 32. 30. 26. 27. 29. 27. 25.]\n",
      " [26. 24. 24. 25. 20. 22. 22. 23. 24. 20.]\n",
      " [22. 19. 18. 17. 15. 15. 16. 15. 17. 12.]\n",
      " [18. 13. 12. 11. 11. 10. 12.  8.  6.  8.]\n",
      " [12. 12.  9.  6.  8.  8.  5.  2.  2.  1.]\n",
      " [ 7.  2.  6.  6.  2.  2.  3.  1.  4.  3.]\n",
      " [ 4.  1.  1.  1.  4.  4.  2.  4.  2.  2.]\n",
      " [ 4.  2.  1.  3.  2.  1.  3.  3.  2.  2.]\n",
      " [ 4.  2.  2.  1.  4.  3.  2.  4.  1.  4.]\n",
      " [ 2.  2.  2.  3.  1.  4.  4.  1.  3.  2.]]\n"
     ]
    }
   ],
   "source": [
    "#import necessary packages\n",
    "import random\n",
    "import numpy\n",
    "\n",
    "#set grid size\n",
    "rows = 10\n",
    "cols = 10\n",
    "\n",
    "#create empty grid\n",
    "grid = numpy.zeros((rows, cols))\n",
    "\n",
    "#function to randomly drop dirt onto grid\n",
    "def drop_dirt(grid):\n",
    "    x = random.randint(0, rows - 1)\n",
    "    y = random.randint(0, cols - 1)\n",
    "    grid[x, y] += 1\n",
    "\n",
    "#function to check if dirt is overflowing from its current location\n",
    "def check_overflow(grid):\n",
    "    for x in range(rows):\n",
    "        for y in range(cols):\n",
    "            #check if the current square has more than 4 dirt\n",
    "            if grid[x, y] > 4:\n",
    "                #check in all 8 directions for eligible squares\n",
    "                for dx in [-1, 0, 1]:\n",
    "                    for dy in [-1, 0, 1]:\n",
    "                        if 0<=x+dx<rows and 0<=y+dy<cols and grid[x+dx, y+dy] < grid[x, y]:\n",
    "                            #if current square is at least 5, distribute 4 dirt to eligible squares\n",
    "                            if grid[x, y] >= 5:\n",
    "                                grid[x+dx, y+dy] += 4\n",
    "                                grid[x, y] -= 4\n",
    "                            #stop redistributing once the initial square is within 1 difference of one of its neighbors\n",
    "                            elif grid[x+dx, y+dy] >= grid[x, y] - 1:\n",
    "                                break\n",
    "\n",
    "#run the simulation\n",
    "for i in range(1000):\n",
    "    drop_dirt(grid)\n",
    "    check_overflow(grid)\n",
    "\n",
    "#print out the final grid\n",
    "print(grid)"
   ]
  },
  {
   "cell_type": "code",
   "execution_count": 19,
   "id": "0828b2e5-54c8-40f7-94e0-0f460052a43b",
   "metadata": {},
   "outputs": [],
   "source": [
    "def traverseGrid(grid):\n",
    "    #initializing counts for directions\n",
    "    northCount = 1\n",
    "    southCount = 1\n",
    "    eastCount = 1\n",
    "    westCount = 1\n",
    "    \n",
    "    #get size of grid\n",
    "    rows = len(grid)\n",
    "    cols = len(grid[0])\n",
    "    \n",
    "    #start at random location in grid\n",
    "    x = random.randint(0, rows - 1)\n",
    "    y = random.randint(0, cols - 1)\n",
    "    \n",
    "    #keep track of total sum of values\n",
    "    totalSum = 0\n",
    "    \n",
    "    #dictionary for direction table of weighted sums\n",
    "    directionTable = {\n",
    "        'North': 0,\n",
    "        'South': 0,\n",
    "        'East': 0,\n",
    "        'West': 0\n",
    "    }\n",
    "    \n",
    "    counts = 0\n",
    "    #loop until max value is found\n",
    "    while True:\n",
    "        counts += 1\n",
    "        #check if current position is max value\n",
    "        if grid[x][y] == max(grid.flatten()):\n",
    "            #return final coordinates, value, and direction table\n",
    "            return (x, y, grid[x][y], directionTable,counts)\n",
    "        \n",
    "        #calculate average sum of values\n",
    "        averageSum = totalSum / (northCount + southCount + eastCount + westCount)\n",
    "        \n",
    "        #update direction counts\n",
    "        if grid[x][y] > averageSum:\n",
    "            if x > 0:\n",
    "                northCount += 1\n",
    "            if x < rows - 1:\n",
    "                southCount += 1\n",
    "            if y > 0:\n",
    "                westCount += 1\n",
    "            if y < cols - 1:\n",
    "                eastCount += 1\n",
    "        \n",
    "        #calculate probabilities for each direction\n",
    "        if x > 0:\n",
    "            northProb = northCount / (northCount + southCount + eastCount + westCount)\n",
    "        else:\n",
    "            northProb = 0\n",
    "        if x < rows - 1:\n",
    "            southProb = southCount / (northCount + southCount + eastCount + westCount)\n",
    "        else:\n",
    "            southProb = 0\n",
    "        if y < cols - 1:\n",
    "            eastProb = eastCount / (northCount + southCount + eastCount + westCount)\n",
    "        else:\n",
    "            eastProb = 0\n",
    "        if y > 0:\n",
    "            westProb = westCount / (northCount + southCount + eastCount + westCount)\n",
    "        else:\n",
    "            westProb = 0\n",
    "        \n",
    "        #update direction table\n",
    "        directionTable['North'] = northProb\n",
    "        directionTable['South'] = southProb\n",
    "        directionTable['East'] = eastProb\n",
    "        directionTable['West'] = westProb\n",
    "        \n",
    "        #generate random number between 0 and 1\n",
    "        rand = random.random()\n",
    "        \n",
    "        #check which direction to go\n",
    "        if rand < northProb:\n",
    "            x -= 1\n",
    "        elif rand < northProb + southProb:\n",
    "            x += 1\n",
    "        elif rand < northProb + southProb + eastProb:\n",
    "            y += 1\n",
    "        else:\n",
    "            y -= 1\n",
    "        \n",
    "        #update total sum\n",
    "        totalSum += grid[x][y]"
   ]
  },
  {
   "cell_type": "code",
   "execution_count": 20,
   "id": "bba7c4cf-6773-4a60-a855-a3077748dd94",
   "metadata": {},
   "outputs": [
    {
     "data": {
      "text/plain": [
       "(0, 0, 35.0, {'North': 0, 'South': 0, 'East': 0, 'West': 0}, 1)"
      ]
     },
     "execution_count": 20,
     "metadata": {},
     "output_type": "execute_result"
    }
   ],
   "source": [
    "traverseGrid(grid)"
   ]
  }
 ],
 "metadata": {
  "kernelspec": {
   "display_name": "Python 3 (ipykernel)",
   "language": "python",
   "name": "python3"
  },
  "language_info": {
   "codemirror_mode": {
    "name": "ipython",
    "version": 3
   },
   "file_extension": ".py",
   "mimetype": "text/x-python",
   "name": "python",
   "nbconvert_exporter": "python",
   "pygments_lexer": "ipython3",
   "version": "3.9.9"
  }
 },
 "nbformat": 4,
 "nbformat_minor": 5
}
