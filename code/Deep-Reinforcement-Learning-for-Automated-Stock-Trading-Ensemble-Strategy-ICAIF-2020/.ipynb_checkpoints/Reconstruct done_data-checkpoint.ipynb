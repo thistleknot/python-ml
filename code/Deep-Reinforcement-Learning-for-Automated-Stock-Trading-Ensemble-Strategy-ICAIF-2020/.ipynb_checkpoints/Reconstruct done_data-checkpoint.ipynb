{
 "cells": [
  {
   "cell_type": "code",
   "execution_count": null,
   "id": "8265465b-e0f6-4a46-a051-ffb27010e3a1",
   "metadata": {},
   "outputs": [],
   "source": [
    "# common library\n",
    "import pandas as pd\n",
    "import numpy as np\n",
    "import time\n",
    "from stable_baselines.common.vec_env import DummyVecEnv\n",
    "#from tensorflow.python.compiler.tensorrt import trt_convert as trt\n",
    "#from tensorflow.python.compiler import tensorrt as trt\n",
    "import tensorflow.compat.v1 as tf\n",
    "tf.disable_v2_behavior()\n",
    "\n",
    "# preprocessor\n",
    "from preprocessing.preprocessors import *\n",
    "# config\n",
    "from config.config import *\n",
    "# model\n",
    "from model.models import *\n",
    "import pandas\n",
    "import os\n",
    "import datetime as dt\n",
    "import yfinance\n",
    "import pandas as pd\n",
    "from ta import add_all_ta_features\n",
    "from ta.utils import dropna\n",
    "import pandas_market_calendars as mcal\n",
    "\n",
    "# Commodity Channel Index Python Code\n",
    "# Load the necessary libraries\n",
    "from pandas_datareader import data as pdr\n",
    "import matplotlib.pyplot as plt\n",
    "import yfinance\n",
    "import pandas as pd\n",
    "\n",
    "import sys\n",
    "if not sys.warnoptions:\n",
    "    import warnings\n",
    "    warnings.simplefilter(\"ignore\")"
   ]
  },
  {
   "cell_type": "code",
   "execution_count": null,
   "id": "4be85253-9f7b-4013-ba0e-e026d28dcf73",
   "metadata": {},
   "outputs": [],
   "source": []
  },
  {
   "cell_type": "code",
   "execution_count": null,
   "id": "e8965d19-f3a4-4176-9463-3cb72acbd92c",
   "metadata": {},
   "outputs": [],
   "source": [
    "#start_ = datetime.datetime.strptime(str(dates.iloc[0].values[0]), '%Y%m%d').strftime('%Y-%m-%d')\n",
    "#end_ = datetime.datetime.strptime(str(dates.iloc[-1].values[0]), '%Y%m%d').strftime('%Y-%m-%d')\n",
    "start_ = \"2009-01-02\"\n",
    "end_ = \"2020-08-14\""
   ]
  },
  {
   "cell_type": "code",
   "execution_count": null,
   "id": "a95e7733-72f4-489e-85da-901cf9387bbd",
   "metadata": {},
   "outputs": [],
   "source": [
    "#data.tic.unique()\n",
    "symbols = ['PFE', 'DIS', 'MRK', 'VZ', 'GS', 'IBM', 'AXP', 'CSCO', 'CAT', \\\n",
    "       'CVX', 'RTX', 'DD', 'INTC', 'MSFT', 'NKE', 'WMT', 'JNJ', 'BA', \\\n",
    "       'AAPL', 'MCD', 'WBA', 'TRV', 'HD', 'PG', 'XOM', 'MMM', 'KO', 'JPM', \\\n",
    "       'V', 'UNH']"
   ]
  },
  {
   "cell_type": "code",
   "execution_count": null,
   "id": "efd3f1a6-785c-44dd-be29-d166b750c016",
   "metadata": {},
   "outputs": [],
   "source": [
    "#20151001)&(data.datadate <= 20200707\n",
    "validation_start = \"2015-10-01\"\n",
    "trading_start = datetime.datetime.strptime(\"2016/01/01\", '%Y/%m/%d').strftime('%Y-%m-%d')\n",
    "end_trade_date = \"2020-07-07\"\n",
    "#data_.index"
   ]
  },
  {
   "cell_type": "code",
   "execution_count": null,
   "id": "dc721aa9-a077-4d31-be05-d2b28d584b82",
   "metadata": {},
   "outputs": [],
   "source": []
  },
  {
   "cell_type": "code",
   "execution_count": null,
   "id": "d363ee47-1b05-48dc-86cb-f0cc4a64db50",
   "metadata": {},
   "outputs": [],
   "source": [
    "\n",
    "n0 = 9\n",
    "n1 = 12\n",
    "n2 = 26\n",
    "n3 = 14\n",
    "\n",
    "\n",
    "#dates = pd.DataFrame(data.datadate.unique())\n",
    "\n",
    "\n",
    "# Create a calendar\n",
    "nyse = mcal.get_calendar('NYSE')\n",
    "\n",
    "\n",
    "\n",
    "print(start_)\n",
    "print(validation_start)\n",
    "print(trading_start)\n",
    "print(end_trade_date)\n",
    "print(end_)\n",
    "\n",
    "\n",
    "#stocks = data.tic.unique()\n",
    "#symbols=stocks\n",
    "start = start_#date_time[0]\n",
    "early_start = (datetime.datetime.strptime(start, '%Y-%m-%d') - pd.tseries.offsets.BusinessDay(n = np.max([n0,n1,n2,n3])+5)).strftime('%Y-%m-%d')\n",
    "end = (datetime.datetime.strptime(str(end_), '%Y-%m-%d') + pd.tseries.offsets.BusinessDay(n = 1)).strftime('%Y-%m-%d')#date_time[-1]\n",
    "\n",
    "early = nyse.schedule(start_date=early_start, end_date=end)\n"
   ]
  },
  {
   "cell_type": "code",
   "execution_count": null,
   "id": "26041f8a-4642-4e7e-9339-9e073fe7e8be",
   "metadata": {},
   "outputs": [],
   "source": [
    "dates = early.index"
   ]
  },
  {
   "cell_type": "code",
   "execution_count": null,
   "id": "d5b9b73f-e40f-4894-bd61-9fbaa232a06f",
   "metadata": {},
   "outputs": [],
   "source": []
  },
  {
   "cell_type": "code",
   "execution_count": null,
   "id": "6a7a4bb5-1307-4585-a755-76a04a8936b0",
   "metadata": {},
   "outputs": [],
   "source": [
    "#dates_ = []\n",
    "\n",
    "#for i in range(0,len(dates)):\n",
    "    #print(i)\n",
    "    #dates['date'].values[i] = str(dates['date'].values[i].copy())\n",
    "    #dates_.append(str(dates['date'].values[i].copy()))\n",
    "#list((dates['date']).values)[0]"
   ]
  },
  {
   "cell_type": "code",
   "execution_count": null,
   "id": "265991eb-a6fc-47b0-a4ac-d1e6232a39a4",
   "metadata": {},
   "outputs": [],
   "source": [
    "date_time = []\n",
    "for i in range(0,len(dates)):\n",
    "    date_time.append(dates[i].strftime('%Y-%m-%d'))"
   ]
  },
  {
   "cell_type": "code",
   "execution_count": null,
   "id": "f1318a6a-b676-445b-8e7b-0102c360aa80",
   "metadata": {},
   "outputs": [],
   "source": []
  },
  {
   "cell_type": "code",
   "execution_count": null,
   "id": "57820a08-ca24-4f31-86ac-4a52993dac9f",
   "metadata": {},
   "outputs": [],
   "source": []
  },
  {
   "cell_type": "code",
   "execution_count": null,
   "id": "8e882f08-511a-4ee6-b166-c5b25de4a5a3",
   "metadata": {},
   "outputs": [],
   "source": []
  },
  {
   "cell_type": "code",
   "execution_count": 43,
   "id": "0a07eaf8-732c-4f13-a159-1de0597d2fe5",
   "metadata": {},
   "outputs": [
    {
     "name": "stdout",
     "output_type": "stream",
     "text": [
      "CAT\n",
      "WBA\n",
      "UNH\n",
      "DD\n",
      "IBM\n",
      "AAPL\n",
      "KO\n",
      "DIS\n",
      "RTX\n",
      "JPM\n",
      "MSFT\n",
      "WMT\n",
      "TRV\n",
      "VZ\n",
      "MMM\n",
      "CSCO\n",
      "V\n",
      "HD\n",
      "AXP\n",
      "BA\n",
      "PFE\n",
      "MRK\n",
      "CVX\n",
      "XOM\n",
      "PG\n",
      "NKE\n",
      "INTC\n",
      "JNJ\n",
      "GS\n",
      "MCD\n"
     ]
    }
   ],
   "source": [
    "n_forward = 40\n",
    "start_date = start\n",
    "end_date = end\n",
    "\n",
    "dataSet = pd.DataFrame()\n",
    "\n",
    "#testSize = 3\n",
    "testSize = len(symbols)\n",
    "\n",
    "#for i in symbols:\n",
    "for i in pd.DataFrame(symbols).sample(testSize).values.ravel():\n",
    "    print(i)\n",
    "    \n",
    "    name = i\n",
    "    ticker = yfinance.Ticker(i)\n",
    "    data_ = ticker.history(interval=\"1d\",start=early_start,end=end_date)\n",
    "    data_['tic'] = i\n",
    "    \n",
    "    '''\n",
    "    exp1 = data_.Close.ewm(span=n1, adjust=False).mean()\n",
    "    exp2 = data_.Close.ewm(span=n2, adjust=False).mean()\n",
    "    macd = (exp1-exp2)/exp2\n",
    "    exp3 = macd.ewm(span=n0, adjust=False).mean()\n",
    "    macd_ = pd.concat([macd,exp3],axis=1)\n",
    "    macd_.columns =[\"macd\",\"signal\"]\n",
    "    data_[['ADX']] = ADX(data_,n3)[['ADX']]\n",
    "    rsi_ = rsi(data_[['Close']])\n",
    "    rsi_.columns = ['rsi']\n",
    "    rsi_    #print(temp)\n",
    "    cci_ = CCI(data_.copy(),n3)[['TP','sma','mad','CCI']]\n",
    "    temp1 = data_[['tic','Close']]\n",
    "    temp1[['datadate']] = temp1.index\n",
    "    temp1.columns = ['tic','adjcp','datadate']\n",
    "    '''\n",
    "    \n",
    "    '''\n",
    "    df = data_.reset_index()\n",
    "    df.columns = ['datadate', 'Open', 'High', 'Low', 'adjcp', 'Volume', 'Dividends','Stock Splits', 'tic', 'ADX']\n",
    "    #df.index = df['datadate']\n",
    "    \n",
    "    #plt.plot(temp, macd, label='AMD MACD', color = '#EBD2BE')\n",
    "    #plt.plot(df.ds, exp3, label='Signal Line', color='#E5A4CB')\n",
    "    #plt.legend(loc='upper left')\n",
    "    #plt.show()    \n",
    "    \n",
    "    turb_ = add_turbulence(df)[['turbulence']]\n",
    "    turb_.index = df['datadate']\n",
    "    #print(turb_.tail())\n",
    "    '''\n",
    "    \n",
    "    '''\n",
    "    #data_new = pd.concat([data_,cci_,macd_,rsi_,turb_],axis=1).reset_index()\n",
    "    data_new = pd.concat([data_,cci_,macd_,rsi_],axis=1).reset_index()\n",
    "    #data_new.columns = ['datadate','Open', 'High', 'Low', 'Close', 'Volume', 'Dividends', 'Stock Splits', 'tic', 'ADX', 'TP', 'sma', 'mad', 'CCI', 'macd', 'signal', 'rsi', 'turbulence']\n",
    "    data_new.columns = ['datadate','Open', 'High', 'Low', 'Close', 'Volume', 'Dividends', 'Stock Splits', 'tic', 'ADX', 'TP', 'sma', 'mad', 'CCI', 'macd', 'signal', 'rsi']\n",
    "    '''\n",
    "    #dataSet = pd.concat([dataSet,data_new],axis=0,ignore_index=True)\n",
    "    dataSet = pd.concat([dataSet,data_.reset_index()],axis=0,ignore_index=True)\n",
    "    "
   ]
  },
  {
   "cell_type": "code",
   "execution_count": 44,
   "id": "8ffda8fe-a6b0-48a2-8c8c-5e7a9d616157",
   "metadata": {},
   "outputs": [],
   "source": [
    "dataSet[['ajexdi']]= 1 \n"
   ]
  },
  {
   "cell_type": "code",
   "execution_count": 45,
   "id": "90d3c985-6187-4461-ae93-9bdd89bab521",
   "metadata": {},
   "outputs": [],
   "source": [
    "dataSet[['datadate']] = dataSet.set_index('Date').index.strftime('%Y%m%d')"
   ]
  },
  {
   "cell_type": "code",
   "execution_count": null,
   "id": "24da26d8-9eda-43fc-8d42-82278b0912be",
   "metadata": {},
   "outputs": [],
   "source": [
    "#dataSet[['datadate']].set_index('datadate').index.strftime('%Y-%m-%d')"
   ]
  },
  {
   "cell_type": "code",
   "execution_count": 46,
   "id": "84736731-3a5e-4eeb-aa9b-c79bd37416f2",
   "metadata": {},
   "outputs": [],
   "source": [
    "dataSet.drop('Date',inplace=True,axis=1)\n",
    "#dataSet"
   ]
  },
  {
   "cell_type": "code",
   "execution_count": 47,
   "id": "7deb97ed-6566-42f0-b01b-fea192fb4160",
   "metadata": {},
   "outputs": [],
   "source": [
    "dataSet.columns = ['prcod','prchd','prcld','prccd','cshtrd','Dividends','Stock Splits','tic','ajexdi','datadate']"
   ]
  },
  {
   "cell_type": "code",
   "execution_count": 48,
   "id": "c75cefa8-43c4-4436-9ee9-42776b293625",
   "metadata": {},
   "outputs": [],
   "source": [
    "TRAINING_DATA_FILE = r\"C:\\Users\\User\\Documents\\wiki\\wiki\\dev\\python\\python-ml\\code\\Deep-Reinforcement-Learning-for-Automated-Stock-Trading-Ensemble-Strategy-ICAIF-2020\\data\\dow_30_2009_2020.csv\"\n",
    "\n",
    "dataSet.to_csv(TRAINING_DATA_FILE, index=True)"
   ]
  },
  {
   "cell_type": "code",
   "execution_count": null,
   "id": "84ed2239-5266-4928-b4fe-47aca7534f42",
   "metadata": {},
   "outputs": [],
   "source": [
    "#[datadate,tic,adjcp,open,high,low,volume,macd,rsi,cci,adx,turbulence]\n",
    "\n",
    "'''\n",
    "truncatedDataSet = pd.DataFrame()\n",
    "\n",
    "for i in dataSet.tic.unique():\n",
    "    print(i)\n",
    "    df = dataSet[dataSet.tic==i]\n",
    "    df2 = df[df.set_index('datadate').index.get_loc(datetime.datetime.strptime(start_, \"%Y-%m-%d\").date().strftime('%Y%m%d')):df.set_index('datadate').index.get_loc(datetime.datetime.strptime(end_, \"%Y-%m-%d\").date().strftime('%Y%m%d'))]\n",
    "    #print(df2.head(30))\n",
    "    #print(df2.tail())\n",
    "    truncatedDataSet = pd.concat([truncatedDataSet.copy(),df2],axis=0)\n",
    "    \n",
    "#'low', 'adjcp', 'open', 'volume', 'cci', 'adx', 'high'\n",
    "truncatedDataSet.columns = ['datadate', 'open', 'high', 'low', 'adjcp', 'volume', 'Dividends', \\\n",
    "       'Stock Splits', 'tic', 'adx', 'TP', 'sma', 'mad', 'cci', 'macd', \\\n",
    "       'signal', 'rsi', 'turbulence']\n",
    "\n",
    "truncatedDataSet[truncatedDataSet.columns].to_csv('done_data2.csv', index=True)\n",
    "'''"
   ]
  },
  {
   "cell_type": "code",
   "execution_count": null,
   "id": "07be4016-11de-4b09-8e21-b94fa4418ec9",
   "metadata": {},
   "outputs": [],
   "source": []
  },
  {
   "cell_type": "code",
   "execution_count": null,
   "id": "17c94332-920a-4bda-b694-791966703017",
   "metadata": {},
   "outputs": [],
   "source": []
  },
  {
   "cell_type": "code",
   "execution_count": null,
   "id": "9c442909-5f2b-4ff7-ab8d-3ac038055fe5",
   "metadata": {},
   "outputs": [],
   "source": []
  },
  {
   "cell_type": "code",
   "execution_count": null,
   "id": "d6669cff-c0d2-4387-90b5-326821924861",
   "metadata": {},
   "outputs": [],
   "source": []
  },
  {
   "cell_type": "code",
   "execution_count": null,
   "id": "20ea0532-d25d-4952-90f2-09248b6416f3",
   "metadata": {},
   "outputs": [],
   "source": []
  },
  {
   "cell_type": "code",
   "execution_count": null,
   "id": "bebd7a6b-68e0-4061-836a-b3be591fc083",
   "metadata": {},
   "outputs": [],
   "source": []
  },
  {
   "cell_type": "code",
   "execution_count": null,
   "id": "a8985204-5f3f-4463-ad7f-82a92487d257",
   "metadata": {},
   "outputs": [],
   "source": []
  },
  {
   "cell_type": "code",
   "execution_count": null,
   "id": "0103309a-832f-4912-9d6e-f1400832b962",
   "metadata": {},
   "outputs": [],
   "source": []
  },
  {
   "cell_type": "code",
   "execution_count": null,
   "id": "825a567e-4f61-49df-9ec2-bd2e8fd24215",
   "metadata": {},
   "outputs": [],
   "source": []
  },
  {
   "cell_type": "code",
   "execution_count": null,
   "id": "bc5e6a85-1d99-419c-a379-b50ae01f40dc",
   "metadata": {},
   "outputs": [],
   "source": []
  },
  {
   "cell_type": "code",
   "execution_count": null,
   "id": "0f8a8e3a-4d78-4033-9255-7f259ff7cf93",
   "metadata": {},
   "outputs": [],
   "source": []
  }
 ],
 "metadata": {
  "kernelspec": {
   "display_name": "Python 3 (ipykernel)",
   "language": "python",
   "name": "python3"
  },
  "language_info": {
   "codemirror_mode": {
    "name": "ipython",
    "version": 3
   },
   "file_extension": ".py",
   "mimetype": "text/x-python",
   "name": "python",
   "nbconvert_exporter": "python",
   "pygments_lexer": "ipython3",
   "version": "3.9.6"
  }
 },
 "nbformat": 4,
 "nbformat_minor": 5
}
