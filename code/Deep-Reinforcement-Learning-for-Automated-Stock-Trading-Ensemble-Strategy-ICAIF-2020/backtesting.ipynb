{
 "cells": [
  {
   "cell_type": "code",
   "execution_count": null,
   "metadata": {},
   "outputs": [],
   "source": [
    "import pandas as pd"
   ]
  },
  {
   "cell_type": "code",
   "execution_count": null,
   "metadata": {},
   "outputs": [],
   "source": [
    "#pip install git+https://github.com/quantopian/pyfolio\n",
    "# import again if first time not work\n",
    "import pyfolio"
   ]
  },
  {
   "cell_type": "code",
   "execution_count": null,
   "metadata": {},
   "outputs": [],
   "source": [
    "import matplotlib\n",
    "matplotlib.use('Agg')\n",
    "%matplotlib inline"
   ]
  },
  {
   "cell_type": "code",
   "execution_count": null,
   "metadata": {},
   "outputs": [],
   "source": [
    "def get_daily_return(df):\n",
    "    df['daily_return']=df.account_value.pct_change(1)\n",
    "    #df=df.dropna()\n",
    "    print('Sharpe: ',(252**0.5)*df['daily_return'].mean()/ df['daily_return'].std())\n",
    "    return df"
   ]
  },
  {
   "cell_type": "code",
   "execution_count": null,
   "metadata": {},
   "outputs": [],
   "source": [
    "def backtest_strat(df):\n",
    "    strategy_ret= df.copy()\n",
    "    strategy_ret['Date'] = pd.to_datetime(strategy_ret['Date'])\n",
    "    strategy_ret.set_index('Date', drop = False, inplace = True)\n",
    "    strategy_ret.index = strategy_ret.index.tz_localize('UTC')\n",
    "    del strategy_ret['Date']\n",
    "    ts = pd.Series(strategy_ret['daily_return'].values, index=strategy_ret.index)\n",
    "    return ts"
   ]
  },
  {
   "cell_type": "code",
   "execution_count": null,
   "metadata": {},
   "outputs": [],
   "source": [
    "def get_account_value(model_name):\n",
    "    df_account_value=pd.DataFrame()\n",
    "    for i in range(rebalance_window+validation_window, len(unique_trade_date)+1,rebalance_window):\n",
    "        temp = pd.read_csv('results/account_value_trade_{}_{}.csv'.format(model_name,i))\n",
    "        df_account_value = df_account_value.append(temp,ignore_index=True)\n",
    "    df_account_value = pd.DataFrame({'account_value':df_account_value['0']})\n",
    "    sharpe=(252**0.5)*df_account_value.account_value.pct_change(1).mean()/df_account_value.account_value.pct_change(1).std()\n",
    "    print(sharpe)\n",
    "    df_account_value=df_account_value.join(df_trade_date[63:].reset_index(drop=True))\n",
    "    return df_account_value"
   ]
  },
  {
   "cell_type": "markdown",
   "metadata": {},
   "source": [
    "## DJIA"
   ]
  },
  {
   "cell_type": "code",
   "execution_count": 19,
   "metadata": {},
   "outputs": [],
   "source": [
    "import os\n",
    "import re\n",
    "wd = os.getcwd()\n",
    "#all_data = pd.read_csv(re.sub('code', 'data', wd)+\"\\..\\..\\combined_set.csv\")\n",
    "all_data = pd.read_csv(r\"C:\\Users\\User\\Documents\\wiki\\wiki\\dev\\python\\Python-Stock\\data\\combined_set.csv\")"
   ]
  },
  {
   "cell_type": "code",
   "execution_count": 23,
   "metadata": {},
   "outputs": [],
   "source": [
    "all_data.index = all_data['Date']"
   ]
  },
  {
   "cell_type": "code",
   "execution_count": 24,
   "metadata": {},
   "outputs": [
    {
     "name": "stdout",
     "output_type": "stream",
     "text": [
      "Date\n",
      "T10YIE\n",
      "WDFUELLA\n",
      "DTWEXBGS\n",
      "GASREGW\n",
      "DGS2\n",
      "CPALTT01USQ657N\n",
      "PAYEMS\n",
      "IRLTLT01USM156N\n",
      "MABMM301USM189S\n",
      "LFWA64TTUSM647S\n",
      "MICH\n",
      "UMCSENT\n",
      "CSCICP03USM665S\n",
      "DGS10\n",
      "DTB3\n",
      "DGS3MO\n",
      "CASTHPI\n",
      "GDPC1\n",
      "CIVPART\n",
      "MORTGAGE30US\n",
      "CSUSHPINSA\n",
      "EMRATIO\n",
      "CPIAUCSL\n",
      "PSAVERT\n",
      "LRUN64TTUSQ156S\n",
      "USSTHPI\n",
      "NYSTHPI\n",
      "M2V\n",
      "GFDEBTN\n",
      "DFII10\n",
      "GFDEGDQ188S\n",
      "CUSR0000SEHA\n",
      "ETOTALUSQ176N\n",
      "ERENTUSQ176N\n",
      "RECPROUSM156N\n",
      "T5YIFR\n",
      "BAMLHYH0A0HYM2TRIV\n",
      "BAMLCC0A1AAATRIV\n",
      "GVZCLS\n",
      "DGS1\n",
      "BAMLCC0A4BBBTRIV\n",
      "VXVCLS\n",
      "IC4WSA\n",
      "WILLMICROCAPPR\n",
      "WILLLRGCAPVAL\n",
      "CFNAIDIFF\n",
      "MZMSL\n",
      "KCFSI\n",
      "T5YIE\n",
      "TOTALSA\n",
      "USSLIND\n",
      "AWHAETP\n",
      "CES0500000003\n",
      "TCU\n",
      "WTB3MS\n",
      "WGS3MO\n",
      "TWEXB\n",
      "DEXCHUS\n",
      "DEXUSUK\n",
      "CILACBQ158SBOG\n",
      "CES4348400001\n",
      "FEDFUNDS\n",
      "TDSP\n",
      "PERMIT\n",
      "CP\n",
      "PRFI\n",
      "DRSFRMACBS\n",
      "DRCCLACBS\n",
      "DRBLACBS\n",
      "DALLCIACBEP\n",
      "USROA\n",
      "USROE\n",
      "RSAHORUSQ156S\n",
      "COMREPUSQ159N\n",
      "HDTGPDUSQ163N\n",
      "POP\n",
      "NROU\n",
      "FGCCSAQ027S\n",
      "TEDRATE\n",
      "VIXCLS\n",
      "NFCI\n",
      "INDPRO\n",
      "LES1252881600Q\n",
      "CUUR0000SEHA\n",
      "LEU0252918500Q\n",
      "BAA10Y\n",
      "BAMLC0A0CM\n",
      "BAMLH0A3HYC\n",
      "BOGMBASE\n",
      "DCOILBRENTEU\n",
      "DCOILWTICO\n",
      "DFF\n",
      "DGS1MO\n",
      "DGS30\n",
      "DGS5\n",
      "ICSA\n",
      "INTDSRUSM193N\n",
      "M1\n",
      "M1V\n",
      "MPRIME\n",
      "PPIACO\n",
      "SPCS20RSA\n",
      "STLFSI2\n",
      "T10Y2Y\n",
      "T10Y3M\n",
      "TB3MS\n",
      "TREAST\n",
      "UNRATE\n",
      "WPU0911\n",
      "^SP500TR\n",
      "^GSPC\n",
      "QQQ\n",
      "DIA\n",
      "SPY\n",
      "DBC\n",
      "ICAD\n",
      "CIR\n",
      "NRT\n",
      "IMOS\n",
      "TDF\n",
      "DDM\n",
      "ADS\n",
      "BTA\n",
      "OESX\n",
      "BR\n",
      "PFF\n",
      "PSP\n",
      "CTEK\n",
      "PFIN\n",
      "GVP\n",
      "EWH\n",
      "ADC\n",
      "BCV\n",
      "EWJ\n",
      "HR\n",
      "PENN\n",
      "IYT\n",
      "KO\n",
      "SCU\n",
      "SAM\n",
      "IAK\n",
      "MSM\n",
      "SBRA\n",
      "SUI\n",
      "UNP\n",
      "VECO\n",
      "EGP\n",
      "NBN\n",
      "ICCC\n",
      "EZA\n",
      "BRKR\n",
      "ABCB\n",
      "HUBG\n",
      "NNY\n",
      "TGI\n",
      "HWKN\n",
      "BBQ\n",
      "ICF\n",
      "HOLX\n",
      "AGQ\n",
      "AAON\n",
      "IIIN\n",
      "CHE\n",
      "LLY\n",
      "LQDT\n",
      "DYAI\n",
      "TWI\n",
      "PLBC\n",
      "ACR\n",
      "MPA\n",
      "SSP\n",
      "QTEC\n",
      "OFLX\n",
      "CCU\n",
      "ASX\n",
      "TRIB\n",
      "CMI\n",
      "PHB\n",
      "TD\n",
      "PII\n",
      "RWO\n",
      "BSAC\n",
      "EME\n",
      "BKCC\n",
      "NURO\n",
      "VALU\n",
      "MTRN\n",
      "DBO\n",
      "CORN\n",
      "TAGS\n",
      "IAU\n",
      "SLV\n",
      "PGM\n",
      "UUP\n",
      "FXE\n",
      "FXY\n",
      "FXB\n",
      "FXA\n",
      "FXC\n",
      "FXF\n",
      "CYB\n",
      "FXS\n",
      "REZ\n",
      "IYR\n",
      "ERUS\n",
      "EWU\n",
      "MCHI\n",
      "IEUR\n",
      "ILF\n",
      "EWW\n",
      "INDA\n",
      "AGG\n",
      "NEAR\n",
      "GBF\n",
      "MUB\n",
      "SUB\n",
      "MEAR\n",
      "GOVT\n",
      "SHV\n",
      "SHY\n",
      "IEI\n",
      "IEF\n",
      "TLT\n",
      "BTC-USD\n",
      "RPL\n",
      "BCH\n",
      "EOS\n",
      "LTC\n",
      "XLC\n",
      "XLP\n",
      "XLE\n",
      "XLF\n",
      "XLI\n",
      "XLB\n",
      "XLRE\n",
      "XLU\n",
      "MMM\n",
      "AXP\n",
      "AMGN\n",
      "AAPL\n",
      "BA\n",
      "CAT\n",
      "CVX\n",
      "CSCO\n",
      "DOW\n",
      "GS\n",
      "HD\n",
      "HON\n",
      "IBM\n",
      "INTC\n",
      "JNJ\n",
      "JPM\n",
      "MCD\n",
      "MRK\n",
      "MSFT\n",
      "NKE\n",
      "PG\n",
      "CRM\n",
      "TRV\n",
      "UNH\n",
      "VZ\n",
      "V\n",
      "WMT\n",
      "WBA\n",
      "DIS\n"
     ]
    }
   ],
   "source": [
    "all_data.describe()\n",
    "for i in all_data.columns:\n",
    "    print(i)"
   ]
  },
  {
   "cell_type": "code",
   "execution_count": null,
   "metadata": {},
   "outputs": [],
   "source": []
  },
  {
   "cell_type": "code",
   "execution_count": null,
   "metadata": {},
   "outputs": [],
   "source": [
    "#dji = pd.read_csv(\"data/^DJI.csv\")\n",
    "\n",
    "#test_dji=dji[(dji['Date']>='2016-01-01') & (dji['Date']<='2020-06-30')]\n",
    "#test_dji = test_dji.reset_index(drop=True)"
   ]
  },
  {
   "cell_type": "code",
   "execution_count": null,
   "metadata": {},
   "outputs": [],
   "source": [
    "#dji"
   ]
  },
  {
   "cell_type": "code",
   "execution_count": null,
   "metadata": {},
   "outputs": [],
   "source": [
    "#test_dji.shape"
   ]
  },
  {
   "cell_type": "code",
   "execution_count": null,
   "metadata": {},
   "outputs": [],
   "source": [
    "#test_dji.head()"
   ]
  },
  {
   "cell_type": "code",
   "execution_count": 18,
   "metadata": {},
   "outputs": [
    {
     "data": {
      "text/plain": [
       "Index(['Unnamed: 0', 'T10YIE', 'WDFUELLA', 'DTWEXBGS', 'GASREGW', 'DGS2',\n",
       "       'CPALTT01USQ657N', 'PAYEMS', 'IRLTLT01USM156N', 'MABMM301USM189S',\n",
       "       ...\n",
       "       'NKE', 'PG', 'CRM', 'TRV', 'UNH', 'VZ', 'V', 'WMT', 'WBA', 'DIS'],\n",
       "      dtype='object', length=266)"
      ]
     },
     "execution_count": 18,
     "metadata": {},
     "output_type": "execute_result"
    }
   ],
   "source": []
  },
  {
   "cell_type": "code",
   "execution_count": 25,
   "metadata": {},
   "outputs": [],
   "source": [
    "test_dji = all_data[['EWJ']].pct_change(1)"
   ]
  },
  {
   "cell_type": "code",
   "execution_count": null,
   "metadata": {},
   "outputs": [],
   "source": [
    "dow_strat = backtest_strat(test_dji)"
   ]
  },
  {
   "cell_type": "markdown",
   "metadata": {},
   "source": [
    "## Ensemble Strategy"
   ]
  },
  {
   "cell_type": "code",
   "execution_count": 26,
   "metadata": {},
   "outputs": [],
   "source": [
    "df=test_dji#.set_index('Date')#pd.read_csv('data/dow_30_2009_2020.csv')"
   ]
  },
  {
   "cell_type": "code",
   "execution_count": 27,
   "metadata": {},
   "outputs": [
    {
     "data": {
      "text/plain": [
       "Index(['2009-09-13', '2009-09-14', '2009-09-15', '2009-09-16', '2009-09-17',\n",
       "       '2009-09-18', '2009-09-19', '2009-09-20', '2009-09-21', '2009-09-22',\n",
       "       ...\n",
       "       '2021-08-18', '2021-08-19', '2021-08-20', '2021-08-21', '2021-08-22',\n",
       "       '2021-08-23', '2021-08-24', '2021-08-25', '2021-08-26', '2021-08-27'],\n",
       "      dtype='object', name='Date', length=4367)"
      ]
     },
     "execution_count": 27,
     "metadata": {},
     "output_type": "execute_result"
    }
   ],
   "source": []
  },
  {
   "cell_type": "code",
   "execution_count": null,
   "metadata": {},
   "outputs": [],
   "source": []
  },
  {
   "cell_type": "code",
   "execution_count": 28,
   "metadata": {},
   "outputs": [],
   "source": [
    "rebalance_window = 63\n",
    "validation_window = 63\n",
    "unique_trade_date = df[(df.index > '2015-10-01')&(df.index <= '2020-07-07')]\n"
   ]
  },
  {
   "cell_type": "code",
   "execution_count": 29,
   "metadata": {},
   "outputs": [],
   "source": [
    "df_trade_date = pd.DataFrame(unique_trade_date)"
   ]
  },
  {
   "cell_type": "raw",
   "metadata": {},
   "source": [
    "ensemble_account_value = get_account_value('ensemble')"
   ]
  },
  {
   "cell_type": "code",
   "execution_count": null,
   "metadata": {},
   "outputs": [],
   "source": [
    "ensemble_account_value.account_value.plot()"
   ]
  },
  {
   "cell_type": "code",
   "execution_count": null,
   "metadata": {},
   "outputs": [],
   "source": [
    "ensemble_account_value = get_daily_return(ensemble_account_value)"
   ]
  },
  {
   "cell_type": "code",
   "execution_count": null,
   "metadata": {},
   "outputs": [],
   "source": [
    "test_dji"
   ]
  },
  {
   "cell_type": "code",
   "execution_count": null,
   "metadata": {},
   "outputs": [],
   "source": [
    "ensemble_account_value['Date'] = test_dji['Date']"
   ]
  },
  {
   "cell_type": "code",
   "execution_count": null,
   "metadata": {},
   "outputs": [],
   "source": [
    "ensemble_account_value.head()"
   ]
  },
  {
   "cell_type": "code",
   "execution_count": null,
   "metadata": {},
   "outputs": [],
   "source": [
    "ensemble_strat = backtest_strat(ensemble_account_value[0:1097])"
   ]
  },
  {
   "cell_type": "code",
   "execution_count": null,
   "metadata": {},
   "outputs": [],
   "source": [
    "#ensemble_account_value.to_csv('results/df_account_value_ensemble_daily_return.csv',index=False)"
   ]
  },
  {
   "cell_type": "code",
   "execution_count": null,
   "metadata": {},
   "outputs": [],
   "source": [
    "with pyfolio.plotting.plotting_context(font_scale=1.1):\n",
    "    pyfolio.create_full_tear_sheet(returns = ensemble_strat,\n",
    "                                   benchmark_rets=dow_strat, set_context=False)"
   ]
  },
  {
   "cell_type": "code",
   "execution_count": null,
   "metadata": {},
   "outputs": [],
   "source": []
  }
 ],
 "metadata": {
  "kernelspec": {
   "display_name": "Python 3 (ipykernel)",
   "language": "python",
   "name": "python3"
  },
  "language_info": {
   "codemirror_mode": {
    "name": "ipython",
    "version": 3
   },
   "file_extension": ".py",
   "mimetype": "text/x-python",
   "name": "python",
   "nbconvert_exporter": "python",
   "pygments_lexer": "ipython3",
   "version": "3.9.6"
  }
 },
 "nbformat": 4,
 "nbformat_minor": 4
}
