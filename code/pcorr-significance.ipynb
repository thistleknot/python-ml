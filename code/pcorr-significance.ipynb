{
 "cells": [
  {
   "cell_type": "code",
   "execution_count": 1,
   "id": "3ed6d235-1e58-4000-9e03-cb31972b05ed",
   "metadata": {},
   "outputs": [],
   "source": [
    "import pandas as pd\n",
    "import numpy as np\n",
    "from scipy import stats # For in-built method to get PCC\n",
    "import scipy\n",
    "from sklearn.model_selection import KFold\n",
    "import pingouin as pg\n",
    "from sklearn.preprocessing import StandardScaler\n",
    "scaler = StandardScaler()\n",
    "from zca import zca\n",
    "import seaborn as sns\n",
    "import sklearn.linear_model\n",
    "import statsmodels.api as sm\n",
    "from statsmodels.stats.outliers_influence import OLSInfluence\n",
    "import statsmodels.tools\n",
    "import matplotlib.pyplot as plt\n",
    "zca = zca.ZCA()"
   ]
  },
  {
   "cell_type": "code",
   "execution_count": 2,
   "id": "2e025827-a163-4dbd-a95c-1b8f922a438c",
   "metadata": {},
   "outputs": [
    {
     "data": {
      "text/plain": [
       "StandardScaler()"
      ]
     },
     "execution_count": 2,
     "metadata": {},
     "output_type": "execute_result"
    }
   ],
   "source": [
    "target = 'Poverty'\n",
    "\n",
    "all_data = pd.read_csv('../data/raw/states.csv')\n",
    "\n",
    "scaler.fit(np.array(all_data[target]).reshape(-1, 1))"
   ]
  },
  {
   "cell_type": "code",
   "execution_count": 3,
   "id": "72b48cda-f3fd-4b15-8877-04a2350cd84b",
   "metadata": {},
   "outputs": [
    {
     "data": {
      "text/plain": [
       "10"
      ]
     },
     "execution_count": 3,
     "metadata": {},
     "output_type": "execute_result"
    }
   ],
   "source": [
    "num_folds = 10\n",
    "kfold = KFold(n_splits=num_folds, shuffle=True)\n",
    "kfold.get_n_splits(all_data.index)"
   ]
  },
  {
   "cell_type": "code",
   "execution_count": null,
   "id": "6f0d775f-2cf8-439e-b150-9d2d89865fb0",
   "metadata": {},
   "outputs": [],
   "source": []
  },
  {
   "cell_type": "code",
   "execution_count": 4,
   "id": "8bc8189e-9489-4d30-b572-a609719e62eb",
   "metadata": {},
   "outputs": [],
   "source": [
    "exclude = 'States'\n",
    "\n",
    "sig_table = np.zeros(shape=(len(all_data.columns)))\n",
    "signs_table = np.zeros(shape=(len(all_data.columns)))\n",
    "\n",
    "p_threshold = .05\n",
    "\n",
    "New_Names = all_data.columns[2:]\n",
    "iteration = 0\n",
    "for train_index, test_index in kfold.split(all_data):\n",
    "    #print(iteration)\n",
    "    max_pvalue = 1\n",
    "    \n",
    "    subset = all_data.iloc[train_index].loc[:, ~all_data.columns.isin([exclude])]\n",
    "    \n",
    "    #skip y and states\n",
    "    set_ = subset.loc[:, ~subset.columns.isin([target])].columns.tolist()\n",
    "    \n",
    "    n=len(subset)\n",
    "    \n",
    "    while(max_pvalue>=.05):\n",
    "\n",
    "        dist = scipy.stats.beta(n/2 - 1, n/2 - 1, loc=-1, scale=2)\n",
    "        p_values = pd.DataFrame(2*dist.cdf(-abs(subset.pcorr()[target]))).T\n",
    "        p_values.columns = list(subset.columns)\n",
    "        #print(p_values)\n",
    "        \n",
    "        #skip y\n",
    "        max_pname = p_values.idxmax(axis=1)[0]\n",
    "        \n",
    "        max_pvalue = p_values[max_pname].values[0]\n",
    "        \n",
    "        if (max_pvalue > .05):\n",
    "            #print(max_pname)\n",
    "            #print(max_pvalue)\n",
    "            set_.remove(max_pname)\n",
    "            temp = [target]\n",
    "            temp.extend(set_)\n",
    "            subset = subset[temp]\n",
    "    \n",
    "    winners = p_values.loc[:, ~p_values.columns.isin([target])].columns.tolist()\n",
    "    sig_table = (sig_table + np.where(all_data.columns.isin(winners),1,0)).copy()\n",
    "    \n",
    "    #signs_table = (signs_table + np.where(pd.DataFrame(subset.pcorr()[target])<0,-1,1)).copy()\n",
    "    signs_table[all_data.columns.get_indexer(winners)]+=np.where(subset.pcorr()[target][winners]<0,-1,1)\n",
    "    #print(winners)\n",
    "    #print(max_pvalue)\n",
    "    #iteration = iteration +1\n",
    "\n"
   ]
  },
  {
   "cell_type": "code",
   "execution_count": 5,
   "id": "1ed83fe8-c38e-4d62-bdec-8216a32b4e9f",
   "metadata": {},
   "outputs": [
    {
     "data": {
      "text/html": [
       "<div>\n",
       "<style scoped>\n",
       "    .dataframe tbody tr th:only-of-type {\n",
       "        vertical-align: middle;\n",
       "    }\n",
       "\n",
       "    .dataframe tbody tr th {\n",
       "        vertical-align: top;\n",
       "    }\n",
       "\n",
       "    .dataframe thead th {\n",
       "        text-align: right;\n",
       "    }\n",
       "</style>\n",
       "<table border=\"1\" class=\"dataframe\">\n",
       "  <thead>\n",
       "    <tr style=\"text-align: right;\">\n",
       "      <th></th>\n",
       "      <th>States</th>\n",
       "      <th>Poverty</th>\n",
       "      <th>Infant Mort</th>\n",
       "      <th>White</th>\n",
       "      <th>Crime</th>\n",
       "      <th>Doctors</th>\n",
       "      <th>Traf Deaths</th>\n",
       "      <th>University</th>\n",
       "      <th>Unemployed</th>\n",
       "      <th>Income</th>\n",
       "      <th>Population</th>\n",
       "    </tr>\n",
       "  </thead>\n",
       "  <tbody>\n",
       "    <tr>\n",
       "      <th>0</th>\n",
       "      <td>0.0</td>\n",
       "      <td>0.0</td>\n",
       "      <td>1.0</td>\n",
       "      <td>10.0</td>\n",
       "      <td>0.0</td>\n",
       "      <td>0.0</td>\n",
       "      <td>1.0</td>\n",
       "      <td>0.0</td>\n",
       "      <td>10.0</td>\n",
       "      <td>10.0</td>\n",
       "      <td>7.0</td>\n",
       "    </tr>\n",
       "  </tbody>\n",
       "</table>\n",
       "</div>"
      ],
      "text/plain": [
       "   States  Poverty  Infant Mort  White  Crime  Doctors  Traf Deaths  \\\n",
       "0     0.0      0.0          1.0   10.0    0.0      0.0          1.0   \n",
       "\n",
       "   University  Unemployed  Income  Population  \n",
       "0         0.0        10.0    10.0         7.0  "
      ]
     },
     "metadata": {},
     "output_type": "display_data"
    }
   ],
   "source": [
    "significance = pd.DataFrame(sig_table).T\n",
    "significance.columns = list(all_data.columns)\n",
    "display(significance)"
   ]
  },
  {
   "cell_type": "code",
   "execution_count": 6,
   "id": "0ee1f8be-8a27-4a1f-bb7d-47e96d42ea1e",
   "metadata": {},
   "outputs": [
    {
     "data": {
      "text/html": [
       "<div>\n",
       "<style scoped>\n",
       "    .dataframe tbody tr th:only-of-type {\n",
       "        vertical-align: middle;\n",
       "    }\n",
       "\n",
       "    .dataframe tbody tr th {\n",
       "        vertical-align: top;\n",
       "    }\n",
       "\n",
       "    .dataframe thead th {\n",
       "        text-align: right;\n",
       "    }\n",
       "</style>\n",
       "<table border=\"1\" class=\"dataframe\">\n",
       "  <thead>\n",
       "    <tr style=\"text-align: right;\">\n",
       "      <th></th>\n",
       "      <th>States</th>\n",
       "      <th>Poverty</th>\n",
       "      <th>Infant Mort</th>\n",
       "      <th>White</th>\n",
       "      <th>Crime</th>\n",
       "      <th>Doctors</th>\n",
       "      <th>Traf Deaths</th>\n",
       "      <th>University</th>\n",
       "      <th>Unemployed</th>\n",
       "      <th>Income</th>\n",
       "      <th>Population</th>\n",
       "    </tr>\n",
       "  </thead>\n",
       "  <tbody>\n",
       "    <tr>\n",
       "      <th>0</th>\n",
       "      <td>0.0</td>\n",
       "      <td>0.0</td>\n",
       "      <td>-1.0</td>\n",
       "      <td>-10.0</td>\n",
       "      <td>0.0</td>\n",
       "      <td>0.0</td>\n",
       "      <td>-1.0</td>\n",
       "      <td>0.0</td>\n",
       "      <td>10.0</td>\n",
       "      <td>-10.0</td>\n",
       "      <td>7.0</td>\n",
       "    </tr>\n",
       "  </tbody>\n",
       "</table>\n",
       "</div>"
      ],
      "text/plain": [
       "   States  Poverty  Infant Mort  White  Crime  Doctors  Traf Deaths  \\\n",
       "0     0.0      0.0         -1.0  -10.0    0.0      0.0         -1.0   \n",
       "\n",
       "   University  Unemployed  Income  Population  \n",
       "0         0.0        10.0   -10.0         7.0  "
      ]
     },
     "metadata": {},
     "output_type": "display_data"
    }
   ],
   "source": [
    "sign = pd.DataFrame(signs_table).T\n",
    "sign.columns = list(all_data.columns)\n",
    "display(sign)\n"
   ]
  },
  {
   "cell_type": "code",
   "execution_count": 7,
   "id": "320e9613-c6eb-45f6-9d24-18cba70c68fc",
   "metadata": {},
   "outputs": [
    {
     "data": {
      "text/html": [
       "<div>\n",
       "<style scoped>\n",
       "    .dataframe tbody tr th:only-of-type {\n",
       "        vertical-align: middle;\n",
       "    }\n",
       "\n",
       "    .dataframe tbody tr th {\n",
       "        vertical-align: top;\n",
       "    }\n",
       "\n",
       "    .dataframe thead th {\n",
       "        text-align: right;\n",
       "    }\n",
       "</style>\n",
       "<table border=\"1\" class=\"dataframe\">\n",
       "  <thead>\n",
       "    <tr style=\"text-align: right;\">\n",
       "      <th></th>\n",
       "      <th>States</th>\n",
       "      <th>Poverty</th>\n",
       "      <th>Infant Mort</th>\n",
       "      <th>White</th>\n",
       "      <th>Crime</th>\n",
       "      <th>Doctors</th>\n",
       "      <th>Traf Deaths</th>\n",
       "      <th>University</th>\n",
       "      <th>Unemployed</th>\n",
       "      <th>Income</th>\n",
       "      <th>Population</th>\n",
       "    </tr>\n",
       "  </thead>\n",
       "  <tbody>\n",
       "    <tr>\n",
       "      <th>0</th>\n",
       "      <td>0.0</td>\n",
       "      <td>0.0</td>\n",
       "      <td>0.1</td>\n",
       "      <td>1.0</td>\n",
       "      <td>0.0</td>\n",
       "      <td>0.0</td>\n",
       "      <td>0.1</td>\n",
       "      <td>0.0</td>\n",
       "      <td>1.0</td>\n",
       "      <td>1.0</td>\n",
       "      <td>0.7</td>\n",
       "    </tr>\n",
       "  </tbody>\n",
       "</table>\n",
       "</div>"
      ],
      "text/plain": [
       "   States  Poverty  Infant Mort  White  Crime  Doctors  Traf Deaths  \\\n",
       "0     0.0      0.0          0.1    1.0    0.0      0.0          0.1   \n",
       "\n",
       "   University  Unemployed  Income  Population  \n",
       "0         0.0         1.0     1.0         0.7  "
      ]
     },
     "metadata": {},
     "output_type": "display_data"
    }
   ],
   "source": [
    "purity = abs((sign/num_folds)*(sign/significance)).T.replace([np.inf, -np.inf, np.NaN], 0)\n",
    "display(purity.T)"
   ]
  },
  {
   "cell_type": "code",
   "execution_count": null,
   "id": "cb81baba-ae48-4ec0-8204-130094f974cd",
   "metadata": {},
   "outputs": [],
   "source": []
  },
  {
   "cell_type": "code",
   "execution_count": null,
   "id": "d02c08fe-e0e5-4ae2-a5ed-3ab7fdf68ef7",
   "metadata": {},
   "outputs": [],
   "source": []
  },
  {
   "cell_type": "code",
   "execution_count": 26,
   "id": "6c222cbc-da64-4d41-ba3d-5358319d35f4",
   "metadata": {},
   "outputs": [],
   "source": [
    "threshold = .6\n",
    "\n",
    "chosen = list(purity.T.columns.values[np.array(purity.T>=threshold).reshape(len(all_data.columns,))])\n",
    "dataSet = pd.concat([all_data[target],all_data[chosen]],axis=1)\n",
    "y_scaled = pd.DataFrame(scaler.transform(np.array(dataSet[target]).reshape(-1, 1)))\n",
    "y_scaled.columns=[target]\n"
   ]
  },
  {
   "cell_type": "code",
   "execution_count": 27,
   "id": "9f3f56aa-9607-46d1-a304-7d607c33b362",
   "metadata": {},
   "outputs": [
    {
     "data": {
      "text/plain": [
       "['White', 'Unemployed', 'Income', 'Population']"
      ]
     },
     "execution_count": 27,
     "metadata": {},
     "output_type": "execute_result"
    }
   ],
   "source": [
    "chosen"
   ]
  },
  {
   "cell_type": "code",
   "execution_count": null,
   "id": "21e034cb-e569-4454-9ecc-56bd606fb9cd",
   "metadata": {},
   "outputs": [],
   "source": []
  },
  {
   "cell_type": "code",
   "execution_count": 28,
   "id": "d1c2462d-0b37-470c-983c-a47ca192f708",
   "metadata": {},
   "outputs": [],
   "source": [
    "zca_data = pd.concat([y_scaled,pd.DataFrame(zca.fit_transform(dataSet[chosen]),columns=chosen)],axis=1)"
   ]
  },
  {
   "cell_type": "code",
   "execution_count": 29,
   "id": "52687dd7-c69e-4d1b-865e-fdb78059fa44",
   "metadata": {},
   "outputs": [
    {
     "data": {
      "text/html": [
       "<div>\n",
       "<style scoped>\n",
       "    .dataframe tbody tr th:only-of-type {\n",
       "        vertical-align: middle;\n",
       "    }\n",
       "\n",
       "    .dataframe tbody tr th {\n",
       "        vertical-align: top;\n",
       "    }\n",
       "\n",
       "    .dataframe thead th {\n",
       "        text-align: right;\n",
       "    }\n",
       "</style>\n",
       "<table border=\"1\" class=\"dataframe\">\n",
       "  <thead>\n",
       "    <tr style=\"text-align: right;\">\n",
       "      <th></th>\n",
       "      <th>Poverty</th>\n",
       "      <th>White</th>\n",
       "      <th>Unemployed</th>\n",
       "      <th>Income</th>\n",
       "      <th>Population</th>\n",
       "    </tr>\n",
       "  </thead>\n",
       "  <tbody>\n",
       "    <tr>\n",
       "      <th>Poverty</th>\n",
       "      <td>1.000000</td>\n",
       "      <td>-0.603937</td>\n",
       "      <td>0.379943</td>\n",
       "      <td>-0.918181</td>\n",
       "      <td>0.359011</td>\n",
       "    </tr>\n",
       "    <tr>\n",
       "      <th>White</th>\n",
       "      <td>-0.603937</td>\n",
       "      <td>1.000000</td>\n",
       "      <td>0.229462</td>\n",
       "      <td>-0.554524</td>\n",
       "      <td>0.216820</td>\n",
       "    </tr>\n",
       "    <tr>\n",
       "      <th>Unemployed</th>\n",
       "      <td>0.379943</td>\n",
       "      <td>0.229462</td>\n",
       "      <td>1.000000</td>\n",
       "      <td>0.348857</td>\n",
       "      <td>-0.136404</td>\n",
       "    </tr>\n",
       "    <tr>\n",
       "      <th>Income</th>\n",
       "      <td>-0.918181</td>\n",
       "      <td>-0.554524</td>\n",
       "      <td>0.348857</td>\n",
       "      <td>1.000000</td>\n",
       "      <td>0.329637</td>\n",
       "    </tr>\n",
       "    <tr>\n",
       "      <th>Population</th>\n",
       "      <td>0.359011</td>\n",
       "      <td>0.216820</td>\n",
       "      <td>-0.136404</td>\n",
       "      <td>0.329637</td>\n",
       "      <td>1.000000</td>\n",
       "    </tr>\n",
       "  </tbody>\n",
       "</table>\n",
       "</div>"
      ],
      "text/plain": [
       "             Poverty     White  Unemployed    Income  Population\n",
       "Poverty     1.000000 -0.603937    0.379943 -0.918181    0.359011\n",
       "White      -0.603937  1.000000    0.229462 -0.554524    0.216820\n",
       "Unemployed  0.379943  0.229462    1.000000  0.348857   -0.136404\n",
       "Income     -0.918181 -0.554524    0.348857  1.000000    0.329637\n",
       "Population  0.359011  0.216820   -0.136404  0.329637    1.000000"
      ]
     },
     "execution_count": 29,
     "metadata": {},
     "output_type": "execute_result"
    }
   ],
   "source": [
    "zca_data.pcorr()"
   ]
  },
  {
   "cell_type": "code",
   "execution_count": 30,
   "id": "827aace5-3f19-4a70-be6d-499f6261ebbb",
   "metadata": {},
   "outputs": [
    {
     "data": {
      "text/plain": [
       "<seaborn.axisgrid.PairGrid at 0x1bbd8184550>"
      ]
     },
     "execution_count": 30,
     "metadata": {},
     "output_type": "execute_result"
    },
    {
     "data": {
      "image/png": "[encoded data removed]",
      "text/plain": [
       "<Figure size 900x900 with 30 Axes>"
      ]
     },
     "metadata": {
      "needs_background": "light"
     },
     "output_type": "display_data"
    }
   ],
   "source": [
    "sns.pairplot(zca_data)"
   ]
  },
  {
   "cell_type": "code",
   "execution_count": null,
   "id": "fced5f45-720d-48f6-9fb5-c9ac811d2c5f",
   "metadata": {},
   "outputs": [],
   "source": []
  },
  {
   "cell_type": "code",
   "execution_count": null,
   "id": "c53eaeaa-8932-4943-af7e-39b1a8d6694b",
   "metadata": {},
   "outputs": [],
   "source": []
  },
  {
   "cell_type": "code",
   "execution_count": 31,
   "id": "7fea8437-cd06-446a-a7ca-7af65761c876",
   "metadata": {},
   "outputs": [],
   "source": [
    "\n",
    "#model = sklearn.linear_model.LinearRegression()\n",
    "data_set_wConstant = statsmodels.tools.tools.add_constant(zca_data)\n",
    "y = data_set_wConstant[target]\n",
    "X = data_set_wConstant[data_set_wConstant.columns.drop(target)]\n",
    "#results = model.fit(X, y)\n",
    "model = sm.OLS(y,X)\n",
    "results = model.fit()"
   ]
  },
  {
   "cell_type": "code",
   "execution_count": 32,
   "id": "516bc53d-7a31-4b66-959e-d5b9e049df38",
   "metadata": {},
   "outputs": [
    {
     "data": {
      "text/html": [
       "<table class=\"simpletable\">\n",
       "<caption>OLS Regression Results</caption>\n",
       "<tr>\n",
       "  <th>Dep. Variable:</th>         <td>Poverty</td>     <th>  R-squared:         </th> <td>   0.862</td>\n",
       "</tr>\n",
       "<tr>\n",
       "  <th>Model:</th>                   <td>OLS</td>       <th>  Adj. R-squared:    </th> <td>   0.850</td>\n",
       "</tr>\n",
       "<tr>\n",
       "  <th>Method:</th>             <td>Least Squares</td>  <th>  F-statistic:       </th> <td>   70.45</td>\n",
       "</tr>\n",
       "<tr>\n",
       "  <th>Date:</th>             <td>Mon, 26 Jul 2021</td> <th>  Prob (F-statistic):</th> <td>8.61e-19</td>\n",
       "</tr>\n",
       "<tr>\n",
       "  <th>Time:</th>                 <td>17:13:18</td>     <th>  Log-Likelihood:    </th> <td> -21.379</td>\n",
       "</tr>\n",
       "<tr>\n",
       "  <th>No. Observations:</th>      <td>    50</td>      <th>  AIC:               </th> <td>   52.76</td>\n",
       "</tr>\n",
       "<tr>\n",
       "  <th>Df Residuals:</th>          <td>    45</td>      <th>  BIC:               </th> <td>   62.32</td>\n",
       "</tr>\n",
       "<tr>\n",
       "  <th>Df Model:</th>              <td>     4</td>      <th>                     </th>     <td> </td>   \n",
       "</tr>\n",
       "<tr>\n",
       "  <th>Covariance Type:</th>      <td>nonrobust</td>    <th>                     </th>     <td> </td>   \n",
       "</tr>\n",
       "</table>\n",
       "<table class=\"simpletable\">\n",
       "<tr>\n",
       "       <td></td>         <th>coef</th>     <th>std err</th>      <th>t</th>      <th>P>|t|</th>  <th>[0.025</th>    <th>0.975]</th>  \n",
       "</tr>\n",
       "<tr>\n",
       "  <th>const</th>      <td> 8.743e-16</td> <td>    0.055</td> <td> 1.58e-14</td> <td> 1.000</td> <td>   -0.111</td> <td>    0.111</td>\n",
       "</tr>\n",
       "<tr>\n",
       "  <th>White</th>      <td>   -0.2840</td> <td>    0.056</td> <td>   -5.083</td> <td> 0.000</td> <td>   -0.397</td> <td>   -0.171</td>\n",
       "</tr>\n",
       "<tr>\n",
       "  <th>Unemployed</th> <td>    0.1540</td> <td>    0.056</td> <td>    2.755</td> <td> 0.008</td> <td>    0.041</td> <td>    0.267</td>\n",
       "</tr>\n",
       "<tr>\n",
       "  <th>Income</th>     <td>   -0.8688</td> <td>    0.056</td> <td>  -15.548</td> <td> 0.000</td> <td>   -0.981</td> <td>   -0.756</td>\n",
       "</tr>\n",
       "<tr>\n",
       "  <th>Population</th> <td>    0.1442</td> <td>    0.056</td> <td>    2.580</td> <td> 0.013</td> <td>    0.032</td> <td>    0.257</td>\n",
       "</tr>\n",
       "</table>\n",
       "<table class=\"simpletable\">\n",
       "<tr>\n",
       "  <th>Omnibus:</th>       <td> 2.601</td> <th>  Durbin-Watson:     </th> <td>   1.840</td>\n",
       "</tr>\n",
       "<tr>\n",
       "  <th>Prob(Omnibus):</th> <td> 0.272</td> <th>  Jarque-Bera (JB):  </th> <td>   2.357</td>\n",
       "</tr>\n",
       "<tr>\n",
       "  <th>Skew:</th>          <td> 0.442</td> <th>  Prob(JB):          </th> <td>   0.308</td>\n",
       "</tr>\n",
       "<tr>\n",
       "  <th>Kurtosis:</th>      <td> 2.409</td> <th>  Cond. No.          </th> <td>    1.01</td>\n",
       "</tr>\n",
       "</table><br/><br/>Notes:<br/>[1] Standard Errors assume that the covariance matrix of the errors is correctly specified."
      ],
      "text/plain": [
       "<class 'statsmodels.iolib.summary.Summary'>\n",
       "\"\"\"\n",
       "                            OLS Regression Results                            \n",
       "==============================================================================\n",
       "Dep. Variable:                Poverty   R-squared:                       0.862\n",
       "Model:                            OLS   Adj. R-squared:                  0.850\n",
       "Method:                 Least Squares   F-statistic:                     70.45\n",
       "Date:                Mon, 26 Jul 2021   Prob (F-statistic):           8.61e-19\n",
       "Time:                        17:13:18   Log-Likelihood:                -21.379\n",
       "No. Observations:                  50   AIC:                             52.76\n",
       "Df Residuals:                      45   BIC:                             62.32\n",
       "Df Model:                           4                                         \n",
       "Covariance Type:            nonrobust                                         \n",
       "==============================================================================\n",
       "                 coef    std err          t      P>|t|      [0.025      0.975]\n",
       "------------------------------------------------------------------------------\n",
       "const       8.743e-16      0.055   1.58e-14      1.000      -0.111       0.111\n",
       "White         -0.2840      0.056     -5.083      0.000      -0.397      -0.171\n",
       "Unemployed     0.1540      0.056      2.755      0.008       0.041       0.267\n",
       "Income        -0.8688      0.056    -15.548      0.000      -0.981      -0.756\n",
       "Population     0.1442      0.056      2.580      0.013       0.032       0.257\n",
       "==============================================================================\n",
       "Omnibus:                        2.601   Durbin-Watson:                   1.840\n",
       "Prob(Omnibus):                  0.272   Jarque-Bera (JB):                2.357\n",
       "Skew:                           0.442   Prob(JB):                        0.308\n",
       "Kurtosis:                       2.409   Cond. No.                         1.01\n",
       "==============================================================================\n",
       "\n",
       "Notes:\n",
       "[1] Standard Errors assume that the covariance matrix of the errors is correctly specified.\n",
       "\"\"\""
      ]
     },
     "execution_count": 32,
     "metadata": {},
     "output_type": "execute_result"
    }
   ],
   "source": [
    "results.summary()"
   ]
  },
  {
   "cell_type": "code",
   "execution_count": 33,
   "id": "3b119379-7f8d-469a-a77a-6c798efd2118",
   "metadata": {},
   "outputs": [
    {
     "data": {
      "text/plain": [
       "array([[<AxesSubplot:title={'center':'0'}>]], dtype=object)"
      ]
     },
     "execution_count": 33,
     "metadata": {},
     "output_type": "execute_result"
    },
    {
     "data": {
      "image/png": "[encoded data removed]",
      "text/plain": [
       "<Figure size 432x288 with 1 Axes>"
      ]
     },
     "metadata": {
      "needs_background": "light"
     },
     "output_type": "display_data"
    }
   ],
   "source": [
    "pd.DataFrame(results.get_influence().resid_studentized_internal).hist()"
   ]
  },
  {
   "cell_type": "code",
   "execution_count": 34,
   "id": "1e536ba4-9b94-4399-b9db-6a7d60961d38",
   "metadata": {},
   "outputs": [
    {
     "data": {
      "text/plain": [
       "<matplotlib.collections.PathCollection at 0x1bbda22ddf0>"
      ]
     },
     "execution_count": 34,
     "metadata": {},
     "output_type": "execute_result"
    },
    {
     "data": {
      "image/png": "[encoded data removed]",
      "text/plain": [
       "<Figure size 432x288 with 1 Axes>"
      ]
     },
     "metadata": {
      "needs_background": "light"
     },
     "output_type": "display_data"
    }
   ],
   "source": [
    "plt.scatter(results.fittedvalues*scaler.scale_[0] + scaler.mean_[0], y*scaler.scale_[0] + scaler.mean_[0])"
   ]
  }
 ],
 "metadata": {
  "kernelspec": {
   "display_name": "Python 3 (ipykernel)",
   "language": "python",
   "name": "python3"
  },
  "language_info": {
   "codemirror_mode": {
    "name": "ipython",
    "version": 3
   },
   "file_extension": ".py",
   "mimetype": "text/x-python",
   "name": "python",
   "nbconvert_exporter": "python",
   "pygments_lexer": "ipython3",
   "version": "3.9.6"
  }
 },
 "nbformat": 4,
 "nbformat_minor": 5
}
