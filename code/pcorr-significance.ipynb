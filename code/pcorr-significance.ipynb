{
 "cells": [
  {
   "cell_type": "code",
   "execution_count": null,
   "id": "3ed6d235-1e58-4000-9e03-cb31972b05ed",
   "metadata": {},
   "outputs": [],
   "source": [
    "import pandas as pd\n",
    "import numpy as np\n",
    "from scipy import stats # For in-built method to get PCC\n",
    "import scipy\n",
    "from sklearn.model_selection import KFold\n",
    "import pingouin as pg\n",
    "from sklearn.preprocessing import StandardScaler\n",
    "scaler = StandardScaler()\n",
    "from zca import zca\n",
    "import seaborn as sns\n",
    "import sklearn.linear_model\n",
    "import statsmodels.api as sm\n",
    "from statsmodels.stats.outliers_influence import OLSInfluence\n",
    "import statsmodels.tools\n",
    "import matplotlib.pyplot as plt\n",
    "zca = zca.ZCA()"
   ]
  },
  {
   "cell_type": "code",
   "execution_count": null,
   "id": "2e025827-a163-4dbd-a95c-1b8f922a438c",
   "metadata": {},
   "outputs": [],
   "source": [
    "target = 'Poverty'\n",
    "\n",
    "all_data = pd.read_csv('../data/raw/states.csv')\n",
    "\n",
    "scaler.fit(np.array(all_data[target]).reshape(-1, 1))"
   ]
  },
  {
   "cell_type": "code",
   "execution_count": null,
   "id": "72b48cda-f3fd-4b15-8877-04a2350cd84b",
   "metadata": {},
   "outputs": [],
   "source": [
    "num_folds = 10\n",
    "kfold = KFold(n_splits=num_folds, shuffle=True)\n",
    "kfold.get_n_splits(all_data.index)"
   ]
  },
  {
   "cell_type": "code",
   "execution_count": null,
   "id": "6f0d775f-2cf8-439e-b150-9d2d89865fb0",
   "metadata": {},
   "outputs": [],
   "source": [
    "def fit_linear_reg(X,Y,train_i,test_i):\n",
    "    #Fit linear regression model and return RSS and R squared values\n",
    "    model_k = linear_model.LinearRegression(fit_intercept = True)\n",
    "    model_k.fit(X.iloc[train_i],Y.iloc[train_i])\n",
    "    RSS = mean_squared_error(Y.iloc[test_i],model_k.predict(X.iloc[test_i])) * len(Y)\n",
    "    R_squared = model_k.score(X.iloc[test_i],Y.iloc[test_i])\n",
    "    return RSS, R_squared"
   ]
  },
  {
   "cell_type": "code",
   "execution_count": null,
   "id": "cc4fe04e-1076-4217-8590-790b55a706e4",
   "metadata": {},
   "outputs": [],
   "source": []
  },
  {
   "cell_type": "code",
   "execution_count": null,
   "id": "dd38f0ae-a3f3-42bd-b924-7cdb4fc512f3",
   "metadata": {},
   "outputs": [],
   "source": [
    "exclude = 'States'\n",
    "\n",
    "sig_table = np.zeros(shape=(len(all_data.columns)))\n",
    "signs_table = np.zeros(shape=(len(all_data.columns)))\n",
    "\n",
    "p_threshold = .05\n",
    "\n",
    "from sklearn.model_selection import KFold, cross_val_score\n",
    "k_fold = KFold(n_splits=num_folds)\n",
    "train_ = []\n",
    "test_ = []\n",
    "for train_indices, test_indices in k_fold.split(all_data.index):\n",
    "    train_.append(train_indices)\n",
    "    test_.append(test_indices)\n"
   ]
  },
  {
   "cell_type": "code",
   "execution_count": null,
   "id": "73bf8d7b-287c-412f-9d07-222933e6d0f0",
   "metadata": {},
   "outputs": [],
   "source": []
  },
  {
   "cell_type": "code",
   "execution_count": null,
   "id": "e705334a-0bc8-4cd8-a072-21e45352112f",
   "metadata": {},
   "outputs": [],
   "source": [
    "import numpy as np\n",
    "import pandas as pd\n",
    "from sklearn.ensemble import RandomForestRegressor\n",
    "from sklearn.model_selection import train_test_split\n",
    "from sklearn.metrics import accuracy_score as acc\n",
    "from mlxtend.feature_selection import SequentialFeatureSelector as sfbs\n",
    "from mlxtend.plotting import plot_sequential_feature_selection as plot_sfbs\n",
    "\n",
    "from sklearn.linear_model import LinearRegression\n",
    "from sklearn.datasets import load_boston\n",
    "\n",
    "from sklearn.linear_model import ElasticNetCV\n",
    "from sklearn.model_selection import RepeatedKFold\n",
    "\n",
    "from sklearn.model_selection import GridSearchCV\n",
    "from sklearn.pipeline import Pipeline\n",
    "from sklearn.linear_model import ElasticNet\n",
    "from mlxtend.feature_selection import SequentialFeatureSelector as sfbs\n",
    "import mlxtend\n",
    "\n",
    "lr = LinearRegression()\n",
    "\n",
    "sfbs1 = sfbs(lr, \n",
    "          k_features=len(all_data.loc[:, ~all_data.columns.isin([exclude,target])].columns), \n",
    "          forward=True, \n",
    "          floating=True, \n",
    "          scoring='neg_mean_squared_error',\n",
    "          #scoring='accuracy',\n",
    "          n_jobs=-1,\n",
    "          cv=5)\n",
    "            \n",
    "sfbs1 = sfbs1.fit(all_data.loc[:, ~all_data.columns.isin([exclude,target])], pd.DataFrame(all_data[target]))\n"
   ]
  },
  {
   "cell_type": "code",
   "execution_count": null,
   "id": "2f8adffa-d8c6-4456-8e9d-365303652a60",
   "metadata": {},
   "outputs": [],
   "source": [
    "features = list(pd.DataFrame(sfbs1.subsets_).loc['feature_names'].values)"
   ]
  },
  {
   "cell_type": "code",
   "execution_count": 316,
   "id": "509c273e-fff7-4175-ab9c-f179cde6097f",
   "metadata": {},
   "outputs": [],
   "source": [
    "position = list(pd.DataFrame(sfbs1.subsets_).loc[\"avg_score\"]).index(pd.DataFrame(sfbs1.subsets_).loc[\"avg_score\"].max())"
   ]
  },
  {
   "cell_type": "code",
   "execution_count": null,
   "id": "aab1443d-30ff-4901-bf3b-1dcda563c2c3",
   "metadata": {},
   "outputs": [],
   "source": [
    "feature_idx = pd.DataFrame(sfbs1.subsets_).loc['feature_idx'].tolist()\n"
   ]
  },
  {
   "cell_type": "code",
   "execution_count": null,
   "id": "a97c5277-0a75-4520-b715-1c0117fc17d7",
   "metadata": {},
   "outputs": [],
   "source": []
  },
  {
   "cell_type": "code",
   "execution_count": 298,
   "id": "f6a076d6-1a46-4ddb-a83b-193d52ac6a31",
   "metadata": {},
   "outputs": [
    {
     "name": "stdout",
     "output_type": "stream",
     "text": [
      "('Income',)\n",
      "alpha: 100.000000\n",
      "l1_ratio_: 0.380000\n",
      "Mean MAE: 1.348 (0.530)\n",
      "('Unemployed', 'Income')\n",
      "alpha: 0.100000\n",
      "l1_ratio_: 0.000000\n",
      "Mean MAE: 1.274 (0.414)\n",
      "('White', 'Unemployed', 'Income')\n",
      "alpha: 0.100000\n",
      "l1_ratio_: 0.000000\n",
      "Mean MAE: 1.103 (0.343)\n",
      "('White', 'Unemployed', 'Income', 'Population')\n",
      "alpha: 0.010000\n",
      "l1_ratio_: 0.000000\n",
      "Mean MAE: 1.033 (0.223)\n",
      "('White', 'Traf Deaths', 'Unemployed', 'Income', 'Population')\n",
      "alpha: 0.000000\n",
      "l1_ratio_: 0.720000\n",
      "Mean MAE: 1.007 (0.201)\n",
      "('White', 'Traf Deaths', 'University', 'Unemployed', 'Income', 'Population')\n",
      "alpha: 0.001000\n",
      "l1_ratio_: 0.000000\n",
      "Mean MAE: 1.019 (0.251)\n",
      "('White', 'Doctors', 'Traf Deaths', 'University', 'Unemployed', 'Income', 'Population')\n",
      "alpha: 0.001000\n",
      "l1_ratio_: 0.000000\n",
      "Mean MAE: 1.002 (0.245)\n",
      "('White', 'Crime', 'Doctors', 'Traf Deaths', 'University', 'Unemployed', 'Income', 'Population')\n",
      "alpha: 100.000000\n",
      "l1_ratio_: 0.000000\n",
      "Mean MAE: 1.092 (0.319)\n",
      "('Infant Mort', 'White', 'Crime', 'Doctors', 'Traf Deaths', 'University', 'Unemployed', 'Income', 'Population')\n",
      "alpha: 100.000000\n",
      "l1_ratio_: 0.000000\n",
      "Mean MAE: 1.106 (0.428)\n"
     ]
    }
   ],
   "source": [
    "#feature_idx = pd.DataFrame(sfbs1.subsets_).loc['feature_idx'].tolist()\n",
    "import sys\n",
    "if not sys.warnoptions:\n",
    "    import warnings\n",
    "    warnings.simplefilter(\"ignore\")\n",
    "    \n",
    "from numpy import mean\n",
    "from numpy import std\n",
    "from numpy import absolute\n",
    "from pandas import read_csv\n",
    "from sklearn.model_selection import cross_val_score\n",
    "from sklearn.model_selection import RepeatedKFold\n",
    "from sklearn.linear_model import ElasticNet    \n",
    "\n",
    "CV_results = pd.DataFrame()#[]#np.zeros(shape=(len(features),5))\n",
    "\n",
    "for f in features:\n",
    "\n",
    "    print(f)\n",
    "    cv = RepeatedKFold(n_splits=10, n_repeats=1, random_state=1, )\n",
    "    ratios = np.arange(0, 1, 0.01)\n",
    "    alphas = [1e-5, 1e-4, 1e-3, 1e-2, 1e-1, 0.0, 1.0, 10.0, 100.0]\n",
    "\n",
    "    EN_CV = ElasticNetCV(l1_ratio=ratios, alphas=alphas, cv=cv, n_jobs=-1)\n",
    "    # fit model\n",
    "\n",
    "    X_subset = pd.DataFrame(all_data[list(np.asarray(f))])\n",
    "    y_ = pd.DataFrame(all_data[target])\n",
    "    EN_CV.fit(X_subset, y_)\n",
    "    \n",
    "    print('alpha: %f' % EN_CV.alpha_)\n",
    "    print('l1_ratio_: %f' % EN_CV.l1_ratio_)\n",
    "    \n",
    "    # evaluate model\n",
    "    scores = cross_val_score(EN_CV, X_subset, y_, scoring='neg_mean_absolute_error', cv=cv, n_jobs=-1)\n",
    "    # force scores to be positive\n",
    "    scores = absolute(scores)\n",
    "    print('Mean MAE: %.3f (%.3f)' % (mean(scores), std(scores)))\n",
    "    \n",
    "    temp = pd.concat([pd.DataFrame({\"features\": [np.array(features[5])]}),pd.DataFrame(np.array(mean(scores)).reshape(-1,1)),pd.DataFrame(np.array(std(scores)).reshape(-1,1)),pd.DataFrame(np.array(EN_CV.alpha_).reshape(-1,1)),pd.DataFrame(np.array(EN_CV.l1_ratio_).reshape(-1,1))],axis=1)\n",
    "    \n",
    "    CV_results = pd.concat([CV_results,temp],axis=0)\n",
    "                      \n",
    "\n"
   ]
  },
  {
   "cell_type": "code",
   "execution_count": null,
   "id": "e32baa0f-a4c3-45ed-838c-f1b97ec7f7f3",
   "metadata": {},
   "outputs": [],
   "source": []
  },
  {
   "cell_type": "code",
   "execution_count": null,
   "id": "42eccf2d-6562-4f0d-baf5-d2eba0469594",
   "metadata": {},
   "outputs": [],
   "source": []
  },
  {
   "cell_type": "code",
   "execution_count": 302,
   "id": "7ceba4c0-ec5a-4e90-b8fd-8ece185b512f",
   "metadata": {},
   "outputs": [
    {
     "data": {
      "image/png": "[encoded data removed]",
      "text/plain": [
       "<Figure size 432x288 with 1 Axes>"
      ]
     },
     "metadata": {
      "needs_background": "light"
     },
     "output_type": "display_data"
    },
    {
     "name": "stdout",
     "output_type": "stream",
     "text": [
      "features      [White, Traf Deaths, University, Unemployed, I...\n",
      "mean error                                             1.092212\n",
      "std                                                    0.318716\n",
      "alpha                                                     100.0\n",
      "lambda                                                      0.0\n",
      "Name: 8, dtype: object\n",
      "features      [White, Traf Deaths, University, Unemployed, I...\n",
      "mean error                                              1.10311\n",
      "std                                                     0.34272\n",
      "alpha                                                       0.1\n",
      "lambda                                                      0.0\n",
      "Name: 3, dtype: object\n"
     ]
    }
   ],
   "source": [
    "CV_results.columns = ['features','mean error','std','alpha','lambda']\n",
    "CV_results.index = np.array(range(1,len(features)+1))#range(1,len(features)+1)\n",
    "plt.plot(CV_results['mean error'])\n",
    "plt.show()\n",
    "\n",
    "best = CV_results.iloc[CV_results['mean error'].idxmin()]\n",
    "print(best)\n",
    "\n",
    "parse = CV_results[CV_results['mean error']<=(np.min(CV_results['mean error'])+np.std(CV_results['mean error']))].iloc[0]\n",
    "print(parse)"
   ]
  },
  {
   "cell_type": "code",
   "execution_count": 303,
   "id": "e4b2257f-f147-4ffa-898f-38bb682e7eca",
   "metadata": {},
   "outputs": [
    {
     "data": {
      "text/plain": [
       "0.0"
      ]
     },
     "execution_count": 303,
     "metadata": {},
     "output_type": "execute_result"
    }
   ],
   "source": [
    "\n"
   ]
  },
  {
   "cell_type": "code",
   "execution_count": null,
   "id": "b03064fb-f90a-48b7-913c-268ecdfc11a0",
   "metadata": {},
   "outputs": [],
   "source": []
  },
  {
   "cell_type": "code",
   "execution_count": 313,
   "id": "228b1f79-2c3d-42d2-9edd-8cabce43921b",
   "metadata": {},
   "outputs": [
    {
     "name": "stdout",
     "output_type": "stream",
     "text": [
      "1.0532886954272203\n",
      "1.2145822572580955\n"
     ]
    }
   ],
   "source": [
    "from sklearn.metrics import mean_squared_error\n",
    "\n",
    "model1 = ElasticNet(alpha=parse['alpha'], l1_ratio=parse['lambda'])\n",
    "model2 = ElasticNet(alpha=best['alpha'], l1_ratio=best['lambda'])\n",
    "\n",
    "model1.fit(all_data[parse['features']],all_data[target])\n",
    "model2.fit(all_data[best['features']],all_data[target])\n",
    "\n"
   ]
  },
  {
   "cell_type": "code",
   "execution_count": null,
   "id": "68a21731-16c3-48d5-9add-b20d766a9496",
   "metadata": {},
   "outputs": [],
   "source": []
  },
  {
   "cell_type": "code",
   "execution_count": null,
   "id": "5688bf44-636b-4cac-88ff-a335544aa6d8",
   "metadata": {},
   "outputs": [],
   "source": []
  },
  {
   "cell_type": "code",
   "execution_count": 318,
   "id": "8bc8189e-9489-4d30-b572-a609719e62eb",
   "metadata": {},
   "outputs": [
    {
     "data": {
      "text/html": [
       "<div>\n",
       "<style scoped>\n",
       "    .dataframe tbody tr th:only-of-type {\n",
       "        vertical-align: middle;\n",
       "    }\n",
       "\n",
       "    .dataframe tbody tr th {\n",
       "        vertical-align: top;\n",
       "    }\n",
       "\n",
       "    .dataframe thead th {\n",
       "        text-align: right;\n",
       "    }\n",
       "</style>\n",
       "<table border=\"1\" class=\"dataframe\">\n",
       "  <thead>\n",
       "    <tr style=\"text-align: right;\">\n",
       "      <th></th>\n",
       "      <th>States</th>\n",
       "      <th>Poverty</th>\n",
       "      <th>Infant Mort</th>\n",
       "      <th>White</th>\n",
       "      <th>Crime</th>\n",
       "      <th>Doctors</th>\n",
       "      <th>Traf Deaths</th>\n",
       "      <th>University</th>\n",
       "      <th>Unemployed</th>\n",
       "      <th>Income</th>\n",
       "      <th>Population</th>\n",
       "    </tr>\n",
       "  </thead>\n",
       "  <tbody>\n",
       "    <tr>\n",
       "      <th>0</th>\n",
       "      <td>0.0</td>\n",
       "      <td>0.0</td>\n",
       "      <td>0.0</td>\n",
       "      <td>10.0</td>\n",
       "      <td>0.0</td>\n",
       "      <td>0.0</td>\n",
       "      <td>0.0</td>\n",
       "      <td>0.0</td>\n",
       "      <td>10.0</td>\n",
       "      <td>10.0</td>\n",
       "      <td>10.0</td>\n",
       "    </tr>\n",
       "  </tbody>\n",
       "</table>\n",
       "</div>"
      ],
      "text/plain": [
       "   States  Poverty  Infant Mort  White  Crime  Doctors  Traf Deaths  \\\n",
       "0     0.0      0.0          0.0   10.0    0.0      0.0          0.0   \n",
       "\n",
       "   University  Unemployed  Income  Population  \n",
       "0         0.0        10.0    10.0        10.0  "
      ]
     },
     "metadata": {},
     "output_type": "display_data"
    },
    {
     "data": {
      "text/html": [
       "<div>\n",
       "<style scoped>\n",
       "    .dataframe tbody tr th:only-of-type {\n",
       "        vertical-align: middle;\n",
       "    }\n",
       "\n",
       "    .dataframe tbody tr th {\n",
       "        vertical-align: top;\n",
       "    }\n",
       "\n",
       "    .dataframe thead th {\n",
       "        text-align: right;\n",
       "    }\n",
       "</style>\n",
       "<table border=\"1\" class=\"dataframe\">\n",
       "  <thead>\n",
       "    <tr style=\"text-align: right;\">\n",
       "      <th></th>\n",
       "      <th>States</th>\n",
       "      <th>Poverty</th>\n",
       "      <th>Infant Mort</th>\n",
       "      <th>White</th>\n",
       "      <th>Crime</th>\n",
       "      <th>Doctors</th>\n",
       "      <th>Traf Deaths</th>\n",
       "      <th>University</th>\n",
       "      <th>Unemployed</th>\n",
       "      <th>Income</th>\n",
       "      <th>Population</th>\n",
       "    </tr>\n",
       "  </thead>\n",
       "  <tbody>\n",
       "    <tr>\n",
       "      <th>0</th>\n",
       "      <td>0.0</td>\n",
       "      <td>0.0</td>\n",
       "      <td>0.0</td>\n",
       "      <td>-10.0</td>\n",
       "      <td>0.0</td>\n",
       "      <td>0.0</td>\n",
       "      <td>0.0</td>\n",
       "      <td>0.0</td>\n",
       "      <td>10.0</td>\n",
       "      <td>-10.0</td>\n",
       "      <td>10.0</td>\n",
       "    </tr>\n",
       "  </tbody>\n",
       "</table>\n",
       "</div>"
      ],
      "text/plain": [
       "   States  Poverty  Infant Mort  White  Crime  Doctors  Traf Deaths  \\\n",
       "0     0.0      0.0          0.0  -10.0    0.0      0.0          0.0   \n",
       "\n",
       "   University  Unemployed  Income  Population  \n",
       "0         0.0        10.0   -10.0        10.0  "
      ]
     },
     "metadata": {},
     "output_type": "display_data"
    },
    {
     "data": {
      "text/html": [
       "<div>\n",
       "<style scoped>\n",
       "    .dataframe tbody tr th:only-of-type {\n",
       "        vertical-align: middle;\n",
       "    }\n",
       "\n",
       "    .dataframe tbody tr th {\n",
       "        vertical-align: top;\n",
       "    }\n",
       "\n",
       "    .dataframe thead th {\n",
       "        text-align: right;\n",
       "    }\n",
       "</style>\n",
       "<table border=\"1\" class=\"dataframe\">\n",
       "  <thead>\n",
       "    <tr style=\"text-align: right;\">\n",
       "      <th></th>\n",
       "      <th>States</th>\n",
       "      <th>Poverty</th>\n",
       "      <th>Infant Mort</th>\n",
       "      <th>White</th>\n",
       "      <th>Crime</th>\n",
       "      <th>Doctors</th>\n",
       "      <th>Traf Deaths</th>\n",
       "      <th>University</th>\n",
       "      <th>Unemployed</th>\n",
       "      <th>Income</th>\n",
       "      <th>Population</th>\n",
       "    </tr>\n",
       "  </thead>\n",
       "  <tbody>\n",
       "    <tr>\n",
       "      <th>0</th>\n",
       "      <td>0.0</td>\n",
       "      <td>0.0</td>\n",
       "      <td>0.0</td>\n",
       "      <td>1.0</td>\n",
       "      <td>0.0</td>\n",
       "      <td>0.0</td>\n",
       "      <td>0.0</td>\n",
       "      <td>0.0</td>\n",
       "      <td>1.0</td>\n",
       "      <td>1.0</td>\n",
       "      <td>1.0</td>\n",
       "    </tr>\n",
       "  </tbody>\n",
       "</table>\n",
       "</div>"
      ],
      "text/plain": [
       "   States  Poverty  Infant Mort  White  Crime  Doctors  Traf Deaths  \\\n",
       "0     0.0      0.0          0.0    1.0    0.0      0.0          0.0   \n",
       "\n",
       "   University  Unemployed  Income  Population  \n",
       "0         0.0         1.0     1.0         1.0  "
      ]
     },
     "metadata": {},
     "output_type": "display_data"
    },
    {
     "data": {
      "text/plain": [
       "['White', 'Unemployed', 'Income', 'Population']"
      ]
     },
     "metadata": {},
     "output_type": "display_data"
    }
   ],
   "source": [
    "\n",
    "sig_table = np.zeros(len(all_data.columns))\n",
    "signs_table = np.zeros(len(all_data.columns))\n",
    "significance = np.zeros(len(all_data.columns))\n",
    "sign = np.zeros(len(all_data.columns))\n",
    "purity = np.zeros(len(all_data.columns))\n",
    "\n",
    "for it in range(0,len(train_)):\n",
    "    max_pvalue = 1\n",
    "    train_index = train_[it]\n",
    "    test_index = test_[it]\n",
    "    #display(all_data.iloc[test_index].describe())\n",
    "    \n",
    "    subset = pd.concat([all_data[list(sfbs1.subsets_[position]['feature_names'])],all_data[target]],axis=1)\n",
    "    #subset = all_data.iloc[train_index].loc[:, ~all_data.columns.isin([exclude])]\n",
    "    \n",
    "    #skip y and states\n",
    "    set_ = list(sfbs1.subsets_[position]['feature_names'])\n",
    "    #set_ = subset.loc[:, ~subset.columns.isin([target])].columns.tolist()\n",
    "    \n",
    "    n=len(subset)\n",
    "    \n",
    "    while(max_pvalue>=.05):\n",
    "\n",
    "        dist = scipy.stats.beta(n/2 - 1, n/2 - 1, loc=-1, scale=2)\n",
    "        p_values = pd.DataFrame(2*dist.cdf(-abs(subset.pcorr()[target]))).T\n",
    "        p_values.columns = list(subset.columns)\n",
    "        \n",
    "        max_pname = p_values.idxmax(axis=1)[0]\n",
    "        max_pvalue = p_values[max_pname].values[0]\n",
    "        \n",
    "        if (max_pvalue > .05):\n",
    "\n",
    "            set_.remove(max_pname)\n",
    "            temp = [target]\n",
    "            temp.extend(set_)\n",
    "            subset = subset[temp]\n",
    "    \n",
    "    winners = p_values.loc[:, ~p_values.columns.isin([target])].columns.tolist()\n",
    "    sig_table = (sig_table + np.where(all_data.columns.isin(winners),1,0)).copy()\n",
    "    signs_table[all_data.columns.get_indexer(winners)]+=np.where(subset.pcorr()[target][winners]<0,-1,1)\n",
    "    \n",
    "significance = pd.DataFrame(sig_table).T\n",
    "significance.columns = list(all_data.columns)\n",
    "display(significance)\n",
    "\n",
    "sign = pd.DataFrame(signs_table).T\n",
    "sign.columns = list(all_data.columns)\n",
    "display(sign)\n",
    "\n",
    "purity = abs((sign/num_folds)*(sign/significance)).T.replace([np.inf, -np.inf, np.NaN], 0)\n",
    "display(purity.T)\n",
    "\n",
    "threshold = 0\n",
    "\n",
    "chosen = list(purity.T.columns.values[np.array(purity.T>threshold).reshape(len(all_data.columns,))])\n",
    "\n",
    "display(chosen)    "
   ]
  },
  {
   "cell_type": "code",
   "execution_count": null,
   "id": "bbff00a2-de02-46e3-9ccd-ad7b12f562b7",
   "metadata": {},
   "outputs": [],
   "source": []
  },
  {
   "cell_type": "code",
   "execution_count": null,
   "id": "1ed83fe8-c38e-4d62-bdec-8216a32b4e9f",
   "metadata": {},
   "outputs": [],
   "source": []
  },
  {
   "cell_type": "code",
   "execution_count": null,
   "id": "9f3f56aa-9607-46d1-a304-7d607c33b362",
   "metadata": {},
   "outputs": [],
   "source": []
  },
  {
   "cell_type": "code",
   "execution_count": 319,
   "id": "17d5f67e-8478-4145-89f2-c678c4e227bd",
   "metadata": {},
   "outputs": [],
   "source": [
    "dataSet = pd.concat([all_data[target],all_data[chosen]],axis=1)\n",
    "y_scaled = pd.DataFrame(scaler.transform(np.array(dataSet[target]).reshape(-1, 1)))\n",
    "y_scaled.columns=[target]"
   ]
  },
  {
   "cell_type": "code",
   "execution_count": null,
   "id": "299eb636-97a3-43e8-8be4-545d8d91611b",
   "metadata": {},
   "outputs": [],
   "source": []
  },
  {
   "cell_type": "code",
   "execution_count": 321,
   "id": "21e034cb-e569-4454-9ecc-56bd606fb9cd",
   "metadata": {},
   "outputs": [
    {
     "data": {
      "application/vnd.jupyter.widget-view+json": {
       "model_id": "7d12e34ef1404e90a2e709984afc880a",
       "version_major": 2,
       "version_minor": 0
      },
      "text/plain": [
       "Loop...:   0%|          | 0/4 [00:00<?, ?it/s]"
      ]
     },
     "metadata": {},
     "output_type": "display_data"
    }
   ],
   "source": [
    "#Importing tqdm for the progress bar\n",
    "from tqdm import tnrange, tqdm_notebook\n",
    "import itertools\n",
    "from sklearn import linear_model\n",
    "from sklearn.metrics import mean_squared_error\n",
    "\n",
    "#Initialization variables\n",
    "Y = all_data[target]\n",
    "#X = all_data.iloc[:,2:]\n",
    "X = all_data[chosen]\n",
    "k = 10\n",
    "RSS_list, R_squared_list, feature_list = [],[], []\n",
    "numb_features = []\n",
    "\n",
    "#Looping over k = 1 to k = 11 features in X\n",
    "for k in tnrange(1,len(X.columns) + 1, desc = 'Loop...'):\n",
    "\n",
    "    #Looping over all possible combinations: from 11 choose k\n",
    "    for combo in itertools.combinations(X.columns,k):\n",
    "        #display(all_data.iloc[test_index].describe())\n",
    "        tmp_result = []\n",
    "        for it in range(0,len(train_)):\n",
    "            tmp_result.append(fit_linear_reg(X[list(combo)],Y,train_[it],test_[it]))   #Store temp result )\n",
    "        \n",
    "        RSS_list.append(np.average(tmp_result,axis=0)[0])                  #Append lists\n",
    "        R_squared_list.append(np.average(tmp_result,axis=0)[1])\n",
    "        feature_list.append(combo)\n",
    "        numb_features.append(len(combo))   \n",
    "\n",
    "#Store in DataFrame\n",
    "df = pd.DataFrame({'numb_features': numb_features,'RSS': RSS_list, 'R_squared':R_squared_list,'features':feature_list})"
   ]
  },
  {
   "cell_type": "code",
   "execution_count": null,
   "id": "3c0ec11b-f7a4-4f92-9fff-2d3429fc699a",
   "metadata": {},
   "outputs": [],
   "source": []
  },
  {
   "cell_type": "code",
   "execution_count": 322,
   "id": "bf62f41c-85eb-41c4-a8de-af53a33eaf48",
   "metadata": {},
   "outputs": [],
   "source": [
    "df['min_RSS'] = df.groupby('numb_features')['RSS'].transform(min)\n",
    "df['max_R_squared'] = df.groupby('numb_features')['R_squared'].transform(max)"
   ]
  },
  {
   "cell_type": "code",
   "execution_count": null,
   "id": "250cef2d-19ca-429b-aa60-006120d15712",
   "metadata": {},
   "outputs": [],
   "source": []
  },
  {
   "cell_type": "code",
   "execution_count": 323,
   "id": "8f71b6db-cc0b-4d2c-aa22-7594d0e9dd1e",
   "metadata": {},
   "outputs": [],
   "source": [
    "df_min = df[df.groupby('numb_features')['RSS'].transform(min) == df['RSS']]\n",
    "df_max = df[df.groupby('numb_features')['R_squared'].transform(max) == df['R_squared']]\n"
   ]
  },
  {
   "cell_type": "code",
   "execution_count": 324,
   "id": "3cef2672-b6d9-4207-bdcf-7084210f044c",
   "metadata": {},
   "outputs": [
    {
     "data": {
      "text/html": [
       "<div>\n",
       "<style scoped>\n",
       "    .dataframe tbody tr th:only-of-type {\n",
       "        vertical-align: middle;\n",
       "    }\n",
       "\n",
       "    .dataframe tbody tr th {\n",
       "        vertical-align: top;\n",
       "    }\n",
       "\n",
       "    .dataframe thead th {\n",
       "        text-align: right;\n",
       "    }\n",
       "</style>\n",
       "<table border=\"1\" class=\"dataframe\">\n",
       "  <thead>\n",
       "    <tr style=\"text-align: right;\">\n",
       "      <th></th>\n",
       "      <th>numb_features</th>\n",
       "      <th>RSS</th>\n",
       "      <th>R_squared</th>\n",
       "      <th>features</th>\n",
       "      <th>min_RSS</th>\n",
       "      <th>max_R_squared</th>\n",
       "    </tr>\n",
       "  </thead>\n",
       "  <tbody>\n",
       "    <tr>\n",
       "      <th>2</th>\n",
       "      <td>1</td>\n",
       "      <td>136.404405</td>\n",
       "      <td>0.533514</td>\n",
       "      <td>(Income,)</td>\n",
       "      <td>136.404405</td>\n",
       "      <td>0.533514</td>\n",
       "    </tr>\n",
       "    <tr>\n",
       "      <th>7</th>\n",
       "      <td>2</td>\n",
       "      <td>104.298897</td>\n",
       "      <td>0.601244</td>\n",
       "      <td>(Unemployed, Income)</td>\n",
       "      <td>104.298897</td>\n",
       "      <td>0.601244</td>\n",
       "    </tr>\n",
       "    <tr>\n",
       "      <th>10</th>\n",
       "      <td>3</td>\n",
       "      <td>80.230651</td>\n",
       "      <td>0.624001</td>\n",
       "      <td>(White, Unemployed, Income)</td>\n",
       "      <td>80.230651</td>\n",
       "      <td>0.629563</td>\n",
       "    </tr>\n",
       "    <tr>\n",
       "      <th>14</th>\n",
       "      <td>4</td>\n",
       "      <td>72.401282</td>\n",
       "      <td>0.670223</td>\n",
       "      <td>(White, Unemployed, Income, Population)</td>\n",
       "      <td>72.401282</td>\n",
       "      <td>0.670223</td>\n",
       "    </tr>\n",
       "  </tbody>\n",
       "</table>\n",
       "</div>"
      ],
      "text/plain": [
       "    numb_features         RSS  R_squared  \\\n",
       "2               1  136.404405   0.533514   \n",
       "7               2  104.298897   0.601244   \n",
       "10              3   80.230651   0.624001   \n",
       "14              4   72.401282   0.670223   \n",
       "\n",
       "                                   features     min_RSS  max_R_squared  \n",
       "2                                 (Income,)  136.404405       0.533514  \n",
       "7                      (Unemployed, Income)  104.298897       0.601244  \n",
       "10              (White, Unemployed, Income)   80.230651       0.629563  \n",
       "14  (White, Unemployed, Income, Population)   72.401282       0.670223  "
      ]
     },
     "execution_count": 324,
     "metadata": {},
     "output_type": "execute_result"
    }
   ],
   "source": [
    "df_min"
   ]
  },
  {
   "cell_type": "code",
   "execution_count": null,
   "id": "a685d780-0fd5-41e1-9498-6813d00161c7",
   "metadata": {},
   "outputs": [],
   "source": []
  },
  {
   "cell_type": "code",
   "execution_count": 325,
   "id": "2a4d0f6a-3efc-4d9e-8fb5-30ff881f389d",
   "metadata": {},
   "outputs": [],
   "source": [
    "CV_parse = list(df_min[(df_min['RSS']<=(np.min(df_min['RSS'])+np.std(df_min['RSS'])))].sort_values(kind=\"quicksort\", ascending=True, by='RSS',key=abs).iloc[0]['features'])"
   ]
  },
  {
   "cell_type": "code",
   "execution_count": 326,
   "id": "9d8b9a38-5bbd-4ef2-87a3-12587ddf50d4",
   "metadata": {},
   "outputs": [
    {
     "data": {
      "text/plain": [
       "['White', 'Unemployed', 'Income', 'Population']"
      ]
     },
     "metadata": {},
     "output_type": "display_data"
    }
   ],
   "source": [
    "display(CV_parse)"
   ]
  },
  {
   "cell_type": "code",
   "execution_count": 327,
   "id": "d1c2462d-0b37-470c-983c-a47ca192f708",
   "metadata": {},
   "outputs": [],
   "source": [
    "zca_data = pd.concat([y_scaled,pd.DataFrame(zca.fit_transform(dataSet[CV_parse]),columns=CV_parse)],axis=1)"
   ]
  },
  {
   "cell_type": "code",
   "execution_count": 328,
   "id": "52687dd7-c69e-4d1b-865e-fdb78059fa44",
   "metadata": {},
   "outputs": [
    {
     "data": {
      "text/html": [
       "<div>\n",
       "<style scoped>\n",
       "    .dataframe tbody tr th:only-of-type {\n",
       "        vertical-align: middle;\n",
       "    }\n",
       "\n",
       "    .dataframe tbody tr th {\n",
       "        vertical-align: top;\n",
       "    }\n",
       "\n",
       "    .dataframe thead th {\n",
       "        text-align: right;\n",
       "    }\n",
       "</style>\n",
       "<table border=\"1\" class=\"dataframe\">\n",
       "  <thead>\n",
       "    <tr style=\"text-align: right;\">\n",
       "      <th></th>\n",
       "      <th>Poverty</th>\n",
       "      <th>White</th>\n",
       "      <th>Unemployed</th>\n",
       "      <th>Income</th>\n",
       "      <th>Population</th>\n",
       "    </tr>\n",
       "  </thead>\n",
       "  <tbody>\n",
       "    <tr>\n",
       "      <th>Poverty</th>\n",
       "      <td>1.000000</td>\n",
       "      <td>-0.603937</td>\n",
       "      <td>0.379943</td>\n",
       "      <td>-0.918181</td>\n",
       "      <td>0.359011</td>\n",
       "    </tr>\n",
       "    <tr>\n",
       "      <th>White</th>\n",
       "      <td>-0.603937</td>\n",
       "      <td>1.000000</td>\n",
       "      <td>0.229462</td>\n",
       "      <td>-0.554524</td>\n",
       "      <td>0.216820</td>\n",
       "    </tr>\n",
       "    <tr>\n",
       "      <th>Unemployed</th>\n",
       "      <td>0.379943</td>\n",
       "      <td>0.229462</td>\n",
       "      <td>1.000000</td>\n",
       "      <td>0.348857</td>\n",
       "      <td>-0.136404</td>\n",
       "    </tr>\n",
       "    <tr>\n",
       "      <th>Income</th>\n",
       "      <td>-0.918181</td>\n",
       "      <td>-0.554524</td>\n",
       "      <td>0.348857</td>\n",
       "      <td>1.000000</td>\n",
       "      <td>0.329637</td>\n",
       "    </tr>\n",
       "    <tr>\n",
       "      <th>Population</th>\n",
       "      <td>0.359011</td>\n",
       "      <td>0.216820</td>\n",
       "      <td>-0.136404</td>\n",
       "      <td>0.329637</td>\n",
       "      <td>1.000000</td>\n",
       "    </tr>\n",
       "  </tbody>\n",
       "</table>\n",
       "</div>"
      ],
      "text/plain": [
       "             Poverty     White  Unemployed    Income  Population\n",
       "Poverty     1.000000 -0.603937    0.379943 -0.918181    0.359011\n",
       "White      -0.603937  1.000000    0.229462 -0.554524    0.216820\n",
       "Unemployed  0.379943  0.229462    1.000000  0.348857   -0.136404\n",
       "Income     -0.918181 -0.554524    0.348857  1.000000    0.329637\n",
       "Population  0.359011  0.216820   -0.136404  0.329637    1.000000"
      ]
     },
     "execution_count": 328,
     "metadata": {},
     "output_type": "execute_result"
    }
   ],
   "source": [
    "zca_data.pcorr()"
   ]
  },
  {
   "cell_type": "code",
   "execution_count": 329,
   "id": "827aace5-3f19-4a70-be6d-499f6261ebbb",
   "metadata": {},
   "outputs": [
    {
     "data": {
      "text/plain": [
       "<seaborn.axisgrid.PairGrid at 0x232f36c0280>"
      ]
     },
     "execution_count": 329,
     "metadata": {},
     "output_type": "execute_result"
    },
    {
     "data": {
      "image/png": "[encoded data removed]",
      "text/plain": [
       "<Figure size 900x900 with 30 Axes>"
      ]
     },
     "metadata": {
      "needs_background": "light"
     },
     "output_type": "display_data"
    }
   ],
   "source": [
    "sns.pairplot(zca_data,kind=\"reg\", plot_kws={'line_kws':{'color':'red'}})"
   ]
  },
  {
   "cell_type": "code",
   "execution_count": null,
   "id": "37eb6479-5110-48d7-bc8b-04110de77d5c",
   "metadata": {},
   "outputs": [],
   "source": []
  },
  {
   "cell_type": "code",
   "execution_count": null,
   "id": "fced5f45-720d-48f6-9fb5-c9ac811d2c5f",
   "metadata": {},
   "outputs": [],
   "source": []
  },
  {
   "cell_type": "code",
   "execution_count": null,
   "id": "c53eaeaa-8932-4943-af7e-39b1a8d6694b",
   "metadata": {},
   "outputs": [],
   "source": []
  },
  {
   "cell_type": "code",
   "execution_count": 330,
   "id": "7fea8437-cd06-446a-a7ca-7af65761c876",
   "metadata": {},
   "outputs": [],
   "source": [
    "\n",
    "#model = sklearn.linear_model.LinearRegression()\n",
    "data_set_wConstant = statsmodels.tools.tools.add_constant(zca_data)\n",
    "y = data_set_wConstant[target]\n",
    "X = data_set_wConstant[data_set_wConstant.columns.drop(target)]\n",
    "#results = model.fit(X, y)\n",
    "model = sm.OLS(y,X)\n",
    "results = model.fit()\n",
    "fitted = results.predict(X)"
   ]
  },
  {
   "cell_type": "code",
   "execution_count": 331,
   "id": "516bc53d-7a31-4b66-959e-d5b9e049df38",
   "metadata": {},
   "outputs": [
    {
     "data": {
      "text/html": [
       "<table class=\"simpletable\">\n",
       "<caption>OLS Regression Results</caption>\n",
       "<tr>\n",
       "  <th>Dep. Variable:</th>         <td>Poverty</td>     <th>  R-squared:         </th> <td>   0.862</td>\n",
       "</tr>\n",
       "<tr>\n",
       "  <th>Model:</th>                   <td>OLS</td>       <th>  Adj. R-squared:    </th> <td>   0.850</td>\n",
       "</tr>\n",
       "<tr>\n",
       "  <th>Method:</th>             <td>Least Squares</td>  <th>  F-statistic:       </th> <td>   70.45</td>\n",
       "</tr>\n",
       "<tr>\n",
       "  <th>Date:</th>             <td>Sun, 15 Aug 2021</td> <th>  Prob (F-statistic):</th> <td>8.61e-19</td>\n",
       "</tr>\n",
       "<tr>\n",
       "  <th>Time:</th>                 <td>10:13:34</td>     <th>  Log-Likelihood:    </th> <td> -21.379</td>\n",
       "</tr>\n",
       "<tr>\n",
       "  <th>No. Observations:</th>      <td>    50</td>      <th>  AIC:               </th> <td>   52.76</td>\n",
       "</tr>\n",
       "<tr>\n",
       "  <th>Df Residuals:</th>          <td>    45</td>      <th>  BIC:               </th> <td>   62.32</td>\n",
       "</tr>\n",
       "<tr>\n",
       "  <th>Df Model:</th>              <td>     4</td>      <th>                     </th>     <td> </td>   \n",
       "</tr>\n",
       "<tr>\n",
       "  <th>Covariance Type:</th>      <td>nonrobust</td>    <th>                     </th>     <td> </td>   \n",
       "</tr>\n",
       "</table>\n",
       "<table class=\"simpletable\">\n",
       "<tr>\n",
       "       <td></td>         <th>coef</th>     <th>std err</th>      <th>t</th>      <th>P>|t|</th>  <th>[0.025</th>    <th>0.975]</th>  \n",
       "</tr>\n",
       "<tr>\n",
       "  <th>const</th>      <td> 8.743e-16</td> <td>    0.055</td> <td> 1.58e-14</td> <td> 1.000</td> <td>   -0.111</td> <td>    0.111</td>\n",
       "</tr>\n",
       "<tr>\n",
       "  <th>White</th>      <td>   -0.2840</td> <td>    0.056</td> <td>   -5.083</td> <td> 0.000</td> <td>   -0.397</td> <td>   -0.171</td>\n",
       "</tr>\n",
       "<tr>\n",
       "  <th>Unemployed</th> <td>    0.1540</td> <td>    0.056</td> <td>    2.755</td> <td> 0.008</td> <td>    0.041</td> <td>    0.267</td>\n",
       "</tr>\n",
       "<tr>\n",
       "  <th>Income</th>     <td>   -0.8688</td> <td>    0.056</td> <td>  -15.548</td> <td> 0.000</td> <td>   -0.981</td> <td>   -0.756</td>\n",
       "</tr>\n",
       "<tr>\n",
       "  <th>Population</th> <td>    0.1442</td> <td>    0.056</td> <td>    2.580</td> <td> 0.013</td> <td>    0.032</td> <td>    0.257</td>\n",
       "</tr>\n",
       "</table>\n",
       "<table class=\"simpletable\">\n",
       "<tr>\n",
       "  <th>Omnibus:</th>       <td> 2.601</td> <th>  Durbin-Watson:     </th> <td>   1.840</td>\n",
       "</tr>\n",
       "<tr>\n",
       "  <th>Prob(Omnibus):</th> <td> 0.272</td> <th>  Jarque-Bera (JB):  </th> <td>   2.357</td>\n",
       "</tr>\n",
       "<tr>\n",
       "  <th>Skew:</th>          <td> 0.442</td> <th>  Prob(JB):          </th> <td>   0.308</td>\n",
       "</tr>\n",
       "<tr>\n",
       "  <th>Kurtosis:</th>      <td> 2.409</td> <th>  Cond. No.          </th> <td>    1.01</td>\n",
       "</tr>\n",
       "</table><br/><br/>Notes:<br/>[1] Standard Errors assume that the covariance matrix of the errors is correctly specified."
      ],
      "text/plain": [
       "<class 'statsmodels.iolib.summary.Summary'>\n",
       "\"\"\"\n",
       "                            OLS Regression Results                            \n",
       "==============================================================================\n",
       "Dep. Variable:                Poverty   R-squared:                       0.862\n",
       "Model:                            OLS   Adj. R-squared:                  0.850\n",
       "Method:                 Least Squares   F-statistic:                     70.45\n",
       "Date:                Sun, 15 Aug 2021   Prob (F-statistic):           8.61e-19\n",
       "Time:                        10:13:34   Log-Likelihood:                -21.379\n",
       "No. Observations:                  50   AIC:                             52.76\n",
       "Df Residuals:                      45   BIC:                             62.32\n",
       "Df Model:                           4                                         \n",
       "Covariance Type:            nonrobust                                         \n",
       "==============================================================================\n",
       "                 coef    std err          t      P>|t|      [0.025      0.975]\n",
       "------------------------------------------------------------------------------\n",
       "const       8.743e-16      0.055   1.58e-14      1.000      -0.111       0.111\n",
       "White         -0.2840      0.056     -5.083      0.000      -0.397      -0.171\n",
       "Unemployed     0.1540      0.056      2.755      0.008       0.041       0.267\n",
       "Income        -0.8688      0.056    -15.548      0.000      -0.981      -0.756\n",
       "Population     0.1442      0.056      2.580      0.013       0.032       0.257\n",
       "==============================================================================\n",
       "Omnibus:                        2.601   Durbin-Watson:                   1.840\n",
       "Prob(Omnibus):                  0.272   Jarque-Bera (JB):                2.357\n",
       "Skew:                           0.442   Prob(JB):                        0.308\n",
       "Kurtosis:                       2.409   Cond. No.                         1.01\n",
       "==============================================================================\n",
       "\n",
       "Notes:\n",
       "[1] Standard Errors assume that the covariance matrix of the errors is correctly specified.\n",
       "\"\"\""
      ]
     },
     "execution_count": 331,
     "metadata": {},
     "output_type": "execute_result"
    }
   ],
   "source": [
    "results.summary()"
   ]
  },
  {
   "cell_type": "code",
   "execution_count": 332,
   "id": "3b119379-7f8d-469a-a77a-6c798efd2118",
   "metadata": {},
   "outputs": [
    {
     "data": {
      "text/plain": [
       "array([[<AxesSubplot:title={'center':'0'}>]], dtype=object)"
      ]
     },
     "execution_count": 332,
     "metadata": {},
     "output_type": "execute_result"
    },
    {
     "data": {
      "image/png": "[encoded data removed]",
      "text/plain": [
       "<Figure size 432x288 with 1 Axes>"
      ]
     },
     "metadata": {
      "needs_background": "light"
     },
     "output_type": "display_data"
    }
   ],
   "source": [
    "pd.DataFrame(results.get_influence().resid_studentized_internal).hist()"
   ]
  },
  {
   "cell_type": "code",
   "execution_count": 333,
   "id": "a1f6c95f-0591-4162-a007-cfcd85d5a8bf",
   "metadata": {},
   "outputs": [],
   "source": [
    "from OLS_LR_DiagnosticPlots.ModelDiagnostics import Plot"
   ]
  },
  {
   "cell_type": "code",
   "execution_count": null,
   "id": "4ee476d4-570b-4c9b-8de8-72574d0315be",
   "metadata": {},
   "outputs": [],
   "source": []
  },
  {
   "cell_type": "code",
   "execution_count": 334,
   "id": "7559c9ae-b262-4434-bb06-d4da42c8d5d1",
   "metadata": {},
   "outputs": [
    {
     "name": "stdout",
     "output_type": "stream",
     "text": [
      "Summary of Regression\n",
      ":                            OLS Regression Results                            \n",
      "==============================================================================\n",
      "Dep. Variable:                      y   R-squared:                       0.862\n",
      "Model:                            OLS   Adj. R-squared:                  0.850\n",
      "Method:                 Least Squares   F-statistic:                     70.45\n",
      "Date:                Sun, 15 Aug 2021   Prob (F-statistic):           8.61e-19\n",
      "Time:                        10:13:34   Log-Likelihood:                -21.379\n",
      "No. Observations:                  50   AIC:                             52.76\n",
      "Df Residuals:                      45   BIC:                             62.32\n",
      "Df Model:                           4                                         \n",
      "Covariance Type:            nonrobust                                         \n",
      "==============================================================================\n",
      "                 coef    std err          t      P>|t|      [0.025      0.975]\n",
      "------------------------------------------------------------------------------\n",
      "const       8.743e-16      0.055   1.58e-14      1.000      -0.111       0.111\n",
      "x1            -0.2840      0.056     -5.083      0.000      -0.397      -0.171\n",
      "x2             0.1540      0.056      2.755      0.008       0.041       0.267\n",
      "x3            -0.8688      0.056    -15.548      0.000      -0.981      -0.756\n",
      "x4             0.1442      0.056      2.580      0.013       0.032       0.257\n",
      "==============================================================================\n",
      "Omnibus:                        2.601   Durbin-Watson:                   1.840\n",
      "Prob(Omnibus):                  0.272   Jarque-Bera (JB):                2.357\n",
      "Skew:                           0.442   Prob(JB):                        0.308\n",
      "Kurtosis:                       2.409   Cond. No.                         1.01\n",
      "==============================================================================\n",
      "\n",
      "Notes:\n",
      "[1] Standard Errors assume that the covariance matrix of the errors is correctly specified.\n",
      "Diagnostic Tests of Regression\n",
      ":{\"Non_Linearity_Test\": [[\"F value\", NaN], [\"p value\", NaN]], \"Hetroskedasticity_Test\": [[\"Lagrange multiplier statistic\", 2.4640155333226774], [\"p-value\", 0.6510907520222657], [\"f-value\", 0.5831408576235959], [\"f p-value\", 0.6764221448266843]], \"Residual_Normality_Test\": [[\"Jarque-Bera\", 2.356722005528902], [\"Chi^2 two-tail prob.\", 0.3077827805530898], [\"Skew\", 0.4421961954528879], [\"Kurtosis\", 2.4091729004507]], \"MultiCollnearity_Test\": [[\"condition no\", 1.010156380978063]], \"Residual_AutoCorrelation_Test\": [[\"p value\", 1.8402468018594456]]}\n"
     ]
    },
    {
     "data": {
      "image/png": "[encoded data removed]",
      "text/plain": [
       "<Figure size 432x288 with 1 Axes>"
      ]
     },
     "metadata": {
      "needs_background": "light"
     },
     "output_type": "display_data"
    },
    {
     "data": {
      "image/png": "[encoded data removed]",
      "text/plain": [
       "<Figure size 432x288 with 1 Axes>"
      ]
     },
     "metadata": {
      "needs_background": "light"
     },
     "output_type": "display_data"
    },
    {
     "data": {
      "image/png": "[encoded data removed]",
      "text/plain": [
       "<Figure size 432x288 with 1 Axes>"
      ]
     },
     "metadata": {
      "needs_background": "light"
     },
     "output_type": "display_data"
    },
    {
     "data": {
      "image/png": "[encoded data removed]",
      "text/plain": [
       "<Figure size 432x288 with 1 Axes>"
      ]
     },
     "metadata": {
      "needs_background": "light"
     },
     "output_type": "display_data"
    }
   ],
   "source": [
    "linear_plot = Plot.LinearRegressionResidualPlot(X.values, y.values)\n",
    "lm = linear_plot.fit()\n",
    "summary, diag_res = linear_plot.diagnostic_plots(lm)\n",
    "print(\"Summary of Regression\\n:{}\".format(summary))\n",
    "print(\"Diagnostic Tests of Regression\\n:{}\".format(diag_res))\n"
   ]
  },
  {
   "cell_type": "code",
   "execution_count": 335,
   "id": "1e536ba4-9b94-4399-b9db-6a7d60961d38",
   "metadata": {},
   "outputs": [
    {
     "data": {
      "text/plain": [
       "[<matplotlib.lines.Line2D at 0x232f781eb20>]"
      ]
     },
     "execution_count": 335,
     "metadata": {},
     "output_type": "execute_result"
    },
    {
     "data": {
      "image/png": "[encoded data removed]",
      "text/plain": [
       "<Figure size 432x288 with 1 Axes>"
      ]
     },
     "metadata": {
      "needs_background": "light"
     },
     "output_type": "display_data"
    }
   ],
   "source": [
    "plt.scatter(results.fittedvalues*scaler.scale_[0] + scaler.mean_[0], y*scaler.scale_[0] + scaler.mean_[0])\n",
    "\n",
    "m, b = np.polyfit(results.fittedvalues*scaler.scale_[0] + scaler.mean_[0], y*scaler.scale_[0] + scaler.mean_[0], 1)\n",
    "plt.plot(results.fittedvalues*scaler.scale_[0] + scaler.mean_[0], m*results.fittedvalues*scaler.scale_[0] + scaler.mean_[0] + b)"
   ]
  },
  {
   "cell_type": "code",
   "execution_count": 336,
   "id": "6bf949e2-12ab-4616-a550-e10568f3256d",
   "metadata": {},
   "outputs": [
    {
     "name": "stdout",
     "output_type": "stream",
     "text": [
      "1.0000000000000007\n",
      "-4.019436694230463e-15\n"
     ]
    }
   ],
   "source": [
    "print(m)\n",
    "print(b)"
   ]
  },
  {
   "cell_type": "code",
   "execution_count": null,
   "id": "4faf1af9-6e84-4f2e-807b-feac48b84bfb",
   "metadata": {},
   "outputs": [],
   "source": []
  },
  {
   "cell_type": "code",
   "execution_count": 337,
   "id": "e98154e6-176f-4d70-a8dd-9d6931a89bff",
   "metadata": {},
   "outputs": [
    {
     "name": "stdout",
     "output_type": "stream",
     "text": [
      "MAE: -0.353\n",
      "Config: {'alpha': 0.1, 'l1_ratio': 0.0}\n"
     ]
    }
   ],
   "source": [
    "from sklearn.model_selection import GridSearchCV\n",
    "from sklearn.model_selection import RepeatedKFold\n",
    "from sklearn.linear_model import ElasticNet\n",
    "from numpy import *\n",
    "model = ElasticNet()\n",
    "# define model evaluation method\n",
    "cv = RepeatedKFold(n_splits=10, n_repeats=1, random_state=1)\n",
    "# define grid\n",
    "grid = dict()\n",
    "grid['alpha'] = [1e-5, 1e-4, 1e-3, 1e-2, 1e-1, 0.0, 1.0, 10.0, 100.0]\n",
    "grid['l1_ratio'] = arange(0, 1, 0.01)\n",
    "# define search\n",
    "search = GridSearchCV(model, grid, scoring='neg_mean_absolute_error', cv=cv, n_jobs=-1)\n",
    "# perform the search\n",
    "#ENresults = search.fit(X[.loc[:, ~X.columns.isin(['const'])], y)\n",
    "#ENfitted = ENresults.predict(X.loc[:, ~X.columns.isin(['const'])])\n",
    "ENresults = search.fit(all_data[CV_parse], y)\n",
    "ENfitted = ENresults.predict(all_data[CV_parse])\n",
    "\n",
    "# summarize\n",
    "print('MAE: %.3f' % ENresults.best_score_)\n",
    "print('Config: %s' % ENresults.best_params_)"
   ]
  },
  {
   "cell_type": "code",
   "execution_count": 338,
   "id": "1857156d-3db2-4809-933a-70fa56d3ba84",
   "metadata": {},
   "outputs": [
    {
     "data": {
      "text/plain": [
       "[<matplotlib.lines.Line2D at 0x232f76e0130>]"
      ]
     },
     "execution_count": 338,
     "metadata": {},
     "output_type": "execute_result"
    },
    {
     "data": {
      "image/png": "[encoded data removed]",
      "text/plain": [
       "<Figure size 432x288 with 1 Axes>"
      ]
     },
     "metadata": {
      "needs_background": "light"
     },
     "output_type": "display_data"
    }
   ],
   "source": [
    "#ENfitted = ENresults.predict(X.loc[:, ~X.columns.isin(['const'])])\n",
    "ENfitted = ENresults.predict(all_data[CV_parse])\n",
    "plt.scatter(ENfitted*scaler.scale_[0] + scaler.mean_[0],y*scaler.scale_[0] + scaler.mean_[0])\n",
    "m, b = np.polyfit(ENfitted*scaler.scale_[0] + scaler.mean_[0], y*scaler.scale_[0] + scaler.mean_[0], 1)\n",
    "plt.plot(ENfitted*scaler.scale_[0] + scaler.mean_[0], m*ENfitted*scaler.scale_[0] + scaler.mean_[0] + b)"
   ]
  },
  {
   "cell_type": "code",
   "execution_count": 339,
   "id": "1779ec8e-f152-4f13-9fe7-299d8c0ca2f3",
   "metadata": {},
   "outputs": [],
   "source": [
    "\n",
    "# ransac regression on a dataset with outliers\n",
    "import pandas as pd\n",
    "from random import random\n",
    "from random import randint\n",
    "from random import seed\n",
    "from numpy import arange\n",
    "from numpy import mean\n",
    "from numpy import std\n",
    "from numpy import absolute\n",
    "from sklearn.datasets import make_regression\n",
    "from sklearn.linear_model import RANSACRegressor\n",
    "from sklearn.model_selection import cross_val_score\n",
    "from sklearn.model_selection import RepeatedKFold\n",
    "from matplotlib import pyplot\n",
    "\n",
    "# evaluate a model\n",
    "def evaluate_model(X, y, model):\n",
    "\t# define model evaluation method\n",
    "\tcv = RepeatedKFold(n_splits=10, n_repeats=1, random_state=1)\n",
    "\t# evaluate model\n",
    "\tscores = cross_val_score(model, X, y, scoring='neg_mean_absolute_error', cv=cv, n_jobs=-1)\n",
    "\t# force scores to be positive\n",
    "\treturn absolute(scores)\n",
    "\n",
    "# plot the dataset and the model's line of best fit\n",
    "def plot_best_fit(X, y, model):\n",
    "\t# fut the model on all data\n",
    "\tmodel.fit(X, y)\n",
    "\t# plot the dataset\n",
    "\tpyplot.scatter(X, y)\n",
    "\t# plot the line of best fit\n",
    "\txaxis = arange(X.min(), X.max(), 0.01)\n",
    "\tyaxis = model.predict(xaxis.reshape((len(xaxis), 1)))\n",
    "\tpyplot.plot(xaxis, yaxis, color='r')\n",
    "\t# show the plot\n",
    "\tpyplot.title(type(model).__name__)\n",
    "\tpyplot.show()\n",
    "\n",
    "\n"
   ]
  },
  {
   "cell_type": "code",
   "execution_count": null,
   "id": "4daddcbf-634b-4a27-b7f0-137dcf37b4fd",
   "metadata": {},
   "outputs": [],
   "source": []
  },
  {
   "cell_type": "code",
   "execution_count": 340,
   "id": "2fc8d8ec-72ea-408e-936e-36f6dc07bc16",
   "metadata": {},
   "outputs": [
    {
     "name": "stdout",
     "output_type": "stream",
     "text": [
      "Mean MAE: 0.391 (0.071)\n"
     ]
    },
    {
     "data": {
      "image/png": "[encoded data removed]",
      "text/plain": [
       "<Figure size 432x288 with 1 Axes>"
      ]
     },
     "metadata": {
      "needs_background": "light"
     },
     "output_type": "display_data"
    }
   ],
   "source": [
    "# define the model\n",
    "model = RANSACRegressor()\n",
    "# evaluate model\n",
    "#Rresults = evaluate_model(X.loc[:, ~X.columns.isin(['const'])], y, model)\n",
    "Rresults = evaluate_model(all_data[CV_parse], y, model)\n",
    "print('Mean MAE: %.3f (%.3f)' % (mean(Rresults), std(Rresults)))\n",
    "# plot the line of best fit\n",
    "Rresults = model.fit(all_data[CV_parse],y)\n",
    "RFitted = Rresults.predict(all_data[CV_parse])\n",
    "plot_best_fit(RFitted.reshape(-1, 1)*scaler.scale_[0] + scaler.mean_[0],y*scaler.scale_[0] + scaler.mean_[0], model)"
   ]
  },
  {
   "cell_type": "code",
   "execution_count": null,
   "id": "9a18a2e1-15f2-42ed-8f69-3e71b3b31049",
   "metadata": {},
   "outputs": [],
   "source": []
  },
  {
   "cell_type": "code",
   "execution_count": 345,
   "id": "15cd2249-4553-4c65-804d-12cee40b2724",
   "metadata": {},
   "outputs": [
    {
     "name": "stdout",
     "output_type": "stream",
     "text": [
      "OLS: 6.8846403927757125\n",
      "EN: 6.890341427114508\n",
      "EN parse: 1.1094170759147755\n",
      "['White' 'Traf Deaths' 'University' 'Unemployed' 'Income' 'Population']\n",
      "EN best: 1.4752100596461704\n",
      "Robust: 7.3805979777408295\n"
     ]
    }
   ],
   "source": [
    "print(\"OLS: \" + str(mean_squared_error(y,fitted) * len(y)))\n",
    "print(\"EN: \" + str(mean_squared_error(y,ENfitted) * len(y)))\n",
    "print(\"EN parse: \" + str(mean_squared_error(all_data[target], model1.predict(all_data[parse['features']]))))\n",
    "print(parse['features'])\n",
    "print(\"EN best: \" + str(mean_squared_error(all_data[target], model2.predict(all_data[best['features']]))))\n",
    "print(\"Robust: \" + str(mean_squared_error(y,RFitted) * len(y)))"
   ]
  }
 ],
 "metadata": {
  "kernelspec": {
   "display_name": "Python 3 (ipykernel)",
   "language": "python",
   "name": "python3"
  },
  "language_info": {
   "codemirror_mode": {
    "name": "ipython",
    "version": 3
   },
   "file_extension": ".py",
   "mimetype": "text/x-python",
   "name": "python",
   "nbconvert_exporter": "python",
   "pygments_lexer": "ipython3",
   "version": "3.9.6"
  }
 },
 "nbformat": 4,
 "nbformat_minor": 5
}
