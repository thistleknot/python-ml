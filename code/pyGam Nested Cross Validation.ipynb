{
 "cells": [
  {
   "cell_type": "code",
   "execution_count": 1,
   "id": "21837827-a151-4377-9023-b0435398870c",
   "metadata": {},
   "outputs": [],
   "source": [
    "\n",
    "from matplotlib import pyplot\n",
    "import matplotlib.pyplot as plt\n",
    "\n",
    "from mlxtend.feature_selection import SequentialFeatureSelector as SFS\n",
    "from mlxtend.plotting import plot_sequential_feature_selection as plot_sfs\n",
    "\n",
    "from numpy import *\n",
    "\n",
    "import numpy as np\n",
    "from numpy import mean\n",
    "from numpy import absolute\n",
    "from numpy import arange\n",
    "from numpy import mean\n",
    "from numpy import std\n",
    "from numpy.random import seed\n",
    "\n",
    "from OLS_LR_DiagnosticPlots.ModelDiagnostics import Plot\n",
    "\n",
    "import pandas as pd  \n",
    "from pandas import read_csv\n",
    "\n",
    "import pygam\n",
    "from pygam import ExpectileGAM\n",
    "from pygam import LinearGAM\n",
    "from pygam import LogisticGAM\n",
    "from pygam.datasets import mcycle\n",
    "\n",
    "from random import randint\n",
    "from random import random\n",
    "from random import seed\n",
    "\n",
    "import seaborn as sns\n",
    "\n",
    "import scipy\n",
    "from scipy import stats # For in-built method to get PCC\n",
    "\n",
    "from sklearn.datasets import make_classification\n",
    "from sklearn.model_selection import KFold\n",
    "from sklearn.model_selection import GridSearchCV\n",
    "from sklearn.ensemble import RandomForestClassifier\n",
    "from sklearn.metrics import accuracy_score\n",
    "import sklearn\n",
    "#from sklearn.datasets import load_breast_cancer\n",
    "import sklearn.linear_model\n",
    "from sklearn import linear_model\n",
    "from sklearn.base import BaseEstimator, TransformerMixin\n",
    "from sklearn.compose import TransformedTargetRegressor\n",
    "from sklearn.datasets import load_boston\n",
    "from sklearn.datasets import make_regression\n",
    "from sklearn.decomposition import PCA\n",
    "from sklearn.ensemble import RandomForestRegressor, IsolationForest\n",
    "from sklearn.linear_model import ElasticNet, ElasticNetCV, LinearRegression\n",
    "from sklearn.linear_model import RANSACRegressor\n",
    "from sklearn.metrics import accuracy_score as acc\n",
    "from sklearn.metrics import mean_squared_error\n",
    "from sklearn.model_selection import GridSearchCV, KFold, cross_val_score, RepeatedKFold, train_test_split\n",
    "from sklearn.pipeline import FeatureUnion, Pipeline, make_pipeline\n",
    "from sklearn.pipeline import Pipeline\n",
    "from sklearn.preprocessing import *\n",
    "\n",
    "import statsmodels.api as sm\n",
    "import statsmodels.tools\n",
    "from statsmodels.stats.outliers_influence import OLSInfluence\n",
    "\n",
    "from tqdm import tnrange, tqdm_notebook\n",
    "from zca import zca\n",
    "\n",
    "import itertools\n",
    "import matplotlib.pyplot as plt\n",
    "import mlxtend\n",
    "import numpy as np\n",
    "import pandas as pd\n",
    "import pingouin as pg\n",
    "\n",
    "import random\n",
    "\n",
    "import sys\n",
    "\n",
    "#if not sys.warnoptions:\n",
    "#    import warnings\n",
    "#    warnings.simplefilter(\"ignore\")\n",
    "\n",
    "import warnings\n",
    "warnings.filterwarnings('ignore')\n"
   ]
  },
  {
   "cell_type": "code",
   "execution_count": 2,
   "id": "dcaa266a-56c8-480c-bffd-7b103de65d7b",
   "metadata": {},
   "outputs": [],
   "source": [
    "#!/usr/bin/python\n",
    "# -*- coding: utf-8 -*-\n",
    "\n",
    "# ------------------------------------\n",
    "# file: zca.py\n",
    "# date: Thu May 21 15:47 2015\n",
    "# author:\n",
    "# Maarten Versteegh\n",
    "# github.com/mwv\n",
    "# maartenversteegh AT gmail DOT com\n",
    "#\n",
    "# Licensed under GPLv3\n",
    "# ------------------------------------\n",
    "\"\"\"zca: ZCA whitening with a sklearn-like interface\n",
    "\n",
    "\"\"\"\n",
    "\n",
    "from __future__ import division\n",
    "\n",
    "import numpy as np\n",
    "from scipy import linalg\n",
    "\n",
    "from sklearn.base import TransformerMixin, BaseEstimator\n",
    "from sklearn.utils.validation import check_is_fitted\n",
    "from sklearn.utils import check_array, as_float_array\n",
    "\n",
    "class ZCA(BaseEstimator, TransformerMixin):\n",
    "    def __init__(self, regularization=1e-6, copy=False):\n",
    "        self.regularization = regularization\n",
    "        self.copy = copy\n",
    "\n",
    "    def fit(self, X, y=None):\n",
    "        \"\"\"Compute the mean, whitening and dewhitening matrices.\n",
    "\n",
    "        Parameters\n",
    "        ----------\n",
    "        X : array-like with shape [n_samples, n_features]\n",
    "            The data used to compute the mean, whitening and dewhitening\n",
    "            matrices.\n",
    "        \"\"\"\n",
    "        X = check_array(X, accept_sparse=None, copy=self.copy,\n",
    "                        ensure_2d=True)\n",
    "        X = as_float_array(X, copy=self.copy)\n",
    "        self.mean_ = X.mean(axis=0)\n",
    "        X_ = X - self.mean_\n",
    "        cov = np.dot(X_.T, X_) / (X_.shape[0]-1)\n",
    "        U, S, _ = linalg.svd(cov)\n",
    "        s = np.sqrt(S.clip(self.regularization))\n",
    "        s_inv = np.diag(1./s)\n",
    "        s = np.diag(s)\n",
    "        self.whiten_ = np.dot(np.dot(U, s_inv), U.T)\n",
    "        self.dewhiten_ = np.dot(np.dot(U, s), U.T)\n",
    "        return self\n",
    "\n",
    "    def transform(self, X, y=None, copy=None):\n",
    "        \"\"\"Perform ZCA whitening\n",
    "\n",
    "        Parameters\n",
    "        ----------\n",
    "        X : array-like with shape [n_samples, n_features]\n",
    "            The data to whiten along the features axis.\n",
    "        \"\"\"\n",
    "        check_is_fitted(self, 'mean_')\n",
    "        X = as_float_array(X, copy=self.copy)\n",
    "        return np.dot(X - self.mean_, self.whiten_.T)\n",
    "\n",
    "    def inverse_transform(self, X, copy=None):\n",
    "        \"\"\"Undo the ZCA transform and rotate back to the original\n",
    "        representation\n",
    "\n",
    "        Parameters\n",
    "        ----------\n",
    "        X : array-like with shape [n_samples, n_features]\n",
    "            The data to rotate back.\n",
    "        \"\"\"\n",
    "        check_is_fitted(self, 'mean_')\n",
    "        X = as_float_array(X, copy=self.copy)\n",
    "        return np.dot(X, self.dewhiten_) + self.mean_\n"
   ]
  },
  {
   "cell_type": "code",
   "execution_count": 3,
   "id": "6710bda9-380a-4f65-b6ec-3f0d397a6e2b",
   "metadata": {},
   "outputs": [],
   "source": [
    "#np.array(X.iloc[:, 0:])"
   ]
  },
  {
   "cell_type": "code",
   "execution_count": 4,
   "id": "eda21a98-f8a8-4a6b-b47c-4b803edf7eef",
   "metadata": {},
   "outputs": [
    {
     "data": {
      "text/html": [
       "<div>\n",
       "<style scoped>\n",
       "    .dataframe tbody tr th:only-of-type {\n",
       "        vertical-align: middle;\n",
       "    }\n",
       "\n",
       "    .dataframe tbody tr th {\n",
       "        vertical-align: top;\n",
       "    }\n",
       "\n",
       "    .dataframe thead th {\n",
       "        text-align: right;\n",
       "    }\n",
       "</style>\n",
       "<table border=\"1\" class=\"dataframe\">\n",
       "  <thead>\n",
       "    <tr style=\"text-align: right;\">\n",
       "      <th></th>\n",
       "      <th>Poverty</th>\n",
       "      <th>Infant Mort</th>\n",
       "      <th>White</th>\n",
       "      <th>Crime</th>\n",
       "      <th>Doctors</th>\n",
       "      <th>Traf Deaths</th>\n",
       "      <th>University</th>\n",
       "      <th>Unemployed</th>\n",
       "      <th>Income</th>\n",
       "      <th>Population</th>\n",
       "    </tr>\n",
       "  </thead>\n",
       "  <tbody>\n",
       "    <tr>\n",
       "      <th>count</th>\n",
       "      <td>50.000000</td>\n",
       "      <td>50.000000</td>\n",
       "      <td>50.00000</td>\n",
       "      <td>50.000000</td>\n",
       "      <td>50.000000</td>\n",
       "      <td>50.00000</td>\n",
       "      <td>50.000000</td>\n",
       "      <td>50.000000</td>\n",
       "      <td>50.000000</td>\n",
       "      <td>5.000000e+01</td>\n",
       "    </tr>\n",
       "    <tr>\n",
       "      <th>mean</th>\n",
       "      <td>12.732000</td>\n",
       "      <td>6.830000</td>\n",
       "      <td>81.96200</td>\n",
       "      <td>407.480000</td>\n",
       "      <td>260.276000</td>\n",
       "      <td>1.40440</td>\n",
       "      <td>26.940000</td>\n",
       "      <td>5.270000</td>\n",
       "      <td>51985.100000</td>\n",
       "      <td>6.016154e+06</td>\n",
       "    </tr>\n",
       "    <tr>\n",
       "      <th>std</th>\n",
       "      <td>2.939002</td>\n",
       "      <td>1.338786</td>\n",
       "      <td>11.97458</td>\n",
       "      <td>183.633868</td>\n",
       "      <td>64.363415</td>\n",
       "      <td>0.38654</td>\n",
       "      <td>4.761152</td>\n",
       "      <td>1.253933</td>\n",
       "      <td>8592.657934</td>\n",
       "      <td>6.663772e+06</td>\n",
       "    </tr>\n",
       "    <tr>\n",
       "      <th>min</th>\n",
       "      <td>7.600000</td>\n",
       "      <td>4.700000</td>\n",
       "      <td>29.70000</td>\n",
       "      <td>118.000000</td>\n",
       "      <td>168.800000</td>\n",
       "      <td>0.76000</td>\n",
       "      <td>17.100000</td>\n",
       "      <td>3.000000</td>\n",
       "      <td>37790.000000</td>\n",
       "      <td>5.232260e+05</td>\n",
       "    </tr>\n",
       "    <tr>\n",
       "      <th>25%</th>\n",
       "      <td>10.450000</td>\n",
       "      <td>5.725000</td>\n",
       "      <td>76.15000</td>\n",
       "      <td>278.250000</td>\n",
       "      <td>218.425000</td>\n",
       "      <td>1.14000</td>\n",
       "      <td>24.025000</td>\n",
       "      <td>4.400000</td>\n",
       "      <td>46161.250000</td>\n",
       "      <td>1.779632e+06</td>\n",
       "    </tr>\n",
       "    <tr>\n",
       "      <th>50%</th>\n",
       "      <td>12.400000</td>\n",
       "      <td>6.850000</td>\n",
       "      <td>84.55000</td>\n",
       "      <td>345.500000</td>\n",
       "      <td>249.050000</td>\n",
       "      <td>1.37500</td>\n",
       "      <td>26.200000</td>\n",
       "      <td>5.300000</td>\n",
       "      <td>50173.000000</td>\n",
       "      <td>4.313980e+06</td>\n",
       "    </tr>\n",
       "    <tr>\n",
       "      <th>75%</th>\n",
       "      <td>14.700000</td>\n",
       "      <td>7.750000</td>\n",
       "      <td>89.85000</td>\n",
       "      <td>520.000000</td>\n",
       "      <td>274.800000</td>\n",
       "      <td>1.62000</td>\n",
       "      <td>29.825000</td>\n",
       "      <td>6.275000</td>\n",
       "      <td>56903.000000</td>\n",
       "      <td>6.490796e+06</td>\n",
       "    </tr>\n",
       "    <tr>\n",
       "      <th>max</th>\n",
       "      <td>21.200000</td>\n",
       "      <td>10.600000</td>\n",
       "      <td>96.40000</td>\n",
       "      <td>788.000000</td>\n",
       "      <td>469.000000</td>\n",
       "      <td>2.45000</td>\n",
       "      <td>38.100000</td>\n",
       "      <td>8.400000</td>\n",
       "      <td>70545.000000</td>\n",
       "      <td>3.618591e+07</td>\n",
       "    </tr>\n",
       "  </tbody>\n",
       "</table>\n",
       "</div>"
      ],
      "text/plain": [
       "         Poverty  Infant Mort     White       Crime     Doctors  Traf Deaths  \\\n",
       "count  50.000000    50.000000  50.00000   50.000000   50.000000     50.00000   \n",
       "mean   12.732000     6.830000  81.96200  407.480000  260.276000      1.40440   \n",
       "std     2.939002     1.338786  11.97458  183.633868   64.363415      0.38654   \n",
       "min     7.600000     4.700000  29.70000  118.000000  168.800000      0.76000   \n",
       "25%    10.450000     5.725000  76.15000  278.250000  218.425000      1.14000   \n",
       "50%    12.400000     6.850000  84.55000  345.500000  249.050000      1.37500   \n",
       "75%    14.700000     7.750000  89.85000  520.000000  274.800000      1.62000   \n",
       "max    21.200000    10.600000  96.40000  788.000000  469.000000      2.45000   \n",
       "\n",
       "       University  Unemployed        Income    Population  \n",
       "count   50.000000   50.000000     50.000000  5.000000e+01  \n",
       "mean    26.940000    5.270000  51985.100000  6.016154e+06  \n",
       "std      4.761152    1.253933   8592.657934  6.663772e+06  \n",
       "min     17.100000    3.000000  37790.000000  5.232260e+05  \n",
       "25%     24.025000    4.400000  46161.250000  1.779632e+06  \n",
       "50%     26.200000    5.300000  50173.000000  4.313980e+06  \n",
       "75%     29.825000    6.275000  56903.000000  6.490796e+06  \n",
       "max     38.100000    8.400000  70545.000000  3.618591e+07  "
      ]
     },
     "execution_count": 4,
     "metadata": {},
     "output_type": "execute_result"
    }
   ],
   "source": [
    "\n",
    "df = pd.read_csv(\"https://raw.githubusercontent.com/thistleknot/Python-Stock/master/data/raw/states.csv\").set_index('States')\n",
    "\n",
    "target = \"Poverty\"\n",
    "y = df[[target]]\n",
    "X = df.loc[:, ~df.columns.isin([\"States\",target])].copy()\n",
    "\n",
    "df.describe()"
   ]
  },
  {
   "cell_type": "code",
   "execution_count": null,
   "id": "6b54d937-bc1b-4237-baf6-e2ae63b59b94",
   "metadata": {},
   "outputs": [],
   "source": []
  },
  {
   "cell_type": "code",
   "execution_count": null,
   "id": "7109f392-3603-47b7-ba28-431c2648785f",
   "metadata": {},
   "outputs": [],
   "source": []
  },
  {
   "cell_type": "code",
   "execution_count": 26,
   "id": "ac5ced4e-29dc-4360-afb9-772295e9461a",
   "metadata": {},
   "outputs": [],
   "source": [
    "from tqdm import tnrange, tqdm_notebook\n",
    "\n",
    "cv_outer = KFold(n_splits=10, shuffle=True, random_state=1)\n",
    "cv_inner = KFold(n_splits=10, shuffle=True, random_state=1)\n",
    "\n",
    "#Initialization variables\n",
    "\n",
    "k = len(X.columns)\n",
    "\n",
    "terms = list()\n",
    "#Looping over k = 1 to k = 11 features in X\n",
    "for k in range(1,len(X.columns)):\n",
    "\n",
    "    #Looping over all possible combinations: from 11 choose k\n",
    "    for combo in itertools.combinations(X.columns,k):\n",
    "        terms.append(list(combo))\n",
    "        "
   ]
  },
  {
   "cell_type": "code",
   "execution_count": 27,
   "id": "56412f2a-d3cc-495a-91a5-a7846521003b",
   "metadata": {},
   "outputs": [],
   "source": [
    "#terms=[['Income'],['Income','Population']]"
   ]
  },
  {
   "cell_type": "code",
   "execution_count": 28,
   "id": "1175bf9e-a7a2-4981-b592-445b015b753b",
   "metadata": {},
   "outputs": [
    {
     "data": {
      "application/vnd.jupyter.widget-view+json": {
       "model_id": "6253306f78684b3ba0cfa93926df5b06",
       "version_major": 2,
       "version_minor": 0
      },
      "text/plain": [
       "Loop...:   0%|          | 0/2 [00:00<?, ?it/s]"
      ]
     },
     "metadata": {},
     "output_type": "display_data"
    },
    {
     "name": "stdout",
     "output_type": "stream",
     "text": [
      "['Income']\n",
      "['Income', 'Population']\n"
     ]
    }
   ],
   "source": [
    "\n",
    "outer_scores = []        \n",
    "\n",
    "#good juncture to fork\n",
    "for t_ in tnrange(0,len(terms), desc = 'Loop...'):\n",
    "    t=terms[t_]\n",
    "    print(t)\n",
    "\n",
    "    subX = X[t]\n",
    "    \n",
    "    outer_results = list()\n",
    "    \n",
    "    for trainv_ix, test_ix in cv_outer.split(subX):\n",
    "        # split data\n",
    "        X_trainv, X_test = subX.iloc[trainv_ix], subX.iloc[test_ix, :]\n",
    "        y_trainv, y_test = y.iloc[trainv_ix], y.iloc[test_ix]\n",
    "\n",
    "        inner_results = list()\n",
    "        inner_models = list()\n",
    "        \n",
    "        #good juncture to fork locally\n",
    "        for train_ix, valid_ix in cv_inner.split(X_trainv):\n",
    "            # split data\n",
    "            X_train, X_valid = X_trainv.iloc[train_ix, :], X_trainv.iloc[valid_ix, :]\n",
    "            y_train, y_valid = y_trainv.iloc[train_ix], y_trainv.iloc[valid_ix]\n",
    "\n",
    "            gam = LinearGAM().fit(X_train[t],y_train)\n",
    "            inner_models.append(gam)\n",
    "            \n",
    "            yhat = gam.predict(X_valid[t])\n",
    "            # evaluate the model\n",
    "            acc = np.mean(abs(y_valid.values.ravel()-yhat))\n",
    "            # store the result\n",
    "            inner_results.append(acc)\n",
    "            # report progress\n",
    "            #print('>acc=%.3f, est=%.3f, cfg=%s' % (acc, result.best_score_, result.best_params_))\n",
    "            # summarize the estimated performance of the model\n",
    "        \n",
    "        #good juncture to fork locally\n",
    "        model_scores = list()\n",
    "        \n",
    "        #test inner model as ansemble\n",
    "        for m in inner_models:\n",
    "            model_scores.append(np.mean(abs(m.predict(X_test)-y_test.values.ravel())))\n",
    "            \n",
    "        #average internal model results and report as outer_result which*\n",
    "        outer_results.append(np.mean(np.abs(model_scores)))\n",
    "\n",
    "        #print('I Accuracy: %.3f (%.3f)' % (mean(inner_results), std(inner_results)))\n",
    "        \n",
    "    #*will in turn be averaged over all folds to determine that combination of term's outer score (real world performance, which will be our model evaluating metric).\n",
    "    score = [mean(outer_results), std(outer_results)]\n",
    "    outer_scores.append([t,score])\n",
    "    #print('O Accuracy: %.3f (%.3f)' % (score[0], score[1]))"
   ]
  },
  {
   "cell_type": "code",
   "execution_count": 30,
   "id": "2be0e048-2696-4b73-ac8f-e2b159e44c93",
   "metadata": {},
   "outputs": [
    {
     "data": {
      "text/html": [
       "<div>\n",
       "<style scoped>\n",
       "    .dataframe tbody tr th:only-of-type {\n",
       "        vertical-align: middle;\n",
       "    }\n",
       "\n",
       "    .dataframe tbody tr th {\n",
       "        vertical-align: top;\n",
       "    }\n",
       "\n",
       "    .dataframe thead th {\n",
       "        text-align: right;\n",
       "    }\n",
       "</style>\n",
       "<table border=\"1\" class=\"dataframe\">\n",
       "  <thead>\n",
       "    <tr style=\"text-align: right;\">\n",
       "      <th></th>\n",
       "      <th>O Score</th>\n",
       "      <th>Std</th>\n",
       "      <th>Terms</th>\n",
       "    </tr>\n",
       "  </thead>\n",
       "  <tbody>\n",
       "    <tr>\n",
       "      <th>0</th>\n",
       "      <td>1.286990</td>\n",
       "      <td>0.330296</td>\n",
       "      <td>[Income]</td>\n",
       "    </tr>\n",
       "    <tr>\n",
       "      <th>1</th>\n",
       "      <td>1.107419</td>\n",
       "      <td>0.407158</td>\n",
       "      <td>[Income, Population]</td>\n",
       "    </tr>\n",
       "  </tbody>\n",
       "</table>\n",
       "</div>"
      ],
      "text/plain": [
       "    O Score       Std                 Terms\n",
       "0  1.286990  0.330296              [Income]\n",
       "1  1.107419  0.407158  [Income, Population]"
      ]
     },
     "execution_count": 30,
     "metadata": {},
     "output_type": "execute_result"
    }
   ],
   "source": [
    "results"
   ]
  },
  {
   "cell_type": "code",
   "execution_count": 23,
   "id": "5420e3eb-69c3-48f9-9dbb-89edd414cfea",
   "metadata": {},
   "outputs": [],
   "source": [
    "results = pd.concat([pd.DataFrame([item[1] for item in outer_scores],columns=['O Score','Std']),pd.DataFrame(pd.Series([item[0] for item in outer_scores]),columns=['Terms'])],axis=1)"
   ]
  },
  {
   "cell_type": "code",
   "execution_count": 24,
   "id": "a89eafe2-1fbb-4a8a-a5e5-351ebc257659",
   "metadata": {},
   "outputs": [
    {
     "data": {
      "text/plain": [
       "[<matplotlib.lines.Line2D at 0x1a79c9abf70>]"
      ]
     },
     "execution_count": 24,
     "metadata": {},
     "output_type": "execute_result"
    },
    {
     "data": {
      "image/png": "[encoded data removed]",
      "text/plain": [
       "<Figure size 432x288 with 1 Axes>"
      ]
     },
     "metadata": {
      "needs_background": "light"
     },
     "output_type": "display_data"
    }
   ],
   "source": [
    "plt.plot(results['O Score'])"
   ]
  },
  {
   "cell_type": "code",
   "execution_count": 9,
   "id": "47ac110e-e050-46f9-9aa3-c739f84abbf5",
   "metadata": {},
   "outputs": [
    {
     "data": {
      "text/plain": [
       "[<matplotlib.lines.Line2D at 0x1a79b73dfd0>]"
      ]
     },
     "execution_count": 9,
     "metadata": {},
     "output_type": "execute_result"
    },
    {
     "data": {
      "image/png": "[encoded data removed]",
      "text/plain": [
       "<Figure size 432x288 with 1 Axes>"
      ]
     },
     "metadata": {
      "needs_background": "light"
     },
     "output_type": "display_data"
    }
   ],
   "source": [
    "plt.plot(results['Std'])"
   ]
  },
  {
   "cell_type": "code",
   "execution_count": 10,
   "id": "0bee1225-1777-4dc9-ba31-6d8f856e073d",
   "metadata": {},
   "outputs": [
    {
     "data": {
      "text/plain": [
       "['Doctors', 'University', 'Income']"
      ]
     },
     "execution_count": 10,
     "metadata": {},
     "output_type": "execute_result"
    }
   ],
   "source": [
    "best_terms = results.loc[np.argmin(results['O Score'])]['Terms']\n",
    "best_terms"
   ]
  },
  {
   "cell_type": "code",
   "execution_count": 11,
   "id": "5655f5a7-234c-44a2-a72d-76d2c4fc83e8",
   "metadata": {},
   "outputs": [],
   "source": [
    "zca = ZCA()\n",
    "#zca.fit(X[best_terms])\n",
    "final_gam = LinearGAM().fit(zca.fit_transform(X[best_terms]),y)"
   ]
  },
  {
   "cell_type": "code",
   "execution_count": null,
   "id": "9d5a1b01-d621-4b49-bd39-b30d8924325c",
   "metadata": {},
   "outputs": [],
   "source": []
  },
  {
   "cell_type": "code",
   "execution_count": null,
   "id": "8b794f6d-c052-4e18-9778-0d52bfc95787",
   "metadata": {},
   "outputs": [],
   "source": []
  },
  {
   "cell_type": "code",
   "execution_count": 12,
   "id": "665fc06e-a7e4-486f-83c4-7792dacfabf8",
   "metadata": {},
   "outputs": [
    {
     "data": {
      "text/plain": [
       "{'n_samples': 50,\n",
       " 'm_features': 3,\n",
       " 'edof_per_coef': array([0.43413643, 0.45022252, 0.58970679, 0.43619635, 0.51780166,\n",
       "        0.60722596, 0.59774582, 0.65696742, 0.63925967, 0.60310846,\n",
       "        0.68771963, 0.40309429, 0.33173627, 0.61384968, 0.44660851,\n",
       "        0.59106201, 0.28053887, 0.52757471, 0.38461989, 0.18747803,\n",
       "        0.39023817, 0.27986171, 0.21200715, 0.38475888, 0.37565831,\n",
       "        0.37806121, 0.37051271, 0.4549434 , 0.34368472, 0.39913348,\n",
       "        0.52267058, 0.28813687, 0.27292883, 0.2744566 , 0.25442003,\n",
       "        0.07702547, 0.16413055, 0.07630959, 0.22757501, 0.06687247,\n",
       "        0.12387353, 0.13181261, 0.17061852, 0.11205949, 0.2118024 ,\n",
       "        0.1164983 , 0.15035028, 0.2367647 , 0.10026358, 0.0417783 ]),\n",
       " 'edof': 17.195860411669106,\n",
       " 'scale': 2.0900077136952806,\n",
       " 'cov': array([[ 0.06434237, -0.05887894, -0.09429515, ...,  0.04254752,\n",
       "          0.0030518 ,  0.00504604],\n",
       "        [-0.05887894,  0.16374224,  0.22854551, ...,  0.00297693,\n",
       "         -0.03753423,  0.00057858],\n",
       "        [-0.09429515,  0.22854551,  0.39355216, ..., -0.02352848,\n",
       "         -0.06824612,  0.0011282 ],\n",
       "        ...,\n",
       "        [ 0.04254752,  0.00297693, -0.02352848, ...,  0.21452627,\n",
       "         -0.03290984,  0.00924737],\n",
       "        [ 0.0030518 , -0.03753423, -0.06824612, ..., -0.03290984,\n",
       "          0.15164651,  0.03756523],\n",
       "        [ 0.00504604,  0.00057858,  0.0011282 , ...,  0.00924737,\n",
       "          0.03756523,  0.07380197]]),\n",
       " 'se': array([0.25365798, 0.40465076, 0.62733736, 0.60556139, 0.55601724,\n",
       "        0.52741646, 0.50228033, 0.4996422 , 0.49853188, 0.56403652,\n",
       "        0.56010786, 0.5392969 , 0.48424252, 0.56482023, 0.65210185,\n",
       "        0.61740343, 0.51751907, 0.46024598, 0.33476028, 0.28304166,\n",
       "        0.30981922, 0.4465039 , 0.59984298, 0.53018369, 0.48847726,\n",
       "        0.47921074, 0.49963973, 0.50259805, 0.48394663, 0.49651867,\n",
       "        0.48265116, 0.52500341, 0.58249318, 0.65600841, 0.666112  ,\n",
       "        0.37294083, 0.1559577 , 0.34389494, 0.32562471, 0.23110644,\n",
       "        0.13482638, 0.57216433, 0.70525987, 0.5963975 , 0.53651163,\n",
       "        0.54473954, 0.52283696, 0.47865856, 0.51582016, 0.60273082,\n",
       "        0.55112728, 0.50910593, 0.60011211, 0.71015196, 0.67031257,\n",
       "        0.62378694, 0.61252414, 0.66089671, 0.46316981, 0.38941816,\n",
       "        0.27166518]),\n",
       " 'AIC': 217.6980524565818,\n",
       " 'AICc': 240.37586142644705,\n",
       " 'pseudo_r2': OrderedDict([('explained_deviance', 0.8380127603888108),\n",
       "              ('McFadden', 0.6906768039077383),\n",
       "              ('McFadden_adj', 0.17830976922970476)]),\n",
       " 'GCV': 5.100143139035216,\n",
       " 'UBRE': None,\n",
       " 'loglikelihood': -90.6531658166218,\n",
       " 'deviance': 32.804139588330905,\n",
       " 'p_values': [4.977488066160163e-08,\n",
       "  3.697583797956927e-05,\n",
       "  6.990827442487912e-07,\n",
       "  1.1102230246251565e-16]}"
      ]
     },
     "execution_count": 12,
     "metadata": {},
     "output_type": "execute_result"
    }
   ],
   "source": [
    "final_gam.statistics_"
   ]
  },
  {
   "cell_type": "code",
   "execution_count": 13,
   "id": "f3f8d45c-621f-43e9-8b82-0197774d2d70",
   "metadata": {},
   "outputs": [
    {
     "data": {
      "text/plain": [
       "array([-0.89720474, -0.15869302,  0.02329855, -0.05367448,  0.39068701,\n",
       "        1.4132768 ,  1.69143277,  1.01583149,  0.66382994,  1.4041878 ,\n",
       "        1.4324092 ,  0.73889646,  0.28369011,  0.10560116,  0.32585286,\n",
       "        0.77153761,  1.11057877,  0.95282106,  0.16097236, -1.37851935,\n",
       "       -1.54876597,  1.01121912,  2.22112337,  1.72247747,  0.61653745,\n",
       "        0.11218743,  0.74045807,  1.91044268,  1.924561  ,  1.58894378,\n",
       "        0.68649064, -0.22004123, -0.37358186, -0.19614051, -0.12811397,\n",
       "       -0.0160049 ,  0.11031742,  0.14477474,  0.01394771, -0.32402007,\n",
       "        0.64192746,  4.95960081,  6.45996855,  5.41190035,  3.59165824,\n",
       "        1.60612506,  0.76109818,  0.85181581,  0.74886063,  0.11901664,\n",
       "        0.04717489, -0.4797709 , -1.00331347, -1.14005373, -1.79097498,\n",
       "       -2.35839831, -2.92955802, -3.33967929, -2.43246707,  0.27188153,\n",
       "        9.99681237])"
      ]
     },
     "execution_count": 13,
     "metadata": {},
     "output_type": "execute_result"
    }
   ],
   "source": [
    "final_gam.coef_"
   ]
  },
  {
   "cell_type": "code",
   "execution_count": 14,
   "id": "4ca91abe-9447-456f-8a1c-729acf579a9a",
   "metadata": {},
   "outputs": [
    {
     "name": "stdout",
     "output_type": "stream",
     "text": [
      "LinearGAM                                                                                                 \n",
      "=============================================== ==========================================================\n",
      "Distribution:                        NormalDist Effective DoF:                                     17.1959\n",
      "Link Function:                     IdentityLink Log Likelihood:                                   -90.6532\n",
      "Number of Samples:                           50 AIC:                                              217.6981\n",
      "                                                AICc:                                             240.3759\n",
      "                                                GCV:                                                5.1001\n",
      "                                                Scale:                                                2.09\n",
      "                                                Pseudo R-Squared:                                    0.838\n",
      "==========================================================================================================\n",
      "Feature Function                  Lambda               Rank         EDoF         P > x        Sig. Code   \n",
      "================================= ==================== ============ ============ ============ ============\n",
      "s(0)                              [0.6]                20                        4.98e-08     ***         \n",
      "s(1)                              [0.6]                20                        3.70e-05     ***         \n",
      "s(2)                              [0.6]                20                        6.99e-07     ***         \n",
      "intercept                                              1                         1.11e-16     ***         \n",
      "==========================================================================================================\n",
      "Significance codes:  0 '***' 0.001 '**' 0.01 '*' 0.05 '.' 0.1 ' ' 1\n",
      "\n",
      "WARNING: Fitting splines and a linear function to a feature introduces a model identifiability problem\n",
      "         which can cause p-values to appear significant when they are not.\n",
      "\n",
      "WARNING: p-values calculated in this manner behave correctly for un-penalized models or models with\n",
      "         known smoothing parameters, but when smoothing parameters have been estimated, the p-values\n",
      "         are typically lower than they should be, meaning that the tests reject the null too readily.\n"
     ]
    }
   ],
   "source": [
    "final_gam.summary()"
   ]
  },
  {
   "cell_type": "code",
   "execution_count": 15,
   "id": "494cdff0-3082-46cc-ae47-3ed1152129b8",
   "metadata": {},
   "outputs": [
    {
     "data": {
      "text/plain": [
       "0.9197672590752647"
      ]
     },
     "execution_count": 15,
     "metadata": {},
     "output_type": "execute_result"
    }
   ],
   "source": [
    "np.mean(np.abs(final_gam.predict(zca.transform(X[best_terms]))-y.values.ravel()))"
   ]
  },
  {
   "cell_type": "code",
   "execution_count": null,
   "id": "e5b998ef-e9c1-43fe-a379-cf790c25a780",
   "metadata": {},
   "outputs": [],
   "source": []
  },
  {
   "cell_type": "code",
   "execution_count": 16,
   "id": "f536e1e2-0127-4d6d-b36c-e8e099353033",
   "metadata": {},
   "outputs": [],
   "source": [
    "prediction_interval = pd.DataFrame(final_gam.prediction_intervals(zca.transform(X[best_terms])),columns=['lower','upper'])\n",
    "yhat = pd.DataFrame(final_gam.predict(zca.transform(X[best_terms])),columns=['center'])\n",
    "prediction_set = pd.concat([prediction_interval['lower'],yhat,prediction_interval['upper']],axis=1)\n",
    "prediction_set.index = y.index\n",
    "prediction_set.sort_values(kind=\"quicksort\", ascending=True,by='center',inplace=True)\n",
    "#plt.plot()\n",
    "#plt.plot(prediction_interval['upper'])\n",
    "#plt.show()"
   ]
  },
  {
   "cell_type": "code",
   "execution_count": 17,
   "id": "95cb1a21-63fb-43a1-894a-2ebbb5ce745d",
   "metadata": {},
   "outputs": [
    {
     "data": {
      "image/png": "[encoded data removed]",
      "text/plain": [
       "<Figure size 432x288 with 1 Axes>"
      ]
     },
     "metadata": {
      "needs_background": "light"
     },
     "output_type": "display_data"
    }
   ],
   "source": [
    "plt.plot(prediction_set['lower'])\n",
    "plt.plot(prediction_set['center'])\n",
    "plt.plot(prediction_set['upper'])\n",
    "plt.xticks(rotation = 45)\n",
    "plt.show()"
   ]
  },
  {
   "cell_type": "code",
   "execution_count": 18,
   "id": "cb6981d2-b231-4eed-b66b-9541c3bbc51c",
   "metadata": {},
   "outputs": [
    {
     "data": {
      "text/plain": [
       "<Figure size 432x288 with 0 Axes>"
      ]
     },
     "metadata": {},
     "output_type": "display_data"
    },
    {
     "data": {
      "image/png": "[encoded data removed]",
      "text/plain": [
       "<Figure size 432x288 with 3 Axes>"
      ]
     },
     "metadata": {
      "needs_background": "light"
     },
     "output_type": "display_data"
    }
   ],
   "source": [
    "if len(best_terms)>1:\n",
    "    plt.figure();\n",
    "    fig, axs = plt.subplots(1,len(best_terms));\n",
    "\n",
    "    titles = best_terms\n",
    "    for i, ax in enumerate(axs):\n",
    "        XX = final_gam.generate_X_grid(term=i)\n",
    "        ax.plot(XX[:, i], final_gam.partial_dependence(term=i, X=XX))\n",
    "        ax.plot(XX[:, i], final_gam.partial_dependence(term=i, X=XX, width=.95)[1], c='r', ls='--')\n",
    "        ax.set_title(titles[i]);\n",
    "else:\n",
    "    XX = final_gam.generate_X_grid(term=0)\n",
    "    \n",
    "    fig, axs = plt.subplots(1,len(best_terms));\n",
    "\n",
    "    titles = best_terms\n",
    "\n",
    "    axs.plot(XX[:, 0], final_gam.partial_dependence(term=0, X=XX))\n",
    "    axs.plot(XX[:, 0], final_gam.partial_dependence(term=0, X=XX, width=.95)[1], c='r', ls='--')\n",
    "    axs.set_title(best_terms[0]);"
   ]
  }
 ],
 "metadata": {
  "kernelspec": {
   "display_name": "Python 3 (ipykernel)",
   "language": "python",
   "name": "python3"
  },
  "language_info": {
   "codemirror_mode": {
    "name": "ipython",
    "version": 3
   },
   "file_extension": ".py",
   "mimetype": "text/x-python",
   "name": "python",
   "nbconvert_exporter": "python",
   "pygments_lexer": "ipython3",
   "version": "3.9.7"
  }
 },
 "nbformat": 4,
 "nbformat_minor": 5
}
