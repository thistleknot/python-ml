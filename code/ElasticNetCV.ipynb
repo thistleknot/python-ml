{
 "cells": [
  {
   "cell_type": "code",
   "execution_count": 1,
   "id": "b987aaee-57dd-47c7-9844-281272894c16",
   "metadata": {},
   "outputs": [],
   "source": [
    "import pandas as pd\n",
    "from sklearn.linear_model import ElasticNetCV\n",
    "import statsmodels.api as sm\n",
    "from sklearn.model_selection import KFold\n",
    "from sklearn.model_selection import cross_val_score\n",
    "from sklearn.datasets import make_regression\n",
    "from sklearn.pipeline import Pipeline\n",
    "import numpy as np\n",
    "from numpy import arange\n",
    "from sklearn.model_selection import RepeatedKFold\n",
    "from sklearn.model_selection import cross_val_score\n",
    "import sys\n",
    "import os\n",
    "import matplotlib.pyplot as plt\n",
    "from sklearn.linear_model import ElasticNet\n",
    "if not sys.warnoptions:\n",
    "    import warnings\n",
    "    warnings.simplefilter(\"ignore\")\n",
    "    warnings.filterwarnings('ignore')\n",
    "    \n"
   ]
  },
  {
   "cell_type": "code",
   "execution_count": null,
   "id": "c2deb31d-11a7-43bc-bf6f-1f98f70b45e0",
   "metadata": {},
   "outputs": [],
   "source": [
    "\n",
    "            "
   ]
  },
  {
   "cell_type": "code",
   "execution_count": 2,
   "id": "86b6815f-136b-4448-b19e-510839b39b88",
   "metadata": {},
   "outputs": [],
   "source": [
    "def read_data():\n",
    "    df = pd.read_csv(\"https://raw.githubusercontent.com/thistleknot/Python-Stock/master/data/raw/states.csv\").set_index('States')\n",
    "    return(df)"
   ]
  },
  {
   "cell_type": "code",
   "execution_count": 3,
   "id": "972a77f2-7479-4008-853f-3290c532c008",
   "metadata": {},
   "outputs": [],
   "source": [
    "#!/usr/bin/python\n",
    "# -*- coding: utf-8 -*-\n",
    "\n",
    "# ------------------------------------\n",
    "# file: zca.py\n",
    "# date: Thu May 21 15:47 2015\n",
    "# author:\n",
    "# Maarten Versteegh\n",
    "# github.com/mwv\n",
    "# maartenversteegh AT gmail DOT com\n",
    "#\n",
    "# Licensed under GPLv3\n",
    "# ------------------------------------\n",
    "\"\"\"zca: ZCA whitening with a sklearn-like interface\n",
    "\n",
    "\"\"\"\n",
    "\n",
    "from __future__ import division\n",
    "\n",
    "import numpy as np\n",
    "from scipy import linalg\n",
    "\n",
    "from sklearn.base import TransformerMixin, BaseEstimator\n",
    "from sklearn.utils.validation import check_is_fitted\n",
    "from sklearn.utils import check_array, as_float_array\n",
    "\n",
    "class ZCA(BaseEstimator, TransformerMixin):\n",
    "    def __init__(self, regularization=1e-6, copy=False):\n",
    "        self.regularization = regularization\n",
    "        self.copy = copy\n",
    "\n",
    "    def fit(self, X, y=None):\n",
    "        \"\"\"Compute the mean, whitening and dewhitening matrices.\n",
    "\n",
    "        Parameters\n",
    "        ----------\n",
    "        X : array-like with shape [n_samples, n_features]\n",
    "            The data used to compute the mean, whitening and dewhitening\n",
    "            matrices.\n",
    "        \"\"\"\n",
    "        X = check_array(X, accept_sparse=None, copy=self.copy,\n",
    "                        ensure_2d=True)\n",
    "        X = as_float_array(X, copy=self.copy)\n",
    "        self.mean_ = X.mean(axis=0)\n",
    "        X_ = X - self.mean_\n",
    "        cov = np.dot(X_.T, X_) / (X_.shape[0]-1)\n",
    "        U, S, _ = linalg.svd(cov)\n",
    "        s = np.sqrt(S.clip(self.regularization))\n",
    "        s_inv = np.diag(1./s)\n",
    "        s = np.diag(s)\n",
    "        self.whiten_ = np.dot(np.dot(U, s_inv), U.T)\n",
    "        self.dewhiten_ = np.dot(np.dot(U, s), U.T)\n",
    "        return self\n",
    "\n",
    "    def transform(self, X, y=None, copy=None):\n",
    "        \"\"\"Perform ZCA whitening\n",
    "\n",
    "        Parameters\n",
    "        ----------\n",
    "        X : array-like with shape [n_samples, n_features]\n",
    "            The data to whiten along the features axis.\n",
    "        \"\"\"\n",
    "        check_is_fitted(self, 'mean_')\n",
    "        X = as_float_array(X, copy=self.copy)\n",
    "        return np.dot(X - self.mean_, self.whiten_.T)\n",
    "\n",
    "    def inverse_transform(self, X, copy=None):\n",
    "        \"\"\"Undo the ZCA transform and rotate back to the original\n",
    "        representation\n",
    "\n",
    "        Parameters\n",
    "        ----------\n",
    "        X : array-like with shape [n_samples, n_features]\n",
    "            The data to rotate back.\n",
    "        \"\"\"\n",
    "        check_is_fitted(self, 'mean_')\n",
    "        X = as_float_array(X, copy=self.copy)\n",
    "        return np.dot(X, self.dewhiten_) + self.mean_\n"
   ]
  },
  {
   "cell_type": "code",
   "execution_count": null,
   "id": "fdad804c-21b3-4853-aebd-94cad1bb8ee7",
   "metadata": {},
   "outputs": [],
   "source": []
  },
  {
   "cell_type": "code",
   "execution_count": 4,
   "id": "e3bb1675-783d-4cac-b899-7f8d20828efe",
   "metadata": {},
   "outputs": [],
   "source": [
    "independent = 'Poverty'"
   ]
  },
  {
   "cell_type": "code",
   "execution_count": 5,
   "id": "3d1fec8c-dd33-42c1-ab8f-7048005a04b5",
   "metadata": {},
   "outputs": [],
   "source": [
    "y = read_data()[[independent]]\n",
    "X = read_data()[(read_data().columns).difference([independent]).values]"
   ]
  },
  {
   "cell_type": "code",
   "execution_count": null,
   "id": "f3e3c65e-d43f-49ac-bc38-bd4badb8e048",
   "metadata": {},
   "outputs": [],
   "source": []
  },
  {
   "cell_type": "code",
   "execution_count": 6,
   "id": "8ec57a1b-0cf0-453c-ab9c-fabb482034d9",
   "metadata": {},
   "outputs": [
    {
     "data": {
      "text/plain": [
       "Pipeline(steps=[('standardize', ZCA()),\n",
       "                ('ElasticNetCV', ElasticNetCV(cv=10, random_state=0))])"
      ]
     },
     "execution_count": 6,
     "metadata": {},
     "output_type": "execute_result"
    }
   ],
   "source": [
    "estimators = []\n",
    "estimators.append(('standardize', ZCA()))\n",
    "estimators.append(('ElasticNetCV', ElasticNetCV(cv=10, random_state=0)))\n",
    "cv = RepeatedKFold(n_splits=10, n_repeats=3, random_state=1)\n",
    "ratios = arange(0, 1, 0.01)\n",
    "alphas = [1e-5, 1e-4, 1e-3, 1e-2, 1e-1, 0.0, 1.0, 10.0, 100.0]\n",
    "#estimators.append(('ElasticNetCV', ElasticNetCV(l1_ratio=ratios, alphas=alphas, cv=cv, n_jobs=-1)))\n",
    "model = Pipeline(estimators)\n",
    "\n",
    "model.fit(X, y)\n",
    "#print('alpha: %f' % model.alphas)\n",
    "#print('l1_ratio_: %f' % model.l1_ratio)\n"
   ]
  },
  {
   "cell_type": "code",
   "execution_count": 7,
   "id": "86fc5d11-65fa-4f73-ba1d-7893d4c4f72a",
   "metadata": {},
   "outputs": [
    {
     "data": {
      "text/plain": [
       "0.8609356681998442"
      ]
     },
     "execution_count": 7,
     "metadata": {},
     "output_type": "execute_result"
    }
   ],
   "source": [
    "model.score(X,y)"
   ]
  },
  {
   "cell_type": "code",
   "execution_count": 8,
   "id": "aeb16a8d-88ae-4881-acb1-ad0da4181e33",
   "metadata": {},
   "outputs": [
    {
     "data": {
      "text/plain": [
       "{'memory': None,\n",
       " 'steps': [('standardize', ZCA()),\n",
       "  ('ElasticNetCV', ElasticNetCV(cv=10, random_state=0))],\n",
       " 'verbose': False,\n",
       " 'standardize': ZCA(),\n",
       " 'ElasticNetCV': ElasticNetCV(cv=10, random_state=0),\n",
       " 'standardize__copy': False,\n",
       " 'standardize__regularization': 1e-06,\n",
       " 'ElasticNetCV__alphas': None,\n",
       " 'ElasticNetCV__copy_X': True,\n",
       " 'ElasticNetCV__cv': 10,\n",
       " 'ElasticNetCV__eps': 0.001,\n",
       " 'ElasticNetCV__fit_intercept': True,\n",
       " 'ElasticNetCV__l1_ratio': 0.5,\n",
       " 'ElasticNetCV__max_iter': 1000,\n",
       " 'ElasticNetCV__n_alphas': 100,\n",
       " 'ElasticNetCV__n_jobs': None,\n",
       " 'ElasticNetCV__normalize': False,\n",
       " 'ElasticNetCV__positive': False,\n",
       " 'ElasticNetCV__precompute': 'auto',\n",
       " 'ElasticNetCV__random_state': 0,\n",
       " 'ElasticNetCV__selection': 'cyclic',\n",
       " 'ElasticNetCV__tol': 0.0001,\n",
       " 'ElasticNetCV__verbose': 0}"
      ]
     },
     "execution_count": 8,
     "metadata": {},
     "output_type": "execute_result"
    }
   ],
   "source": [
    "model.get_params()"
   ]
  },
  {
   "cell_type": "code",
   "execution_count": null,
   "id": "39020bc1-e69f-45ad-b3cc-c24fcb0c8a7d",
   "metadata": {},
   "outputs": [],
   "source": []
  },
  {
   "cell_type": "code",
   "execution_count": null,
   "id": "84176474-0f75-42bf-b0d3-c2626327f7c1",
   "metadata": {},
   "outputs": [],
   "source": []
  },
  {
   "cell_type": "code",
   "execution_count": null,
   "id": "da6b168e-e602-4586-9a5a-7b5e80161946",
   "metadata": {},
   "outputs": [],
   "source": []
  },
  {
   "cell_type": "code",
   "execution_count": 9,
   "id": "f3ad3416-3d2d-4f2a-95b0-4ef296204027",
   "metadata": {},
   "outputs": [],
   "source": [
    "results = cross_val_score(model, X, y, cv=cv)"
   ]
  },
  {
   "cell_type": "code",
   "execution_count": 10,
   "id": "bb5f891a-d15d-4ab0-ae06-9683eac285aa",
   "metadata": {},
   "outputs": [
    {
     "data": {
      "text/plain": [
       "array([ 0.6359295 ,  0.89726432,  0.94487683,  0.63892249,  0.67139652,\n",
       "       -0.13444101,  0.80174153,  0.90693939,  0.83291332,  0.41320671,\n",
       "        0.93914589,  0.80081269,  0.28881888,  0.30030918,  0.90993784,\n",
       "        0.69230169,  0.67620445,  0.66781782,  0.75809788,  0.87535852,\n",
       "        0.60698596,  0.81575621,  0.89281156,  0.97067134,  0.43092841,\n",
       "        0.15104642,  0.07861483,  0.68202931,  0.86368869,  0.65555619])"
      ]
     },
     "execution_count": 10,
     "metadata": {},
     "output_type": "execute_result"
    }
   ],
   "source": [
    "results"
   ]
  },
  {
   "cell_type": "code",
   "execution_count": 11,
   "id": "170a61d3-7012-413d-800e-730d4feff1ee",
   "metadata": {},
   "outputs": [],
   "source": [
    "#X, y = make_regression(n_features=2, random_state=0)\n",
    "#regr = ElasticNetCV(cv=10, random_state=0)\n",
    "#regr.fit(X, y)\n",
    "#print(regr.alpha_)\n",
    "#print(regr.intercept_)\n",
    "#print(regr.predict(X))"
   ]
  },
  {
   "cell_type": "code",
   "execution_count": 12,
   "id": "a2c6c12c-4ca1-4121-b1cd-84f2fe79156a",
   "metadata": {},
   "outputs": [
    {
     "data": {
      "text/plain": [
       "array([15.69792116,  8.98061296, 13.0260891 , 16.2048984 , 12.92431152,\n",
       "       10.9728195 ,  8.08528569, 10.64855536, 15.05280887, 14.28616325,\n",
       "       10.55573198, 12.87717078, 12.35084567, 13.28036971, 12.27479433,\n",
       "       12.43755199, 15.52434214, 15.86168769, 13.12836638,  8.43193781,\n",
       "        9.17396981, 14.36335051, 10.71691314, 18.0642663 , 14.12183856,\n",
       "       15.26465842, 11.99440543, 11.67958584,  7.97996317,  8.1878938 ,\n",
       "       14.4211433 , 12.9706684 , 15.26263741, 13.13344354, 13.96911895,\n",
       "       14.56848314, 13.13860365, 13.32806397, 11.66319775, 16.24271397,\n",
       "       13.15822286, 15.47851188, 14.02465684,  9.90234021, 11.5156554 ,\n",
       "       10.49360017, 10.83922258, 15.68581496, 11.94741646, 10.70737528])"
      ]
     },
     "execution_count": 12,
     "metadata": {},
     "output_type": "execute_result"
    }
   ],
   "source": [
    "model.predict(X)"
   ]
  },
  {
   "cell_type": "code",
   "execution_count": 13,
   "id": "54ec1bce-f1de-46a6-9d59-ac2e725e8630",
   "metadata": {},
   "outputs": [
    {
     "data": {
      "text/plain": [
       "<matplotlib.collections.PathCollection at 0x2195b8eb3a0>"
      ]
     },
     "execution_count": 13,
     "metadata": {},
     "output_type": "execute_result"
    },
    {
     "data": {
      "image/png": "[encoded data removed]",
      "text/plain": [
       "<Figure size 432x288 with 1 Axes>"
      ]
     },
     "metadata": {
      "needs_background": "light"
     },
     "output_type": "display_data"
    }
   ],
   "source": [
    "plt.scatter(model.predict(X),y)"
   ]
  },
  {
   "cell_type": "code",
   "execution_count": 14,
   "id": "e2088629-9f5a-4a77-a92a-408900c0f1d8",
   "metadata": {},
   "outputs": [],
   "source": [
    "#chosen_model = ElasticNet(alpha=model.named_steps['ElasticNetCV'].alpha_, l1_ratio=model.named_steps['ElasticNetCV'].l1_ratio)\n",
    "#chosen_model.fit(X,y)"
   ]
  },
  {
   "cell_type": "code",
   "execution_count": 15,
   "id": "b75cf33d-6f61-43ce-b9c4-c3cbc05334f8",
   "metadata": {},
   "outputs": [],
   "source": [
    "#plt.scatter(chosen_model.predict(X),y)"
   ]
  },
  {
   "cell_type": "code",
   "execution_count": 16,
   "id": "dd236f92-ed3e-4018-b00e-1bcfa401355a",
   "metadata": {},
   "outputs": [],
   "source": [
    "#pd.DataFrame(model.predict(X)-chosen_model.predict(X)).hist()"
   ]
  },
  {
   "cell_type": "code",
   "execution_count": 17,
   "id": "858b0cad-aaa5-47c2-bf91-422dbcc979f4",
   "metadata": {},
   "outputs": [
    {
     "data": {
      "text/html": [
       "<table class=\"simpletable\">\n",
       "<caption>OLS Regression Results</caption>\n",
       "<tr>\n",
       "  <th>Dep. Variable:</th>         <td>Poverty</td>     <th>  R-squared:         </th> <td>   0.876</td>\n",
       "</tr>\n",
       "<tr>\n",
       "  <th>Model:</th>                   <td>OLS</td>       <th>  Adj. R-squared:    </th> <td>   0.856</td>\n",
       "</tr>\n",
       "<tr>\n",
       "  <th>Method:</th>             <td>Least Squares</td>  <th>  F-statistic:       </th> <td>   42.47</td>\n",
       "</tr>\n",
       "<tr>\n",
       "  <th>Date:</th>             <td>Tue, 19 Apr 2022</td> <th>  Prob (F-statistic):</th> <td>4.79e-17</td>\n",
       "</tr>\n",
       "<tr>\n",
       "  <th>Time:</th>                 <td>20:49:32</td>     <th>  Log-Likelihood:    </th> <td> -72.116</td>\n",
       "</tr>\n",
       "<tr>\n",
       "  <th>No. Observations:</th>      <td>    50</td>      <th>  AIC:               </th> <td>   160.2</td>\n",
       "</tr>\n",
       "<tr>\n",
       "  <th>Df Residuals:</th>          <td>    42</td>      <th>  BIC:               </th> <td>   175.5</td>\n",
       "</tr>\n",
       "<tr>\n",
       "  <th>Df Model:</th>              <td>     7</td>      <th>                     </th>     <td> </td>   \n",
       "</tr>\n",
       "<tr>\n",
       "  <th>Covariance Type:</th>      <td>nonrobust</td>    <th>                     </th>     <td> </td>   \n",
       "</tr>\n",
       "</table>\n",
       "<table class=\"simpletable\">\n",
       "<tr>\n",
       "       <td></td>          <th>coef</th>     <th>std err</th>      <th>t</th>      <th>P>|t|</th>  <th>[0.025</th>    <th>0.975]</th>  \n",
       "</tr>\n",
       "<tr>\n",
       "  <th>const</th>       <td>   26.0438</td> <td>    3.622</td> <td>    7.190</td> <td> 0.000</td> <td>   18.734</td> <td>   33.353</td>\n",
       "</tr>\n",
       "<tr>\n",
       "  <th>Crime</th>       <td>   -0.0004</td> <td>    0.001</td> <td>   -0.384</td> <td> 0.703</td> <td>   -0.003</td> <td>    0.002</td>\n",
       "</tr>\n",
       "<tr>\n",
       "  <th>Doctors</th>     <td>    0.0055</td> <td>    0.003</td> <td>    1.598</td> <td> 0.118</td> <td>   -0.001</td> <td>    0.012</td>\n",
       "</tr>\n",
       "<tr>\n",
       "  <th>Income</th>      <td>   -0.0003</td> <td> 2.98e-05</td> <td>   -9.668</td> <td> 0.000</td> <td>   -0.000</td> <td>   -0.000</td>\n",
       "</tr>\n",
       "<tr>\n",
       "  <th>Population</th>  <td> 7.831e-08</td> <td> 2.74e-08</td> <td>    2.862</td> <td> 0.007</td> <td> 2.31e-08</td> <td> 1.34e-07</td>\n",
       "</tr>\n",
       "<tr>\n",
       "  <th>Traf Deaths</th> <td>    1.5103</td> <td>    0.759</td> <td>    1.990</td> <td> 0.053</td> <td>   -0.021</td> <td>    3.042</td>\n",
       "</tr>\n",
       "<tr>\n",
       "  <th>Unemployed</th>  <td>    0.4037</td> <td>    0.149</td> <td>    2.710</td> <td> 0.010</td> <td>    0.103</td> <td>    0.704</td>\n",
       "</tr>\n",
       "<tr>\n",
       "  <th>White</th>       <td>   -0.0525</td> <td>    0.017</td> <td>   -3.144</td> <td> 0.003</td> <td>   -0.086</td> <td>   -0.019</td>\n",
       "</tr>\n",
       "</table>\n",
       "<table class=\"simpletable\">\n",
       "<tr>\n",
       "  <th>Omnibus:</th>       <td> 2.719</td> <th>  Durbin-Watson:     </th> <td>   1.795</td>\n",
       "</tr>\n",
       "<tr>\n",
       "  <th>Prob(Omnibus):</th> <td> 0.257</td> <th>  Jarque-Bera (JB):  </th> <td>   2.209</td>\n",
       "</tr>\n",
       "<tr>\n",
       "  <th>Skew:</th>          <td> 0.515</td> <th>  Prob(JB):          </th> <td>   0.331</td>\n",
       "</tr>\n",
       "<tr>\n",
       "  <th>Kurtosis:</th>      <td> 3.007</td> <th>  Cond. No.          </th> <td>2.08e+08</td>\n",
       "</tr>\n",
       "</table><br/><br/>Notes:<br/>[1] Standard Errors assume that the covariance matrix of the errors is correctly specified.<br/>[2] The condition number is large, 2.08e+08. This might indicate that there are<br/>strong multicollinearity or other numerical problems."
      ],
      "text/plain": [
       "<class 'statsmodels.iolib.summary.Summary'>\n",
       "\"\"\"\n",
       "                            OLS Regression Results                            \n",
       "==============================================================================\n",
       "Dep. Variable:                Poverty   R-squared:                       0.876\n",
       "Model:                            OLS   Adj. R-squared:                  0.856\n",
       "Method:                 Least Squares   F-statistic:                     42.47\n",
       "Date:                Tue, 19 Apr 2022   Prob (F-statistic):           4.79e-17\n",
       "Time:                        20:49:32   Log-Likelihood:                -72.116\n",
       "No. Observations:                  50   AIC:                             160.2\n",
       "Df Residuals:                      42   BIC:                             175.5\n",
       "Df Model:                           7                                         \n",
       "Covariance Type:            nonrobust                                         \n",
       "===============================================================================\n",
       "                  coef    std err          t      P>|t|      [0.025      0.975]\n",
       "-------------------------------------------------------------------------------\n",
       "const          26.0438      3.622      7.190      0.000      18.734      33.353\n",
       "Crime          -0.0004      0.001     -0.384      0.703      -0.003       0.002\n",
       "Doctors         0.0055      0.003      1.598      0.118      -0.001       0.012\n",
       "Income         -0.0003   2.98e-05     -9.668      0.000      -0.000      -0.000\n",
       "Population   7.831e-08   2.74e-08      2.862      0.007    2.31e-08    1.34e-07\n",
       "Traf Deaths     1.5103      0.759      1.990      0.053      -0.021       3.042\n",
       "Unemployed      0.4037      0.149      2.710      0.010       0.103       0.704\n",
       "White          -0.0525      0.017     -3.144      0.003      -0.086      -0.019\n",
       "==============================================================================\n",
       "Omnibus:                        2.719   Durbin-Watson:                   1.795\n",
       "Prob(Omnibus):                  0.257   Jarque-Bera (JB):                2.209\n",
       "Skew:                           0.515   Prob(JB):                        0.331\n",
       "Kurtosis:                       3.007   Cond. No.                     2.08e+08\n",
       "==============================================================================\n",
       "\n",
       "Notes:\n",
       "[1] Standard Errors assume that the covariance matrix of the errors is correctly specified.\n",
       "[2] The condition number is large, 2.08e+08. This might indicate that there are\n",
       "strong multicollinearity or other numerical problems.\n",
       "\"\"\""
      ]
     },
     "execution_count": 17,
     "metadata": {},
     "output_type": "execute_result"
    }
   ],
   "source": [
    "filtered = X.columns[model.named_steps['ElasticNetCV'].coef_!=0]\n",
    "\n",
    "#from statsmodels.formula.api import ols\n",
    "sm_model = sm.OLS(y, sm.add_constant(X[filtered])).fit()\n",
    "sm_model.summary()\n",
    "\n",
    "\n"
   ]
  },
  {
   "cell_type": "code",
   "execution_count": 18,
   "id": "75f38664-17c1-4726-b253-6cf5a3a8879d",
   "metadata": {},
   "outputs": [],
   "source": [
    "zca = ZCA()"
   ]
  },
  {
   "cell_type": "code",
   "execution_count": null,
   "id": "4f997284-c3a7-4633-b021-abcba6aca63f",
   "metadata": {},
   "outputs": [],
   "source": []
  },
  {
   "cell_type": "code",
   "execution_count": 19,
   "id": "7f5dcdde-9fc0-437d-a7a9-162f8902693c",
   "metadata": {},
   "outputs": [
    {
     "data": {
      "text/html": [
       "<table class=\"simpletable\">\n",
       "<caption>OLS Regression Results</caption>\n",
       "<tr>\n",
       "  <th>Dep. Variable:</th>         <td>Poverty</td>     <th>  R-squared:         </th> <td>   0.876</td>\n",
       "</tr>\n",
       "<tr>\n",
       "  <th>Model:</th>                   <td>OLS</td>       <th>  Adj. R-squared:    </th> <td>   0.856</td>\n",
       "</tr>\n",
       "<tr>\n",
       "  <th>Method:</th>             <td>Least Squares</td>  <th>  F-statistic:       </th> <td>   42.47</td>\n",
       "</tr>\n",
       "<tr>\n",
       "  <th>Date:</th>             <td>Tue, 19 Apr 2022</td> <th>  Prob (F-statistic):</th> <td>4.79e-17</td>\n",
       "</tr>\n",
       "<tr>\n",
       "  <th>Time:</th>                 <td>20:49:32</td>     <th>  Log-Likelihood:    </th> <td> -72.116</td>\n",
       "</tr>\n",
       "<tr>\n",
       "  <th>No. Observations:</th>      <td>    50</td>      <th>  AIC:               </th> <td>   160.2</td>\n",
       "</tr>\n",
       "<tr>\n",
       "  <th>Df Residuals:</th>          <td>    42</td>      <th>  BIC:               </th> <td>   175.5</td>\n",
       "</tr>\n",
       "<tr>\n",
       "  <th>Df Model:</th>              <td>     7</td>      <th>                     </th>     <td> </td>   \n",
       "</tr>\n",
       "<tr>\n",
       "  <th>Covariance Type:</th>      <td>nonrobust</td>    <th>                     </th>     <td> </td>   \n",
       "</tr>\n",
       "</table>\n",
       "<table class=\"simpletable\">\n",
       "<tr>\n",
       "       <td></td>          <th>coef</th>     <th>std err</th>      <th>t</th>      <th>P>|t|</th>  <th>[0.025</th>    <th>0.975]</th>  \n",
       "</tr>\n",
       "<tr>\n",
       "  <th>const</th>       <td>   12.7320</td> <td>    0.158</td> <td>   80.606</td> <td> 0.000</td> <td>   12.413</td> <td>   13.051</td>\n",
       "</tr>\n",
       "<tr>\n",
       "  <th>Crime</th>       <td>    0.4798</td> <td>    0.160</td> <td>    3.007</td> <td> 0.004</td> <td>    0.158</td> <td>    0.802</td>\n",
       "</tr>\n",
       "<tr>\n",
       "  <th>Doctors</th>     <td>    0.1963</td> <td>    0.160</td> <td>    1.230</td> <td> 0.225</td> <td>   -0.126</td> <td>    0.518</td>\n",
       "</tr>\n",
       "<tr>\n",
       "  <th>Income</th>      <td>   -2.5276</td> <td>    0.160</td> <td>  -15.841</td> <td> 0.000</td> <td>   -2.850</td> <td>   -2.206</td>\n",
       "</tr>\n",
       "<tr>\n",
       "  <th>Population</th>  <td>    0.4195</td> <td>    0.160</td> <td>    2.629</td> <td> 0.012</td> <td>    0.097</td> <td>    0.741</td>\n",
       "</tr>\n",
       "<tr>\n",
       "  <th>Traf Deaths</th> <td>    0.3125</td> <td>    0.160</td> <td>    1.959</td> <td> 0.057</td> <td>   -0.009</td> <td>    0.635</td>\n",
       "</tr>\n",
       "<tr>\n",
       "  <th>Unemployed</th>  <td>    0.3949</td> <td>    0.160</td> <td>    2.475</td> <td> 0.017</td> <td>    0.073</td> <td>    0.717</td>\n",
       "</tr>\n",
       "<tr>\n",
       "  <th>White</th>       <td>   -0.6939</td> <td>    0.160</td> <td>   -4.349</td> <td> 0.000</td> <td>   -1.016</td> <td>   -0.372</td>\n",
       "</tr>\n",
       "</table>\n",
       "<table class=\"simpletable\">\n",
       "<tr>\n",
       "  <th>Omnibus:</th>       <td> 2.719</td> <th>  Durbin-Watson:     </th> <td>   1.795</td>\n",
       "</tr>\n",
       "<tr>\n",
       "  <th>Prob(Omnibus):</th> <td> 0.257</td> <th>  Jarque-Bera (JB):  </th> <td>   2.209</td>\n",
       "</tr>\n",
       "<tr>\n",
       "  <th>Skew:</th>          <td> 0.515</td> <th>  Prob(JB):          </th> <td>   0.331</td>\n",
       "</tr>\n",
       "<tr>\n",
       "  <th>Kurtosis:</th>      <td> 3.007</td> <th>  Cond. No.          </th> <td>    1.01</td>\n",
       "</tr>\n",
       "</table><br/><br/>Notes:<br/>[1] Standard Errors assume that the covariance matrix of the errors is correctly specified."
      ],
      "text/plain": [
       "<class 'statsmodels.iolib.summary.Summary'>\n",
       "\"\"\"\n",
       "                            OLS Regression Results                            \n",
       "==============================================================================\n",
       "Dep. Variable:                Poverty   R-squared:                       0.876\n",
       "Model:                            OLS   Adj. R-squared:                  0.856\n",
       "Method:                 Least Squares   F-statistic:                     42.47\n",
       "Date:                Tue, 19 Apr 2022   Prob (F-statistic):           4.79e-17\n",
       "Time:                        20:49:32   Log-Likelihood:                -72.116\n",
       "No. Observations:                  50   AIC:                             160.2\n",
       "Df Residuals:                      42   BIC:                             175.5\n",
       "Df Model:                           7                                         \n",
       "Covariance Type:            nonrobust                                         \n",
       "===============================================================================\n",
       "                  coef    std err          t      P>|t|      [0.025      0.975]\n",
       "-------------------------------------------------------------------------------\n",
       "const          12.7320      0.158     80.606      0.000      12.413      13.051\n",
       "Crime           0.4798      0.160      3.007      0.004       0.158       0.802\n",
       "Doctors         0.1963      0.160      1.230      0.225      -0.126       0.518\n",
       "Income         -2.5276      0.160    -15.841      0.000      -2.850      -2.206\n",
       "Population      0.4195      0.160      2.629      0.012       0.097       0.741\n",
       "Traf Deaths     0.3125      0.160      1.959      0.057      -0.009       0.635\n",
       "Unemployed      0.3949      0.160      2.475      0.017       0.073       0.717\n",
       "White          -0.6939      0.160     -4.349      0.000      -1.016      -0.372\n",
       "==============================================================================\n",
       "Omnibus:                        2.719   Durbin-Watson:                   1.795\n",
       "Prob(Omnibus):                  0.257   Jarque-Bera (JB):                2.209\n",
       "Skew:                           0.515   Prob(JB):                        0.331\n",
       "Kurtosis:                       3.007   Cond. No.                         1.01\n",
       "==============================================================================\n",
       "\n",
       "Notes:\n",
       "[1] Standard Errors assume that the covariance matrix of the errors is correctly specified.\n",
       "\"\"\""
      ]
     },
     "execution_count": 19,
     "metadata": {},
     "output_type": "execute_result"
    }
   ],
   "source": [
    "sm_model_zca = sm.OLS(y, sm.add_constant(pd.DataFrame(zca.fit_transform(X[filtered]),columns=filtered)).set_index(y.index)).fit()\n",
    "sm_model_zca.summary()\n"
   ]
  }
 ],
 "metadata": {
  "kernelspec": {
   "display_name": "Python 3 (ipykernel)",
   "language": "python",
   "name": "python3"
  },
  "language_info": {
   "codemirror_mode": {
    "name": "ipython",
    "version": 3
   },
   "file_extension": ".py",
   "mimetype": "text/x-python",
   "name": "python",
   "nbconvert_exporter": "python",
   "pygments_lexer": "ipython3",
   "version": "3.9.7"
  }
 },
 "nbformat": 4,
 "nbformat_minor": 5
}
