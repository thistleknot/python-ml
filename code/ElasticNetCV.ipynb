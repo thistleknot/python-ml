{
 "cells": [
  {
   "cell_type": "code",
   "execution_count": 108,
   "id": "b987aaee-57dd-47c7-9844-281272894c16",
   "metadata": {},
   "outputs": [],
   "source": [
    "import pandas as pd\n",
    "from sklearn.linear_model import ElasticNetCV\n",
    "import itertools\n",
    "import statsmodels.api as sm\n",
    "from sklearn.model_selection import KFold\n",
    "from sklearn.model_selection import cross_val_score\n",
    "from sklearn.datasets import make_regression\n",
    "from sklearn.pipeline import Pipeline\n",
    "from sklearn import linear_model\n",
    "import numpy as np\n",
    "from numpy import arange\n",
    "from sklearn.model_selection import RepeatedKFold\n",
    "from sklearn.model_selection import cross_val_score\n",
    "import sys\n",
    "import os\n",
    "import matplotlib.pyplot as plt\n",
    "from sklearn.linear_model import ElasticNet\n",
    "if not sys.warnoptions:\n",
    "    import warnings\n",
    "    warnings.simplefilter(\"ignore\")\n",
    "    warnings.filterwarnings('ignore')\n",
    "    \n",
    "from sklearn.metrics import mean_squared_error    \n"
   ]
  },
  {
   "cell_type": "code",
   "execution_count": null,
   "id": "c2deb31d-11a7-43bc-bf6f-1f98f70b45e0",
   "metadata": {},
   "outputs": [],
   "source": [
    "\n",
    "            "
   ]
  },
  {
   "cell_type": "code",
   "execution_count": null,
   "id": "86b6815f-136b-4448-b19e-510839b39b88",
   "metadata": {},
   "outputs": [],
   "source": [
    "def read_data():\n",
    "    df = pd.read_csv(\"https://raw.githubusercontent.com/thistleknot/Python-Stock/master/data/raw/states.csv\").set_index('States')\n",
    "    return(df)"
   ]
  },
  {
   "cell_type": "code",
   "execution_count": null,
   "id": "972a77f2-7479-4008-853f-3290c532c008",
   "metadata": {},
   "outputs": [],
   "source": [
    "#!/usr/bin/python\n",
    "# -*- coding: utf-8 -*-\n",
    "\n",
    "# ------------------------------------\n",
    "# file: zca.py\n",
    "# date: Thu May 21 15:47 2015\n",
    "# author:\n",
    "# Maarten Versteegh\n",
    "# github.com/mwv\n",
    "# maartenversteegh AT gmail DOT com\n",
    "#\n",
    "# Licensed under GPLv3\n",
    "# ------------------------------------\n",
    "\"\"\"zca: ZCA whitening with a sklearn-like interface\n",
    "\n",
    "\"\"\"\n",
    "\n",
    "from __future__ import division\n",
    "\n",
    "import numpy as np\n",
    "from scipy import linalg\n",
    "\n",
    "from sklearn.base import TransformerMixin, BaseEstimator\n",
    "from sklearn.utils.validation import check_is_fitted\n",
    "from sklearn.utils import check_array, as_float_array\n",
    "\n",
    "class ZCA(BaseEstimator, TransformerMixin):\n",
    "    def __init__(self, regularization=1e-6, copy=False):\n",
    "        self.regularization = regularization\n",
    "        self.copy = copy\n",
    "\n",
    "    def fit(self, X, y=None):\n",
    "        \"\"\"Compute the mean, whitening and dewhitening matrices.\n",
    "\n",
    "        Parameters\n",
    "        ----------\n",
    "        X : array-like with shape [n_samples, n_features]\n",
    "            The data used to compute the mean, whitening and dewhitening\n",
    "            matrices.\n",
    "        \"\"\"\n",
    "        X = check_array(X, accept_sparse=None, copy=self.copy,\n",
    "                        ensure_2d=True)\n",
    "        X = as_float_array(X, copy=self.copy)\n",
    "        self.mean_ = X.mean(axis=0)\n",
    "        X_ = X - self.mean_\n",
    "        cov = np.dot(X_.T, X_) / (X_.shape[0]-1)\n",
    "        U, S, _ = linalg.svd(cov)\n",
    "        s = np.sqrt(S.clip(self.regularization))\n",
    "        s_inv = np.diag(1./s)\n",
    "        s = np.diag(s)\n",
    "        self.whiten_ = np.dot(np.dot(U, s_inv), U.T)\n",
    "        self.dewhiten_ = np.dot(np.dot(U, s), U.T)\n",
    "        return self\n",
    "\n",
    "    def transform(self, X, y=None, copy=None):\n",
    "        \"\"\"Perform ZCA whitening\n",
    "\n",
    "        Parameters\n",
    "        ----------\n",
    "        X : array-like with shape [n_samples, n_features]\n",
    "            The data to whiten along the features axis.\n",
    "        \"\"\"\n",
    "        check_is_fitted(self, 'mean_')\n",
    "        X = as_float_array(X, copy=self.copy)\n",
    "        return np.dot(X - self.mean_, self.whiten_.T)\n",
    "\n",
    "    def inverse_transform(self, X, copy=None):\n",
    "        \"\"\"Undo the ZCA transform and rotate back to the original\n",
    "        representation\n",
    "\n",
    "        Parameters\n",
    "        ----------\n",
    "        X : array-like with shape [n_samples, n_features]\n",
    "            The data to rotate back.\n",
    "        \"\"\"\n",
    "        check_is_fitted(self, 'mean_')\n",
    "        X = as_float_array(X, copy=self.copy)\n",
    "        return np.dot(X, self.dewhiten_) + self.mean_\n"
   ]
  },
  {
   "cell_type": "code",
   "execution_count": null,
   "id": "fdad804c-21b3-4853-aebd-94cad1bb8ee7",
   "metadata": {},
   "outputs": [],
   "source": []
  },
  {
   "cell_type": "code",
   "execution_count": null,
   "id": "e3bb1675-783d-4cac-b899-7f8d20828efe",
   "metadata": {},
   "outputs": [],
   "source": [
    "independent = 'Poverty'"
   ]
  },
  {
   "cell_type": "code",
   "execution_count": null,
   "id": "3d1fec8c-dd33-42c1-ab8f-7048005a04b5",
   "metadata": {},
   "outputs": [],
   "source": [
    "y = read_data()[[independent]]\n",
    "X = read_data()[(read_data().columns).difference([independent]).values]"
   ]
  },
  {
   "cell_type": "code",
   "execution_count": null,
   "id": "f3e3c65e-d43f-49ac-bc38-bd4badb8e048",
   "metadata": {},
   "outputs": [],
   "source": []
  },
  {
   "cell_type": "code",
   "execution_count": null,
   "id": "8ec57a1b-0cf0-453c-ab9c-fabb482034d9",
   "metadata": {},
   "outputs": [],
   "source": [
    "estimators = []\n",
    "estimators.append(('standardize', ZCA()))\n",
    "estimators.append(('ElasticNetCV', ElasticNetCV(cv=10, random_state=0)))\n",
    "cv = RepeatedKFold(n_splits=10, n_repeats=3, random_state=1)\n",
    "ratios = arange(0, 1, 0.01)\n",
    "alphas = [1e-5, 1e-4, 1e-3, 1e-2, 1e-1, 0.0, 1.0, 10.0, 100.0]\n",
    "#estimators.append(('ElasticNetCV', ElasticNetCV(l1_ratio=ratios, alphas=alphas, cv=cv, n_jobs=-1)))\n",
    "model = Pipeline(estimators)\n",
    "\n",
    "model.fit(X, y)\n",
    "#print('alpha: %f' % model.alphas)\n",
    "#print('l1_ratio_: %f' % model.l1_ratio)\n"
   ]
  },
  {
   "cell_type": "code",
   "execution_count": null,
   "id": "86fc5d11-65fa-4f73-ba1d-7893d4c4f72a",
   "metadata": {},
   "outputs": [],
   "source": [
    "model.score(X,y)"
   ]
  },
  {
   "cell_type": "code",
   "execution_count": null,
   "id": "aeb16a8d-88ae-4881-acb1-ad0da4181e33",
   "metadata": {},
   "outputs": [],
   "source": [
    "model.get_params()"
   ]
  },
  {
   "cell_type": "code",
   "execution_count": null,
   "id": "39020bc1-e69f-45ad-b3cc-c24fcb0c8a7d",
   "metadata": {},
   "outputs": [],
   "source": []
  },
  {
   "cell_type": "code",
   "execution_count": null,
   "id": "84176474-0f75-42bf-b0d3-c2626327f7c1",
   "metadata": {},
   "outputs": [],
   "source": []
  },
  {
   "cell_type": "code",
   "execution_count": null,
   "id": "da6b168e-e602-4586-9a5a-7b5e80161946",
   "metadata": {},
   "outputs": [],
   "source": []
  },
  {
   "cell_type": "code",
   "execution_count": null,
   "id": "f3ad3416-3d2d-4f2a-95b0-4ef296204027",
   "metadata": {},
   "outputs": [],
   "source": [
    "results = cross_val_score(model, X, y, cv=cv)"
   ]
  },
  {
   "cell_type": "code",
   "execution_count": null,
   "id": "bb5f891a-d15d-4ab0-ae06-9683eac285aa",
   "metadata": {},
   "outputs": [],
   "source": [
    "results"
   ]
  },
  {
   "cell_type": "code",
   "execution_count": null,
   "id": "170a61d3-7012-413d-800e-730d4feff1ee",
   "metadata": {},
   "outputs": [],
   "source": [
    "#X, y = make_regression(n_features=2, random_state=0)\n",
    "#regr = ElasticNetCV(cv=10, random_state=0)\n",
    "#regr.fit(X, y)\n",
    "#print(regr.alpha_)\n",
    "#print(regr.intercept_)\n",
    "#print(regr.predict(X))"
   ]
  },
  {
   "cell_type": "code",
   "execution_count": 104,
   "id": "a2c6c12c-4ca1-4121-b1cd-84f2fe79156a",
   "metadata": {},
   "outputs": [
    {
     "data": {
      "text/plain": [
       "1.1771762311443557"
      ]
     },
     "execution_count": 104,
     "metadata": {},
     "output_type": "execute_result"
    }
   ],
   "source": [
    "\n",
    "\n",
    "rmse_enet = mean_squared_error(y, model.predict(X), squared=True)\n",
    "rmse_enet"
   ]
  },
  {
   "cell_type": "code",
   "execution_count": null,
   "id": "54ec1bce-f1de-46a6-9d59-ac2e725e8630",
   "metadata": {},
   "outputs": [],
   "source": [
    "plt.scatter(model.predict(X),y)"
   ]
  },
  {
   "cell_type": "code",
   "execution_count": null,
   "id": "e2088629-9f5a-4a77-a92a-408900c0f1d8",
   "metadata": {},
   "outputs": [],
   "source": [
    "#chosen_model = ElasticNet(alpha=model.named_steps['ElasticNetCV'].alpha_, l1_ratio=model.named_steps['ElasticNetCV'].l1_ratio)\n",
    "#chosen_model.fit(X,y)"
   ]
  },
  {
   "cell_type": "code",
   "execution_count": null,
   "id": "b75cf33d-6f61-43ce-b9c4-c3cbc05334f8",
   "metadata": {},
   "outputs": [],
   "source": [
    "#plt.scatter(chosen_model.predict(X),y)"
   ]
  },
  {
   "cell_type": "code",
   "execution_count": null,
   "id": "dd236f92-ed3e-4018-b00e-1bcfa401355a",
   "metadata": {},
   "outputs": [],
   "source": [
    "#pd.DataFrame(model.predict(X)-chosen_model.predict(X)).hist()"
   ]
  },
  {
   "cell_type": "code",
   "execution_count": null,
   "id": "9c319352-06ee-4ac0-8542-d898869cc16b",
   "metadata": {},
   "outputs": [],
   "source": [
    "pd.DataFrame(np.array(pd.DataFrame([model.named_steps['ElasticNetCV'].coef_,]))*np.array(zca.fit_transform(X)),columns=X.columns).set_index(y.index).sum(axis=1).sort_values(axis=0)"
   ]
  },
  {
   "cell_type": "code",
   "execution_count": null,
   "id": "29244a2e-0d47-4517-9d62-d22331a8b518",
   "metadata": {},
   "outputs": [],
   "source": [
    "pd.DataFrame(zca.fit_transform(X[filtered]),columns=filtered),model.named_steps['ElasticNetCV'].coef_"
   ]
  },
  {
   "cell_type": "code",
   "execution_count": null,
   "id": "62e84fe9-237f-4107-a612-7bdec8b2fcab",
   "metadata": {},
   "outputs": [],
   "source": []
  },
  {
   "cell_type": "code",
   "execution_count": null,
   "id": "858b0cad-aaa5-47c2-bf91-422dbcc979f4",
   "metadata": {},
   "outputs": [],
   "source": [
    "filtered = X.columns[model.named_steps['ElasticNetCV'].coef_!=0]\n",
    "\n",
    "#from statsmodels.formula.api import ols\n",
    "sm_model = sm.OLS(y, sm.add_constant(X[filtered])).fit()\n",
    "sm_model.summary()\n",
    "\n",
    "\n"
   ]
  },
  {
   "cell_type": "code",
   "execution_count": null,
   "id": "75f38664-17c1-4726-b253-6cf5a3a8879d",
   "metadata": {},
   "outputs": [],
   "source": []
  },
  {
   "cell_type": "code",
   "execution_count": null,
   "id": "e15bb685-7591-4e57-a1d5-5b1957c6d8ee",
   "metadata": {},
   "outputs": [],
   "source": []
  },
  {
   "cell_type": "code",
   "execution_count": null,
   "id": "726727e0-6466-44a9-a00f-517ea57dfd98",
   "metadata": {},
   "outputs": [],
   "source": [
    "#model.named_steps['standardize'].fit_transform(X)*model.named_steps['ElasticNetCV'].coef_\n",
    "\n",
    "#model.named_steps['standardize'].fit_transform(X)\n",
    "#pd.DataFrame(zca.fit_transform(X[filtered]),columns=filtered),model.named_steps['ElasticNetCV'].alpha_\n",
    "#pd.DataFrame(zca.fit_transform(X[filtered]),columns=filtered),model.named_steps['ElasticNetCV'].l1_ratio\n"
   ]
  },
  {
   "cell_type": "code",
   "execution_count": null,
   "id": "745919a1-a152-4d37-8bff-f72de56175a8",
   "metadata": {},
   "outputs": [],
   "source": [
    "#pd.DataFrame([model.named_steps['standardize'].coef_],columns=X.columns)"
   ]
  },
  {
   "cell_type": "code",
   "execution_count": null,
   "id": "4f997284-c3a7-4633-b021-abcba6aca63f",
   "metadata": {},
   "outputs": [],
   "source": [
    "#pd.DataFrame([model.named_steps['ElasticNetCV'].coef_],columns=X.columns)"
   ]
  },
  {
   "cell_type": "code",
   "execution_count": 116,
   "id": "c6b8a0f2-b088-437f-a832-77c3492895c4",
   "metadata": {},
   "outputs": [
    {
     "data": {
      "application/vnd.jupyter.widget-view+json": {
       "model_id": "62b95a038f964a789b0d17c4102dc331",
       "version_major": 2,
       "version_minor": 0
      },
      "text/plain": [
       "Loop...:   0%|          | 0/9 [00:00<?, ?it/s]"
      ]
     },
     "metadata": {},
     "output_type": "display_data"
    }
   ],
   "source": [
    "def fit_linear_reg(X,Y):\n",
    "    #Fit linear regression model and return RSS and R squared values\n",
    "    model_k = linear_model.LinearRegression(fit_intercept = True)\n",
    "    model_k.fit(X,Y)\n",
    "    RSS = mean_squared_error(Y,model_k.predict(X)) * len(Y)\n",
    "    R_squared = model_k.score(X,Y)\n",
    "    return RSS, R_squared\n",
    "    \n",
    "#Importing tqdm for the progress bar\n",
    "from tqdm import tnrange, tqdm_notebook\n",
    "\n",
    "#Initialization variables\n",
    "\n",
    "k = 10\n",
    "RSS_list, R_squared_list, feature_list = [],[], []\n",
    "numb_features = []\n",
    "\n",
    "cv = RepeatedKFold(n_splits=10, n_repeats=3, random_state=1)\n",
    "\n",
    "#Looping over k = 1 to k = 11 features in X\n",
    "for k in tnrange(1,len(X.columns) + 1, desc = 'Loop...'):\n",
    "\n",
    "    #Looping over all possible combinations: from 11 choose k\n",
    "    for combo in itertools.combinations(X.columns,k):\n",
    "        zca = ZCA()\n",
    "        \n",
    "        #linear regression with CV\n",
    "        model = ElasticNet(alpha=0, l1_ratio=0)\n",
    "        model.fit(pd.DataFrame(zca.fit_transform(X[list(combo)]),columns=X[list(combo)].columns),y)\n",
    "        #tmp_result = model.predict(fit_linear_reg(pd.DataFrame(zca.fit_transform(X[list(combo)]),columns=X[list(combo)].columns),y)   #Store temp result \n",
    "        tmp_result = model.predict(zca.fit_transform(X[list(combo)]))  #Store temp result \n",
    "        RSS_list.append(tmp_result[0])                  #Append lists\n",
    "        R_squared_list.append(tmp_result[1])\n",
    "        feature_list.append(combo)\n",
    "        numb_features.append(len(combo))   \n",
    "\n",
    "#Store in DataFrame\n",
    "df_cv = pd.DataFrame({'numb_features': numb_features,'RSS': RSS_list, 'R_squared':R_squared_list,'features':feature_list})    "
   ]
  },
  {
   "cell_type": "code",
   "execution_count": 119,
   "id": "4a90e533-9eaa-4fe2-861d-0f209b4cd6de",
   "metadata": {},
   "outputs": [
    {
     "data": {
      "text/html": [
       "<div>\n",
       "<style scoped>\n",
       "    .dataframe tbody tr th:only-of-type {\n",
       "        vertical-align: middle;\n",
       "    }\n",
       "\n",
       "    .dataframe tbody tr th {\n",
       "        vertical-align: top;\n",
       "    }\n",
       "\n",
       "    .dataframe thead th {\n",
       "        text-align: right;\n",
       "    }\n",
       "</style>\n",
       "<table border=\"1\" class=\"dataframe\">\n",
       "  <thead>\n",
       "    <tr style=\"text-align: right;\">\n",
       "      <th></th>\n",
       "      <th>numb_features</th>\n",
       "      <th>RSS</th>\n",
       "      <th>R_squared</th>\n",
       "      <th>features</th>\n",
       "    </tr>\n",
       "  </thead>\n",
       "  <tbody>\n",
       "    <tr>\n",
       "      <th>0</th>\n",
       "      <td>1</td>\n",
       "      <td>12.910386</td>\n",
       "      <td>13.848102</td>\n",
       "      <td>(Crime,)</td>\n",
       "    </tr>\n",
       "    <tr>\n",
       "      <th>1</th>\n",
       "      <td>1</td>\n",
       "      <td>13.554547</td>\n",
       "      <td>13.353191</td>\n",
       "      <td>(Doctors,)</td>\n",
       "    </tr>\n",
       "    <tr>\n",
       "      <th>2</th>\n",
       "      <td>1</td>\n",
       "      <td>15.394385</td>\n",
       "      <td>8.025266</td>\n",
       "      <td>(Income,)</td>\n",
       "    </tr>\n",
       "    <tr>\n",
       "      <th>3</th>\n",
       "      <td>1</td>\n",
       "      <td>15.420799</td>\n",
       "      <td>12.818735</td>\n",
       "      <td>(Infant Mort,)</td>\n",
       "    </tr>\n",
       "    <tr>\n",
       "      <th>4</th>\n",
       "      <td>1</td>\n",
       "      <td>12.645080</td>\n",
       "      <td>12.396401</td>\n",
       "      <td>(Population,)</td>\n",
       "    </tr>\n",
       "    <tr>\n",
       "      <th>...</th>\n",
       "      <td>...</td>\n",
       "      <td>...</td>\n",
       "      <td>...</td>\n",
       "      <td>...</td>\n",
       "    </tr>\n",
       "    <tr>\n",
       "      <th>506</th>\n",
       "      <td>8</td>\n",
       "      <td>16.144712</td>\n",
       "      <td>8.699962</td>\n",
       "      <td>(Crime, Doctors, Income, Population, Traf Deat...</td>\n",
       "    </tr>\n",
       "    <tr>\n",
       "      <th>507</th>\n",
       "      <td>8</td>\n",
       "      <td>15.462325</td>\n",
       "      <td>12.373729</td>\n",
       "      <td>(Crime, Doctors, Infant Mort, Population, Traf...</td>\n",
       "    </tr>\n",
       "    <tr>\n",
       "      <th>508</th>\n",
       "      <td>8</td>\n",
       "      <td>16.120499</td>\n",
       "      <td>8.809363</td>\n",
       "      <td>(Crime, Income, Infant Mort, Population, Traf ...</td>\n",
       "    </tr>\n",
       "    <tr>\n",
       "      <th>509</th>\n",
       "      <td>8</td>\n",
       "      <td>16.088543</td>\n",
       "      <td>8.726147</td>\n",
       "      <td>(Doctors, Income, Infant Mort, Population, Tra...</td>\n",
       "    </tr>\n",
       "    <tr>\n",
       "      <th>510</th>\n",
       "      <td>9</td>\n",
       "      <td>16.105712</td>\n",
       "      <td>8.707678</td>\n",
       "      <td>(Crime, Doctors, Income, Infant Mort, Populati...</td>\n",
       "    </tr>\n",
       "  </tbody>\n",
       "</table>\n",
       "<p>511 rows × 4 columns</p>\n",
       "</div>"
      ],
      "text/plain": [
       "     numb_features        RSS  R_squared  \\\n",
       "0                1  12.910386  13.848102   \n",
       "1                1  13.554547  13.353191   \n",
       "2                1  15.394385   8.025266   \n",
       "3                1  15.420799  12.818735   \n",
       "4                1  12.645080  12.396401   \n",
       "..             ...        ...        ...   \n",
       "506              8  16.144712   8.699962   \n",
       "507              8  15.462325  12.373729   \n",
       "508              8  16.120499   8.809363   \n",
       "509              8  16.088543   8.726147   \n",
       "510              9  16.105712   8.707678   \n",
       "\n",
       "                                              features  \n",
       "0                                             (Crime,)  \n",
       "1                                           (Doctors,)  \n",
       "2                                            (Income,)  \n",
       "3                                       (Infant Mort,)  \n",
       "4                                        (Population,)  \n",
       "..                                                 ...  \n",
       "506  (Crime, Doctors, Income, Population, Traf Deat...  \n",
       "507  (Crime, Doctors, Infant Mort, Population, Traf...  \n",
       "508  (Crime, Income, Infant Mort, Population, Traf ...  \n",
       "509  (Doctors, Income, Infant Mort, Population, Tra...  \n",
       "510  (Crime, Doctors, Income, Infant Mort, Populati...  \n",
       "\n",
       "[511 rows x 4 columns]"
      ]
     },
     "execution_count": 119,
     "metadata": {},
     "output_type": "execute_result"
    }
   ],
   "source": [
    "import matplotlib.pyplot as plt\n",
    "df_cv"
   ]
  },
  {
   "cell_type": "code",
   "execution_count": 103,
   "id": "7f5dcdde-9fc0-437d-a7a9-162f8902693c",
   "metadata": {},
   "outputs": [
    {
     "data": {
      "text/plain": [
       "1.047869360518312"
      ]
     },
     "execution_count": 103,
     "metadata": {},
     "output_type": "execute_result"
    }
   ],
   "source": [
    "zca = ZCA()\n",
    "sm_model_zca = sm.OLS(y, sm.add_constant(pd.DataFrame(zca.fit_transform(X[filtered]),columns=filtered)).set_index(y.index)).fit()\n",
    "#sm_model_zca = sm.OLS(y, sm.add_constant(pd.DataFrame(zca.fit_transform(X[filtered]),columns=filtered)).set_index(y.index)).fit()\n",
    "\n",
    "sm_model_zca.summary()\n",
    "\n",
    "\n",
    "\n",
    "rmse_linear = mean_squared_error(y, sm_model_zca.predict(sm.add_constant(zca.fit_transform(X[filtered]))), squared=True)\n",
    "rmse_linear"
   ]
  }
 ],
 "metadata": {
  "kernelspec": {
   "display_name": "Python 3 (ipykernel)",
   "language": "python",
   "name": "python3"
  },
  "language_info": {
   "codemirror_mode": {
    "name": "ipython",
    "version": 3
   },
   "file_extension": ".py",
   "mimetype": "text/x-python",
   "name": "python",
   "nbconvert_exporter": "python",
   "pygments_lexer": "ipython3",
   "version": "3.9.7"
  }
 },
 "nbformat": 4,
 "nbformat_minor": 5
}
