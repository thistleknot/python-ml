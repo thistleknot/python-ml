{
 "cells": [
  {
   "cell_type": "code",
   "execution_count": 278,
   "id": "b987aaee-57dd-47c7-9844-281272894c16",
   "metadata": {},
   "outputs": [],
   "source": [
    "import pandas as pd\n",
    "from sklearn.linear_model import ElasticNetCV\n",
    "import itertools\n",
    "import statsmodels.api as sm\n",
    "from sklearn.model_selection import KFold\n",
    "from sklearn.model_selection import cross_val_score\n",
    "from sklearn.datasets import make_regression\n",
    "from sklearn.pipeline import Pipeline\n",
    "from sklearn import linear_model\n",
    "import numpy as np\n",
    "from numpy import arange\n",
    "from sklearn.model_selection import RepeatedKFold\n",
    "import sys\n",
    "import os\n",
    "import matplotlib.pyplot as plt\n",
    "from sklearn.linear_model import ElasticNet\n",
    "if not sys.warnoptions:\n",
    "    import warnings\n",
    "    warnings.simplefilter(\"ignore\")\n",
    "    warnings.filterwarnings('ignore')\n",
    "    \n",
    "from sklearn.preprocessing import StandardScaler\n",
    "from sklearn.metrics import mean_squared_error \n",
    "import matplotlib.pyplot as plt\n",
    "from mlxtend.feature_selection import SequentialFeatureSelector as SFS\n",
    "from mlxtend.plotting import plot_sequential_feature_selection as plot_sfs"
   ]
  },
  {
   "cell_type": "code",
   "execution_count": null,
   "id": "c2deb31d-11a7-43bc-bf6f-1f98f70b45e0",
   "metadata": {},
   "outputs": [],
   "source": [
    "\n",
    "            "
   ]
  },
  {
   "cell_type": "code",
   "execution_count": 279,
   "id": "86b6815f-136b-4448-b19e-510839b39b88",
   "metadata": {},
   "outputs": [],
   "source": [
    "def read_data():\n",
    "    df = pd.read_csv(\"https://raw.githubusercontent.com/thistleknot/Python-Stock/master/data/raw/states.csv\").set_index('States')\n",
    "    return(df)"
   ]
  },
  {
   "cell_type": "code",
   "execution_count": 280,
   "id": "972a77f2-7479-4008-853f-3290c532c008",
   "metadata": {},
   "outputs": [],
   "source": [
    "#!/usr/bin/python\n",
    "# -*- coding: utf-8 -*-\n",
    "\n",
    "# ------------------------------------\n",
    "# file: zca.py\n",
    "# date: Thu May 21 15:47 2015\n",
    "# author:\n",
    "# Maarten Versteegh\n",
    "# github.com/mwv\n",
    "# maartenversteegh AT gmail DOT com\n",
    "#\n",
    "# Licensed under GPLv3\n",
    "# ------------------------------------\n",
    "\"\"\"zca: ZCA whitening with a sklearn-like interface\n",
    "\n",
    "\"\"\"\n",
    "\n",
    "from __future__ import division\n",
    "\n",
    "import numpy as np\n",
    "from scipy import linalg\n",
    "\n",
    "from sklearn.base import TransformerMixin, BaseEstimator\n",
    "from sklearn.utils.validation import check_is_fitted\n",
    "from sklearn.utils import check_array, as_float_array\n",
    "\n",
    "class ZCA(BaseEstimator, TransformerMixin):\n",
    "    def __init__(self, regularization=1e-6, copy=False):\n",
    "        self.regularization = regularization\n",
    "        self.copy = copy\n",
    "\n",
    "    def fit(self, X, y=None):\n",
    "        \"\"\"Compute the mean, whitening and dewhitening matrices.\n",
    "\n",
    "        Parameters\n",
    "        ----------\n",
    "        X : array-like with shape [n_samples, n_features]\n",
    "            The data used to compute the mean, whitening and dewhitening\n",
    "            matrices.\n",
    "        \"\"\"\n",
    "        X = check_array(X, accept_sparse=None, copy=self.copy,\n",
    "                        ensure_2d=True)\n",
    "        X = as_float_array(X, copy=self.copy)\n",
    "        self.mean_ = X.mean(axis=0)\n",
    "        X_ = X - self.mean_\n",
    "        cov = np.dot(X_.T, X_) / (X_.shape[0]-1)\n",
    "        U, S, _ = linalg.svd(cov)\n",
    "        s = np.sqrt(S.clip(self.regularization))\n",
    "        s_inv = np.diag(1./s)\n",
    "        s = np.diag(s)\n",
    "        self.whiten_ = np.dot(np.dot(U, s_inv), U.T)\n",
    "        self.dewhiten_ = np.dot(np.dot(U, s), U.T)\n",
    "        return self\n",
    "\n",
    "    def transform(self, X, y=None, copy=None):\n",
    "        \"\"\"Perform ZCA whitening\n",
    "\n",
    "        Parameters\n",
    "        ----------\n",
    "        X : array-like with shape [n_samples, n_features]\n",
    "            The data to whiten along the features axis.\n",
    "        \"\"\"\n",
    "        check_is_fitted(self, 'mean_')\n",
    "        X = as_float_array(X, copy=self.copy)\n",
    "        return np.dot(X - self.mean_, self.whiten_.T)\n",
    "\n",
    "    def inverse_transform(self, X, copy=None):\n",
    "        \"\"\"Undo the ZCA transform and rotate back to the original\n",
    "        representation\n",
    "\n",
    "        Parameters\n",
    "        ----------\n",
    "        X : array-like with shape [n_samples, n_features]\n",
    "            The data to rotate back.\n",
    "        \"\"\"\n",
    "        check_is_fitted(self, 'mean_')\n",
    "        X = as_float_array(X, copy=self.copy)\n",
    "        return np.dot(X, self.dewhiten_) + self.mean_\n"
   ]
  },
  {
   "cell_type": "code",
   "execution_count": null,
   "id": "fdad804c-21b3-4853-aebd-94cad1bb8ee7",
   "metadata": {},
   "outputs": [],
   "source": []
  },
  {
   "cell_type": "code",
   "execution_count": 281,
   "id": "e3bb1675-783d-4cac-b899-7f8d20828efe",
   "metadata": {},
   "outputs": [],
   "source": [
    "independent = 'Poverty'"
   ]
  },
  {
   "cell_type": "code",
   "execution_count": 282,
   "id": "3d1fec8c-dd33-42c1-ab8f-7048005a04b5",
   "metadata": {},
   "outputs": [],
   "source": [
    "y = read_data()[[independent]]\n",
    "X = read_data()[(read_data().columns).difference([independent]).values]"
   ]
  },
  {
   "cell_type": "code",
   "execution_count": null,
   "id": "f3e3c65e-d43f-49ac-bc38-bd4badb8e048",
   "metadata": {},
   "outputs": [],
   "source": []
  },
  {
   "cell_type": "code",
   "execution_count": 283,
   "id": "8ec57a1b-0cf0-453c-ab9c-fabb482034d9",
   "metadata": {},
   "outputs": [
    {
     "data": {
      "text/plain": [
       "Pipeline(steps=[('standardize', ZCA()),\n",
       "                ('ElasticNetCV', ElasticNetCV(cv=10, random_state=0))])"
      ]
     },
     "execution_count": 283,
     "metadata": {},
     "output_type": "execute_result"
    }
   ],
   "source": [
    "estimators = []\n",
    "estimators.append(('standardize', ZCA()))\n",
    "estimators.append(('ElasticNetCV', ElasticNetCV(cv=10, random_state=0)))\n",
    "cv = RepeatedKFold(n_splits=10, n_repeats=3, random_state=1)\n",
    "ratios = arange(0, 1, 0.01)\n",
    "alphas = [1e-5, 1e-4, 1e-3, 1e-2, 1e-1, 0.0, 1.0, 10.0, 100.0]\n",
    "#estimators.append(('ElasticNetCV', ElasticNetCV(l1_ratio=ratios, alphas=alphas, cv=cv, n_jobs=-1)))\n",
    "model_en = Pipeline(estimators)\n",
    "\n",
    "model_en.fit(X, y)\n",
    "#print('alpha: %f' % model.alphas)\n",
    "#print('l1_ratio_: %f' % model.l1_ratio)\n"
   ]
  },
  {
   "cell_type": "code",
   "execution_count": 284,
   "id": "86fc5d11-65fa-4f73-ba1d-7893d4c4f72a",
   "metadata": {},
   "outputs": [
    {
     "data": {
      "text/plain": [
       "0.8609356681998442"
      ]
     },
     "execution_count": 284,
     "metadata": {},
     "output_type": "execute_result"
    }
   ],
   "source": [
    "model_en.score(X,y)"
   ]
  },
  {
   "cell_type": "code",
   "execution_count": 285,
   "id": "aeb16a8d-88ae-4881-acb1-ad0da4181e33",
   "metadata": {},
   "outputs": [
    {
     "data": {
      "text/plain": [
       "{'memory': None,\n",
       " 'steps': [('standardize', ZCA()),\n",
       "  ('ElasticNetCV', ElasticNetCV(cv=10, random_state=0))],\n",
       " 'verbose': False,\n",
       " 'standardize': ZCA(),\n",
       " 'ElasticNetCV': ElasticNetCV(cv=10, random_state=0),\n",
       " 'standardize__copy': False,\n",
       " 'standardize__regularization': 1e-06,\n",
       " 'ElasticNetCV__alphas': None,\n",
       " 'ElasticNetCV__copy_X': True,\n",
       " 'ElasticNetCV__cv': 10,\n",
       " 'ElasticNetCV__eps': 0.001,\n",
       " 'ElasticNetCV__fit_intercept': True,\n",
       " 'ElasticNetCV__l1_ratio': 0.5,\n",
       " 'ElasticNetCV__max_iter': 1000,\n",
       " 'ElasticNetCV__n_alphas': 100,\n",
       " 'ElasticNetCV__n_jobs': None,\n",
       " 'ElasticNetCV__normalize': False,\n",
       " 'ElasticNetCV__positive': False,\n",
       " 'ElasticNetCV__precompute': 'auto',\n",
       " 'ElasticNetCV__random_state': 0,\n",
       " 'ElasticNetCV__selection': 'cyclic',\n",
       " 'ElasticNetCV__tol': 0.0001,\n",
       " 'ElasticNetCV__verbose': 0}"
      ]
     },
     "execution_count": 285,
     "metadata": {},
     "output_type": "execute_result"
    }
   ],
   "source": [
    "model_en.get_params()"
   ]
  },
  {
   "cell_type": "code",
   "execution_count": null,
   "id": "39020bc1-e69f-45ad-b3cc-c24fcb0c8a7d",
   "metadata": {},
   "outputs": [],
   "source": []
  },
  {
   "cell_type": "code",
   "execution_count": null,
   "id": "84176474-0f75-42bf-b0d3-c2626327f7c1",
   "metadata": {},
   "outputs": [],
   "source": []
  },
  {
   "cell_type": "code",
   "execution_count": null,
   "id": "da6b168e-e602-4586-9a5a-7b5e80161946",
   "metadata": {},
   "outputs": [],
   "source": []
  },
  {
   "cell_type": "code",
   "execution_count": 286,
   "id": "f3ad3416-3d2d-4f2a-95b0-4ef296204027",
   "metadata": {},
   "outputs": [],
   "source": [
    "results = cross_val_score(model_en, X, y, cv=cv)"
   ]
  },
  {
   "cell_type": "code",
   "execution_count": 287,
   "id": "bb5f891a-d15d-4ab0-ae06-9683eac285aa",
   "metadata": {},
   "outputs": [
    {
     "data": {
      "text/plain": [
       "array([ 0.6359295 ,  0.89726432,  0.94487683,  0.63892249,  0.67139652,\n",
       "       -0.13444101,  0.80174153,  0.90693939,  0.83291332,  0.41320671,\n",
       "        0.93914589,  0.80081269,  0.28881888,  0.30030918,  0.90993784,\n",
       "        0.69230169,  0.67620445,  0.66781782,  0.75809788,  0.87535852,\n",
       "        0.60698596,  0.81575621,  0.89281156,  0.97067134,  0.43092841,\n",
       "        0.15104642,  0.07861483,  0.68202931,  0.86368869,  0.65555619])"
      ]
     },
     "execution_count": 287,
     "metadata": {},
     "output_type": "execute_result"
    }
   ],
   "source": [
    "results"
   ]
  },
  {
   "cell_type": "code",
   "execution_count": 288,
   "id": "170a61d3-7012-413d-800e-730d4feff1ee",
   "metadata": {},
   "outputs": [],
   "source": [
    "#X, y = make_regression(n_features=2, random_state=0)\n",
    "#regr = ElasticNetCV(cv=10, random_state=0)\n",
    "#regr.fit(X, y)\n",
    "#print(regr.alpha_)\n",
    "#print(regr.intercept_)\n",
    "#print(regr.predict(X))"
   ]
  },
  {
   "cell_type": "code",
   "execution_count": 289,
   "id": "a2c6c12c-4ca1-4121-b1cd-84f2fe79156a",
   "metadata": {},
   "outputs": [
    {
     "data": {
      "text/plain": [
       "1.1771762311443557"
      ]
     },
     "execution_count": 289,
     "metadata": {},
     "output_type": "execute_result"
    }
   ],
   "source": [
    "\n",
    "\n",
    "rmse_enet = mean_squared_error(y, model_en.predict(X), squared=True)\n",
    "rmse_enet"
   ]
  },
  {
   "cell_type": "code",
   "execution_count": 290,
   "id": "54ec1bce-f1de-46a6-9d59-ac2e725e8630",
   "metadata": {},
   "outputs": [
    {
     "data": {
      "text/plain": [
       "<matplotlib.collections.PathCollection at 0x21f1b5dc790>"
      ]
     },
     "execution_count": 290,
     "metadata": {},
     "output_type": "execute_result"
    },
    {
     "data": {
      "image/png": "[encoded data removed]",
      "text/plain": [
       "<Figure size 432x288 with 1 Axes>"
      ]
     },
     "metadata": {
      "needs_background": "light"
     },
     "output_type": "display_data"
    }
   ],
   "source": [
    "plt.scatter(model_en.predict(X),y)"
   ]
  },
  {
   "cell_type": "code",
   "execution_count": 291,
   "id": "e2088629-9f5a-4a77-a92a-408900c0f1d8",
   "metadata": {},
   "outputs": [],
   "source": [
    "#chosen_model = ElasticNet(alpha=model.named_steps['ElasticNetCV'].alpha_, l1_ratio=model.named_steps['ElasticNetCV'].l1_ratio)\n",
    "#chosen_model.fit(X,y)"
   ]
  },
  {
   "cell_type": "code",
   "execution_count": 292,
   "id": "b75cf33d-6f61-43ce-b9c4-c3cbc05334f8",
   "metadata": {},
   "outputs": [],
   "source": [
    "#plt.scatter(chosen_model.predict(X),y)"
   ]
  },
  {
   "cell_type": "code",
   "execution_count": 293,
   "id": "dd236f92-ed3e-4018-b00e-1bcfa401355a",
   "metadata": {},
   "outputs": [],
   "source": [
    "#pd.DataFrame(model.predict(X)-chosen_model.predict(X)).hist()"
   ]
  },
  {
   "cell_type": "code",
   "execution_count": 294,
   "id": "9c319352-06ee-4ac0-8542-d898869cc16b",
   "metadata": {},
   "outputs": [],
   "source": [
    "#trying to elastic net manually.  There is a formula \n",
    "#pd.DataFrame(np.array(pd.DataFrame([model.named_steps['ElasticNetCV'].coef_,]))*np.array(zca.fit_transform(X)),columns=X.columns).set_index(y.index).sum(axis=1).sort_values(axis=0)"
   ]
  },
  {
   "cell_type": "code",
   "execution_count": 295,
   "id": "29244a2e-0d47-4517-9d62-d22331a8b518",
   "metadata": {},
   "outputs": [],
   "source": [
    "#pd.DataFrame(zca.fit_transform(X[filtered_eNetCV]),columns=filtered_eNetCV),model.named_steps['ElasticNetCV'].coef_"
   ]
  },
  {
   "cell_type": "code",
   "execution_count": null,
   "id": "62e84fe9-237f-4107-a612-7bdec8b2fcab",
   "metadata": {},
   "outputs": [],
   "source": []
  },
  {
   "cell_type": "code",
   "execution_count": 310,
   "id": "858b0cad-aaa5-47c2-bf91-422dbcc979f4",
   "metadata": {},
   "outputs": [
    {
     "name": "stdout",
     "output_type": "stream",
     "text": [
      "                            OLS Regression Results                            \n",
      "==============================================================================\n",
      "Dep. Variable:                Poverty   R-squared:                       0.876\n",
      "Model:                            OLS   Adj. R-squared:                  0.856\n",
      "Method:                 Least Squares   F-statistic:                     42.47\n",
      "Date:                Thu, 21 Apr 2022   Prob (F-statistic):           4.79e-17\n",
      "Time:                        19:46:37   Log-Likelihood:                -72.116\n",
      "No. Observations:                  50   AIC:                             160.2\n",
      "Df Residuals:                      42   BIC:                             175.5\n",
      "Df Model:                           7                                         \n",
      "Covariance Type:            nonrobust                                         \n",
      "===============================================================================\n",
      "                  coef    std err          t      P>|t|      [0.025      0.975]\n",
      "-------------------------------------------------------------------------------\n",
      "const          26.0438      3.622      7.190      0.000      18.734      33.353\n",
      "Crime          -0.0004      0.001     -0.384      0.703      -0.003       0.002\n",
      "Doctors         0.0055      0.003      1.598      0.118      -0.001       0.012\n",
      "Income         -0.0003   2.98e-05     -9.668      0.000      -0.000      -0.000\n",
      "Population   7.831e-08   2.74e-08      2.862      0.007    2.31e-08    1.34e-07\n",
      "Traf Deaths     1.5103      0.759      1.990      0.053      -0.021       3.042\n",
      "Unemployed      0.4037      0.149      2.710      0.010       0.103       0.704\n",
      "White          -0.0525      0.017     -3.144      0.003      -0.086      -0.019\n",
      "==============================================================================\n",
      "Omnibus:                        2.719   Durbin-Watson:                   1.795\n",
      "Prob(Omnibus):                  0.257   Jarque-Bera (JB):                2.209\n",
      "Skew:                           0.515   Prob(JB):                        0.331\n",
      "Kurtosis:                       3.007   Cond. No.                     2.08e+08\n",
      "==============================================================================\n",
      "\n",
      "Notes:\n",
      "[1] Standard Errors assume that the covariance matrix of the errors is correctly specified.\n",
      "[2] The condition number is large, 2.08e+08. This might indicate that there are\n",
      "strong multicollinearity or other numerical problems.\n",
      "1.0478693605183118\n",
      "                            OLS Regression Results                            \n",
      "==============================================================================\n",
      "Dep. Variable:                Poverty   R-squared:                       0.876\n",
      "Model:                            OLS   Adj. R-squared:                  0.856\n",
      "Method:                 Least Squares   F-statistic:                     42.47\n",
      "Date:                Thu, 21 Apr 2022   Prob (F-statistic):           4.79e-17\n",
      "Time:                        19:46:37   Log-Likelihood:                -72.116\n",
      "No. Observations:                  50   AIC:                             160.2\n",
      "Df Residuals:                      42   BIC:                             175.5\n",
      "Df Model:                           7                                         \n",
      "Covariance Type:            nonrobust                                         \n",
      "===============================================================================\n",
      "                  coef    std err          t      P>|t|      [0.025      0.975]\n",
      "-------------------------------------------------------------------------------\n",
      "const          12.7320      0.158     80.606      0.000      12.413      13.051\n",
      "Crime           0.4798      0.160      3.007      0.004       0.158       0.802\n",
      "Doctors         0.1963      0.160      1.230      0.225      -0.126       0.518\n",
      "Income         -2.5276      0.160    -15.841      0.000      -2.850      -2.206\n",
      "Population      0.4195      0.160      2.629      0.012       0.097       0.741\n",
      "Traf Deaths     0.3125      0.160      1.959      0.057      -0.009       0.635\n",
      "Unemployed      0.3949      0.160      2.475      0.017       0.073       0.717\n",
      "White          -0.6939      0.160     -4.349      0.000      -1.016      -0.372\n",
      "==============================================================================\n",
      "Omnibus:                        2.719   Durbin-Watson:                   1.795\n",
      "Prob(Omnibus):                  0.257   Jarque-Bera (JB):                2.209\n",
      "Skew:                           0.515   Prob(JB):                        0.331\n",
      "Kurtosis:                       3.007   Cond. No.                         1.01\n",
      "==============================================================================\n",
      "\n",
      "Notes:\n",
      "[1] Standard Errors assume that the covariance matrix of the errors is correctly specified.\n"
     ]
    },
    {
     "data": {
      "text/plain": [
       "1.047869360518312"
      ]
     },
     "execution_count": 310,
     "metadata": {},
     "output_type": "execute_result"
    }
   ],
   "source": [
    "filtered_eNetCV = X.columns[model_en.named_steps['ElasticNetCV'].coef_!=0]\n",
    "\n",
    "#from statsmodels.formula.api import ols\n",
    "sm_model = sm.OLS(y, sm.add_constant(X[filtered_eNetCV])).fit()\n",
    "print(sm_model.summary())\n",
    "\n",
    "rmse_linear = mean_squared_error(y, sm_model.predict(sm.add_constant(X[filtered_eNetCV])), squared=True)\n",
    "print(rmse_linear)\n",
    "zca = ZCA()\n",
    "sm_model_zca = sm.OLS(y, sm.add_constant(pd.DataFrame(zca.fit_transform(X[filtered_eNetCV]),columns=filtered_eNetCV)).set_index(y.index)).fit()\n",
    "#sm_model_zca = sm.OLS(y, sm.add_constant(pd.DataFrame(zca.fit_transform(X[filtered_eNetCV]),columns=filtered_eNetCV)).set_index(y.index)).fit()\n",
    "\n",
    "print(sm_model_zca.summary())\n",
    "\n",
    "rmse_linear = mean_squared_error(y, sm_model_zca.predict(sm.add_constant(zca.fit_transform(X[filtered_eNetCV]))), squared=True)\n",
    "rmse_linear\n"
   ]
  },
  {
   "cell_type": "code",
   "execution_count": null,
   "id": "75f38664-17c1-4726-b253-6cf5a3a8879d",
   "metadata": {},
   "outputs": [],
   "source": []
  },
  {
   "cell_type": "code",
   "execution_count": null,
   "id": "e15bb685-7591-4e57-a1d5-5b1957c6d8ee",
   "metadata": {},
   "outputs": [],
   "source": []
  },
  {
   "cell_type": "code",
   "execution_count": 297,
   "id": "726727e0-6466-44a9-a00f-517ea57dfd98",
   "metadata": {},
   "outputs": [],
   "source": [
    "#model.named_steps['standardize'].fit_transform(X)*model.named_steps['ElasticNetCV'].coef_\n",
    "\n",
    "#model.named_steps['standardize'].fit_transform(X)\n",
    "#pd.DataFrame(zca.fit_transform(X[filtered_eNetCV]),columns=filtered_eNetCV),model.named_steps['ElasticNetCV'].alpha_\n",
    "#pd.DataFrame(zca.fit_transform(X[filtered_eNetCV]),columns=filtered_eNetCV),model.named_steps['ElasticNetCV'].l1_ratio\n"
   ]
  },
  {
   "cell_type": "code",
   "execution_count": 298,
   "id": "745919a1-a152-4d37-8bff-f72de56175a8",
   "metadata": {},
   "outputs": [],
   "source": [
    "#pd.DataFrame([model.named_steps['standardize'].coef_],columns=X.columns)"
   ]
  },
  {
   "cell_type": "code",
   "execution_count": 299,
   "id": "4f997284-c3a7-4633-b021-abcba6aca63f",
   "metadata": {},
   "outputs": [],
   "source": [
    "#pd.DataFrame([model.named_steps['ElasticNetCV'].coef_],columns=X.columns)"
   ]
  },
  {
   "cell_type": "code",
   "execution_count": 300,
   "id": "f2f2932f-a2ac-4fb2-9a54-f5aebdcc0792",
   "metadata": {},
   "outputs": [
    {
     "data": {
      "text/plain": [
       "Index(['Crime', 'Doctors', 'Income', 'Infant Mort', 'Population',\n",
       "       'Traf Deaths', 'Unemployed', 'University', 'White'],\n",
       "      dtype='object')"
      ]
     },
     "execution_count": 300,
     "metadata": {},
     "output_type": "execute_result"
    }
   ],
   "source": [
    "X.columns"
   ]
  },
  {
   "cell_type": "code",
   "execution_count": 301,
   "id": "c6b8a0f2-b088-437f-a832-77c3492895c4",
   "metadata": {},
   "outputs": [
    {
     "data": {
      "application/vnd.jupyter.widget-view+json": {
       "model_id": "7aeff5b2b07740a2b61d79723b884447",
       "version_major": 2,
       "version_minor": 0
      },
      "text/plain": [
       "Loop...:   0%|          | 0/9 [00:00<?, ?it/s]"
      ]
     },
     "metadata": {},
     "output_type": "display_data"
    }
   ],
   "source": [
    "def fit_linear_score(X,Y):\n",
    "    #Fit linear regression model and return RSS and R squared values\n",
    "    zca = ZCA()\n",
    "        \n",
    "    estimators = []\n",
    "    estimators.append(('standardize', ZCA()))\n",
    "\n",
    "    cv = RepeatedKFold(n_splits=10, n_repeats=3, random_state=1)\n",
    "    estimators.append(('Linear', ElasticNet(alpha=0, l1_ratio=0,fit_intercept = True)))\n",
    "    \n",
    "    model_k = Pipeline(estimators)\n",
    "    #model_k = linear_model.LinearRegression(fit_intercept = True)\n",
    "    model_k.fit(X,Y)\n",
    "    RSS = mean_squared_error(Y,model_k.predict(X)) * len(Y)\n",
    "    R_squared = model_k.score(X,Y)\n",
    "    return RSS, R_squared\n",
    "    \n",
    "#Importing tqdm for the progress bar\n",
    "from tqdm import tnrange, tqdm_notebook\n",
    "\n",
    "#Initialization variables\n",
    "\n",
    "k = len(X.columns)\n",
    "\n",
    "RSS_list, R_squared_list, feature_list = [],[], []\n",
    "numb_features = []\n",
    "\n",
    "cv = RepeatedKFold(n_splits=10, n_repeats=3, random_state=1)\n",
    "\n",
    "#Looping over k = 1 to k = 11 features in X\n",
    "for k in tnrange(1,len(X.columns) + 1, desc = 'Loop...'):\n",
    "\n",
    "    #Looping over all possible combinations: from 11 choose k\n",
    "    for combo in itertools.combinations(X.columns,k):\n",
    "        #zca = StandardScaler()\n",
    "        \n",
    "        #linear regression with CV\n",
    "        \n",
    "        #estimators.append(('ElasticNetCV', ElasticNetCV(l1_ratio=ratios, alphas=alphas, cv=cv, n_jobs=-1)))\n",
    "\n",
    "        model_en_ = fit_linear_score(X[list(combo)],y)\n",
    "        \n",
    "        #model_en_.fit(X, y)\n",
    "\n",
    "        #tmp_result = model.predict(fit_linear_reg(pd.DataFrame(zca.fit_transform(X[list(combo)]),columns=X[list(combo)].columns),y)   #Store temp result \n",
    "        #tmp_result = model_en_.predict(zca.fit_transform(X[list(combo)]))  #Store temp result \n",
    "        RSS_list.append(model_en_[0])                  #Append lists\n",
    "        R_squared_list.append(model_en_[1])\n",
    "        feature_list.append(combo)\n",
    "        numb_features.append(len(combo))   \n",
    "\n",
    "#Store in DataFrame\n",
    "df_cv = pd.DataFrame({'numb_features': numb_features,'RSS': RSS_list, 'R_squared':R_squared_list,'features':feature_list})    \n"
   ]
  },
  {
   "cell_type": "code",
   "execution_count": null,
   "id": "d830be8e-732d-4975-9b54-c23adaaaba31",
   "metadata": {},
   "outputs": [],
   "source": []
  },
  {
   "cell_type": "code",
   "execution_count": 302,
   "id": "79f85bab-b184-4d06-8473-b2ad55ce5475",
   "metadata": {},
   "outputs": [
    {
     "name": "stdout",
     "output_type": "stream",
     "text": [
      "                            OLS Regression Results                            \n",
      "==============================================================================\n",
      "Dep. Variable:                Poverty   R-squared:                       0.878\n",
      "Model:                            OLS   Adj. R-squared:                  0.850\n",
      "Method:                 Least Squares   F-statistic:                     31.93\n",
      "Date:                Thu, 21 Apr 2022   Prob (F-statistic):           1.59e-15\n",
      "Time:                        19:44:40   Log-Likelihood:                -71.791\n",
      "No. Observations:                  50   AIC:                             163.6\n",
      "Df Residuals:                      40   BIC:                             182.7\n",
      "Df Model:                           9                                         \n",
      "Covariance Type:            nonrobust                                         \n",
      "===============================================================================\n",
      "                  coef    std err          t      P>|t|      [0.025      0.975]\n",
      "-------------------------------------------------------------------------------\n",
      "const          12.7320      0.161     79.177      0.000      12.407      13.057\n",
      "Crime           0.4796      0.162      2.953      0.005       0.151       0.808\n",
      "Doctors         0.1970      0.162      1.212      0.232      -0.131       0.525\n",
      "Income         -2.5275      0.162    -15.560      0.000      -2.856      -2.199\n",
      "Infant Mort     0.0203      0.162      0.125      0.901      -0.308       0.349\n",
      "Population      0.4195      0.162      2.582      0.014       0.091       0.748\n",
      "Traf Deaths     0.3259      0.162      2.006      0.052      -0.002       0.654\n",
      "Unemployed      0.4009      0.162      2.468      0.018       0.073       0.729\n",
      "University     -0.0351      0.162     -0.216      0.830      -0.363       0.293\n",
      "White          -0.6931      0.162     -4.267      0.000      -1.021      -0.365\n",
      "==============================================================================\n",
      "Omnibus:                        2.123   Durbin-Watson:                   1.796\n",
      "Prob(Omnibus):                  0.346   Jarque-Bera (JB):                1.792\n",
      "Skew:                           0.461   Prob(JB):                        0.408\n",
      "Kurtosis:                       2.900   Cond. No.                         1.01\n",
      "==============================================================================\n",
      "\n",
      "Notes:\n",
      "[1] Standard Errors assume that the covariance matrix of the errors is correctly specified.\n"
     ]
    },
    {
     "data": {
      "image/png": "[encoded data removed]",
      "text/plain": [
       "<Figure size 432x288 with 1 Axes>"
      ]
     },
     "metadata": {
      "needs_background": "light"
     },
     "output_type": "display_data"
    },
    {
     "name": "stdout",
     "output_type": "stream",
     "text": [
      "['Crime', 'Doctors', 'Income', 'Infant Mort', 'Population', 'Traf Deaths', 'Unemployed', 'University', 'White']\n"
     ]
    },
    {
     "data": {
      "text/plain": [
       "1.0343189050835662"
      ]
     },
     "execution_count": 302,
     "metadata": {},
     "output_type": "execute_result"
    }
   ],
   "source": [
    "bestLinear = pd.Series(df_cv.iloc[np.argmin(df_cv['RSS'])]['features']).to_list()\n",
    "\n",
    "zca = ZCA()\n",
    "sm_model_linear_zca = sm.OLS(y, sm.add_constant(pd.DataFrame(zca.fit_transform(X[bestLinear]),columns=bestLinear).set_index(y.index))).fit()\n",
    "#sm_model_zca = sm.OLS(y, sm.add_constant(pd.DataFrame(zca.fit_transform(X[filtered_eNetCV]),columns=filtered_eNetCV)).set_index(y.index)).fit()\n",
    "\n",
    "print(sm_model_linear_zca.summary())\n",
    "\n",
    "plt.plot(df_cv['RSS'])\n",
    "plt.show()\n",
    "print(bestLinear)\n",
    "\n",
    "rmse_linear = mean_squared_error(y, sm_model_linear_zca.predict(sm.add_constant(pd.DataFrame(zca.fit_transform(X[bestLinear]),columns=bestLinear).set_index(y.index))), squared=True)\n",
    "rmse_linear"
   ]
  },
  {
   "cell_type": "code",
   "execution_count": null,
   "id": "3fe7cc09-994d-41d0-bd26-c5d35184eba0",
   "metadata": {},
   "outputs": [],
   "source": []
  },
  {
   "cell_type": "code",
   "execution_count": 303,
   "id": "7d1be84b-853f-40af-ba34-bf3a93ae0387",
   "metadata": {},
   "outputs": [
    {
     "data": {
      "text/plain": [
       "Pipeline(steps=[('standardize', ZCA()),\n",
       "                ('SFS',\n",
       "                 SequentialFeatureSelector(cv=10,\n",
       "                                           estimator=ElasticNet(alpha=0,\n",
       "                                                                l1_ratio=0),\n",
       "                                           k_features=9,\n",
       "                                           scoring='neg_mean_squared_error'))])"
      ]
     },
     "execution_count": 303,
     "metadata": {},
     "output_type": "execute_result"
    }
   ],
   "source": [
    "sfs = SFS(ElasticNet(alpha=0, l1_ratio=0), \n",
    "          k_features=len(X.columns), \n",
    "          forward=True, \n",
    "          floating=False, \n",
    "          scoring='neg_mean_squared_error',\n",
    "          cv=10)\n",
    "\n",
    "estimators = []\n",
    "estimators.append(('standardize', ZCA()))\n",
    "estimators.append(('SFS', SFS(ElasticNet(alpha=0, l1_ratio=0), \n",
    "          k_features=len(X.columns), \n",
    "          forward=True, \n",
    "          floating=False, \n",
    "          scoring='neg_mean_squared_error',\n",
    "          cv=10)))\n",
    "#cv = RepeatedKFold(n_splits=10, n_repeats=3, random_state=1)\n",
    "model_sfs = Pipeline(estimators)\n",
    "model_sfs.fit(X, y)\n",
    "#sfs = sfs.fit(X, y)\n",
    "#fig = plot_sfs(sfs.get_metric_dict(), kind='std_err')\n",
    "\n",
    "#plt.title('Sequential Forward Selection (w. StdErr)')\n",
    "#plt.grid()\n",
    "#plt.show()\n",
    "model_sfs"
   ]
  },
  {
   "cell_type": "code",
   "execution_count": 304,
   "id": "1bf57182-0ab1-446c-9abb-53a799e5c911",
   "metadata": {},
   "outputs": [
    {
     "data": {
      "text/plain": [
       "[<matplotlib.lines.Line2D at 0x21f1b70ffa0>]"
      ]
     },
     "execution_count": 304,
     "metadata": {},
     "output_type": "execute_result"
    },
    {
     "data": {
      "image/png": "[encoded data removed]",
      "text/plain": [
       "<Figure size 432x288 with 1 Axes>"
      ]
     },
     "metadata": {
      "needs_background": "light"
     },
     "output_type": "display_data"
    }
   ],
   "source": [
    "plt.plot(pd.DataFrame(model_sfs.named_steps['SFS'].subsets_).loc['avg_score'])"
   ]
  },
  {
   "cell_type": "code",
   "execution_count": null,
   "id": "283cf797-5f79-489d-ba2e-3bacd145c6a6",
   "metadata": {},
   "outputs": [],
   "source": []
  },
  {
   "cell_type": "code",
   "execution_count": 305,
   "id": "ccdab25d-928d-4359-a716-7185b1f7b3b5",
   "metadata": {},
   "outputs": [],
   "source": [
    "\n",
    "bestSFS=X.columns[pd.Series(pd.DataFrame(model_sfs.named_steps['SFS'].subsets_).iloc[:,np.argmin(np.abs(pd.DataFrame(model_sfs.named_steps['SFS'].subsets_).loc['avg_score']))-1].feature_idx).to_list()]"
   ]
  },
  {
   "cell_type": "code",
   "execution_count": 306,
   "id": "892ae9a3-fc7a-46fc-99e2-e7d910ff10d3",
   "metadata": {},
   "outputs": [
    {
     "data": {
      "text/plain": [
       "Index(['Crime', 'Income', 'Population', 'Unemployed', 'White'], dtype='object')"
      ]
     },
     "execution_count": 306,
     "metadata": {},
     "output_type": "execute_result"
    }
   ],
   "source": [
    "bestSFS"
   ]
  },
  {
   "cell_type": "code",
   "execution_count": null,
   "id": "1659b553-f9ae-4378-a694-eeb383551fab",
   "metadata": {},
   "outputs": [],
   "source": []
  },
  {
   "cell_type": "code",
   "execution_count": null,
   "id": "55ca1b90-2fd6-45bb-bde0-df27b4d74bab",
   "metadata": {},
   "outputs": [],
   "source": []
  },
  {
   "cell_type": "code",
   "execution_count": 307,
   "id": "4a90e533-9eaa-4fe2-861d-0f209b4cd6de",
   "metadata": {},
   "outputs": [
    {
     "name": "stdout",
     "output_type": "stream",
     "text": [
      "                            OLS Regression Results                            \n",
      "==============================================================================\n",
      "Dep. Variable:                Poverty   R-squared:                       0.862\n",
      "Model:                            OLS   Adj. R-squared:                  0.847\n",
      "Method:                 Least Squares   F-statistic:                     55.14\n",
      "Date:                Thu, 21 Apr 2022   Prob (F-statistic):           7.69e-18\n",
      "Time:                        19:44:43   Log-Likelihood:                -74.766\n",
      "No. Observations:                  50   AIC:                             161.5\n",
      "Df Residuals:                      44   BIC:                             173.0\n",
      "Df Model:                           5                                         \n",
      "Covariance Type:            nonrobust                                         \n",
      "==============================================================================\n",
      "                 coef    std err          t      P>|t|      [0.025      0.975]\n",
      "------------------------------------------------------------------------------\n",
      "const         12.7320      0.163     78.244      0.000      12.404      13.060\n",
      "Crime          0.4745      0.164      2.887      0.006       0.143       0.806\n",
      "Income        -2.5267      0.164    -15.372      0.000      -2.858      -2.195\n",
      "Population     0.4195      0.164      2.552      0.014       0.088       0.751\n",
      "Unemployed     0.4161      0.164      2.531      0.015       0.085       0.747\n",
      "White         -0.7003      0.164     -4.260      0.000      -1.032      -0.369\n",
      "==============================================================================\n",
      "Omnibus:                        2.584   Durbin-Watson:                   1.853\n",
      "Prob(Omnibus):                  0.275   Jarque-Bera (JB):                2.338\n",
      "Skew:                           0.439   Prob(JB):                        0.311\n",
      "Kurtosis:                       2.408   Cond. No.                         1.01\n",
      "==============================================================================\n",
      "\n",
      "Notes:\n",
      "[1] Standard Errors assume that the covariance matrix of the errors is correctly specified.\n"
     ]
    },
    {
     "data": {
      "text/plain": [
       "1.1650540343581808"
      ]
     },
     "execution_count": 307,
     "metadata": {},
     "output_type": "execute_result"
    }
   ],
   "source": [
    "zca = ZCA()\n",
    "sm_model_linear_zca = sm.OLS(y, sm.add_constant(pd.DataFrame(zca.fit_transform(X[bestSFS]),columns=bestSFS).set_index(y.index))).fit()\n",
    "#sm_model_zca = sm.OLS(y, sm.add_constant(pd.DataFrame(zca.fit_transform(X[filtered_eNetCV]),columns=filtered_eNetCV)).set_index(y.index)).fit()\n",
    "\n",
    "print(sm_model_linear_zca.summary())\n",
    "\n",
    "rmse_linear = mean_squared_error(y, sm_model_linear_zca.predict(sm.add_constant(pd.DataFrame(zca.fit_transform(X[bestSFS]),columns=bestSFS).set_index(y.index))), squared=True)\n",
    "rmse_linear"
   ]
  },
  {
   "cell_type": "code",
   "execution_count": null,
   "id": "e124e688-4ae5-461d-a081-7e2be3d0fa61",
   "metadata": {},
   "outputs": [],
   "source": []
  },
  {
   "cell_type": "code",
   "execution_count": 308,
   "id": "7f5dcdde-9fc0-437d-a7a9-162f8902693c",
   "metadata": {},
   "outputs": [
    {
     "name": "stdout",
     "output_type": "stream",
     "text": [
      "                            OLS Regression Results                            \n",
      "==============================================================================\n",
      "Dep. Variable:                Poverty   R-squared:                       0.876\n",
      "Model:                            OLS   Adj. R-squared:                  0.856\n",
      "Method:                 Least Squares   F-statistic:                     42.47\n",
      "Date:                Thu, 21 Apr 2022   Prob (F-statistic):           4.79e-17\n",
      "Time:                        19:44:44   Log-Likelihood:                -72.116\n",
      "No. Observations:                  50   AIC:                             160.2\n",
      "Df Residuals:                      42   BIC:                             175.5\n",
      "Df Model:                           7                                         \n",
      "Covariance Type:            nonrobust                                         \n",
      "===============================================================================\n",
      "                  coef    std err          t      P>|t|      [0.025      0.975]\n",
      "-------------------------------------------------------------------------------\n",
      "const          12.7320      0.158     80.606      0.000      12.413      13.051\n",
      "Crime           0.4798      0.160      3.007      0.004       0.158       0.802\n",
      "Doctors         0.1963      0.160      1.230      0.225      -0.126       0.518\n",
      "Income         -2.5276      0.160    -15.841      0.000      -2.850      -2.206\n",
      "Population      0.4195      0.160      2.629      0.012       0.097       0.741\n",
      "Traf Deaths     0.3125      0.160      1.959      0.057      -0.009       0.635\n",
      "Unemployed      0.3949      0.160      2.475      0.017       0.073       0.717\n",
      "White          -0.6939      0.160     -4.349      0.000      -1.016      -0.372\n",
      "==============================================================================\n",
      "Omnibus:                        2.719   Durbin-Watson:                   1.795\n",
      "Prob(Omnibus):                  0.257   Jarque-Bera (JB):                2.209\n",
      "Skew:                           0.515   Prob(JB):                        0.331\n",
      "Kurtosis:                       3.007   Cond. No.                         1.01\n",
      "==============================================================================\n",
      "\n",
      "Notes:\n",
      "[1] Standard Errors assume that the covariance matrix of the errors is correctly specified.\n"
     ]
    },
    {
     "data": {
      "text/plain": [
       "1.047869360518312"
      ]
     },
     "execution_count": 308,
     "metadata": {},
     "output_type": "execute_result"
    }
   ],
   "source": []
  }
 ],
 "metadata": {
  "kernelspec": {
   "display_name": "Python 3 (ipykernel)",
   "language": "python",
   "name": "python3"
  },
  "language_info": {
   "codemirror_mode": {
    "name": "ipython",
    "version": 3
   },
   "file_extension": ".py",
   "mimetype": "text/x-python",
   "name": "python",
   "nbconvert_exporter": "python",
   "pygments_lexer": "ipython3",
   "version": "3.9.7"
  }
 },
 "nbformat": 4,
 "nbformat_minor": 5
}
