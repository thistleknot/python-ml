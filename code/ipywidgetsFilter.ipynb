{
 "cells": [
  {
   "cell_type": "code",
   "execution_count": 284,
   "id": "1add0ee5-997f-419f-81f8-4db3d31a19a2",
   "metadata": {},
   "outputs": [],
   "source": [
    "import pandas as pd\n",
    "import numpy as np\n",
    "from ipywidgets import interact, interactive, fixed, interact_manual\n",
    "import ipywidgets as widgets\n",
    "import statsmodels.api as sm\n",
    "import matplotlib.pyplot as plt"
   ]
  },
  {
   "cell_type": "code",
   "execution_count": 285,
   "id": "bc2545b9-1221-4c2f-ac65-b24157e0ba0e",
   "metadata": {},
   "outputs": [],
   "source": [
    "df_ = pd.read_csv(\"https://raw.githubusercontent.com/thistleknot/Python-Stock/master/data/raw/states.csv\").set_index('States')"
   ]
  },
  {
   "cell_type": "code",
   "execution_count": 286,
   "id": "dde09685-b719-44cd-965a-5bc9eb71cc63",
   "metadata": {},
   "outputs": [],
   "source": [
    "df = sm.add_constant(df_)"
   ]
  },
  {
   "cell_type": "code",
   "execution_count": null,
   "id": "0a3e583b-8564-4362-b87c-e60a04d93026",
   "metadata": {},
   "outputs": [],
   "source": []
  },
  {
   "cell_type": "code",
   "execution_count": 289,
   "id": "56877b79-683e-4eb2-b43f-868c05848e61",
   "metadata": {},
   "outputs": [],
   "source": [
    "\n",
    "#nested functions (kind of like classes, get access to parent functions members).\n",
    "def filter_df(x,y):\n",
    "    \n",
    "    def print_df(aboveMedian,belowMedian):\n",
    "        \n",
    "        data = df[[y,*x]].sort_values(kind=\"quicksort\", by=y, ascending=True)\n",
    "        #abovePos = [i for i, item in enumerate(data.columns) if item in aboveMedian]\n",
    "        #belowPos = [i for i, item in enumerate(data.columns) if item in belowMedian]\n",
    "\n",
    "        print(data.describe())\n",
    "        med = pd.DataFrame(np.median(data,axis=0)).T\n",
    "        med.columns = data.columns\n",
    "        \n",
    "        data = data.iloc[pd.DataFrame(np.array(data[list(aboveMedian)])>=np.array(med[list(aboveMedian)])).replace(False,np.NaN).dropna().index]\n",
    "        \n",
    "        data = data.iloc[pd.DataFrame(np.array(data[list(belowMedian)])<=np.array(med[list(belowMedian)])).replace(False,np.NaN).dropna().index]\n",
    "        \n",
    "        plt.plot(data[y])\n",
    "        plt.show()\n",
    "        data[y].hist()\n",
    "        plt.show()\n",
    "        print(data.describe())\n",
    "        return(data)\n",
    "    \n",
    "    aboveMedian = widgets.SelectMultiple(\n",
    "        options=df[list(x)].columns,\n",
    "        #value=['Oranges'],\n",
    "        #rows=10,\n",
    "        description='AboveMedian',\n",
    "        disabled=False\n",
    "    )\n",
    "    \n",
    "    belowMedian = widgets.SelectMultiple(\n",
    "        options=df[list(x)].columns,\n",
    "        #options=aboveMedian(x),\n",
    "        #df[list(x)].columns,\n",
    "        #value=['Oranges'],\n",
    "        #rows=10,\n",
    "        description='BelowMedian',\n",
    "        disabled=False\n",
    "    )\n",
    "    \n",
    "    interact(print_df,aboveMedian=aboveMedian,belowMedian=belowMedian)\n",
    "    \n",
    "def derive_xnames(y):\n",
    "    x_ = widgets.SelectMultiple(\n",
    "        options=df.columns[~df.columns.isin([y])],\n",
    "        value=list(df.columns[~df.columns.isin([y])]),\n",
    "        disabled=False\n",
    "    )\n",
    "    \n",
    "    interact(filter_df,x=x_,y=y)"
   ]
  },
  {
   "cell_type": "code",
   "execution_count": null,
   "id": "695f2be5-16d9-4700-979c-19ed1b4e6b4a",
   "metadata": {},
   "outputs": [],
   "source": []
  },
  {
   "cell_type": "code",
   "execution_count": 290,
   "id": "84c52022-e8fe-428c-8fdc-0dc148c8f5c4",
   "metadata": {},
   "outputs": [
    {
     "data": {
      "application/vnd.jupyter.widget-view+json": {
       "model_id": "0e0bd7a14a874a2692345d4639ff64a9",
       "version_major": 2,
       "version_minor": 0
      },
      "text/plain": [
       "interactive(children=(Select(description='y', options=('Poverty', 'Infant Mort', 'White', 'Crime', 'Doctors', …"
      ]
     },
     "metadata": {},
     "output_type": "display_data"
    },
    {
     "data": {
      "text/plain": [
       "<function __main__.derive_xnames(y)>"
      ]
     },
     "execution_count": 290,
     "metadata": {},
     "output_type": "execute_result"
    }
   ],
   "source": [
    "\n",
    "y=widgets.Select(options=df_.columns,disabled=False)\n",
    "\n",
    "interact(derive_xnames,y=y)\n"
   ]
  },
  {
   "cell_type": "code",
   "execution_count": null,
   "id": "0a49c0db-f45a-45d5-9d8c-4ed069877c37",
   "metadata": {},
   "outputs": [],
   "source": []
  }
 ],
 "metadata": {
  "kernelspec": {
   "display_name": "Python 3 (ipykernel)",
   "language": "python",
   "name": "python3"
  },
  "language_info": {
   "codemirror_mode": {
    "name": "ipython",
    "version": 3
   },
   "file_extension": ".py",
   "mimetype": "text/x-python",
   "name": "python",
   "nbconvert_exporter": "python",
   "pygments_lexer": "ipython3",
   "version": "3.9.7"
  }
 },
 "nbformat": 4,
 "nbformat_minor": 5
}
