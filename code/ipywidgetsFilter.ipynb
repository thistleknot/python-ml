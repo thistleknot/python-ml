{
 "cells": [
  {
   "cell_type": "code",
   "execution_count": 341,
   "id": "1add0ee5-997f-419f-81f8-4db3d31a19a2",
   "metadata": {},
   "outputs": [],
   "source": [
    "import pandas as pd\n",
    "import numpy as np\n",
    "from ipywidgets import interact, interactive, fixed, interact_manual\n",
    "import ipywidgets as widgets\n",
    "import statsmodels.api as sm\n",
    "import matplotlib.pyplot as plt\n",
    "import scipy.stats"
   ]
  },
  {
   "cell_type": "code",
   "execution_count": 285,
   "id": "bc2545b9-1221-4c2f-ac65-b24157e0ba0e",
   "metadata": {},
   "outputs": [],
   "source": [
    "df_ = pd.read_csv(\"https://raw.githubusercontent.com/thistleknot/Python-Stock/master/data/raw/states.csv\").set_index('States')"
   ]
  },
  {
   "cell_type": "code",
   "execution_count": 286,
   "id": "dde09685-b719-44cd-965a-5bc9eb71cc63",
   "metadata": {},
   "outputs": [],
   "source": [
    "df = sm.add_constant(df_)"
   ]
  },
  {
   "cell_type": "code",
   "execution_count": 369,
   "id": "0a3e583b-8564-4362-b87c-e60a04d93026",
   "metadata": {},
   "outputs": [
    {
     "data": {
      "text/plain": [
       "0.01369338726499547"
      ]
     },
     "execution_count": 369,
     "metadata": {},
     "output_type": "execute_result"
    }
   ],
   "source": [
    "'''\n",
    "a = (56, 128.6, 12, 123.8, 64.34, 78, 763.3)\n",
    "b = (1.1, 2.9, 4.2)\n",
    "#Use the trim keyword to perform a trimmed (Yuen) t-test. For example, using 20% trimming, trim=.2, the test will reduce the impact of one (np.floor(trim*len(a))) element from each tail of sample a. It will have no effect on sample b because np.floor(trim*len(b)) is 0.\n",
    "\n",
    "scipy.stats.ttest_ind(a, b, trim=.2).pvalue\n",
    "#Ttest_indResult(statistic=3.4463884028073513,\n",
    "                #pvalue=0.01369338726499547)\n",
    "'''"
   ]
  },
  {
   "cell_type": "code",
   "execution_count": 384,
   "id": "5209010c-d2bf-48d6-952d-f2cd5abe0680",
   "metadata": {},
   "outputs": [],
   "source": [
    "import scipy.stats as st\n",
    "\n",
    "def f_test(x, y, alt=\"two_sided\"):\n",
    "    \"\"\"\n",
    "    Calculates the F-test.\n",
    "    :param x: The first group of data\n",
    "    :param y: The second group of data\n",
    "    :param alt: The alternative hypothesis, one of \"two_sided\" (default), \"greater\" or \"less\"\n",
    "    :return: a tuple with the F statistic value and the p-value.\n",
    "    \"\"\"\n",
    "    df1 = len(x) - 1\n",
    "    df2 = len(y) - 1\n",
    "    f = x.var() / y.var()\n",
    "    if alt == \"greater\":\n",
    "        p = 1.0 - st.f.cdf(f, df1, df2)\n",
    "    elif alt == \"less\":\n",
    "        p = st.f.cdf(f, df1, df2)\n",
    "    else:\n",
    "        # two-sided by default\n",
    "        # Crawley, the R book, p.355\n",
    "        p = 2.0*(1.0 - st.f.cdf(f, df1, df2))\n",
    "    return f, p"
   ]
  },
  {
   "cell_type": "code",
   "execution_count": 389,
   "id": "56877b79-683e-4eb2-b43f-868c05848e61",
   "metadata": {},
   "outputs": [],
   "source": [
    "\n",
    "#nested functions (kind of like classes, get access to parent functions members).\n",
    "def filter_df(x,y):\n",
    "    \n",
    "    def print_df(aboveMedian,belowMedian):\n",
    "        \n",
    "        data = df[[y,*x]].sort_values(kind=\"quicksort\", by=y, ascending=True)\n",
    "        #abovePos = [i for i, item in enumerate(data.columns) if item in aboveMedian]\n",
    "        #belowPos = [i for i, item in enumerate(data.columns) if item in belowMedian]\n",
    "\n",
    "        print(data.describe())\n",
    "        med = pd.DataFrame(np.median(data,axis=0)).T\n",
    "        med.columns = data.columns\n",
    "        \n",
    "        filtered = data.copy()\n",
    "        \n",
    "        filtered = filtered.iloc[pd.DataFrame(np.array(filtered[list(aboveMedian)])>=np.array(med[list(aboveMedian)])).replace(False,np.NaN).dropna().index]\n",
    "        \n",
    "        filtered = filtered.iloc[pd.DataFrame(np.array(filtered[list(belowMedian)])<=np.array(med[list(belowMedian)])).replace(False,np.NaN).dropna().index]\n",
    "        '''\n",
    "        A=notfiltered\n",
    "        B=filtered\n",
    "        H0: A>=B\n",
    "        H1: B>A\n",
    "        '''\n",
    "        sp = (scipy.stats.ttest_ind(filtered[y],data[y],equal_var=False))\n",
    "        print(sp.pvalue/2)\n",
    "        print(scipy.stats.ttest_1samp(a=filtered[y],popmean=np.mean(data[y])))\n",
    "        print(\"f/variance test:\",f_test(filtered[y],data[y]))\n",
    "        #if(sp.pvalue/2<.05):\n",
    "            #print(\"reject null hypothesis, B(filter)>A\")\n",
    "        #df_ = len(filtered[y]) + len(data[y]) - 2\n",
    "        \n",
    "        plt.plot(data[y])\n",
    "        plt.plot(filtered[y])\n",
    "        plt.show()\n",
    "        \n",
    "        q_s_ = data[y].quantile([.02,.09,.25,.5,.75,.91,.98])\n",
    "        q_s_n = filtered[y].quantile([.02,.09,.25,.5,.75,.91,.98])\n",
    "        \n",
    "        plt.plot(q_s_)\n",
    "        plt.plot(q_s_n)\n",
    "        plt.show()\n",
    "        #fig = mpf.figure(figsize=(10, 7), style=s)\n",
    "        fig = plt.figure(figsize=plt.figaspect(2.))\n",
    "        fig.suptitle('boxplots')\n",
    "        #fig = Figure()\n",
    "        #FigureCanvas(fig) # not needed in mpl >= 3.1\n",
    "        ax1 = fig.add_subplot(2,1,1)\n",
    "        ax2 = fig.add_subplot(2,1,2)\n",
    "\n",
    "        ax1.boxplot(data[y])\n",
    "        ax2.boxplot(filtered[y])\n",
    "\n",
    "        plt.show()\n",
    "        data[y].hist()\n",
    "        filtered[y].hist()\n",
    "        plt.show()\n",
    "        print(filtered.describe())\n",
    "        \n",
    "        return(filtered)\n",
    "    \n",
    "    aboveMedian = widgets.SelectMultiple(\n",
    "        options=df[list(x)].columns,\n",
    "        description='AboveMedian',\n",
    "        disabled=False\n",
    "    )\n",
    "    \n",
    "    belowMedian = widgets.SelectMultiple(\n",
    "        options=df[list(x)].columns,\n",
    "        description='BelowMedian',\n",
    "        disabled=False\n",
    "    )\n",
    "    \n",
    "    interact(print_df,aboveMedian=aboveMedian,belowMedian=belowMedian)\n",
    "    \n",
    "def derive_xnames(y):\n",
    "    x_ = widgets.SelectMultiple(\n",
    "        options=df.columns[~df.columns.isin([y])],\n",
    "        value=list(df.columns[~df.columns.isin([y])]),\n",
    "        disabled=False\n",
    "    )\n",
    "    \n",
    "    interact(filter_df,x=x_,y=y)"
   ]
  },
  {
   "cell_type": "code",
   "execution_count": null,
   "id": "695f2be5-16d9-4700-979c-19ed1b4e6b4a",
   "metadata": {},
   "outputs": [],
   "source": []
  },
  {
   "cell_type": "code",
   "execution_count": 390,
   "id": "84c52022-e8fe-428c-8fdc-0dc148c8f5c4",
   "metadata": {},
   "outputs": [
    {
     "data": {
      "application/vnd.jupyter.widget-view+json": {
       "model_id": "0f3205fe1ed6402f8aeb5a04eeb18580",
       "version_major": 2,
       "version_minor": 0
      },
      "text/plain": [
       "interactive(children=(Select(description='y', options=('Poverty', 'Infant Mort', 'White', 'Crime', 'Doctors', …"
      ]
     },
     "metadata": {},
     "output_type": "display_data"
    },
    {
     "data": {
      "text/plain": [
       "<function __main__.derive_xnames(y)>"
      ]
     },
     "execution_count": 390,
     "metadata": {},
     "output_type": "execute_result"
    }
   ],
   "source": [
    "\n",
    "y=widgets.Select(options=df_.columns,disabled=False)\n",
    "\n",
    "interact(derive_xnames,y=y)\n"
   ]
  },
  {
   "cell_type": "code",
   "execution_count": null,
   "id": "0a49c0db-f45a-45d5-9d8c-4ed069877c37",
   "metadata": {},
   "outputs": [],
   "source": []
  }
 ],
 "metadata": {
  "kernelspec": {
   "display_name": "Python 3 (ipykernel)",
   "language": "python",
   "name": "python3"
  },
  "language_info": {
   "codemirror_mode": {
    "name": "ipython",
    "version": 3
   },
   "file_extension": ".py",
   "mimetype": "text/x-python",
   "name": "python",
   "nbconvert_exporter": "python",
   "pygments_lexer": "ipython3",
   "version": "3.9.7"
  }
 },
 "nbformat": 4,
 "nbformat_minor": 5
}
