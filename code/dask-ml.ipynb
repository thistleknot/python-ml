{
 "cells": [
  {
   "cell_type": "code",
   "execution_count": 1,
   "id": "b1230643-1105-4d8e-8f13-d4508c13dab5",
   "metadata": {},
   "outputs": [],
   "source": [
    "import sklearn.externals as extjoblib\n",
    "import joblib\n",
    "from sklearn.preprocessing import StandardScaler\n",
    "from sklearn.linear_model import LinearRegression\n",
    "from sklearn.preprocessing import PowerTransformer\n",
    "from sklearn.model_selection import KFold, cross_val_score\n",
    "\n",
    "from dask.distributed import Client\n",
    "import joblib\n",
    "import pandas as pd\n",
    "import numpy as np\n",
    "\n",
    "from sklearn.model_selection import GridSearchCV\n",
    "from sklearn.pipeline import Pipeline\n",
    "from mlxtend.feature_selection import SequentialFeatureSelector as SFS\n",
    "from sklearn.model_selection import train_test_split\n",
    "import mlxtend\n",
    "from sklearn.linear_model import ElasticNet\n",
    "import matplotlib.pyplot as plt\n",
    "\n",
    "from sklearn.model_selection import GridSearchCV\n",
    "from sklearn.pipeline import Pipeline\n",
    "from mlxtend.feature_selection import SequentialFeatureSelector as SFS\n",
    "import mlxtend\n",
    "from sklearn.neighbors import KNeighborsRegressor\n",
    "from random import sample\n",
    "\n",
    "import statsmodels.api as sm\n",
    "from multiprocessing import Process\n",
    "import os\n",
    "import time\n",
    "from concurrent.futures import as_completed"
   ]
  },
  {
   "cell_type": "code",
   "execution_count": null,
   "id": "ce5d2123-3fa7-428f-a443-f04f49561c06",
   "metadata": {},
   "outputs": [],
   "source": []
  },
  {
   "cell_type": "code",
   "execution_count": null,
   "id": "125101e4-d6ba-452b-a6df-5c5c69922f52",
   "metadata": {},
   "outputs": [],
   "source": []
  },
  {
   "cell_type": "code",
   "execution_count": 2,
   "id": "2b75ca78-bf68-4288-b7c7-dc7cfece7611",
   "metadata": {},
   "outputs": [
    {
     "name": "stdout",
     "output_type": "stream",
     "text": [
      "3\n"
     ]
    }
   ],
   "source": [
    "independent = 'Poverty'\n",
    "outer_k = 10\n",
    "inner_k = 10\n",
    "random_st = sample(list(np.arange(0,10,1)),1)[0]\n",
    "print(random_st)\n",
    "\n",
    "# configure the cross-validation procedure\n",
    "cv_inner = KFold(n_splits=inner_k, shuffle=True, random_state=random_st)\n",
    "cv_outer = KFold(n_splits=outer_k, shuffle=True, random_state=random_st+1)"
   ]
  },
  {
   "cell_type": "code",
   "execution_count": null,
   "id": "6ce4e4a3-b7f1-46e6-b8b1-4bbb27f4edbd",
   "metadata": {},
   "outputs": [],
   "source": []
  },
  {
   "cell_type": "code",
   "execution_count": 3,
   "id": "55569f4e-884a-4ef7-a472-4a66390586fa",
   "metadata": {},
   "outputs": [],
   "source": [
    "data = pd.read_csv('https://raw.githubusercontent.com/thistleknot/python-ml/master/data/raw/states.csv')\n",
    "independent = 'Poverty'\n",
    "\n",
    "y = data[[independent]]\n",
    "X = data.loc[:, ~data.columns.isin([independent,'States'])].copy()\n",
    "\n",
    "# configure the cross-validation procedure\n",
    "outer_k = 10\n",
    "inner_k = 10\n",
    "random_st = sample(list(np.arange(0,10,1)),1)[0]\n",
    "#print(random_st)\n",
    "\n",
    "cv_inner = KFold(n_splits=inner_k, shuffle=True, random_state=random_st)\n",
    "cv_outer = KFold(n_splits=outer_k, shuffle=True, random_state=random_st+1)\n"
   ]
  },
  {
   "cell_type": "code",
   "execution_count": 4,
   "id": "b3f4e956-7bb6-4cb5-91dd-9e27ae29b3ab",
   "metadata": {},
   "outputs": [],
   "source": [
    "\n",
    "inner_folds = []\n",
    "outer_folds = []\n",
    "\n",
    "for outer_train_ix, outer_test_ix in cv_outer.split(X.index):\n",
    "\n",
    "    inner_results = []\n",
    "\n",
    "    for inner_train_ix, inner_test_ix in cv_inner.split(outer_train_ix):\n",
    "        inner_folds.append([inner_train_ix,inner_test_ix])\n",
    "    \n",
    "    outer_folds.append([outer_train_ix, outer_test_ix])\n",
    "        "
   ]
  },
  {
   "cell_type": "code",
   "execution_count": null,
   "id": "414ae9f7-fc07-488e-8e74-20ca46e1dc10",
   "metadata": {},
   "outputs": [],
   "source": []
  },
  {
   "cell_type": "code",
   "execution_count": 5,
   "id": "44e2b57a-af92-4860-9a3e-82a7715cf6f5",
   "metadata": {},
   "outputs": [],
   "source": [
    "#[*cv_outer.split(X.index)]\n",
    "\n",
    "X_inner_train_sets = [X.loc[f[0]][0:10] for f in inner_folds]\n",
    "y_inner_train_sets = [y.loc[f[0]][0:10] for f in inner_folds]\n",
    "\n",
    "X_inner_test_sets = [X.loc[f[1][0:10]] for f in inner_folds]\n",
    "y_inner_test_sets = [y.loc[f[1][0:10]] for f in inner_folds]\n",
    "\n",
    "X_outer_train_sets = [X.loc[f[0]][0:10] for f in outer_folds]\n",
    "y_outer_train_sets = [y.loc[f[0]][0:10] for f in outer_folds]\n",
    "\n",
    "X_outer_test_sets = [X.loc[f[1][0:10]] for f in outer_folds]\n",
    "y_outer_test_sets = [y.loc[f[1][0:10]] for f in outer_folds]"
   ]
  },
  {
   "cell_type": "code",
   "execution_count": null,
   "id": "41ab1a0d-5c53-4da4-9939-32bb48c6b42b",
   "metadata": {},
   "outputs": [],
   "source": []
  },
  {
   "cell_type": "code",
   "execution_count": null,
   "id": "4eea6ab9-83e8-4dca-a63b-7faf018112a0",
   "metadata": {},
   "outputs": [],
   "source": []
  },
  {
   "cell_type": "code",
   "execution_count": 6,
   "id": "26bf86d6-0c06-488f-a61d-993403c21a34",
   "metadata": {},
   "outputs": [],
   "source": [
    "npa = []\n",
    "for i in range(0,len(outer_folds)):\n",
    "    npa.append([pd.concat([X_inner_train_sets[i],X_inner_test_sets[i]],axis=0),pd.concat([y_inner_train_sets[i],y_inner_test_sets[i]],axis=0)])\n",
    "    "
   ]
  },
  {
   "cell_type": "code",
   "execution_count": null,
   "id": "9ef63f70-328d-4d4e-8023-d99bf78d07a5",
   "metadata": {},
   "outputs": [],
   "source": []
  },
  {
   "cell_type": "code",
   "execution_count": 7,
   "id": "074be583-e5a0-406a-8a7a-233c6de654d2",
   "metadata": {},
   "outputs": [],
   "source": [
    "def runSFS(npa_):\n",
    "    [x_,y_] = npa_\n",
    "\n",
    "    lm = LinearRegression()\n",
    "\n",
    "    sfs1 = SFS(estimator=lm, \n",
    "               k_features=(1, len(X.columns)),\n",
    "               forward=True, \n",
    "               floating=False, \n",
    "               n_jobs=1,\n",
    "               scoring='neg_mean_squared_error',\n",
    "               cv=cv_inner)         \n",
    "\n",
    "    sfs1.fit(x_, y_)\n",
    "\n",
    "    best_features = pd.DataFrame(sfs1.get_metric_dict()).T['feature_names'].iloc[np.argmin(abs(pd.DataFrame(sfs1.get_metric_dict()).T['avg_score']))]\n",
    "    best_score = pd.DataFrame(sfs1.get_metric_dict()).T['avg_score'].iloc[np.argmin(abs(pd.DataFrame(sfs1.get_metric_dict()).T['avg_score']))]\n",
    "    return([best_features,best_score])"
   ]
  },
  {
   "cell_type": "code",
   "execution_count": 8,
   "id": "e6814fc4-0021-44cf-88c5-7c85f8e50ca2",
   "metadata": {},
   "outputs": [],
   "source": [
    "def clientFunction(function_name,vars):\n",
    "    client = Client('192.168.3.100:8786')\n",
    "    future_ = client.map(function_name,npa)\n",
    "    #results = []\n",
    "    results = client.gather(future_)\n",
    "    client.close()\n",
    "    return results\n"
   ]
  },
  {
   "cell_type": "code",
   "execution_count": 9,
   "id": "c4e2cb56-6954-412a-bd76-4a337aaf2e72",
   "metadata": {},
   "outputs": [
    {
     "name": "stderr",
     "output_type": "stream",
     "text": [
      "C:\\Users\\User\\AppData\\Local\\Programs\\Python\\Python39\\lib\\site-packages\\distributed\\client.py:1265: VersionMismatchWarning: Mismatched versions found\n",
      "\n",
      "+-------------+---------------+---------------+---------------+\n",
      "| Package     | client        | scheduler     | workers       |\n",
      "+-------------+---------------+---------------+---------------+\n",
      "| dask        | 2022.01.1     | 2021.11.2     | 2021.11.2     |\n",
      "| distributed | 2022.01.1     | 2021.11.2     | 2021.11.2     |\n",
      "| lz4         | 3.1.3         | 3.1.10        | 3.1.10        |\n",
      "| python      | 3.9.7.final.0 | 3.9.9.final.0 | 3.9.9.final.0 |\n",
      "| toolz       | 0.11.1        | 0.11.2        | 0.11.2        |\n",
      "+-------------+---------------+---------------+---------------+\n",
      "  warnings.warn(version_module.VersionMismatchWarning(msg[0][\"warning\"]))\n"
     ]
    }
   ],
   "source": [
    "inner_results = clientFunction(runSFS,npa)"
   ]
  },
  {
   "cell_type": "code",
   "execution_count": 10,
   "id": "3a4587ff-38e5-4be0-9fca-21c25c4058fb",
   "metadata": {},
   "outputs": [
    {
     "data": {
      "text/plain": [
       "[<matplotlib.lines.Line2D at 0x12fd81f35b0>]"
      ]
     },
     "execution_count": 10,
     "metadata": {},
     "output_type": "execute_result"
    },
    {
     "data": {
      "image/png": "[encoded data removed]",
      "text/plain": [
       "<Figure size 432x288 with 1 Axes>"
      ]
     },
     "metadata": {
      "needs_background": "light"
     },
     "output_type": "display_data"
    }
   ],
   "source": [
    "plt.plot([i[1] for i in inner_results])"
   ]
  },
  {
   "cell_type": "code",
   "execution_count": 11,
   "id": "6604307e-9fdc-4ff4-9cb5-c74a6e697330",
   "metadata": {},
   "outputs": [
    {
     "data": {
      "text/plain": [
       "[[('White', 'Unemployed', 'Income'), -2.033123317930626],\n",
       " [('Traf Deaths', 'Income', 'Population'), -1.5849391792479408],\n",
       " [('Infant Mort', 'Income'), -1.649869424128866],\n",
       " [('Crime', 'Income'), -2.295948716769422],\n",
       " [('Crime', 'Traf Deaths', 'Income', 'Population'), -1.2034156728087142],\n",
       " [('Income', 'Population'), -1.390302218801288],\n",
       " [('Crime', 'Unemployed', 'Income'), -1.286216703019544],\n",
       " [('Income',), -1.4820284690797336],\n",
       " [('Income',), -2.0201509175091044],\n",
       " [('White', 'Crime', 'Unemployed', 'Income'), -1.7955146939435227]]"
      ]
     },
     "execution_count": 11,
     "metadata": {},
     "output_type": "execute_result"
    }
   ],
   "source": [
    "inner_results"
   ]
  },
  {
   "cell_type": "code",
   "execution_count": 21,
   "id": "0bef236e-e755-4950-822c-205c18fad37a",
   "metadata": {},
   "outputs": [
    {
     "data": {
      "text/plain": [
       "[<matplotlib.lines.Line2D at 0x12fda7335b0>]"
      ]
     },
     "execution_count": 21,
     "metadata": {},
     "output_type": "execute_result"
    },
    {
     "data": {
      "image/png": "[encoded data removed]",
      "text/plain": [
       "<Figure size 432x288 with 1 Axes>"
      ]
     },
     "metadata": {
      "needs_background": "light"
     },
     "output_type": "display_data"
    }
   ],
   "source": [
    "plt.plot([o for o in outer_results])"
   ]
  },
  {
   "cell_type": "code",
   "execution_count": 12,
   "id": "9ef9b2e8-3234-4473-afdd-06934bbafec6",
   "metadata": {},
   "outputs": [],
   "source": [
    "best_subset = pd.DataFrame(inner_results).iloc[:,0][np.argmin(abs(pd.DataFrame(inner_results).iloc[:,1]))]"
   ]
  },
  {
   "cell_type": "code",
   "execution_count": null,
   "id": "132d4262-aa58-4672-a0f0-75f6bc8dc8c9",
   "metadata": {},
   "outputs": [],
   "source": []
  },
  {
   "cell_type": "code",
   "execution_count": 13,
   "id": "acd0cfc7-8f82-4fb3-ae10-05ffd2b97968",
   "metadata": {},
   "outputs": [
    {
     "data": {
      "text/plain": [
       "('Crime', 'Traf Deaths', 'Income', 'Population')"
      ]
     },
     "execution_count": 13,
     "metadata": {},
     "output_type": "execute_result"
    }
   ],
   "source": [
    "best_subset"
   ]
  },
  {
   "cell_type": "code",
   "execution_count": 14,
   "id": "cf531325-10f0-4367-a0d1-e44a1426e2fe",
   "metadata": {},
   "outputs": [],
   "source": [
    "npa = []\n",
    "for i in range(0,len(outer_folds)):\n",
    "    npa.append([pd.concat([X_outer_train_sets[i],X_outer_test_sets[i]],axis=0),pd.concat([y_outer_train_sets[i],y_outer_test_sets[i]],axis=0),best_subset])"
   ]
  },
  {
   "cell_type": "code",
   "execution_count": 15,
   "id": "f668cc8b-a2f5-4054-b667-203593667142",
   "metadata": {},
   "outputs": [],
   "source": [
    "def runSFS2(npa_):\n",
    "    [x_,y_,f_] = npa_\n",
    "\n",
    "    outer_model = LinearRegression()\n",
    "\n",
    "    outer_model.fit(x_, y_)\n",
    "\n",
    "    y_pred = outer_model.predict(x_)\n",
    "    \n",
    "    return(np.mean(abs(y_pred.ravel()-y_.values.ravel())))"
   ]
  },
  {
   "cell_type": "code",
   "execution_count": 16,
   "id": "e2d0589c-03e7-4ffb-938a-0c7f7a99b5c4",
   "metadata": {},
   "outputs": [],
   "source": [
    "outer_results = clientFunction(runSFS2,npa)"
   ]
  },
  {
   "cell_type": "code",
   "execution_count": 22,
   "id": "01c903dc-0ed5-40aa-9a39-27baf623ba2a",
   "metadata": {},
   "outputs": [
    {
     "name": "stderr",
     "output_type": "stream",
     "text": [
      "C:\\Users\\User\\AppData\\Local\\Programs\\Python\\Python39\\lib\\site-packages\\distributed\\client.py:1265: VersionMismatchWarning: Mismatched versions found\n",
      "\n",
      "+-------------+---------------+---------------+---------------+\n",
      "| Package     | client        | scheduler     | workers       |\n",
      "+-------------+---------------+---------------+---------------+\n",
      "| dask        | 2022.01.1     | 2021.11.2     | 2021.11.2     |\n",
      "| distributed | 2022.01.1     | 2021.11.2     | 2021.11.2     |\n",
      "| lz4         | 3.1.3         | 3.1.10        | 3.1.10        |\n",
      "| python      | 3.9.7.final.0 | 3.9.9.final.0 | 3.9.9.final.0 |\n",
      "| toolz       | 0.11.1        | 0.11.2        | 0.11.2        |\n",
      "+-------------+---------------+---------------+---------------+\n",
      "  warnings.warn(version_module.VersionMismatchWarning(msg[0][\"warning\"]))\n"
     ]
    },
    {
     "name": "stdout",
     "output_type": "stream",
     "text": [
      "\n",
      "outer cv abs error mean:  0.5733069027136988\n",
      "outer cv abs error std:  0.09907855783109261\n",
      "Final Model\n"
     ]
    },
    {
     "data": {
      "image/png": "[encoded data removed]",
      "text/plain": [
       "<Figure size 432x288 with 1 Axes>"
      ]
     },
     "metadata": {
      "needs_background": "light"
     },
     "output_type": "display_data"
    },
    {
     "name": "stdout",
     "output_type": "stream",
     "text": [
      "6 ('White', 'Traf Deaths', 'University', 'Unemployed', 'Income', 'Population')\n",
      "best_score -1.5082044160896386\n",
      "SFS CV Score: -1.5082044160896386\n",
      "                            OLS Regression Results                            \n",
      "==============================================================================\n",
      "Dep. Variable:                Poverty   R-squared:                       0.874\n",
      "Model:                            OLS   Adj. R-squared:                  0.856\n",
      "Method:                 Least Squares   F-statistic:                     49.63\n",
      "Date:                Sat, 23 Jul 2022   Prob (F-statistic):           9.59e-18\n",
      "Time:                        23:56:16   Log-Likelihood:                -72.594\n",
      "No. Observations:                  50   AIC:                             159.2\n",
      "Df Residuals:                      43   BIC:                             172.6\n",
      "Df Model:                           6                                         \n",
      "Covariance Type:            nonrobust                                         \n",
      "===============================================================================\n",
      "                  coef    std err          t      P>|t|      [0.025      0.975]\n",
      "-------------------------------------------------------------------------------\n",
      "const          26.5893      3.558      7.472      0.000      19.413      33.766\n",
      "White          -0.0583      0.016     -3.636      0.001      -0.091      -0.026\n",
      "Traf Deaths     1.3329      0.712      1.871      0.068      -0.103       2.769\n",
      "University      0.0959      0.070      1.378      0.175      -0.044       0.236\n",
      "Unemployed      0.4447      0.143      3.118      0.003       0.157       0.732\n",
      "Income         -0.0003   3.69e-05     -8.490      0.000      -0.000      -0.000\n",
      "Population   7.088e-08   2.66e-08      2.665      0.011    1.72e-08    1.25e-07\n",
      "==============================================================================\n",
      "Omnibus:                        2.207   Durbin-Watson:                   1.794\n",
      "Prob(Omnibus):                  0.332   Jarque-Bera (JB):                2.019\n",
      "Skew:                           0.478   Prob(JB):                        0.364\n",
      "Kurtosis:                       2.768   Cond. No.                     2.04e+08\n",
      "==============================================================================\n",
      "\n",
      "Notes:\n",
      "[1] Standard Errors assume that the covariance matrix of the errors is correctly specified.\n",
      "[2] The condition number is large, 2.04e+08. This might indicate that there are\n",
      "strong multicollinearity or other numerical problems.\n"
     ]
    },
    {
     "data": {
      "text/plain": [
       "Text(0.5, 1.0, 'Comparison of mean accuracy obtained on the test sets with\\nand without nested cross-validation')"
      ]
     },
     "execution_count": 22,
     "metadata": {},
     "output_type": "execute_result"
    },
    {
     "data": {
      "image/png": "[encoded data removed]",
      "text/plain": [
       "<Figure size 432x288 with 1 Axes>"
      ]
     },
     "metadata": {
      "needs_background": "light"
     },
     "output_type": "display_data"
    }
   ],
   "source": [
    "client = Client('192.168.3.100:8786')\n",
    "lm = LinearRegression()\n",
    "#model that performed best on the outer (out of sample) forecasts is selected        2\n",
    "print()\n",
    "print(\"outer cv abs error mean: \",np.mean(outer_results))\n",
    "print(\"outer cv abs error std: \",np.std(outer_results))\n",
    "\n",
    "print(\"Final Model\")\n",
    "final_model = LinearRegression()\n",
    "\n",
    "sfs2 = SFS(estimator=lm, \n",
    "           k_features=(1, len(X.columns)),\n",
    "           forward=True, \n",
    "           floating=False, \n",
    "           n_jobs=-1,\n",
    "           scoring='neg_mean_squared_error',\n",
    "           cv=cv_outer)   \n",
    "\n",
    "with joblib.parallel_backend('dask'):\n",
    "    sfs2.fit(X,y)\n",
    "    \n",
    "plt.plot(pd.DataFrame(sfs2.get_metric_dict()).T['avg_score'])\n",
    "plt.show()\n",
    "best_features = pd.DataFrame(sfs2.get_metric_dict()).T['feature_names'].iloc[np.argmin(abs(pd.DataFrame(sfs2.get_metric_dict()).T['avg_score']))]\n",
    "print(len(best_features),best_features)\n",
    "best_score = pd.DataFrame(sfs2.get_metric_dict()).T['avg_score'].iloc[np.argmin(abs(pd.DataFrame(sfs2.get_metric_dict()).T['avg_score']))]\n",
    "print(\"best_score\", best_score)\n",
    "\n",
    "#print(\"SFS CV Score:\", sfs2.k_score_)\n",
    "#define response variable\n",
    "#add constant to predictor variables\n",
    "x = sm.add_constant(X[np.array(best_features)])\n",
    "\n",
    "#fit linear regression model\n",
    "model = sm.OLS(y, x).fit()\n",
    "\n",
    "#view model summary\n",
    "print(model.summary())\n",
    "\n",
    "all_scores = {\n",
    "    \"Inner CV\": [abs(r[1]) for r in inner_results],\n",
    "    \"Outer CV\": outer_results,\n",
    "}\n",
    "all_scores = pd.DataFrame(all_scores)\n",
    "\n",
    "color = {\"whiskers\": \"black\", \"medians\": \"black\", \"caps\": \"black\"}\n",
    "all_scores.plot.box(color=color, vert=False)\n",
    "plt.xlabel(\"Accuracy\")\n",
    "plt.title(\"Comparison of mean accuracy obtained on the test sets with\\n\"\n",
    "              \"and without nested cross-validation\")"
   ]
  },
  {
   "cell_type": "code",
   "execution_count": null,
   "id": "305db48f-910e-4bc5-8ab7-f288eba57c87",
   "metadata": {},
   "outputs": [],
   "source": []
  },
  {
   "cell_type": "code",
   "execution_count": null,
   "id": "6c7faba6-8f0c-4e2c-bcc0-bf1323a1a11f",
   "metadata": {},
   "outputs": [],
   "source": []
  }
 ],
 "metadata": {
  "kernelspec": {
   "display_name": "Python 3 (ipykernel)",
   "language": "python",
   "name": "python3"
  },
  "language_info": {
   "codemirror_mode": {
    "name": "ipython",
    "version": 3
   },
   "file_extension": ".py",
   "mimetype": "text/x-python",
   "name": "python",
   "nbconvert_exporter": "python",
   "pygments_lexer": "ipython3",
   "version": "3.9.7"
  }
 },
 "nbformat": 4,
 "nbformat_minor": 5
}
