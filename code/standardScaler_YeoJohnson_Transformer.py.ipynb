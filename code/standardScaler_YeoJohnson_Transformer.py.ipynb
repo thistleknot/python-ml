{
 "cells": [
  {
   "cell_type": "code",
   "execution_count": 21,
   "id": "270b4568-82cb-4a3a-8fa2-4147b0a9325d",
   "metadata": {},
   "outputs": [],
   "source": [
    "import pandas as pd\n",
    "\n",
    "from sklearn.compose import TransformedTargetRegressor\n",
    "from sklearn.pipeline import FeatureUnion, Pipeline, make_pipeline\n",
    "from sklearn.base import BaseEstimator, TransformerMixin\n",
    "from sklearn.model_selection import GridSearchCV, KFold, cross_val_score, RepeatedKFold, train_test_split\n",
    "\n",
    "from sklearn.preprocessing import StandardScaler, PowerTransformer"
   ]
  },
  {
   "cell_type": "code",
   "execution_count": 22,
   "id": "d201828b-77bb-466b-b970-7aad6ef5afef",
   "metadata": {},
   "outputs": [],
   "source": [
    "class ss_yj_Transformer(BaseEstimator, TransformerMixin):\n",
    "    # add another additional parameter, just for fun, while we are at it\n",
    "    \n",
    "    def __init__(self, feature_names=[], additional_param = \"\"):  \n",
    "        self.ss_X = StandardScaler()\n",
    "        self.pt_X = PowerTransformer(standardize=True)\n",
    "        self.ss_y = StandardScaler()\n",
    "        self.pt_y = PowerTransformer(standardize=True)        \n",
    "        self.feature_names = feature_names\n",
    "        self.additional_param = additional_param\n",
    "\n",
    "    def fit(self, X, y = None):\n",
    "        self.ss_X.fit(X)\n",
    "        self.pt_X.fit(self.ss_X.transform(X))\n",
    "        if (y is not None):\n",
    "            self.ss_y.fit(y)\n",
    "            self.pt_y.fit(self.ss_y.transform(y))\n",
    "        return self\n",
    "\n",
    "    def transform(self, X, y = None):\n",
    "        pt_X_ = pd.DataFrame(self.pt_X.fit(pd.DataFrame(self.ss_X.fit(X).transform(X),index=X.index,columns=X.columns)).transform(pd.DataFrame(self.ss_X.fit(X).transform(X),index=X.index,columns=X.columns)),index=X.index,columns=X.columns)        \n",
    "        if (y is None):\n",
    "            return pt_X_\n",
    "        else:\n",
    "            pt_y_ = pd.DataFrame(self.pt_y.fit(pd.DataFrame(self.ss_y.fit(y).transform(y),index=y.index,columns=y.columns)).transform(pd.DataFrame(self.ss_y.fit(y).transform(y),index=y.index,columns=y.columns)),index=y.index,columns=y.columns)\n",
    "            return pt_X_, pt_y_\n",
    "        \n",
    "    def inverse_transform(self, X, y = None):\n",
    "        target_X = pd.DataFrame(self.ss_X.inverse_transform(self.pt_X.inverse_transform(X)),index=X.index,columns=X.columns)\n",
    "        if (y is None):\n",
    "            return target_X\n",
    "        else:\n",
    "            target_y = pd.DataFrame(self.ss_y.inverse_transform(self.pt_y.inverse_transform(y)),index=y.index,columns=y.columns)\n",
    "            return target_X, target_y\n",
    "        "
   ]
  },
  {
   "cell_type": "code",
   "execution_count": 23,
   "id": "68f4512c-ae84-4999-867f-fc4da8f6933f",
   "metadata": {},
   "outputs": [],
   "source": [
    "target = 'Poverty'\n",
    "exclude = 'States'"
   ]
  },
  {
   "cell_type": "code",
   "execution_count": 24,
   "id": "aa2a9171-8104-46d0-8a03-999f1ead5c57",
   "metadata": {},
   "outputs": [],
   "source": [
    "all_data = pd.read_csv('https://raw.githubusercontent.com/thistleknot/python-ml/master/data/raw/states.csv')"
   ]
  },
  {
   "cell_type": "code",
   "execution_count": 25,
   "id": "ca2e189e-9aa4-4119-bbc3-b5d33a4bac50",
   "metadata": {},
   "outputs": [],
   "source": [
    "train, valid = train_test_split(all_data.index, test_size=0.3, shuffle=True)\n",
    "valid, test = train_test_split(valid,  test_size=0.5, shuffle=True)\n",
    "\n",
    "X = all_data[set(all_data.columns).difference([target,exclude])].copy()\n",
    "y = pd.DataFrame(all_data[target].copy())\n",
    "\n",
    "X_train = X.loc[train].copy()\n",
    "X_valid = X.loc[valid].copy()\n",
    "X_test = X.loc[test].copy()\n",
    "\n",
    "y_train = y.loc[X_train.index][[target]].copy()\n",
    "y_valid = y.loc[X_valid.index][[target]].copy()\n",
    "y_test = y.loc[X_test.index][[target]].copy()\n",
    "\n",
    "X_train_ss_yj_t = ss_yj_Transformer()\n",
    "X_train_ss_yj_t.fit(X_train)\n",
    "X_train_ss_yj = X_train_ss_yj_t.transform(X_train)\n",
    "\n",
    "y_train_ss_yj_t = ss_yj_Transformer()\n",
    "y_train_ss_yj_t.fit(y_train)\n",
    "y_train_ss_yj = y_train_ss_yj_t.transform(y_train)"
   ]
  },
  {
   "cell_type": "code",
   "execution_count": 26,
   "id": "ea0e41f0-4dec-4b82-8ca4-c5367e12cf50",
   "metadata": {},
   "outputs": [
    {
     "data": {
      "text/plain": [
       "array([[<AxesSubplot:title={'center':'Poverty'}>]], dtype=object)"
      ]
     },
     "execution_count": 26,
     "metadata": {},
     "output_type": "execute_result"
    },
    {
     "data": {
      "image/png": "[encoded data removed]",
      "text/plain": [
       "<Figure size 432x288 with 9 Axes>"
      ]
     },
     "metadata": {
      "needs_background": "light"
     },
     "output_type": "display_data"
    },
    {
     "data": {
      "image/png": "[encoded data removed]",
      "text/plain": [
       "<Figure size 432x288 with 1 Axes>"
      ]
     },
     "metadata": {
      "needs_background": "light"
     },
     "output_type": "display_data"
    }
   ],
   "source": [
    "X_train_ss_yj.hist()\n",
    "y_train_ss_yj.hist()"
   ]
  },
  {
   "cell_type": "code",
   "execution_count": null,
   "id": "dd424b9c-18de-4a71-b2e3-1bb98892bded",
   "metadata": {},
   "outputs": [],
   "source": [
    "from mlxtend.plotting import plot_sequential_feature_selection as plot_sfs\n",
    "import matplotlib.pyplot as plt\n",
    "\n",
    "lr = LinearRegression()\n",
    "\n",
    "sfbs1 = sfbs(lr, \n",
    "          k_features=len(X_train.columns), \n",
    "          #forward=True, \n",
    "          floating=True, \n",
    "          scoring='neg_mean_squared_error',\n",
    "          #scoring='accuracy',\n",
    "          n_jobs=-1,\n",
    "          cv=numCV)\n",
    "\n",
    "pipe = make_pipeline(ss_yj_Transformer(), sfbs1)\n",
    "pipe.fit(X_train, y_train)\n",
    "print('best combination (ACC: %.3f): %s\\n' % (sfbs1.k_score_, sfbs1.k_feature_idx_))\n",
    "print('all subsets:\\n', sfbs1.subsets_)\n",
    "plot_sfs(sfbs1.get_metric_dict(), kind='std_err');"
   ]
  }
 ],
 "metadata": {
  "kernelspec": {
   "display_name": "Python 3 (ipykernel)",
   "language": "python",
   "name": "python3"
  },
  "language_info": {
   "codemirror_mode": {
    "name": "ipython",
    "version": 3
   },
   "file_extension": ".py",
   "mimetype": "text/x-python",
   "name": "python",
   "nbconvert_exporter": "python",
   "pygments_lexer": "ipython3",
   "version": "3.9.6"
  }
 },
 "nbformat": 4,
 "nbformat_minor": 5
}
