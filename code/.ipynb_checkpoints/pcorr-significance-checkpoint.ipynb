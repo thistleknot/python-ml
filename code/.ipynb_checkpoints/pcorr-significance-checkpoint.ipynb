{
 "cells": [
  {
   "cell_type": "code",
   "execution_count": 305,
   "id": "3ed6d235-1e58-4000-9e03-cb31972b05ed",
   "metadata": {},
   "outputs": [],
   "source": [
    "import pandas as pd\n",
    "import numpy as np\n",
    "from scipy import stats # For in-built method to get PCC\n",
    "import scipy\n",
    "from sklearn.model_selection import KFold\n",
    "import pingouin as pg\n",
    "from sklearn.preprocessing import StandardScaler\n",
    "scaler = StandardScaler()\n",
    "from zca import zca\n",
    "zca = zca.ZCA()"
   ]
  },
  {
   "cell_type": "code",
   "execution_count": 307,
   "id": "2e025827-a163-4dbd-a95c-1b8f922a438c",
   "metadata": {},
   "outputs": [
    {
     "data": {
      "text/plain": [
       "StandardScaler()"
      ]
     },
     "execution_count": 307,
     "metadata": {},
     "output_type": "execute_result"
    }
   ],
   "source": [
    "target = 'Poverty'\n",
    "\n",
    "all_data = pd.read_csv('../data/raw/states.csv')\n",
    "\n",
    "scaler.fit(np.array(all_data[target]).reshape(-1, 1))"
   ]
  },
  {
   "cell_type": "code",
   "execution_count": 43,
   "id": "72b48cda-f3fd-4b15-8877-04a2350cd84b",
   "metadata": {},
   "outputs": [
    {
     "data": {
      "text/plain": [
       "10"
      ]
     },
     "execution_count": 43,
     "metadata": {},
     "output_type": "execute_result"
    }
   ],
   "source": [
    "num_folds = 10\n",
    "kfold = KFold(n_splits=num_folds, shuffle=True)\n",
    "kfold.get_n_splits(all_data.index)"
   ]
  },
  {
   "cell_type": "code",
   "execution_count": 236,
   "id": "c893bd02-62ff-4dfb-b1ad-0968f43b5c8f",
   "metadata": {},
   "outputs": [],
   "source": []
  },
  {
   "cell_type": "code",
   "execution_count": 243,
   "id": "8bc8189e-9489-4d30-b572-a609719e62eb",
   "metadata": {},
   "outputs": [
    {
     "data": {
      "text/html": [
       "<div>\n",
       "<style scoped>\n",
       "    .dataframe tbody tr th:only-of-type {\n",
       "        vertical-align: middle;\n",
       "    }\n",
       "\n",
       "    .dataframe tbody tr th {\n",
       "        vertical-align: top;\n",
       "    }\n",
       "\n",
       "    .dataframe thead th {\n",
       "        text-align: right;\n",
       "    }\n",
       "</style>\n",
       "<table border=\"1\" class=\"dataframe\">\n",
       "  <thead>\n",
       "    <tr style=\"text-align: right;\">\n",
       "      <th></th>\n",
       "      <th>Poverty</th>\n",
       "      <th>Infant Mort</th>\n",
       "      <th>White</th>\n",
       "      <th>Crime</th>\n",
       "      <th>Doctors</th>\n",
       "      <th>Traf Deaths</th>\n",
       "      <th>University</th>\n",
       "      <th>Unemployed</th>\n",
       "      <th>Income</th>\n",
       "      <th>Population</th>\n",
       "    </tr>\n",
       "  </thead>\n",
       "  <tbody>\n",
       "    <tr>\n",
       "      <th>0</th>\n",
       "      <td>10.0</td>\n",
       "      <td>0.0</td>\n",
       "      <td>10.0</td>\n",
       "      <td>0.0</td>\n",
       "      <td>0.0</td>\n",
       "      <td>10.0</td>\n",
       "      <td>0.0</td>\n",
       "      <td>8.0</td>\n",
       "      <td>10.0</td>\n",
       "      <td>7.0</td>\n",
       "    </tr>\n",
       "  </tbody>\n",
       "</table>\n",
       "</div>"
      ],
      "text/plain": [
       "   Poverty  Infant Mort  White  Crime  Doctors  Traf Deaths  University  \\\n",
       "0     10.0          0.0   10.0    0.0      0.0         10.0         0.0   \n",
       "\n",
       "   Unemployed  Income  Population  \n",
       "0         8.0    10.0         7.0  "
      ]
     },
     "execution_count": 243,
     "metadata": {},
     "output_type": "execute_result"
    }
   ],
   "source": [
    "table = np.zeros(shape=(len(all_data.columns[1:]),1))\n",
    "\n",
    "for train_index, test_index in kfold.split(all_data):\n",
    "    subset = all_data.iloc[train_index]\n",
    "    #subset = all_data.loc[:, ~all_data.columns.isin([target,'States'])]\n",
    "    subset = all_data.iloc[train_index]\n",
    "    n=len(subset)\n",
    "    dist = scipy.stats.beta(n/2 - 1, n/2 - 1, loc=-1, scale=2)\n",
    "    p = pd.DataFrame(2*dist.cdf(-abs(subset.pcorr()[target])))\n",
    "    temp = pd.DataFrame(p.T)\n",
    "    temp.columns = list(all_data.columns[1:])\n",
    "    #print(temp.T.loc[np.array(temp.T<=.05)])\n",
    "    table = (table + np.where(temp.T<=.05, 1, 0)).copy()\n",
    "    #table.append(temp.T<=.05)\n",
    "    #print(temp.T<=.05)\n",
    "    \n",
    "temp = pd.DataFrame(table.T)\n",
    "temp.columns = list(all_data.columns[1:])\n",
    "temp\n"
   ]
  },
  {
   "cell_type": "code",
   "execution_count": null,
   "id": "0ee1f8be-8a27-4a1f-bb7d-47e96d42ea1e",
   "metadata": {},
   "outputs": [],
   "source": []
  },
  {
   "cell_type": "code",
   "execution_count": 340,
   "id": "6c222cbc-da64-4d41-ba3d-5358319d35f4",
   "metadata": {},
   "outputs": [],
   "source": [
    "threshold = .7\n",
    "chosen = list(temp.T.loc[np.array(temp.T>=(len(all_data.columns[1:])*threshold))].index[1:])\n",
    "dataSet = pd.concat([all_data[target],all_data[chosen]],axis=1)\n",
    "t1 = pd.DataFrame(scaler.transform(np.array(dataSet[target]).reshape(-1, 1)))\n",
    "t1.columns=[target]\n"
   ]
  },
  {
   "cell_type": "code",
   "execution_count": 329,
   "id": "21e034cb-e569-4454-9ecc-56bd606fb9cd",
   "metadata": {},
   "outputs": [],
   "source": []
  },
  {
   "cell_type": "code",
   "execution_count": 341,
   "id": "d1c2462d-0b37-470c-983c-a47ca192f708",
   "metadata": {},
   "outputs": [
    {
     "data": {
      "text/html": [
       "<div>\n",
       "<style scoped>\n",
       "    .dataframe tbody tr th:only-of-type {\n",
       "        vertical-align: middle;\n",
       "    }\n",
       "\n",
       "    .dataframe tbody tr th {\n",
       "        vertical-align: top;\n",
       "    }\n",
       "\n",
       "    .dataframe thead th {\n",
       "        text-align: right;\n",
       "    }\n",
       "</style>\n",
       "<table border=\"1\" class=\"dataframe\">\n",
       "  <thead>\n",
       "    <tr style=\"text-align: right;\">\n",
       "      <th></th>\n",
       "      <th>Poverty</th>\n",
       "      <th>White</th>\n",
       "      <th>Traf Deaths</th>\n",
       "      <th>Unemployed</th>\n",
       "      <th>Income</th>\n",
       "      <th>Population</th>\n",
       "    </tr>\n",
       "  </thead>\n",
       "  <tbody>\n",
       "    <tr>\n",
       "      <th>Poverty</th>\n",
       "      <td>1.000000</td>\n",
       "      <td>-0.611186</td>\n",
       "      <td>0.207474</td>\n",
       "      <td>0.390783</td>\n",
       "      <td>-0.921306</td>\n",
       "      <td>0.365956</td>\n",
       "    </tr>\n",
       "    <tr>\n",
       "      <th>White</th>\n",
       "      <td>-0.611186</td>\n",
       "      <td>1.000000</td>\n",
       "      <td>0.126803</td>\n",
       "      <td>0.238841</td>\n",
       "      <td>-0.563089</td>\n",
       "      <td>0.223667</td>\n",
       "    </tr>\n",
       "    <tr>\n",
       "      <th>Traf Deaths</th>\n",
       "      <td>0.207474</td>\n",
       "      <td>0.126803</td>\n",
       "      <td>1.000000</td>\n",
       "      <td>-0.081081</td>\n",
       "      <td>0.191147</td>\n",
       "      <td>-0.075926</td>\n",
       "    </tr>\n",
       "    <tr>\n",
       "      <th>Unemployed</th>\n",
       "      <td>0.390783</td>\n",
       "      <td>0.238841</td>\n",
       "      <td>-0.081081</td>\n",
       "      <td>1.000000</td>\n",
       "      <td>0.360031</td>\n",
       "      <td>-0.143009</td>\n",
       "    </tr>\n",
       "    <tr>\n",
       "      <th>Income</th>\n",
       "      <td>-0.921306</td>\n",
       "      <td>-0.563089</td>\n",
       "      <td>0.191147</td>\n",
       "      <td>0.360031</td>\n",
       "      <td>1.000000</td>\n",
       "      <td>0.337157</td>\n",
       "    </tr>\n",
       "    <tr>\n",
       "      <th>Population</th>\n",
       "      <td>0.365956</td>\n",
       "      <td>0.223667</td>\n",
       "      <td>-0.075926</td>\n",
       "      <td>-0.143009</td>\n",
       "      <td>0.337157</td>\n",
       "      <td>1.000000</td>\n",
       "    </tr>\n",
       "  </tbody>\n",
       "</table>\n",
       "</div>"
      ],
      "text/plain": [
       "              Poverty     White  Traf Deaths  Unemployed    Income  Population\n",
       "Poverty      1.000000 -0.611186     0.207474    0.390783 -0.921306    0.365956\n",
       "White       -0.611186  1.000000     0.126803    0.238841 -0.563089    0.223667\n",
       "Traf Deaths  0.207474  0.126803     1.000000   -0.081081  0.191147   -0.075926\n",
       "Unemployed   0.390783  0.238841    -0.081081    1.000000  0.360031   -0.143009\n",
       "Income      -0.921306 -0.563089     0.191147    0.360031  1.000000    0.337157\n",
       "Population   0.365956  0.223667    -0.075926   -0.143009  0.337157    1.000000"
      ]
     },
     "execution_count": 341,
     "metadata": {},
     "output_type": "execute_result"
    }
   ],
   "source": [
    "pd.concat([t1,pd.DataFrame(zca.fit_transform(dataSet[chosen]),columns=chosen)],axis=1).pcorr()"
   ]
  },
  {
   "cell_type": "code",
   "execution_count": null,
   "id": "52687dd7-c69e-4d1b-865e-fdb78059fa44",
   "metadata": {},
   "outputs": [],
   "source": []
  },
  {
   "cell_type": "code",
   "execution_count": null,
   "id": "7fea8437-cd06-446a-a7ca-7af65761c876",
   "metadata": {},
   "outputs": [],
   "source": []
  }
 ],
 "metadata": {
  "kernelspec": {
   "display_name": "Python 3 (ipykernel)",
   "language": "python",
   "name": "python3"
  },
  "language_info": {
   "codemirror_mode": {
    "name": "ipython",
    "version": 3
   },
   "file_extension": ".py",
   "mimetype": "text/x-python",
   "name": "python",
   "nbconvert_exporter": "python",
   "pygments_lexer": "ipython3",
   "version": "3.9.6"
  }
 },
 "nbformat": 4,
 "nbformat_minor": 5
}
