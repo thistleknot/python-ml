{
 "cells": [
  {
   "cell_type": "code",
   "execution_count": 1,
   "id": "3ed6d235-1e58-4000-9e03-cb31972b05ed",
   "metadata": {},
   "outputs": [],
   "source": [
    "import pandas as pd\n",
    "import numpy as np\n",
    "from scipy import stats # For in-built method to get PCC\n",
    "import scipy\n",
    "from sklearn.model_selection import KFold\n",
    "import pingouin as pg\n",
    "from sklearn.preprocessing import StandardScaler\n",
    "scaler = StandardScaler()\n",
    "from zca import zca\n",
    "import seaborn as sns\n",
    "import sklearn.linear_model\n",
    "import statsmodels.api as sm\n",
    "from statsmodels.stats.outliers_influence import OLSInfluence\n",
    "import statsmodels.tools\n",
    "import matplotlib.pyplot as plt\n",
    "zca = zca.ZCA()"
   ]
  },
  {
   "cell_type": "code",
   "execution_count": 2,
   "id": "2e025827-a163-4dbd-a95c-1b8f922a438c",
   "metadata": {},
   "outputs": [
    {
     "data": {
      "text/plain": [
       "StandardScaler()"
      ]
     },
     "execution_count": 2,
     "metadata": {},
     "output_type": "execute_result"
    }
   ],
   "source": [
    "target = 'Poverty'\n",
    "\n",
    "all_data = pd.read_csv('../data/raw/states.csv')\n",
    "\n",
    "scaler.fit(np.array(all_data[target]).reshape(-1, 1))"
   ]
  },
  {
   "cell_type": "code",
   "execution_count": 3,
   "id": "72b48cda-f3fd-4b15-8877-04a2350cd84b",
   "metadata": {},
   "outputs": [
    {
     "data": {
      "text/plain": [
       "10"
      ]
     },
     "execution_count": 3,
     "metadata": {},
     "output_type": "execute_result"
    }
   ],
   "source": [
    "num_folds = 10\n",
    "kfold = KFold(n_splits=num_folds, shuffle=True)\n",
    "kfold.get_n_splits(all_data.index)"
   ]
  },
  {
   "cell_type": "code",
   "execution_count": 4,
   "id": "6f0d775f-2cf8-439e-b150-9d2d89865fb0",
   "metadata": {},
   "outputs": [],
   "source": [
    "def fit_linear_reg(X,Y,train_i,test_i):\n",
    "    #Fit linear regression model and return RSS and R squared values\n",
    "    model_k = linear_model.LinearRegression(fit_intercept = True)\n",
    "    model_k.fit(X.iloc[train_i],Y.iloc[train_i])\n",
    "    RSS = mean_squared_error(Y.iloc[test_i],model_k.predict(X.iloc[test_i])) * len(Y)\n",
    "    R_squared = model_k.score(X.iloc[test_i],Y.iloc[test_i])\n",
    "    return RSS, R_squared"
   ]
  },
  {
   "cell_type": "code",
   "execution_count": 6,
   "id": "8bc8189e-9489-4d30-b572-a609719e62eb",
   "metadata": {},
   "outputs": [],
   "source": [
    "exclude = 'States'\n",
    "\n",
    "sig_table = np.zeros(shape=(len(all_data.columns)))\n",
    "signs_table = np.zeros(shape=(len(all_data.columns)))\n",
    "\n",
    "p_threshold = .05\n",
    "\n",
    "from sklearn.model_selection import KFold, cross_val_score\n",
    "k_fold = KFold(n_splits=num_folds)\n",
    "train_ = []\n",
    "test_ = []\n",
    "for train_indices, test_indices in k_fold.split(all_data.index):\n",
    "    train_.append(train_indices)\n",
    "    test_.append(test_indices)\n",
    "\n",
    "for it in range(0,len(train_)):\n",
    "    max_pvalue = 1\n",
    "    train_index = train_[it]\n",
    "    test_index = test_[it]\n",
    "    #display(all_data.iloc[test_index].describe())\n",
    "    \n",
    "    subset = all_data.iloc[train_index].loc[:, ~all_data.columns.isin([exclude])]\n",
    "    \n",
    "    #skip y and states\n",
    "    set_ = subset.loc[:, ~subset.columns.isin([target])].columns.tolist()\n",
    "    \n",
    "    n=len(subset)\n",
    "    \n",
    "    while(max_pvalue>=.05):\n",
    "\n",
    "        dist = scipy.stats.beta(n/2 - 1, n/2 - 1, loc=-1, scale=2)\n",
    "        p_values = pd.DataFrame(2*dist.cdf(-abs(subset.pcorr()[target]))).T\n",
    "        p_values.columns = list(subset.columns)\n",
    "        \n",
    "        max_pname = p_values.idxmax(axis=1)[0]\n",
    "        max_pvalue = p_values[max_pname].values[0]\n",
    "        \n",
    "        if (max_pvalue > .05):\n",
    "\n",
    "            set_.remove(max_pname)\n",
    "            temp = [target]\n",
    "            temp.extend(set_)\n",
    "            subset = subset[temp]\n",
    "    \n",
    "    winners = p_values.loc[:, ~p_values.columns.isin([target])].columns.tolist()\n",
    "    sig_table = (sig_table + np.where(all_data.columns.isin(winners),1,0)).copy()\n",
    "    signs_table[all_data.columns.get_indexer(winners)]+=np.where(subset.pcorr()[target][winners]<0,-1,1)"
   ]
  },
  {
   "cell_type": "code",
   "execution_count": 7,
   "id": "1ed83fe8-c38e-4d62-bdec-8216a32b4e9f",
   "metadata": {},
   "outputs": [
    {
     "data": {
      "text/html": [
       "<div>\n",
       "<style scoped>\n",
       "    .dataframe tbody tr th:only-of-type {\n",
       "        vertical-align: middle;\n",
       "    }\n",
       "\n",
       "    .dataframe tbody tr th {\n",
       "        vertical-align: top;\n",
       "    }\n",
       "\n",
       "    .dataframe thead th {\n",
       "        text-align: right;\n",
       "    }\n",
       "</style>\n",
       "<table border=\"1\" class=\"dataframe\">\n",
       "  <thead>\n",
       "    <tr style=\"text-align: right;\">\n",
       "      <th></th>\n",
       "      <th>States</th>\n",
       "      <th>Poverty</th>\n",
       "      <th>Infant Mort</th>\n",
       "      <th>White</th>\n",
       "      <th>Crime</th>\n",
       "      <th>Doctors</th>\n",
       "      <th>Traf Deaths</th>\n",
       "      <th>University</th>\n",
       "      <th>Unemployed</th>\n",
       "      <th>Income</th>\n",
       "      <th>Population</th>\n",
       "    </tr>\n",
       "  </thead>\n",
       "  <tbody>\n",
       "    <tr>\n",
       "      <th>0</th>\n",
       "      <td>0.0</td>\n",
       "      <td>0.0</td>\n",
       "      <td>1.0</td>\n",
       "      <td>10.0</td>\n",
       "      <td>0.0</td>\n",
       "      <td>0.0</td>\n",
       "      <td>1.0</td>\n",
       "      <td>0.0</td>\n",
       "      <td>10.0</td>\n",
       "      <td>10.0</td>\n",
       "      <td>7.0</td>\n",
       "    </tr>\n",
       "  </tbody>\n",
       "</table>\n",
       "</div>"
      ],
      "text/plain": [
       "   States  Poverty  Infant Mort  White  Crime  Doctors  Traf Deaths  \\\n",
       "0     0.0      0.0          1.0   10.0    0.0      0.0          1.0   \n",
       "\n",
       "   University  Unemployed  Income  Population  \n",
       "0         0.0        10.0    10.0         7.0  "
      ]
     },
     "metadata": {},
     "output_type": "display_data"
    }
   ],
   "source": [
    "significance = pd.DataFrame(sig_table).T\n",
    "significance.columns = list(all_data.columns)\n",
    "display(significance)"
   ]
  },
  {
   "cell_type": "code",
   "execution_count": 8,
   "id": "0ee1f8be-8a27-4a1f-bb7d-47e96d42ea1e",
   "metadata": {},
   "outputs": [
    {
     "data": {
      "text/html": [
       "<div>\n",
       "<style scoped>\n",
       "    .dataframe tbody tr th:only-of-type {\n",
       "        vertical-align: middle;\n",
       "    }\n",
       "\n",
       "    .dataframe tbody tr th {\n",
       "        vertical-align: top;\n",
       "    }\n",
       "\n",
       "    .dataframe thead th {\n",
       "        text-align: right;\n",
       "    }\n",
       "</style>\n",
       "<table border=\"1\" class=\"dataframe\">\n",
       "  <thead>\n",
       "    <tr style=\"text-align: right;\">\n",
       "      <th></th>\n",
       "      <th>States</th>\n",
       "      <th>Poverty</th>\n",
       "      <th>Infant Mort</th>\n",
       "      <th>White</th>\n",
       "      <th>Crime</th>\n",
       "      <th>Doctors</th>\n",
       "      <th>Traf Deaths</th>\n",
       "      <th>University</th>\n",
       "      <th>Unemployed</th>\n",
       "      <th>Income</th>\n",
       "      <th>Population</th>\n",
       "    </tr>\n",
       "  </thead>\n",
       "  <tbody>\n",
       "    <tr>\n",
       "      <th>0</th>\n",
       "      <td>0.0</td>\n",
       "      <td>0.0</td>\n",
       "      <td>-1.0</td>\n",
       "      <td>-10.0</td>\n",
       "      <td>0.0</td>\n",
       "      <td>0.0</td>\n",
       "      <td>-1.0</td>\n",
       "      <td>0.0</td>\n",
       "      <td>10.0</td>\n",
       "      <td>-10.0</td>\n",
       "      <td>7.0</td>\n",
       "    </tr>\n",
       "  </tbody>\n",
       "</table>\n",
       "</div>"
      ],
      "text/plain": [
       "   States  Poverty  Infant Mort  White  Crime  Doctors  Traf Deaths  \\\n",
       "0     0.0      0.0         -1.0  -10.0    0.0      0.0         -1.0   \n",
       "\n",
       "   University  Unemployed  Income  Population  \n",
       "0         0.0        10.0   -10.0         7.0  "
      ]
     },
     "metadata": {},
     "output_type": "display_data"
    }
   ],
   "source": [
    "sign = pd.DataFrame(signs_table).T\n",
    "sign.columns = list(all_data.columns)\n",
    "display(sign)\n"
   ]
  },
  {
   "cell_type": "code",
   "execution_count": 9,
   "id": "320e9613-c6eb-45f6-9d24-18cba70c68fc",
   "metadata": {},
   "outputs": [
    {
     "data": {
      "text/html": [
       "<div>\n",
       "<style scoped>\n",
       "    .dataframe tbody tr th:only-of-type {\n",
       "        vertical-align: middle;\n",
       "    }\n",
       "\n",
       "    .dataframe tbody tr th {\n",
       "        vertical-align: top;\n",
       "    }\n",
       "\n",
       "    .dataframe thead th {\n",
       "        text-align: right;\n",
       "    }\n",
       "</style>\n",
       "<table border=\"1\" class=\"dataframe\">\n",
       "  <thead>\n",
       "    <tr style=\"text-align: right;\">\n",
       "      <th></th>\n",
       "      <th>States</th>\n",
       "      <th>Poverty</th>\n",
       "      <th>Infant Mort</th>\n",
       "      <th>White</th>\n",
       "      <th>Crime</th>\n",
       "      <th>Doctors</th>\n",
       "      <th>Traf Deaths</th>\n",
       "      <th>University</th>\n",
       "      <th>Unemployed</th>\n",
       "      <th>Income</th>\n",
       "      <th>Population</th>\n",
       "    </tr>\n",
       "  </thead>\n",
       "  <tbody>\n",
       "    <tr>\n",
       "      <th>0</th>\n",
       "      <td>0.0</td>\n",
       "      <td>0.0</td>\n",
       "      <td>0.1</td>\n",
       "      <td>1.0</td>\n",
       "      <td>0.0</td>\n",
       "      <td>0.0</td>\n",
       "      <td>0.1</td>\n",
       "      <td>0.0</td>\n",
       "      <td>1.0</td>\n",
       "      <td>1.0</td>\n",
       "      <td>0.7</td>\n",
       "    </tr>\n",
       "  </tbody>\n",
       "</table>\n",
       "</div>"
      ],
      "text/plain": [
       "   States  Poverty  Infant Mort  White  Crime  Doctors  Traf Deaths  \\\n",
       "0     0.0      0.0          0.1    1.0    0.0      0.0          0.1   \n",
       "\n",
       "   University  Unemployed  Income  Population  \n",
       "0         0.0         1.0     1.0         0.7  "
      ]
     },
     "metadata": {},
     "output_type": "display_data"
    }
   ],
   "source": [
    "purity = abs((sign/num_folds)*(sign/significance)).T.replace([np.inf, -np.inf, np.NaN], 0)\n",
    "display(purity.T)"
   ]
  },
  {
   "cell_type": "code",
   "execution_count": null,
   "id": "cb81baba-ae48-4ec0-8204-130094f974cd",
   "metadata": {},
   "outputs": [],
   "source": []
  },
  {
   "cell_type": "code",
   "execution_count": null,
   "id": "d02c08fe-e0e5-4ae2-a5ed-3ab7fdf68ef7",
   "metadata": {},
   "outputs": [],
   "source": []
  },
  {
   "cell_type": "code",
   "execution_count": 10,
   "id": "6c222cbc-da64-4d41-ba3d-5358319d35f4",
   "metadata": {},
   "outputs": [],
   "source": [
    "threshold = 0\n",
    "\n",
    "chosen = list(purity.T.columns.values[np.array(purity.T>threshold).reshape(len(all_data.columns,))])\n",
    "dataSet = pd.concat([all_data[target],all_data[chosen]],axis=1)\n",
    "y_scaled = pd.DataFrame(scaler.transform(np.array(dataSet[target]).reshape(-1, 1)))\n",
    "y_scaled.columns=[target]\n"
   ]
  },
  {
   "cell_type": "code",
   "execution_count": 11,
   "id": "9f3f56aa-9607-46d1-a304-7d607c33b362",
   "metadata": {},
   "outputs": [
    {
     "data": {
      "text/plain": [
       "['Infant Mort', 'White', 'Traf Deaths', 'Unemployed', 'Income', 'Population']"
      ]
     },
     "metadata": {},
     "output_type": "display_data"
    }
   ],
   "source": [
    "display(chosen)"
   ]
  },
  {
   "cell_type": "code",
   "execution_count": null,
   "id": "17d5f67e-8478-4145-89f2-c678c4e227bd",
   "metadata": {},
   "outputs": [],
   "source": []
  },
  {
   "cell_type": "code",
   "execution_count": 12,
   "id": "21e034cb-e569-4454-9ecc-56bd606fb9cd",
   "metadata": {},
   "outputs": [
    {
     "name": "stderr",
     "output_type": "stream",
     "text": [
      "C:\\Users\\User\\AppData\\Local\\Temp/ipykernel_20836/500784623.py:16: TqdmDeprecationWarning: Please use `tqdm.notebook.trange` instead of `tqdm.tnrange`\n",
      "  for k in tnrange(1,len(X.columns) + 1, desc = 'Loop...'):\n"
     ]
    },
    {
     "data": {
      "application/vnd.jupyter.widget-view+json": {
       "model_id": "63a64f222a5c4f39904f5b770e5a09a5",
       "version_major": 2,
       "version_minor": 0
      },
      "text/plain": [
       "Loop...:   0%|          | 0/6 [00:00<?, ?it/s]"
      ]
     },
     "metadata": {},
     "output_type": "display_data"
    }
   ],
   "source": [
    "#Importing tqdm for the progress bar\n",
    "from tqdm import tnrange, tqdm_notebook\n",
    "import itertools\n",
    "from sklearn import linear_model\n",
    "from sklearn.metrics import mean_squared_error\n",
    "\n",
    "#Initialization variables\n",
    "Y = all_data[target]\n",
    "#X = all_data.iloc[:,2:]\n",
    "X = all_data[chosen]\n",
    "k = 10\n",
    "RSS_list, R_squared_list, feature_list = [],[], []\n",
    "numb_features = []\n",
    "\n",
    "#Looping over k = 1 to k = 11 features in X\n",
    "for k in tnrange(1,len(X.columns) + 1, desc = 'Loop...'):\n",
    "\n",
    "    #Looping over all possible combinations: from 11 choose k\n",
    "    for combo in itertools.combinations(X.columns,k):\n",
    "        #display(all_data.iloc[test_index].describe())\n",
    "        tmp_result = []\n",
    "        for it in range(0,len(train_)):\n",
    "            tmp_result.append(fit_linear_reg(X[list(combo)],Y,train_[it],test_[it]))   #Store temp result )\n",
    "        \n",
    "        RSS_list.append(np.average(tmp_result,axis=0)[0])                  #Append lists\n",
    "        R_squared_list.append(np.average(tmp_result,axis=0)[1])\n",
    "        feature_list.append(combo)\n",
    "        numb_features.append(len(combo))   \n",
    "\n",
    "#Store in DataFrame\n",
    "df = pd.DataFrame({'numb_features': numb_features,'RSS': RSS_list, 'R_squared':R_squared_list,'features':feature_list})"
   ]
  },
  {
   "cell_type": "code",
   "execution_count": null,
   "id": "3c0ec11b-f7a4-4f92-9fff-2d3429fc699a",
   "metadata": {},
   "outputs": [],
   "source": []
  },
  {
   "cell_type": "code",
   "execution_count": 13,
   "id": "bf62f41c-85eb-41c4-a8de-af53a33eaf48",
   "metadata": {},
   "outputs": [],
   "source": [
    "df['min_RSS'] = df.groupby('numb_features')['RSS'].transform(min)\n",
    "df['max_R_squared'] = df.groupby('numb_features')['R_squared'].transform(max)"
   ]
  },
  {
   "cell_type": "code",
   "execution_count": null,
   "id": "250cef2d-19ca-429b-aa60-006120d15712",
   "metadata": {},
   "outputs": [],
   "source": []
  },
  {
   "cell_type": "code",
   "execution_count": 14,
   "id": "8f71b6db-cc0b-4d2c-aa22-7594d0e9dd1e",
   "metadata": {},
   "outputs": [],
   "source": [
    "df_min = df[df.groupby('numb_features')['RSS'].transform(min) == df['RSS']]\n",
    "df_max = df[df.groupby('numb_features')['R_squared'].transform(max) == df['R_squared']]\n"
   ]
  },
  {
   "cell_type": "code",
   "execution_count": null,
   "id": "3cef2672-b6d9-4207-bdcf-7084210f044c",
   "metadata": {},
   "outputs": [],
   "source": []
  },
  {
   "cell_type": "code",
   "execution_count": null,
   "id": "a685d780-0fd5-41e1-9498-6813d00161c7",
   "metadata": {},
   "outputs": [],
   "source": []
  },
  {
   "cell_type": "code",
   "execution_count": 15,
   "id": "2a4d0f6a-3efc-4d9e-8fb5-30ff881f389d",
   "metadata": {},
   "outputs": [],
   "source": [
    "CV_parse = list(df_min[(df_min['RSS']<=(np.min(df_min['RSS'])+np.std(df_min['RSS'])))].sort_values(kind=\"quicksort\", ascending=True, by='numb_features',key=abs).iloc[0]['features'])"
   ]
  },
  {
   "cell_type": "code",
   "execution_count": 26,
   "id": "9d8b9a38-5bbd-4ef2-87a3-12587ddf50d4",
   "metadata": {},
   "outputs": [
    {
     "data": {
      "text/plain": [
       "['White', 'Unemployed', 'Income']"
      ]
     },
     "metadata": {},
     "output_type": "display_data"
    }
   ],
   "source": [
    "display(CV_parse)"
   ]
  },
  {
   "cell_type": "code",
   "execution_count": 16,
   "id": "d1c2462d-0b37-470c-983c-a47ca192f708",
   "metadata": {},
   "outputs": [],
   "source": [
    "zca_data = pd.concat([y_scaled,pd.DataFrame(zca.fit_transform(dataSet[CV_parse]),columns=CV_parse)],axis=1)"
   ]
  },
  {
   "cell_type": "code",
   "execution_count": 17,
   "id": "52687dd7-c69e-4d1b-865e-fdb78059fa44",
   "metadata": {},
   "outputs": [
    {
     "data": {
      "text/html": [
       "<div>\n",
       "<style scoped>\n",
       "    .dataframe tbody tr th:only-of-type {\n",
       "        vertical-align: middle;\n",
       "    }\n",
       "\n",
       "    .dataframe tbody tr th {\n",
       "        vertical-align: top;\n",
       "    }\n",
       "\n",
       "    .dataframe thead th {\n",
       "        text-align: right;\n",
       "    }\n",
       "</style>\n",
       "<table border=\"1\" class=\"dataframe\">\n",
       "  <thead>\n",
       "    <tr style=\"text-align: right;\">\n",
       "      <th></th>\n",
       "      <th>Poverty</th>\n",
       "      <th>White</th>\n",
       "      <th>Unemployed</th>\n",
       "      <th>Income</th>\n",
       "    </tr>\n",
       "  </thead>\n",
       "  <tbody>\n",
       "    <tr>\n",
       "      <th>Poverty</th>\n",
       "      <td>1.000000</td>\n",
       "      <td>-0.616843</td>\n",
       "      <td>0.485855</td>\n",
       "      <td>-0.903453</td>\n",
       "    </tr>\n",
       "    <tr>\n",
       "      <th>White</th>\n",
       "      <td>-0.616843</td>\n",
       "      <td>1.000000</td>\n",
       "      <td>0.299696</td>\n",
       "      <td>-0.557289</td>\n",
       "    </tr>\n",
       "    <tr>\n",
       "      <th>Unemployed</th>\n",
       "      <td>0.485855</td>\n",
       "      <td>0.299696</td>\n",
       "      <td>1.000000</td>\n",
       "      <td>0.438948</td>\n",
       "    </tr>\n",
       "    <tr>\n",
       "      <th>Income</th>\n",
       "      <td>-0.903453</td>\n",
       "      <td>-0.557289</td>\n",
       "      <td>0.438948</td>\n",
       "      <td>1.000000</td>\n",
       "    </tr>\n",
       "  </tbody>\n",
       "</table>\n",
       "</div>"
      ],
      "text/plain": [
       "             Poverty     White  Unemployed    Income\n",
       "Poverty     1.000000 -0.616843    0.485855 -0.903453\n",
       "White      -0.616843  1.000000    0.299696 -0.557289\n",
       "Unemployed  0.485855  0.299696    1.000000  0.438948\n",
       "Income     -0.903453 -0.557289    0.438948  1.000000"
      ]
     },
     "execution_count": 17,
     "metadata": {},
     "output_type": "execute_result"
    }
   ],
   "source": [
    "zca_data.pcorr()"
   ]
  },
  {
   "cell_type": "code",
   "execution_count": 18,
   "id": "827aace5-3f19-4a70-be6d-499f6261ebbb",
   "metadata": {},
   "outputs": [
    {
     "data": {
      "text/plain": [
       "<seaborn.axisgrid.PairGrid at 0x2bfd1ed50a0>"
      ]
     },
     "execution_count": 18,
     "metadata": {},
     "output_type": "execute_result"
    },
    {
     "data": {
      "image/png": "[encoded data removed]",
      "text/plain": [
       "<Figure size 720x720 with 20 Axes>"
      ]
     },
     "metadata": {
      "needs_background": "light"
     },
     "output_type": "display_data"
    }
   ],
   "source": [
    "sns.pairplot(zca_data,kind=\"reg\", plot_kws={'line_kws':{'color':'red'}})"
   ]
  },
  {
   "cell_type": "code",
   "execution_count": null,
   "id": "37eb6479-5110-48d7-bc8b-04110de77d5c",
   "metadata": {},
   "outputs": [],
   "source": []
  },
  {
   "cell_type": "code",
   "execution_count": null,
   "id": "fced5f45-720d-48f6-9fb5-c9ac811d2c5f",
   "metadata": {},
   "outputs": [],
   "source": []
  },
  {
   "cell_type": "code",
   "execution_count": null,
   "id": "c53eaeaa-8932-4943-af7e-39b1a8d6694b",
   "metadata": {},
   "outputs": [],
   "source": []
  },
  {
   "cell_type": "code",
   "execution_count": 19,
   "id": "7fea8437-cd06-446a-a7ca-7af65761c876",
   "metadata": {},
   "outputs": [],
   "source": [
    "\n",
    "#model = sklearn.linear_model.LinearRegression()\n",
    "data_set_wConstant = statsmodels.tools.tools.add_constant(zca_data)\n",
    "y = data_set_wConstant[target]\n",
    "X = data_set_wConstant[data_set_wConstant.columns.drop(target)]\n",
    "#results = model.fit(X, y)\n",
    "model = sm.OLS(y,X)\n",
    "results = model.fit()"
   ]
  },
  {
   "cell_type": "code",
   "execution_count": 20,
   "id": "516bc53d-7a31-4b66-959e-d5b9e049df38",
   "metadata": {},
   "outputs": [
    {
     "data": {
      "text/html": [
       "<table class=\"simpletable\">\n",
       "<caption>OLS Regression Results</caption>\n",
       "<tr>\n",
       "  <th>Dep. Variable:</th>         <td>Poverty</td>     <th>  R-squared:         </th> <td>   0.843</td>\n",
       "</tr>\n",
       "<tr>\n",
       "  <th>Model:</th>                   <td>OLS</td>       <th>  Adj. R-squared:    </th> <td>   0.833</td>\n",
       "</tr>\n",
       "<tr>\n",
       "  <th>Method:</th>             <td>Least Squares</td>  <th>  F-statistic:       </th> <td>   82.26</td>\n",
       "</tr>\n",
       "<tr>\n",
       "  <th>Date:</th>             <td>Tue, 03 Aug 2021</td> <th>  Prob (F-statistic):</th> <td>1.65e-18</td>\n",
       "</tr>\n",
       "<tr>\n",
       "  <th>Time:</th>                 <td>18:26:27</td>     <th>  Log-Likelihood:    </th> <td> -24.678</td>\n",
       "</tr>\n",
       "<tr>\n",
       "  <th>No. Observations:</th>      <td>    50</td>      <th>  AIC:               </th> <td>   57.36</td>\n",
       "</tr>\n",
       "<tr>\n",
       "  <th>Df Residuals:</th>          <td>    46</td>      <th>  BIC:               </th> <td>   65.00</td>\n",
       "</tr>\n",
       "<tr>\n",
       "  <th>Df Model:</th>              <td>     3</td>      <th>                     </th>     <td> </td>   \n",
       "</tr>\n",
       "<tr>\n",
       "  <th>Covariance Type:</th>      <td>nonrobust</td>    <th>                     </th>     <td> </td>   \n",
       "</tr>\n",
       "</table>\n",
       "<table class=\"simpletable\">\n",
       "<tr>\n",
       "       <td></td>         <th>coef</th>     <th>std err</th>      <th>t</th>      <th>P>|t|</th>  <th>[0.025</th>    <th>0.975]</th>  \n",
       "</tr>\n",
       "<tr>\n",
       "  <th>const</th>      <td> 8.743e-16</td> <td>    0.058</td> <td>  1.5e-14</td> <td> 1.000</td> <td>   -0.118</td> <td>    0.118</td>\n",
       "</tr>\n",
       "<tr>\n",
       "  <th>White</th>      <td>   -0.3138</td> <td>    0.059</td> <td>   -5.315</td> <td> 0.000</td> <td>   -0.433</td> <td>   -0.195</td>\n",
       "</tr>\n",
       "<tr>\n",
       "  <th>Unemployed</th> <td>    0.2226</td> <td>    0.059</td> <td>    3.770</td> <td> 0.000</td> <td>    0.104</td> <td>    0.341</td>\n",
       "</tr>\n",
       "<tr>\n",
       "  <th>Income</th>     <td>   -0.8438</td> <td>    0.059</td> <td>  -14.294</td> <td> 0.000</td> <td>   -0.963</td> <td>   -0.725</td>\n",
       "</tr>\n",
       "</table>\n",
       "<table class=\"simpletable\">\n",
       "<tr>\n",
       "  <th>Omnibus:</th>       <td> 5.250</td> <th>  Durbin-Watson:     </th> <td>   1.757</td>\n",
       "</tr>\n",
       "<tr>\n",
       "  <th>Prob(Omnibus):</th> <td> 0.072</td> <th>  Jarque-Bera (JB):  </th> <td>   4.127</td>\n",
       "</tr>\n",
       "<tr>\n",
       "  <th>Skew:</th>          <td> 0.584</td> <th>  Prob(JB):          </th> <td>   0.127</td>\n",
       "</tr>\n",
       "<tr>\n",
       "  <th>Kurtosis:</th>      <td> 2.215</td> <th>  Cond. No.          </th> <td>    1.01</td>\n",
       "</tr>\n",
       "</table><br/><br/>Notes:<br/>[1] Standard Errors assume that the covariance matrix of the errors is correctly specified."
      ],
      "text/plain": [
       "<class 'statsmodels.iolib.summary.Summary'>\n",
       "\"\"\"\n",
       "                            OLS Regression Results                            \n",
       "==============================================================================\n",
       "Dep. Variable:                Poverty   R-squared:                       0.843\n",
       "Model:                            OLS   Adj. R-squared:                  0.833\n",
       "Method:                 Least Squares   F-statistic:                     82.26\n",
       "Date:                Tue, 03 Aug 2021   Prob (F-statistic):           1.65e-18\n",
       "Time:                        18:26:27   Log-Likelihood:                -24.678\n",
       "No. Observations:                  50   AIC:                             57.36\n",
       "Df Residuals:                      46   BIC:                             65.00\n",
       "Df Model:                           3                                         \n",
       "Covariance Type:            nonrobust                                         \n",
       "==============================================================================\n",
       "                 coef    std err          t      P>|t|      [0.025      0.975]\n",
       "------------------------------------------------------------------------------\n",
       "const       8.743e-16      0.058    1.5e-14      1.000      -0.118       0.118\n",
       "White         -0.3138      0.059     -5.315      0.000      -0.433      -0.195\n",
       "Unemployed     0.2226      0.059      3.770      0.000       0.104       0.341\n",
       "Income        -0.8438      0.059    -14.294      0.000      -0.963      -0.725\n",
       "==============================================================================\n",
       "Omnibus:                        5.250   Durbin-Watson:                   1.757\n",
       "Prob(Omnibus):                  0.072   Jarque-Bera (JB):                4.127\n",
       "Skew:                           0.584   Prob(JB):                        0.127\n",
       "Kurtosis:                       2.215   Cond. No.                         1.01\n",
       "==============================================================================\n",
       "\n",
       "Notes:\n",
       "[1] Standard Errors assume that the covariance matrix of the errors is correctly specified.\n",
       "\"\"\""
      ]
     },
     "execution_count": 20,
     "metadata": {},
     "output_type": "execute_result"
    }
   ],
   "source": [
    "results.summary()"
   ]
  },
  {
   "cell_type": "code",
   "execution_count": 21,
   "id": "3b119379-7f8d-469a-a77a-6c798efd2118",
   "metadata": {},
   "outputs": [
    {
     "data": {
      "text/plain": [
       "array([[<AxesSubplot:title={'center':'0'}>]], dtype=object)"
      ]
     },
     "execution_count": 21,
     "metadata": {},
     "output_type": "execute_result"
    },
    {
     "data": {
      "image/png": "[encoded data removed]",
      "text/plain": [
       "<Figure size 432x288 with 1 Axes>"
      ]
     },
     "metadata": {
      "needs_background": "light"
     },
     "output_type": "display_data"
    }
   ],
   "source": [
    "pd.DataFrame(results.get_influence().resid_studentized_internal).hist()"
   ]
  },
  {
   "cell_type": "code",
   "execution_count": 22,
   "id": "1e536ba4-9b94-4399-b9db-6a7d60961d38",
   "metadata": {},
   "outputs": [
    {
     "data": {
      "text/plain": [
       "[<matplotlib.lines.Line2D at 0x2bfd5c2aca0>]"
      ]
     },
     "execution_count": 22,
     "metadata": {},
     "output_type": "execute_result"
    },
    {
     "data": {
      "image/png": "[encoded data removed]",
      "text/plain": [
       "<Figure size 432x288 with 1 Axes>"
      ]
     },
     "metadata": {
      "needs_background": "light"
     },
     "output_type": "display_data"
    }
   ],
   "source": [
    "plt.scatter(results.fittedvalues*scaler.scale_[0] + scaler.mean_[0], y*scaler.scale_[0] + scaler.mean_[0])\n",
    "\n",
    "m, b = np.polyfit(results.fittedvalues*scaler.scale_[0] + scaler.mean_[0], y*scaler.scale_[0] + scaler.mean_[0], 1)\n",
    "plt.plot(results.fittedvalues*scaler.scale_[0] + scaler.mean_[0], m*results.fittedvalues*scaler.scale_[0] + scaler.mean_[0] + b)"
   ]
  },
  {
   "cell_type": "code",
   "execution_count": 23,
   "id": "6bf949e2-12ab-4616-a550-e10568f3256d",
   "metadata": {},
   "outputs": [
    {
     "name": "stdout",
     "output_type": "stream",
     "text": [
      "1.0000000000000002\n",
      "-2.009718347115232e-15\n"
     ]
    }
   ],
   "source": [
    "print(m)\n",
    "print(b)"
   ]
  },
  {
   "cell_type": "code",
   "execution_count": 24,
   "id": "1779ec8e-f152-4f13-9fe7-299d8c0ca2f3",
   "metadata": {},
   "outputs": [],
   "source": [
    "\n",
    "# ransac regression on a dataset with outliers\n",
    "import pandas as pd\n",
    "from random import random\n",
    "from random import randint\n",
    "from random import seed\n",
    "from numpy import arange\n",
    "from numpy import mean\n",
    "from numpy import std\n",
    "from numpy import absolute\n",
    "from sklearn.datasets import make_regression\n",
    "from sklearn.linear_model import RANSACRegressor\n",
    "from sklearn.model_selection import cross_val_score\n",
    "from sklearn.model_selection import RepeatedKFold\n",
    "from matplotlib import pyplot\n",
    "\n",
    "# evaluate a model\n",
    "def evaluate_model(X, y, model):\n",
    "\t# define model evaluation method\n",
    "\tcv = RepeatedKFold(n_splits=10, n_repeats=3, random_state=1)\n",
    "\t# evaluate model\n",
    "\tscores = cross_val_score(model, X, y, scoring='neg_mean_absolute_error', cv=cv, n_jobs=-1)\n",
    "\t# force scores to be positive\n",
    "\treturn absolute(scores)\n",
    "\n",
    "# plot the dataset and the model's line of best fit\n",
    "def plot_best_fit(X, y, model):\n",
    "\t# fut the model on all data\n",
    "\tmodel.fit(X, y)\n",
    "\t# plot the dataset\n",
    "\tpyplot.scatter(X, y)\n",
    "\t# plot the line of best fit\n",
    "\txaxis = arange(X.min(), X.max(), 0.01)\n",
    "\tyaxis = model.predict(xaxis.reshape((len(xaxis), 1)))\n",
    "\tpyplot.plot(xaxis, yaxis, color='r')\n",
    "\t# show the plot\n",
    "\tpyplot.title(type(model).__name__)\n",
    "\tpyplot.show()\n",
    "\n",
    "\n"
   ]
  },
  {
   "cell_type": "code",
   "execution_count": null,
   "id": "4daddcbf-634b-4a27-b7f0-137dcf37b4fd",
   "metadata": {},
   "outputs": [],
   "source": []
  },
  {
   "cell_type": "code",
   "execution_count": 25,
   "id": "2fc8d8ec-72ea-408e-936e-36f6dc07bc16",
   "metadata": {},
   "outputs": [
    {
     "name": "stdout",
     "output_type": "stream",
     "text": [
      "Mean MAE: 0.402 (0.117)\n"
     ]
    },
    {
     "data": {
      "image/png": "[encoded data removed]",
      "text/plain": [
       "<Figure size 432x288 with 1 Axes>"
      ]
     },
     "metadata": {
      "needs_background": "light"
     },
     "output_type": "display_data"
    }
   ],
   "source": [
    "\n",
    "# define the model\n",
    "model = RANSACRegressor()\n",
    "# evaluate model\n",
    "results = evaluate_model(X.loc[:, ~X.columns.isin(['const'])], y, model)\n",
    "print('Mean MAE: %.3f (%.3f)' % (mean(results), std(results)))\n",
    "# plot the line of best fit\n",
    "results = model.fit(X.loc[:, ~X.columns.isin(['const'])],y)\n",
    "plot_best_fit(results.predict(X.loc[:, ~X.columns.isin(['const'])]).reshape(-1, 1), y, model)"
   ]
  }
 ],
 "metadata": {
  "kernelspec": {
   "display_name": "Python 3 (ipykernel)",
   "language": "python",
   "name": "python3"
  },
  "language_info": {
   "codemirror_mode": {
    "name": "ipython",
    "version": 3
   },
   "file_extension": ".py",
   "mimetype": "text/x-python",
   "name": "python",
   "nbconvert_exporter": "python",
   "pygments_lexer": "ipython3",
   "version": "3.9.6"
  }
 },
 "nbformat": 4,
 "nbformat_minor": 5
}
